{
 "cells": [
  {
   "cell_type": "code",
   "execution_count": 2,
   "metadata": {},
   "outputs": [],
   "source": [
    "import pandas as pd\n",
    "import numpy as np\n",
    "%matplotlib inline\n",
    "import cufflinks as cf"
   ]
  },
  {
   "cell_type": "code",
   "execution_count": 3,
   "metadata": {},
   "outputs": [
    {
     "data": {
      "text/html": [
       "        <script type=\"text/javascript\">\n",
       "        window.PlotlyConfig = {MathJaxConfig: 'local'};\n",
       "        if (window.MathJax) {MathJax.Hub.Config({SVG: {font: \"STIX-Web\"}});}\n",
       "        if (typeof require !== 'undefined') {\n",
       "        require.undef(\"plotly\");\n",
       "        requirejs.config({\n",
       "            paths: {\n",
       "                'plotly': ['https://cdn.plot.ly/plotly-latest.min']\n",
       "            }\n",
       "        });\n",
       "        require(['plotly'], function(Plotly) {\n",
       "            window._Plotly = Plotly;\n",
       "        });\n",
       "        }\n",
       "        </script>\n",
       "        "
      ]
     },
     "metadata": {},
     "output_type": "display_data"
    }
   ],
   "source": [
    "cf.go_offline()"
   ]
  },
  {
   "cell_type": "code",
   "execution_count": 4,
   "metadata": {},
   "outputs": [],
   "source": [
    "from plotly.offline import download_plotlyjs,init_notebook_mode,plot,iplot"
   ]
  },
  {
   "cell_type": "code",
   "execution_count": 5,
   "metadata": {},
   "outputs": [
    {
     "data": {
      "text/html": [
       "        <script type=\"text/javascript\">\n",
       "        window.PlotlyConfig = {MathJaxConfig: 'local'};\n",
       "        if (window.MathJax) {MathJax.Hub.Config({SVG: {font: \"STIX-Web\"}});}\n",
       "        if (typeof require !== 'undefined') {\n",
       "        require.undef(\"plotly\");\n",
       "        requirejs.config({\n",
       "            paths: {\n",
       "                'plotly': ['https://cdn.plot.ly/plotly-latest.min']\n",
       "            }\n",
       "        });\n",
       "        require(['plotly'], function(Plotly) {\n",
       "            window._Plotly = Plotly;\n",
       "        });\n",
       "        }\n",
       "        </script>\n",
       "        "
      ]
     },
     "metadata": {},
     "output_type": "display_data"
    }
   ],
   "source": [
    "init_notebook_mode(connected=True)"
   ]
  },
  {
   "cell_type": "code",
   "execution_count": 6,
   "metadata": {},
   "outputs": [],
   "source": [
    "confirmed = pd.read_csv(\"https://raw.githubusercontent.com/CSSEGISandData/COVID-19/master/csse_covid_19_data/csse_covid_19_time_series/time_series_covid19_confirmed_global.csv\")"
   ]
  },
  {
   "cell_type": "code",
   "execution_count": 7,
   "metadata": {},
   "outputs": [],
   "source": [
    "deaths=pd.read_csv(\"https://raw.githubusercontent.com/CSSEGISandData/COVID-19/master/csse_covid_19_data/csse_covid_19_time_series/time_series_covid19_deaths_global.csv\")"
   ]
  },
  {
   "cell_type": "code",
   "execution_count": 8,
   "metadata": {},
   "outputs": [],
   "source": [
    "recovered=pd.read_csv(\"https://raw.githubusercontent.com/CSSEGISandData/COVID-19/master/csse_covid_19_data/csse_covid_19_time_series/time_series_covid19_recovered_global.csv\")"
   ]
  },
  {
   "cell_type": "code",
   "execution_count": 9,
   "metadata": {},
   "outputs": [],
   "source": [
    "country=pd.read_csv(\"https://raw.githubusercontent.com/CSSEGISandData/COVID-19/web-data/data/cases_country.csv\")"
   ]
  },
  {
   "cell_type": "code",
   "execution_count": 10,
   "metadata": {},
   "outputs": [
    {
     "data": {
      "text/html": [
       "<div>\n",
       "<style scoped>\n",
       "    .dataframe tbody tr th:only-of-type {\n",
       "        vertical-align: middle;\n",
       "    }\n",
       "\n",
       "    .dataframe tbody tr th {\n",
       "        vertical-align: top;\n",
       "    }\n",
       "\n",
       "    .dataframe thead th {\n",
       "        text-align: right;\n",
       "    }\n",
       "</style>\n",
       "<table border=\"1\" class=\"dataframe\">\n",
       "  <thead>\n",
       "    <tr style=\"text-align: right;\">\n",
       "      <th></th>\n",
       "      <th>Province/State</th>\n",
       "      <th>Country/Region</th>\n",
       "      <th>Lat</th>\n",
       "      <th>Long</th>\n",
       "      <th>1/22/20</th>\n",
       "      <th>1/23/20</th>\n",
       "      <th>1/24/20</th>\n",
       "      <th>1/25/20</th>\n",
       "      <th>1/26/20</th>\n",
       "      <th>1/27/20</th>\n",
       "      <th>...</th>\n",
       "      <th>6/27/20</th>\n",
       "      <th>6/28/20</th>\n",
       "      <th>6/29/20</th>\n",
       "      <th>6/30/20</th>\n",
       "      <th>7/1/20</th>\n",
       "      <th>7/2/20</th>\n",
       "      <th>7/3/20</th>\n",
       "      <th>7/4/20</th>\n",
       "      <th>7/5/20</th>\n",
       "      <th>7/6/20</th>\n",
       "    </tr>\n",
       "  </thead>\n",
       "  <tbody>\n",
       "    <tr>\n",
       "      <td>0</td>\n",
       "      <td>NaN</td>\n",
       "      <td>Afghanistan</td>\n",
       "      <td>33.0000</td>\n",
       "      <td>65.0000</td>\n",
       "      <td>0</td>\n",
       "      <td>0</td>\n",
       "      <td>0</td>\n",
       "      <td>0</td>\n",
       "      <td>0</td>\n",
       "      <td>0</td>\n",
       "      <td>...</td>\n",
       "      <td>30616</td>\n",
       "      <td>30967</td>\n",
       "      <td>31238</td>\n",
       "      <td>31517</td>\n",
       "      <td>31836</td>\n",
       "      <td>32022</td>\n",
       "      <td>32324</td>\n",
       "      <td>32672</td>\n",
       "      <td>32951</td>\n",
       "      <td>33190</td>\n",
       "    </tr>\n",
       "    <tr>\n",
       "      <td>1</td>\n",
       "      <td>NaN</td>\n",
       "      <td>Albania</td>\n",
       "      <td>41.1533</td>\n",
       "      <td>20.1683</td>\n",
       "      <td>0</td>\n",
       "      <td>0</td>\n",
       "      <td>0</td>\n",
       "      <td>0</td>\n",
       "      <td>0</td>\n",
       "      <td>0</td>\n",
       "      <td>...</td>\n",
       "      <td>2330</td>\n",
       "      <td>2402</td>\n",
       "      <td>2466</td>\n",
       "      <td>2535</td>\n",
       "      <td>2580</td>\n",
       "      <td>2662</td>\n",
       "      <td>2752</td>\n",
       "      <td>2819</td>\n",
       "      <td>2893</td>\n",
       "      <td>2964</td>\n",
       "    </tr>\n",
       "    <tr>\n",
       "      <td>2</td>\n",
       "      <td>NaN</td>\n",
       "      <td>Algeria</td>\n",
       "      <td>28.0339</td>\n",
       "      <td>1.6596</td>\n",
       "      <td>0</td>\n",
       "      <td>0</td>\n",
       "      <td>0</td>\n",
       "      <td>0</td>\n",
       "      <td>0</td>\n",
       "      <td>0</td>\n",
       "      <td>...</td>\n",
       "      <td>12968</td>\n",
       "      <td>13273</td>\n",
       "      <td>13571</td>\n",
       "      <td>13907</td>\n",
       "      <td>14272</td>\n",
       "      <td>14657</td>\n",
       "      <td>15070</td>\n",
       "      <td>15500</td>\n",
       "      <td>15941</td>\n",
       "      <td>16404</td>\n",
       "    </tr>\n",
       "    <tr>\n",
       "      <td>3</td>\n",
       "      <td>NaN</td>\n",
       "      <td>Andorra</td>\n",
       "      <td>42.5063</td>\n",
       "      <td>1.5218</td>\n",
       "      <td>0</td>\n",
       "      <td>0</td>\n",
       "      <td>0</td>\n",
       "      <td>0</td>\n",
       "      <td>0</td>\n",
       "      <td>0</td>\n",
       "      <td>...</td>\n",
       "      <td>855</td>\n",
       "      <td>855</td>\n",
       "      <td>855</td>\n",
       "      <td>855</td>\n",
       "      <td>855</td>\n",
       "      <td>855</td>\n",
       "      <td>855</td>\n",
       "      <td>855</td>\n",
       "      <td>855</td>\n",
       "      <td>855</td>\n",
       "    </tr>\n",
       "    <tr>\n",
       "      <td>4</td>\n",
       "      <td>NaN</td>\n",
       "      <td>Angola</td>\n",
       "      <td>-11.2027</td>\n",
       "      <td>17.8739</td>\n",
       "      <td>0</td>\n",
       "      <td>0</td>\n",
       "      <td>0</td>\n",
       "      <td>0</td>\n",
       "      <td>0</td>\n",
       "      <td>0</td>\n",
       "      <td>...</td>\n",
       "      <td>259</td>\n",
       "      <td>267</td>\n",
       "      <td>276</td>\n",
       "      <td>284</td>\n",
       "      <td>291</td>\n",
       "      <td>315</td>\n",
       "      <td>328</td>\n",
       "      <td>346</td>\n",
       "      <td>346</td>\n",
       "      <td>346</td>\n",
       "    </tr>\n",
       "  </tbody>\n",
       "</table>\n",
       "<p>5 rows × 171 columns</p>\n",
       "</div>"
      ],
      "text/plain": [
       "  Province/State Country/Region      Lat     Long  1/22/20  1/23/20  1/24/20  \\\n",
       "0            NaN    Afghanistan  33.0000  65.0000        0        0        0   \n",
       "1            NaN        Albania  41.1533  20.1683        0        0        0   \n",
       "2            NaN        Algeria  28.0339   1.6596        0        0        0   \n",
       "3            NaN        Andorra  42.5063   1.5218        0        0        0   \n",
       "4            NaN         Angola -11.2027  17.8739        0        0        0   \n",
       "\n",
       "   1/25/20  1/26/20  1/27/20  ...  6/27/20  6/28/20  6/29/20  6/30/20  7/1/20  \\\n",
       "0        0        0        0  ...    30616    30967    31238    31517   31836   \n",
       "1        0        0        0  ...     2330     2402     2466     2535    2580   \n",
       "2        0        0        0  ...    12968    13273    13571    13907   14272   \n",
       "3        0        0        0  ...      855      855      855      855     855   \n",
       "4        0        0        0  ...      259      267      276      284     291   \n",
       "\n",
       "   7/2/20  7/3/20  7/4/20  7/5/20  7/6/20  \n",
       "0   32022   32324   32672   32951   33190  \n",
       "1    2662    2752    2819    2893    2964  \n",
       "2   14657   15070   15500   15941   16404  \n",
       "3     855     855     855     855     855  \n",
       "4     315     328     346     346     346  \n",
       "\n",
       "[5 rows x 171 columns]"
      ]
     },
     "execution_count": 10,
     "metadata": {},
     "output_type": "execute_result"
    }
   ],
   "source": [
    "confirmed.head()"
   ]
  },
  {
   "cell_type": "code",
   "execution_count": 11,
   "metadata": {},
   "outputs": [
    {
     "data": {
      "text/html": [
       "<div>\n",
       "<style scoped>\n",
       "    .dataframe tbody tr th:only-of-type {\n",
       "        vertical-align: middle;\n",
       "    }\n",
       "\n",
       "    .dataframe tbody tr th {\n",
       "        vertical-align: top;\n",
       "    }\n",
       "\n",
       "    .dataframe thead th {\n",
       "        text-align: right;\n",
       "    }\n",
       "</style>\n",
       "<table border=\"1\" class=\"dataframe\">\n",
       "  <thead>\n",
       "    <tr style=\"text-align: right;\">\n",
       "      <th></th>\n",
       "      <th>Province/State</th>\n",
       "      <th>Country/Region</th>\n",
       "      <th>Lat</th>\n",
       "      <th>Long</th>\n",
       "      <th>1/22/20</th>\n",
       "      <th>1/23/20</th>\n",
       "      <th>1/24/20</th>\n",
       "      <th>1/25/20</th>\n",
       "      <th>1/26/20</th>\n",
       "      <th>1/27/20</th>\n",
       "      <th>...</th>\n",
       "      <th>6/27/20</th>\n",
       "      <th>6/28/20</th>\n",
       "      <th>6/29/20</th>\n",
       "      <th>6/30/20</th>\n",
       "      <th>7/1/20</th>\n",
       "      <th>7/2/20</th>\n",
       "      <th>7/3/20</th>\n",
       "      <th>7/4/20</th>\n",
       "      <th>7/5/20</th>\n",
       "      <th>7/6/20</th>\n",
       "    </tr>\n",
       "  </thead>\n",
       "  <tbody>\n",
       "    <tr>\n",
       "      <td>0</td>\n",
       "      <td>NaN</td>\n",
       "      <td>Afghanistan</td>\n",
       "      <td>33.0000</td>\n",
       "      <td>65.0000</td>\n",
       "      <td>0</td>\n",
       "      <td>0</td>\n",
       "      <td>0</td>\n",
       "      <td>0</td>\n",
       "      <td>0</td>\n",
       "      <td>0</td>\n",
       "      <td>...</td>\n",
       "      <td>703</td>\n",
       "      <td>721</td>\n",
       "      <td>733</td>\n",
       "      <td>746</td>\n",
       "      <td>774</td>\n",
       "      <td>807</td>\n",
       "      <td>819</td>\n",
       "      <td>826</td>\n",
       "      <td>864</td>\n",
       "      <td>898</td>\n",
       "    </tr>\n",
       "    <tr>\n",
       "      <td>1</td>\n",
       "      <td>NaN</td>\n",
       "      <td>Albania</td>\n",
       "      <td>41.1533</td>\n",
       "      <td>20.1683</td>\n",
       "      <td>0</td>\n",
       "      <td>0</td>\n",
       "      <td>0</td>\n",
       "      <td>0</td>\n",
       "      <td>0</td>\n",
       "      <td>0</td>\n",
       "      <td>...</td>\n",
       "      <td>53</td>\n",
       "      <td>55</td>\n",
       "      <td>58</td>\n",
       "      <td>62</td>\n",
       "      <td>65</td>\n",
       "      <td>69</td>\n",
       "      <td>72</td>\n",
       "      <td>74</td>\n",
       "      <td>76</td>\n",
       "      <td>79</td>\n",
       "    </tr>\n",
       "    <tr>\n",
       "      <td>2</td>\n",
       "      <td>NaN</td>\n",
       "      <td>Algeria</td>\n",
       "      <td>28.0339</td>\n",
       "      <td>1.6596</td>\n",
       "      <td>0</td>\n",
       "      <td>0</td>\n",
       "      <td>0</td>\n",
       "      <td>0</td>\n",
       "      <td>0</td>\n",
       "      <td>0</td>\n",
       "      <td>...</td>\n",
       "      <td>892</td>\n",
       "      <td>897</td>\n",
       "      <td>905</td>\n",
       "      <td>912</td>\n",
       "      <td>920</td>\n",
       "      <td>928</td>\n",
       "      <td>937</td>\n",
       "      <td>946</td>\n",
       "      <td>952</td>\n",
       "      <td>959</td>\n",
       "    </tr>\n",
       "    <tr>\n",
       "      <td>3</td>\n",
       "      <td>NaN</td>\n",
       "      <td>Andorra</td>\n",
       "      <td>42.5063</td>\n",
       "      <td>1.5218</td>\n",
       "      <td>0</td>\n",
       "      <td>0</td>\n",
       "      <td>0</td>\n",
       "      <td>0</td>\n",
       "      <td>0</td>\n",
       "      <td>0</td>\n",
       "      <td>...</td>\n",
       "      <td>52</td>\n",
       "      <td>52</td>\n",
       "      <td>52</td>\n",
       "      <td>52</td>\n",
       "      <td>52</td>\n",
       "      <td>52</td>\n",
       "      <td>52</td>\n",
       "      <td>52</td>\n",
       "      <td>52</td>\n",
       "      <td>52</td>\n",
       "    </tr>\n",
       "    <tr>\n",
       "      <td>4</td>\n",
       "      <td>NaN</td>\n",
       "      <td>Angola</td>\n",
       "      <td>-11.2027</td>\n",
       "      <td>17.8739</td>\n",
       "      <td>0</td>\n",
       "      <td>0</td>\n",
       "      <td>0</td>\n",
       "      <td>0</td>\n",
       "      <td>0</td>\n",
       "      <td>0</td>\n",
       "      <td>...</td>\n",
       "      <td>10</td>\n",
       "      <td>11</td>\n",
       "      <td>11</td>\n",
       "      <td>13</td>\n",
       "      <td>15</td>\n",
       "      <td>17</td>\n",
       "      <td>18</td>\n",
       "      <td>19</td>\n",
       "      <td>19</td>\n",
       "      <td>19</td>\n",
       "    </tr>\n",
       "  </tbody>\n",
       "</table>\n",
       "<p>5 rows × 171 columns</p>\n",
       "</div>"
      ],
      "text/plain": [
       "  Province/State Country/Region      Lat     Long  1/22/20  1/23/20  1/24/20  \\\n",
       "0            NaN    Afghanistan  33.0000  65.0000        0        0        0   \n",
       "1            NaN        Albania  41.1533  20.1683        0        0        0   \n",
       "2            NaN        Algeria  28.0339   1.6596        0        0        0   \n",
       "3            NaN        Andorra  42.5063   1.5218        0        0        0   \n",
       "4            NaN         Angola -11.2027  17.8739        0        0        0   \n",
       "\n",
       "   1/25/20  1/26/20  1/27/20  ...  6/27/20  6/28/20  6/29/20  6/30/20  7/1/20  \\\n",
       "0        0        0        0  ...      703      721      733      746     774   \n",
       "1        0        0        0  ...       53       55       58       62      65   \n",
       "2        0        0        0  ...      892      897      905      912     920   \n",
       "3        0        0        0  ...       52       52       52       52      52   \n",
       "4        0        0        0  ...       10       11       11       13      15   \n",
       "\n",
       "   7/2/20  7/3/20  7/4/20  7/5/20  7/6/20  \n",
       "0     807     819     826     864     898  \n",
       "1      69      72      74      76      79  \n",
       "2     928     937     946     952     959  \n",
       "3      52      52      52      52      52  \n",
       "4      17      18      19      19      19  \n",
       "\n",
       "[5 rows x 171 columns]"
      ]
     },
     "execution_count": 11,
     "metadata": {},
     "output_type": "execute_result"
    }
   ],
   "source": [
    "deaths.head()"
   ]
  },
  {
   "cell_type": "code",
   "execution_count": 12,
   "metadata": {},
   "outputs": [
    {
     "data": {
      "text/html": [
       "<div>\n",
       "<style scoped>\n",
       "    .dataframe tbody tr th:only-of-type {\n",
       "        vertical-align: middle;\n",
       "    }\n",
       "\n",
       "    .dataframe tbody tr th {\n",
       "        vertical-align: top;\n",
       "    }\n",
       "\n",
       "    .dataframe thead th {\n",
       "        text-align: right;\n",
       "    }\n",
       "</style>\n",
       "<table border=\"1\" class=\"dataframe\">\n",
       "  <thead>\n",
       "    <tr style=\"text-align: right;\">\n",
       "      <th></th>\n",
       "      <th>Province/State</th>\n",
       "      <th>Country/Region</th>\n",
       "      <th>Lat</th>\n",
       "      <th>Long</th>\n",
       "      <th>1/22/20</th>\n",
       "      <th>1/23/20</th>\n",
       "      <th>1/24/20</th>\n",
       "      <th>1/25/20</th>\n",
       "      <th>1/26/20</th>\n",
       "      <th>1/27/20</th>\n",
       "      <th>...</th>\n",
       "      <th>6/27/20</th>\n",
       "      <th>6/28/20</th>\n",
       "      <th>6/29/20</th>\n",
       "      <th>6/30/20</th>\n",
       "      <th>7/1/20</th>\n",
       "      <th>7/2/20</th>\n",
       "      <th>7/3/20</th>\n",
       "      <th>7/4/20</th>\n",
       "      <th>7/5/20</th>\n",
       "      <th>7/6/20</th>\n",
       "    </tr>\n",
       "  </thead>\n",
       "  <tbody>\n",
       "    <tr>\n",
       "      <td>0</td>\n",
       "      <td>NaN</td>\n",
       "      <td>Afghanistan</td>\n",
       "      <td>33.0000</td>\n",
       "      <td>65.0000</td>\n",
       "      <td>0</td>\n",
       "      <td>0</td>\n",
       "      <td>0</td>\n",
       "      <td>0</td>\n",
       "      <td>0</td>\n",
       "      <td>0</td>\n",
       "      <td>...</td>\n",
       "      <td>10674</td>\n",
       "      <td>12604</td>\n",
       "      <td>13934</td>\n",
       "      <td>14131</td>\n",
       "      <td>15651</td>\n",
       "      <td>16041</td>\n",
       "      <td>17331</td>\n",
       "      <td>19164</td>\n",
       "      <td>19366</td>\n",
       "      <td>20103</td>\n",
       "    </tr>\n",
       "    <tr>\n",
       "      <td>1</td>\n",
       "      <td>NaN</td>\n",
       "      <td>Albania</td>\n",
       "      <td>41.1533</td>\n",
       "      <td>20.1683</td>\n",
       "      <td>0</td>\n",
       "      <td>0</td>\n",
       "      <td>0</td>\n",
       "      <td>0</td>\n",
       "      <td>0</td>\n",
       "      <td>0</td>\n",
       "      <td>...</td>\n",
       "      <td>1346</td>\n",
       "      <td>1384</td>\n",
       "      <td>1438</td>\n",
       "      <td>1459</td>\n",
       "      <td>1516</td>\n",
       "      <td>1559</td>\n",
       "      <td>1592</td>\n",
       "      <td>1637</td>\n",
       "      <td>1657</td>\n",
       "      <td>1702</td>\n",
       "    </tr>\n",
       "    <tr>\n",
       "      <td>2</td>\n",
       "      <td>NaN</td>\n",
       "      <td>Algeria</td>\n",
       "      <td>28.0339</td>\n",
       "      <td>1.6596</td>\n",
       "      <td>0</td>\n",
       "      <td>0</td>\n",
       "      <td>0</td>\n",
       "      <td>0</td>\n",
       "      <td>0</td>\n",
       "      <td>0</td>\n",
       "      <td>...</td>\n",
       "      <td>9202</td>\n",
       "      <td>9371</td>\n",
       "      <td>9674</td>\n",
       "      <td>9897</td>\n",
       "      <td>10040</td>\n",
       "      <td>10342</td>\n",
       "      <td>10832</td>\n",
       "      <td>11181</td>\n",
       "      <td>11492</td>\n",
       "      <td>11884</td>\n",
       "    </tr>\n",
       "    <tr>\n",
       "      <td>3</td>\n",
       "      <td>NaN</td>\n",
       "      <td>Andorra</td>\n",
       "      <td>42.5063</td>\n",
       "      <td>1.5218</td>\n",
       "      <td>0</td>\n",
       "      <td>0</td>\n",
       "      <td>0</td>\n",
       "      <td>0</td>\n",
       "      <td>0</td>\n",
       "      <td>0</td>\n",
       "      <td>...</td>\n",
       "      <td>799</td>\n",
       "      <td>799</td>\n",
       "      <td>799</td>\n",
       "      <td>799</td>\n",
       "      <td>799</td>\n",
       "      <td>800</td>\n",
       "      <td>800</td>\n",
       "      <td>800</td>\n",
       "      <td>800</td>\n",
       "      <td>800</td>\n",
       "    </tr>\n",
       "    <tr>\n",
       "      <td>4</td>\n",
       "      <td>NaN</td>\n",
       "      <td>Angola</td>\n",
       "      <td>-11.2027</td>\n",
       "      <td>17.8739</td>\n",
       "      <td>0</td>\n",
       "      <td>0</td>\n",
       "      <td>0</td>\n",
       "      <td>0</td>\n",
       "      <td>0</td>\n",
       "      <td>0</td>\n",
       "      <td>...</td>\n",
       "      <td>81</td>\n",
       "      <td>81</td>\n",
       "      <td>93</td>\n",
       "      <td>93</td>\n",
       "      <td>97</td>\n",
       "      <td>97</td>\n",
       "      <td>107</td>\n",
       "      <td>108</td>\n",
       "      <td>108</td>\n",
       "      <td>108</td>\n",
       "    </tr>\n",
       "  </tbody>\n",
       "</table>\n",
       "<p>5 rows × 171 columns</p>\n",
       "</div>"
      ],
      "text/plain": [
       "  Province/State Country/Region      Lat     Long  1/22/20  1/23/20  1/24/20  \\\n",
       "0            NaN    Afghanistan  33.0000  65.0000        0        0        0   \n",
       "1            NaN        Albania  41.1533  20.1683        0        0        0   \n",
       "2            NaN        Algeria  28.0339   1.6596        0        0        0   \n",
       "3            NaN        Andorra  42.5063   1.5218        0        0        0   \n",
       "4            NaN         Angola -11.2027  17.8739        0        0        0   \n",
       "\n",
       "   1/25/20  1/26/20  1/27/20  ...  6/27/20  6/28/20  6/29/20  6/30/20  7/1/20  \\\n",
       "0        0        0        0  ...    10674    12604    13934    14131   15651   \n",
       "1        0        0        0  ...     1346     1384     1438     1459    1516   \n",
       "2        0        0        0  ...     9202     9371     9674     9897   10040   \n",
       "3        0        0        0  ...      799      799      799      799     799   \n",
       "4        0        0        0  ...       81       81       93       93      97   \n",
       "\n",
       "   7/2/20  7/3/20  7/4/20  7/5/20  7/6/20  \n",
       "0   16041   17331   19164   19366   20103  \n",
       "1    1559    1592    1637    1657    1702  \n",
       "2   10342   10832   11181   11492   11884  \n",
       "3     800     800     800     800     800  \n",
       "4      97     107     108     108     108  \n",
       "\n",
       "[5 rows x 171 columns]"
      ]
     },
     "execution_count": 12,
     "metadata": {},
     "output_type": "execute_result"
    }
   ],
   "source": [
    "recovered.head()"
   ]
  },
  {
   "cell_type": "code",
   "execution_count": 13,
   "metadata": {},
   "outputs": [
    {
     "data": {
      "text/html": [
       "<div>\n",
       "<style scoped>\n",
       "    .dataframe tbody tr th:only-of-type {\n",
       "        vertical-align: middle;\n",
       "    }\n",
       "\n",
       "    .dataframe tbody tr th {\n",
       "        vertical-align: top;\n",
       "    }\n",
       "\n",
       "    .dataframe thead th {\n",
       "        text-align: right;\n",
       "    }\n",
       "</style>\n",
       "<table border=\"1\" class=\"dataframe\">\n",
       "  <thead>\n",
       "    <tr style=\"text-align: right;\">\n",
       "      <th></th>\n",
       "      <th>Country_Region</th>\n",
       "      <th>Last_Update</th>\n",
       "      <th>Lat</th>\n",
       "      <th>Long_</th>\n",
       "      <th>Confirmed</th>\n",
       "      <th>Deaths</th>\n",
       "      <th>Recovered</th>\n",
       "      <th>Active</th>\n",
       "      <th>Incident_Rate</th>\n",
       "      <th>People_Tested</th>\n",
       "      <th>People_Hospitalized</th>\n",
       "      <th>Mortality_Rate</th>\n",
       "      <th>UID</th>\n",
       "      <th>ISO3</th>\n",
       "    </tr>\n",
       "  </thead>\n",
       "  <tbody>\n",
       "    <tr>\n",
       "      <td>0</td>\n",
       "      <td>Australia</td>\n",
       "      <td>2020-07-07 07:33:57</td>\n",
       "      <td>-25.0000</td>\n",
       "      <td>133.0000</td>\n",
       "      <td>8755.0</td>\n",
       "      <td>106.0</td>\n",
       "      <td>7455.0</td>\n",
       "      <td>1194.0</td>\n",
       "      <td>34.387679</td>\n",
       "      <td>NaN</td>\n",
       "      <td>NaN</td>\n",
       "      <td>1.210737</td>\n",
       "      <td>36</td>\n",
       "      <td>AUS</td>\n",
       "    </tr>\n",
       "    <tr>\n",
       "      <td>1</td>\n",
       "      <td>Austria</td>\n",
       "      <td>2020-07-07 07:33:57</td>\n",
       "      <td>47.5162</td>\n",
       "      <td>14.5501</td>\n",
       "      <td>18365.0</td>\n",
       "      <td>706.0</td>\n",
       "      <td>16647.0</td>\n",
       "      <td>1012.0</td>\n",
       "      <td>203.910552</td>\n",
       "      <td>NaN</td>\n",
       "      <td>NaN</td>\n",
       "      <td>3.844269</td>\n",
       "      <td>40</td>\n",
       "      <td>AUT</td>\n",
       "    </tr>\n",
       "    <tr>\n",
       "      <td>2</td>\n",
       "      <td>Canada</td>\n",
       "      <td>2020-07-07 07:33:57</td>\n",
       "      <td>60.0010</td>\n",
       "      <td>-95.0010</td>\n",
       "      <td>107815.0</td>\n",
       "      <td>8748.0</td>\n",
       "      <td>71141.0</td>\n",
       "      <td>27927.0</td>\n",
       "      <td>284.805179</td>\n",
       "      <td>NaN</td>\n",
       "      <td>NaN</td>\n",
       "      <td>8.113899</td>\n",
       "      <td>124</td>\n",
       "      <td>CAN</td>\n",
       "    </tr>\n",
       "    <tr>\n",
       "      <td>3</td>\n",
       "      <td>China</td>\n",
       "      <td>2020-07-07 07:33:57</td>\n",
       "      <td>30.5928</td>\n",
       "      <td>114.3055</td>\n",
       "      <td>84889.0</td>\n",
       "      <td>4641.0</td>\n",
       "      <td>79725.0</td>\n",
       "      <td>523.0</td>\n",
       "      <td>6.043314</td>\n",
       "      <td>NaN</td>\n",
       "      <td>NaN</td>\n",
       "      <td>5.467139</td>\n",
       "      <td>156</td>\n",
       "      <td>CHN</td>\n",
       "    </tr>\n",
       "    <tr>\n",
       "      <td>4</td>\n",
       "      <td>Denmark</td>\n",
       "      <td>2020-07-07 07:33:57</td>\n",
       "      <td>56.2639</td>\n",
       "      <td>9.5018</td>\n",
       "      <td>13079.0</td>\n",
       "      <td>607.0</td>\n",
       "      <td>12135.0</td>\n",
       "      <td>337.0</td>\n",
       "      <td>225.803550</td>\n",
       "      <td>NaN</td>\n",
       "      <td>NaN</td>\n",
       "      <td>4.641028</td>\n",
       "      <td>208</td>\n",
       "      <td>DNK</td>\n",
       "    </tr>\n",
       "  </tbody>\n",
       "</table>\n",
       "</div>"
      ],
      "text/plain": [
       "  Country_Region          Last_Update      Lat     Long_  Confirmed  Deaths  \\\n",
       "0      Australia  2020-07-07 07:33:57 -25.0000  133.0000     8755.0   106.0   \n",
       "1        Austria  2020-07-07 07:33:57  47.5162   14.5501    18365.0   706.0   \n",
       "2         Canada  2020-07-07 07:33:57  60.0010  -95.0010   107815.0  8748.0   \n",
       "3          China  2020-07-07 07:33:57  30.5928  114.3055    84889.0  4641.0   \n",
       "4        Denmark  2020-07-07 07:33:57  56.2639    9.5018    13079.0   607.0   \n",
       "\n",
       "   Recovered   Active  Incident_Rate  People_Tested  People_Hospitalized  \\\n",
       "0     7455.0   1194.0      34.387679            NaN                  NaN   \n",
       "1    16647.0   1012.0     203.910552            NaN                  NaN   \n",
       "2    71141.0  27927.0     284.805179            NaN                  NaN   \n",
       "3    79725.0    523.0       6.043314            NaN                  NaN   \n",
       "4    12135.0    337.0     225.803550            NaN                  NaN   \n",
       "\n",
       "   Mortality_Rate  UID ISO3  \n",
       "0        1.210737   36  AUS  \n",
       "1        3.844269   40  AUT  \n",
       "2        8.113899  124  CAN  \n",
       "3        5.467139  156  CHN  \n",
       "4        4.641028  208  DNK  "
      ]
     },
     "execution_count": 13,
     "metadata": {},
     "output_type": "execute_result"
    }
   ],
   "source": [
    "country.head()"
   ]
  },
  {
   "cell_type": "code",
   "execution_count": 14,
   "metadata": {},
   "outputs": [],
   "source": [
    "#data cleaning-renaming\n",
    "country.columns = map(str.lower,country.columns)\n",
    "recovered.columns=map(str.lower,recovered.columns)\n",
    "deaths.columns=map(str.lower,deaths.columns)\n",
    "confirmed.columns=map(str.lower,confirmed.columns)"
   ]
  },
  {
   "cell_type": "code",
   "execution_count": 15,
   "metadata": {},
   "outputs": [],
   "source": [
    "confirmed = confirmed.rename(columns={'province/state':'state','country/region':'country'})\n",
    "recovered = recovered.rename(columns={'province/state':'state','country/region':'country'})\n",
    "deaths = deaths.rename(columns={'province/state':'state','country/region':'country'})\n",
    "country = country.rename(columns={'country_region':'country'})\n"
   ]
  },
  {
   "cell_type": "code",
   "execution_count": 16,
   "metadata": {},
   "outputs": [
    {
     "data": {
      "text/plain": [
       "Index(['country', 'last_update', 'lat', 'long_', 'confirmed', 'deaths',\n",
       "       'recovered', 'active', 'incident_rate', 'people_tested',\n",
       "       'people_hospitalized', 'mortality_rate', 'uid', 'iso3'],\n",
       "      dtype='object')"
      ]
     },
     "execution_count": 16,
     "metadata": {},
     "output_type": "execute_result"
    }
   ],
   "source": [
    "country.columns"
   ]
  },
  {
   "cell_type": "code",
   "execution_count": 17,
   "metadata": {},
   "outputs": [],
   "source": [
    "sorted_country_confirmed=country.sort_values('confirmed',ascending=False)"
   ]
  },
  {
   "cell_type": "code",
   "execution_count": 18,
   "metadata": {},
   "outputs": [
    {
     "data": {
      "text/html": [
       "<div>\n",
       "<style scoped>\n",
       "    .dataframe tbody tr th:only-of-type {\n",
       "        vertical-align: middle;\n",
       "    }\n",
       "\n",
       "    .dataframe tbody tr th {\n",
       "        vertical-align: top;\n",
       "    }\n",
       "\n",
       "    .dataframe thead th {\n",
       "        text-align: right;\n",
       "    }\n",
       "</style>\n",
       "<table border=\"1\" class=\"dataframe\">\n",
       "  <thead>\n",
       "    <tr style=\"text-align: right;\">\n",
       "      <th></th>\n",
       "      <th>country</th>\n",
       "      <th>last_update</th>\n",
       "      <th>lat</th>\n",
       "      <th>long_</th>\n",
       "      <th>confirmed</th>\n",
       "      <th>deaths</th>\n",
       "      <th>recovered</th>\n",
       "      <th>active</th>\n",
       "      <th>incident_rate</th>\n",
       "      <th>people_tested</th>\n",
       "      <th>people_hospitalized</th>\n",
       "      <th>mortality_rate</th>\n",
       "      <th>uid</th>\n",
       "      <th>iso3</th>\n",
       "    </tr>\n",
       "  </thead>\n",
       "  <tbody>\n",
       "    <tr>\n",
       "      <td>17</td>\n",
       "      <td>US</td>\n",
       "      <td>2020-07-07 07:33:57</td>\n",
       "      <td>40.000000</td>\n",
       "      <td>-100.000000</td>\n",
       "      <td>2938624.0</td>\n",
       "      <td>130306.0</td>\n",
       "      <td>924148.0</td>\n",
       "      <td>1930763.0</td>\n",
       "      <td>891.934669</td>\n",
       "      <td>NaN</td>\n",
       "      <td>NaN</td>\n",
       "      <td>4.434252</td>\n",
       "      <td>840</td>\n",
       "      <td>USA</td>\n",
       "    </tr>\n",
       "    <tr>\n",
       "      <td>21</td>\n",
       "      <td>Brazil</td>\n",
       "      <td>2020-07-07 07:33:57</td>\n",
       "      <td>-14.235000</td>\n",
       "      <td>-51.925300</td>\n",
       "      <td>1623284.0</td>\n",
       "      <td>65487.0</td>\n",
       "      <td>1062542.0</td>\n",
       "      <td>495255.0</td>\n",
       "      <td>763.684848</td>\n",
       "      <td>NaN</td>\n",
       "      <td>NaN</td>\n",
       "      <td>4.034229</td>\n",
       "      <td>76</td>\n",
       "      <td>BRA</td>\n",
       "    </tr>\n",
       "    <tr>\n",
       "      <td>26</td>\n",
       "      <td>India</td>\n",
       "      <td>2020-07-07 07:33:57</td>\n",
       "      <td>20.593684</td>\n",
       "      <td>78.962880</td>\n",
       "      <td>719664.0</td>\n",
       "      <td>20159.0</td>\n",
       "      <td>439934.0</td>\n",
       "      <td>259571.0</td>\n",
       "      <td>52.149400</td>\n",
       "      <td>NaN</td>\n",
       "      <td>NaN</td>\n",
       "      <td>2.801168</td>\n",
       "      <td>356</td>\n",
       "      <td>IND</td>\n",
       "    </tr>\n",
       "    <tr>\n",
       "      <td>13</td>\n",
       "      <td>Russia</td>\n",
       "      <td>2020-07-07 07:33:57</td>\n",
       "      <td>61.524000</td>\n",
       "      <td>105.318800</td>\n",
       "      <td>686852.0</td>\n",
       "      <td>10280.0</td>\n",
       "      <td>453570.0</td>\n",
       "      <td>223002.0</td>\n",
       "      <td>470.657856</td>\n",
       "      <td>NaN</td>\n",
       "      <td>NaN</td>\n",
       "      <td>1.496683</td>\n",
       "      <td>643</td>\n",
       "      <td>RUS</td>\n",
       "    </tr>\n",
       "    <tr>\n",
       "      <td>22</td>\n",
       "      <td>Peru</td>\n",
       "      <td>2020-07-07 07:33:57</td>\n",
       "      <td>-9.190000</td>\n",
       "      <td>-75.015200</td>\n",
       "      <td>305703.0</td>\n",
       "      <td>10772.0</td>\n",
       "      <td>197619.0</td>\n",
       "      <td>97312.0</td>\n",
       "      <td>927.163738</td>\n",
       "      <td>NaN</td>\n",
       "      <td>NaN</td>\n",
       "      <td>3.523681</td>\n",
       "      <td>604</td>\n",
       "      <td>PER</td>\n",
       "    </tr>\n",
       "    <tr>\n",
       "      <td>...</td>\n",
       "      <td>...</td>\n",
       "      <td>...</td>\n",
       "      <td>...</td>\n",
       "      <td>...</td>\n",
       "      <td>...</td>\n",
       "      <td>...</td>\n",
       "      <td>...</td>\n",
       "      <td>...</td>\n",
       "      <td>...</td>\n",
       "      <td>...</td>\n",
       "      <td>...</td>\n",
       "      <td>...</td>\n",
       "      <td>...</td>\n",
       "      <td>...</td>\n",
       "    </tr>\n",
       "    <tr>\n",
       "      <td>148</td>\n",
       "      <td>Saint Kitts and Nevis</td>\n",
       "      <td>2020-07-07 07:33:57</td>\n",
       "      <td>17.357822</td>\n",
       "      <td>-62.782998</td>\n",
       "      <td>16.0</td>\n",
       "      <td>0.0</td>\n",
       "      <td>15.0</td>\n",
       "      <td>1.0</td>\n",
       "      <td>30.079711</td>\n",
       "      <td>NaN</td>\n",
       "      <td>NaN</td>\n",
       "      <td>0.000000</td>\n",
       "      <td>659</td>\n",
       "      <td>KNA</td>\n",
       "    </tr>\n",
       "    <tr>\n",
       "      <td>92</td>\n",
       "      <td>Holy See</td>\n",
       "      <td>2020-07-07 07:33:57</td>\n",
       "      <td>41.902900</td>\n",
       "      <td>12.453400</td>\n",
       "      <td>12.0</td>\n",
       "      <td>0.0</td>\n",
       "      <td>12.0</td>\n",
       "      <td>0.0</td>\n",
       "      <td>1483.312732</td>\n",
       "      <td>NaN</td>\n",
       "      <td>NaN</td>\n",
       "      <td>0.000000</td>\n",
       "      <td>336</td>\n",
       "      <td>VAT</td>\n",
       "    </tr>\n",
       "    <tr>\n",
       "      <td>140</td>\n",
       "      <td>Papua New Guinea</td>\n",
       "      <td>2020-07-07 07:33:57</td>\n",
       "      <td>-6.314993</td>\n",
       "      <td>143.955550</td>\n",
       "      <td>11.0</td>\n",
       "      <td>0.0</td>\n",
       "      <td>8.0</td>\n",
       "      <td>3.0</td>\n",
       "      <td>0.122946</td>\n",
       "      <td>NaN</td>\n",
       "      <td>NaN</td>\n",
       "      <td>0.000000</td>\n",
       "      <td>598</td>\n",
       "      <td>PNG</td>\n",
       "    </tr>\n",
       "    <tr>\n",
       "      <td>184</td>\n",
       "      <td>Western Sahara</td>\n",
       "      <td>2020-07-07 07:33:57</td>\n",
       "      <td>24.215500</td>\n",
       "      <td>-12.885800</td>\n",
       "      <td>10.0</td>\n",
       "      <td>1.0</td>\n",
       "      <td>8.0</td>\n",
       "      <td>1.0</td>\n",
       "      <td>1.674116</td>\n",
       "      <td>NaN</td>\n",
       "      <td>NaN</td>\n",
       "      <td>10.000000</td>\n",
       "      <td>732</td>\n",
       "      <td>ESH</td>\n",
       "    </tr>\n",
       "    <tr>\n",
       "      <td>116</td>\n",
       "      <td>MS Zaandam</td>\n",
       "      <td>2020-07-07 07:33:57</td>\n",
       "      <td>NaN</td>\n",
       "      <td>NaN</td>\n",
       "      <td>9.0</td>\n",
       "      <td>2.0</td>\n",
       "      <td>NaN</td>\n",
       "      <td>7.0</td>\n",
       "      <td>NaN</td>\n",
       "      <td>NaN</td>\n",
       "      <td>NaN</td>\n",
       "      <td>22.222222</td>\n",
       "      <td>8888</td>\n",
       "      <td>NaN</td>\n",
       "    </tr>\n",
       "  </tbody>\n",
       "</table>\n",
       "<p>188 rows × 14 columns</p>\n",
       "</div>"
      ],
      "text/plain": [
       "                   country          last_update        lat       long_  \\\n",
       "17                      US  2020-07-07 07:33:57  40.000000 -100.000000   \n",
       "21                  Brazil  2020-07-07 07:33:57 -14.235000  -51.925300   \n",
       "26                   India  2020-07-07 07:33:57  20.593684   78.962880   \n",
       "13                  Russia  2020-07-07 07:33:57  61.524000  105.318800   \n",
       "22                    Peru  2020-07-07 07:33:57  -9.190000  -75.015200   \n",
       "..                     ...                  ...        ...         ...   \n",
       "148  Saint Kitts and Nevis  2020-07-07 07:33:57  17.357822  -62.782998   \n",
       "92                Holy See  2020-07-07 07:33:57  41.902900   12.453400   \n",
       "140       Papua New Guinea  2020-07-07 07:33:57  -6.314993  143.955550   \n",
       "184         Western Sahara  2020-07-07 07:33:57  24.215500  -12.885800   \n",
       "116             MS Zaandam  2020-07-07 07:33:57        NaN         NaN   \n",
       "\n",
       "     confirmed    deaths  recovered     active  incident_rate  people_tested  \\\n",
       "17   2938624.0  130306.0   924148.0  1930763.0     891.934669            NaN   \n",
       "21   1623284.0   65487.0  1062542.0   495255.0     763.684848            NaN   \n",
       "26    719664.0   20159.0   439934.0   259571.0      52.149400            NaN   \n",
       "13    686852.0   10280.0   453570.0   223002.0     470.657856            NaN   \n",
       "22    305703.0   10772.0   197619.0    97312.0     927.163738            NaN   \n",
       "..         ...       ...        ...        ...            ...            ...   \n",
       "148       16.0       0.0       15.0        1.0      30.079711            NaN   \n",
       "92        12.0       0.0       12.0        0.0    1483.312732            NaN   \n",
       "140       11.0       0.0        8.0        3.0       0.122946            NaN   \n",
       "184       10.0       1.0        8.0        1.0       1.674116            NaN   \n",
       "116        9.0       2.0        NaN        7.0            NaN            NaN   \n",
       "\n",
       "     people_hospitalized  mortality_rate   uid iso3  \n",
       "17                   NaN        4.434252   840  USA  \n",
       "21                   NaN        4.034229    76  BRA  \n",
       "26                   NaN        2.801168   356  IND  \n",
       "13                   NaN        1.496683   643  RUS  \n",
       "22                   NaN        3.523681   604  PER  \n",
       "..                   ...             ...   ...  ...  \n",
       "148                  NaN        0.000000   659  KNA  \n",
       "92                   NaN        0.000000   336  VAT  \n",
       "140                  NaN        0.000000   598  PNG  \n",
       "184                  NaN       10.000000   732  ESH  \n",
       "116                  NaN       22.222222  8888  NaN  \n",
       "\n",
       "[188 rows x 14 columns]"
      ]
     },
     "execution_count": 18,
     "metadata": {},
     "output_type": "execute_result"
    }
   ],
   "source": [
    "sorted_country_confirmed"
   ]
  },
  {
   "cell_type": "code",
   "execution_count": 19,
   "metadata": {},
   "outputs": [
    {
     "data": {
      "text/html": [
       "<style  type=\"text/css\" >\n",
       "    #T_5e8d6992_c025_11ea_b0ff_30d9d9eee573row0_col4 {\n",
       "            background-color :  orange;\n",
       "        }    #T_5e8d6992_c025_11ea_b0ff_30d9d9eee573row0_col5 {\n",
       "            background-color :  pink;\n",
       "        }    #T_5e8d6992_c025_11ea_b0ff_30d9d9eee573row0_col6 {\n",
       "            background-color :  yellow;\n",
       "        }    #T_5e8d6992_c025_11ea_b0ff_30d9d9eee573row1_col4 {\n",
       "            background-color :  orange;\n",
       "        }    #T_5e8d6992_c025_11ea_b0ff_30d9d9eee573row1_col5 {\n",
       "            background-color :  pink;\n",
       "        }    #T_5e8d6992_c025_11ea_b0ff_30d9d9eee573row1_col6 {\n",
       "            background-color :  yellow;\n",
       "        }    #T_5e8d6992_c025_11ea_b0ff_30d9d9eee573row2_col4 {\n",
       "            background-color :  orange;\n",
       "        }    #T_5e8d6992_c025_11ea_b0ff_30d9d9eee573row2_col5 {\n",
       "            background-color :  pink;\n",
       "        }    #T_5e8d6992_c025_11ea_b0ff_30d9d9eee573row2_col6 {\n",
       "            background-color :  yellow;\n",
       "        }    #T_5e8d6992_c025_11ea_b0ff_30d9d9eee573row3_col4 {\n",
       "            background-color :  orange;\n",
       "        }    #T_5e8d6992_c025_11ea_b0ff_30d9d9eee573row3_col5 {\n",
       "            background-color :  pink;\n",
       "        }    #T_5e8d6992_c025_11ea_b0ff_30d9d9eee573row3_col6 {\n",
       "            background-color :  yellow;\n",
       "        }    #T_5e8d6992_c025_11ea_b0ff_30d9d9eee573row4_col4 {\n",
       "            background-color :  orange;\n",
       "        }    #T_5e8d6992_c025_11ea_b0ff_30d9d9eee573row4_col5 {\n",
       "            background-color :  pink;\n",
       "        }    #T_5e8d6992_c025_11ea_b0ff_30d9d9eee573row4_col6 {\n",
       "            background-color :  yellow;\n",
       "        }    #T_5e8d6992_c025_11ea_b0ff_30d9d9eee573row5_col4 {\n",
       "            background-color :  orange;\n",
       "        }    #T_5e8d6992_c025_11ea_b0ff_30d9d9eee573row5_col5 {\n",
       "            background-color :  pink;\n",
       "        }    #T_5e8d6992_c025_11ea_b0ff_30d9d9eee573row5_col6 {\n",
       "            background-color :  yellow;\n",
       "        }    #T_5e8d6992_c025_11ea_b0ff_30d9d9eee573row6_col4 {\n",
       "            background-color :  orange;\n",
       "        }    #T_5e8d6992_c025_11ea_b0ff_30d9d9eee573row6_col5 {\n",
       "            background-color :  pink;\n",
       "        }    #T_5e8d6992_c025_11ea_b0ff_30d9d9eee573row6_col6 {\n",
       "            background-color :  yellow;\n",
       "        }    #T_5e8d6992_c025_11ea_b0ff_30d9d9eee573row7_col4 {\n",
       "            background-color :  orange;\n",
       "        }    #T_5e8d6992_c025_11ea_b0ff_30d9d9eee573row7_col5 {\n",
       "            background-color :  pink;\n",
       "        }    #T_5e8d6992_c025_11ea_b0ff_30d9d9eee573row7_col6 {\n",
       "            background-color :  yellow;\n",
       "        }    #T_5e8d6992_c025_11ea_b0ff_30d9d9eee573row8_col4 {\n",
       "            background-color :  orange;\n",
       "        }    #T_5e8d6992_c025_11ea_b0ff_30d9d9eee573row8_col5 {\n",
       "            background-color :  pink;\n",
       "        }    #T_5e8d6992_c025_11ea_b0ff_30d9d9eee573row8_col6 {\n",
       "            background-color :  yellow;\n",
       "        }    #T_5e8d6992_c025_11ea_b0ff_30d9d9eee573row9_col4 {\n",
       "            background-color :  orange;\n",
       "        }    #T_5e8d6992_c025_11ea_b0ff_30d9d9eee573row9_col5 {\n",
       "            background-color :  pink;\n",
       "        }    #T_5e8d6992_c025_11ea_b0ff_30d9d9eee573row9_col6 {\n",
       "            background-color :  yellow;\n",
       "        }    #T_5e8d6992_c025_11ea_b0ff_30d9d9eee573row10_col4 {\n",
       "            background-color :  orange;\n",
       "        }    #T_5e8d6992_c025_11ea_b0ff_30d9d9eee573row10_col5 {\n",
       "            background-color :  pink;\n",
       "        }    #T_5e8d6992_c025_11ea_b0ff_30d9d9eee573row10_col6 {\n",
       "            background-color :  yellow;\n",
       "        }    #T_5e8d6992_c025_11ea_b0ff_30d9d9eee573row11_col4 {\n",
       "            background-color :  orange;\n",
       "        }    #T_5e8d6992_c025_11ea_b0ff_30d9d9eee573row11_col5 {\n",
       "            background-color :  pink;\n",
       "        }    #T_5e8d6992_c025_11ea_b0ff_30d9d9eee573row11_col6 {\n",
       "            background-color :  yellow;\n",
       "        }    #T_5e8d6992_c025_11ea_b0ff_30d9d9eee573row12_col4 {\n",
       "            background-color :  orange;\n",
       "        }    #T_5e8d6992_c025_11ea_b0ff_30d9d9eee573row12_col5 {\n",
       "            background-color :  pink;\n",
       "        }    #T_5e8d6992_c025_11ea_b0ff_30d9d9eee573row12_col6 {\n",
       "            background-color :  yellow;\n",
       "        }    #T_5e8d6992_c025_11ea_b0ff_30d9d9eee573row13_col4 {\n",
       "            background-color :  orange;\n",
       "        }    #T_5e8d6992_c025_11ea_b0ff_30d9d9eee573row13_col5 {\n",
       "            background-color :  pink;\n",
       "        }    #T_5e8d6992_c025_11ea_b0ff_30d9d9eee573row13_col6 {\n",
       "            background-color :  yellow;\n",
       "        }    #T_5e8d6992_c025_11ea_b0ff_30d9d9eee573row14_col4 {\n",
       "            background-color :  orange;\n",
       "        }    #T_5e8d6992_c025_11ea_b0ff_30d9d9eee573row14_col5 {\n",
       "            background-color :  pink;\n",
       "        }    #T_5e8d6992_c025_11ea_b0ff_30d9d9eee573row14_col6 {\n",
       "            background-color :  yellow;\n",
       "        }    #T_5e8d6992_c025_11ea_b0ff_30d9d9eee573row15_col4 {\n",
       "            background-color :  orange;\n",
       "        }    #T_5e8d6992_c025_11ea_b0ff_30d9d9eee573row15_col5 {\n",
       "            background-color :  pink;\n",
       "        }    #T_5e8d6992_c025_11ea_b0ff_30d9d9eee573row15_col6 {\n",
       "            background-color :  yellow;\n",
       "        }    #T_5e8d6992_c025_11ea_b0ff_30d9d9eee573row16_col4 {\n",
       "            background-color :  orange;\n",
       "        }    #T_5e8d6992_c025_11ea_b0ff_30d9d9eee573row16_col5 {\n",
       "            background-color :  pink;\n",
       "        }    #T_5e8d6992_c025_11ea_b0ff_30d9d9eee573row16_col6 {\n",
       "            background-color :  yellow;\n",
       "        }    #T_5e8d6992_c025_11ea_b0ff_30d9d9eee573row17_col4 {\n",
       "            background-color :  orange;\n",
       "        }    #T_5e8d6992_c025_11ea_b0ff_30d9d9eee573row17_col5 {\n",
       "            background-color :  pink;\n",
       "        }    #T_5e8d6992_c025_11ea_b0ff_30d9d9eee573row17_col6 {\n",
       "            background-color :  yellow;\n",
       "        }    #T_5e8d6992_c025_11ea_b0ff_30d9d9eee573row18_col4 {\n",
       "            background-color :  orange;\n",
       "        }    #T_5e8d6992_c025_11ea_b0ff_30d9d9eee573row18_col5 {\n",
       "            background-color :  pink;\n",
       "        }    #T_5e8d6992_c025_11ea_b0ff_30d9d9eee573row18_col6 {\n",
       "            background-color :  yellow;\n",
       "        }    #T_5e8d6992_c025_11ea_b0ff_30d9d9eee573row19_col4 {\n",
       "            background-color :  orange;\n",
       "        }    #T_5e8d6992_c025_11ea_b0ff_30d9d9eee573row19_col5 {\n",
       "            background-color :  pink;\n",
       "        }    #T_5e8d6992_c025_11ea_b0ff_30d9d9eee573row19_col6 {\n",
       "            background-color :  yellow;\n",
       "        }    #T_5e8d6992_c025_11ea_b0ff_30d9d9eee573row20_col4 {\n",
       "            background-color :  orange;\n",
       "        }    #T_5e8d6992_c025_11ea_b0ff_30d9d9eee573row20_col5 {\n",
       "            background-color :  pink;\n",
       "        }    #T_5e8d6992_c025_11ea_b0ff_30d9d9eee573row20_col6 {\n",
       "            background-color :  yellow;\n",
       "        }    #T_5e8d6992_c025_11ea_b0ff_30d9d9eee573row21_col4 {\n",
       "            background-color :  orange;\n",
       "        }    #T_5e8d6992_c025_11ea_b0ff_30d9d9eee573row21_col5 {\n",
       "            background-color :  pink;\n",
       "        }    #T_5e8d6992_c025_11ea_b0ff_30d9d9eee573row21_col6 {\n",
       "            background-color :  yellow;\n",
       "        }    #T_5e8d6992_c025_11ea_b0ff_30d9d9eee573row22_col4 {\n",
       "            background-color :  orange;\n",
       "        }    #T_5e8d6992_c025_11ea_b0ff_30d9d9eee573row22_col5 {\n",
       "            background-color :  pink;\n",
       "        }    #T_5e8d6992_c025_11ea_b0ff_30d9d9eee573row22_col6 {\n",
       "            background-color :  yellow;\n",
       "        }    #T_5e8d6992_c025_11ea_b0ff_30d9d9eee573row23_col4 {\n",
       "            background-color :  orange;\n",
       "        }    #T_5e8d6992_c025_11ea_b0ff_30d9d9eee573row23_col5 {\n",
       "            background-color :  pink;\n",
       "        }    #T_5e8d6992_c025_11ea_b0ff_30d9d9eee573row23_col6 {\n",
       "            background-color :  yellow;\n",
       "        }    #T_5e8d6992_c025_11ea_b0ff_30d9d9eee573row24_col4 {\n",
       "            background-color :  orange;\n",
       "        }    #T_5e8d6992_c025_11ea_b0ff_30d9d9eee573row24_col5 {\n",
       "            background-color :  pink;\n",
       "        }    #T_5e8d6992_c025_11ea_b0ff_30d9d9eee573row24_col6 {\n",
       "            background-color :  yellow;\n",
       "        }    #T_5e8d6992_c025_11ea_b0ff_30d9d9eee573row25_col4 {\n",
       "            background-color :  orange;\n",
       "        }    #T_5e8d6992_c025_11ea_b0ff_30d9d9eee573row25_col5 {\n",
       "            background-color :  pink;\n",
       "        }    #T_5e8d6992_c025_11ea_b0ff_30d9d9eee573row25_col6 {\n",
       "            background-color :  yellow;\n",
       "        }    #T_5e8d6992_c025_11ea_b0ff_30d9d9eee573row26_col4 {\n",
       "            background-color :  orange;\n",
       "        }    #T_5e8d6992_c025_11ea_b0ff_30d9d9eee573row26_col5 {\n",
       "            background-color :  pink;\n",
       "        }    #T_5e8d6992_c025_11ea_b0ff_30d9d9eee573row26_col6 {\n",
       "            background-color :  yellow;\n",
       "        }    #T_5e8d6992_c025_11ea_b0ff_30d9d9eee573row27_col4 {\n",
       "            background-color :  orange;\n",
       "        }    #T_5e8d6992_c025_11ea_b0ff_30d9d9eee573row27_col5 {\n",
       "            background-color :  pink;\n",
       "        }    #T_5e8d6992_c025_11ea_b0ff_30d9d9eee573row27_col6 {\n",
       "            background-color :  yellow;\n",
       "        }    #T_5e8d6992_c025_11ea_b0ff_30d9d9eee573row28_col4 {\n",
       "            background-color :  orange;\n",
       "        }    #T_5e8d6992_c025_11ea_b0ff_30d9d9eee573row28_col5 {\n",
       "            background-color :  pink;\n",
       "        }    #T_5e8d6992_c025_11ea_b0ff_30d9d9eee573row28_col6 {\n",
       "            background-color :  yellow;\n",
       "        }    #T_5e8d6992_c025_11ea_b0ff_30d9d9eee573row29_col4 {\n",
       "            background-color :  orange;\n",
       "        }    #T_5e8d6992_c025_11ea_b0ff_30d9d9eee573row29_col5 {\n",
       "            background-color :  pink;\n",
       "        }    #T_5e8d6992_c025_11ea_b0ff_30d9d9eee573row29_col6 {\n",
       "            background-color :  yellow;\n",
       "        }    #T_5e8d6992_c025_11ea_b0ff_30d9d9eee573row30_col4 {\n",
       "            background-color :  orange;\n",
       "        }    #T_5e8d6992_c025_11ea_b0ff_30d9d9eee573row30_col5 {\n",
       "            background-color :  pink;\n",
       "        }    #T_5e8d6992_c025_11ea_b0ff_30d9d9eee573row30_col6 {\n",
       "            background-color :  yellow;\n",
       "        }    #T_5e8d6992_c025_11ea_b0ff_30d9d9eee573row31_col4 {\n",
       "            background-color :  orange;\n",
       "        }    #T_5e8d6992_c025_11ea_b0ff_30d9d9eee573row31_col5 {\n",
       "            background-color :  pink;\n",
       "        }    #T_5e8d6992_c025_11ea_b0ff_30d9d9eee573row31_col6 {\n",
       "            background-color :  yellow;\n",
       "        }    #T_5e8d6992_c025_11ea_b0ff_30d9d9eee573row32_col4 {\n",
       "            background-color :  orange;\n",
       "        }    #T_5e8d6992_c025_11ea_b0ff_30d9d9eee573row32_col5 {\n",
       "            background-color :  pink;\n",
       "        }    #T_5e8d6992_c025_11ea_b0ff_30d9d9eee573row32_col6 {\n",
       "            background-color :  yellow;\n",
       "        }    #T_5e8d6992_c025_11ea_b0ff_30d9d9eee573row33_col4 {\n",
       "            background-color :  orange;\n",
       "        }    #T_5e8d6992_c025_11ea_b0ff_30d9d9eee573row33_col5 {\n",
       "            background-color :  pink;\n",
       "        }    #T_5e8d6992_c025_11ea_b0ff_30d9d9eee573row33_col6 {\n",
       "            background-color :  yellow;\n",
       "        }    #T_5e8d6992_c025_11ea_b0ff_30d9d9eee573row34_col4 {\n",
       "            background-color :  orange;\n",
       "        }    #T_5e8d6992_c025_11ea_b0ff_30d9d9eee573row34_col5 {\n",
       "            background-color :  pink;\n",
       "        }    #T_5e8d6992_c025_11ea_b0ff_30d9d9eee573row34_col6 {\n",
       "            background-color :  yellow;\n",
       "        }    #T_5e8d6992_c025_11ea_b0ff_30d9d9eee573row35_col4 {\n",
       "            background-color :  orange;\n",
       "        }    #T_5e8d6992_c025_11ea_b0ff_30d9d9eee573row35_col5 {\n",
       "            background-color :  pink;\n",
       "        }    #T_5e8d6992_c025_11ea_b0ff_30d9d9eee573row35_col6 {\n",
       "            background-color :  yellow;\n",
       "        }    #T_5e8d6992_c025_11ea_b0ff_30d9d9eee573row36_col4 {\n",
       "            background-color :  orange;\n",
       "        }    #T_5e8d6992_c025_11ea_b0ff_30d9d9eee573row36_col5 {\n",
       "            background-color :  pink;\n",
       "        }    #T_5e8d6992_c025_11ea_b0ff_30d9d9eee573row36_col6 {\n",
       "            background-color :  yellow;\n",
       "        }    #T_5e8d6992_c025_11ea_b0ff_30d9d9eee573row37_col4 {\n",
       "            background-color :  orange;\n",
       "        }    #T_5e8d6992_c025_11ea_b0ff_30d9d9eee573row37_col5 {\n",
       "            background-color :  pink;\n",
       "        }    #T_5e8d6992_c025_11ea_b0ff_30d9d9eee573row37_col6 {\n",
       "            background-color :  yellow;\n",
       "        }    #T_5e8d6992_c025_11ea_b0ff_30d9d9eee573row38_col4 {\n",
       "            background-color :  orange;\n",
       "        }    #T_5e8d6992_c025_11ea_b0ff_30d9d9eee573row38_col5 {\n",
       "            background-color :  pink;\n",
       "        }    #T_5e8d6992_c025_11ea_b0ff_30d9d9eee573row38_col6 {\n",
       "            background-color :  yellow;\n",
       "        }    #T_5e8d6992_c025_11ea_b0ff_30d9d9eee573row39_col4 {\n",
       "            background-color :  orange;\n",
       "        }    #T_5e8d6992_c025_11ea_b0ff_30d9d9eee573row39_col5 {\n",
       "            background-color :  pink;\n",
       "        }    #T_5e8d6992_c025_11ea_b0ff_30d9d9eee573row39_col6 {\n",
       "            background-color :  yellow;\n",
       "        }    #T_5e8d6992_c025_11ea_b0ff_30d9d9eee573row40_col4 {\n",
       "            background-color :  orange;\n",
       "        }    #T_5e8d6992_c025_11ea_b0ff_30d9d9eee573row40_col5 {\n",
       "            background-color :  pink;\n",
       "        }    #T_5e8d6992_c025_11ea_b0ff_30d9d9eee573row40_col6 {\n",
       "            background-color :  yellow;\n",
       "        }    #T_5e8d6992_c025_11ea_b0ff_30d9d9eee573row41_col4 {\n",
       "            background-color :  orange;\n",
       "        }    #T_5e8d6992_c025_11ea_b0ff_30d9d9eee573row41_col5 {\n",
       "            background-color :  pink;\n",
       "        }    #T_5e8d6992_c025_11ea_b0ff_30d9d9eee573row41_col6 {\n",
       "            background-color :  yellow;\n",
       "        }    #T_5e8d6992_c025_11ea_b0ff_30d9d9eee573row42_col4 {\n",
       "            background-color :  orange;\n",
       "        }    #T_5e8d6992_c025_11ea_b0ff_30d9d9eee573row42_col5 {\n",
       "            background-color :  pink;\n",
       "        }    #T_5e8d6992_c025_11ea_b0ff_30d9d9eee573row42_col6 {\n",
       "            background-color :  yellow;\n",
       "        }    #T_5e8d6992_c025_11ea_b0ff_30d9d9eee573row43_col4 {\n",
       "            background-color :  orange;\n",
       "        }    #T_5e8d6992_c025_11ea_b0ff_30d9d9eee573row43_col5 {\n",
       "            background-color :  pink;\n",
       "        }    #T_5e8d6992_c025_11ea_b0ff_30d9d9eee573row43_col6 {\n",
       "            background-color :  yellow;\n",
       "        }    #T_5e8d6992_c025_11ea_b0ff_30d9d9eee573row44_col4 {\n",
       "            background-color :  orange;\n",
       "        }    #T_5e8d6992_c025_11ea_b0ff_30d9d9eee573row44_col5 {\n",
       "            background-color :  pink;\n",
       "        }    #T_5e8d6992_c025_11ea_b0ff_30d9d9eee573row44_col6 {\n",
       "            background-color :  yellow;\n",
       "        }    #T_5e8d6992_c025_11ea_b0ff_30d9d9eee573row45_col4 {\n",
       "            background-color :  orange;\n",
       "        }    #T_5e8d6992_c025_11ea_b0ff_30d9d9eee573row45_col5 {\n",
       "            background-color :  pink;\n",
       "        }    #T_5e8d6992_c025_11ea_b0ff_30d9d9eee573row45_col6 {\n",
       "            background-color :  yellow;\n",
       "        }    #T_5e8d6992_c025_11ea_b0ff_30d9d9eee573row46_col4 {\n",
       "            background-color :  orange;\n",
       "        }    #T_5e8d6992_c025_11ea_b0ff_30d9d9eee573row46_col5 {\n",
       "            background-color :  pink;\n",
       "        }    #T_5e8d6992_c025_11ea_b0ff_30d9d9eee573row46_col6 {\n",
       "            background-color :  yellow;\n",
       "        }    #T_5e8d6992_c025_11ea_b0ff_30d9d9eee573row47_col4 {\n",
       "            background-color :  orange;\n",
       "        }    #T_5e8d6992_c025_11ea_b0ff_30d9d9eee573row47_col5 {\n",
       "            background-color :  pink;\n",
       "        }    #T_5e8d6992_c025_11ea_b0ff_30d9d9eee573row47_col6 {\n",
       "            background-color :  yellow;\n",
       "        }    #T_5e8d6992_c025_11ea_b0ff_30d9d9eee573row48_col4 {\n",
       "            background-color :  orange;\n",
       "        }    #T_5e8d6992_c025_11ea_b0ff_30d9d9eee573row48_col5 {\n",
       "            background-color :  pink;\n",
       "        }    #T_5e8d6992_c025_11ea_b0ff_30d9d9eee573row48_col6 {\n",
       "            background-color :  yellow;\n",
       "        }    #T_5e8d6992_c025_11ea_b0ff_30d9d9eee573row49_col4 {\n",
       "            background-color :  orange;\n",
       "        }    #T_5e8d6992_c025_11ea_b0ff_30d9d9eee573row49_col5 {\n",
       "            background-color :  pink;\n",
       "        }    #T_5e8d6992_c025_11ea_b0ff_30d9d9eee573row49_col6 {\n",
       "            background-color :  yellow;\n",
       "        }    #T_5e8d6992_c025_11ea_b0ff_30d9d9eee573row50_col4 {\n",
       "            background-color :  orange;\n",
       "        }    #T_5e8d6992_c025_11ea_b0ff_30d9d9eee573row50_col5 {\n",
       "            background-color :  pink;\n",
       "        }    #T_5e8d6992_c025_11ea_b0ff_30d9d9eee573row50_col6 {\n",
       "            background-color :  yellow;\n",
       "        }    #T_5e8d6992_c025_11ea_b0ff_30d9d9eee573row51_col4 {\n",
       "            background-color :  orange;\n",
       "        }    #T_5e8d6992_c025_11ea_b0ff_30d9d9eee573row51_col5 {\n",
       "            background-color :  pink;\n",
       "        }    #T_5e8d6992_c025_11ea_b0ff_30d9d9eee573row51_col6 {\n",
       "            background-color :  yellow;\n",
       "        }    #T_5e8d6992_c025_11ea_b0ff_30d9d9eee573row52_col4 {\n",
       "            background-color :  orange;\n",
       "        }    #T_5e8d6992_c025_11ea_b0ff_30d9d9eee573row52_col5 {\n",
       "            background-color :  pink;\n",
       "        }    #T_5e8d6992_c025_11ea_b0ff_30d9d9eee573row52_col6 {\n",
       "            background-color :  yellow;\n",
       "        }    #T_5e8d6992_c025_11ea_b0ff_30d9d9eee573row53_col4 {\n",
       "            background-color :  orange;\n",
       "        }    #T_5e8d6992_c025_11ea_b0ff_30d9d9eee573row53_col5 {\n",
       "            background-color :  pink;\n",
       "        }    #T_5e8d6992_c025_11ea_b0ff_30d9d9eee573row53_col6 {\n",
       "            background-color :  yellow;\n",
       "        }    #T_5e8d6992_c025_11ea_b0ff_30d9d9eee573row54_col4 {\n",
       "            background-color :  orange;\n",
       "        }    #T_5e8d6992_c025_11ea_b0ff_30d9d9eee573row54_col5 {\n",
       "            background-color :  pink;\n",
       "        }    #T_5e8d6992_c025_11ea_b0ff_30d9d9eee573row54_col6 {\n",
       "            background-color :  yellow;\n",
       "        }    #T_5e8d6992_c025_11ea_b0ff_30d9d9eee573row55_col4 {\n",
       "            background-color :  orange;\n",
       "        }    #T_5e8d6992_c025_11ea_b0ff_30d9d9eee573row55_col5 {\n",
       "            background-color :  pink;\n",
       "        }    #T_5e8d6992_c025_11ea_b0ff_30d9d9eee573row55_col6 {\n",
       "            background-color :  yellow;\n",
       "        }    #T_5e8d6992_c025_11ea_b0ff_30d9d9eee573row56_col4 {\n",
       "            background-color :  orange;\n",
       "        }    #T_5e8d6992_c025_11ea_b0ff_30d9d9eee573row56_col5 {\n",
       "            background-color :  pink;\n",
       "        }    #T_5e8d6992_c025_11ea_b0ff_30d9d9eee573row56_col6 {\n",
       "            background-color :  yellow;\n",
       "        }    #T_5e8d6992_c025_11ea_b0ff_30d9d9eee573row57_col4 {\n",
       "            background-color :  orange;\n",
       "        }    #T_5e8d6992_c025_11ea_b0ff_30d9d9eee573row57_col5 {\n",
       "            background-color :  pink;\n",
       "        }    #T_5e8d6992_c025_11ea_b0ff_30d9d9eee573row57_col6 {\n",
       "            background-color :  yellow;\n",
       "        }    #T_5e8d6992_c025_11ea_b0ff_30d9d9eee573row58_col4 {\n",
       "            background-color :  orange;\n",
       "        }    #T_5e8d6992_c025_11ea_b0ff_30d9d9eee573row58_col5 {\n",
       "            background-color :  pink;\n",
       "        }    #T_5e8d6992_c025_11ea_b0ff_30d9d9eee573row58_col6 {\n",
       "            background-color :  yellow;\n",
       "        }    #T_5e8d6992_c025_11ea_b0ff_30d9d9eee573row59_col4 {\n",
       "            background-color :  orange;\n",
       "        }    #T_5e8d6992_c025_11ea_b0ff_30d9d9eee573row59_col5 {\n",
       "            background-color :  pink;\n",
       "        }    #T_5e8d6992_c025_11ea_b0ff_30d9d9eee573row59_col6 {\n",
       "            background-color :  yellow;\n",
       "        }    #T_5e8d6992_c025_11ea_b0ff_30d9d9eee573row60_col4 {\n",
       "            background-color :  orange;\n",
       "        }    #T_5e8d6992_c025_11ea_b0ff_30d9d9eee573row60_col5 {\n",
       "            background-color :  pink;\n",
       "        }    #T_5e8d6992_c025_11ea_b0ff_30d9d9eee573row60_col6 {\n",
       "            background-color :  yellow;\n",
       "        }    #T_5e8d6992_c025_11ea_b0ff_30d9d9eee573row61_col4 {\n",
       "            background-color :  orange;\n",
       "        }    #T_5e8d6992_c025_11ea_b0ff_30d9d9eee573row61_col5 {\n",
       "            background-color :  pink;\n",
       "        }    #T_5e8d6992_c025_11ea_b0ff_30d9d9eee573row61_col6 {\n",
       "            background-color :  yellow;\n",
       "        }    #T_5e8d6992_c025_11ea_b0ff_30d9d9eee573row62_col4 {\n",
       "            background-color :  orange;\n",
       "        }    #T_5e8d6992_c025_11ea_b0ff_30d9d9eee573row62_col5 {\n",
       "            background-color :  pink;\n",
       "        }    #T_5e8d6992_c025_11ea_b0ff_30d9d9eee573row62_col6 {\n",
       "            background-color :  yellow;\n",
       "        }    #T_5e8d6992_c025_11ea_b0ff_30d9d9eee573row63_col4 {\n",
       "            background-color :  orange;\n",
       "        }    #T_5e8d6992_c025_11ea_b0ff_30d9d9eee573row63_col5 {\n",
       "            background-color :  pink;\n",
       "        }    #T_5e8d6992_c025_11ea_b0ff_30d9d9eee573row63_col6 {\n",
       "            background-color :  yellow;\n",
       "        }    #T_5e8d6992_c025_11ea_b0ff_30d9d9eee573row64_col4 {\n",
       "            background-color :  orange;\n",
       "        }    #T_5e8d6992_c025_11ea_b0ff_30d9d9eee573row64_col5 {\n",
       "            background-color :  pink;\n",
       "        }    #T_5e8d6992_c025_11ea_b0ff_30d9d9eee573row64_col6 {\n",
       "            background-color :  yellow;\n",
       "        }    #T_5e8d6992_c025_11ea_b0ff_30d9d9eee573row65_col4 {\n",
       "            background-color :  orange;\n",
       "        }    #T_5e8d6992_c025_11ea_b0ff_30d9d9eee573row65_col5 {\n",
       "            background-color :  pink;\n",
       "        }    #T_5e8d6992_c025_11ea_b0ff_30d9d9eee573row65_col6 {\n",
       "            background-color :  yellow;\n",
       "        }    #T_5e8d6992_c025_11ea_b0ff_30d9d9eee573row66_col4 {\n",
       "            background-color :  orange;\n",
       "        }    #T_5e8d6992_c025_11ea_b0ff_30d9d9eee573row66_col5 {\n",
       "            background-color :  pink;\n",
       "        }    #T_5e8d6992_c025_11ea_b0ff_30d9d9eee573row66_col6 {\n",
       "            background-color :  yellow;\n",
       "        }    #T_5e8d6992_c025_11ea_b0ff_30d9d9eee573row67_col4 {\n",
       "            background-color :  orange;\n",
       "        }    #T_5e8d6992_c025_11ea_b0ff_30d9d9eee573row67_col5 {\n",
       "            background-color :  pink;\n",
       "        }    #T_5e8d6992_c025_11ea_b0ff_30d9d9eee573row67_col6 {\n",
       "            background-color :  yellow;\n",
       "        }    #T_5e8d6992_c025_11ea_b0ff_30d9d9eee573row68_col4 {\n",
       "            background-color :  orange;\n",
       "        }    #T_5e8d6992_c025_11ea_b0ff_30d9d9eee573row68_col5 {\n",
       "            background-color :  pink;\n",
       "        }    #T_5e8d6992_c025_11ea_b0ff_30d9d9eee573row68_col6 {\n",
       "            background-color :  yellow;\n",
       "        }    #T_5e8d6992_c025_11ea_b0ff_30d9d9eee573row69_col4 {\n",
       "            background-color :  orange;\n",
       "        }    #T_5e8d6992_c025_11ea_b0ff_30d9d9eee573row69_col5 {\n",
       "            background-color :  pink;\n",
       "        }    #T_5e8d6992_c025_11ea_b0ff_30d9d9eee573row69_col6 {\n",
       "            background-color :  yellow;\n",
       "        }    #T_5e8d6992_c025_11ea_b0ff_30d9d9eee573row70_col4 {\n",
       "            background-color :  orange;\n",
       "        }    #T_5e8d6992_c025_11ea_b0ff_30d9d9eee573row70_col5 {\n",
       "            background-color :  pink;\n",
       "        }    #T_5e8d6992_c025_11ea_b0ff_30d9d9eee573row70_col6 {\n",
       "            background-color :  yellow;\n",
       "        }    #T_5e8d6992_c025_11ea_b0ff_30d9d9eee573row71_col4 {\n",
       "            background-color :  orange;\n",
       "        }    #T_5e8d6992_c025_11ea_b0ff_30d9d9eee573row71_col5 {\n",
       "            background-color :  pink;\n",
       "        }    #T_5e8d6992_c025_11ea_b0ff_30d9d9eee573row71_col6 {\n",
       "            background-color :  yellow;\n",
       "        }    #T_5e8d6992_c025_11ea_b0ff_30d9d9eee573row72_col4 {\n",
       "            background-color :  orange;\n",
       "        }    #T_5e8d6992_c025_11ea_b0ff_30d9d9eee573row72_col5 {\n",
       "            background-color :  pink;\n",
       "        }    #T_5e8d6992_c025_11ea_b0ff_30d9d9eee573row72_col6 {\n",
       "            background-color :  yellow;\n",
       "        }    #T_5e8d6992_c025_11ea_b0ff_30d9d9eee573row73_col4 {\n",
       "            background-color :  orange;\n",
       "        }    #T_5e8d6992_c025_11ea_b0ff_30d9d9eee573row73_col5 {\n",
       "            background-color :  pink;\n",
       "        }    #T_5e8d6992_c025_11ea_b0ff_30d9d9eee573row73_col6 {\n",
       "            background-color :  yellow;\n",
       "        }    #T_5e8d6992_c025_11ea_b0ff_30d9d9eee573row74_col4 {\n",
       "            background-color :  orange;\n",
       "        }    #T_5e8d6992_c025_11ea_b0ff_30d9d9eee573row74_col5 {\n",
       "            background-color :  pink;\n",
       "        }    #T_5e8d6992_c025_11ea_b0ff_30d9d9eee573row74_col6 {\n",
       "            background-color :  yellow;\n",
       "        }    #T_5e8d6992_c025_11ea_b0ff_30d9d9eee573row75_col4 {\n",
       "            background-color :  orange;\n",
       "        }    #T_5e8d6992_c025_11ea_b0ff_30d9d9eee573row75_col5 {\n",
       "            background-color :  pink;\n",
       "        }    #T_5e8d6992_c025_11ea_b0ff_30d9d9eee573row75_col6 {\n",
       "            background-color :  yellow;\n",
       "        }    #T_5e8d6992_c025_11ea_b0ff_30d9d9eee573row76_col4 {\n",
       "            background-color :  orange;\n",
       "        }    #T_5e8d6992_c025_11ea_b0ff_30d9d9eee573row76_col5 {\n",
       "            background-color :  pink;\n",
       "        }    #T_5e8d6992_c025_11ea_b0ff_30d9d9eee573row76_col6 {\n",
       "            background-color :  yellow;\n",
       "        }    #T_5e8d6992_c025_11ea_b0ff_30d9d9eee573row77_col4 {\n",
       "            background-color :  orange;\n",
       "        }    #T_5e8d6992_c025_11ea_b0ff_30d9d9eee573row77_col5 {\n",
       "            background-color :  pink;\n",
       "        }    #T_5e8d6992_c025_11ea_b0ff_30d9d9eee573row77_col6 {\n",
       "            background-color :  yellow;\n",
       "        }    #T_5e8d6992_c025_11ea_b0ff_30d9d9eee573row78_col4 {\n",
       "            background-color :  orange;\n",
       "        }    #T_5e8d6992_c025_11ea_b0ff_30d9d9eee573row78_col5 {\n",
       "            background-color :  pink;\n",
       "        }    #T_5e8d6992_c025_11ea_b0ff_30d9d9eee573row78_col6 {\n",
       "            background-color :  yellow;\n",
       "        }    #T_5e8d6992_c025_11ea_b0ff_30d9d9eee573row79_col4 {\n",
       "            background-color :  orange;\n",
       "        }    #T_5e8d6992_c025_11ea_b0ff_30d9d9eee573row79_col5 {\n",
       "            background-color :  pink;\n",
       "        }    #T_5e8d6992_c025_11ea_b0ff_30d9d9eee573row79_col6 {\n",
       "            background-color :  yellow;\n",
       "        }    #T_5e8d6992_c025_11ea_b0ff_30d9d9eee573row80_col4 {\n",
       "            background-color :  orange;\n",
       "        }    #T_5e8d6992_c025_11ea_b0ff_30d9d9eee573row80_col5 {\n",
       "            background-color :  pink;\n",
       "        }    #T_5e8d6992_c025_11ea_b0ff_30d9d9eee573row80_col6 {\n",
       "            background-color :  yellow;\n",
       "        }    #T_5e8d6992_c025_11ea_b0ff_30d9d9eee573row81_col4 {\n",
       "            background-color :  orange;\n",
       "        }    #T_5e8d6992_c025_11ea_b0ff_30d9d9eee573row81_col5 {\n",
       "            background-color :  pink;\n",
       "        }    #T_5e8d6992_c025_11ea_b0ff_30d9d9eee573row81_col6 {\n",
       "            background-color :  yellow;\n",
       "        }    #T_5e8d6992_c025_11ea_b0ff_30d9d9eee573row82_col4 {\n",
       "            background-color :  orange;\n",
       "        }    #T_5e8d6992_c025_11ea_b0ff_30d9d9eee573row82_col5 {\n",
       "            background-color :  pink;\n",
       "        }    #T_5e8d6992_c025_11ea_b0ff_30d9d9eee573row82_col6 {\n",
       "            background-color :  yellow;\n",
       "        }    #T_5e8d6992_c025_11ea_b0ff_30d9d9eee573row83_col4 {\n",
       "            background-color :  orange;\n",
       "        }    #T_5e8d6992_c025_11ea_b0ff_30d9d9eee573row83_col5 {\n",
       "            background-color :  pink;\n",
       "        }    #T_5e8d6992_c025_11ea_b0ff_30d9d9eee573row83_col6 {\n",
       "            background-color :  yellow;\n",
       "        }    #T_5e8d6992_c025_11ea_b0ff_30d9d9eee573row84_col4 {\n",
       "            background-color :  orange;\n",
       "        }    #T_5e8d6992_c025_11ea_b0ff_30d9d9eee573row84_col5 {\n",
       "            background-color :  pink;\n",
       "        }    #T_5e8d6992_c025_11ea_b0ff_30d9d9eee573row84_col6 {\n",
       "            background-color :  yellow;\n",
       "        }    #T_5e8d6992_c025_11ea_b0ff_30d9d9eee573row85_col4 {\n",
       "            background-color :  orange;\n",
       "        }    #T_5e8d6992_c025_11ea_b0ff_30d9d9eee573row85_col5 {\n",
       "            background-color :  pink;\n",
       "        }    #T_5e8d6992_c025_11ea_b0ff_30d9d9eee573row85_col6 {\n",
       "            background-color :  yellow;\n",
       "        }    #T_5e8d6992_c025_11ea_b0ff_30d9d9eee573row86_col4 {\n",
       "            background-color :  orange;\n",
       "        }    #T_5e8d6992_c025_11ea_b0ff_30d9d9eee573row86_col5 {\n",
       "            background-color :  pink;\n",
       "        }    #T_5e8d6992_c025_11ea_b0ff_30d9d9eee573row86_col6 {\n",
       "            background-color :  yellow;\n",
       "        }    #T_5e8d6992_c025_11ea_b0ff_30d9d9eee573row87_col4 {\n",
       "            background-color :  orange;\n",
       "        }    #T_5e8d6992_c025_11ea_b0ff_30d9d9eee573row87_col5 {\n",
       "            background-color :  pink;\n",
       "        }    #T_5e8d6992_c025_11ea_b0ff_30d9d9eee573row87_col6 {\n",
       "            background-color :  yellow;\n",
       "        }    #T_5e8d6992_c025_11ea_b0ff_30d9d9eee573row88_col4 {\n",
       "            background-color :  orange;\n",
       "        }    #T_5e8d6992_c025_11ea_b0ff_30d9d9eee573row88_col5 {\n",
       "            background-color :  pink;\n",
       "        }    #T_5e8d6992_c025_11ea_b0ff_30d9d9eee573row88_col6 {\n",
       "            background-color :  yellow;\n",
       "        }    #T_5e8d6992_c025_11ea_b0ff_30d9d9eee573row89_col4 {\n",
       "            background-color :  orange;\n",
       "        }    #T_5e8d6992_c025_11ea_b0ff_30d9d9eee573row89_col5 {\n",
       "            background-color :  pink;\n",
       "        }    #T_5e8d6992_c025_11ea_b0ff_30d9d9eee573row89_col6 {\n",
       "            background-color :  yellow;\n",
       "        }    #T_5e8d6992_c025_11ea_b0ff_30d9d9eee573row90_col4 {\n",
       "            background-color :  orange;\n",
       "        }    #T_5e8d6992_c025_11ea_b0ff_30d9d9eee573row90_col5 {\n",
       "            background-color :  pink;\n",
       "        }    #T_5e8d6992_c025_11ea_b0ff_30d9d9eee573row90_col6 {\n",
       "            background-color :  yellow;\n",
       "        }    #T_5e8d6992_c025_11ea_b0ff_30d9d9eee573row91_col4 {\n",
       "            background-color :  orange;\n",
       "        }    #T_5e8d6992_c025_11ea_b0ff_30d9d9eee573row91_col5 {\n",
       "            background-color :  pink;\n",
       "        }    #T_5e8d6992_c025_11ea_b0ff_30d9d9eee573row91_col6 {\n",
       "            background-color :  yellow;\n",
       "        }    #T_5e8d6992_c025_11ea_b0ff_30d9d9eee573row92_col4 {\n",
       "            background-color :  orange;\n",
       "        }    #T_5e8d6992_c025_11ea_b0ff_30d9d9eee573row92_col5 {\n",
       "            background-color :  pink;\n",
       "        }    #T_5e8d6992_c025_11ea_b0ff_30d9d9eee573row92_col6 {\n",
       "            background-color :  yellow;\n",
       "        }    #T_5e8d6992_c025_11ea_b0ff_30d9d9eee573row93_col4 {\n",
       "            background-color :  orange;\n",
       "        }    #T_5e8d6992_c025_11ea_b0ff_30d9d9eee573row93_col5 {\n",
       "            background-color :  pink;\n",
       "        }    #T_5e8d6992_c025_11ea_b0ff_30d9d9eee573row93_col6 {\n",
       "            background-color :  yellow;\n",
       "        }    #T_5e8d6992_c025_11ea_b0ff_30d9d9eee573row94_col4 {\n",
       "            background-color :  orange;\n",
       "        }    #T_5e8d6992_c025_11ea_b0ff_30d9d9eee573row94_col5 {\n",
       "            background-color :  pink;\n",
       "        }    #T_5e8d6992_c025_11ea_b0ff_30d9d9eee573row94_col6 {\n",
       "            background-color :  yellow;\n",
       "        }    #T_5e8d6992_c025_11ea_b0ff_30d9d9eee573row95_col4 {\n",
       "            background-color :  orange;\n",
       "        }    #T_5e8d6992_c025_11ea_b0ff_30d9d9eee573row95_col5 {\n",
       "            background-color :  pink;\n",
       "        }    #T_5e8d6992_c025_11ea_b0ff_30d9d9eee573row95_col6 {\n",
       "            background-color :  yellow;\n",
       "        }    #T_5e8d6992_c025_11ea_b0ff_30d9d9eee573row96_col4 {\n",
       "            background-color :  orange;\n",
       "        }    #T_5e8d6992_c025_11ea_b0ff_30d9d9eee573row96_col5 {\n",
       "            background-color :  pink;\n",
       "        }    #T_5e8d6992_c025_11ea_b0ff_30d9d9eee573row96_col6 {\n",
       "            background-color :  yellow;\n",
       "        }    #T_5e8d6992_c025_11ea_b0ff_30d9d9eee573row97_col4 {\n",
       "            background-color :  orange;\n",
       "        }    #T_5e8d6992_c025_11ea_b0ff_30d9d9eee573row97_col5 {\n",
       "            background-color :  pink;\n",
       "        }    #T_5e8d6992_c025_11ea_b0ff_30d9d9eee573row97_col6 {\n",
       "            background-color :  yellow;\n",
       "        }    #T_5e8d6992_c025_11ea_b0ff_30d9d9eee573row98_col4 {\n",
       "            background-color :  orange;\n",
       "        }    #T_5e8d6992_c025_11ea_b0ff_30d9d9eee573row98_col5 {\n",
       "            background-color :  pink;\n",
       "        }    #T_5e8d6992_c025_11ea_b0ff_30d9d9eee573row98_col6 {\n",
       "            background-color :  yellow;\n",
       "        }    #T_5e8d6992_c025_11ea_b0ff_30d9d9eee573row99_col4 {\n",
       "            background-color :  orange;\n",
       "        }    #T_5e8d6992_c025_11ea_b0ff_30d9d9eee573row99_col5 {\n",
       "            background-color :  pink;\n",
       "        }    #T_5e8d6992_c025_11ea_b0ff_30d9d9eee573row99_col6 {\n",
       "            background-color :  yellow;\n",
       "        }    #T_5e8d6992_c025_11ea_b0ff_30d9d9eee573row100_col4 {\n",
       "            background-color :  orange;\n",
       "        }    #T_5e8d6992_c025_11ea_b0ff_30d9d9eee573row100_col5 {\n",
       "            background-color :  pink;\n",
       "        }    #T_5e8d6992_c025_11ea_b0ff_30d9d9eee573row100_col6 {\n",
       "            background-color :  yellow;\n",
       "        }    #T_5e8d6992_c025_11ea_b0ff_30d9d9eee573row101_col4 {\n",
       "            background-color :  orange;\n",
       "        }    #T_5e8d6992_c025_11ea_b0ff_30d9d9eee573row101_col5 {\n",
       "            background-color :  pink;\n",
       "        }    #T_5e8d6992_c025_11ea_b0ff_30d9d9eee573row101_col6 {\n",
       "            background-color :  yellow;\n",
       "        }    #T_5e8d6992_c025_11ea_b0ff_30d9d9eee573row102_col4 {\n",
       "            background-color :  orange;\n",
       "        }    #T_5e8d6992_c025_11ea_b0ff_30d9d9eee573row102_col5 {\n",
       "            background-color :  pink;\n",
       "        }    #T_5e8d6992_c025_11ea_b0ff_30d9d9eee573row102_col6 {\n",
       "            background-color :  yellow;\n",
       "        }    #T_5e8d6992_c025_11ea_b0ff_30d9d9eee573row103_col4 {\n",
       "            background-color :  orange;\n",
       "        }    #T_5e8d6992_c025_11ea_b0ff_30d9d9eee573row103_col5 {\n",
       "            background-color :  pink;\n",
       "        }    #T_5e8d6992_c025_11ea_b0ff_30d9d9eee573row103_col6 {\n",
       "            background-color :  yellow;\n",
       "        }    #T_5e8d6992_c025_11ea_b0ff_30d9d9eee573row104_col4 {\n",
       "            background-color :  orange;\n",
       "        }    #T_5e8d6992_c025_11ea_b0ff_30d9d9eee573row104_col5 {\n",
       "            background-color :  pink;\n",
       "        }    #T_5e8d6992_c025_11ea_b0ff_30d9d9eee573row104_col6 {\n",
       "            background-color :  yellow;\n",
       "        }    #T_5e8d6992_c025_11ea_b0ff_30d9d9eee573row105_col4 {\n",
       "            background-color :  orange;\n",
       "        }    #T_5e8d6992_c025_11ea_b0ff_30d9d9eee573row105_col5 {\n",
       "            background-color :  pink;\n",
       "        }    #T_5e8d6992_c025_11ea_b0ff_30d9d9eee573row105_col6 {\n",
       "            background-color :  yellow;\n",
       "        }    #T_5e8d6992_c025_11ea_b0ff_30d9d9eee573row106_col4 {\n",
       "            background-color :  orange;\n",
       "        }    #T_5e8d6992_c025_11ea_b0ff_30d9d9eee573row106_col5 {\n",
       "            background-color :  pink;\n",
       "        }    #T_5e8d6992_c025_11ea_b0ff_30d9d9eee573row106_col6 {\n",
       "            background-color :  yellow;\n",
       "        }    #T_5e8d6992_c025_11ea_b0ff_30d9d9eee573row107_col4 {\n",
       "            background-color :  orange;\n",
       "        }    #T_5e8d6992_c025_11ea_b0ff_30d9d9eee573row107_col5 {\n",
       "            background-color :  pink;\n",
       "        }    #T_5e8d6992_c025_11ea_b0ff_30d9d9eee573row107_col6 {\n",
       "            background-color :  yellow;\n",
       "        }    #T_5e8d6992_c025_11ea_b0ff_30d9d9eee573row108_col4 {\n",
       "            background-color :  orange;\n",
       "        }    #T_5e8d6992_c025_11ea_b0ff_30d9d9eee573row108_col5 {\n",
       "            background-color :  pink;\n",
       "        }    #T_5e8d6992_c025_11ea_b0ff_30d9d9eee573row108_col6 {\n",
       "            background-color :  yellow;\n",
       "        }    #T_5e8d6992_c025_11ea_b0ff_30d9d9eee573row109_col4 {\n",
       "            background-color :  orange;\n",
       "        }    #T_5e8d6992_c025_11ea_b0ff_30d9d9eee573row109_col5 {\n",
       "            background-color :  pink;\n",
       "        }    #T_5e8d6992_c025_11ea_b0ff_30d9d9eee573row109_col6 {\n",
       "            background-color :  yellow;\n",
       "        }    #T_5e8d6992_c025_11ea_b0ff_30d9d9eee573row110_col4 {\n",
       "            background-color :  orange;\n",
       "        }    #T_5e8d6992_c025_11ea_b0ff_30d9d9eee573row110_col5 {\n",
       "            background-color :  pink;\n",
       "        }    #T_5e8d6992_c025_11ea_b0ff_30d9d9eee573row110_col6 {\n",
       "            background-color :  yellow;\n",
       "        }    #T_5e8d6992_c025_11ea_b0ff_30d9d9eee573row111_col4 {\n",
       "            background-color :  orange;\n",
       "        }    #T_5e8d6992_c025_11ea_b0ff_30d9d9eee573row111_col5 {\n",
       "            background-color :  pink;\n",
       "        }    #T_5e8d6992_c025_11ea_b0ff_30d9d9eee573row111_col6 {\n",
       "            background-color :  yellow;\n",
       "        }    #T_5e8d6992_c025_11ea_b0ff_30d9d9eee573row112_col4 {\n",
       "            background-color :  orange;\n",
       "        }    #T_5e8d6992_c025_11ea_b0ff_30d9d9eee573row112_col5 {\n",
       "            background-color :  pink;\n",
       "        }    #T_5e8d6992_c025_11ea_b0ff_30d9d9eee573row112_col6 {\n",
       "            background-color :  yellow;\n",
       "        }    #T_5e8d6992_c025_11ea_b0ff_30d9d9eee573row113_col4 {\n",
       "            background-color :  orange;\n",
       "        }    #T_5e8d6992_c025_11ea_b0ff_30d9d9eee573row113_col5 {\n",
       "            background-color :  pink;\n",
       "        }    #T_5e8d6992_c025_11ea_b0ff_30d9d9eee573row113_col6 {\n",
       "            background-color :  yellow;\n",
       "        }    #T_5e8d6992_c025_11ea_b0ff_30d9d9eee573row114_col4 {\n",
       "            background-color :  orange;\n",
       "        }    #T_5e8d6992_c025_11ea_b0ff_30d9d9eee573row114_col5 {\n",
       "            background-color :  pink;\n",
       "        }    #T_5e8d6992_c025_11ea_b0ff_30d9d9eee573row114_col6 {\n",
       "            background-color :  yellow;\n",
       "        }    #T_5e8d6992_c025_11ea_b0ff_30d9d9eee573row115_col4 {\n",
       "            background-color :  orange;\n",
       "        }    #T_5e8d6992_c025_11ea_b0ff_30d9d9eee573row115_col5 {\n",
       "            background-color :  pink;\n",
       "        }    #T_5e8d6992_c025_11ea_b0ff_30d9d9eee573row115_col6 {\n",
       "            background-color :  yellow;\n",
       "        }    #T_5e8d6992_c025_11ea_b0ff_30d9d9eee573row116_col4 {\n",
       "            background-color :  orange;\n",
       "        }    #T_5e8d6992_c025_11ea_b0ff_30d9d9eee573row116_col5 {\n",
       "            background-color :  pink;\n",
       "        }    #T_5e8d6992_c025_11ea_b0ff_30d9d9eee573row116_col6 {\n",
       "            background-color :  yellow;\n",
       "        }    #T_5e8d6992_c025_11ea_b0ff_30d9d9eee573row117_col4 {\n",
       "            background-color :  orange;\n",
       "        }    #T_5e8d6992_c025_11ea_b0ff_30d9d9eee573row117_col5 {\n",
       "            background-color :  pink;\n",
       "        }    #T_5e8d6992_c025_11ea_b0ff_30d9d9eee573row117_col6 {\n",
       "            background-color :  yellow;\n",
       "        }    #T_5e8d6992_c025_11ea_b0ff_30d9d9eee573row118_col4 {\n",
       "            background-color :  orange;\n",
       "        }    #T_5e8d6992_c025_11ea_b0ff_30d9d9eee573row118_col5 {\n",
       "            background-color :  pink;\n",
       "        }    #T_5e8d6992_c025_11ea_b0ff_30d9d9eee573row118_col6 {\n",
       "            background-color :  yellow;\n",
       "        }    #T_5e8d6992_c025_11ea_b0ff_30d9d9eee573row119_col4 {\n",
       "            background-color :  orange;\n",
       "        }    #T_5e8d6992_c025_11ea_b0ff_30d9d9eee573row119_col5 {\n",
       "            background-color :  pink;\n",
       "        }    #T_5e8d6992_c025_11ea_b0ff_30d9d9eee573row119_col6 {\n",
       "            background-color :  yellow;\n",
       "        }    #T_5e8d6992_c025_11ea_b0ff_30d9d9eee573row120_col4 {\n",
       "            background-color :  orange;\n",
       "        }    #T_5e8d6992_c025_11ea_b0ff_30d9d9eee573row120_col5 {\n",
       "            background-color :  pink;\n",
       "        }    #T_5e8d6992_c025_11ea_b0ff_30d9d9eee573row120_col6 {\n",
       "            background-color :  yellow;\n",
       "        }    #T_5e8d6992_c025_11ea_b0ff_30d9d9eee573row121_col4 {\n",
       "            background-color :  orange;\n",
       "        }    #T_5e8d6992_c025_11ea_b0ff_30d9d9eee573row121_col5 {\n",
       "            background-color :  pink;\n",
       "        }    #T_5e8d6992_c025_11ea_b0ff_30d9d9eee573row121_col6 {\n",
       "            background-color :  yellow;\n",
       "        }    #T_5e8d6992_c025_11ea_b0ff_30d9d9eee573row122_col4 {\n",
       "            background-color :  orange;\n",
       "        }    #T_5e8d6992_c025_11ea_b0ff_30d9d9eee573row122_col5 {\n",
       "            background-color :  pink;\n",
       "        }    #T_5e8d6992_c025_11ea_b0ff_30d9d9eee573row122_col6 {\n",
       "            background-color :  yellow;\n",
       "        }    #T_5e8d6992_c025_11ea_b0ff_30d9d9eee573row123_col4 {\n",
       "            background-color :  orange;\n",
       "        }    #T_5e8d6992_c025_11ea_b0ff_30d9d9eee573row123_col5 {\n",
       "            background-color :  pink;\n",
       "        }    #T_5e8d6992_c025_11ea_b0ff_30d9d9eee573row123_col6 {\n",
       "            background-color :  yellow;\n",
       "        }    #T_5e8d6992_c025_11ea_b0ff_30d9d9eee573row124_col4 {\n",
       "            background-color :  orange;\n",
       "        }    #T_5e8d6992_c025_11ea_b0ff_30d9d9eee573row124_col5 {\n",
       "            background-color :  pink;\n",
       "        }    #T_5e8d6992_c025_11ea_b0ff_30d9d9eee573row124_col6 {\n",
       "            background-color :  yellow;\n",
       "        }    #T_5e8d6992_c025_11ea_b0ff_30d9d9eee573row125_col4 {\n",
       "            background-color :  orange;\n",
       "        }    #T_5e8d6992_c025_11ea_b0ff_30d9d9eee573row125_col5 {\n",
       "            background-color :  pink;\n",
       "        }    #T_5e8d6992_c025_11ea_b0ff_30d9d9eee573row125_col6 {\n",
       "            background-color :  yellow;\n",
       "        }    #T_5e8d6992_c025_11ea_b0ff_30d9d9eee573row126_col4 {\n",
       "            background-color :  orange;\n",
       "        }    #T_5e8d6992_c025_11ea_b0ff_30d9d9eee573row126_col5 {\n",
       "            background-color :  pink;\n",
       "        }    #T_5e8d6992_c025_11ea_b0ff_30d9d9eee573row126_col6 {\n",
       "            background-color :  yellow;\n",
       "        }    #T_5e8d6992_c025_11ea_b0ff_30d9d9eee573row127_col4 {\n",
       "            background-color :  orange;\n",
       "        }    #T_5e8d6992_c025_11ea_b0ff_30d9d9eee573row127_col5 {\n",
       "            background-color :  pink;\n",
       "        }    #T_5e8d6992_c025_11ea_b0ff_30d9d9eee573row127_col6 {\n",
       "            background-color :  yellow;\n",
       "        }    #T_5e8d6992_c025_11ea_b0ff_30d9d9eee573row128_col4 {\n",
       "            background-color :  orange;\n",
       "        }    #T_5e8d6992_c025_11ea_b0ff_30d9d9eee573row128_col5 {\n",
       "            background-color :  pink;\n",
       "        }    #T_5e8d6992_c025_11ea_b0ff_30d9d9eee573row128_col6 {\n",
       "            background-color :  yellow;\n",
       "        }    #T_5e8d6992_c025_11ea_b0ff_30d9d9eee573row129_col4 {\n",
       "            background-color :  orange;\n",
       "        }    #T_5e8d6992_c025_11ea_b0ff_30d9d9eee573row129_col5 {\n",
       "            background-color :  pink;\n",
       "        }    #T_5e8d6992_c025_11ea_b0ff_30d9d9eee573row129_col6 {\n",
       "            background-color :  yellow;\n",
       "        }    #T_5e8d6992_c025_11ea_b0ff_30d9d9eee573row130_col4 {\n",
       "            background-color :  orange;\n",
       "        }    #T_5e8d6992_c025_11ea_b0ff_30d9d9eee573row130_col5 {\n",
       "            background-color :  pink;\n",
       "        }    #T_5e8d6992_c025_11ea_b0ff_30d9d9eee573row130_col6 {\n",
       "            background-color :  yellow;\n",
       "        }    #T_5e8d6992_c025_11ea_b0ff_30d9d9eee573row131_col4 {\n",
       "            background-color :  orange;\n",
       "        }    #T_5e8d6992_c025_11ea_b0ff_30d9d9eee573row131_col5 {\n",
       "            background-color :  pink;\n",
       "        }    #T_5e8d6992_c025_11ea_b0ff_30d9d9eee573row131_col6 {\n",
       "            background-color :  yellow;\n",
       "        }    #T_5e8d6992_c025_11ea_b0ff_30d9d9eee573row132_col4 {\n",
       "            background-color :  orange;\n",
       "        }    #T_5e8d6992_c025_11ea_b0ff_30d9d9eee573row132_col5 {\n",
       "            background-color :  pink;\n",
       "        }    #T_5e8d6992_c025_11ea_b0ff_30d9d9eee573row132_col6 {\n",
       "            background-color :  yellow;\n",
       "        }    #T_5e8d6992_c025_11ea_b0ff_30d9d9eee573row133_col4 {\n",
       "            background-color :  orange;\n",
       "        }    #T_5e8d6992_c025_11ea_b0ff_30d9d9eee573row133_col5 {\n",
       "            background-color :  pink;\n",
       "        }    #T_5e8d6992_c025_11ea_b0ff_30d9d9eee573row133_col6 {\n",
       "            background-color :  yellow;\n",
       "        }    #T_5e8d6992_c025_11ea_b0ff_30d9d9eee573row134_col4 {\n",
       "            background-color :  orange;\n",
       "        }    #T_5e8d6992_c025_11ea_b0ff_30d9d9eee573row134_col5 {\n",
       "            background-color :  pink;\n",
       "        }    #T_5e8d6992_c025_11ea_b0ff_30d9d9eee573row134_col6 {\n",
       "            background-color :  yellow;\n",
       "        }    #T_5e8d6992_c025_11ea_b0ff_30d9d9eee573row135_col4 {\n",
       "            background-color :  orange;\n",
       "        }    #T_5e8d6992_c025_11ea_b0ff_30d9d9eee573row135_col5 {\n",
       "            background-color :  pink;\n",
       "        }    #T_5e8d6992_c025_11ea_b0ff_30d9d9eee573row135_col6 {\n",
       "            background-color :  yellow;\n",
       "        }    #T_5e8d6992_c025_11ea_b0ff_30d9d9eee573row136_col4 {\n",
       "            background-color :  orange;\n",
       "        }    #T_5e8d6992_c025_11ea_b0ff_30d9d9eee573row136_col5 {\n",
       "            background-color :  pink;\n",
       "        }    #T_5e8d6992_c025_11ea_b0ff_30d9d9eee573row136_col6 {\n",
       "            background-color :  yellow;\n",
       "        }    #T_5e8d6992_c025_11ea_b0ff_30d9d9eee573row137_col4 {\n",
       "            background-color :  orange;\n",
       "        }    #T_5e8d6992_c025_11ea_b0ff_30d9d9eee573row137_col5 {\n",
       "            background-color :  pink;\n",
       "        }    #T_5e8d6992_c025_11ea_b0ff_30d9d9eee573row137_col6 {\n",
       "            background-color :  yellow;\n",
       "        }    #T_5e8d6992_c025_11ea_b0ff_30d9d9eee573row138_col4 {\n",
       "            background-color :  orange;\n",
       "        }    #T_5e8d6992_c025_11ea_b0ff_30d9d9eee573row138_col5 {\n",
       "            background-color :  pink;\n",
       "        }    #T_5e8d6992_c025_11ea_b0ff_30d9d9eee573row138_col6 {\n",
       "            background-color :  yellow;\n",
       "        }    #T_5e8d6992_c025_11ea_b0ff_30d9d9eee573row139_col4 {\n",
       "            background-color :  orange;\n",
       "        }    #T_5e8d6992_c025_11ea_b0ff_30d9d9eee573row139_col5 {\n",
       "            background-color :  pink;\n",
       "        }    #T_5e8d6992_c025_11ea_b0ff_30d9d9eee573row139_col6 {\n",
       "            background-color :  yellow;\n",
       "        }    #T_5e8d6992_c025_11ea_b0ff_30d9d9eee573row140_col4 {\n",
       "            background-color :  orange;\n",
       "        }    #T_5e8d6992_c025_11ea_b0ff_30d9d9eee573row140_col5 {\n",
       "            background-color :  pink;\n",
       "        }    #T_5e8d6992_c025_11ea_b0ff_30d9d9eee573row140_col6 {\n",
       "            background-color :  yellow;\n",
       "        }    #T_5e8d6992_c025_11ea_b0ff_30d9d9eee573row141_col4 {\n",
       "            background-color :  orange;\n",
       "        }    #T_5e8d6992_c025_11ea_b0ff_30d9d9eee573row141_col5 {\n",
       "            background-color :  pink;\n",
       "        }    #T_5e8d6992_c025_11ea_b0ff_30d9d9eee573row141_col6 {\n",
       "            background-color :  yellow;\n",
       "        }    #T_5e8d6992_c025_11ea_b0ff_30d9d9eee573row142_col4 {\n",
       "            background-color :  orange;\n",
       "        }    #T_5e8d6992_c025_11ea_b0ff_30d9d9eee573row142_col5 {\n",
       "            background-color :  pink;\n",
       "        }    #T_5e8d6992_c025_11ea_b0ff_30d9d9eee573row142_col6 {\n",
       "            background-color :  yellow;\n",
       "        }    #T_5e8d6992_c025_11ea_b0ff_30d9d9eee573row143_col4 {\n",
       "            background-color :  orange;\n",
       "        }    #T_5e8d6992_c025_11ea_b0ff_30d9d9eee573row143_col5 {\n",
       "            background-color :  pink;\n",
       "        }    #T_5e8d6992_c025_11ea_b0ff_30d9d9eee573row143_col6 {\n",
       "            background-color :  yellow;\n",
       "        }    #T_5e8d6992_c025_11ea_b0ff_30d9d9eee573row144_col4 {\n",
       "            background-color :  orange;\n",
       "        }    #T_5e8d6992_c025_11ea_b0ff_30d9d9eee573row144_col5 {\n",
       "            background-color :  pink;\n",
       "        }    #T_5e8d6992_c025_11ea_b0ff_30d9d9eee573row144_col6 {\n",
       "            background-color :  yellow;\n",
       "        }    #T_5e8d6992_c025_11ea_b0ff_30d9d9eee573row145_col4 {\n",
       "            background-color :  orange;\n",
       "        }    #T_5e8d6992_c025_11ea_b0ff_30d9d9eee573row145_col5 {\n",
       "            background-color :  pink;\n",
       "        }    #T_5e8d6992_c025_11ea_b0ff_30d9d9eee573row145_col6 {\n",
       "            background-color :  yellow;\n",
       "        }    #T_5e8d6992_c025_11ea_b0ff_30d9d9eee573row146_col4 {\n",
       "            background-color :  orange;\n",
       "        }    #T_5e8d6992_c025_11ea_b0ff_30d9d9eee573row146_col5 {\n",
       "            background-color :  pink;\n",
       "        }    #T_5e8d6992_c025_11ea_b0ff_30d9d9eee573row146_col6 {\n",
       "            background-color :  yellow;\n",
       "        }    #T_5e8d6992_c025_11ea_b0ff_30d9d9eee573row147_col4 {\n",
       "            background-color :  orange;\n",
       "        }    #T_5e8d6992_c025_11ea_b0ff_30d9d9eee573row147_col5 {\n",
       "            background-color :  pink;\n",
       "        }    #T_5e8d6992_c025_11ea_b0ff_30d9d9eee573row147_col6 {\n",
       "            background-color :  yellow;\n",
       "        }    #T_5e8d6992_c025_11ea_b0ff_30d9d9eee573row148_col4 {\n",
       "            background-color :  orange;\n",
       "        }    #T_5e8d6992_c025_11ea_b0ff_30d9d9eee573row148_col5 {\n",
       "            background-color :  pink;\n",
       "        }    #T_5e8d6992_c025_11ea_b0ff_30d9d9eee573row148_col6 {\n",
       "            background-color :  yellow;\n",
       "        }    #T_5e8d6992_c025_11ea_b0ff_30d9d9eee573row149_col4 {\n",
       "            background-color :  orange;\n",
       "        }    #T_5e8d6992_c025_11ea_b0ff_30d9d9eee573row149_col5 {\n",
       "            background-color :  pink;\n",
       "        }    #T_5e8d6992_c025_11ea_b0ff_30d9d9eee573row149_col6 {\n",
       "            background-color :  yellow;\n",
       "        }    #T_5e8d6992_c025_11ea_b0ff_30d9d9eee573row150_col4 {\n",
       "            background-color :  orange;\n",
       "        }    #T_5e8d6992_c025_11ea_b0ff_30d9d9eee573row150_col5 {\n",
       "            background-color :  pink;\n",
       "        }    #T_5e8d6992_c025_11ea_b0ff_30d9d9eee573row150_col6 {\n",
       "            background-color :  yellow;\n",
       "        }    #T_5e8d6992_c025_11ea_b0ff_30d9d9eee573row151_col4 {\n",
       "            background-color :  orange;\n",
       "        }    #T_5e8d6992_c025_11ea_b0ff_30d9d9eee573row151_col5 {\n",
       "            background-color :  pink;\n",
       "        }    #T_5e8d6992_c025_11ea_b0ff_30d9d9eee573row151_col6 {\n",
       "            background-color :  yellow;\n",
       "        }    #T_5e8d6992_c025_11ea_b0ff_30d9d9eee573row152_col4 {\n",
       "            background-color :  orange;\n",
       "        }    #T_5e8d6992_c025_11ea_b0ff_30d9d9eee573row152_col5 {\n",
       "            background-color :  pink;\n",
       "        }    #T_5e8d6992_c025_11ea_b0ff_30d9d9eee573row152_col6 {\n",
       "            background-color :  yellow;\n",
       "        }    #T_5e8d6992_c025_11ea_b0ff_30d9d9eee573row153_col4 {\n",
       "            background-color :  orange;\n",
       "        }    #T_5e8d6992_c025_11ea_b0ff_30d9d9eee573row153_col5 {\n",
       "            background-color :  pink;\n",
       "        }    #T_5e8d6992_c025_11ea_b0ff_30d9d9eee573row153_col6 {\n",
       "            background-color :  yellow;\n",
       "        }    #T_5e8d6992_c025_11ea_b0ff_30d9d9eee573row154_col4 {\n",
       "            background-color :  orange;\n",
       "        }    #T_5e8d6992_c025_11ea_b0ff_30d9d9eee573row154_col5 {\n",
       "            background-color :  pink;\n",
       "        }    #T_5e8d6992_c025_11ea_b0ff_30d9d9eee573row154_col6 {\n",
       "            background-color :  yellow;\n",
       "        }    #T_5e8d6992_c025_11ea_b0ff_30d9d9eee573row155_col4 {\n",
       "            background-color :  orange;\n",
       "        }    #T_5e8d6992_c025_11ea_b0ff_30d9d9eee573row155_col5 {\n",
       "            background-color :  pink;\n",
       "        }    #T_5e8d6992_c025_11ea_b0ff_30d9d9eee573row155_col6 {\n",
       "            background-color :  yellow;\n",
       "        }    #T_5e8d6992_c025_11ea_b0ff_30d9d9eee573row156_col4 {\n",
       "            background-color :  orange;\n",
       "        }    #T_5e8d6992_c025_11ea_b0ff_30d9d9eee573row156_col5 {\n",
       "            background-color :  pink;\n",
       "        }    #T_5e8d6992_c025_11ea_b0ff_30d9d9eee573row156_col6 {\n",
       "            background-color :  yellow;\n",
       "        }    #T_5e8d6992_c025_11ea_b0ff_30d9d9eee573row157_col4 {\n",
       "            background-color :  orange;\n",
       "        }    #T_5e8d6992_c025_11ea_b0ff_30d9d9eee573row157_col5 {\n",
       "            background-color :  pink;\n",
       "        }    #T_5e8d6992_c025_11ea_b0ff_30d9d9eee573row157_col6 {\n",
       "            background-color :  yellow;\n",
       "        }    #T_5e8d6992_c025_11ea_b0ff_30d9d9eee573row158_col4 {\n",
       "            background-color :  orange;\n",
       "        }    #T_5e8d6992_c025_11ea_b0ff_30d9d9eee573row158_col5 {\n",
       "            background-color :  pink;\n",
       "        }    #T_5e8d6992_c025_11ea_b0ff_30d9d9eee573row158_col6 {\n",
       "            background-color :  yellow;\n",
       "        }    #T_5e8d6992_c025_11ea_b0ff_30d9d9eee573row159_col4 {\n",
       "            background-color :  orange;\n",
       "        }    #T_5e8d6992_c025_11ea_b0ff_30d9d9eee573row159_col5 {\n",
       "            background-color :  pink;\n",
       "        }    #T_5e8d6992_c025_11ea_b0ff_30d9d9eee573row159_col6 {\n",
       "            background-color :  yellow;\n",
       "        }    #T_5e8d6992_c025_11ea_b0ff_30d9d9eee573row160_col4 {\n",
       "            background-color :  orange;\n",
       "        }    #T_5e8d6992_c025_11ea_b0ff_30d9d9eee573row160_col5 {\n",
       "            background-color :  pink;\n",
       "        }    #T_5e8d6992_c025_11ea_b0ff_30d9d9eee573row160_col6 {\n",
       "            background-color :  yellow;\n",
       "        }    #T_5e8d6992_c025_11ea_b0ff_30d9d9eee573row161_col4 {\n",
       "            background-color :  orange;\n",
       "        }    #T_5e8d6992_c025_11ea_b0ff_30d9d9eee573row161_col5 {\n",
       "            background-color :  pink;\n",
       "        }    #T_5e8d6992_c025_11ea_b0ff_30d9d9eee573row161_col6 {\n",
       "            background-color :  yellow;\n",
       "        }    #T_5e8d6992_c025_11ea_b0ff_30d9d9eee573row162_col4 {\n",
       "            background-color :  orange;\n",
       "        }    #T_5e8d6992_c025_11ea_b0ff_30d9d9eee573row162_col5 {\n",
       "            background-color :  pink;\n",
       "        }    #T_5e8d6992_c025_11ea_b0ff_30d9d9eee573row162_col6 {\n",
       "            background-color :  yellow;\n",
       "        }    #T_5e8d6992_c025_11ea_b0ff_30d9d9eee573row163_col4 {\n",
       "            background-color :  orange;\n",
       "        }    #T_5e8d6992_c025_11ea_b0ff_30d9d9eee573row163_col5 {\n",
       "            background-color :  pink;\n",
       "        }    #T_5e8d6992_c025_11ea_b0ff_30d9d9eee573row163_col6 {\n",
       "            background-color :  yellow;\n",
       "        }    #T_5e8d6992_c025_11ea_b0ff_30d9d9eee573row164_col4 {\n",
       "            background-color :  orange;\n",
       "        }    #T_5e8d6992_c025_11ea_b0ff_30d9d9eee573row164_col5 {\n",
       "            background-color :  pink;\n",
       "        }    #T_5e8d6992_c025_11ea_b0ff_30d9d9eee573row164_col6 {\n",
       "            background-color :  yellow;\n",
       "        }    #T_5e8d6992_c025_11ea_b0ff_30d9d9eee573row165_col4 {\n",
       "            background-color :  orange;\n",
       "        }    #T_5e8d6992_c025_11ea_b0ff_30d9d9eee573row165_col5 {\n",
       "            background-color :  pink;\n",
       "        }    #T_5e8d6992_c025_11ea_b0ff_30d9d9eee573row165_col6 {\n",
       "            background-color :  yellow;\n",
       "        }    #T_5e8d6992_c025_11ea_b0ff_30d9d9eee573row166_col4 {\n",
       "            background-color :  orange;\n",
       "        }    #T_5e8d6992_c025_11ea_b0ff_30d9d9eee573row166_col5 {\n",
       "            background-color :  pink;\n",
       "        }    #T_5e8d6992_c025_11ea_b0ff_30d9d9eee573row166_col6 {\n",
       "            background-color :  yellow;\n",
       "        }    #T_5e8d6992_c025_11ea_b0ff_30d9d9eee573row167_col4 {\n",
       "            background-color :  orange;\n",
       "        }    #T_5e8d6992_c025_11ea_b0ff_30d9d9eee573row167_col5 {\n",
       "            background-color :  pink;\n",
       "        }    #T_5e8d6992_c025_11ea_b0ff_30d9d9eee573row167_col6 {\n",
       "            background-color :  yellow;\n",
       "        }    #T_5e8d6992_c025_11ea_b0ff_30d9d9eee573row168_col4 {\n",
       "            background-color :  orange;\n",
       "        }    #T_5e8d6992_c025_11ea_b0ff_30d9d9eee573row168_col5 {\n",
       "            background-color :  pink;\n",
       "        }    #T_5e8d6992_c025_11ea_b0ff_30d9d9eee573row168_col6 {\n",
       "            background-color :  yellow;\n",
       "        }    #T_5e8d6992_c025_11ea_b0ff_30d9d9eee573row169_col4 {\n",
       "            background-color :  orange;\n",
       "        }    #T_5e8d6992_c025_11ea_b0ff_30d9d9eee573row169_col5 {\n",
       "            background-color :  pink;\n",
       "        }    #T_5e8d6992_c025_11ea_b0ff_30d9d9eee573row169_col6 {\n",
       "            background-color :  yellow;\n",
       "        }    #T_5e8d6992_c025_11ea_b0ff_30d9d9eee573row170_col4 {\n",
       "            background-color :  orange;\n",
       "        }    #T_5e8d6992_c025_11ea_b0ff_30d9d9eee573row170_col5 {\n",
       "            background-color :  pink;\n",
       "        }    #T_5e8d6992_c025_11ea_b0ff_30d9d9eee573row170_col6 {\n",
       "            background-color :  yellow;\n",
       "        }    #T_5e8d6992_c025_11ea_b0ff_30d9d9eee573row171_col4 {\n",
       "            background-color :  orange;\n",
       "        }    #T_5e8d6992_c025_11ea_b0ff_30d9d9eee573row171_col5 {\n",
       "            background-color :  pink;\n",
       "        }    #T_5e8d6992_c025_11ea_b0ff_30d9d9eee573row171_col6 {\n",
       "            background-color :  yellow;\n",
       "        }    #T_5e8d6992_c025_11ea_b0ff_30d9d9eee573row172_col4 {\n",
       "            background-color :  orange;\n",
       "        }    #T_5e8d6992_c025_11ea_b0ff_30d9d9eee573row172_col5 {\n",
       "            background-color :  pink;\n",
       "        }    #T_5e8d6992_c025_11ea_b0ff_30d9d9eee573row172_col6 {\n",
       "            background-color :  yellow;\n",
       "        }    #T_5e8d6992_c025_11ea_b0ff_30d9d9eee573row173_col4 {\n",
       "            background-color :  orange;\n",
       "        }    #T_5e8d6992_c025_11ea_b0ff_30d9d9eee573row173_col5 {\n",
       "            background-color :  pink;\n",
       "        }    #T_5e8d6992_c025_11ea_b0ff_30d9d9eee573row173_col6 {\n",
       "            background-color :  yellow;\n",
       "        }    #T_5e8d6992_c025_11ea_b0ff_30d9d9eee573row174_col4 {\n",
       "            background-color :  orange;\n",
       "        }    #T_5e8d6992_c025_11ea_b0ff_30d9d9eee573row174_col5 {\n",
       "            background-color :  pink;\n",
       "        }    #T_5e8d6992_c025_11ea_b0ff_30d9d9eee573row174_col6 {\n",
       "            background-color :  yellow;\n",
       "        }    #T_5e8d6992_c025_11ea_b0ff_30d9d9eee573row175_col4 {\n",
       "            background-color :  orange;\n",
       "        }    #T_5e8d6992_c025_11ea_b0ff_30d9d9eee573row175_col5 {\n",
       "            background-color :  pink;\n",
       "        }    #T_5e8d6992_c025_11ea_b0ff_30d9d9eee573row175_col6 {\n",
       "            background-color :  yellow;\n",
       "        }    #T_5e8d6992_c025_11ea_b0ff_30d9d9eee573row176_col4 {\n",
       "            background-color :  orange;\n",
       "        }    #T_5e8d6992_c025_11ea_b0ff_30d9d9eee573row176_col5 {\n",
       "            background-color :  pink;\n",
       "        }    #T_5e8d6992_c025_11ea_b0ff_30d9d9eee573row176_col6 {\n",
       "            background-color :  yellow;\n",
       "        }    #T_5e8d6992_c025_11ea_b0ff_30d9d9eee573row177_col4 {\n",
       "            background-color :  orange;\n",
       "        }    #T_5e8d6992_c025_11ea_b0ff_30d9d9eee573row177_col5 {\n",
       "            background-color :  pink;\n",
       "        }    #T_5e8d6992_c025_11ea_b0ff_30d9d9eee573row177_col6 {\n",
       "            background-color :  yellow;\n",
       "        }    #T_5e8d6992_c025_11ea_b0ff_30d9d9eee573row178_col4 {\n",
       "            background-color :  orange;\n",
       "        }    #T_5e8d6992_c025_11ea_b0ff_30d9d9eee573row178_col5 {\n",
       "            background-color :  pink;\n",
       "        }    #T_5e8d6992_c025_11ea_b0ff_30d9d9eee573row178_col6 {\n",
       "            background-color :  yellow;\n",
       "        }    #T_5e8d6992_c025_11ea_b0ff_30d9d9eee573row179_col4 {\n",
       "            background-color :  orange;\n",
       "        }    #T_5e8d6992_c025_11ea_b0ff_30d9d9eee573row179_col5 {\n",
       "            background-color :  pink;\n",
       "        }    #T_5e8d6992_c025_11ea_b0ff_30d9d9eee573row179_col6 {\n",
       "            background-color :  yellow;\n",
       "        }    #T_5e8d6992_c025_11ea_b0ff_30d9d9eee573row180_col4 {\n",
       "            background-color :  orange;\n",
       "        }    #T_5e8d6992_c025_11ea_b0ff_30d9d9eee573row180_col5 {\n",
       "            background-color :  pink;\n",
       "        }    #T_5e8d6992_c025_11ea_b0ff_30d9d9eee573row180_col6 {\n",
       "            background-color :  yellow;\n",
       "        }    #T_5e8d6992_c025_11ea_b0ff_30d9d9eee573row181_col4 {\n",
       "            background-color :  orange;\n",
       "        }    #T_5e8d6992_c025_11ea_b0ff_30d9d9eee573row181_col5 {\n",
       "            background-color :  pink;\n",
       "        }    #T_5e8d6992_c025_11ea_b0ff_30d9d9eee573row181_col6 {\n",
       "            background-color :  yellow;\n",
       "        }    #T_5e8d6992_c025_11ea_b0ff_30d9d9eee573row182_col4 {\n",
       "            background-color :  orange;\n",
       "        }    #T_5e8d6992_c025_11ea_b0ff_30d9d9eee573row182_col5 {\n",
       "            background-color :  pink;\n",
       "        }    #T_5e8d6992_c025_11ea_b0ff_30d9d9eee573row182_col6 {\n",
       "            background-color :  yellow;\n",
       "        }    #T_5e8d6992_c025_11ea_b0ff_30d9d9eee573row183_col4 {\n",
       "            background-color :  orange;\n",
       "        }    #T_5e8d6992_c025_11ea_b0ff_30d9d9eee573row183_col5 {\n",
       "            background-color :  pink;\n",
       "        }    #T_5e8d6992_c025_11ea_b0ff_30d9d9eee573row183_col6 {\n",
       "            background-color :  yellow;\n",
       "        }    #T_5e8d6992_c025_11ea_b0ff_30d9d9eee573row184_col4 {\n",
       "            background-color :  orange;\n",
       "        }    #T_5e8d6992_c025_11ea_b0ff_30d9d9eee573row184_col5 {\n",
       "            background-color :  pink;\n",
       "        }    #T_5e8d6992_c025_11ea_b0ff_30d9d9eee573row184_col6 {\n",
       "            background-color :  yellow;\n",
       "        }    #T_5e8d6992_c025_11ea_b0ff_30d9d9eee573row185_col4 {\n",
       "            background-color :  orange;\n",
       "        }    #T_5e8d6992_c025_11ea_b0ff_30d9d9eee573row185_col5 {\n",
       "            background-color :  pink;\n",
       "        }    #T_5e8d6992_c025_11ea_b0ff_30d9d9eee573row185_col6 {\n",
       "            background-color :  yellow;\n",
       "        }    #T_5e8d6992_c025_11ea_b0ff_30d9d9eee573row186_col4 {\n",
       "            background-color :  orange;\n",
       "        }    #T_5e8d6992_c025_11ea_b0ff_30d9d9eee573row186_col5 {\n",
       "            background-color :  pink;\n",
       "        }    #T_5e8d6992_c025_11ea_b0ff_30d9d9eee573row186_col6 {\n",
       "            background-color :  yellow;\n",
       "        }    #T_5e8d6992_c025_11ea_b0ff_30d9d9eee573row187_col4 {\n",
       "            background-color :  orange;\n",
       "        }    #T_5e8d6992_c025_11ea_b0ff_30d9d9eee573row187_col5 {\n",
       "            background-color :  pink;\n",
       "        }    #T_5e8d6992_c025_11ea_b0ff_30d9d9eee573row187_col6 {\n",
       "            background-color :  yellow;\n",
       "        }</style><table id=\"T_5e8d6992_c025_11ea_b0ff_30d9d9eee573\" ><thead>    <tr>        <th class=\"blank level0\" ></th>        <th class=\"col_heading level0 col0\" >country</th>        <th class=\"col_heading level0 col1\" >last_update</th>        <th class=\"col_heading level0 col2\" >lat</th>        <th class=\"col_heading level0 col3\" >long_</th>        <th class=\"col_heading level0 col4\" >confirmed</th>        <th class=\"col_heading level0 col5\" >deaths</th>        <th class=\"col_heading level0 col6\" >recovered</th>        <th class=\"col_heading level0 col7\" >active</th>        <th class=\"col_heading level0 col8\" >incident_rate</th>        <th class=\"col_heading level0 col9\" >people_tested</th>        <th class=\"col_heading level0 col10\" >people_hospitalized</th>        <th class=\"col_heading level0 col11\" >mortality_rate</th>        <th class=\"col_heading level0 col12\" >uid</th>        <th class=\"col_heading level0 col13\" >iso3</th>    </tr></thead><tbody>\n",
       "                <tr>\n",
       "                        <th id=\"T_5e8d6992_c025_11ea_b0ff_30d9d9eee573level0_row0\" class=\"row_heading level0 row0\" >17</th>\n",
       "                        <td id=\"T_5e8d6992_c025_11ea_b0ff_30d9d9eee573row0_col0\" class=\"data row0 col0\" >US</td>\n",
       "                        <td id=\"T_5e8d6992_c025_11ea_b0ff_30d9d9eee573row0_col1\" class=\"data row0 col1\" >2020-07-07 07:33:57</td>\n",
       "                        <td id=\"T_5e8d6992_c025_11ea_b0ff_30d9d9eee573row0_col2\" class=\"data row0 col2\" >40</td>\n",
       "                        <td id=\"T_5e8d6992_c025_11ea_b0ff_30d9d9eee573row0_col3\" class=\"data row0 col3\" >-100</td>\n",
       "                        <td id=\"T_5e8d6992_c025_11ea_b0ff_30d9d9eee573row0_col4\" class=\"data row0 col4\" >2.93862e+06</td>\n",
       "                        <td id=\"T_5e8d6992_c025_11ea_b0ff_30d9d9eee573row0_col5\" class=\"data row0 col5\" >130306</td>\n",
       "                        <td id=\"T_5e8d6992_c025_11ea_b0ff_30d9d9eee573row0_col6\" class=\"data row0 col6\" >924148</td>\n",
       "                        <td id=\"T_5e8d6992_c025_11ea_b0ff_30d9d9eee573row0_col7\" class=\"data row0 col7\" >1.93076e+06</td>\n",
       "                        <td id=\"T_5e8d6992_c025_11ea_b0ff_30d9d9eee573row0_col8\" class=\"data row0 col8\" >891.935</td>\n",
       "                        <td id=\"T_5e8d6992_c025_11ea_b0ff_30d9d9eee573row0_col9\" class=\"data row0 col9\" >nan</td>\n",
       "                        <td id=\"T_5e8d6992_c025_11ea_b0ff_30d9d9eee573row0_col10\" class=\"data row0 col10\" >nan</td>\n",
       "                        <td id=\"T_5e8d6992_c025_11ea_b0ff_30d9d9eee573row0_col11\" class=\"data row0 col11\" >4.43425</td>\n",
       "                        <td id=\"T_5e8d6992_c025_11ea_b0ff_30d9d9eee573row0_col12\" class=\"data row0 col12\" >840</td>\n",
       "                        <td id=\"T_5e8d6992_c025_11ea_b0ff_30d9d9eee573row0_col13\" class=\"data row0 col13\" >USA</td>\n",
       "            </tr>\n",
       "            <tr>\n",
       "                        <th id=\"T_5e8d6992_c025_11ea_b0ff_30d9d9eee573level0_row1\" class=\"row_heading level0 row1\" >21</th>\n",
       "                        <td id=\"T_5e8d6992_c025_11ea_b0ff_30d9d9eee573row1_col0\" class=\"data row1 col0\" >Brazil</td>\n",
       "                        <td id=\"T_5e8d6992_c025_11ea_b0ff_30d9d9eee573row1_col1\" class=\"data row1 col1\" >2020-07-07 07:33:57</td>\n",
       "                        <td id=\"T_5e8d6992_c025_11ea_b0ff_30d9d9eee573row1_col2\" class=\"data row1 col2\" >-14.235</td>\n",
       "                        <td id=\"T_5e8d6992_c025_11ea_b0ff_30d9d9eee573row1_col3\" class=\"data row1 col3\" >-51.9253</td>\n",
       "                        <td id=\"T_5e8d6992_c025_11ea_b0ff_30d9d9eee573row1_col4\" class=\"data row1 col4\" >1.62328e+06</td>\n",
       "                        <td id=\"T_5e8d6992_c025_11ea_b0ff_30d9d9eee573row1_col5\" class=\"data row1 col5\" >65487</td>\n",
       "                        <td id=\"T_5e8d6992_c025_11ea_b0ff_30d9d9eee573row1_col6\" class=\"data row1 col6\" >1.06254e+06</td>\n",
       "                        <td id=\"T_5e8d6992_c025_11ea_b0ff_30d9d9eee573row1_col7\" class=\"data row1 col7\" >495255</td>\n",
       "                        <td id=\"T_5e8d6992_c025_11ea_b0ff_30d9d9eee573row1_col8\" class=\"data row1 col8\" >763.685</td>\n",
       "                        <td id=\"T_5e8d6992_c025_11ea_b0ff_30d9d9eee573row1_col9\" class=\"data row1 col9\" >nan</td>\n",
       "                        <td id=\"T_5e8d6992_c025_11ea_b0ff_30d9d9eee573row1_col10\" class=\"data row1 col10\" >nan</td>\n",
       "                        <td id=\"T_5e8d6992_c025_11ea_b0ff_30d9d9eee573row1_col11\" class=\"data row1 col11\" >4.03423</td>\n",
       "                        <td id=\"T_5e8d6992_c025_11ea_b0ff_30d9d9eee573row1_col12\" class=\"data row1 col12\" >76</td>\n",
       "                        <td id=\"T_5e8d6992_c025_11ea_b0ff_30d9d9eee573row1_col13\" class=\"data row1 col13\" >BRA</td>\n",
       "            </tr>\n",
       "            <tr>\n",
       "                        <th id=\"T_5e8d6992_c025_11ea_b0ff_30d9d9eee573level0_row2\" class=\"row_heading level0 row2\" >26</th>\n",
       "                        <td id=\"T_5e8d6992_c025_11ea_b0ff_30d9d9eee573row2_col0\" class=\"data row2 col0\" >India</td>\n",
       "                        <td id=\"T_5e8d6992_c025_11ea_b0ff_30d9d9eee573row2_col1\" class=\"data row2 col1\" >2020-07-07 07:33:57</td>\n",
       "                        <td id=\"T_5e8d6992_c025_11ea_b0ff_30d9d9eee573row2_col2\" class=\"data row2 col2\" >20.5937</td>\n",
       "                        <td id=\"T_5e8d6992_c025_11ea_b0ff_30d9d9eee573row2_col3\" class=\"data row2 col3\" >78.9629</td>\n",
       "                        <td id=\"T_5e8d6992_c025_11ea_b0ff_30d9d9eee573row2_col4\" class=\"data row2 col4\" >719664</td>\n",
       "                        <td id=\"T_5e8d6992_c025_11ea_b0ff_30d9d9eee573row2_col5\" class=\"data row2 col5\" >20159</td>\n",
       "                        <td id=\"T_5e8d6992_c025_11ea_b0ff_30d9d9eee573row2_col6\" class=\"data row2 col6\" >439934</td>\n",
       "                        <td id=\"T_5e8d6992_c025_11ea_b0ff_30d9d9eee573row2_col7\" class=\"data row2 col7\" >259571</td>\n",
       "                        <td id=\"T_5e8d6992_c025_11ea_b0ff_30d9d9eee573row2_col8\" class=\"data row2 col8\" >52.1494</td>\n",
       "                        <td id=\"T_5e8d6992_c025_11ea_b0ff_30d9d9eee573row2_col9\" class=\"data row2 col9\" >nan</td>\n",
       "                        <td id=\"T_5e8d6992_c025_11ea_b0ff_30d9d9eee573row2_col10\" class=\"data row2 col10\" >nan</td>\n",
       "                        <td id=\"T_5e8d6992_c025_11ea_b0ff_30d9d9eee573row2_col11\" class=\"data row2 col11\" >2.80117</td>\n",
       "                        <td id=\"T_5e8d6992_c025_11ea_b0ff_30d9d9eee573row2_col12\" class=\"data row2 col12\" >356</td>\n",
       "                        <td id=\"T_5e8d6992_c025_11ea_b0ff_30d9d9eee573row2_col13\" class=\"data row2 col13\" >IND</td>\n",
       "            </tr>\n",
       "            <tr>\n",
       "                        <th id=\"T_5e8d6992_c025_11ea_b0ff_30d9d9eee573level0_row3\" class=\"row_heading level0 row3\" >13</th>\n",
       "                        <td id=\"T_5e8d6992_c025_11ea_b0ff_30d9d9eee573row3_col0\" class=\"data row3 col0\" >Russia</td>\n",
       "                        <td id=\"T_5e8d6992_c025_11ea_b0ff_30d9d9eee573row3_col1\" class=\"data row3 col1\" >2020-07-07 07:33:57</td>\n",
       "                        <td id=\"T_5e8d6992_c025_11ea_b0ff_30d9d9eee573row3_col2\" class=\"data row3 col2\" >61.524</td>\n",
       "                        <td id=\"T_5e8d6992_c025_11ea_b0ff_30d9d9eee573row3_col3\" class=\"data row3 col3\" >105.319</td>\n",
       "                        <td id=\"T_5e8d6992_c025_11ea_b0ff_30d9d9eee573row3_col4\" class=\"data row3 col4\" >686852</td>\n",
       "                        <td id=\"T_5e8d6992_c025_11ea_b0ff_30d9d9eee573row3_col5\" class=\"data row3 col5\" >10280</td>\n",
       "                        <td id=\"T_5e8d6992_c025_11ea_b0ff_30d9d9eee573row3_col6\" class=\"data row3 col6\" >453570</td>\n",
       "                        <td id=\"T_5e8d6992_c025_11ea_b0ff_30d9d9eee573row3_col7\" class=\"data row3 col7\" >223002</td>\n",
       "                        <td id=\"T_5e8d6992_c025_11ea_b0ff_30d9d9eee573row3_col8\" class=\"data row3 col8\" >470.658</td>\n",
       "                        <td id=\"T_5e8d6992_c025_11ea_b0ff_30d9d9eee573row3_col9\" class=\"data row3 col9\" >nan</td>\n",
       "                        <td id=\"T_5e8d6992_c025_11ea_b0ff_30d9d9eee573row3_col10\" class=\"data row3 col10\" >nan</td>\n",
       "                        <td id=\"T_5e8d6992_c025_11ea_b0ff_30d9d9eee573row3_col11\" class=\"data row3 col11\" >1.49668</td>\n",
       "                        <td id=\"T_5e8d6992_c025_11ea_b0ff_30d9d9eee573row3_col12\" class=\"data row3 col12\" >643</td>\n",
       "                        <td id=\"T_5e8d6992_c025_11ea_b0ff_30d9d9eee573row3_col13\" class=\"data row3 col13\" >RUS</td>\n",
       "            </tr>\n",
       "            <tr>\n",
       "                        <th id=\"T_5e8d6992_c025_11ea_b0ff_30d9d9eee573level0_row4\" class=\"row_heading level0 row4\" >22</th>\n",
       "                        <td id=\"T_5e8d6992_c025_11ea_b0ff_30d9d9eee573row4_col0\" class=\"data row4 col0\" >Peru</td>\n",
       "                        <td id=\"T_5e8d6992_c025_11ea_b0ff_30d9d9eee573row4_col1\" class=\"data row4 col1\" >2020-07-07 07:33:57</td>\n",
       "                        <td id=\"T_5e8d6992_c025_11ea_b0ff_30d9d9eee573row4_col2\" class=\"data row4 col2\" >-9.19</td>\n",
       "                        <td id=\"T_5e8d6992_c025_11ea_b0ff_30d9d9eee573row4_col3\" class=\"data row4 col3\" >-75.0152</td>\n",
       "                        <td id=\"T_5e8d6992_c025_11ea_b0ff_30d9d9eee573row4_col4\" class=\"data row4 col4\" >305703</td>\n",
       "                        <td id=\"T_5e8d6992_c025_11ea_b0ff_30d9d9eee573row4_col5\" class=\"data row4 col5\" >10772</td>\n",
       "                        <td id=\"T_5e8d6992_c025_11ea_b0ff_30d9d9eee573row4_col6\" class=\"data row4 col6\" >197619</td>\n",
       "                        <td id=\"T_5e8d6992_c025_11ea_b0ff_30d9d9eee573row4_col7\" class=\"data row4 col7\" >97312</td>\n",
       "                        <td id=\"T_5e8d6992_c025_11ea_b0ff_30d9d9eee573row4_col8\" class=\"data row4 col8\" >927.164</td>\n",
       "                        <td id=\"T_5e8d6992_c025_11ea_b0ff_30d9d9eee573row4_col9\" class=\"data row4 col9\" >nan</td>\n",
       "                        <td id=\"T_5e8d6992_c025_11ea_b0ff_30d9d9eee573row4_col10\" class=\"data row4 col10\" >nan</td>\n",
       "                        <td id=\"T_5e8d6992_c025_11ea_b0ff_30d9d9eee573row4_col11\" class=\"data row4 col11\" >3.52368</td>\n",
       "                        <td id=\"T_5e8d6992_c025_11ea_b0ff_30d9d9eee573row4_col12\" class=\"data row4 col12\" >604</td>\n",
       "                        <td id=\"T_5e8d6992_c025_11ea_b0ff_30d9d9eee573row4_col13\" class=\"data row4 col13\" >PER</td>\n",
       "            </tr>\n",
       "            <tr>\n",
       "                        <th id=\"T_5e8d6992_c025_11ea_b0ff_30d9d9eee573level0_row5\" class=\"row_heading level0 row5\" >20</th>\n",
       "                        <td id=\"T_5e8d6992_c025_11ea_b0ff_30d9d9eee573row5_col0\" class=\"data row5 col0\" >Chile</td>\n",
       "                        <td id=\"T_5e8d6992_c025_11ea_b0ff_30d9d9eee573row5_col1\" class=\"data row5 col1\" >2020-07-07 07:33:57</td>\n",
       "                        <td id=\"T_5e8d6992_c025_11ea_b0ff_30d9d9eee573row5_col2\" class=\"data row5 col2\" >-35.6751</td>\n",
       "                        <td id=\"T_5e8d6992_c025_11ea_b0ff_30d9d9eee573row5_col3\" class=\"data row5 col3\" >-71.543</td>\n",
       "                        <td id=\"T_5e8d6992_c025_11ea_b0ff_30d9d9eee573row5_col4\" class=\"data row5 col4\" >298557</td>\n",
       "                        <td id=\"T_5e8d6992_c025_11ea_b0ff_30d9d9eee573row5_col5\" class=\"data row5 col5\" >6384</td>\n",
       "                        <td id=\"T_5e8d6992_c025_11ea_b0ff_30d9d9eee573row5_col6\" class=\"data row5 col6\" >264378</td>\n",
       "                        <td id=\"T_5e8d6992_c025_11ea_b0ff_30d9d9eee573row5_col7\" class=\"data row5 col7\" >27795</td>\n",
       "                        <td id=\"T_5e8d6992_c025_11ea_b0ff_30d9d9eee573row5_col8\" class=\"data row5 col8\" >1561.8</td>\n",
       "                        <td id=\"T_5e8d6992_c025_11ea_b0ff_30d9d9eee573row5_col9\" class=\"data row5 col9\" >nan</td>\n",
       "                        <td id=\"T_5e8d6992_c025_11ea_b0ff_30d9d9eee573row5_col10\" class=\"data row5 col10\" >nan</td>\n",
       "                        <td id=\"T_5e8d6992_c025_11ea_b0ff_30d9d9eee573row5_col11\" class=\"data row5 col11\" >2.13829</td>\n",
       "                        <td id=\"T_5e8d6992_c025_11ea_b0ff_30d9d9eee573row5_col12\" class=\"data row5 col12\" >152</td>\n",
       "                        <td id=\"T_5e8d6992_c025_11ea_b0ff_30d9d9eee573row5_col13\" class=\"data row5 col13\" >CHL</td>\n",
       "            </tr>\n",
       "            <tr>\n",
       "                        <th id=\"T_5e8d6992_c025_11ea_b0ff_30d9d9eee573level0_row6\" class=\"row_heading level0 row6\" >16</th>\n",
       "                        <td id=\"T_5e8d6992_c025_11ea_b0ff_30d9d9eee573row6_col0\" class=\"data row6 col0\" >United Kingdom</td>\n",
       "                        <td id=\"T_5e8d6992_c025_11ea_b0ff_30d9d9eee573row6_col1\" class=\"data row6 col1\" >2020-07-07 07:33:57</td>\n",
       "                        <td id=\"T_5e8d6992_c025_11ea_b0ff_30d9d9eee573row6_col2\" class=\"data row6 col2\" >55</td>\n",
       "                        <td id=\"T_5e8d6992_c025_11ea_b0ff_30d9d9eee573row6_col3\" class=\"data row6 col3\" >-3</td>\n",
       "                        <td id=\"T_5e8d6992_c025_11ea_b0ff_30d9d9eee573row6_col4\" class=\"data row6 col4\" >287291</td>\n",
       "                        <td id=\"T_5e8d6992_c025_11ea_b0ff_30d9d9eee573row6_col5\" class=\"data row6 col5\" >44321</td>\n",
       "                        <td id=\"T_5e8d6992_c025_11ea_b0ff_30d9d9eee573row6_col6\" class=\"data row6 col6\" >1375</td>\n",
       "                        <td id=\"T_5e8d6992_c025_11ea_b0ff_30d9d9eee573row6_col7\" class=\"data row6 col7\" >241595</td>\n",
       "                        <td id=\"T_5e8d6992_c025_11ea_b0ff_30d9d9eee573row6_col8\" class=\"data row6 col8\" >423.196</td>\n",
       "                        <td id=\"T_5e8d6992_c025_11ea_b0ff_30d9d9eee573row6_col9\" class=\"data row6 col9\" >nan</td>\n",
       "                        <td id=\"T_5e8d6992_c025_11ea_b0ff_30d9d9eee573row6_col10\" class=\"data row6 col10\" >nan</td>\n",
       "                        <td id=\"T_5e8d6992_c025_11ea_b0ff_30d9d9eee573row6_col11\" class=\"data row6 col11\" >15.4272</td>\n",
       "                        <td id=\"T_5e8d6992_c025_11ea_b0ff_30d9d9eee573row6_col12\" class=\"data row6 col12\" >826</td>\n",
       "                        <td id=\"T_5e8d6992_c025_11ea_b0ff_30d9d9eee573row6_col13\" class=\"data row6 col13\" >GBR</td>\n",
       "            </tr>\n",
       "            <tr>\n",
       "                        <th id=\"T_5e8d6992_c025_11ea_b0ff_30d9d9eee573level0_row7\" class=\"row_heading level0 row7\" >19</th>\n",
       "                        <td id=\"T_5e8d6992_c025_11ea_b0ff_30d9d9eee573row7_col0\" class=\"data row7 col0\" >Mexico</td>\n",
       "                        <td id=\"T_5e8d6992_c025_11ea_b0ff_30d9d9eee573row7_col1\" class=\"data row7 col1\" >2020-07-07 07:33:57</td>\n",
       "                        <td id=\"T_5e8d6992_c025_11ea_b0ff_30d9d9eee573row7_col2\" class=\"data row7 col2\" >23.6345</td>\n",
       "                        <td id=\"T_5e8d6992_c025_11ea_b0ff_30d9d9eee573row7_col3\" class=\"data row7 col3\" >-102.553</td>\n",
       "                        <td id=\"T_5e8d6992_c025_11ea_b0ff_30d9d9eee573row7_col4\" class=\"data row7 col4\" >261750</td>\n",
       "                        <td id=\"T_5e8d6992_c025_11ea_b0ff_30d9d9eee573row7_col5\" class=\"data row7 col5\" >31119</td>\n",
       "                        <td id=\"T_5e8d6992_c025_11ea_b0ff_30d9d9eee573row7_col6\" class=\"data row7 col6\" >204826</td>\n",
       "                        <td id=\"T_5e8d6992_c025_11ea_b0ff_30d9d9eee573row7_col7\" class=\"data row7 col7\" >25805</td>\n",
       "                        <td id=\"T_5e8d6992_c025_11ea_b0ff_30d9d9eee573row7_col8\" class=\"data row7 col8\" >204.825</td>\n",
       "                        <td id=\"T_5e8d6992_c025_11ea_b0ff_30d9d9eee573row7_col9\" class=\"data row7 col9\" >nan</td>\n",
       "                        <td id=\"T_5e8d6992_c025_11ea_b0ff_30d9d9eee573row7_col10\" class=\"data row7 col10\" >nan</td>\n",
       "                        <td id=\"T_5e8d6992_c025_11ea_b0ff_30d9d9eee573row7_col11\" class=\"data row7 col11\" >11.8888</td>\n",
       "                        <td id=\"T_5e8d6992_c025_11ea_b0ff_30d9d9eee573row7_col12\" class=\"data row7 col12\" >484</td>\n",
       "                        <td id=\"T_5e8d6992_c025_11ea_b0ff_30d9d9eee573row7_col13\" class=\"data row7 col13\" >MEX</td>\n",
       "            </tr>\n",
       "            <tr>\n",
       "                        <th id=\"T_5e8d6992_c025_11ea_b0ff_30d9d9eee573level0_row8\" class=\"row_heading level0 row8\" >18</th>\n",
       "                        <td id=\"T_5e8d6992_c025_11ea_b0ff_30d9d9eee573row8_col0\" class=\"data row8 col0\" >Spain</td>\n",
       "                        <td id=\"T_5e8d6992_c025_11ea_b0ff_30d9d9eee573row8_col1\" class=\"data row8 col1\" >2020-07-07 07:33:57</td>\n",
       "                        <td id=\"T_5e8d6992_c025_11ea_b0ff_30d9d9eee573row8_col2\" class=\"data row8 col2\" >40.4637</td>\n",
       "                        <td id=\"T_5e8d6992_c025_11ea_b0ff_30d9d9eee573row8_col3\" class=\"data row8 col3\" >-3.74922</td>\n",
       "                        <td id=\"T_5e8d6992_c025_11ea_b0ff_30d9d9eee573row8_col4\" class=\"data row8 col4\" >251789</td>\n",
       "                        <td id=\"T_5e8d6992_c025_11ea_b0ff_30d9d9eee573row8_col5\" class=\"data row8 col5\" >28388</td>\n",
       "                        <td id=\"T_5e8d6992_c025_11ea_b0ff_30d9d9eee573row8_col6\" class=\"data row8 col6\" >150376</td>\n",
       "                        <td id=\"T_5e8d6992_c025_11ea_b0ff_30d9d9eee573row8_col7\" class=\"data row8 col7\" >73026</td>\n",
       "                        <td id=\"T_5e8d6992_c025_11ea_b0ff_30d9d9eee573row8_col8\" class=\"data row8 col8\" >538.531</td>\n",
       "                        <td id=\"T_5e8d6992_c025_11ea_b0ff_30d9d9eee573row8_col9\" class=\"data row8 col9\" >nan</td>\n",
       "                        <td id=\"T_5e8d6992_c025_11ea_b0ff_30d9d9eee573row8_col10\" class=\"data row8 col10\" >nan</td>\n",
       "                        <td id=\"T_5e8d6992_c025_11ea_b0ff_30d9d9eee573row8_col11\" class=\"data row8 col11\" >11.2745</td>\n",
       "                        <td id=\"T_5e8d6992_c025_11ea_b0ff_30d9d9eee573row8_col12\" class=\"data row8 col12\" >724</td>\n",
       "                        <td id=\"T_5e8d6992_c025_11ea_b0ff_30d9d9eee573row8_col13\" class=\"data row8 col13\" >ESP</td>\n",
       "            </tr>\n",
       "            <tr>\n",
       "                        <th id=\"T_5e8d6992_c025_11ea_b0ff_30d9d9eee573level0_row9\" class=\"row_heading level0 row9\" >96</th>\n",
       "                        <td id=\"T_5e8d6992_c025_11ea_b0ff_30d9d9eee573row9_col0\" class=\"data row9 col0\" >Iran</td>\n",
       "                        <td id=\"T_5e8d6992_c025_11ea_b0ff_30d9d9eee573row9_col1\" class=\"data row9 col1\" >2020-07-07 07:33:57</td>\n",
       "                        <td id=\"T_5e8d6992_c025_11ea_b0ff_30d9d9eee573row9_col2\" class=\"data row9 col2\" >32.4279</td>\n",
       "                        <td id=\"T_5e8d6992_c025_11ea_b0ff_30d9d9eee573row9_col3\" class=\"data row9 col3\" >53.688</td>\n",
       "                        <td id=\"T_5e8d6992_c025_11ea_b0ff_30d9d9eee573row9_col4\" class=\"data row9 col4\" >243051</td>\n",
       "                        <td id=\"T_5e8d6992_c025_11ea_b0ff_30d9d9eee573row9_col5\" class=\"data row9 col5\" >11731</td>\n",
       "                        <td id=\"T_5e8d6992_c025_11ea_b0ff_30d9d9eee573row9_col6\" class=\"data row9 col6\" >204083</td>\n",
       "                        <td id=\"T_5e8d6992_c025_11ea_b0ff_30d9d9eee573row9_col7\" class=\"data row9 col7\" >27237</td>\n",
       "                        <td id=\"T_5e8d6992_c025_11ea_b0ff_30d9d9eee573row9_col8\" class=\"data row9 col8\" >289.371</td>\n",
       "                        <td id=\"T_5e8d6992_c025_11ea_b0ff_30d9d9eee573row9_col9\" class=\"data row9 col9\" >nan</td>\n",
       "                        <td id=\"T_5e8d6992_c025_11ea_b0ff_30d9d9eee573row9_col10\" class=\"data row9 col10\" >nan</td>\n",
       "                        <td id=\"T_5e8d6992_c025_11ea_b0ff_30d9d9eee573row9_col11\" class=\"data row9 col11\" >4.82656</td>\n",
       "                        <td id=\"T_5e8d6992_c025_11ea_b0ff_30d9d9eee573row9_col12\" class=\"data row9 col12\" >364</td>\n",
       "                        <td id=\"T_5e8d6992_c025_11ea_b0ff_30d9d9eee573row9_col13\" class=\"data row9 col13\" >IRN</td>\n",
       "            </tr>\n",
       "            <tr>\n",
       "                        <th id=\"T_5e8d6992_c025_11ea_b0ff_30d9d9eee573level0_row10\" class=\"row_heading level0 row10\" >10</th>\n",
       "                        <td id=\"T_5e8d6992_c025_11ea_b0ff_30d9d9eee573row10_col0\" class=\"data row10 col0\" >Italy</td>\n",
       "                        <td id=\"T_5e8d6992_c025_11ea_b0ff_30d9d9eee573row10_col1\" class=\"data row10 col1\" >2020-07-07 07:33:57</td>\n",
       "                        <td id=\"T_5e8d6992_c025_11ea_b0ff_30d9d9eee573row10_col2\" class=\"data row10 col2\" >41.8719</td>\n",
       "                        <td id=\"T_5e8d6992_c025_11ea_b0ff_30d9d9eee573row10_col3\" class=\"data row10 col3\" >12.5674</td>\n",
       "                        <td id=\"T_5e8d6992_c025_11ea_b0ff_30d9d9eee573row10_col4\" class=\"data row10 col4\" >241819</td>\n",
       "                        <td id=\"T_5e8d6992_c025_11ea_b0ff_30d9d9eee573row10_col5\" class=\"data row10 col5\" >34869</td>\n",
       "                        <td id=\"T_5e8d6992_c025_11ea_b0ff_30d9d9eee573row10_col6\" class=\"data row10 col6\" >192241</td>\n",
       "                        <td id=\"T_5e8d6992_c025_11ea_b0ff_30d9d9eee573row10_col7\" class=\"data row10 col7\" >14709</td>\n",
       "                        <td id=\"T_5e8d6992_c025_11ea_b0ff_30d9d9eee573row10_col8\" class=\"data row10 col8\" >399.953</td>\n",
       "                        <td id=\"T_5e8d6992_c025_11ea_b0ff_30d9d9eee573row10_col9\" class=\"data row10 col9\" >nan</td>\n",
       "                        <td id=\"T_5e8d6992_c025_11ea_b0ff_30d9d9eee573row10_col10\" class=\"data row10 col10\" >nan</td>\n",
       "                        <td id=\"T_5e8d6992_c025_11ea_b0ff_30d9d9eee573row10_col11\" class=\"data row10 col11\" >14.4195</td>\n",
       "                        <td id=\"T_5e8d6992_c025_11ea_b0ff_30d9d9eee573row10_col12\" class=\"data row10 col12\" >380</td>\n",
       "                        <td id=\"T_5e8d6992_c025_11ea_b0ff_30d9d9eee573row10_col13\" class=\"data row10 col13\" >ITA</td>\n",
       "            </tr>\n",
       "            <tr>\n",
       "                        <th id=\"T_5e8d6992_c025_11ea_b0ff_30d9d9eee573level0_row11\" class=\"row_heading level0 row11\" >27</th>\n",
       "                        <td id=\"T_5e8d6992_c025_11ea_b0ff_30d9d9eee573row11_col0\" class=\"data row11 col0\" >Pakistan</td>\n",
       "                        <td id=\"T_5e8d6992_c025_11ea_b0ff_30d9d9eee573row11_col1\" class=\"data row11 col1\" >2020-07-07 07:33:57</td>\n",
       "                        <td id=\"T_5e8d6992_c025_11ea_b0ff_30d9d9eee573row11_col2\" class=\"data row11 col2\" >30.3753</td>\n",
       "                        <td id=\"T_5e8d6992_c025_11ea_b0ff_30d9d9eee573row11_col3\" class=\"data row11 col3\" >69.3451</td>\n",
       "                        <td id=\"T_5e8d6992_c025_11ea_b0ff_30d9d9eee573row11_col4\" class=\"data row11 col4\" >234509</td>\n",
       "                        <td id=\"T_5e8d6992_c025_11ea_b0ff_30d9d9eee573row11_col5\" class=\"data row11 col5\" >4839</td>\n",
       "                        <td id=\"T_5e8d6992_c025_11ea_b0ff_30d9d9eee573row11_col6\" class=\"data row11 col6\" >134957</td>\n",
       "                        <td id=\"T_5e8d6992_c025_11ea_b0ff_30d9d9eee573row11_col7\" class=\"data row11 col7\" >94713</td>\n",
       "                        <td id=\"T_5e8d6992_c025_11ea_b0ff_30d9d9eee573row11_col8\" class=\"data row11 col8\" >106.164</td>\n",
       "                        <td id=\"T_5e8d6992_c025_11ea_b0ff_30d9d9eee573row11_col9\" class=\"data row11 col9\" >nan</td>\n",
       "                        <td id=\"T_5e8d6992_c025_11ea_b0ff_30d9d9eee573row11_col10\" class=\"data row11 col10\" >nan</td>\n",
       "                        <td id=\"T_5e8d6992_c025_11ea_b0ff_30d9d9eee573row11_col11\" class=\"data row11 col11\" >2.06346</td>\n",
       "                        <td id=\"T_5e8d6992_c025_11ea_b0ff_30d9d9eee573row11_col12\" class=\"data row11 col12\" >586</td>\n",
       "                        <td id=\"T_5e8d6992_c025_11ea_b0ff_30d9d9eee573row11_col13\" class=\"data row11 col13\" >PAK</td>\n",
       "            </tr>\n",
       "            <tr>\n",
       "                        <th id=\"T_5e8d6992_c025_11ea_b0ff_30d9d9eee573level0_row12\" class=\"row_heading level0 row12\" >153</th>\n",
       "                        <td id=\"T_5e8d6992_c025_11ea_b0ff_30d9d9eee573row12_col0\" class=\"data row12 col0\" >Saudi Arabia</td>\n",
       "                        <td id=\"T_5e8d6992_c025_11ea_b0ff_30d9d9eee573row12_col1\" class=\"data row12 col1\" >2020-07-07 07:33:57</td>\n",
       "                        <td id=\"T_5e8d6992_c025_11ea_b0ff_30d9d9eee573row12_col2\" class=\"data row12 col2\" >23.8859</td>\n",
       "                        <td id=\"T_5e8d6992_c025_11ea_b0ff_30d9d9eee573row12_col3\" class=\"data row12 col3\" >45.0792</td>\n",
       "                        <td id=\"T_5e8d6992_c025_11ea_b0ff_30d9d9eee573row12_col4\" class=\"data row12 col4\" >213716</td>\n",
       "                        <td id=\"T_5e8d6992_c025_11ea_b0ff_30d9d9eee573row12_col5\" class=\"data row12 col5\" >1968</td>\n",
       "                        <td id=\"T_5e8d6992_c025_11ea_b0ff_30d9d9eee573row12_col6\" class=\"data row12 col6\" >149634</td>\n",
       "                        <td id=\"T_5e8d6992_c025_11ea_b0ff_30d9d9eee573row12_col7\" class=\"data row12 col7\" >62114</td>\n",
       "                        <td id=\"T_5e8d6992_c025_11ea_b0ff_30d9d9eee573row12_col8\" class=\"data row12 col8\" >613.882</td>\n",
       "                        <td id=\"T_5e8d6992_c025_11ea_b0ff_30d9d9eee573row12_col9\" class=\"data row12 col9\" >nan</td>\n",
       "                        <td id=\"T_5e8d6992_c025_11ea_b0ff_30d9d9eee573row12_col10\" class=\"data row12 col10\" >nan</td>\n",
       "                        <td id=\"T_5e8d6992_c025_11ea_b0ff_30d9d9eee573row12_col11\" class=\"data row12 col11\" >0.920848</td>\n",
       "                        <td id=\"T_5e8d6992_c025_11ea_b0ff_30d9d9eee573row12_col12\" class=\"data row12 col12\" >682</td>\n",
       "                        <td id=\"T_5e8d6992_c025_11ea_b0ff_30d9d9eee573row12_col13\" class=\"data row12 col13\" >SAU</td>\n",
       "            </tr>\n",
       "            <tr>\n",
       "                        <th id=\"T_5e8d6992_c025_11ea_b0ff_30d9d9eee573level0_row13\" class=\"row_heading level0 row13\" >176</th>\n",
       "                        <td id=\"T_5e8d6992_c025_11ea_b0ff_30d9d9eee573row13_col0\" class=\"data row13 col0\" >Turkey</td>\n",
       "                        <td id=\"T_5e8d6992_c025_11ea_b0ff_30d9d9eee573row13_col1\" class=\"data row13 col1\" >2020-07-07 07:33:57</td>\n",
       "                        <td id=\"T_5e8d6992_c025_11ea_b0ff_30d9d9eee573row13_col2\" class=\"data row13 col2\" >38.9637</td>\n",
       "                        <td id=\"T_5e8d6992_c025_11ea_b0ff_30d9d9eee573row13_col3\" class=\"data row13 col3\" >35.2433</td>\n",
       "                        <td id=\"T_5e8d6992_c025_11ea_b0ff_30d9d9eee573row13_col4\" class=\"data row13 col4\" >206844</td>\n",
       "                        <td id=\"T_5e8d6992_c025_11ea_b0ff_30d9d9eee573row13_col5\" class=\"data row13 col5\" >5241</td>\n",
       "                        <td id=\"T_5e8d6992_c025_11ea_b0ff_30d9d9eee573row13_col6\" class=\"data row13 col6\" >182995</td>\n",
       "                        <td id=\"T_5e8d6992_c025_11ea_b0ff_30d9d9eee573row13_col7\" class=\"data row13 col7\" >18608</td>\n",
       "                        <td id=\"T_5e8d6992_c025_11ea_b0ff_30d9d9eee573row13_col8\" class=\"data row13 col8\" >245.253</td>\n",
       "                        <td id=\"T_5e8d6992_c025_11ea_b0ff_30d9d9eee573row13_col9\" class=\"data row13 col9\" >nan</td>\n",
       "                        <td id=\"T_5e8d6992_c025_11ea_b0ff_30d9d9eee573row13_col10\" class=\"data row13 col10\" >nan</td>\n",
       "                        <td id=\"T_5e8d6992_c025_11ea_b0ff_30d9d9eee573row13_col11\" class=\"data row13 col11\" >2.53379</td>\n",
       "                        <td id=\"T_5e8d6992_c025_11ea_b0ff_30d9d9eee573row13_col12\" class=\"data row13 col12\" >792</td>\n",
       "                        <td id=\"T_5e8d6992_c025_11ea_b0ff_30d9d9eee573row13_col13\" class=\"data row13 col13\" >TUR</td>\n",
       "            </tr>\n",
       "            <tr>\n",
       "                        <th id=\"T_5e8d6992_c025_11ea_b0ff_30d9d9eee573level0_row14\" class=\"row_heading level0 row14\" >162</th>\n",
       "                        <td id=\"T_5e8d6992_c025_11ea_b0ff_30d9d9eee573row14_col0\" class=\"data row14 col0\" >South Africa</td>\n",
       "                        <td id=\"T_5e8d6992_c025_11ea_b0ff_30d9d9eee573row14_col1\" class=\"data row14 col1\" >2020-07-07 07:33:57</td>\n",
       "                        <td id=\"T_5e8d6992_c025_11ea_b0ff_30d9d9eee573row14_col2\" class=\"data row14 col2\" >-30.5595</td>\n",
       "                        <td id=\"T_5e8d6992_c025_11ea_b0ff_30d9d9eee573row14_col3\" class=\"data row14 col3\" >22.9375</td>\n",
       "                        <td id=\"T_5e8d6992_c025_11ea_b0ff_30d9d9eee573row14_col4\" class=\"data row14 col4\" >205721</td>\n",
       "                        <td id=\"T_5e8d6992_c025_11ea_b0ff_30d9d9eee573row14_col5\" class=\"data row14 col5\" >3310</td>\n",
       "                        <td id=\"T_5e8d6992_c025_11ea_b0ff_30d9d9eee573row14_col6\" class=\"data row14 col6\" >97848</td>\n",
       "                        <td id=\"T_5e8d6992_c025_11ea_b0ff_30d9d9eee573row14_col7\" class=\"data row14 col7\" >104563</td>\n",
       "                        <td id=\"T_5e8d6992_c025_11ea_b0ff_30d9d9eee573row14_col8\" class=\"data row14 col8\" >346.865</td>\n",
       "                        <td id=\"T_5e8d6992_c025_11ea_b0ff_30d9d9eee573row14_col9\" class=\"data row14 col9\" >nan</td>\n",
       "                        <td id=\"T_5e8d6992_c025_11ea_b0ff_30d9d9eee573row14_col10\" class=\"data row14 col10\" >nan</td>\n",
       "                        <td id=\"T_5e8d6992_c025_11ea_b0ff_30d9d9eee573row14_col11\" class=\"data row14 col11\" >1.60898</td>\n",
       "                        <td id=\"T_5e8d6992_c025_11ea_b0ff_30d9d9eee573row14_col12\" class=\"data row14 col12\" >710</td>\n",
       "                        <td id=\"T_5e8d6992_c025_11ea_b0ff_30d9d9eee573row14_col13\" class=\"data row14 col13\" >ZAF</td>\n",
       "            </tr>\n",
       "            <tr>\n",
       "                        <th id=\"T_5e8d6992_c025_11ea_b0ff_30d9d9eee573level0_row15\" class=\"row_heading level0 row15\" >6</th>\n",
       "                        <td id=\"T_5e8d6992_c025_11ea_b0ff_30d9d9eee573row15_col0\" class=\"data row15 col0\" >France</td>\n",
       "                        <td id=\"T_5e8d6992_c025_11ea_b0ff_30d9d9eee573row15_col1\" class=\"data row15 col1\" >2020-07-07 07:33:57</td>\n",
       "                        <td id=\"T_5e8d6992_c025_11ea_b0ff_30d9d9eee573row15_col2\" class=\"data row15 col2\" >46.2276</td>\n",
       "                        <td id=\"T_5e8d6992_c025_11ea_b0ff_30d9d9eee573row15_col3\" class=\"data row15 col3\" >2.2137</td>\n",
       "                        <td id=\"T_5e8d6992_c025_11ea_b0ff_30d9d9eee573row15_col4\" class=\"data row15 col4\" >205597</td>\n",
       "                        <td id=\"T_5e8d6992_c025_11ea_b0ff_30d9d9eee573row15_col5\" class=\"data row15 col5\" >29923</td>\n",
       "                        <td id=\"T_5e8d6992_c025_11ea_b0ff_30d9d9eee573row15_col6\" class=\"data row15 col6\" >77444</td>\n",
       "                        <td id=\"T_5e8d6992_c025_11ea_b0ff_30d9d9eee573row15_col7\" class=\"data row15 col7\" >98230</td>\n",
       "                        <td id=\"T_5e8d6992_c025_11ea_b0ff_30d9d9eee573row15_col8\" class=\"data row15 col8\" >314.978</td>\n",
       "                        <td id=\"T_5e8d6992_c025_11ea_b0ff_30d9d9eee573row15_col9\" class=\"data row15 col9\" >nan</td>\n",
       "                        <td id=\"T_5e8d6992_c025_11ea_b0ff_30d9d9eee573row15_col10\" class=\"data row15 col10\" >nan</td>\n",
       "                        <td id=\"T_5e8d6992_c025_11ea_b0ff_30d9d9eee573row15_col11\" class=\"data row15 col11\" >14.5542</td>\n",
       "                        <td id=\"T_5e8d6992_c025_11ea_b0ff_30d9d9eee573row15_col12\" class=\"data row15 col12\" >250</td>\n",
       "                        <td id=\"T_5e8d6992_c025_11ea_b0ff_30d9d9eee573row15_col13\" class=\"data row15 col13\" >FRA</td>\n",
       "            </tr>\n",
       "            <tr>\n",
       "                        <th id=\"T_5e8d6992_c025_11ea_b0ff_30d9d9eee573level0_row16\" class=\"row_heading level0 row16\" >7</th>\n",
       "                        <td id=\"T_5e8d6992_c025_11ea_b0ff_30d9d9eee573row16_col0\" class=\"data row16 col0\" >Germany</td>\n",
       "                        <td id=\"T_5e8d6992_c025_11ea_b0ff_30d9d9eee573row16_col1\" class=\"data row16 col1\" >2020-07-07 07:33:57</td>\n",
       "                        <td id=\"T_5e8d6992_c025_11ea_b0ff_30d9d9eee573row16_col2\" class=\"data row16 col2\" >51.1657</td>\n",
       "                        <td id=\"T_5e8d6992_c025_11ea_b0ff_30d9d9eee573row16_col3\" class=\"data row16 col3\" >10.4515</td>\n",
       "                        <td id=\"T_5e8d6992_c025_11ea_b0ff_30d9d9eee573row16_col4\" class=\"data row16 col4\" >198079</td>\n",
       "                        <td id=\"T_5e8d6992_c025_11ea_b0ff_30d9d9eee573row16_col5\" class=\"data row16 col5\" >9028</td>\n",
       "                        <td id=\"T_5e8d6992_c025_11ea_b0ff_30d9d9eee573row16_col6\" class=\"data row16 col6\" >182560</td>\n",
       "                        <td id=\"T_5e8d6992_c025_11ea_b0ff_30d9d9eee573row16_col7\" class=\"data row16 col7\" >6491</td>\n",
       "                        <td id=\"T_5e8d6992_c025_11ea_b0ff_30d9d9eee573row16_col8\" class=\"data row16 col8\" >236.416</td>\n",
       "                        <td id=\"T_5e8d6992_c025_11ea_b0ff_30d9d9eee573row16_col9\" class=\"data row16 col9\" >nan</td>\n",
       "                        <td id=\"T_5e8d6992_c025_11ea_b0ff_30d9d9eee573row16_col10\" class=\"data row16 col10\" >nan</td>\n",
       "                        <td id=\"T_5e8d6992_c025_11ea_b0ff_30d9d9eee573row16_col11\" class=\"data row16 col11\" >4.55778</td>\n",
       "                        <td id=\"T_5e8d6992_c025_11ea_b0ff_30d9d9eee573row16_col12\" class=\"data row16 col12\" >276</td>\n",
       "                        <td id=\"T_5e8d6992_c025_11ea_b0ff_30d9d9eee573row16_col13\" class=\"data row16 col13\" >DEU</td>\n",
       "            </tr>\n",
       "            <tr>\n",
       "                        <th id=\"T_5e8d6992_c025_11ea_b0ff_30d9d9eee573level0_row17\" class=\"row_heading level0 row17\" >39</th>\n",
       "                        <td id=\"T_5e8d6992_c025_11ea_b0ff_30d9d9eee573row17_col0\" class=\"data row17 col0\" >Bangladesh</td>\n",
       "                        <td id=\"T_5e8d6992_c025_11ea_b0ff_30d9d9eee573row17_col1\" class=\"data row17 col1\" >2020-07-07 07:33:57</td>\n",
       "                        <td id=\"T_5e8d6992_c025_11ea_b0ff_30d9d9eee573row17_col2\" class=\"data row17 col2\" >23.685</td>\n",
       "                        <td id=\"T_5e8d6992_c025_11ea_b0ff_30d9d9eee573row17_col3\" class=\"data row17 col3\" >90.3563</td>\n",
       "                        <td id=\"T_5e8d6992_c025_11ea_b0ff_30d9d9eee573row17_col4\" class=\"data row17 col4\" >165618</td>\n",
       "                        <td id=\"T_5e8d6992_c025_11ea_b0ff_30d9d9eee573row17_col5\" class=\"data row17 col5\" >2096</td>\n",
       "                        <td id=\"T_5e8d6992_c025_11ea_b0ff_30d9d9eee573row17_col6\" class=\"data row17 col6\" >76149</td>\n",
       "                        <td id=\"T_5e8d6992_c025_11ea_b0ff_30d9d9eee573row17_col7\" class=\"data row17 col7\" >87373</td>\n",
       "                        <td id=\"T_5e8d6992_c025_11ea_b0ff_30d9d9eee573row17_col8\" class=\"data row17 col8\" >100.564</td>\n",
       "                        <td id=\"T_5e8d6992_c025_11ea_b0ff_30d9d9eee573row17_col9\" class=\"data row17 col9\" >nan</td>\n",
       "                        <td id=\"T_5e8d6992_c025_11ea_b0ff_30d9d9eee573row17_col10\" class=\"data row17 col10\" >nan</td>\n",
       "                        <td id=\"T_5e8d6992_c025_11ea_b0ff_30d9d9eee573row17_col11\" class=\"data row17 col11\" >1.26556</td>\n",
       "                        <td id=\"T_5e8d6992_c025_11ea_b0ff_30d9d9eee573row17_col12\" class=\"data row17 col12\" >50</td>\n",
       "                        <td id=\"T_5e8d6992_c025_11ea_b0ff_30d9d9eee573row17_col13\" class=\"data row17 col13\" >BGD</td>\n",
       "            </tr>\n",
       "            <tr>\n",
       "                        <th id=\"T_5e8d6992_c025_11ea_b0ff_30d9d9eee573level0_row18\" class=\"row_heading level0 row18\" >23</th>\n",
       "                        <td id=\"T_5e8d6992_c025_11ea_b0ff_30d9d9eee573row18_col0\" class=\"data row18 col0\" >Colombia</td>\n",
       "                        <td id=\"T_5e8d6992_c025_11ea_b0ff_30d9d9eee573row18_col1\" class=\"data row18 col1\" >2020-07-07 07:33:57</td>\n",
       "                        <td id=\"T_5e8d6992_c025_11ea_b0ff_30d9d9eee573row18_col2\" class=\"data row18 col2\" >4.5709</td>\n",
       "                        <td id=\"T_5e8d6992_c025_11ea_b0ff_30d9d9eee573row18_col3\" class=\"data row18 col3\" >-74.2973</td>\n",
       "                        <td id=\"T_5e8d6992_c025_11ea_b0ff_30d9d9eee573row18_col4\" class=\"data row18 col4\" >117412</td>\n",
       "                        <td id=\"T_5e8d6992_c025_11ea_b0ff_30d9d9eee573row18_col5\" class=\"data row18 col5\" >4305</td>\n",
       "                        <td id=\"T_5e8d6992_c025_11ea_b0ff_30d9d9eee573row18_col6\" class=\"data row18 col6\" >47961</td>\n",
       "                        <td id=\"T_5e8d6992_c025_11ea_b0ff_30d9d9eee573row18_col7\" class=\"data row18 col7\" >65146</td>\n",
       "                        <td id=\"T_5e8d6992_c025_11ea_b0ff_30d9d9eee573row18_col8\" class=\"data row18 col8\" >230.749</td>\n",
       "                        <td id=\"T_5e8d6992_c025_11ea_b0ff_30d9d9eee573row18_col9\" class=\"data row18 col9\" >nan</td>\n",
       "                        <td id=\"T_5e8d6992_c025_11ea_b0ff_30d9d9eee573row18_col10\" class=\"data row18 col10\" >nan</td>\n",
       "                        <td id=\"T_5e8d6992_c025_11ea_b0ff_30d9d9eee573row18_col11\" class=\"data row18 col11\" >3.66658</td>\n",
       "                        <td id=\"T_5e8d6992_c025_11ea_b0ff_30d9d9eee573row18_col12\" class=\"data row18 col12\" >170</td>\n",
       "                        <td id=\"T_5e8d6992_c025_11ea_b0ff_30d9d9eee573row18_col13\" class=\"data row18 col13\" >COL</td>\n",
       "            </tr>\n",
       "            <tr>\n",
       "                        <th id=\"T_5e8d6992_c025_11ea_b0ff_30d9d9eee573level0_row19\" class=\"row_heading level0 row19\" >2</th>\n",
       "                        <td id=\"T_5e8d6992_c025_11ea_b0ff_30d9d9eee573row19_col0\" class=\"data row19 col0\" >Canada</td>\n",
       "                        <td id=\"T_5e8d6992_c025_11ea_b0ff_30d9d9eee573row19_col1\" class=\"data row19 col1\" >2020-07-07 07:33:57</td>\n",
       "                        <td id=\"T_5e8d6992_c025_11ea_b0ff_30d9d9eee573row19_col2\" class=\"data row19 col2\" >60.001</td>\n",
       "                        <td id=\"T_5e8d6992_c025_11ea_b0ff_30d9d9eee573row19_col3\" class=\"data row19 col3\" >-95.001</td>\n",
       "                        <td id=\"T_5e8d6992_c025_11ea_b0ff_30d9d9eee573row19_col4\" class=\"data row19 col4\" >107815</td>\n",
       "                        <td id=\"T_5e8d6992_c025_11ea_b0ff_30d9d9eee573row19_col5\" class=\"data row19 col5\" >8748</td>\n",
       "                        <td id=\"T_5e8d6992_c025_11ea_b0ff_30d9d9eee573row19_col6\" class=\"data row19 col6\" >71141</td>\n",
       "                        <td id=\"T_5e8d6992_c025_11ea_b0ff_30d9d9eee573row19_col7\" class=\"data row19 col7\" >27927</td>\n",
       "                        <td id=\"T_5e8d6992_c025_11ea_b0ff_30d9d9eee573row19_col8\" class=\"data row19 col8\" >284.805</td>\n",
       "                        <td id=\"T_5e8d6992_c025_11ea_b0ff_30d9d9eee573row19_col9\" class=\"data row19 col9\" >nan</td>\n",
       "                        <td id=\"T_5e8d6992_c025_11ea_b0ff_30d9d9eee573row19_col10\" class=\"data row19 col10\" >nan</td>\n",
       "                        <td id=\"T_5e8d6992_c025_11ea_b0ff_30d9d9eee573row19_col11\" class=\"data row19 col11\" >8.1139</td>\n",
       "                        <td id=\"T_5e8d6992_c025_11ea_b0ff_30d9d9eee573row19_col12\" class=\"data row19 col12\" >124</td>\n",
       "                        <td id=\"T_5e8d6992_c025_11ea_b0ff_30d9d9eee573row19_col13\" class=\"data row19 col13\" >CAN</td>\n",
       "            </tr>\n",
       "            <tr>\n",
       "                        <th id=\"T_5e8d6992_c025_11ea_b0ff_30d9d9eee573level0_row20\" class=\"row_heading level0 row20\" >145</th>\n",
       "                        <td id=\"T_5e8d6992_c025_11ea_b0ff_30d9d9eee573row20_col0\" class=\"data row20 col0\" >Qatar</td>\n",
       "                        <td id=\"T_5e8d6992_c025_11ea_b0ff_30d9d9eee573row20_col1\" class=\"data row20 col1\" >2020-07-07 07:33:57</td>\n",
       "                        <td id=\"T_5e8d6992_c025_11ea_b0ff_30d9d9eee573row20_col2\" class=\"data row20 col2\" >25.3548</td>\n",
       "                        <td id=\"T_5e8d6992_c025_11ea_b0ff_30d9d9eee573row20_col3\" class=\"data row20 col3\" >51.1839</td>\n",
       "                        <td id=\"T_5e8d6992_c025_11ea_b0ff_30d9d9eee573row20_col4\" class=\"data row20 col4\" >100345</td>\n",
       "                        <td id=\"T_5e8d6992_c025_11ea_b0ff_30d9d9eee573row20_col5\" class=\"data row20 col5\" >133</td>\n",
       "                        <td id=\"T_5e8d6992_c025_11ea_b0ff_30d9d9eee573row20_col6\" class=\"data row20 col6\" >93898</td>\n",
       "                        <td id=\"T_5e8d6992_c025_11ea_b0ff_30d9d9eee573row20_col7\" class=\"data row20 col7\" >6314</td>\n",
       "                        <td id=\"T_5e8d6992_c025_11ea_b0ff_30d9d9eee573row20_col8\" class=\"data row20 col8\" >3482.92</td>\n",
       "                        <td id=\"T_5e8d6992_c025_11ea_b0ff_30d9d9eee573row20_col9\" class=\"data row20 col9\" >nan</td>\n",
       "                        <td id=\"T_5e8d6992_c025_11ea_b0ff_30d9d9eee573row20_col10\" class=\"data row20 col10\" >nan</td>\n",
       "                        <td id=\"T_5e8d6992_c025_11ea_b0ff_30d9d9eee573row20_col11\" class=\"data row20 col11\" >0.132543</td>\n",
       "                        <td id=\"T_5e8d6992_c025_11ea_b0ff_30d9d9eee573row20_col12\" class=\"data row20 col12\" >634</td>\n",
       "                        <td id=\"T_5e8d6992_c025_11ea_b0ff_30d9d9eee573row20_col13\" class=\"data row20 col13\" >QAT</td>\n",
       "            </tr>\n",
       "            <tr>\n",
       "                        <th id=\"T_5e8d6992_c025_11ea_b0ff_30d9d9eee573level0_row21\" class=\"row_heading level0 row21\" >3</th>\n",
       "                        <td id=\"T_5e8d6992_c025_11ea_b0ff_30d9d9eee573row21_col0\" class=\"data row21 col0\" >China</td>\n",
       "                        <td id=\"T_5e8d6992_c025_11ea_b0ff_30d9d9eee573row21_col1\" class=\"data row21 col1\" >2020-07-07 07:33:57</td>\n",
       "                        <td id=\"T_5e8d6992_c025_11ea_b0ff_30d9d9eee573row21_col2\" class=\"data row21 col2\" >30.5928</td>\n",
       "                        <td id=\"T_5e8d6992_c025_11ea_b0ff_30d9d9eee573row21_col3\" class=\"data row21 col3\" >114.305</td>\n",
       "                        <td id=\"T_5e8d6992_c025_11ea_b0ff_30d9d9eee573row21_col4\" class=\"data row21 col4\" >84889</td>\n",
       "                        <td id=\"T_5e8d6992_c025_11ea_b0ff_30d9d9eee573row21_col5\" class=\"data row21 col5\" >4641</td>\n",
       "                        <td id=\"T_5e8d6992_c025_11ea_b0ff_30d9d9eee573row21_col6\" class=\"data row21 col6\" >79725</td>\n",
       "                        <td id=\"T_5e8d6992_c025_11ea_b0ff_30d9d9eee573row21_col7\" class=\"data row21 col7\" >523</td>\n",
       "                        <td id=\"T_5e8d6992_c025_11ea_b0ff_30d9d9eee573row21_col8\" class=\"data row21 col8\" >6.04331</td>\n",
       "                        <td id=\"T_5e8d6992_c025_11ea_b0ff_30d9d9eee573row21_col9\" class=\"data row21 col9\" >nan</td>\n",
       "                        <td id=\"T_5e8d6992_c025_11ea_b0ff_30d9d9eee573row21_col10\" class=\"data row21 col10\" >nan</td>\n",
       "                        <td id=\"T_5e8d6992_c025_11ea_b0ff_30d9d9eee573row21_col11\" class=\"data row21 col11\" >5.46714</td>\n",
       "                        <td id=\"T_5e8d6992_c025_11ea_b0ff_30d9d9eee573row21_col12\" class=\"data row21 col12\" >156</td>\n",
       "                        <td id=\"T_5e8d6992_c025_11ea_b0ff_30d9d9eee573row21_col13\" class=\"data row21 col13\" >CHN</td>\n",
       "            </tr>\n",
       "            <tr>\n",
       "                        <th id=\"T_5e8d6992_c025_11ea_b0ff_30d9d9eee573level0_row22\" class=\"row_heading level0 row22\" >34</th>\n",
       "                        <td id=\"T_5e8d6992_c025_11ea_b0ff_30d9d9eee573row22_col0\" class=\"data row22 col0\" >Argentina</td>\n",
       "                        <td id=\"T_5e8d6992_c025_11ea_b0ff_30d9d9eee573row22_col1\" class=\"data row22 col1\" >2020-07-07 07:33:57</td>\n",
       "                        <td id=\"T_5e8d6992_c025_11ea_b0ff_30d9d9eee573row22_col2\" class=\"data row22 col2\" >-38.4161</td>\n",
       "                        <td id=\"T_5e8d6992_c025_11ea_b0ff_30d9d9eee573row22_col3\" class=\"data row22 col3\" >-63.6167</td>\n",
       "                        <td id=\"T_5e8d6992_c025_11ea_b0ff_30d9d9eee573row22_col4\" class=\"data row22 col4\" >80447</td>\n",
       "                        <td id=\"T_5e8d6992_c025_11ea_b0ff_30d9d9eee573row22_col5\" class=\"data row22 col5\" >1582</td>\n",
       "                        <td id=\"T_5e8d6992_c025_11ea_b0ff_30d9d9eee573row22_col6\" class=\"data row22 col6\" >28531</td>\n",
       "                        <td id=\"T_5e8d6992_c025_11ea_b0ff_30d9d9eee573row22_col7\" class=\"data row22 col7\" >50334</td>\n",
       "                        <td id=\"T_5e8d6992_c025_11ea_b0ff_30d9d9eee573row22_col8\" class=\"data row22 col8\" >177.997</td>\n",
       "                        <td id=\"T_5e8d6992_c025_11ea_b0ff_30d9d9eee573row22_col9\" class=\"data row22 col9\" >nan</td>\n",
       "                        <td id=\"T_5e8d6992_c025_11ea_b0ff_30d9d9eee573row22_col10\" class=\"data row22 col10\" >nan</td>\n",
       "                        <td id=\"T_5e8d6992_c025_11ea_b0ff_30d9d9eee573row22_col11\" class=\"data row22 col11\" >1.96651</td>\n",
       "                        <td id=\"T_5e8d6992_c025_11ea_b0ff_30d9d9eee573row22_col12\" class=\"data row22 col12\" >32</td>\n",
       "                        <td id=\"T_5e8d6992_c025_11ea_b0ff_30d9d9eee573row22_col13\" class=\"data row22 col13\" >ARG</td>\n",
       "            </tr>\n",
       "            <tr>\n",
       "                        <th id=\"T_5e8d6992_c025_11ea_b0ff_30d9d9eee573level0_row23\" class=\"row_heading level0 row23\" >73</th>\n",
       "                        <td id=\"T_5e8d6992_c025_11ea_b0ff_30d9d9eee573row23_col0\" class=\"data row23 col0\" >Egypt</td>\n",
       "                        <td id=\"T_5e8d6992_c025_11ea_b0ff_30d9d9eee573row23_col1\" class=\"data row23 col1\" >2020-07-07 07:33:57</td>\n",
       "                        <td id=\"T_5e8d6992_c025_11ea_b0ff_30d9d9eee573row23_col2\" class=\"data row23 col2\" >26.8206</td>\n",
       "                        <td id=\"T_5e8d6992_c025_11ea_b0ff_30d9d9eee573row23_col3\" class=\"data row23 col3\" >30.8025</td>\n",
       "                        <td id=\"T_5e8d6992_c025_11ea_b0ff_30d9d9eee573row23_col4\" class=\"data row23 col4\" >76222</td>\n",
       "                        <td id=\"T_5e8d6992_c025_11ea_b0ff_30d9d9eee573row23_col5\" class=\"data row23 col5\" >3422</td>\n",
       "                        <td id=\"T_5e8d6992_c025_11ea_b0ff_30d9d9eee573row23_col6\" class=\"data row23 col6\" >21238</td>\n",
       "                        <td id=\"T_5e8d6992_c025_11ea_b0ff_30d9d9eee573row23_col7\" class=\"data row23 col7\" >51562</td>\n",
       "                        <td id=\"T_5e8d6992_c025_11ea_b0ff_30d9d9eee573row23_col8\" class=\"data row23 col8\" >74.4833</td>\n",
       "                        <td id=\"T_5e8d6992_c025_11ea_b0ff_30d9d9eee573row23_col9\" class=\"data row23 col9\" >nan</td>\n",
       "                        <td id=\"T_5e8d6992_c025_11ea_b0ff_30d9d9eee573row23_col10\" class=\"data row23 col10\" >nan</td>\n",
       "                        <td id=\"T_5e8d6992_c025_11ea_b0ff_30d9d9eee573row23_col11\" class=\"data row23 col11\" >4.48952</td>\n",
       "                        <td id=\"T_5e8d6992_c025_11ea_b0ff_30d9d9eee573row23_col12\" class=\"data row23 col12\" >818</td>\n",
       "                        <td id=\"T_5e8d6992_c025_11ea_b0ff_30d9d9eee573row23_col13\" class=\"data row23 col13\" >EGY</td>\n",
       "            </tr>\n",
       "            <tr>\n",
       "                        <th id=\"T_5e8d6992_c025_11ea_b0ff_30d9d9eee573level0_row24\" class=\"row_heading level0 row24\" >14</th>\n",
       "                        <td id=\"T_5e8d6992_c025_11ea_b0ff_30d9d9eee573row24_col0\" class=\"data row24 col0\" >Sweden</td>\n",
       "                        <td id=\"T_5e8d6992_c025_11ea_b0ff_30d9d9eee573row24_col1\" class=\"data row24 col1\" >2020-07-07 07:33:57</td>\n",
       "                        <td id=\"T_5e8d6992_c025_11ea_b0ff_30d9d9eee573row24_col2\" class=\"data row24 col2\" >60.1282</td>\n",
       "                        <td id=\"T_5e8d6992_c025_11ea_b0ff_30d9d9eee573row24_col3\" class=\"data row24 col3\" >18.6435</td>\n",
       "                        <td id=\"T_5e8d6992_c025_11ea_b0ff_30d9d9eee573row24_col4\" class=\"data row24 col4\" >73061</td>\n",
       "                        <td id=\"T_5e8d6992_c025_11ea_b0ff_30d9d9eee573row24_col5\" class=\"data row24 col5\" >5433</td>\n",
       "                        <td id=\"T_5e8d6992_c025_11ea_b0ff_30d9d9eee573row24_col6\" class=\"data row24 col6\" >nan</td>\n",
       "                        <td id=\"T_5e8d6992_c025_11ea_b0ff_30d9d9eee573row24_col7\" class=\"data row24 col7\" >67628</td>\n",
       "                        <td id=\"T_5e8d6992_c025_11ea_b0ff_30d9d9eee573row24_col8\" class=\"data row24 col8\" >723.429</td>\n",
       "                        <td id=\"T_5e8d6992_c025_11ea_b0ff_30d9d9eee573row24_col9\" class=\"data row24 col9\" >nan</td>\n",
       "                        <td id=\"T_5e8d6992_c025_11ea_b0ff_30d9d9eee573row24_col10\" class=\"data row24 col10\" >nan</td>\n",
       "                        <td id=\"T_5e8d6992_c025_11ea_b0ff_30d9d9eee573row24_col11\" class=\"data row24 col11\" >7.43625</td>\n",
       "                        <td id=\"T_5e8d6992_c025_11ea_b0ff_30d9d9eee573row24_col12\" class=\"data row24 col12\" >752</td>\n",
       "                        <td id=\"T_5e8d6992_c025_11ea_b0ff_30d9d9eee573row24_col13\" class=\"data row24 col13\" >SWE</td>\n",
       "            </tr>\n",
       "            <tr>\n",
       "                        <th id=\"T_5e8d6992_c025_11ea_b0ff_30d9d9eee573level0_row25\" class=\"row_heading level0 row25\" >95</th>\n",
       "                        <td id=\"T_5e8d6992_c025_11ea_b0ff_30d9d9eee573row25_col0\" class=\"data row25 col0\" >Indonesia</td>\n",
       "                        <td id=\"T_5e8d6992_c025_11ea_b0ff_30d9d9eee573row25_col1\" class=\"data row25 col1\" >2020-07-07 07:33:57</td>\n",
       "                        <td id=\"T_5e8d6992_c025_11ea_b0ff_30d9d9eee573row25_col2\" class=\"data row25 col2\" >-0.7893</td>\n",
       "                        <td id=\"T_5e8d6992_c025_11ea_b0ff_30d9d9eee573row25_col3\" class=\"data row25 col3\" >113.921</td>\n",
       "                        <td id=\"T_5e8d6992_c025_11ea_b0ff_30d9d9eee573row25_col4\" class=\"data row25 col4\" >64958</td>\n",
       "                        <td id=\"T_5e8d6992_c025_11ea_b0ff_30d9d9eee573row25_col5\" class=\"data row25 col5\" >3241</td>\n",
       "                        <td id=\"T_5e8d6992_c025_11ea_b0ff_30d9d9eee573row25_col6\" class=\"data row25 col6\" >29919</td>\n",
       "                        <td id=\"T_5e8d6992_c025_11ea_b0ff_30d9d9eee573row25_col7\" class=\"data row25 col7\" >31798</td>\n",
       "                        <td id=\"T_5e8d6992_c025_11ea_b0ff_30d9d9eee573row25_col8\" class=\"data row25 col8\" >23.7486</td>\n",
       "                        <td id=\"T_5e8d6992_c025_11ea_b0ff_30d9d9eee573row25_col9\" class=\"data row25 col9\" >nan</td>\n",
       "                        <td id=\"T_5e8d6992_c025_11ea_b0ff_30d9d9eee573row25_col10\" class=\"data row25 col10\" >nan</td>\n",
       "                        <td id=\"T_5e8d6992_c025_11ea_b0ff_30d9d9eee573row25_col11\" class=\"data row25 col11\" >4.98938</td>\n",
       "                        <td id=\"T_5e8d6992_c025_11ea_b0ff_30d9d9eee573row25_col12\" class=\"data row25 col12\" >360</td>\n",
       "                        <td id=\"T_5e8d6992_c025_11ea_b0ff_30d9d9eee573row25_col13\" class=\"data row25 col13\" >IDN</td>\n",
       "            </tr>\n",
       "            <tr>\n",
       "                        <th id=\"T_5e8d6992_c025_11ea_b0ff_30d9d9eee573level0_row26\" class=\"row_heading level0 row26\" >41</th>\n",
       "                        <td id=\"T_5e8d6992_c025_11ea_b0ff_30d9d9eee573row26_col0\" class=\"data row26 col0\" >Belarus</td>\n",
       "                        <td id=\"T_5e8d6992_c025_11ea_b0ff_30d9d9eee573row26_col1\" class=\"data row26 col1\" >2020-07-07 07:33:57</td>\n",
       "                        <td id=\"T_5e8d6992_c025_11ea_b0ff_30d9d9eee573row26_col2\" class=\"data row26 col2\" >53.7098</td>\n",
       "                        <td id=\"T_5e8d6992_c025_11ea_b0ff_30d9d9eee573row26_col3\" class=\"data row26 col3\" >27.9534</td>\n",
       "                        <td id=\"T_5e8d6992_c025_11ea_b0ff_30d9d9eee573row26_col4\" class=\"data row26 col4\" >63804</td>\n",
       "                        <td id=\"T_5e8d6992_c025_11ea_b0ff_30d9d9eee573row26_col5\" class=\"data row26 col5\" >429</td>\n",
       "                        <td id=\"T_5e8d6992_c025_11ea_b0ff_30d9d9eee573row26_col6\" class=\"data row26 col6\" >51120</td>\n",
       "                        <td id=\"T_5e8d6992_c025_11ea_b0ff_30d9d9eee573row26_col7\" class=\"data row26 col7\" >12255</td>\n",
       "                        <td id=\"T_5e8d6992_c025_11ea_b0ff_30d9d9eee573row26_col8\" class=\"data row26 col8\" >675.223</td>\n",
       "                        <td id=\"T_5e8d6992_c025_11ea_b0ff_30d9d9eee573row26_col9\" class=\"data row26 col9\" >nan</td>\n",
       "                        <td id=\"T_5e8d6992_c025_11ea_b0ff_30d9d9eee573row26_col10\" class=\"data row26 col10\" >nan</td>\n",
       "                        <td id=\"T_5e8d6992_c025_11ea_b0ff_30d9d9eee573row26_col11\" class=\"data row26 col11\" >0.672372</td>\n",
       "                        <td id=\"T_5e8d6992_c025_11ea_b0ff_30d9d9eee573row26_col12\" class=\"data row26 col12\" >112</td>\n",
       "                        <td id=\"T_5e8d6992_c025_11ea_b0ff_30d9d9eee573row26_col13\" class=\"data row26 col13\" >BLR</td>\n",
       "            </tr>\n",
       "            <tr>\n",
       "                        <th id=\"T_5e8d6992_c025_11ea_b0ff_30d9d9eee573level0_row27\" class=\"row_heading level0 row27\" >72</th>\n",
       "                        <td id=\"T_5e8d6992_c025_11ea_b0ff_30d9d9eee573row27_col0\" class=\"data row27 col0\" >Ecuador</td>\n",
       "                        <td id=\"T_5e8d6992_c025_11ea_b0ff_30d9d9eee573row27_col1\" class=\"data row27 col1\" >2020-07-07 07:33:57</td>\n",
       "                        <td id=\"T_5e8d6992_c025_11ea_b0ff_30d9d9eee573row27_col2\" class=\"data row27 col2\" >-1.8312</td>\n",
       "                        <td id=\"T_5e8d6992_c025_11ea_b0ff_30d9d9eee573row27_col3\" class=\"data row27 col3\" >-78.1834</td>\n",
       "                        <td id=\"T_5e8d6992_c025_11ea_b0ff_30d9d9eee573row27_col4\" class=\"data row27 col4\" >62380</td>\n",
       "                        <td id=\"T_5e8d6992_c025_11ea_b0ff_30d9d9eee573row27_col5\" class=\"data row27 col5\" >4821</td>\n",
       "                        <td id=\"T_5e8d6992_c025_11ea_b0ff_30d9d9eee573row27_col6\" class=\"data row27 col6\" >28872</td>\n",
       "                        <td id=\"T_5e8d6992_c025_11ea_b0ff_30d9d9eee573row27_col7\" class=\"data row27 col7\" >28687</td>\n",
       "                        <td id=\"T_5e8d6992_c025_11ea_b0ff_30d9d9eee573row27_col8\" class=\"data row27 col8\" >353.567</td>\n",
       "                        <td id=\"T_5e8d6992_c025_11ea_b0ff_30d9d9eee573row27_col9\" class=\"data row27 col9\" >nan</td>\n",
       "                        <td id=\"T_5e8d6992_c025_11ea_b0ff_30d9d9eee573row27_col10\" class=\"data row27 col10\" >nan</td>\n",
       "                        <td id=\"T_5e8d6992_c025_11ea_b0ff_30d9d9eee573row27_col11\" class=\"data row27 col11\" >7.72844</td>\n",
       "                        <td id=\"T_5e8d6992_c025_11ea_b0ff_30d9d9eee573row27_col12\" class=\"data row27 col12\" >218</td>\n",
       "                        <td id=\"T_5e8d6992_c025_11ea_b0ff_30d9d9eee573row27_col13\" class=\"data row27 col13\" >ECU</td>\n",
       "            </tr>\n",
       "            <tr>\n",
       "                        <th id=\"T_5e8d6992_c025_11ea_b0ff_30d9d9eee573level0_row28\" class=\"row_heading level0 row28\" >97</th>\n",
       "                        <td id=\"T_5e8d6992_c025_11ea_b0ff_30d9d9eee573row28_col0\" class=\"data row28 col0\" >Iraq</td>\n",
       "                        <td id=\"T_5e8d6992_c025_11ea_b0ff_30d9d9eee573row28_col1\" class=\"data row28 col1\" >2020-07-07 07:33:57</td>\n",
       "                        <td id=\"T_5e8d6992_c025_11ea_b0ff_30d9d9eee573row28_col2\" class=\"data row28 col2\" >33.2232</td>\n",
       "                        <td id=\"T_5e8d6992_c025_11ea_b0ff_30d9d9eee573row28_col3\" class=\"data row28 col3\" >43.6793</td>\n",
       "                        <td id=\"T_5e8d6992_c025_11ea_b0ff_30d9d9eee573row28_col4\" class=\"data row28 col4\" >62275</td>\n",
       "                        <td id=\"T_5e8d6992_c025_11ea_b0ff_30d9d9eee573row28_col5\" class=\"data row28 col5\" >2567</td>\n",
       "                        <td id=\"T_5e8d6992_c025_11ea_b0ff_30d9d9eee573row28_col6\" class=\"data row28 col6\" >34741</td>\n",
       "                        <td id=\"T_5e8d6992_c025_11ea_b0ff_30d9d9eee573row28_col7\" class=\"data row28 col7\" >24967</td>\n",
       "                        <td id=\"T_5e8d6992_c025_11ea_b0ff_30d9d9eee573row28_col8\" class=\"data row28 col8\" >154.826</td>\n",
       "                        <td id=\"T_5e8d6992_c025_11ea_b0ff_30d9d9eee573row28_col9\" class=\"data row28 col9\" >nan</td>\n",
       "                        <td id=\"T_5e8d6992_c025_11ea_b0ff_30d9d9eee573row28_col10\" class=\"data row28 col10\" >nan</td>\n",
       "                        <td id=\"T_5e8d6992_c025_11ea_b0ff_30d9d9eee573row28_col11\" class=\"data row28 col11\" >4.12204</td>\n",
       "                        <td id=\"T_5e8d6992_c025_11ea_b0ff_30d9d9eee573row28_col12\" class=\"data row28 col12\" >368</td>\n",
       "                        <td id=\"T_5e8d6992_c025_11ea_b0ff_30d9d9eee573row28_col13\" class=\"data row28 col13\" >IRQ</td>\n",
       "            </tr>\n",
       "            <tr>\n",
       "                        <th id=\"T_5e8d6992_c025_11ea_b0ff_30d9d9eee573level0_row29\" class=\"row_heading level0 row29\" >42</th>\n",
       "                        <td id=\"T_5e8d6992_c025_11ea_b0ff_30d9d9eee573row29_col0\" class=\"data row29 col0\" >Belgium</td>\n",
       "                        <td id=\"T_5e8d6992_c025_11ea_b0ff_30d9d9eee573row29_col1\" class=\"data row29 col1\" >2020-07-07 07:33:57</td>\n",
       "                        <td id=\"T_5e8d6992_c025_11ea_b0ff_30d9d9eee573row29_col2\" class=\"data row29 col2\" >50.8333</td>\n",
       "                        <td id=\"T_5e8d6992_c025_11ea_b0ff_30d9d9eee573row29_col3\" class=\"data row29 col3\" >4.46994</td>\n",
       "                        <td id=\"T_5e8d6992_c025_11ea_b0ff_30d9d9eee573row29_col4\" class=\"data row29 col4\" >62058</td>\n",
       "                        <td id=\"T_5e8d6992_c025_11ea_b0ff_30d9d9eee573row29_col5\" class=\"data row29 col5\" >9774</td>\n",
       "                        <td id=\"T_5e8d6992_c025_11ea_b0ff_30d9d9eee573row29_col6\" class=\"data row29 col6\" >17091</td>\n",
       "                        <td id=\"T_5e8d6992_c025_11ea_b0ff_30d9d9eee573row29_col7\" class=\"data row29 col7\" >35193</td>\n",
       "                        <td id=\"T_5e8d6992_c025_11ea_b0ff_30d9d9eee573row29_col8\" class=\"data row29 col8\" >535.462</td>\n",
       "                        <td id=\"T_5e8d6992_c025_11ea_b0ff_30d9d9eee573row29_col9\" class=\"data row29 col9\" >nan</td>\n",
       "                        <td id=\"T_5e8d6992_c025_11ea_b0ff_30d9d9eee573row29_col10\" class=\"data row29 col10\" >nan</td>\n",
       "                        <td id=\"T_5e8d6992_c025_11ea_b0ff_30d9d9eee573row29_col11\" class=\"data row29 col11\" >15.7498</td>\n",
       "                        <td id=\"T_5e8d6992_c025_11ea_b0ff_30d9d9eee573row29_col12\" class=\"data row29 col12\" >56</td>\n",
       "                        <td id=\"T_5e8d6992_c025_11ea_b0ff_30d9d9eee573row29_col13\" class=\"data row29 col13\" >BEL</td>\n",
       "            </tr>\n",
       "            <tr>\n",
       "                        <th id=\"T_5e8d6992_c025_11ea_b0ff_30d9d9eee573level0_row30\" class=\"row_heading level0 row30\" >178</th>\n",
       "                        <td id=\"T_5e8d6992_c025_11ea_b0ff_30d9d9eee573row30_col0\" class=\"data row30 col0\" >United Arab Emirates</td>\n",
       "                        <td id=\"T_5e8d6992_c025_11ea_b0ff_30d9d9eee573row30_col1\" class=\"data row30 col1\" >2020-07-07 07:33:57</td>\n",
       "                        <td id=\"T_5e8d6992_c025_11ea_b0ff_30d9d9eee573row30_col2\" class=\"data row30 col2\" >23.4241</td>\n",
       "                        <td id=\"T_5e8d6992_c025_11ea_b0ff_30d9d9eee573row30_col3\" class=\"data row30 col3\" >53.8478</td>\n",
       "                        <td id=\"T_5e8d6992_c025_11ea_b0ff_30d9d9eee573row30_col4\" class=\"data row30 col4\" >52068</td>\n",
       "                        <td id=\"T_5e8d6992_c025_11ea_b0ff_30d9d9eee573row30_col5\" class=\"data row30 col5\" >324</td>\n",
       "                        <td id=\"T_5e8d6992_c025_11ea_b0ff_30d9d9eee573row30_col6\" class=\"data row30 col6\" >40721</td>\n",
       "                        <td id=\"T_5e8d6992_c025_11ea_b0ff_30d9d9eee573row30_col7\" class=\"data row30 col7\" >11023</td>\n",
       "                        <td id=\"T_5e8d6992_c025_11ea_b0ff_30d9d9eee573row30_col8\" class=\"data row30 col8\" >526.45</td>\n",
       "                        <td id=\"T_5e8d6992_c025_11ea_b0ff_30d9d9eee573row30_col9\" class=\"data row30 col9\" >nan</td>\n",
       "                        <td id=\"T_5e8d6992_c025_11ea_b0ff_30d9d9eee573row30_col10\" class=\"data row30 col10\" >nan</td>\n",
       "                        <td id=\"T_5e8d6992_c025_11ea_b0ff_30d9d9eee573row30_col11\" class=\"data row30 col11\" >0.622263</td>\n",
       "                        <td id=\"T_5e8d6992_c025_11ea_b0ff_30d9d9eee573row30_col12\" class=\"data row30 col12\" >784</td>\n",
       "                        <td id=\"T_5e8d6992_c025_11ea_b0ff_30d9d9eee573row30_col13\" class=\"data row30 col13\" >ARE</td>\n",
       "            </tr>\n",
       "            <tr>\n",
       "                        <th id=\"T_5e8d6992_c025_11ea_b0ff_30d9d9eee573level0_row31\" class=\"row_heading level0 row31\" >11</th>\n",
       "                        <td id=\"T_5e8d6992_c025_11ea_b0ff_30d9d9eee573row31_col0\" class=\"data row31 col0\" >Netherlands</td>\n",
       "                        <td id=\"T_5e8d6992_c025_11ea_b0ff_30d9d9eee573row31_col1\" class=\"data row31 col1\" >2020-07-07 07:33:57</td>\n",
       "                        <td id=\"T_5e8d6992_c025_11ea_b0ff_30d9d9eee573row31_col2\" class=\"data row31 col2\" >52.3167</td>\n",
       "                        <td id=\"T_5e8d6992_c025_11ea_b0ff_30d9d9eee573row31_col3\" class=\"data row31 col3\" >5.55</td>\n",
       "                        <td id=\"T_5e8d6992_c025_11ea_b0ff_30d9d9eee573row31_col4\" class=\"data row31 col4\" >50870</td>\n",
       "                        <td id=\"T_5e8d6992_c025_11ea_b0ff_30d9d9eee573row31_col5\" class=\"data row31 col5\" >6147</td>\n",
       "                        <td id=\"T_5e8d6992_c025_11ea_b0ff_30d9d9eee573row31_col6\" class=\"data row31 col6\" >187</td>\n",
       "                        <td id=\"T_5e8d6992_c025_11ea_b0ff_30d9d9eee573row31_col7\" class=\"data row31 col7\" >44536</td>\n",
       "                        <td id=\"T_5e8d6992_c025_11ea_b0ff_30d9d9eee573row31_col8\" class=\"data row31 col8\" >296.88</td>\n",
       "                        <td id=\"T_5e8d6992_c025_11ea_b0ff_30d9d9eee573row31_col9\" class=\"data row31 col9\" >nan</td>\n",
       "                        <td id=\"T_5e8d6992_c025_11ea_b0ff_30d9d9eee573row31_col10\" class=\"data row31 col10\" >nan</td>\n",
       "                        <td id=\"T_5e8d6992_c025_11ea_b0ff_30d9d9eee573row31_col11\" class=\"data row31 col11\" >12.0837</td>\n",
       "                        <td id=\"T_5e8d6992_c025_11ea_b0ff_30d9d9eee573row31_col12\" class=\"data row31 col12\" >528</td>\n",
       "                        <td id=\"T_5e8d6992_c025_11ea_b0ff_30d9d9eee573row31_col13\" class=\"data row31 col13\" >NLD</td>\n",
       "            </tr>\n",
       "            <tr>\n",
       "                        <th id=\"T_5e8d6992_c025_11ea_b0ff_30d9d9eee573level0_row32\" class=\"row_heading level0 row32\" >105</th>\n",
       "                        <td id=\"T_5e8d6992_c025_11ea_b0ff_30d9d9eee573row32_col0\" class=\"data row32 col0\" >Kuwait</td>\n",
       "                        <td id=\"T_5e8d6992_c025_11ea_b0ff_30d9d9eee573row32_col1\" class=\"data row32 col1\" >2020-07-07 07:33:57</td>\n",
       "                        <td id=\"T_5e8d6992_c025_11ea_b0ff_30d9d9eee573row32_col2\" class=\"data row32 col2\" >29.3117</td>\n",
       "                        <td id=\"T_5e8d6992_c025_11ea_b0ff_30d9d9eee573row32_col3\" class=\"data row32 col3\" >47.4818</td>\n",
       "                        <td id=\"T_5e8d6992_c025_11ea_b0ff_30d9d9eee573row32_col4\" class=\"data row32 col4\" >50644</td>\n",
       "                        <td id=\"T_5e8d6992_c025_11ea_b0ff_30d9d9eee573row32_col5\" class=\"data row32 col5\" >373</td>\n",
       "                        <td id=\"T_5e8d6992_c025_11ea_b0ff_30d9d9eee573row32_col6\" class=\"data row32 col6\" >41001</td>\n",
       "                        <td id=\"T_5e8d6992_c025_11ea_b0ff_30d9d9eee573row32_col7\" class=\"data row32 col7\" >9270</td>\n",
       "                        <td id=\"T_5e8d6992_c025_11ea_b0ff_30d9d9eee573row32_col8\" class=\"data row32 col8\" >1185.89</td>\n",
       "                        <td id=\"T_5e8d6992_c025_11ea_b0ff_30d9d9eee573row32_col9\" class=\"data row32 col9\" >nan</td>\n",
       "                        <td id=\"T_5e8d6992_c025_11ea_b0ff_30d9d9eee573row32_col10\" class=\"data row32 col10\" >nan</td>\n",
       "                        <td id=\"T_5e8d6992_c025_11ea_b0ff_30d9d9eee573row32_col11\" class=\"data row32 col11\" >0.736514</td>\n",
       "                        <td id=\"T_5e8d6992_c025_11ea_b0ff_30d9d9eee573row32_col12\" class=\"data row32 col12\" >414</td>\n",
       "                        <td id=\"T_5e8d6992_c025_11ea_b0ff_30d9d9eee573row32_col13\" class=\"data row32 col13\" >KWT</td>\n",
       "            </tr>\n",
       "            <tr>\n",
       "                        <th id=\"T_5e8d6992_c025_11ea_b0ff_30d9d9eee573level0_row33\" class=\"row_heading level0 row33\" >25</th>\n",
       "                        <td id=\"T_5e8d6992_c025_11ea_b0ff_30d9d9eee573row33_col0\" class=\"data row33 col0\" >Ukraine</td>\n",
       "                        <td id=\"T_5e8d6992_c025_11ea_b0ff_30d9d9eee573row33_col1\" class=\"data row33 col1\" >2020-07-07 07:33:57</td>\n",
       "                        <td id=\"T_5e8d6992_c025_11ea_b0ff_30d9d9eee573row33_col2\" class=\"data row33 col2\" >48.3794</td>\n",
       "                        <td id=\"T_5e8d6992_c025_11ea_b0ff_30d9d9eee573row33_col3\" class=\"data row33 col3\" >31.1656</td>\n",
       "                        <td id=\"T_5e8d6992_c025_11ea_b0ff_30d9d9eee573row33_col4\" class=\"data row33 col4\" >50617</td>\n",
       "                        <td id=\"T_5e8d6992_c025_11ea_b0ff_30d9d9eee573row33_col5\" class=\"data row33 col5\" >1299</td>\n",
       "                        <td id=\"T_5e8d6992_c025_11ea_b0ff_30d9d9eee573row33_col6\" class=\"data row33 col6\" >22952</td>\n",
       "                        <td id=\"T_5e8d6992_c025_11ea_b0ff_30d9d9eee573row33_col7\" class=\"data row33 col7\" >26366</td>\n",
       "                        <td id=\"T_5e8d6992_c025_11ea_b0ff_30d9d9eee573row33_col8\" class=\"data row33 col8\" >115.739</td>\n",
       "                        <td id=\"T_5e8d6992_c025_11ea_b0ff_30d9d9eee573row33_col9\" class=\"data row33 col9\" >nan</td>\n",
       "                        <td id=\"T_5e8d6992_c025_11ea_b0ff_30d9d9eee573row33_col10\" class=\"data row33 col10\" >nan</td>\n",
       "                        <td id=\"T_5e8d6992_c025_11ea_b0ff_30d9d9eee573row33_col11\" class=\"data row33 col11\" >2.56633</td>\n",
       "                        <td id=\"T_5e8d6992_c025_11ea_b0ff_30d9d9eee573row33_col12\" class=\"data row33 col12\" >804</td>\n",
       "                        <td id=\"T_5e8d6992_c025_11ea_b0ff_30d9d9eee573row33_col13\" class=\"data row33 col13\" >UKR</td>\n",
       "            </tr>\n",
       "            <tr>\n",
       "                        <th id=\"T_5e8d6992_c025_11ea_b0ff_30d9d9eee573level0_row34\" class=\"row_heading level0 row34\" >101</th>\n",
       "                        <td id=\"T_5e8d6992_c025_11ea_b0ff_30d9d9eee573row34_col0\" class=\"data row34 col0\" >Kazakhstan</td>\n",
       "                        <td id=\"T_5e8d6992_c025_11ea_b0ff_30d9d9eee573row34_col1\" class=\"data row34 col1\" >2020-07-07 07:33:57</td>\n",
       "                        <td id=\"T_5e8d6992_c025_11ea_b0ff_30d9d9eee573row34_col2\" class=\"data row34 col2\" >48.0196</td>\n",
       "                        <td id=\"T_5e8d6992_c025_11ea_b0ff_30d9d9eee573row34_col3\" class=\"data row34 col3\" >66.9237</td>\n",
       "                        <td id=\"T_5e8d6992_c025_11ea_b0ff_30d9d9eee573row34_col4\" class=\"data row34 col4\" >49683</td>\n",
       "                        <td id=\"T_5e8d6992_c025_11ea_b0ff_30d9d9eee573row34_col5\" class=\"data row34 col5\" >264</td>\n",
       "                        <td id=\"T_5e8d6992_c025_11ea_b0ff_30d9d9eee573row34_col6\" class=\"data row34 col6\" >15860</td>\n",
       "                        <td id=\"T_5e8d6992_c025_11ea_b0ff_30d9d9eee573row34_col7\" class=\"data row34 col7\" >33559</td>\n",
       "                        <td id=\"T_5e8d6992_c025_11ea_b0ff_30d9d9eee573row34_col8\" class=\"data row34 col8\" >264.599</td>\n",
       "                        <td id=\"T_5e8d6992_c025_11ea_b0ff_30d9d9eee573row34_col9\" class=\"data row34 col9\" >nan</td>\n",
       "                        <td id=\"T_5e8d6992_c025_11ea_b0ff_30d9d9eee573row34_col10\" class=\"data row34 col10\" >nan</td>\n",
       "                        <td id=\"T_5e8d6992_c025_11ea_b0ff_30d9d9eee573row34_col11\" class=\"data row34 col11\" >0.531369</td>\n",
       "                        <td id=\"T_5e8d6992_c025_11ea_b0ff_30d9d9eee573row34_col12\" class=\"data row34 col12\" >398</td>\n",
       "                        <td id=\"T_5e8d6992_c025_11ea_b0ff_30d9d9eee573row34_col13\" class=\"data row34 col13\" >KAZ</td>\n",
       "            </tr>\n",
       "            <tr>\n",
       "                        <th id=\"T_5e8d6992_c025_11ea_b0ff_30d9d9eee573level0_row35\" class=\"row_heading level0 row35\" >138</th>\n",
       "                        <td id=\"T_5e8d6992_c025_11ea_b0ff_30d9d9eee573row35_col0\" class=\"data row35 col0\" >Oman</td>\n",
       "                        <td id=\"T_5e8d6992_c025_11ea_b0ff_30d9d9eee573row35_col1\" class=\"data row35 col1\" >2020-07-07 07:33:57</td>\n",
       "                        <td id=\"T_5e8d6992_c025_11ea_b0ff_30d9d9eee573row35_col2\" class=\"data row35 col2\" >21.5126</td>\n",
       "                        <td id=\"T_5e8d6992_c025_11ea_b0ff_30d9d9eee573row35_col3\" class=\"data row35 col3\" >55.9233</td>\n",
       "                        <td id=\"T_5e8d6992_c025_11ea_b0ff_30d9d9eee573row35_col4\" class=\"data row35 col4\" >47735</td>\n",
       "                        <td id=\"T_5e8d6992_c025_11ea_b0ff_30d9d9eee573row35_col5\" class=\"data row35 col5\" >218</td>\n",
       "                        <td id=\"T_5e8d6992_c025_11ea_b0ff_30d9d9eee573row35_col6\" class=\"data row35 col6\" >29146</td>\n",
       "                        <td id=\"T_5e8d6992_c025_11ea_b0ff_30d9d9eee573row35_col7\" class=\"data row35 col7\" >18371</td>\n",
       "                        <td id=\"T_5e8d6992_c025_11ea_b0ff_30d9d9eee573row35_col8\" class=\"data row35 col8\" >934.767</td>\n",
       "                        <td id=\"T_5e8d6992_c025_11ea_b0ff_30d9d9eee573row35_col9\" class=\"data row35 col9\" >nan</td>\n",
       "                        <td id=\"T_5e8d6992_c025_11ea_b0ff_30d9d9eee573row35_col10\" class=\"data row35 col10\" >nan</td>\n",
       "                        <td id=\"T_5e8d6992_c025_11ea_b0ff_30d9d9eee573row35_col11\" class=\"data row35 col11\" >0.456688</td>\n",
       "                        <td id=\"T_5e8d6992_c025_11ea_b0ff_30d9d9eee573row35_col12\" class=\"data row35 col12\" >512</td>\n",
       "                        <td id=\"T_5e8d6992_c025_11ea_b0ff_30d9d9eee573row35_col13\" class=\"data row35 col13\" >OMN</td>\n",
       "            </tr>\n",
       "            <tr>\n",
       "                        <th id=\"T_5e8d6992_c025_11ea_b0ff_30d9d9eee573level0_row36\" class=\"row_heading level0 row36\" >142</th>\n",
       "                        <td id=\"T_5e8d6992_c025_11ea_b0ff_30d9d9eee573row36_col0\" class=\"data row36 col0\" >Philippines</td>\n",
       "                        <td id=\"T_5e8d6992_c025_11ea_b0ff_30d9d9eee573row36_col1\" class=\"data row36 col1\" >2020-07-07 07:33:57</td>\n",
       "                        <td id=\"T_5e8d6992_c025_11ea_b0ff_30d9d9eee573row36_col2\" class=\"data row36 col2\" >12.8797</td>\n",
       "                        <td id=\"T_5e8d6992_c025_11ea_b0ff_30d9d9eee573row36_col3\" class=\"data row36 col3\" >121.774</td>\n",
       "                        <td id=\"T_5e8d6992_c025_11ea_b0ff_30d9d9eee573row36_col4\" class=\"data row36 col4\" >46333</td>\n",
       "                        <td id=\"T_5e8d6992_c025_11ea_b0ff_30d9d9eee573row36_col5\" class=\"data row36 col5\" >1303</td>\n",
       "                        <td id=\"T_5e8d6992_c025_11ea_b0ff_30d9d9eee573row36_col6\" class=\"data row36 col6\" >12185</td>\n",
       "                        <td id=\"T_5e8d6992_c025_11ea_b0ff_30d9d9eee573row36_col7\" class=\"data row36 col7\" >32845</td>\n",
       "                        <td id=\"T_5e8d6992_c025_11ea_b0ff_30d9d9eee573row36_col8\" class=\"data row36 col8\" >42.2819</td>\n",
       "                        <td id=\"T_5e8d6992_c025_11ea_b0ff_30d9d9eee573row36_col9\" class=\"data row36 col9\" >nan</td>\n",
       "                        <td id=\"T_5e8d6992_c025_11ea_b0ff_30d9d9eee573row36_col10\" class=\"data row36 col10\" >nan</td>\n",
       "                        <td id=\"T_5e8d6992_c025_11ea_b0ff_30d9d9eee573row36_col11\" class=\"data row36 col11\" >2.81225</td>\n",
       "                        <td id=\"T_5e8d6992_c025_11ea_b0ff_30d9d9eee573row36_col12\" class=\"data row36 col12\" >608</td>\n",
       "                        <td id=\"T_5e8d6992_c025_11ea_b0ff_30d9d9eee573row36_col13\" class=\"data row36 col13\" >PHL</td>\n",
       "            </tr>\n",
       "            <tr>\n",
       "                        <th id=\"T_5e8d6992_c025_11ea_b0ff_30d9d9eee573level0_row37\" class=\"row_heading level0 row37\" >158</th>\n",
       "                        <td id=\"T_5e8d6992_c025_11ea_b0ff_30d9d9eee573row37_col0\" class=\"data row37 col0\" >Singapore</td>\n",
       "                        <td id=\"T_5e8d6992_c025_11ea_b0ff_30d9d9eee573row37_col1\" class=\"data row37 col1\" >2020-07-07 07:33:57</td>\n",
       "                        <td id=\"T_5e8d6992_c025_11ea_b0ff_30d9d9eee573row37_col2\" class=\"data row37 col2\" >1.2833</td>\n",
       "                        <td id=\"T_5e8d6992_c025_11ea_b0ff_30d9d9eee573row37_col3\" class=\"data row37 col3\" >103.833</td>\n",
       "                        <td id=\"T_5e8d6992_c025_11ea_b0ff_30d9d9eee573row37_col4\" class=\"data row37 col4\" >44983</td>\n",
       "                        <td id=\"T_5e8d6992_c025_11ea_b0ff_30d9d9eee573row37_col5\" class=\"data row37 col5\" >26</td>\n",
       "                        <td id=\"T_5e8d6992_c025_11ea_b0ff_30d9d9eee573row37_col6\" class=\"data row37 col6\" >40717</td>\n",
       "                        <td id=\"T_5e8d6992_c025_11ea_b0ff_30d9d9eee573row37_col7\" class=\"data row37 col7\" >4240</td>\n",
       "                        <td id=\"T_5e8d6992_c025_11ea_b0ff_30d9d9eee573row37_col8\" class=\"data row37 col8\" >768.895</td>\n",
       "                        <td id=\"T_5e8d6992_c025_11ea_b0ff_30d9d9eee573row37_col9\" class=\"data row37 col9\" >nan</td>\n",
       "                        <td id=\"T_5e8d6992_c025_11ea_b0ff_30d9d9eee573row37_col10\" class=\"data row37 col10\" >nan</td>\n",
       "                        <td id=\"T_5e8d6992_c025_11ea_b0ff_30d9d9eee573row37_col11\" class=\"data row37 col11\" >0.0577996</td>\n",
       "                        <td id=\"T_5e8d6992_c025_11ea_b0ff_30d9d9eee573row37_col12\" class=\"data row37 col12\" >702</td>\n",
       "                        <td id=\"T_5e8d6992_c025_11ea_b0ff_30d9d9eee573row37_col13\" class=\"data row37 col13\" >SGP</td>\n",
       "            </tr>\n",
       "            <tr>\n",
       "                        <th id=\"T_5e8d6992_c025_11ea_b0ff_30d9d9eee573level0_row38\" class=\"row_heading level0 row38\" >144</th>\n",
       "                        <td id=\"T_5e8d6992_c025_11ea_b0ff_30d9d9eee573row38_col0\" class=\"data row38 col0\" >Portugal</td>\n",
       "                        <td id=\"T_5e8d6992_c025_11ea_b0ff_30d9d9eee573row38_col1\" class=\"data row38 col1\" >2020-07-07 07:33:57</td>\n",
       "                        <td id=\"T_5e8d6992_c025_11ea_b0ff_30d9d9eee573row38_col2\" class=\"data row38 col2\" >39.3999</td>\n",
       "                        <td id=\"T_5e8d6992_c025_11ea_b0ff_30d9d9eee573row38_col3\" class=\"data row38 col3\" >-8.2245</td>\n",
       "                        <td id=\"T_5e8d6992_c025_11ea_b0ff_30d9d9eee573row38_col4\" class=\"data row38 col4\" >44129</td>\n",
       "                        <td id=\"T_5e8d6992_c025_11ea_b0ff_30d9d9eee573row38_col5\" class=\"data row38 col5\" >1620</td>\n",
       "                        <td id=\"T_5e8d6992_c025_11ea_b0ff_30d9d9eee573row38_col6\" class=\"data row38 col6\" >29166</td>\n",
       "                        <td id=\"T_5e8d6992_c025_11ea_b0ff_30d9d9eee573row38_col7\" class=\"data row38 col7\" >13343</td>\n",
       "                        <td id=\"T_5e8d6992_c025_11ea_b0ff_30d9d9eee573row38_col8\" class=\"data row38 col8\" >432.777</td>\n",
       "                        <td id=\"T_5e8d6992_c025_11ea_b0ff_30d9d9eee573row38_col9\" class=\"data row38 col9\" >nan</td>\n",
       "                        <td id=\"T_5e8d6992_c025_11ea_b0ff_30d9d9eee573row38_col10\" class=\"data row38 col10\" >nan</td>\n",
       "                        <td id=\"T_5e8d6992_c025_11ea_b0ff_30d9d9eee573row38_col11\" class=\"data row38 col11\" >3.67106</td>\n",
       "                        <td id=\"T_5e8d6992_c025_11ea_b0ff_30d9d9eee573row38_col12\" class=\"data row38 col12\" >620</td>\n",
       "                        <td id=\"T_5e8d6992_c025_11ea_b0ff_30d9d9eee573row38_col13\" class=\"data row38 col13\" >PRT</td>\n",
       "            </tr>\n",
       "            <tr>\n",
       "                        <th id=\"T_5e8d6992_c025_11ea_b0ff_30d9d9eee573level0_row39\" class=\"row_heading level0 row39\" >46</th>\n",
       "                        <td id=\"T_5e8d6992_c025_11ea_b0ff_30d9d9eee573row39_col0\" class=\"data row39 col0\" >Bolivia</td>\n",
       "                        <td id=\"T_5e8d6992_c025_11ea_b0ff_30d9d9eee573row39_col1\" class=\"data row39 col1\" >2020-07-07 07:33:57</td>\n",
       "                        <td id=\"T_5e8d6992_c025_11ea_b0ff_30d9d9eee573row39_col2\" class=\"data row39 col2\" >-16.2902</td>\n",
       "                        <td id=\"T_5e8d6992_c025_11ea_b0ff_30d9d9eee573row39_col3\" class=\"data row39 col3\" >-63.5887</td>\n",
       "                        <td id=\"T_5e8d6992_c025_11ea_b0ff_30d9d9eee573row39_col4\" class=\"data row39 col4\" >40509</td>\n",
       "                        <td id=\"T_5e8d6992_c025_11ea_b0ff_30d9d9eee573row39_col5\" class=\"data row39 col5\" >1476</td>\n",
       "                        <td id=\"T_5e8d6992_c025_11ea_b0ff_30d9d9eee573row39_col6\" class=\"data row39 col6\" >11929</td>\n",
       "                        <td id=\"T_5e8d6992_c025_11ea_b0ff_30d9d9eee573row39_col7\" class=\"data row39 col7\" >27104</td>\n",
       "                        <td id=\"T_5e8d6992_c025_11ea_b0ff_30d9d9eee573row39_col8\" class=\"data row39 col8\" >347.031</td>\n",
       "                        <td id=\"T_5e8d6992_c025_11ea_b0ff_30d9d9eee573row39_col9\" class=\"data row39 col9\" >nan</td>\n",
       "                        <td id=\"T_5e8d6992_c025_11ea_b0ff_30d9d9eee573row39_col10\" class=\"data row39 col10\" >nan</td>\n",
       "                        <td id=\"T_5e8d6992_c025_11ea_b0ff_30d9d9eee573row39_col11\" class=\"data row39 col11\" >3.64363</td>\n",
       "                        <td id=\"T_5e8d6992_c025_11ea_b0ff_30d9d9eee573row39_col12\" class=\"data row39 col12\" >68</td>\n",
       "                        <td id=\"T_5e8d6992_c025_11ea_b0ff_30d9d9eee573row39_col13\" class=\"data row39 col13\" >BOL</td>\n",
       "            </tr>\n",
       "            <tr>\n",
       "                        <th id=\"T_5e8d6992_c025_11ea_b0ff_30d9d9eee573level0_row40\" class=\"row_heading level0 row40\" >139</th>\n",
       "                        <td id=\"T_5e8d6992_c025_11ea_b0ff_30d9d9eee573row40_col0\" class=\"data row40 col0\" >Panama</td>\n",
       "                        <td id=\"T_5e8d6992_c025_11ea_b0ff_30d9d9eee573row40_col1\" class=\"data row40 col1\" >2020-07-07 07:33:57</td>\n",
       "                        <td id=\"T_5e8d6992_c025_11ea_b0ff_30d9d9eee573row40_col2\" class=\"data row40 col2\" >8.538</td>\n",
       "                        <td id=\"T_5e8d6992_c025_11ea_b0ff_30d9d9eee573row40_col3\" class=\"data row40 col3\" >-80.7821</td>\n",
       "                        <td id=\"T_5e8d6992_c025_11ea_b0ff_30d9d9eee573row40_col4\" class=\"data row40 col4\" >39334</td>\n",
       "                        <td id=\"T_5e8d6992_c025_11ea_b0ff_30d9d9eee573row40_col5\" class=\"data row40 col5\" >770</td>\n",
       "                        <td id=\"T_5e8d6992_c025_11ea_b0ff_30d9d9eee573row40_col6\" class=\"data row40 col6\" >18036</td>\n",
       "                        <td id=\"T_5e8d6992_c025_11ea_b0ff_30d9d9eee573row40_col7\" class=\"data row40 col7\" >20528</td>\n",
       "                        <td id=\"T_5e8d6992_c025_11ea_b0ff_30d9d9eee573row40_col8\" class=\"data row40 col8\" >911.613</td>\n",
       "                        <td id=\"T_5e8d6992_c025_11ea_b0ff_30d9d9eee573row40_col9\" class=\"data row40 col9\" >nan</td>\n",
       "                        <td id=\"T_5e8d6992_c025_11ea_b0ff_30d9d9eee573row40_col10\" class=\"data row40 col10\" >nan</td>\n",
       "                        <td id=\"T_5e8d6992_c025_11ea_b0ff_30d9d9eee573row40_col11\" class=\"data row40 col11\" >1.95759</td>\n",
       "                        <td id=\"T_5e8d6992_c025_11ea_b0ff_30d9d9eee573row40_col12\" class=\"data row40 col12\" >591</td>\n",
       "                        <td id=\"T_5e8d6992_c025_11ea_b0ff_30d9d9eee573row40_col13\" class=\"data row40 col13\" >PAN</td>\n",
       "            </tr>\n",
       "            <tr>\n",
       "                        <th id=\"T_5e8d6992_c025_11ea_b0ff_30d9d9eee573level0_row41\" class=\"row_heading level0 row41\" >71</th>\n",
       "                        <td id=\"T_5e8d6992_c025_11ea_b0ff_30d9d9eee573row41_col0\" class=\"data row41 col0\" >Dominican Republic</td>\n",
       "                        <td id=\"T_5e8d6992_c025_11ea_b0ff_30d9d9eee573row41_col1\" class=\"data row41 col1\" >2020-07-07 07:33:57</td>\n",
       "                        <td id=\"T_5e8d6992_c025_11ea_b0ff_30d9d9eee573row41_col2\" class=\"data row41 col2\" >18.7357</td>\n",
       "                        <td id=\"T_5e8d6992_c025_11ea_b0ff_30d9d9eee573row41_col3\" class=\"data row41 col3\" >-70.1627</td>\n",
       "                        <td id=\"T_5e8d6992_c025_11ea_b0ff_30d9d9eee573row41_col4\" class=\"data row41 col4\" >38128</td>\n",
       "                        <td id=\"T_5e8d6992_c025_11ea_b0ff_30d9d9eee573row41_col5\" class=\"data row41 col5\" >804</td>\n",
       "                        <td id=\"T_5e8d6992_c025_11ea_b0ff_30d9d9eee573row41_col6\" class=\"data row41 col6\" >19489</td>\n",
       "                        <td id=\"T_5e8d6992_c025_11ea_b0ff_30d9d9eee573row41_col7\" class=\"data row41 col7\" >17835</td>\n",
       "                        <td id=\"T_5e8d6992_c025_11ea_b0ff_30d9d9eee573row41_col8\" class=\"data row41 col8\" >351.478</td>\n",
       "                        <td id=\"T_5e8d6992_c025_11ea_b0ff_30d9d9eee573row41_col9\" class=\"data row41 col9\" >nan</td>\n",
       "                        <td id=\"T_5e8d6992_c025_11ea_b0ff_30d9d9eee573row41_col10\" class=\"data row41 col10\" >nan</td>\n",
       "                        <td id=\"T_5e8d6992_c025_11ea_b0ff_30d9d9eee573row41_col11\" class=\"data row41 col11\" >2.10869</td>\n",
       "                        <td id=\"T_5e8d6992_c025_11ea_b0ff_30d9d9eee573row41_col12\" class=\"data row41 col12\" >214</td>\n",
       "                        <td id=\"T_5e8d6992_c025_11ea_b0ff_30d9d9eee573row41_col13\" class=\"data row41 col13\" >DOM</td>\n",
       "            </tr>\n",
       "            <tr>\n",
       "                        <th id=\"T_5e8d6992_c025_11ea_b0ff_30d9d9eee573level0_row42\" class=\"row_heading level0 row42\" >143</th>\n",
       "                        <td id=\"T_5e8d6992_c025_11ea_b0ff_30d9d9eee573row42_col0\" class=\"data row42 col0\" >Poland</td>\n",
       "                        <td id=\"T_5e8d6992_c025_11ea_b0ff_30d9d9eee573row42_col1\" class=\"data row42 col1\" >2020-07-07 07:33:57</td>\n",
       "                        <td id=\"T_5e8d6992_c025_11ea_b0ff_30d9d9eee573row42_col2\" class=\"data row42 col2\" >51.9194</td>\n",
       "                        <td id=\"T_5e8d6992_c025_11ea_b0ff_30d9d9eee573row42_col3\" class=\"data row42 col3\" >19.1451</td>\n",
       "                        <td id=\"T_5e8d6992_c025_11ea_b0ff_30d9d9eee573row42_col4\" class=\"data row42 col4\" >36155</td>\n",
       "                        <td id=\"T_5e8d6992_c025_11ea_b0ff_30d9d9eee573row42_col5\" class=\"data row42 col5\" >1521</td>\n",
       "                        <td id=\"T_5e8d6992_c025_11ea_b0ff_30d9d9eee573row42_col6\" class=\"data row42 col6\" >23966</td>\n",
       "                        <td id=\"T_5e8d6992_c025_11ea_b0ff_30d9d9eee573row42_col7\" class=\"data row42 col7\" >10668</td>\n",
       "                        <td id=\"T_5e8d6992_c025_11ea_b0ff_30d9d9eee573row42_col8\" class=\"data row42 col8\" >95.5304</td>\n",
       "                        <td id=\"T_5e8d6992_c025_11ea_b0ff_30d9d9eee573row42_col9\" class=\"data row42 col9\" >nan</td>\n",
       "                        <td id=\"T_5e8d6992_c025_11ea_b0ff_30d9d9eee573row42_col10\" class=\"data row42 col10\" >nan</td>\n",
       "                        <td id=\"T_5e8d6992_c025_11ea_b0ff_30d9d9eee573row42_col11\" class=\"data row42 col11\" >4.20689</td>\n",
       "                        <td id=\"T_5e8d6992_c025_11ea_b0ff_30d9d9eee573row42_col12\" class=\"data row42 col12\" >616</td>\n",
       "                        <td id=\"T_5e8d6992_c025_11ea_b0ff_30d9d9eee573row42_col13\" class=\"data row42 col13\" >POL</td>\n",
       "            </tr>\n",
       "            <tr>\n",
       "                        <th id=\"T_5e8d6992_c025_11ea_b0ff_30d9d9eee573level0_row43\" class=\"row_heading level0 row43\" >28</th>\n",
       "                        <td id=\"T_5e8d6992_c025_11ea_b0ff_30d9d9eee573row43_col0\" class=\"data row43 col0\" >Afghanistan</td>\n",
       "                        <td id=\"T_5e8d6992_c025_11ea_b0ff_30d9d9eee573row43_col1\" class=\"data row43 col1\" >2020-07-07 07:33:57</td>\n",
       "                        <td id=\"T_5e8d6992_c025_11ea_b0ff_30d9d9eee573row43_col2\" class=\"data row43 col2\" >33.9391</td>\n",
       "                        <td id=\"T_5e8d6992_c025_11ea_b0ff_30d9d9eee573row43_col3\" class=\"data row43 col3\" >67.71</td>\n",
       "                        <td id=\"T_5e8d6992_c025_11ea_b0ff_30d9d9eee573row43_col4\" class=\"data row43 col4\" >33384</td>\n",
       "                        <td id=\"T_5e8d6992_c025_11ea_b0ff_30d9d9eee573row43_col5\" class=\"data row43 col5\" >920</td>\n",
       "                        <td id=\"T_5e8d6992_c025_11ea_b0ff_30d9d9eee573row43_col6\" class=\"data row43 col6\" >20179</td>\n",
       "                        <td id=\"T_5e8d6992_c025_11ea_b0ff_30d9d9eee573row43_col7\" class=\"data row43 col7\" >12285</td>\n",
       "                        <td id=\"T_5e8d6992_c025_11ea_b0ff_30d9d9eee573row43_col8\" class=\"data row43 col8\" >85.7576</td>\n",
       "                        <td id=\"T_5e8d6992_c025_11ea_b0ff_30d9d9eee573row43_col9\" class=\"data row43 col9\" >nan</td>\n",
       "                        <td id=\"T_5e8d6992_c025_11ea_b0ff_30d9d9eee573row43_col10\" class=\"data row43 col10\" >nan</td>\n",
       "                        <td id=\"T_5e8d6992_c025_11ea_b0ff_30d9d9eee573row43_col11\" class=\"data row43 col11\" >2.75581</td>\n",
       "                        <td id=\"T_5e8d6992_c025_11ea_b0ff_30d9d9eee573row43_col12\" class=\"data row43 col12\" >4</td>\n",
       "                        <td id=\"T_5e8d6992_c025_11ea_b0ff_30d9d9eee573row43_col13\" class=\"data row43 col13\" >AFG</td>\n",
       "            </tr>\n",
       "            <tr>\n",
       "                        <th id=\"T_5e8d6992_c025_11ea_b0ff_30d9d9eee573level0_row44\" class=\"row_heading level0 row44\" >15</th>\n",
       "                        <td id=\"T_5e8d6992_c025_11ea_b0ff_30d9d9eee573row44_col0\" class=\"data row44 col0\" >Switzerland</td>\n",
       "                        <td id=\"T_5e8d6992_c025_11ea_b0ff_30d9d9eee573row44_col1\" class=\"data row44 col1\" >2020-07-07 07:33:57</td>\n",
       "                        <td id=\"T_5e8d6992_c025_11ea_b0ff_30d9d9eee573row44_col2\" class=\"data row44 col2\" >46.8182</td>\n",
       "                        <td id=\"T_5e8d6992_c025_11ea_b0ff_30d9d9eee573row44_col3\" class=\"data row44 col3\" >8.2275</td>\n",
       "                        <td id=\"T_5e8d6992_c025_11ea_b0ff_30d9d9eee573row44_col4\" class=\"data row44 col4\" >32315</td>\n",
       "                        <td id=\"T_5e8d6992_c025_11ea_b0ff_30d9d9eee573row44_col5\" class=\"data row44 col5\" >1965</td>\n",
       "                        <td id=\"T_5e8d6992_c025_11ea_b0ff_30d9d9eee573row44_col6\" class=\"data row44 col6\" >29300</td>\n",
       "                        <td id=\"T_5e8d6992_c025_11ea_b0ff_30d9d9eee573row44_col7\" class=\"data row44 col7\" >1050</td>\n",
       "                        <td id=\"T_5e8d6992_c025_11ea_b0ff_30d9d9eee573row44_col8\" class=\"data row44 col8\" >373.384</td>\n",
       "                        <td id=\"T_5e8d6992_c025_11ea_b0ff_30d9d9eee573row44_col9\" class=\"data row44 col9\" >nan</td>\n",
       "                        <td id=\"T_5e8d6992_c025_11ea_b0ff_30d9d9eee573row44_col10\" class=\"data row44 col10\" >nan</td>\n",
       "                        <td id=\"T_5e8d6992_c025_11ea_b0ff_30d9d9eee573row44_col11\" class=\"data row44 col11\" >6.08077</td>\n",
       "                        <td id=\"T_5e8d6992_c025_11ea_b0ff_30d9d9eee573row44_col12\" class=\"data row44 col12\" >756</td>\n",
       "                        <td id=\"T_5e8d6992_c025_11ea_b0ff_30d9d9eee573row44_col13\" class=\"data row44 col13\" >CHE</td>\n",
       "            </tr>\n",
       "            <tr>\n",
       "                        <th id=\"T_5e8d6992_c025_11ea_b0ff_30d9d9eee573level0_row45\" class=\"row_heading level0 row45\" >98</th>\n",
       "                        <td id=\"T_5e8d6992_c025_11ea_b0ff_30d9d9eee573row45_col0\" class=\"data row45 col0\" >Israel</td>\n",
       "                        <td id=\"T_5e8d6992_c025_11ea_b0ff_30d9d9eee573row45_col1\" class=\"data row45 col1\" >2020-07-07 07:33:57</td>\n",
       "                        <td id=\"T_5e8d6992_c025_11ea_b0ff_30d9d9eee573row45_col2\" class=\"data row45 col2\" >31.0461</td>\n",
       "                        <td id=\"T_5e8d6992_c025_11ea_b0ff_30d9d9eee573row45_col3\" class=\"data row45 col3\" >34.8516</td>\n",
       "                        <td id=\"T_5e8d6992_c025_11ea_b0ff_30d9d9eee573row45_col4\" class=\"data row45 col4\" >31186</td>\n",
       "                        <td id=\"T_5e8d6992_c025_11ea_b0ff_30d9d9eee573row45_col5\" class=\"data row45 col5\" >338</td>\n",
       "                        <td id=\"T_5e8d6992_c025_11ea_b0ff_30d9d9eee573row45_col6\" class=\"data row45 col6\" >18131</td>\n",
       "                        <td id=\"T_5e8d6992_c025_11ea_b0ff_30d9d9eee573row45_col7\" class=\"data row45 col7\" >12717</td>\n",
       "                        <td id=\"T_5e8d6992_c025_11ea_b0ff_30d9d9eee573row45_col8\" class=\"data row45 col8\" >360.301</td>\n",
       "                        <td id=\"T_5e8d6992_c025_11ea_b0ff_30d9d9eee573row45_col9\" class=\"data row45 col9\" >nan</td>\n",
       "                        <td id=\"T_5e8d6992_c025_11ea_b0ff_30d9d9eee573row45_col10\" class=\"data row45 col10\" >nan</td>\n",
       "                        <td id=\"T_5e8d6992_c025_11ea_b0ff_30d9d9eee573row45_col11\" class=\"data row45 col11\" >1.08382</td>\n",
       "                        <td id=\"T_5e8d6992_c025_11ea_b0ff_30d9d9eee573row45_col12\" class=\"data row45 col12\" >376</td>\n",
       "                        <td id=\"T_5e8d6992_c025_11ea_b0ff_30d9d9eee573row45_col13\" class=\"data row45 col13\" >ISR</td>\n",
       "            </tr>\n",
       "            <tr>\n",
       "                        <th id=\"T_5e8d6992_c025_11ea_b0ff_30d9d9eee573level0_row46\" class=\"row_heading level0 row46\" >38</th>\n",
       "                        <td id=\"T_5e8d6992_c025_11ea_b0ff_30d9d9eee573row46_col0\" class=\"data row46 col0\" >Bahrain</td>\n",
       "                        <td id=\"T_5e8d6992_c025_11ea_b0ff_30d9d9eee573row46_col1\" class=\"data row46 col1\" >2020-07-07 07:33:57</td>\n",
       "                        <td id=\"T_5e8d6992_c025_11ea_b0ff_30d9d9eee573row46_col2\" class=\"data row46 col2\" >26.0275</td>\n",
       "                        <td id=\"T_5e8d6992_c025_11ea_b0ff_30d9d9eee573row46_col3\" class=\"data row46 col3\" >50.55</td>\n",
       "                        <td id=\"T_5e8d6992_c025_11ea_b0ff_30d9d9eee573row46_col4\" class=\"data row46 col4\" >29821</td>\n",
       "                        <td id=\"T_5e8d6992_c025_11ea_b0ff_30d9d9eee573row46_col5\" class=\"data row46 col5\" >98</td>\n",
       "                        <td id=\"T_5e8d6992_c025_11ea_b0ff_30d9d9eee573row46_col6\" class=\"data row46 col6\" >25178</td>\n",
       "                        <td id=\"T_5e8d6992_c025_11ea_b0ff_30d9d9eee573row46_col7\" class=\"data row46 col7\" >4545</td>\n",
       "                        <td id=\"T_5e8d6992_c025_11ea_b0ff_30d9d9eee573row46_col8\" class=\"data row46 col8\" >1752.54</td>\n",
       "                        <td id=\"T_5e8d6992_c025_11ea_b0ff_30d9d9eee573row46_col9\" class=\"data row46 col9\" >nan</td>\n",
       "                        <td id=\"T_5e8d6992_c025_11ea_b0ff_30d9d9eee573row46_col10\" class=\"data row46 col10\" >nan</td>\n",
       "                        <td id=\"T_5e8d6992_c025_11ea_b0ff_30d9d9eee573row46_col11\" class=\"data row46 col11\" >0.328627</td>\n",
       "                        <td id=\"T_5e8d6992_c025_11ea_b0ff_30d9d9eee573row46_col12\" class=\"data row46 col12\" >48</td>\n",
       "                        <td id=\"T_5e8d6992_c025_11ea_b0ff_30d9d9eee573row46_col13\" class=\"data row46 col13\" >BHR</td>\n",
       "            </tr>\n",
       "            <tr>\n",
       "                        <th id=\"T_5e8d6992_c025_11ea_b0ff_30d9d9eee573level0_row47\" class=\"row_heading level0 row47\" >136</th>\n",
       "                        <td id=\"T_5e8d6992_c025_11ea_b0ff_30d9d9eee573row47_col0\" class=\"data row47 col0\" >Nigeria</td>\n",
       "                        <td id=\"T_5e8d6992_c025_11ea_b0ff_30d9d9eee573row47_col1\" class=\"data row47 col1\" >2020-07-07 07:33:57</td>\n",
       "                        <td id=\"T_5e8d6992_c025_11ea_b0ff_30d9d9eee573row47_col2\" class=\"data row47 col2\" >9.082</td>\n",
       "                        <td id=\"T_5e8d6992_c025_11ea_b0ff_30d9d9eee573row47_col3\" class=\"data row47 col3\" >8.6753</td>\n",
       "                        <td id=\"T_5e8d6992_c025_11ea_b0ff_30d9d9eee573row47_col4\" class=\"data row47 col4\" >29286</td>\n",
       "                        <td id=\"T_5e8d6992_c025_11ea_b0ff_30d9d9eee573row47_col5\" class=\"data row47 col5\" >654</td>\n",
       "                        <td id=\"T_5e8d6992_c025_11ea_b0ff_30d9d9eee573row47_col6\" class=\"data row47 col6\" >11828</td>\n",
       "                        <td id=\"T_5e8d6992_c025_11ea_b0ff_30d9d9eee573row47_col7\" class=\"data row47 col7\" >16804</td>\n",
       "                        <td id=\"T_5e8d6992_c025_11ea_b0ff_30d9d9eee573row47_col8\" class=\"data row47 col8\" >14.2069</td>\n",
       "                        <td id=\"T_5e8d6992_c025_11ea_b0ff_30d9d9eee573row47_col9\" class=\"data row47 col9\" >nan</td>\n",
       "                        <td id=\"T_5e8d6992_c025_11ea_b0ff_30d9d9eee573row47_col10\" class=\"data row47 col10\" >nan</td>\n",
       "                        <td id=\"T_5e8d6992_c025_11ea_b0ff_30d9d9eee573row47_col11\" class=\"data row47 col11\" >2.23315</td>\n",
       "                        <td id=\"T_5e8d6992_c025_11ea_b0ff_30d9d9eee573row47_col12\" class=\"data row47 col12\" >566</td>\n",
       "                        <td id=\"T_5e8d6992_c025_11ea_b0ff_30d9d9eee573row47_col13\" class=\"data row47 col13\" >NGA</td>\n",
       "            </tr>\n",
       "            <tr>\n",
       "                        <th id=\"T_5e8d6992_c025_11ea_b0ff_30d9d9eee573level0_row48\" class=\"row_heading level0 row48\" >35</th>\n",
       "                        <td id=\"T_5e8d6992_c025_11ea_b0ff_30d9d9eee573row48_col0\" class=\"data row48 col0\" >Armenia</td>\n",
       "                        <td id=\"T_5e8d6992_c025_11ea_b0ff_30d9d9eee573row48_col1\" class=\"data row48 col1\" >2020-07-07 07:33:57</td>\n",
       "                        <td id=\"T_5e8d6992_c025_11ea_b0ff_30d9d9eee573row48_col2\" class=\"data row48 col2\" >40.0691</td>\n",
       "                        <td id=\"T_5e8d6992_c025_11ea_b0ff_30d9d9eee573row48_col3\" class=\"data row48 col3\" >45.0382</td>\n",
       "                        <td id=\"T_5e8d6992_c025_11ea_b0ff_30d9d9eee573row48_col4\" class=\"data row48 col4\" >29285</td>\n",
       "                        <td id=\"T_5e8d6992_c025_11ea_b0ff_30d9d9eee573row48_col5\" class=\"data row48 col5\" >503</td>\n",
       "                        <td id=\"T_5e8d6992_c025_11ea_b0ff_30d9d9eee573row48_col6\" class=\"data row48 col6\" >16907</td>\n",
       "                        <td id=\"T_5e8d6992_c025_11ea_b0ff_30d9d9eee573row48_col7\" class=\"data row48 col7\" >11875</td>\n",
       "                        <td id=\"T_5e8d6992_c025_11ea_b0ff_30d9d9eee573row48_col8\" class=\"data row48 col8\" >988.278</td>\n",
       "                        <td id=\"T_5e8d6992_c025_11ea_b0ff_30d9d9eee573row48_col9\" class=\"data row48 col9\" >nan</td>\n",
       "                        <td id=\"T_5e8d6992_c025_11ea_b0ff_30d9d9eee573row48_col10\" class=\"data row48 col10\" >nan</td>\n",
       "                        <td id=\"T_5e8d6992_c025_11ea_b0ff_30d9d9eee573row48_col11\" class=\"data row48 col11\" >1.7176</td>\n",
       "                        <td id=\"T_5e8d6992_c025_11ea_b0ff_30d9d9eee573row48_col12\" class=\"data row48 col12\" >51</td>\n",
       "                        <td id=\"T_5e8d6992_c025_11ea_b0ff_30d9d9eee573row48_col13\" class=\"data row48 col13\" >ARM</td>\n",
       "            </tr>\n",
       "            <tr>\n",
       "                        <th id=\"T_5e8d6992_c025_11ea_b0ff_30d9d9eee573level0_row49\" class=\"row_heading level0 row49\" >146</th>\n",
       "                        <td id=\"T_5e8d6992_c025_11ea_b0ff_30d9d9eee573row49_col0\" class=\"data row49 col0\" >Romania</td>\n",
       "                        <td id=\"T_5e8d6992_c025_11ea_b0ff_30d9d9eee573row49_col1\" class=\"data row49 col1\" >2020-07-07 07:33:57</td>\n",
       "                        <td id=\"T_5e8d6992_c025_11ea_b0ff_30d9d9eee573row49_col2\" class=\"data row49 col2\" >45.9432</td>\n",
       "                        <td id=\"T_5e8d6992_c025_11ea_b0ff_30d9d9eee573row49_col3\" class=\"data row49 col3\" >24.9668</td>\n",
       "                        <td id=\"T_5e8d6992_c025_11ea_b0ff_30d9d9eee573row49_col4\" class=\"data row49 col4\" >29223</td>\n",
       "                        <td id=\"T_5e8d6992_c025_11ea_b0ff_30d9d9eee573row49_col5\" class=\"data row49 col5\" >1768</td>\n",
       "                        <td id=\"T_5e8d6992_c025_11ea_b0ff_30d9d9eee573row49_col6\" class=\"data row49 col6\" >20213</td>\n",
       "                        <td id=\"T_5e8d6992_c025_11ea_b0ff_30d9d9eee573row49_col7\" class=\"data row49 col7\" >7242</td>\n",
       "                        <td id=\"T_5e8d6992_c025_11ea_b0ff_30d9d9eee573row49_col8\" class=\"data row49 col8\" >151.905</td>\n",
       "                        <td id=\"T_5e8d6992_c025_11ea_b0ff_30d9d9eee573row49_col9\" class=\"data row49 col9\" >nan</td>\n",
       "                        <td id=\"T_5e8d6992_c025_11ea_b0ff_30d9d9eee573row49_col10\" class=\"data row49 col10\" >nan</td>\n",
       "                        <td id=\"T_5e8d6992_c025_11ea_b0ff_30d9d9eee573row49_col11\" class=\"data row49 col11\" >6.05003</td>\n",
       "                        <td id=\"T_5e8d6992_c025_11ea_b0ff_30d9d9eee573row49_col12\" class=\"data row49 col12\" >642</td>\n",
       "                        <td id=\"T_5e8d6992_c025_11ea_b0ff_30d9d9eee573row49_col13\" class=\"data row49 col13\" >ROU</td>\n",
       "            </tr>\n",
       "            <tr>\n",
       "                        <th id=\"T_5e8d6992_c025_11ea_b0ff_30d9d9eee573level0_row50\" class=\"row_heading level0 row50\" >9</th>\n",
       "                        <td id=\"T_5e8d6992_c025_11ea_b0ff_30d9d9eee573row50_col0\" class=\"data row50 col0\" >Ireland</td>\n",
       "                        <td id=\"T_5e8d6992_c025_11ea_b0ff_30d9d9eee573row50_col1\" class=\"data row50 col1\" >2020-07-07 07:33:57</td>\n",
       "                        <td id=\"T_5e8d6992_c025_11ea_b0ff_30d9d9eee573row50_col2\" class=\"data row50 col2\" >53.1424</td>\n",
       "                        <td id=\"T_5e8d6992_c025_11ea_b0ff_30d9d9eee573row50_col3\" class=\"data row50 col3\" >-7.6921</td>\n",
       "                        <td id=\"T_5e8d6992_c025_11ea_b0ff_30d9d9eee573row50_col4\" class=\"data row50 col4\" >25531</td>\n",
       "                        <td id=\"T_5e8d6992_c025_11ea_b0ff_30d9d9eee573row50_col5\" class=\"data row50 col5\" >1741</td>\n",
       "                        <td id=\"T_5e8d6992_c025_11ea_b0ff_30d9d9eee573row50_col6\" class=\"data row50 col6\" >23364</td>\n",
       "                        <td id=\"T_5e8d6992_c025_11ea_b0ff_30d9d9eee573row50_col7\" class=\"data row50 col7\" >426</td>\n",
       "                        <td id=\"T_5e8d6992_c025_11ea_b0ff_30d9d9eee573row50_col8\" class=\"data row50 col8\" >517.053</td>\n",
       "                        <td id=\"T_5e8d6992_c025_11ea_b0ff_30d9d9eee573row50_col9\" class=\"data row50 col9\" >nan</td>\n",
       "                        <td id=\"T_5e8d6992_c025_11ea_b0ff_30d9d9eee573row50_col10\" class=\"data row50 col10\" >nan</td>\n",
       "                        <td id=\"T_5e8d6992_c025_11ea_b0ff_30d9d9eee573row50_col11\" class=\"data row50 col11\" >6.81916</td>\n",
       "                        <td id=\"T_5e8d6992_c025_11ea_b0ff_30d9d9eee573row50_col12\" class=\"data row50 col12\" >372</td>\n",
       "                        <td id=\"T_5e8d6992_c025_11ea_b0ff_30d9d9eee573row50_col13\" class=\"data row50 col13\" >IRL</td>\n",
       "            </tr>\n",
       "            <tr>\n",
       "                        <th id=\"T_5e8d6992_c025_11ea_b0ff_30d9d9eee573level0_row51\" class=\"row_heading level0 row51\" >93</th>\n",
       "                        <td id=\"T_5e8d6992_c025_11ea_b0ff_30d9d9eee573row51_col0\" class=\"data row51 col0\" >Honduras</td>\n",
       "                        <td id=\"T_5e8d6992_c025_11ea_b0ff_30d9d9eee573row51_col1\" class=\"data row51 col1\" >2020-07-07 07:33:57</td>\n",
       "                        <td id=\"T_5e8d6992_c025_11ea_b0ff_30d9d9eee573row51_col2\" class=\"data row51 col2\" >15.2</td>\n",
       "                        <td id=\"T_5e8d6992_c025_11ea_b0ff_30d9d9eee573row51_col3\" class=\"data row51 col3\" >-86.2419</td>\n",
       "                        <td id=\"T_5e8d6992_c025_11ea_b0ff_30d9d9eee573row51_col4\" class=\"data row51 col4\" >24665</td>\n",
       "                        <td id=\"T_5e8d6992_c025_11ea_b0ff_30d9d9eee573row51_col5\" class=\"data row51 col5\" >656</td>\n",
       "                        <td id=\"T_5e8d6992_c025_11ea_b0ff_30d9d9eee573row51_col6\" class=\"data row51 col6\" >2585</td>\n",
       "                        <td id=\"T_5e8d6992_c025_11ea_b0ff_30d9d9eee573row51_col7\" class=\"data row51 col7\" >21424</td>\n",
       "                        <td id=\"T_5e8d6992_c025_11ea_b0ff_30d9d9eee573row51_col8\" class=\"data row51 col8\" >249.026</td>\n",
       "                        <td id=\"T_5e8d6992_c025_11ea_b0ff_30d9d9eee573row51_col9\" class=\"data row51 col9\" >nan</td>\n",
       "                        <td id=\"T_5e8d6992_c025_11ea_b0ff_30d9d9eee573row51_col10\" class=\"data row51 col10\" >nan</td>\n",
       "                        <td id=\"T_5e8d6992_c025_11ea_b0ff_30d9d9eee573row51_col11\" class=\"data row51 col11\" >2.65964</td>\n",
       "                        <td id=\"T_5e8d6992_c025_11ea_b0ff_30d9d9eee573row51_col12\" class=\"data row51 col12\" >340</td>\n",
       "                        <td id=\"T_5e8d6992_c025_11ea_b0ff_30d9d9eee573row51_col13\" class=\"data row51 col13\" >HND</td>\n",
       "            </tr>\n",
       "            <tr>\n",
       "                        <th id=\"T_5e8d6992_c025_11ea_b0ff_30d9d9eee573level0_row52\" class=\"row_heading level0 row52\" >87</th>\n",
       "                        <td id=\"T_5e8d6992_c025_11ea_b0ff_30d9d9eee573row52_col0\" class=\"data row52 col0\" >Guatemala</td>\n",
       "                        <td id=\"T_5e8d6992_c025_11ea_b0ff_30d9d9eee573row52_col1\" class=\"data row52 col1\" >2020-07-07 07:33:57</td>\n",
       "                        <td id=\"T_5e8d6992_c025_11ea_b0ff_30d9d9eee573row52_col2\" class=\"data row52 col2\" >15.7835</td>\n",
       "                        <td id=\"T_5e8d6992_c025_11ea_b0ff_30d9d9eee573row52_col3\" class=\"data row52 col3\" >-90.2308</td>\n",
       "                        <td id=\"T_5e8d6992_c025_11ea_b0ff_30d9d9eee573row52_col4\" class=\"data row52 col4\" >23972</td>\n",
       "                        <td id=\"T_5e8d6992_c025_11ea_b0ff_30d9d9eee573row52_col5\" class=\"data row52 col5\" >981</td>\n",
       "                        <td id=\"T_5e8d6992_c025_11ea_b0ff_30d9d9eee573row52_col6\" class=\"data row52 col6\" >3429</td>\n",
       "                        <td id=\"T_5e8d6992_c025_11ea_b0ff_30d9d9eee573row52_col7\" class=\"data row52 col7\" >19562</td>\n",
       "                        <td id=\"T_5e8d6992_c025_11ea_b0ff_30d9d9eee573row52_col8\" class=\"data row52 col8\" >133.805</td>\n",
       "                        <td id=\"T_5e8d6992_c025_11ea_b0ff_30d9d9eee573row52_col9\" class=\"data row52 col9\" >nan</td>\n",
       "                        <td id=\"T_5e8d6992_c025_11ea_b0ff_30d9d9eee573row52_col10\" class=\"data row52 col10\" >nan</td>\n",
       "                        <td id=\"T_5e8d6992_c025_11ea_b0ff_30d9d9eee573row52_col11\" class=\"data row52 col11\" >4.09227</td>\n",
       "                        <td id=\"T_5e8d6992_c025_11ea_b0ff_30d9d9eee573row52_col12\" class=\"data row52 col12\" >320</td>\n",
       "                        <td id=\"T_5e8d6992_c025_11ea_b0ff_30d9d9eee573row52_col13\" class=\"data row52 col13\" >GTM</td>\n",
       "            </tr>\n",
       "            <tr>\n",
       "                        <th id=\"T_5e8d6992_c025_11ea_b0ff_30d9d9eee573level0_row53\" class=\"row_heading level0 row53\" >84</th>\n",
       "                        <td id=\"T_5e8d6992_c025_11ea_b0ff_30d9d9eee573row53_col0\" class=\"data row53 col0\" >Ghana</td>\n",
       "                        <td id=\"T_5e8d6992_c025_11ea_b0ff_30d9d9eee573row53_col1\" class=\"data row53 col1\" >2020-07-07 07:33:57</td>\n",
       "                        <td id=\"T_5e8d6992_c025_11ea_b0ff_30d9d9eee573row53_col2\" class=\"data row53 col2\" >7.9465</td>\n",
       "                        <td id=\"T_5e8d6992_c025_11ea_b0ff_30d9d9eee573row53_col3\" class=\"data row53 col3\" >-1.0232</td>\n",
       "                        <td id=\"T_5e8d6992_c025_11ea_b0ff_30d9d9eee573row53_col4\" class=\"data row53 col4\" >21077</td>\n",
       "                        <td id=\"T_5e8d6992_c025_11ea_b0ff_30d9d9eee573row53_col5\" class=\"data row53 col5\" >129</td>\n",
       "                        <td id=\"T_5e8d6992_c025_11ea_b0ff_30d9d9eee573row53_col6\" class=\"data row53 col6\" >16070</td>\n",
       "                        <td id=\"T_5e8d6992_c025_11ea_b0ff_30d9d9eee573row53_col7\" class=\"data row53 col7\" >4878</td>\n",
       "                        <td id=\"T_5e8d6992_c025_11ea_b0ff_30d9d9eee573row53_col8\" class=\"data row53 col8\" >67.8307</td>\n",
       "                        <td id=\"T_5e8d6992_c025_11ea_b0ff_30d9d9eee573row53_col9\" class=\"data row53 col9\" >nan</td>\n",
       "                        <td id=\"T_5e8d6992_c025_11ea_b0ff_30d9d9eee573row53_col10\" class=\"data row53 col10\" >nan</td>\n",
       "                        <td id=\"T_5e8d6992_c025_11ea_b0ff_30d9d9eee573row53_col11\" class=\"data row53 col11\" >0.612042</td>\n",
       "                        <td id=\"T_5e8d6992_c025_11ea_b0ff_30d9d9eee573row53_col12\" class=\"data row53 col12\" >288</td>\n",
       "                        <td id=\"T_5e8d6992_c025_11ea_b0ff_30d9d9eee573row53_col13\" class=\"data row53 col13\" >GHA</td>\n",
       "            </tr>\n",
       "            <tr>\n",
       "                        <th id=\"T_5e8d6992_c025_11ea_b0ff_30d9d9eee573level0_row54\" class=\"row_heading level0 row54\" >36</th>\n",
       "                        <td id=\"T_5e8d6992_c025_11ea_b0ff_30d9d9eee573row54_col0\" class=\"data row54 col0\" >Azerbaijan</td>\n",
       "                        <td id=\"T_5e8d6992_c025_11ea_b0ff_30d9d9eee573row54_col1\" class=\"data row54 col1\" >2020-07-07 07:33:57</td>\n",
       "                        <td id=\"T_5e8d6992_c025_11ea_b0ff_30d9d9eee573row54_col2\" class=\"data row54 col2\" >40.1431</td>\n",
       "                        <td id=\"T_5e8d6992_c025_11ea_b0ff_30d9d9eee573row54_col3\" class=\"data row54 col3\" >47.5769</td>\n",
       "                        <td id=\"T_5e8d6992_c025_11ea_b0ff_30d9d9eee573row54_col4\" class=\"data row54 col4\" >20837</td>\n",
       "                        <td id=\"T_5e8d6992_c025_11ea_b0ff_30d9d9eee573row54_col5\" class=\"data row54 col5\" >258</td>\n",
       "                        <td id=\"T_5e8d6992_c025_11ea_b0ff_30d9d9eee573row54_col6\" class=\"data row54 col6\" >12182</td>\n",
       "                        <td id=\"T_5e8d6992_c025_11ea_b0ff_30d9d9eee573row54_col7\" class=\"data row54 col7\" >8397</td>\n",
       "                        <td id=\"T_5e8d6992_c025_11ea_b0ff_30d9d9eee573row54_col8\" class=\"data row54 col8\" >205.51</td>\n",
       "                        <td id=\"T_5e8d6992_c025_11ea_b0ff_30d9d9eee573row54_col9\" class=\"data row54 col9\" >nan</td>\n",
       "                        <td id=\"T_5e8d6992_c025_11ea_b0ff_30d9d9eee573row54_col10\" class=\"data row54 col10\" >nan</td>\n",
       "                        <td id=\"T_5e8d6992_c025_11ea_b0ff_30d9d9eee573row54_col11\" class=\"data row54 col11\" >1.23818</td>\n",
       "                        <td id=\"T_5e8d6992_c025_11ea_b0ff_30d9d9eee573row54_col12\" class=\"data row54 col12\" >31</td>\n",
       "                        <td id=\"T_5e8d6992_c025_11ea_b0ff_30d9d9eee573row54_col13\" class=\"data row54 col13\" >AZE</td>\n",
       "            </tr>\n",
       "            <tr>\n",
       "                        <th id=\"T_5e8d6992_c025_11ea_b0ff_30d9d9eee573level0_row55\" class=\"row_heading level0 row55\" >24</th>\n",
       "                        <td id=\"T_5e8d6992_c025_11ea_b0ff_30d9d9eee573row55_col0\" class=\"data row55 col0\" >Japan</td>\n",
       "                        <td id=\"T_5e8d6992_c025_11ea_b0ff_30d9d9eee573row55_col1\" class=\"data row55 col1\" >2020-07-07 07:33:57</td>\n",
       "                        <td id=\"T_5e8d6992_c025_11ea_b0ff_30d9d9eee573row55_col2\" class=\"data row55 col2\" >36.2048</td>\n",
       "                        <td id=\"T_5e8d6992_c025_11ea_b0ff_30d9d9eee573row55_col3\" class=\"data row55 col3\" >138.253</td>\n",
       "                        <td id=\"T_5e8d6992_c025_11ea_b0ff_30d9d9eee573row55_col4\" class=\"data row55 col4\" >19954</td>\n",
       "                        <td id=\"T_5e8d6992_c025_11ea_b0ff_30d9d9eee573row55_col5\" class=\"data row55 col5\" >978</td>\n",
       "                        <td id=\"T_5e8d6992_c025_11ea_b0ff_30d9d9eee573row55_col6\" class=\"data row55 col6\" >17007</td>\n",
       "                        <td id=\"T_5e8d6992_c025_11ea_b0ff_30d9d9eee573row55_col7\" class=\"data row55 col7\" >1969</td>\n",
       "                        <td id=\"T_5e8d6992_c025_11ea_b0ff_30d9d9eee573row55_col8\" class=\"data row55 col8\" >15.7768</td>\n",
       "                        <td id=\"T_5e8d6992_c025_11ea_b0ff_30d9d9eee573row55_col9\" class=\"data row55 col9\" >nan</td>\n",
       "                        <td id=\"T_5e8d6992_c025_11ea_b0ff_30d9d9eee573row55_col10\" class=\"data row55 col10\" >nan</td>\n",
       "                        <td id=\"T_5e8d6992_c025_11ea_b0ff_30d9d9eee573row55_col11\" class=\"data row55 col11\" >4.90127</td>\n",
       "                        <td id=\"T_5e8d6992_c025_11ea_b0ff_30d9d9eee573row55_col12\" class=\"data row55 col12\" >392</td>\n",
       "                        <td id=\"T_5e8d6992_c025_11ea_b0ff_30d9d9eee573row55_col13\" class=\"data row55 col13\" >JPN</td>\n",
       "            </tr>\n",
       "            <tr>\n",
       "                        <th id=\"T_5e8d6992_c025_11ea_b0ff_30d9d9eee573level0_row56\" class=\"row_heading level0 row56\" >1</th>\n",
       "                        <td id=\"T_5e8d6992_c025_11ea_b0ff_30d9d9eee573row56_col0\" class=\"data row56 col0\" >Austria</td>\n",
       "                        <td id=\"T_5e8d6992_c025_11ea_b0ff_30d9d9eee573row56_col1\" class=\"data row56 col1\" >2020-07-07 07:33:57</td>\n",
       "                        <td id=\"T_5e8d6992_c025_11ea_b0ff_30d9d9eee573row56_col2\" class=\"data row56 col2\" >47.5162</td>\n",
       "                        <td id=\"T_5e8d6992_c025_11ea_b0ff_30d9d9eee573row56_col3\" class=\"data row56 col3\" >14.5501</td>\n",
       "                        <td id=\"T_5e8d6992_c025_11ea_b0ff_30d9d9eee573row56_col4\" class=\"data row56 col4\" >18365</td>\n",
       "                        <td id=\"T_5e8d6992_c025_11ea_b0ff_30d9d9eee573row56_col5\" class=\"data row56 col5\" >706</td>\n",
       "                        <td id=\"T_5e8d6992_c025_11ea_b0ff_30d9d9eee573row56_col6\" class=\"data row56 col6\" >16647</td>\n",
       "                        <td id=\"T_5e8d6992_c025_11ea_b0ff_30d9d9eee573row56_col7\" class=\"data row56 col7\" >1012</td>\n",
       "                        <td id=\"T_5e8d6992_c025_11ea_b0ff_30d9d9eee573row56_col8\" class=\"data row56 col8\" >203.911</td>\n",
       "                        <td id=\"T_5e8d6992_c025_11ea_b0ff_30d9d9eee573row56_col9\" class=\"data row56 col9\" >nan</td>\n",
       "                        <td id=\"T_5e8d6992_c025_11ea_b0ff_30d9d9eee573row56_col10\" class=\"data row56 col10\" >nan</td>\n",
       "                        <td id=\"T_5e8d6992_c025_11ea_b0ff_30d9d9eee573row56_col11\" class=\"data row56 col11\" >3.84427</td>\n",
       "                        <td id=\"T_5e8d6992_c025_11ea_b0ff_30d9d9eee573row56_col12\" class=\"data row56 col12\" >40</td>\n",
       "                        <td id=\"T_5e8d6992_c025_11ea_b0ff_30d9d9eee573row56_col13\" class=\"data row56 col13\" >AUT</td>\n",
       "            </tr>\n",
       "            <tr>\n",
       "                        <th id=\"T_5e8d6992_c025_11ea_b0ff_30d9d9eee573level0_row57\" class=\"row_heading level0 row57\" >125</th>\n",
       "                        <td id=\"T_5e8d6992_c025_11ea_b0ff_30d9d9eee573row57_col0\" class=\"data row57 col0\" >Moldova</td>\n",
       "                        <td id=\"T_5e8d6992_c025_11ea_b0ff_30d9d9eee573row57_col1\" class=\"data row57 col1\" >2020-07-07 07:33:57</td>\n",
       "                        <td id=\"T_5e8d6992_c025_11ea_b0ff_30d9d9eee573row57_col2\" class=\"data row57 col2\" >47.4116</td>\n",
       "                        <td id=\"T_5e8d6992_c025_11ea_b0ff_30d9d9eee573row57_col3\" class=\"data row57 col3\" >28.3699</td>\n",
       "                        <td id=\"T_5e8d6992_c025_11ea_b0ff_30d9d9eee573row57_col4\" class=\"data row57 col4\" >17906</td>\n",
       "                        <td id=\"T_5e8d6992_c025_11ea_b0ff_30d9d9eee573row57_col5\" class=\"data row57 col5\" >592</td>\n",
       "                        <td id=\"T_5e8d6992_c025_11ea_b0ff_30d9d9eee573row57_col6\" class=\"data row57 col6\" >11047</td>\n",
       "                        <td id=\"T_5e8d6992_c025_11ea_b0ff_30d9d9eee573row57_col7\" class=\"data row57 col7\" >6267</td>\n",
       "                        <td id=\"T_5e8d6992_c025_11ea_b0ff_30d9d9eee573row57_col8\" class=\"data row57 col8\" >443.881</td>\n",
       "                        <td id=\"T_5e8d6992_c025_11ea_b0ff_30d9d9eee573row57_col9\" class=\"data row57 col9\" >nan</td>\n",
       "                        <td id=\"T_5e8d6992_c025_11ea_b0ff_30d9d9eee573row57_col10\" class=\"data row57 col10\" >nan</td>\n",
       "                        <td id=\"T_5e8d6992_c025_11ea_b0ff_30d9d9eee573row57_col11\" class=\"data row57 col11\" >3.30615</td>\n",
       "                        <td id=\"T_5e8d6992_c025_11ea_b0ff_30d9d9eee573row57_col12\" class=\"data row57 col12\" >498</td>\n",
       "                        <td id=\"T_5e8d6992_c025_11ea_b0ff_30d9d9eee573row57_col13\" class=\"data row57 col13\" >MDA</td>\n",
       "            </tr>\n",
       "            <tr>\n",
       "                        <th id=\"T_5e8d6992_c025_11ea_b0ff_30d9d9eee573level0_row58\" class=\"row_heading level0 row58\" >155</th>\n",
       "                        <td id=\"T_5e8d6992_c025_11ea_b0ff_30d9d9eee573row58_col0\" class=\"data row58 col0\" >Serbia</td>\n",
       "                        <td id=\"T_5e8d6992_c025_11ea_b0ff_30d9d9eee573row58_col1\" class=\"data row58 col1\" >2020-07-07 07:33:57</td>\n",
       "                        <td id=\"T_5e8d6992_c025_11ea_b0ff_30d9d9eee573row58_col2\" class=\"data row58 col2\" >44.0165</td>\n",
       "                        <td id=\"T_5e8d6992_c025_11ea_b0ff_30d9d9eee573row58_col3\" class=\"data row58 col3\" >21.0059</td>\n",
       "                        <td id=\"T_5e8d6992_c025_11ea_b0ff_30d9d9eee573row58_col4\" class=\"data row58 col4\" >16420</td>\n",
       "                        <td id=\"T_5e8d6992_c025_11ea_b0ff_30d9d9eee573row58_col5\" class=\"data row58 col5\" >317</td>\n",
       "                        <td id=\"T_5e8d6992_c025_11ea_b0ff_30d9d9eee573row58_col6\" class=\"data row58 col6\" >13366</td>\n",
       "                        <td id=\"T_5e8d6992_c025_11ea_b0ff_30d9d9eee573row58_col7\" class=\"data row58 col7\" >2737</td>\n",
       "                        <td id=\"T_5e8d6992_c025_11ea_b0ff_30d9d9eee573row58_col8\" class=\"data row58 col8\" >187.928</td>\n",
       "                        <td id=\"T_5e8d6992_c025_11ea_b0ff_30d9d9eee573row58_col9\" class=\"data row58 col9\" >nan</td>\n",
       "                        <td id=\"T_5e8d6992_c025_11ea_b0ff_30d9d9eee573row58_col10\" class=\"data row58 col10\" >nan</td>\n",
       "                        <td id=\"T_5e8d6992_c025_11ea_b0ff_30d9d9eee573row58_col11\" class=\"data row58 col11\" >1.93057</td>\n",
       "                        <td id=\"T_5e8d6992_c025_11ea_b0ff_30d9d9eee573row58_col12\" class=\"data row58 col12\" >688</td>\n",
       "                        <td id=\"T_5e8d6992_c025_11ea_b0ff_30d9d9eee573row58_col13\" class=\"data row58 col13\" >SRB</td>\n",
       "            </tr>\n",
       "            <tr>\n",
       "                        <th id=\"T_5e8d6992_c025_11ea_b0ff_30d9d9eee573level0_row59\" class=\"row_heading level0 row59\" >30</th>\n",
       "                        <td id=\"T_5e8d6992_c025_11ea_b0ff_30d9d9eee573row59_col0\" class=\"data row59 col0\" >Algeria</td>\n",
       "                        <td id=\"T_5e8d6992_c025_11ea_b0ff_30d9d9eee573row59_col1\" class=\"data row59 col1\" >2020-07-07 07:33:57</td>\n",
       "                        <td id=\"T_5e8d6992_c025_11ea_b0ff_30d9d9eee573row59_col2\" class=\"data row59 col2\" >28.0339</td>\n",
       "                        <td id=\"T_5e8d6992_c025_11ea_b0ff_30d9d9eee573row59_col3\" class=\"data row59 col3\" >1.6596</td>\n",
       "                        <td id=\"T_5e8d6992_c025_11ea_b0ff_30d9d9eee573row59_col4\" class=\"data row59 col4\" >16404</td>\n",
       "                        <td id=\"T_5e8d6992_c025_11ea_b0ff_30d9d9eee573row59_col5\" class=\"data row59 col5\" >959</td>\n",
       "                        <td id=\"T_5e8d6992_c025_11ea_b0ff_30d9d9eee573row59_col6\" class=\"data row59 col6\" >11884</td>\n",
       "                        <td id=\"T_5e8d6992_c025_11ea_b0ff_30d9d9eee573row59_col7\" class=\"data row59 col7\" >3561</td>\n",
       "                        <td id=\"T_5e8d6992_c025_11ea_b0ff_30d9d9eee573row59_col8\" class=\"data row59 col8\" >37.4085</td>\n",
       "                        <td id=\"T_5e8d6992_c025_11ea_b0ff_30d9d9eee573row59_col9\" class=\"data row59 col9\" >nan</td>\n",
       "                        <td id=\"T_5e8d6992_c025_11ea_b0ff_30d9d9eee573row59_col10\" class=\"data row59 col10\" >nan</td>\n",
       "                        <td id=\"T_5e8d6992_c025_11ea_b0ff_30d9d9eee573row59_col11\" class=\"data row59 col11\" >5.84614</td>\n",
       "                        <td id=\"T_5e8d6992_c025_11ea_b0ff_30d9d9eee573row59_col12\" class=\"data row59 col12\" >12</td>\n",
       "                        <td id=\"T_5e8d6992_c025_11ea_b0ff_30d9d9eee573row59_col13\" class=\"data row59 col13\" >DZA</td>\n",
       "            </tr>\n",
       "            <tr>\n",
       "                        <th id=\"T_5e8d6992_c025_11ea_b0ff_30d9d9eee573level0_row60\" class=\"row_heading level0 row60\" >132</th>\n",
       "                        <td id=\"T_5e8d6992_c025_11ea_b0ff_30d9d9eee573row60_col0\" class=\"data row60 col0\" >Nepal</td>\n",
       "                        <td id=\"T_5e8d6992_c025_11ea_b0ff_30d9d9eee573row60_col1\" class=\"data row60 col1\" >2020-07-07 07:33:57</td>\n",
       "                        <td id=\"T_5e8d6992_c025_11ea_b0ff_30d9d9eee573row60_col2\" class=\"data row60 col2\" >28.1667</td>\n",
       "                        <td id=\"T_5e8d6992_c025_11ea_b0ff_30d9d9eee573row60_col3\" class=\"data row60 col3\" >84.25</td>\n",
       "                        <td id=\"T_5e8d6992_c025_11ea_b0ff_30d9d9eee573row60_col4\" class=\"data row60 col4\" >15964</td>\n",
       "                        <td id=\"T_5e8d6992_c025_11ea_b0ff_30d9d9eee573row60_col5\" class=\"data row60 col5\" >35</td>\n",
       "                        <td id=\"T_5e8d6992_c025_11ea_b0ff_30d9d9eee573row60_col6\" class=\"data row60 col6\" >6811</td>\n",
       "                        <td id=\"T_5e8d6992_c025_11ea_b0ff_30d9d9eee573row60_col7\" class=\"data row60 col7\" >9118</td>\n",
       "                        <td id=\"T_5e8d6992_c025_11ea_b0ff_30d9d9eee573row60_col8\" class=\"data row60 col8\" >54.7898</td>\n",
       "                        <td id=\"T_5e8d6992_c025_11ea_b0ff_30d9d9eee573row60_col9\" class=\"data row60 col9\" >nan</td>\n",
       "                        <td id=\"T_5e8d6992_c025_11ea_b0ff_30d9d9eee573row60_col10\" class=\"data row60 col10\" >nan</td>\n",
       "                        <td id=\"T_5e8d6992_c025_11ea_b0ff_30d9d9eee573row60_col11\" class=\"data row60 col11\" >0.219243</td>\n",
       "                        <td id=\"T_5e8d6992_c025_11ea_b0ff_30d9d9eee573row60_col12\" class=\"data row60 col12\" >524</td>\n",
       "                        <td id=\"T_5e8d6992_c025_11ea_b0ff_30d9d9eee573row60_col13\" class=\"data row60 col13\" >NPL</td>\n",
       "            </tr>\n",
       "            <tr>\n",
       "                        <th id=\"T_5e8d6992_c025_11ea_b0ff_30d9d9eee573level0_row61\" class=\"row_heading level0 row61\" >56</th>\n",
       "                        <td id=\"T_5e8d6992_c025_11ea_b0ff_30d9d9eee573row61_col0\" class=\"data row61 col0\" >Cameroon</td>\n",
       "                        <td id=\"T_5e8d6992_c025_11ea_b0ff_30d9d9eee573row61_col1\" class=\"data row61 col1\" >2020-07-07 07:33:57</td>\n",
       "                        <td id=\"T_5e8d6992_c025_11ea_b0ff_30d9d9eee573row61_col2\" class=\"data row61 col2\" >3.848</td>\n",
       "                        <td id=\"T_5e8d6992_c025_11ea_b0ff_30d9d9eee573row61_col3\" class=\"data row61 col3\" >11.5021</td>\n",
       "                        <td id=\"T_5e8d6992_c025_11ea_b0ff_30d9d9eee573row61_col4\" class=\"data row61 col4\" >14916</td>\n",
       "                        <td id=\"T_5e8d6992_c025_11ea_b0ff_30d9d9eee573row61_col5\" class=\"data row61 col5\" >359</td>\n",
       "                        <td id=\"T_5e8d6992_c025_11ea_b0ff_30d9d9eee573row61_col6\" class=\"data row61 col6\" >11525</td>\n",
       "                        <td id=\"T_5e8d6992_c025_11ea_b0ff_30d9d9eee573row61_col7\" class=\"data row61 col7\" >3032</td>\n",
       "                        <td id=\"T_5e8d6992_c025_11ea_b0ff_30d9d9eee573row61_col8\" class=\"data row61 col8\" >56.1895</td>\n",
       "                        <td id=\"T_5e8d6992_c025_11ea_b0ff_30d9d9eee573row61_col9\" class=\"data row61 col9\" >nan</td>\n",
       "                        <td id=\"T_5e8d6992_c025_11ea_b0ff_30d9d9eee573row61_col10\" class=\"data row61 col10\" >nan</td>\n",
       "                        <td id=\"T_5e8d6992_c025_11ea_b0ff_30d9d9eee573row61_col11\" class=\"data row61 col11\" >2.40681</td>\n",
       "                        <td id=\"T_5e8d6992_c025_11ea_b0ff_30d9d9eee573row61_col12\" class=\"data row61 col12\" >120</td>\n",
       "                        <td id=\"T_5e8d6992_c025_11ea_b0ff_30d9d9eee573row61_col13\" class=\"data row61 col13\" >CMR</td>\n",
       "            </tr>\n",
       "            <tr>\n",
       "                        <th id=\"T_5e8d6992_c025_11ea_b0ff_30d9d9eee573level0_row62\" class=\"row_heading level0 row62\" >129</th>\n",
       "                        <td id=\"T_5e8d6992_c025_11ea_b0ff_30d9d9eee573row62_col0\" class=\"data row62 col0\" >Morocco</td>\n",
       "                        <td id=\"T_5e8d6992_c025_11ea_b0ff_30d9d9eee573row62_col1\" class=\"data row62 col1\" >2020-07-07 07:33:57</td>\n",
       "                        <td id=\"T_5e8d6992_c025_11ea_b0ff_30d9d9eee573row62_col2\" class=\"data row62 col2\" >31.7917</td>\n",
       "                        <td id=\"T_5e8d6992_c025_11ea_b0ff_30d9d9eee573row62_col3\" class=\"data row62 col3\" >-7.0926</td>\n",
       "                        <td id=\"T_5e8d6992_c025_11ea_b0ff_30d9d9eee573row62_col4\" class=\"data row62 col4\" >14379</td>\n",
       "                        <td id=\"T_5e8d6992_c025_11ea_b0ff_30d9d9eee573row62_col5\" class=\"data row62 col5\" >237</td>\n",
       "                        <td id=\"T_5e8d6992_c025_11ea_b0ff_30d9d9eee573row62_col6\" class=\"data row62 col6\" >10173</td>\n",
       "                        <td id=\"T_5e8d6992_c025_11ea_b0ff_30d9d9eee573row62_col7\" class=\"data row62 col7\" >3969</td>\n",
       "                        <td id=\"T_5e8d6992_c025_11ea_b0ff_30d9d9eee573row62_col8\" class=\"data row62 col8\" >38.9563</td>\n",
       "                        <td id=\"T_5e8d6992_c025_11ea_b0ff_30d9d9eee573row62_col9\" class=\"data row62 col9\" >nan</td>\n",
       "                        <td id=\"T_5e8d6992_c025_11ea_b0ff_30d9d9eee573row62_col10\" class=\"data row62 col10\" >nan</td>\n",
       "                        <td id=\"T_5e8d6992_c025_11ea_b0ff_30d9d9eee573row62_col11\" class=\"data row62 col11\" >1.64824</td>\n",
       "                        <td id=\"T_5e8d6992_c025_11ea_b0ff_30d9d9eee573row62_col12\" class=\"data row62 col12\" >504</td>\n",
       "                        <td id=\"T_5e8d6992_c025_11ea_b0ff_30d9d9eee573row62_col13\" class=\"data row62 col13\" >MAR</td>\n",
       "            </tr>\n",
       "            <tr>\n",
       "                        <th id=\"T_5e8d6992_c025_11ea_b0ff_30d9d9eee573level0_row63\" class=\"row_heading level0 row63\" >103</th>\n",
       "                        <td id=\"T_5e8d6992_c025_11ea_b0ff_30d9d9eee573row63_col0\" class=\"data row63 col0\" >Korea, South</td>\n",
       "                        <td id=\"T_5e8d6992_c025_11ea_b0ff_30d9d9eee573row63_col1\" class=\"data row63 col1\" >2020-07-07 07:33:57</td>\n",
       "                        <td id=\"T_5e8d6992_c025_11ea_b0ff_30d9d9eee573row63_col2\" class=\"data row63 col2\" >35.9078</td>\n",
       "                        <td id=\"T_5e8d6992_c025_11ea_b0ff_30d9d9eee573row63_col3\" class=\"data row63 col3\" >127.767</td>\n",
       "                        <td id=\"T_5e8d6992_c025_11ea_b0ff_30d9d9eee573row63_col4\" class=\"data row63 col4\" >13181</td>\n",
       "                        <td id=\"T_5e8d6992_c025_11ea_b0ff_30d9d9eee573row63_col5\" class=\"data row63 col5\" >285</td>\n",
       "                        <td id=\"T_5e8d6992_c025_11ea_b0ff_30d9d9eee573row63_col6\" class=\"data row63 col6\" >11914</td>\n",
       "                        <td id=\"T_5e8d6992_c025_11ea_b0ff_30d9d9eee573row63_col7\" class=\"data row63 col7\" >982</td>\n",
       "                        <td id=\"T_5e8d6992_c025_11ea_b0ff_30d9d9eee573row63_col8\" class=\"data row63 col8\" >25.7094</td>\n",
       "                        <td id=\"T_5e8d6992_c025_11ea_b0ff_30d9d9eee573row63_col9\" class=\"data row63 col9\" >nan</td>\n",
       "                        <td id=\"T_5e8d6992_c025_11ea_b0ff_30d9d9eee573row63_col10\" class=\"data row63 col10\" >nan</td>\n",
       "                        <td id=\"T_5e8d6992_c025_11ea_b0ff_30d9d9eee573row63_col11\" class=\"data row63 col11\" >2.1622</td>\n",
       "                        <td id=\"T_5e8d6992_c025_11ea_b0ff_30d9d9eee573row63_col12\" class=\"data row63 col12\" >410</td>\n",
       "                        <td id=\"T_5e8d6992_c025_11ea_b0ff_30d9d9eee573row63_col13\" class=\"data row63 col13\" >KOR</td>\n",
       "            </tr>\n",
       "            <tr>\n",
       "                        <th id=\"T_5e8d6992_c025_11ea_b0ff_30d9d9eee573level0_row64\" class=\"row_heading level0 row64\" >4</th>\n",
       "                        <td id=\"T_5e8d6992_c025_11ea_b0ff_30d9d9eee573row64_col0\" class=\"data row64 col0\" >Denmark</td>\n",
       "                        <td id=\"T_5e8d6992_c025_11ea_b0ff_30d9d9eee573row64_col1\" class=\"data row64 col1\" >2020-07-07 07:33:57</td>\n",
       "                        <td id=\"T_5e8d6992_c025_11ea_b0ff_30d9d9eee573row64_col2\" class=\"data row64 col2\" >56.2639</td>\n",
       "                        <td id=\"T_5e8d6992_c025_11ea_b0ff_30d9d9eee573row64_col3\" class=\"data row64 col3\" >9.5018</td>\n",
       "                        <td id=\"T_5e8d6992_c025_11ea_b0ff_30d9d9eee573row64_col4\" class=\"data row64 col4\" >13079</td>\n",
       "                        <td id=\"T_5e8d6992_c025_11ea_b0ff_30d9d9eee573row64_col5\" class=\"data row64 col5\" >607</td>\n",
       "                        <td id=\"T_5e8d6992_c025_11ea_b0ff_30d9d9eee573row64_col6\" class=\"data row64 col6\" >12135</td>\n",
       "                        <td id=\"T_5e8d6992_c025_11ea_b0ff_30d9d9eee573row64_col7\" class=\"data row64 col7\" >337</td>\n",
       "                        <td id=\"T_5e8d6992_c025_11ea_b0ff_30d9d9eee573row64_col8\" class=\"data row64 col8\" >225.804</td>\n",
       "                        <td id=\"T_5e8d6992_c025_11ea_b0ff_30d9d9eee573row64_col9\" class=\"data row64 col9\" >nan</td>\n",
       "                        <td id=\"T_5e8d6992_c025_11ea_b0ff_30d9d9eee573row64_col10\" class=\"data row64 col10\" >nan</td>\n",
       "                        <td id=\"T_5e8d6992_c025_11ea_b0ff_30d9d9eee573row64_col11\" class=\"data row64 col11\" >4.64103</td>\n",
       "                        <td id=\"T_5e8d6992_c025_11ea_b0ff_30d9d9eee573row64_col12\" class=\"data row64 col12\" >208</td>\n",
       "                        <td id=\"T_5e8d6992_c025_11ea_b0ff_30d9d9eee573row64_col13\" class=\"data row64 col13\" >DNK</td>\n",
       "            </tr>\n",
       "            <tr>\n",
       "                        <th id=\"T_5e8d6992_c025_11ea_b0ff_30d9d9eee573level0_row65\" class=\"row_heading level0 row65\" >67</th>\n",
       "                        <td id=\"T_5e8d6992_c025_11ea_b0ff_30d9d9eee573row65_col0\" class=\"data row65 col0\" >Czechia</td>\n",
       "                        <td id=\"T_5e8d6992_c025_11ea_b0ff_30d9d9eee573row65_col1\" class=\"data row65 col1\" >2020-07-07 07:33:57</td>\n",
       "                        <td id=\"T_5e8d6992_c025_11ea_b0ff_30d9d9eee573row65_col2\" class=\"data row65 col2\" >49.8175</td>\n",
       "                        <td id=\"T_5e8d6992_c025_11ea_b0ff_30d9d9eee573row65_col3\" class=\"data row65 col3\" >15.473</td>\n",
       "                        <td id=\"T_5e8d6992_c025_11ea_b0ff_30d9d9eee573row65_col4\" class=\"data row65 col4\" >12566</td>\n",
       "                        <td id=\"T_5e8d6992_c025_11ea_b0ff_30d9d9eee573row65_col5\" class=\"data row65 col5\" >350</td>\n",
       "                        <td id=\"T_5e8d6992_c025_11ea_b0ff_30d9d9eee573row65_col6\" class=\"data row65 col6\" >7873</td>\n",
       "                        <td id=\"T_5e8d6992_c025_11ea_b0ff_30d9d9eee573row65_col7\" class=\"data row65 col7\" >4343</td>\n",
       "                        <td id=\"T_5e8d6992_c025_11ea_b0ff_30d9d9eee573row65_col8\" class=\"data row65 col8\" >117.341</td>\n",
       "                        <td id=\"T_5e8d6992_c025_11ea_b0ff_30d9d9eee573row65_col9\" class=\"data row65 col9\" >nan</td>\n",
       "                        <td id=\"T_5e8d6992_c025_11ea_b0ff_30d9d9eee573row65_col10\" class=\"data row65 col10\" >nan</td>\n",
       "                        <td id=\"T_5e8d6992_c025_11ea_b0ff_30d9d9eee573row65_col11\" class=\"data row65 col11\" >2.78529</td>\n",
       "                        <td id=\"T_5e8d6992_c025_11ea_b0ff_30d9d9eee573row65_col12\" class=\"data row65 col12\" >203</td>\n",
       "                        <td id=\"T_5e8d6992_c025_11ea_b0ff_30d9d9eee573row65_col13\" class=\"data row65 col13\" >CZE</td>\n",
       "            </tr>\n",
       "            <tr>\n",
       "                        <th id=\"T_5e8d6992_c025_11ea_b0ff_30d9d9eee573level0_row66\" class=\"row_heading level0 row66\" >63</th>\n",
       "                        <td id=\"T_5e8d6992_c025_11ea_b0ff_30d9d9eee573row66_col0\" class=\"data row66 col0\" >Cote d'Ivoire</td>\n",
       "                        <td id=\"T_5e8d6992_c025_11ea_b0ff_30d9d9eee573row66_col1\" class=\"data row66 col1\" >2020-07-07 07:33:57</td>\n",
       "                        <td id=\"T_5e8d6992_c025_11ea_b0ff_30d9d9eee573row66_col2\" class=\"data row66 col2\" >7.54</td>\n",
       "                        <td id=\"T_5e8d6992_c025_11ea_b0ff_30d9d9eee573row66_col3\" class=\"data row66 col3\" >-5.5471</td>\n",
       "                        <td id=\"T_5e8d6992_c025_11ea_b0ff_30d9d9eee573row66_col4\" class=\"data row66 col4\" >10966</td>\n",
       "                        <td id=\"T_5e8d6992_c025_11ea_b0ff_30d9d9eee573row66_col5\" class=\"data row66 col5\" >75</td>\n",
       "                        <td id=\"T_5e8d6992_c025_11ea_b0ff_30d9d9eee573row66_col6\" class=\"data row66 col6\" >5384</td>\n",
       "                        <td id=\"T_5e8d6992_c025_11ea_b0ff_30d9d9eee573row66_col7\" class=\"data row66 col7\" >5507</td>\n",
       "                        <td id=\"T_5e8d6992_c025_11ea_b0ff_30d9d9eee573row66_col8\" class=\"data row66 col8\" >41.5721</td>\n",
       "                        <td id=\"T_5e8d6992_c025_11ea_b0ff_30d9d9eee573row66_col9\" class=\"data row66 col9\" >nan</td>\n",
       "                        <td id=\"T_5e8d6992_c025_11ea_b0ff_30d9d9eee573row66_col10\" class=\"data row66 col10\" >nan</td>\n",
       "                        <td id=\"T_5e8d6992_c025_11ea_b0ff_30d9d9eee573row66_col11\" class=\"data row66 col11\" >0.683932</td>\n",
       "                        <td id=\"T_5e8d6992_c025_11ea_b0ff_30d9d9eee573row66_col12\" class=\"data row66 col12\" >384</td>\n",
       "                        <td id=\"T_5e8d6992_c025_11ea_b0ff_30d9d9eee573row66_col13\" class=\"data row66 col13\" >CIV</td>\n",
       "            </tr>\n",
       "            <tr>\n",
       "                        <th id=\"T_5e8d6992_c025_11ea_b0ff_30d9d9eee573level0_row67\" class=\"row_heading level0 row67\" >180</th>\n",
       "                        <td id=\"T_5e8d6992_c025_11ea_b0ff_30d9d9eee573row67_col0\" class=\"data row67 col0\" >Uzbekistan</td>\n",
       "                        <td id=\"T_5e8d6992_c025_11ea_b0ff_30d9d9eee573row67_col1\" class=\"data row67 col1\" >2020-07-07 07:33:57</td>\n",
       "                        <td id=\"T_5e8d6992_c025_11ea_b0ff_30d9d9eee573row67_col2\" class=\"data row67 col2\" >41.3775</td>\n",
       "                        <td id=\"T_5e8d6992_c025_11ea_b0ff_30d9d9eee573row67_col3\" class=\"data row67 col3\" >64.5853</td>\n",
       "                        <td id=\"T_5e8d6992_c025_11ea_b0ff_30d9d9eee573row67_col4\" class=\"data row67 col4\" >10459</td>\n",
       "                        <td id=\"T_5e8d6992_c025_11ea_b0ff_30d9d9eee573row67_col5\" class=\"data row67 col5\" >37</td>\n",
       "                        <td id=\"T_5e8d6992_c025_11ea_b0ff_30d9d9eee573row67_col6\" class=\"data row67 col6\" >6690</td>\n",
       "                        <td id=\"T_5e8d6992_c025_11ea_b0ff_30d9d9eee573row67_col7\" class=\"data row67 col7\" >3732</td>\n",
       "                        <td id=\"T_5e8d6992_c025_11ea_b0ff_30d9d9eee573row67_col8\" class=\"data row67 col8\" >31.2496</td>\n",
       "                        <td id=\"T_5e8d6992_c025_11ea_b0ff_30d9d9eee573row67_col9\" class=\"data row67 col9\" >nan</td>\n",
       "                        <td id=\"T_5e8d6992_c025_11ea_b0ff_30d9d9eee573row67_col10\" class=\"data row67 col10\" >nan</td>\n",
       "                        <td id=\"T_5e8d6992_c025_11ea_b0ff_30d9d9eee573row67_col11\" class=\"data row67 col11\" >0.353762</td>\n",
       "                        <td id=\"T_5e8d6992_c025_11ea_b0ff_30d9d9eee573row67_col12\" class=\"data row67 col12\" >860</td>\n",
       "                        <td id=\"T_5e8d6992_c025_11ea_b0ff_30d9d9eee573row67_col13\" class=\"data row67 col13\" >UZB</td>\n",
       "            </tr>\n",
       "            <tr>\n",
       "                        <th id=\"T_5e8d6992_c025_11ea_b0ff_30d9d9eee573level0_row68\" class=\"row_heading level0 row68\" >165</th>\n",
       "                        <td id=\"T_5e8d6992_c025_11ea_b0ff_30d9d9eee573row68_col0\" class=\"data row68 col0\" >Sudan</td>\n",
       "                        <td id=\"T_5e8d6992_c025_11ea_b0ff_30d9d9eee573row68_col1\" class=\"data row68 col1\" >2020-07-07 07:33:57</td>\n",
       "                        <td id=\"T_5e8d6992_c025_11ea_b0ff_30d9d9eee573row68_col2\" class=\"data row68 col2\" >12.8628</td>\n",
       "                        <td id=\"T_5e8d6992_c025_11ea_b0ff_30d9d9eee573row68_col3\" class=\"data row68 col3\" >30.2176</td>\n",
       "                        <td id=\"T_5e8d6992_c025_11ea_b0ff_30d9d9eee573row68_col4\" class=\"data row68 col4\" >9894</td>\n",
       "                        <td id=\"T_5e8d6992_c025_11ea_b0ff_30d9d9eee573row68_col5\" class=\"data row68 col5\" >616</td>\n",
       "                        <td id=\"T_5e8d6992_c025_11ea_b0ff_30d9d9eee573row68_col6\" class=\"data row68 col6\" >4899</td>\n",
       "                        <td id=\"T_5e8d6992_c025_11ea_b0ff_30d9d9eee573row68_col7\" class=\"data row68 col7\" >4379</td>\n",
       "                        <td id=\"T_5e8d6992_c025_11ea_b0ff_30d9d9eee573row68_col8\" class=\"data row68 col8\" >22.5637</td>\n",
       "                        <td id=\"T_5e8d6992_c025_11ea_b0ff_30d9d9eee573row68_col9\" class=\"data row68 col9\" >nan</td>\n",
       "                        <td id=\"T_5e8d6992_c025_11ea_b0ff_30d9d9eee573row68_col10\" class=\"data row68 col10\" >nan</td>\n",
       "                        <td id=\"T_5e8d6992_c025_11ea_b0ff_30d9d9eee573row68_col11\" class=\"data row68 col11\" >6.226</td>\n",
       "                        <td id=\"T_5e8d6992_c025_11ea_b0ff_30d9d9eee573row68_col12\" class=\"data row68 col12\" >729</td>\n",
       "                        <td id=\"T_5e8d6992_c025_11ea_b0ff_30d9d9eee573row68_col13\" class=\"data row68 col13\" >SDN</td>\n",
       "            </tr>\n",
       "            <tr>\n",
       "                        <th id=\"T_5e8d6992_c025_11ea_b0ff_30d9d9eee573level0_row69\" class=\"row_heading level0 row69\" >12</th>\n",
       "                        <td id=\"T_5e8d6992_c025_11ea_b0ff_30d9d9eee573row69_col0\" class=\"data row69 col0\" >Norway</td>\n",
       "                        <td id=\"T_5e8d6992_c025_11ea_b0ff_30d9d9eee573row69_col1\" class=\"data row69 col1\" >2020-07-07 07:33:57</td>\n",
       "                        <td id=\"T_5e8d6992_c025_11ea_b0ff_30d9d9eee573row69_col2\" class=\"data row69 col2\" >60.472</td>\n",
       "                        <td id=\"T_5e8d6992_c025_11ea_b0ff_30d9d9eee573row69_col3\" class=\"data row69 col3\" >8.4689</td>\n",
       "                        <td id=\"T_5e8d6992_c025_11ea_b0ff_30d9d9eee573row69_col4\" class=\"data row69 col4\" >8936</td>\n",
       "                        <td id=\"T_5e8d6992_c025_11ea_b0ff_30d9d9eee573row69_col5\" class=\"data row69 col5\" >251</td>\n",
       "                        <td id=\"T_5e8d6992_c025_11ea_b0ff_30d9d9eee573row69_col6\" class=\"data row69 col6\" >8138</td>\n",
       "                        <td id=\"T_5e8d6992_c025_11ea_b0ff_30d9d9eee573row69_col7\" class=\"data row69 col7\" >547</td>\n",
       "                        <td id=\"T_5e8d6992_c025_11ea_b0ff_30d9d9eee573row69_col8\" class=\"data row69 col8\" >164.833</td>\n",
       "                        <td id=\"T_5e8d6992_c025_11ea_b0ff_30d9d9eee573row69_col9\" class=\"data row69 col9\" >nan</td>\n",
       "                        <td id=\"T_5e8d6992_c025_11ea_b0ff_30d9d9eee573row69_col10\" class=\"data row69 col10\" >nan</td>\n",
       "                        <td id=\"T_5e8d6992_c025_11ea_b0ff_30d9d9eee573row69_col11\" class=\"data row69 col11\" >2.80886</td>\n",
       "                        <td id=\"T_5e8d6992_c025_11ea_b0ff_30d9d9eee573row69_col12\" class=\"data row69 col12\" >578</td>\n",
       "                        <td id=\"T_5e8d6992_c025_11ea_b0ff_30d9d9eee573row69_col13\" class=\"data row69 col13\" >NOR</td>\n",
       "            </tr>\n",
       "            <tr>\n",
       "                        <th id=\"T_5e8d6992_c025_11ea_b0ff_30d9d9eee573level0_row70\" class=\"row_heading level0 row70\" >0</th>\n",
       "                        <td id=\"T_5e8d6992_c025_11ea_b0ff_30d9d9eee573row70_col0\" class=\"data row70 col0\" >Australia</td>\n",
       "                        <td id=\"T_5e8d6992_c025_11ea_b0ff_30d9d9eee573row70_col1\" class=\"data row70 col1\" >2020-07-07 07:33:57</td>\n",
       "                        <td id=\"T_5e8d6992_c025_11ea_b0ff_30d9d9eee573row70_col2\" class=\"data row70 col2\" >-25</td>\n",
       "                        <td id=\"T_5e8d6992_c025_11ea_b0ff_30d9d9eee573row70_col3\" class=\"data row70 col3\" >133</td>\n",
       "                        <td id=\"T_5e8d6992_c025_11ea_b0ff_30d9d9eee573row70_col4\" class=\"data row70 col4\" >8755</td>\n",
       "                        <td id=\"T_5e8d6992_c025_11ea_b0ff_30d9d9eee573row70_col5\" class=\"data row70 col5\" >106</td>\n",
       "                        <td id=\"T_5e8d6992_c025_11ea_b0ff_30d9d9eee573row70_col6\" class=\"data row70 col6\" >7455</td>\n",
       "                        <td id=\"T_5e8d6992_c025_11ea_b0ff_30d9d9eee573row70_col7\" class=\"data row70 col7\" >1194</td>\n",
       "                        <td id=\"T_5e8d6992_c025_11ea_b0ff_30d9d9eee573row70_col8\" class=\"data row70 col8\" >34.3877</td>\n",
       "                        <td id=\"T_5e8d6992_c025_11ea_b0ff_30d9d9eee573row70_col9\" class=\"data row70 col9\" >nan</td>\n",
       "                        <td id=\"T_5e8d6992_c025_11ea_b0ff_30d9d9eee573row70_col10\" class=\"data row70 col10\" >nan</td>\n",
       "                        <td id=\"T_5e8d6992_c025_11ea_b0ff_30d9d9eee573row70_col11\" class=\"data row70 col11\" >1.21074</td>\n",
       "                        <td id=\"T_5e8d6992_c025_11ea_b0ff_30d9d9eee573row70_col12\" class=\"data row70 col12\" >36</td>\n",
       "                        <td id=\"T_5e8d6992_c025_11ea_b0ff_30d9d9eee573row70_col13\" class=\"data row70 col13\" >AUS</td>\n",
       "            </tr>\n",
       "            <tr>\n",
       "                        <th id=\"T_5e8d6992_c025_11ea_b0ff_30d9d9eee573level0_row71\" class=\"row_heading level0 row71\" >119</th>\n",
       "                        <td id=\"T_5e8d6992_c025_11ea_b0ff_30d9d9eee573row71_col0\" class=\"data row71 col0\" >Malaysia</td>\n",
       "                        <td id=\"T_5e8d6992_c025_11ea_b0ff_30d9d9eee573row71_col1\" class=\"data row71 col1\" >2020-07-07 07:33:57</td>\n",
       "                        <td id=\"T_5e8d6992_c025_11ea_b0ff_30d9d9eee573row71_col2\" class=\"data row71 col2\" >4.21048</td>\n",
       "                        <td id=\"T_5e8d6992_c025_11ea_b0ff_30d9d9eee573row71_col3\" class=\"data row71 col3\" >101.976</td>\n",
       "                        <td id=\"T_5e8d6992_c025_11ea_b0ff_30d9d9eee573row71_col4\" class=\"data row71 col4\" >8668</td>\n",
       "                        <td id=\"T_5e8d6992_c025_11ea_b0ff_30d9d9eee573row71_col5\" class=\"data row71 col5\" >121</td>\n",
       "                        <td id=\"T_5e8d6992_c025_11ea_b0ff_30d9d9eee573row71_col6\" class=\"data row71 col6\" >8476</td>\n",
       "                        <td id=\"T_5e8d6992_c025_11ea_b0ff_30d9d9eee573row71_col7\" class=\"data row71 col7\" >71</td>\n",
       "                        <td id=\"T_5e8d6992_c025_11ea_b0ff_30d9d9eee573row71_col8\" class=\"data row71 col8\" >26.7812</td>\n",
       "                        <td id=\"T_5e8d6992_c025_11ea_b0ff_30d9d9eee573row71_col9\" class=\"data row71 col9\" >nan</td>\n",
       "                        <td id=\"T_5e8d6992_c025_11ea_b0ff_30d9d9eee573row71_col10\" class=\"data row71 col10\" >nan</td>\n",
       "                        <td id=\"T_5e8d6992_c025_11ea_b0ff_30d9d9eee573row71_col11\" class=\"data row71 col11\" >1.39594</td>\n",
       "                        <td id=\"T_5e8d6992_c025_11ea_b0ff_30d9d9eee573row71_col12\" class=\"data row71 col12\" >458</td>\n",
       "                        <td id=\"T_5e8d6992_c025_11ea_b0ff_30d9d9eee573row71_col13\" class=\"data row71 col13\" >MYS</td>\n",
       "            </tr>\n",
       "            <tr>\n",
       "                        <th id=\"T_5e8d6992_c025_11ea_b0ff_30d9d9eee573level0_row72\" class=\"row_heading level0 row72\" >106</th>\n",
       "                        <td id=\"T_5e8d6992_c025_11ea_b0ff_30d9d9eee573row72_col0\" class=\"data row72 col0\" >Kyrgyzstan</td>\n",
       "                        <td id=\"T_5e8d6992_c025_11ea_b0ff_30d9d9eee573row72_col1\" class=\"data row72 col1\" >2020-07-07 07:33:57</td>\n",
       "                        <td id=\"T_5e8d6992_c025_11ea_b0ff_30d9d9eee573row72_col2\" class=\"data row72 col2\" >41.2044</td>\n",
       "                        <td id=\"T_5e8d6992_c025_11ea_b0ff_30d9d9eee573row72_col3\" class=\"data row72 col3\" >74.7661</td>\n",
       "                        <td id=\"T_5e8d6992_c025_11ea_b0ff_30d9d9eee573row72_col4\" class=\"data row72 col4\" >8141</td>\n",
       "                        <td id=\"T_5e8d6992_c025_11ea_b0ff_30d9d9eee573row72_col5\" class=\"data row72 col5\" >99</td>\n",
       "                        <td id=\"T_5e8d6992_c025_11ea_b0ff_30d9d9eee573row72_col6\" class=\"data row72 col6\" >2916</td>\n",
       "                        <td id=\"T_5e8d6992_c025_11ea_b0ff_30d9d9eee573row72_col7\" class=\"data row72 col7\" >5126</td>\n",
       "                        <td id=\"T_5e8d6992_c025_11ea_b0ff_30d9d9eee573row72_col8\" class=\"data row72 col8\" >124.782</td>\n",
       "                        <td id=\"T_5e8d6992_c025_11ea_b0ff_30d9d9eee573row72_col9\" class=\"data row72 col9\" >nan</td>\n",
       "                        <td id=\"T_5e8d6992_c025_11ea_b0ff_30d9d9eee573row72_col10\" class=\"data row72 col10\" >nan</td>\n",
       "                        <td id=\"T_5e8d6992_c025_11ea_b0ff_30d9d9eee573row72_col11\" class=\"data row72 col11\" >1.21607</td>\n",
       "                        <td id=\"T_5e8d6992_c025_11ea_b0ff_30d9d9eee573row72_col12\" class=\"data row72 col12\" >417</td>\n",
       "                        <td id=\"T_5e8d6992_c025_11ea_b0ff_30d9d9eee573row72_col13\" class=\"data row72 col13\" >KGZ</td>\n",
       "            </tr>\n",
       "            <tr>\n",
       "                        <th id=\"T_5e8d6992_c025_11ea_b0ff_30d9d9eee573level0_row73\" class=\"row_heading level0 row73\" >102</th>\n",
       "                        <td id=\"T_5e8d6992_c025_11ea_b0ff_30d9d9eee573row73_col0\" class=\"data row73 col0\" >Kenya</td>\n",
       "                        <td id=\"T_5e8d6992_c025_11ea_b0ff_30d9d9eee573row73_col1\" class=\"data row73 col1\" >2020-07-07 07:33:57</td>\n",
       "                        <td id=\"T_5e8d6992_c025_11ea_b0ff_30d9d9eee573row73_col2\" class=\"data row73 col2\" >-0.0236</td>\n",
       "                        <td id=\"T_5e8d6992_c025_11ea_b0ff_30d9d9eee573row73_col3\" class=\"data row73 col3\" >37.9062</td>\n",
       "                        <td id=\"T_5e8d6992_c025_11ea_b0ff_30d9d9eee573row73_col4\" class=\"data row73 col4\" >8067</td>\n",
       "                        <td id=\"T_5e8d6992_c025_11ea_b0ff_30d9d9eee573row73_col5\" class=\"data row73 col5\" >164</td>\n",
       "                        <td id=\"T_5e8d6992_c025_11ea_b0ff_30d9d9eee573row73_col6\" class=\"data row73 col6\" >2414</td>\n",
       "                        <td id=\"T_5e8d6992_c025_11ea_b0ff_30d9d9eee573row73_col7\" class=\"data row73 col7\" >5489</td>\n",
       "                        <td id=\"T_5e8d6992_c025_11ea_b0ff_30d9d9eee573row73_col8\" class=\"data row73 col8\" >15.0024</td>\n",
       "                        <td id=\"T_5e8d6992_c025_11ea_b0ff_30d9d9eee573row73_col9\" class=\"data row73 col9\" >nan</td>\n",
       "                        <td id=\"T_5e8d6992_c025_11ea_b0ff_30d9d9eee573row73_col10\" class=\"data row73 col10\" >nan</td>\n",
       "                        <td id=\"T_5e8d6992_c025_11ea_b0ff_30d9d9eee573row73_col11\" class=\"data row73 col11\" >2.03297</td>\n",
       "                        <td id=\"T_5e8d6992_c025_11ea_b0ff_30d9d9eee573row73_col12\" class=\"data row73 col12\" >404</td>\n",
       "                        <td id=\"T_5e8d6992_c025_11ea_b0ff_30d9d9eee573row73_col13\" class=\"data row73 col13\" >KEN</td>\n",
       "            </tr>\n",
       "            <tr>\n",
       "                        <th id=\"T_5e8d6992_c025_11ea_b0ff_30d9d9eee573level0_row74\" class=\"row_heading level0 row74\" >74</th>\n",
       "                        <td id=\"T_5e8d6992_c025_11ea_b0ff_30d9d9eee573row74_col0\" class=\"data row74 col0\" >El Salvador</td>\n",
       "                        <td id=\"T_5e8d6992_c025_11ea_b0ff_30d9d9eee573row74_col1\" class=\"data row74 col1\" >2020-07-07 07:33:57</td>\n",
       "                        <td id=\"T_5e8d6992_c025_11ea_b0ff_30d9d9eee573row74_col2\" class=\"data row74 col2\" >13.7942</td>\n",
       "                        <td id=\"T_5e8d6992_c025_11ea_b0ff_30d9d9eee573row74_col3\" class=\"data row74 col3\" >-88.8965</td>\n",
       "                        <td id=\"T_5e8d6992_c025_11ea_b0ff_30d9d9eee573row74_col4\" class=\"data row74 col4\" >8027</td>\n",
       "                        <td id=\"T_5e8d6992_c025_11ea_b0ff_30d9d9eee573row74_col5\" class=\"data row74 col5\" >223</td>\n",
       "                        <td id=\"T_5e8d6992_c025_11ea_b0ff_30d9d9eee573row74_col6\" class=\"data row74 col6\" >4785</td>\n",
       "                        <td id=\"T_5e8d6992_c025_11ea_b0ff_30d9d9eee573row74_col7\" class=\"data row74 col7\" >3019</td>\n",
       "                        <td id=\"T_5e8d6992_c025_11ea_b0ff_30d9d9eee573row74_col8\" class=\"data row74 col8\" >123.755</td>\n",
       "                        <td id=\"T_5e8d6992_c025_11ea_b0ff_30d9d9eee573row74_col9\" class=\"data row74 col9\" >nan</td>\n",
       "                        <td id=\"T_5e8d6992_c025_11ea_b0ff_30d9d9eee573row74_col10\" class=\"data row74 col10\" >nan</td>\n",
       "                        <td id=\"T_5e8d6992_c025_11ea_b0ff_30d9d9eee573row74_col11\" class=\"data row74 col11\" >2.77812</td>\n",
       "                        <td id=\"T_5e8d6992_c025_11ea_b0ff_30d9d9eee573row74_col12\" class=\"data row74 col12\" >222</td>\n",
       "                        <td id=\"T_5e8d6992_c025_11ea_b0ff_30d9d9eee573row74_col13\" class=\"data row74 col13\" >SLV</td>\n",
       "            </tr>\n",
       "            <tr>\n",
       "                        <th id=\"T_5e8d6992_c025_11ea_b0ff_30d9d9eee573level0_row75\" class=\"row_heading level0 row75\" >154</th>\n",
       "                        <td id=\"T_5e8d6992_c025_11ea_b0ff_30d9d9eee573row75_col0\" class=\"data row75 col0\" >Senegal</td>\n",
       "                        <td id=\"T_5e8d6992_c025_11ea_b0ff_30d9d9eee573row75_col1\" class=\"data row75 col1\" >2020-07-07 07:33:57</td>\n",
       "                        <td id=\"T_5e8d6992_c025_11ea_b0ff_30d9d9eee573row75_col2\" class=\"data row75 col2\" >14.4974</td>\n",
       "                        <td id=\"T_5e8d6992_c025_11ea_b0ff_30d9d9eee573row75_col3\" class=\"data row75 col3\" >-14.4524</td>\n",
       "                        <td id=\"T_5e8d6992_c025_11ea_b0ff_30d9d9eee573row75_col4\" class=\"data row75 col4\" >7478</td>\n",
       "                        <td id=\"T_5e8d6992_c025_11ea_b0ff_30d9d9eee573row75_col5\" class=\"data row75 col5\" >136</td>\n",
       "                        <td id=\"T_5e8d6992_c025_11ea_b0ff_30d9d9eee573row75_col6\" class=\"data row75 col6\" >4870</td>\n",
       "                        <td id=\"T_5e8d6992_c025_11ea_b0ff_30d9d9eee573row75_col7\" class=\"data row75 col7\" >2472</td>\n",
       "                        <td id=\"T_5e8d6992_c025_11ea_b0ff_30d9d9eee573row75_col8\" class=\"data row75 col8\" >44.661</td>\n",
       "                        <td id=\"T_5e8d6992_c025_11ea_b0ff_30d9d9eee573row75_col9\" class=\"data row75 col9\" >nan</td>\n",
       "                        <td id=\"T_5e8d6992_c025_11ea_b0ff_30d9d9eee573row75_col10\" class=\"data row75 col10\" >nan</td>\n",
       "                        <td id=\"T_5e8d6992_c025_11ea_b0ff_30d9d9eee573row75_col11\" class=\"data row75 col11\" >1.81867</td>\n",
       "                        <td id=\"T_5e8d6992_c025_11ea_b0ff_30d9d9eee573row75_col12\" class=\"data row75 col12\" >686</td>\n",
       "                        <td id=\"T_5e8d6992_c025_11ea_b0ff_30d9d9eee573row75_col13\" class=\"data row75 col13\" >SEN</td>\n",
       "            </tr>\n",
       "            <tr>\n",
       "                        <th id=\"T_5e8d6992_c025_11ea_b0ff_30d9d9eee573level0_row76\" class=\"row_heading level0 row76\" >61</th>\n",
       "                        <td id=\"T_5e8d6992_c025_11ea_b0ff_30d9d9eee573row76_col0\" class=\"data row76 col0\" >Congo (Kinshasa)</td>\n",
       "                        <td id=\"T_5e8d6992_c025_11ea_b0ff_30d9d9eee573row76_col1\" class=\"data row76 col1\" >2020-07-07 07:33:57</td>\n",
       "                        <td id=\"T_5e8d6992_c025_11ea_b0ff_30d9d9eee573row76_col2\" class=\"data row76 col2\" >-4.0383</td>\n",
       "                        <td id=\"T_5e8d6992_c025_11ea_b0ff_30d9d9eee573row76_col3\" class=\"data row76 col3\" >21.7587</td>\n",
       "                        <td id=\"T_5e8d6992_c025_11ea_b0ff_30d9d9eee573row76_col4\" class=\"data row76 col4\" >7432</td>\n",
       "                        <td id=\"T_5e8d6992_c025_11ea_b0ff_30d9d9eee573row76_col5\" class=\"data row76 col5\" >182</td>\n",
       "                        <td id=\"T_5e8d6992_c025_11ea_b0ff_30d9d9eee573row76_col6\" class=\"data row76 col6\" >3226</td>\n",
       "                        <td id=\"T_5e8d6992_c025_11ea_b0ff_30d9d9eee573row76_col7\" class=\"data row76 col7\" >4024</td>\n",
       "                        <td id=\"T_5e8d6992_c025_11ea_b0ff_30d9d9eee573row76_col8\" class=\"data row76 col8\" >8.29822</td>\n",
       "                        <td id=\"T_5e8d6992_c025_11ea_b0ff_30d9d9eee573row76_col9\" class=\"data row76 col9\" >nan</td>\n",
       "                        <td id=\"T_5e8d6992_c025_11ea_b0ff_30d9d9eee573row76_col10\" class=\"data row76 col10\" >nan</td>\n",
       "                        <td id=\"T_5e8d6992_c025_11ea_b0ff_30d9d9eee573row76_col11\" class=\"data row76 col11\" >2.44887</td>\n",
       "                        <td id=\"T_5e8d6992_c025_11ea_b0ff_30d9d9eee573row76_col12\" class=\"data row76 col12\" >180</td>\n",
       "                        <td id=\"T_5e8d6992_c025_11ea_b0ff_30d9d9eee573row76_col13\" class=\"data row76 col13\" >COD</td>\n",
       "            </tr>\n",
       "            <tr>\n",
       "                        <th id=\"T_5e8d6992_c025_11ea_b0ff_30d9d9eee573level0_row77\" class=\"row_heading level0 row77\" >181</th>\n",
       "                        <td id=\"T_5e8d6992_c025_11ea_b0ff_30d9d9eee573row77_col0\" class=\"data row77 col0\" >Venezuela</td>\n",
       "                        <td id=\"T_5e8d6992_c025_11ea_b0ff_30d9d9eee573row77_col1\" class=\"data row77 col1\" >2020-07-07 07:33:57</td>\n",
       "                        <td id=\"T_5e8d6992_c025_11ea_b0ff_30d9d9eee573row77_col2\" class=\"data row77 col2\" >6.4238</td>\n",
       "                        <td id=\"T_5e8d6992_c025_11ea_b0ff_30d9d9eee573row77_col3\" class=\"data row77 col3\" >-66.5897</td>\n",
       "                        <td id=\"T_5e8d6992_c025_11ea_b0ff_30d9d9eee573row77_col4\" class=\"data row77 col4\" >7411</td>\n",
       "                        <td id=\"T_5e8d6992_c025_11ea_b0ff_30d9d9eee573row77_col5\" class=\"data row77 col5\" >68</td>\n",
       "                        <td id=\"T_5e8d6992_c025_11ea_b0ff_30d9d9eee573row77_col6\" class=\"data row77 col6\" >2100</td>\n",
       "                        <td id=\"T_5e8d6992_c025_11ea_b0ff_30d9d9eee573row77_col7\" class=\"data row77 col7\" >5243</td>\n",
       "                        <td id=\"T_5e8d6992_c025_11ea_b0ff_30d9d9eee573row77_col8\" class=\"data row77 col8\" >26.0621</td>\n",
       "                        <td id=\"T_5e8d6992_c025_11ea_b0ff_30d9d9eee573row77_col9\" class=\"data row77 col9\" >nan</td>\n",
       "                        <td id=\"T_5e8d6992_c025_11ea_b0ff_30d9d9eee573row77_col10\" class=\"data row77 col10\" >nan</td>\n",
       "                        <td id=\"T_5e8d6992_c025_11ea_b0ff_30d9d9eee573row77_col11\" class=\"data row77 col11\" >0.917555</td>\n",
       "                        <td id=\"T_5e8d6992_c025_11ea_b0ff_30d9d9eee573row77_col12\" class=\"data row77 col12\" >862</td>\n",
       "                        <td id=\"T_5e8d6992_c025_11ea_b0ff_30d9d9eee573row77_col13\" class=\"data row77 col13\" >VEN</td>\n",
       "            </tr>\n",
       "            <tr>\n",
       "                        <th id=\"T_5e8d6992_c025_11ea_b0ff_30d9d9eee573level0_row78\" class=\"row_heading level0 row78\" >5</th>\n",
       "                        <td id=\"T_5e8d6992_c025_11ea_b0ff_30d9d9eee573row78_col0\" class=\"data row78 col0\" >Finland</td>\n",
       "                        <td id=\"T_5e8d6992_c025_11ea_b0ff_30d9d9eee573row78_col1\" class=\"data row78 col1\" >2020-07-07 07:33:57</td>\n",
       "                        <td id=\"T_5e8d6992_c025_11ea_b0ff_30d9d9eee573row78_col2\" class=\"data row78 col2\" >61.9241</td>\n",
       "                        <td id=\"T_5e8d6992_c025_11ea_b0ff_30d9d9eee573row78_col3\" class=\"data row78 col3\" >25.7482</td>\n",
       "                        <td id=\"T_5e8d6992_c025_11ea_b0ff_30d9d9eee573row78_col4\" class=\"data row78 col4\" >7257</td>\n",
       "                        <td id=\"T_5e8d6992_c025_11ea_b0ff_30d9d9eee573row78_col5\" class=\"data row78 col5\" >329</td>\n",
       "                        <td id=\"T_5e8d6992_c025_11ea_b0ff_30d9d9eee573row78_col6\" class=\"data row78 col6\" >6700</td>\n",
       "                        <td id=\"T_5e8d6992_c025_11ea_b0ff_30d9d9eee573row78_col7\" class=\"data row78 col7\" >228</td>\n",
       "                        <td id=\"T_5e8d6992_c025_11ea_b0ff_30d9d9eee573row78_col8\" class=\"data row78 col8\" >130.976</td>\n",
       "                        <td id=\"T_5e8d6992_c025_11ea_b0ff_30d9d9eee573row78_col9\" class=\"data row78 col9\" >nan</td>\n",
       "                        <td id=\"T_5e8d6992_c025_11ea_b0ff_30d9d9eee573row78_col10\" class=\"data row78 col10\" >nan</td>\n",
       "                        <td id=\"T_5e8d6992_c025_11ea_b0ff_30d9d9eee573row78_col11\" class=\"data row78 col11\" >4.53355</td>\n",
       "                        <td id=\"T_5e8d6992_c025_11ea_b0ff_30d9d9eee573row78_col12\" class=\"data row78 col12\" >246</td>\n",
       "                        <td id=\"T_5e8d6992_c025_11ea_b0ff_30d9d9eee573row78_col13\" class=\"data row78 col13\" >FIN</td>\n",
       "            </tr>\n",
       "            <tr>\n",
       "                        <th id=\"T_5e8d6992_c025_11ea_b0ff_30d9d9eee573level0_row79\" class=\"row_heading level0 row79\" >137</th>\n",
       "                        <td id=\"T_5e8d6992_c025_11ea_b0ff_30d9d9eee573row79_col0\" class=\"data row79 col0\" >North Macedonia</td>\n",
       "                        <td id=\"T_5e8d6992_c025_11ea_b0ff_30d9d9eee573row79_col1\" class=\"data row79 col1\" >2020-07-07 07:33:57</td>\n",
       "                        <td id=\"T_5e8d6992_c025_11ea_b0ff_30d9d9eee573row79_col2\" class=\"data row79 col2\" >41.6086</td>\n",
       "                        <td id=\"T_5e8d6992_c025_11ea_b0ff_30d9d9eee573row79_col3\" class=\"data row79 col3\" >21.7453</td>\n",
       "                        <td id=\"T_5e8d6992_c025_11ea_b0ff_30d9d9eee573row79_col4\" class=\"data row79 col4\" >7124</td>\n",
       "                        <td id=\"T_5e8d6992_c025_11ea_b0ff_30d9d9eee573row79_col5\" class=\"data row79 col5\" >346</td>\n",
       "                        <td id=\"T_5e8d6992_c025_11ea_b0ff_30d9d9eee573row79_col6\" class=\"data row79 col6\" >3199</td>\n",
       "                        <td id=\"T_5e8d6992_c025_11ea_b0ff_30d9d9eee573row79_col7\" class=\"data row79 col7\" >3579</td>\n",
       "                        <td id=\"T_5e8d6992_c025_11ea_b0ff_30d9d9eee573row79_col8\" class=\"data row79 col8\" >341.944</td>\n",
       "                        <td id=\"T_5e8d6992_c025_11ea_b0ff_30d9d9eee573row79_col9\" class=\"data row79 col9\" >nan</td>\n",
       "                        <td id=\"T_5e8d6992_c025_11ea_b0ff_30d9d9eee573row79_col10\" class=\"data row79 col10\" >nan</td>\n",
       "                        <td id=\"T_5e8d6992_c025_11ea_b0ff_30d9d9eee573row79_col11\" class=\"data row79 col11\" >4.85682</td>\n",
       "                        <td id=\"T_5e8d6992_c025_11ea_b0ff_30d9d9eee573row79_col12\" class=\"data row79 col12\" >807</td>\n",
       "                        <td id=\"T_5e8d6992_c025_11ea_b0ff_30d9d9eee573row79_col13\" class=\"data row79 col13\" >MKD</td>\n",
       "            </tr>\n",
       "            <tr>\n",
       "                        <th id=\"T_5e8d6992_c025_11ea_b0ff_30d9d9eee573level0_row80\" class=\"row_heading level0 row80\" >91</th>\n",
       "                        <td id=\"T_5e8d6992_c025_11ea_b0ff_30d9d9eee573row80_col0\" class=\"data row80 col0\" >Haiti</td>\n",
       "                        <td id=\"T_5e8d6992_c025_11ea_b0ff_30d9d9eee573row80_col1\" class=\"data row80 col1\" >2020-07-07 07:33:57</td>\n",
       "                        <td id=\"T_5e8d6992_c025_11ea_b0ff_30d9d9eee573row80_col2\" class=\"data row80 col2\" >18.9712</td>\n",
       "                        <td id=\"T_5e8d6992_c025_11ea_b0ff_30d9d9eee573row80_col3\" class=\"data row80 col3\" >-72.2852</td>\n",
       "                        <td id=\"T_5e8d6992_c025_11ea_b0ff_30d9d9eee573row80_col4\" class=\"data row80 col4\" >6371</td>\n",
       "                        <td id=\"T_5e8d6992_c025_11ea_b0ff_30d9d9eee573row80_col5\" class=\"data row80 col5\" >113</td>\n",
       "                        <td id=\"T_5e8d6992_c025_11ea_b0ff_30d9d9eee573row80_col6\" class=\"data row80 col6\" >1824</td>\n",
       "                        <td id=\"T_5e8d6992_c025_11ea_b0ff_30d9d9eee573row80_col7\" class=\"data row80 col7\" >4434</td>\n",
       "                        <td id=\"T_5e8d6992_c025_11ea_b0ff_30d9d9eee573row80_col8\" class=\"data row80 col8\" >55.8736</td>\n",
       "                        <td id=\"T_5e8d6992_c025_11ea_b0ff_30d9d9eee573row80_col9\" class=\"data row80 col9\" >nan</td>\n",
       "                        <td id=\"T_5e8d6992_c025_11ea_b0ff_30d9d9eee573row80_col10\" class=\"data row80 col10\" >nan</td>\n",
       "                        <td id=\"T_5e8d6992_c025_11ea_b0ff_30d9d9eee573row80_col11\" class=\"data row80 col11\" >1.77366</td>\n",
       "                        <td id=\"T_5e8d6992_c025_11ea_b0ff_30d9d9eee573row80_col12\" class=\"data row80 col12\" >332</td>\n",
       "                        <td id=\"T_5e8d6992_c025_11ea_b0ff_30d9d9eee573row80_col13\" class=\"data row80 col13\" >HTI</td>\n",
       "            </tr>\n",
       "            <tr>\n",
       "                        <th id=\"T_5e8d6992_c025_11ea_b0ff_30d9d9eee573level0_row81\" class=\"row_heading level0 row81\" >169</th>\n",
       "                        <td id=\"T_5e8d6992_c025_11ea_b0ff_30d9d9eee573row81_col0\" class=\"data row81 col0\" >Tajikistan</td>\n",
       "                        <td id=\"T_5e8d6992_c025_11ea_b0ff_30d9d9eee573row81_col1\" class=\"data row81 col1\" >2020-07-07 07:33:57</td>\n",
       "                        <td id=\"T_5e8d6992_c025_11ea_b0ff_30d9d9eee573row81_col2\" class=\"data row81 col2\" >38.861</td>\n",
       "                        <td id=\"T_5e8d6992_c025_11ea_b0ff_30d9d9eee573row81_col3\" class=\"data row81 col3\" >71.2761</td>\n",
       "                        <td id=\"T_5e8d6992_c025_11ea_b0ff_30d9d9eee573row81_col4\" class=\"data row81 col4\" >6262</td>\n",
       "                        <td id=\"T_5e8d6992_c025_11ea_b0ff_30d9d9eee573row81_col5\" class=\"data row81 col5\" >53</td>\n",
       "                        <td id=\"T_5e8d6992_c025_11ea_b0ff_30d9d9eee573row81_col6\" class=\"data row81 col6\" >4914</td>\n",
       "                        <td id=\"T_5e8d6992_c025_11ea_b0ff_30d9d9eee573row81_col7\" class=\"data row81 col7\" >1295</td>\n",
       "                        <td id=\"T_5e8d6992_c025_11ea_b0ff_30d9d9eee573row81_col8\" class=\"data row81 col8\" >65.6556</td>\n",
       "                        <td id=\"T_5e8d6992_c025_11ea_b0ff_30d9d9eee573row81_col9\" class=\"data row81 col9\" >nan</td>\n",
       "                        <td id=\"T_5e8d6992_c025_11ea_b0ff_30d9d9eee573row81_col10\" class=\"data row81 col10\" >nan</td>\n",
       "                        <td id=\"T_5e8d6992_c025_11ea_b0ff_30d9d9eee573row81_col11\" class=\"data row81 col11\" >0.846375</td>\n",
       "                        <td id=\"T_5e8d6992_c025_11ea_b0ff_30d9d9eee573row81_col12\" class=\"data row81 col12\" >762</td>\n",
       "                        <td id=\"T_5e8d6992_c025_11ea_b0ff_30d9d9eee573row81_col13\" class=\"data row81 col13\" >TJK</td>\n",
       "            </tr>\n",
       "            <tr>\n",
       "                        <th id=\"T_5e8d6992_c025_11ea_b0ff_30d9d9eee573level0_row82\" class=\"row_heading level0 row82\" >50</th>\n",
       "                        <td id=\"T_5e8d6992_c025_11ea_b0ff_30d9d9eee573row82_col0\" class=\"data row82 col0\" >Bulgaria</td>\n",
       "                        <td id=\"T_5e8d6992_c025_11ea_b0ff_30d9d9eee573row82_col1\" class=\"data row82 col1\" >2020-07-07 07:33:57</td>\n",
       "                        <td id=\"T_5e8d6992_c025_11ea_b0ff_30d9d9eee573row82_col2\" class=\"data row82 col2\" >42.7339</td>\n",
       "                        <td id=\"T_5e8d6992_c025_11ea_b0ff_30d9d9eee573row82_col3\" class=\"data row82 col3\" >25.4858</td>\n",
       "                        <td id=\"T_5e8d6992_c025_11ea_b0ff_30d9d9eee573row82_col4\" class=\"data row82 col4\" >5914</td>\n",
       "                        <td id=\"T_5e8d6992_c025_11ea_b0ff_30d9d9eee573row82_col5\" class=\"data row82 col5\" >250</td>\n",
       "                        <td id=\"T_5e8d6992_c025_11ea_b0ff_30d9d9eee573row82_col6\" class=\"data row82 col6\" >3000</td>\n",
       "                        <td id=\"T_5e8d6992_c025_11ea_b0ff_30d9d9eee573row82_col7\" class=\"data row82 col7\" >2664</td>\n",
       "                        <td id=\"T_5e8d6992_c025_11ea_b0ff_30d9d9eee573row82_col8\" class=\"data row82 col8\" >85.1126</td>\n",
       "                        <td id=\"T_5e8d6992_c025_11ea_b0ff_30d9d9eee573row82_col9\" class=\"data row82 col9\" >nan</td>\n",
       "                        <td id=\"T_5e8d6992_c025_11ea_b0ff_30d9d9eee573row82_col10\" class=\"data row82 col10\" >nan</td>\n",
       "                        <td id=\"T_5e8d6992_c025_11ea_b0ff_30d9d9eee573row82_col11\" class=\"data row82 col11\" >4.22726</td>\n",
       "                        <td id=\"T_5e8d6992_c025_11ea_b0ff_30d9d9eee573row82_col12\" class=\"data row82 col12\" >100</td>\n",
       "                        <td id=\"T_5e8d6992_c025_11ea_b0ff_30d9d9eee573row82_col13\" class=\"data row82 col13\" >BGR</td>\n",
       "            </tr>\n",
       "            <tr>\n",
       "                        <th id=\"T_5e8d6992_c025_11ea_b0ff_30d9d9eee573level0_row83\" class=\"row_heading level0 row83\" >79</th>\n",
       "                        <td id=\"T_5e8d6992_c025_11ea_b0ff_30d9d9eee573row83_col0\" class=\"data row83 col0\" >Ethiopia</td>\n",
       "                        <td id=\"T_5e8d6992_c025_11ea_b0ff_30d9d9eee573row83_col1\" class=\"data row83 col1\" >2020-07-07 07:33:57</td>\n",
       "                        <td id=\"T_5e8d6992_c025_11ea_b0ff_30d9d9eee573row83_col2\" class=\"data row83 col2\" >9.145</td>\n",
       "                        <td id=\"T_5e8d6992_c025_11ea_b0ff_30d9d9eee573row83_col3\" class=\"data row83 col3\" >40.4897</td>\n",
       "                        <td id=\"T_5e8d6992_c025_11ea_b0ff_30d9d9eee573row83_col4\" class=\"data row83 col4\" >5846</td>\n",
       "                        <td id=\"T_5e8d6992_c025_11ea_b0ff_30d9d9eee573row83_col5\" class=\"data row83 col5\" >103</td>\n",
       "                        <td id=\"T_5e8d6992_c025_11ea_b0ff_30d9d9eee573row83_col6\" class=\"data row83 col6\" >2430</td>\n",
       "                        <td id=\"T_5e8d6992_c025_11ea_b0ff_30d9d9eee573row83_col7\" class=\"data row83 col7\" >3313</td>\n",
       "                        <td id=\"T_5e8d6992_c025_11ea_b0ff_30d9d9eee573row83_col8\" class=\"data row83 col8\" >5.08509</td>\n",
       "                        <td id=\"T_5e8d6992_c025_11ea_b0ff_30d9d9eee573row83_col9\" class=\"data row83 col9\" >nan</td>\n",
       "                        <td id=\"T_5e8d6992_c025_11ea_b0ff_30d9d9eee573row83_col10\" class=\"data row83 col10\" >nan</td>\n",
       "                        <td id=\"T_5e8d6992_c025_11ea_b0ff_30d9d9eee573row83_col11\" class=\"data row83 col11\" >1.76189</td>\n",
       "                        <td id=\"T_5e8d6992_c025_11ea_b0ff_30d9d9eee573row83_col12\" class=\"data row83 col12\" >231</td>\n",
       "                        <td id=\"T_5e8d6992_c025_11ea_b0ff_30d9d9eee573row83_col13\" class=\"data row83 col13\" >ETH</td>\n",
       "            </tr>\n",
       "            <tr>\n",
       "                        <th id=\"T_5e8d6992_c025_11ea_b0ff_30d9d9eee573level0_row84\" class=\"row_heading level0 row84\" >81</th>\n",
       "                        <td id=\"T_5e8d6992_c025_11ea_b0ff_30d9d9eee573row84_col0\" class=\"data row84 col0\" >Gabon</td>\n",
       "                        <td id=\"T_5e8d6992_c025_11ea_b0ff_30d9d9eee573row84_col1\" class=\"data row84 col1\" >2020-07-07 07:33:57</td>\n",
       "                        <td id=\"T_5e8d6992_c025_11ea_b0ff_30d9d9eee573row84_col2\" class=\"data row84 col2\" >-0.8037</td>\n",
       "                        <td id=\"T_5e8d6992_c025_11ea_b0ff_30d9d9eee573row84_col3\" class=\"data row84 col3\" >11.6094</td>\n",
       "                        <td id=\"T_5e8d6992_c025_11ea_b0ff_30d9d9eee573row84_col4\" class=\"data row84 col4\" >5743</td>\n",
       "                        <td id=\"T_5e8d6992_c025_11ea_b0ff_30d9d9eee573row84_col5\" class=\"data row84 col5\" >46</td>\n",
       "                        <td id=\"T_5e8d6992_c025_11ea_b0ff_30d9d9eee573row84_col6\" class=\"data row84 col6\" >2574</td>\n",
       "                        <td id=\"T_5e8d6992_c025_11ea_b0ff_30d9d9eee573row84_col7\" class=\"data row84 col7\" >3123</td>\n",
       "                        <td id=\"T_5e8d6992_c025_11ea_b0ff_30d9d9eee573row84_col8\" class=\"data row84 col8\" >258.028</td>\n",
       "                        <td id=\"T_5e8d6992_c025_11ea_b0ff_30d9d9eee573row84_col9\" class=\"data row84 col9\" >nan</td>\n",
       "                        <td id=\"T_5e8d6992_c025_11ea_b0ff_30d9d9eee573row84_col10\" class=\"data row84 col10\" >nan</td>\n",
       "                        <td id=\"T_5e8d6992_c025_11ea_b0ff_30d9d9eee573row84_col11\" class=\"data row84 col11\" >0.800975</td>\n",
       "                        <td id=\"T_5e8d6992_c025_11ea_b0ff_30d9d9eee573row84_col12\" class=\"data row84 col12\" >266</td>\n",
       "                        <td id=\"T_5e8d6992_c025_11ea_b0ff_30d9d9eee573row84_col13\" class=\"data row84 col13\" >GAB</td>\n",
       "            </tr>\n",
       "            <tr>\n",
       "                        <th id=\"T_5e8d6992_c025_11ea_b0ff_30d9d9eee573level0_row85\" class=\"row_heading level0 row85\" >88</th>\n",
       "                        <td id=\"T_5e8d6992_c025_11ea_b0ff_30d9d9eee573row85_col0\" class=\"data row85 col0\" >Guinea</td>\n",
       "                        <td id=\"T_5e8d6992_c025_11ea_b0ff_30d9d9eee573row85_col1\" class=\"data row85 col1\" >2020-07-07 07:33:57</td>\n",
       "                        <td id=\"T_5e8d6992_c025_11ea_b0ff_30d9d9eee573row85_col2\" class=\"data row85 col2\" >9.9456</td>\n",
       "                        <td id=\"T_5e8d6992_c025_11ea_b0ff_30d9d9eee573row85_col3\" class=\"data row85 col3\" >-9.6966</td>\n",
       "                        <td id=\"T_5e8d6992_c025_11ea_b0ff_30d9d9eee573row85_col4\" class=\"data row85 col4\" >5610</td>\n",
       "                        <td id=\"T_5e8d6992_c025_11ea_b0ff_30d9d9eee573row85_col5\" class=\"data row85 col5\" >34</td>\n",
       "                        <td id=\"T_5e8d6992_c025_11ea_b0ff_30d9d9eee573row85_col6\" class=\"data row85 col6\" >4522</td>\n",
       "                        <td id=\"T_5e8d6992_c025_11ea_b0ff_30d9d9eee573row85_col7\" class=\"data row85 col7\" >1054</td>\n",
       "                        <td id=\"T_5e8d6992_c025_11ea_b0ff_30d9d9eee573row85_col8\" class=\"data row85 col8\" >42.7175</td>\n",
       "                        <td id=\"T_5e8d6992_c025_11ea_b0ff_30d9d9eee573row85_col9\" class=\"data row85 col9\" >nan</td>\n",
       "                        <td id=\"T_5e8d6992_c025_11ea_b0ff_30d9d9eee573row85_col10\" class=\"data row85 col10\" >nan</td>\n",
       "                        <td id=\"T_5e8d6992_c025_11ea_b0ff_30d9d9eee573row85_col11\" class=\"data row85 col11\" >0.606061</td>\n",
       "                        <td id=\"T_5e8d6992_c025_11ea_b0ff_30d9d9eee573row85_col12\" class=\"data row85 col12\" >324</td>\n",
       "                        <td id=\"T_5e8d6992_c025_11ea_b0ff_30d9d9eee573row85_col13\" class=\"data row85 col13\" >GIN</td>\n",
       "            </tr>\n",
       "            <tr>\n",
       "                        <th id=\"T_5e8d6992_c025_11ea_b0ff_30d9d9eee573level0_row86\" class=\"row_heading level0 row86\" >47</th>\n",
       "                        <td id=\"T_5e8d6992_c025_11ea_b0ff_30d9d9eee573row86_col0\" class=\"data row86 col0\" >Bosnia and Herzegovina</td>\n",
       "                        <td id=\"T_5e8d6992_c025_11ea_b0ff_30d9d9eee573row86_col1\" class=\"data row86 col1\" >2020-07-07 07:33:57</td>\n",
       "                        <td id=\"T_5e8d6992_c025_11ea_b0ff_30d9d9eee573row86_col2\" class=\"data row86 col2\" >43.9159</td>\n",
       "                        <td id=\"T_5e8d6992_c025_11ea_b0ff_30d9d9eee573row86_col3\" class=\"data row86 col3\" >17.6791</td>\n",
       "                        <td id=\"T_5e8d6992_c025_11ea_b0ff_30d9d9eee573row86_col4\" class=\"data row86 col4\" >5458</td>\n",
       "                        <td id=\"T_5e8d6992_c025_11ea_b0ff_30d9d9eee573row86_col5\" class=\"data row86 col5\" >199</td>\n",
       "                        <td id=\"T_5e8d6992_c025_11ea_b0ff_30d9d9eee573row86_col6\" class=\"data row86 col6\" >2598</td>\n",
       "                        <td id=\"T_5e8d6992_c025_11ea_b0ff_30d9d9eee573row86_col7\" class=\"data row86 col7\" >2661</td>\n",
       "                        <td id=\"T_5e8d6992_c025_11ea_b0ff_30d9d9eee573row86_col8\" class=\"data row86 col8\" >166.361</td>\n",
       "                        <td id=\"T_5e8d6992_c025_11ea_b0ff_30d9d9eee573row86_col9\" class=\"data row86 col9\" >nan</td>\n",
       "                        <td id=\"T_5e8d6992_c025_11ea_b0ff_30d9d9eee573row86_col10\" class=\"data row86 col10\" >nan</td>\n",
       "                        <td id=\"T_5e8d6992_c025_11ea_b0ff_30d9d9eee573row86_col11\" class=\"data row86 col11\" >3.64602</td>\n",
       "                        <td id=\"T_5e8d6992_c025_11ea_b0ff_30d9d9eee573row86_col12\" class=\"data row86 col12\" >70</td>\n",
       "                        <td id=\"T_5e8d6992_c025_11ea_b0ff_30d9d9eee573row86_col13\" class=\"data row86 col13\" >BIH</td>\n",
       "            </tr>\n",
       "            <tr>\n",
       "                        <th id=\"T_5e8d6992_c025_11ea_b0ff_30d9d9eee573level0_row87\" class=\"row_heading level0 row87\" >62</th>\n",
       "                        <td id=\"T_5e8d6992_c025_11ea_b0ff_30d9d9eee573row87_col0\" class=\"data row87 col0\" >Costa Rica</td>\n",
       "                        <td id=\"T_5e8d6992_c025_11ea_b0ff_30d9d9eee573row87_col1\" class=\"data row87 col1\" >2020-07-07 07:33:57</td>\n",
       "                        <td id=\"T_5e8d6992_c025_11ea_b0ff_30d9d9eee573row87_col2\" class=\"data row87 col2\" >9.7489</td>\n",
       "                        <td id=\"T_5e8d6992_c025_11ea_b0ff_30d9d9eee573row87_col3\" class=\"data row87 col3\" >-83.7534</td>\n",
       "                        <td id=\"T_5e8d6992_c025_11ea_b0ff_30d9d9eee573row87_col4\" class=\"data row87 col4\" >5241</td>\n",
       "                        <td id=\"T_5e8d6992_c025_11ea_b0ff_30d9d9eee573row87_col5\" class=\"data row87 col5\" >23</td>\n",
       "                        <td id=\"T_5e8d6992_c025_11ea_b0ff_30d9d9eee573row87_col6\" class=\"data row87 col6\" >1776</td>\n",
       "                        <td id=\"T_5e8d6992_c025_11ea_b0ff_30d9d9eee573row87_col7\" class=\"data row87 col7\" >3442</td>\n",
       "                        <td id=\"T_5e8d6992_c025_11ea_b0ff_30d9d9eee573row87_col8\" class=\"data row87 col8\" >102.883</td>\n",
       "                        <td id=\"T_5e8d6992_c025_11ea_b0ff_30d9d9eee573row87_col9\" class=\"data row87 col9\" >nan</td>\n",
       "                        <td id=\"T_5e8d6992_c025_11ea_b0ff_30d9d9eee573row87_col10\" class=\"data row87 col10\" >nan</td>\n",
       "                        <td id=\"T_5e8d6992_c025_11ea_b0ff_30d9d9eee573row87_col11\" class=\"data row87 col11\" >0.438848</td>\n",
       "                        <td id=\"T_5e8d6992_c025_11ea_b0ff_30d9d9eee573row87_col12\" class=\"data row87 col12\" >188</td>\n",
       "                        <td id=\"T_5e8d6992_c025_11ea_b0ff_30d9d9eee573row87_col13\" class=\"data row87 col13\" >CRI</td>\n",
       "            </tr>\n",
       "            <tr>\n",
       "                        <th id=\"T_5e8d6992_c025_11ea_b0ff_30d9d9eee573level0_row88\" class=\"row_heading level0 row88\" >123</th>\n",
       "                        <td id=\"T_5e8d6992_c025_11ea_b0ff_30d9d9eee573row88_col0\" class=\"data row88 col0\" >Mauritania</td>\n",
       "                        <td id=\"T_5e8d6992_c025_11ea_b0ff_30d9d9eee573row88_col1\" class=\"data row88 col1\" >2020-07-07 07:33:57</td>\n",
       "                        <td id=\"T_5e8d6992_c025_11ea_b0ff_30d9d9eee573row88_col2\" class=\"data row88 col2\" >21.0079</td>\n",
       "                        <td id=\"T_5e8d6992_c025_11ea_b0ff_30d9d9eee573row88_col3\" class=\"data row88 col3\" >-10.9408</td>\n",
       "                        <td id=\"T_5e8d6992_c025_11ea_b0ff_30d9d9eee573row88_col4\" class=\"data row88 col4\" >4948</td>\n",
       "                        <td id=\"T_5e8d6992_c025_11ea_b0ff_30d9d9eee573row88_col5\" class=\"data row88 col5\" >133</td>\n",
       "                        <td id=\"T_5e8d6992_c025_11ea_b0ff_30d9d9eee573row88_col6\" class=\"data row88 col6\" >1896</td>\n",
       "                        <td id=\"T_5e8d6992_c025_11ea_b0ff_30d9d9eee573row88_col7\" class=\"data row88 col7\" >2919</td>\n",
       "                        <td id=\"T_5e8d6992_c025_11ea_b0ff_30d9d9eee573row88_col8\" class=\"data row88 col8\" >106.416</td>\n",
       "                        <td id=\"T_5e8d6992_c025_11ea_b0ff_30d9d9eee573row88_col9\" class=\"data row88 col9\" >nan</td>\n",
       "                        <td id=\"T_5e8d6992_c025_11ea_b0ff_30d9d9eee573row88_col10\" class=\"data row88 col10\" >nan</td>\n",
       "                        <td id=\"T_5e8d6992_c025_11ea_b0ff_30d9d9eee573row88_col11\" class=\"data row88 col11\" >2.68795</td>\n",
       "                        <td id=\"T_5e8d6992_c025_11ea_b0ff_30d9d9eee573row88_col12\" class=\"data row88 col12\" >478</td>\n",
       "                        <td id=\"T_5e8d6992_c025_11ea_b0ff_30d9d9eee573row88_col13\" class=\"data row88 col13\" >MRT</td>\n",
       "            </tr>\n",
       "            <tr>\n",
       "                        <th id=\"T_5e8d6992_c025_11ea_b0ff_30d9d9eee573level0_row89\" class=\"row_heading level0 row89\" >69</th>\n",
       "                        <td id=\"T_5e8d6992_c025_11ea_b0ff_30d9d9eee573row89_col0\" class=\"data row89 col0\" >Djibouti</td>\n",
       "                        <td id=\"T_5e8d6992_c025_11ea_b0ff_30d9d9eee573row89_col1\" class=\"data row89 col1\" >2020-07-07 07:33:57</td>\n",
       "                        <td id=\"T_5e8d6992_c025_11ea_b0ff_30d9d9eee573row89_col2\" class=\"data row89 col2\" >11.8251</td>\n",
       "                        <td id=\"T_5e8d6992_c025_11ea_b0ff_30d9d9eee573row89_col3\" class=\"data row89 col3\" >42.5903</td>\n",
       "                        <td id=\"T_5e8d6992_c025_11ea_b0ff_30d9d9eee573row89_col4\" class=\"data row89 col4\" >4822</td>\n",
       "                        <td id=\"T_5e8d6992_c025_11ea_b0ff_30d9d9eee573row89_col5\" class=\"data row89 col5\" >55</td>\n",
       "                        <td id=\"T_5e8d6992_c025_11ea_b0ff_30d9d9eee573row89_col6\" class=\"data row89 col6\" >4610</td>\n",
       "                        <td id=\"T_5e8d6992_c025_11ea_b0ff_30d9d9eee573row89_col7\" class=\"data row89 col7\" >157</td>\n",
       "                        <td id=\"T_5e8d6992_c025_11ea_b0ff_30d9d9eee573row89_col8\" class=\"data row89 col8\" >488.056</td>\n",
       "                        <td id=\"T_5e8d6992_c025_11ea_b0ff_30d9d9eee573row89_col9\" class=\"data row89 col9\" >nan</td>\n",
       "                        <td id=\"T_5e8d6992_c025_11ea_b0ff_30d9d9eee573row89_col10\" class=\"data row89 col10\" >nan</td>\n",
       "                        <td id=\"T_5e8d6992_c025_11ea_b0ff_30d9d9eee573row89_col11\" class=\"data row89 col11\" >1.14061</td>\n",
       "                        <td id=\"T_5e8d6992_c025_11ea_b0ff_30d9d9eee573row89_col12\" class=\"data row89 col12\" >262</td>\n",
       "                        <td id=\"T_5e8d6992_c025_11ea_b0ff_30d9d9eee573row89_col13\" class=\"data row89 col13\" >DJI</td>\n",
       "            </tr>\n",
       "            <tr>\n",
       "                        <th id=\"T_5e8d6992_c025_11ea_b0ff_30d9d9eee573level0_row90\" class=\"row_heading level0 row90\" >115</th>\n",
       "                        <td id=\"T_5e8d6992_c025_11ea_b0ff_30d9d9eee573row90_col0\" class=\"data row90 col0\" >Luxembourg</td>\n",
       "                        <td id=\"T_5e8d6992_c025_11ea_b0ff_30d9d9eee573row90_col1\" class=\"data row90 col1\" >2020-07-07 07:33:57</td>\n",
       "                        <td id=\"T_5e8d6992_c025_11ea_b0ff_30d9d9eee573row90_col2\" class=\"data row90 col2\" >49.8153</td>\n",
       "                        <td id=\"T_5e8d6992_c025_11ea_b0ff_30d9d9eee573row90_col3\" class=\"data row90 col3\" >6.1296</td>\n",
       "                        <td id=\"T_5e8d6992_c025_11ea_b0ff_30d9d9eee573row90_col4\" class=\"data row90 col4\" >4542</td>\n",
       "                        <td id=\"T_5e8d6992_c025_11ea_b0ff_30d9d9eee573row90_col5\" class=\"data row90 col5\" >110</td>\n",
       "                        <td id=\"T_5e8d6992_c025_11ea_b0ff_30d9d9eee573row90_col6\" class=\"data row90 col6\" >4016</td>\n",
       "                        <td id=\"T_5e8d6992_c025_11ea_b0ff_30d9d9eee573row90_col7\" class=\"data row90 col7\" >416</td>\n",
       "                        <td id=\"T_5e8d6992_c025_11ea_b0ff_30d9d9eee573row90_col8\" class=\"data row90 col8\" >725.587</td>\n",
       "                        <td id=\"T_5e8d6992_c025_11ea_b0ff_30d9d9eee573row90_col9\" class=\"data row90 col9\" >nan</td>\n",
       "                        <td id=\"T_5e8d6992_c025_11ea_b0ff_30d9d9eee573row90_col10\" class=\"data row90 col10\" >nan</td>\n",
       "                        <td id=\"T_5e8d6992_c025_11ea_b0ff_30d9d9eee573row90_col11\" class=\"data row90 col11\" >2.42184</td>\n",
       "                        <td id=\"T_5e8d6992_c025_11ea_b0ff_30d9d9eee573row90_col12\" class=\"data row90 col12\" >442</td>\n",
       "                        <td id=\"T_5e8d6992_c025_11ea_b0ff_30d9d9eee573row90_col13\" class=\"data row90 col13\" >LUX</td>\n",
       "            </tr>\n",
       "            <tr>\n",
       "                        <th id=\"T_5e8d6992_c025_11ea_b0ff_30d9d9eee573level0_row91\" class=\"row_heading level0 row91\" >183</th>\n",
       "                        <td id=\"T_5e8d6992_c025_11ea_b0ff_30d9d9eee573row91_col0\" class=\"data row91 col0\" >West Bank and Gaza</td>\n",
       "                        <td id=\"T_5e8d6992_c025_11ea_b0ff_30d9d9eee573row91_col1\" class=\"data row91 col1\" >2020-07-07 07:33:57</td>\n",
       "                        <td id=\"T_5e8d6992_c025_11ea_b0ff_30d9d9eee573row91_col2\" class=\"data row91 col2\" >31.9522</td>\n",
       "                        <td id=\"T_5e8d6992_c025_11ea_b0ff_30d9d9eee573row91_col3\" class=\"data row91 col3\" >35.2332</td>\n",
       "                        <td id=\"T_5e8d6992_c025_11ea_b0ff_30d9d9eee573row91_col4\" class=\"data row91 col4\" >4341</td>\n",
       "                        <td id=\"T_5e8d6992_c025_11ea_b0ff_30d9d9eee573row91_col5\" class=\"data row91 col5\" >17</td>\n",
       "                        <td id=\"T_5e8d6992_c025_11ea_b0ff_30d9d9eee573row91_col6\" class=\"data row91 col6\" >491</td>\n",
       "                        <td id=\"T_5e8d6992_c025_11ea_b0ff_30d9d9eee573row91_col7\" class=\"data row91 col7\" >3833</td>\n",
       "                        <td id=\"T_5e8d6992_c025_11ea_b0ff_30d9d9eee573row91_col8\" class=\"data row91 col8\" >85.094</td>\n",
       "                        <td id=\"T_5e8d6992_c025_11ea_b0ff_30d9d9eee573row91_col9\" class=\"data row91 col9\" >nan</td>\n",
       "                        <td id=\"T_5e8d6992_c025_11ea_b0ff_30d9d9eee573row91_col10\" class=\"data row91 col10\" >nan</td>\n",
       "                        <td id=\"T_5e8d6992_c025_11ea_b0ff_30d9d9eee573row91_col11\" class=\"data row91 col11\" >0.391615</td>\n",
       "                        <td id=\"T_5e8d6992_c025_11ea_b0ff_30d9d9eee573row91_col12\" class=\"data row91 col12\" >275</td>\n",
       "                        <td id=\"T_5e8d6992_c025_11ea_b0ff_30d9d9eee573row91_col13\" class=\"data row91 col13\" >PSE</td>\n",
       "            </tr>\n",
       "            <tr>\n",
       "                        <th id=\"T_5e8d6992_c025_11ea_b0ff_30d9d9eee573level0_row92\" class=\"row_heading level0 row92\" >94</th>\n",
       "                        <td id=\"T_5e8d6992_c025_11ea_b0ff_30d9d9eee573row92_col0\" class=\"data row92 col0\" >Hungary</td>\n",
       "                        <td id=\"T_5e8d6992_c025_11ea_b0ff_30d9d9eee573row92_col1\" class=\"data row92 col1\" >2020-07-07 07:33:57</td>\n",
       "                        <td id=\"T_5e8d6992_c025_11ea_b0ff_30d9d9eee573row92_col2\" class=\"data row92 col2\" >47.1625</td>\n",
       "                        <td id=\"T_5e8d6992_c025_11ea_b0ff_30d9d9eee573row92_col3\" class=\"data row92 col3\" >19.5033</td>\n",
       "                        <td id=\"T_5e8d6992_c025_11ea_b0ff_30d9d9eee573row92_col4\" class=\"data row92 col4\" >4205</td>\n",
       "                        <td id=\"T_5e8d6992_c025_11ea_b0ff_30d9d9eee573row92_col5\" class=\"data row92 col5\" >589</td>\n",
       "                        <td id=\"T_5e8d6992_c025_11ea_b0ff_30d9d9eee573row92_col6\" class=\"data row92 col6\" >2874</td>\n",
       "                        <td id=\"T_5e8d6992_c025_11ea_b0ff_30d9d9eee573row92_col7\" class=\"data row92 col7\" >742</td>\n",
       "                        <td id=\"T_5e8d6992_c025_11ea_b0ff_30d9d9eee573row92_col8\" class=\"data row92 col8\" >43.5284</td>\n",
       "                        <td id=\"T_5e8d6992_c025_11ea_b0ff_30d9d9eee573row92_col9\" class=\"data row92 col9\" >nan</td>\n",
       "                        <td id=\"T_5e8d6992_c025_11ea_b0ff_30d9d9eee573row92_col10\" class=\"data row92 col10\" >nan</td>\n",
       "                        <td id=\"T_5e8d6992_c025_11ea_b0ff_30d9d9eee573row92_col11\" class=\"data row92 col11\" >14.0071</td>\n",
       "                        <td id=\"T_5e8d6992_c025_11ea_b0ff_30d9d9eee573row92_col12\" class=\"data row92 col12\" >348</td>\n",
       "                        <td id=\"T_5e8d6992_c025_11ea_b0ff_30d9d9eee573row92_col13\" class=\"data row92 col13\" >HUN</td>\n",
       "            </tr>\n",
       "            <tr>\n",
       "                        <th id=\"T_5e8d6992_c025_11ea_b0ff_30d9d9eee573level0_row93\" class=\"row_heading level0 row93\" >57</th>\n",
       "                        <td id=\"T_5e8d6992_c025_11ea_b0ff_30d9d9eee573row93_col0\" class=\"data row93 col0\" >Central African Republic</td>\n",
       "                        <td id=\"T_5e8d6992_c025_11ea_b0ff_30d9d9eee573row93_col1\" class=\"data row93 col1\" >2020-07-07 07:33:57</td>\n",
       "                        <td id=\"T_5e8d6992_c025_11ea_b0ff_30d9d9eee573row93_col2\" class=\"data row93 col2\" >6.6111</td>\n",
       "                        <td id=\"T_5e8d6992_c025_11ea_b0ff_30d9d9eee573row93_col3\" class=\"data row93 col3\" >20.9394</td>\n",
       "                        <td id=\"T_5e8d6992_c025_11ea_b0ff_30d9d9eee573row93_col4\" class=\"data row93 col4\" >4033</td>\n",
       "                        <td id=\"T_5e8d6992_c025_11ea_b0ff_30d9d9eee573row93_col5\" class=\"data row93 col5\" >52</td>\n",
       "                        <td id=\"T_5e8d6992_c025_11ea_b0ff_30d9d9eee573row93_col6\" class=\"data row93 col6\" >970</td>\n",
       "                        <td id=\"T_5e8d6992_c025_11ea_b0ff_30d9d9eee573row93_col7\" class=\"data row93 col7\" >3011</td>\n",
       "                        <td id=\"T_5e8d6992_c025_11ea_b0ff_30d9d9eee573row93_col8\" class=\"data row93 col8\" >83.503</td>\n",
       "                        <td id=\"T_5e8d6992_c025_11ea_b0ff_30d9d9eee573row93_col9\" class=\"data row93 col9\" >nan</td>\n",
       "                        <td id=\"T_5e8d6992_c025_11ea_b0ff_30d9d9eee573row93_col10\" class=\"data row93 col10\" >nan</td>\n",
       "                        <td id=\"T_5e8d6992_c025_11ea_b0ff_30d9d9eee573row93_col11\" class=\"data row93 col11\" >1.28936</td>\n",
       "                        <td id=\"T_5e8d6992_c025_11ea_b0ff_30d9d9eee573row93_col12\" class=\"data row93 col12\" >140</td>\n",
       "                        <td id=\"T_5e8d6992_c025_11ea_b0ff_30d9d9eee573row93_col13\" class=\"data row93 col13\" >CAF</td>\n",
       "            </tr>\n",
       "            <tr>\n",
       "                        <th id=\"T_5e8d6992_c025_11ea_b0ff_30d9d9eee573level0_row94\" class=\"row_heading level0 row94\" >85</th>\n",
       "                        <td id=\"T_5e8d6992_c025_11ea_b0ff_30d9d9eee573row94_col0\" class=\"data row94 col0\" >Greece</td>\n",
       "                        <td id=\"T_5e8d6992_c025_11ea_b0ff_30d9d9eee573row94_col1\" class=\"data row94 col1\" >2020-07-07 07:33:57</td>\n",
       "                        <td id=\"T_5e8d6992_c025_11ea_b0ff_30d9d9eee573row94_col2\" class=\"data row94 col2\" >39.0742</td>\n",
       "                        <td id=\"T_5e8d6992_c025_11ea_b0ff_30d9d9eee573row94_col3\" class=\"data row94 col3\" >21.8243</td>\n",
       "                        <td id=\"T_5e8d6992_c025_11ea_b0ff_30d9d9eee573row94_col4\" class=\"data row94 col4\" >3562</td>\n",
       "                        <td id=\"T_5e8d6992_c025_11ea_b0ff_30d9d9eee573row94_col5\" class=\"data row94 col5\" >192</td>\n",
       "                        <td id=\"T_5e8d6992_c025_11ea_b0ff_30d9d9eee573row94_col6\" class=\"data row94 col6\" >1374</td>\n",
       "                        <td id=\"T_5e8d6992_c025_11ea_b0ff_30d9d9eee573row94_col7\" class=\"data row94 col7\" >1996</td>\n",
       "                        <td id=\"T_5e8d6992_c025_11ea_b0ff_30d9d9eee573row94_col8\" class=\"data row94 col8\" >34.1742</td>\n",
       "                        <td id=\"T_5e8d6992_c025_11ea_b0ff_30d9d9eee573row94_col9\" class=\"data row94 col9\" >nan</td>\n",
       "                        <td id=\"T_5e8d6992_c025_11ea_b0ff_30d9d9eee573row94_col10\" class=\"data row94 col10\" >nan</td>\n",
       "                        <td id=\"T_5e8d6992_c025_11ea_b0ff_30d9d9eee573row94_col11\" class=\"data row94 col11\" >5.39023</td>\n",
       "                        <td id=\"T_5e8d6992_c025_11ea_b0ff_30d9d9eee573row94_col12\" class=\"data row94 col12\" >300</td>\n",
       "                        <td id=\"T_5e8d6992_c025_11ea_b0ff_30d9d9eee573row94_col13\" class=\"data row94 col13\" >GRC</td>\n",
       "            </tr>\n",
       "            <tr>\n",
       "                        <th id=\"T_5e8d6992_c025_11ea_b0ff_30d9d9eee573level0_row95\" class=\"row_heading level0 row95\" >104</th>\n",
       "                        <td id=\"T_5e8d6992_c025_11ea_b0ff_30d9d9eee573row95_col0\" class=\"data row95 col0\" >Kosovo</td>\n",
       "                        <td id=\"T_5e8d6992_c025_11ea_b0ff_30d9d9eee573row95_col1\" class=\"data row95 col1\" >2020-07-07 07:33:57</td>\n",
       "                        <td id=\"T_5e8d6992_c025_11ea_b0ff_30d9d9eee573row95_col2\" class=\"data row95 col2\" >42.6026</td>\n",
       "                        <td id=\"T_5e8d6992_c025_11ea_b0ff_30d9d9eee573row95_col3\" class=\"data row95 col3\" >20.903</td>\n",
       "                        <td id=\"T_5e8d6992_c025_11ea_b0ff_30d9d9eee573row95_col4\" class=\"data row95 col4\" >3508</td>\n",
       "                        <td id=\"T_5e8d6992_c025_11ea_b0ff_30d9d9eee573row95_col5\" class=\"data row95 col5\" >75</td>\n",
       "                        <td id=\"T_5e8d6992_c025_11ea_b0ff_30d9d9eee573row95_col6\" class=\"data row95 col6\" >1902</td>\n",
       "                        <td id=\"T_5e8d6992_c025_11ea_b0ff_30d9d9eee573row95_col7\" class=\"data row95 col7\" >1531</td>\n",
       "                        <td id=\"T_5e8d6992_c025_11ea_b0ff_30d9d9eee573row95_col8\" class=\"data row95 col8\" >193.773</td>\n",
       "                        <td id=\"T_5e8d6992_c025_11ea_b0ff_30d9d9eee573row95_col9\" class=\"data row95 col9\" >nan</td>\n",
       "                        <td id=\"T_5e8d6992_c025_11ea_b0ff_30d9d9eee573row95_col10\" class=\"data row95 col10\" >nan</td>\n",
       "                        <td id=\"T_5e8d6992_c025_11ea_b0ff_30d9d9eee573row95_col11\" class=\"data row95 col11\" >2.13797</td>\n",
       "                        <td id=\"T_5e8d6992_c025_11ea_b0ff_30d9d9eee573row95_col12\" class=\"data row95 col12\" >383</td>\n",
       "                        <td id=\"T_5e8d6992_c025_11ea_b0ff_30d9d9eee573row95_col13\" class=\"data row95 col13\" >XKS</td>\n",
       "            </tr>\n",
       "            <tr>\n",
       "                        <th id=\"T_5e8d6992_c025_11ea_b0ff_30d9d9eee573level0_row96\" class=\"row_heading level0 row96\" >117</th>\n",
       "                        <td id=\"T_5e8d6992_c025_11ea_b0ff_30d9d9eee573row96_col0\" class=\"data row96 col0\" >Madagascar</td>\n",
       "                        <td id=\"T_5e8d6992_c025_11ea_b0ff_30d9d9eee573row96_col1\" class=\"data row96 col1\" >2020-07-07 07:33:57</td>\n",
       "                        <td id=\"T_5e8d6992_c025_11ea_b0ff_30d9d9eee573row96_col2\" class=\"data row96 col2\" >-18.7669</td>\n",
       "                        <td id=\"T_5e8d6992_c025_11ea_b0ff_30d9d9eee573row96_col3\" class=\"data row96 col3\" >46.8691</td>\n",
       "                        <td id=\"T_5e8d6992_c025_11ea_b0ff_30d9d9eee573row96_col4\" class=\"data row96 col4\" >3250</td>\n",
       "                        <td id=\"T_5e8d6992_c025_11ea_b0ff_30d9d9eee573row96_col5\" class=\"data row96 col5\" >33</td>\n",
       "                        <td id=\"T_5e8d6992_c025_11ea_b0ff_30d9d9eee573row96_col6\" class=\"data row96 col6\" >1135</td>\n",
       "                        <td id=\"T_5e8d6992_c025_11ea_b0ff_30d9d9eee573row96_col7\" class=\"data row96 col7\" >2082</td>\n",
       "                        <td id=\"T_5e8d6992_c025_11ea_b0ff_30d9d9eee573row96_col8\" class=\"data row96 col8\" >11.7367</td>\n",
       "                        <td id=\"T_5e8d6992_c025_11ea_b0ff_30d9d9eee573row96_col9\" class=\"data row96 col9\" >nan</td>\n",
       "                        <td id=\"T_5e8d6992_c025_11ea_b0ff_30d9d9eee573row96_col10\" class=\"data row96 col10\" >nan</td>\n",
       "                        <td id=\"T_5e8d6992_c025_11ea_b0ff_30d9d9eee573row96_col11\" class=\"data row96 col11\" >1.01538</td>\n",
       "                        <td id=\"T_5e8d6992_c025_11ea_b0ff_30d9d9eee573row96_col12\" class=\"data row96 col12\" >450</td>\n",
       "                        <td id=\"T_5e8d6992_c025_11ea_b0ff_30d9d9eee573row96_col13\" class=\"data row96 col13\" >MDG</td>\n",
       "            </tr>\n",
       "            <tr>\n",
       "                        <th id=\"T_5e8d6992_c025_11ea_b0ff_30d9d9eee573level0_row97\" class=\"row_heading level0 row97\" >64</th>\n",
       "                        <td id=\"T_5e8d6992_c025_11ea_b0ff_30d9d9eee573row97_col0\" class=\"data row97 col0\" >Croatia</td>\n",
       "                        <td id=\"T_5e8d6992_c025_11ea_b0ff_30d9d9eee573row97_col1\" class=\"data row97 col1\" >2020-07-07 07:33:57</td>\n",
       "                        <td id=\"T_5e8d6992_c025_11ea_b0ff_30d9d9eee573row97_col2\" class=\"data row97 col2\" >45.1</td>\n",
       "                        <td id=\"T_5e8d6992_c025_11ea_b0ff_30d9d9eee573row97_col3\" class=\"data row97 col3\" >15.2</td>\n",
       "                        <td id=\"T_5e8d6992_c025_11ea_b0ff_30d9d9eee573row97_col4\" class=\"data row97 col4\" >3220</td>\n",
       "                        <td id=\"T_5e8d6992_c025_11ea_b0ff_30d9d9eee573row97_col5\" class=\"data row97 col5\" >113</td>\n",
       "                        <td id=\"T_5e8d6992_c025_11ea_b0ff_30d9d9eee573row97_col6\" class=\"data row97 col6\" >2210</td>\n",
       "                        <td id=\"T_5e8d6992_c025_11ea_b0ff_30d9d9eee573row97_col7\" class=\"data row97 col7\" >897</td>\n",
       "                        <td id=\"T_5e8d6992_c025_11ea_b0ff_30d9d9eee573row97_col8\" class=\"data row97 col8\" >78.4358</td>\n",
       "                        <td id=\"T_5e8d6992_c025_11ea_b0ff_30d9d9eee573row97_col9\" class=\"data row97 col9\" >nan</td>\n",
       "                        <td id=\"T_5e8d6992_c025_11ea_b0ff_30d9d9eee573row97_col10\" class=\"data row97 col10\" >nan</td>\n",
       "                        <td id=\"T_5e8d6992_c025_11ea_b0ff_30d9d9eee573row97_col11\" class=\"data row97 col11\" >3.50932</td>\n",
       "                        <td id=\"T_5e8d6992_c025_11ea_b0ff_30d9d9eee573row97_col12\" class=\"data row97 col12\" >191</td>\n",
       "                        <td id=\"T_5e8d6992_c025_11ea_b0ff_30d9d9eee573row97_col13\" class=\"data row97 col13\" >HRV</td>\n",
       "            </tr>\n",
       "            <tr>\n",
       "                        <th id=\"T_5e8d6992_c025_11ea_b0ff_30d9d9eee573level0_row98\" class=\"row_heading level0 row98\" >171</th>\n",
       "                        <td id=\"T_5e8d6992_c025_11ea_b0ff_30d9d9eee573row98_col0\" class=\"data row98 col0\" >Thailand</td>\n",
       "                        <td id=\"T_5e8d6992_c025_11ea_b0ff_30d9d9eee573row98_col1\" class=\"data row98 col1\" >2020-07-07 07:33:57</td>\n",
       "                        <td id=\"T_5e8d6992_c025_11ea_b0ff_30d9d9eee573row98_col2\" class=\"data row98 col2\" >15.87</td>\n",
       "                        <td id=\"T_5e8d6992_c025_11ea_b0ff_30d9d9eee573row98_col3\" class=\"data row98 col3\" >100.993</td>\n",
       "                        <td id=\"T_5e8d6992_c025_11ea_b0ff_30d9d9eee573row98_col4\" class=\"data row98 col4\" >3195</td>\n",
       "                        <td id=\"T_5e8d6992_c025_11ea_b0ff_30d9d9eee573row98_col5\" class=\"data row98 col5\" >58</td>\n",
       "                        <td id=\"T_5e8d6992_c025_11ea_b0ff_30d9d9eee573row98_col6\" class=\"data row98 col6\" >3072</td>\n",
       "                        <td id=\"T_5e8d6992_c025_11ea_b0ff_30d9d9eee573row98_col7\" class=\"data row98 col7\" >65</td>\n",
       "                        <td id=\"T_5e8d6992_c025_11ea_b0ff_30d9d9eee573row98_col8\" class=\"data row98 col8\" >4.57737</td>\n",
       "                        <td id=\"T_5e8d6992_c025_11ea_b0ff_30d9d9eee573row98_col9\" class=\"data row98 col9\" >nan</td>\n",
       "                        <td id=\"T_5e8d6992_c025_11ea_b0ff_30d9d9eee573row98_col10\" class=\"data row98 col10\" >nan</td>\n",
       "                        <td id=\"T_5e8d6992_c025_11ea_b0ff_30d9d9eee573row98_col11\" class=\"data row98 col11\" >1.81534</td>\n",
       "                        <td id=\"T_5e8d6992_c025_11ea_b0ff_30d9d9eee573row98_col12\" class=\"data row98 col12\" >764</td>\n",
       "                        <td id=\"T_5e8d6992_c025_11ea_b0ff_30d9d9eee573row98_col13\" class=\"data row98 col13\" >THA</td>\n",
       "            </tr>\n",
       "            <tr>\n",
       "                        <th id=\"T_5e8d6992_c025_11ea_b0ff_30d9d9eee573level0_row99\" class=\"row_heading level0 row99\" >75</th>\n",
       "                        <td id=\"T_5e8d6992_c025_11ea_b0ff_30d9d9eee573row99_col0\" class=\"data row99 col0\" >Equatorial Guinea</td>\n",
       "                        <td id=\"T_5e8d6992_c025_11ea_b0ff_30d9d9eee573row99_col1\" class=\"data row99 col1\" >2020-07-07 07:33:57</td>\n",
       "                        <td id=\"T_5e8d6992_c025_11ea_b0ff_30d9d9eee573row99_col2\" class=\"data row99 col2\" >1.6508</td>\n",
       "                        <td id=\"T_5e8d6992_c025_11ea_b0ff_30d9d9eee573row99_col3\" class=\"data row99 col3\" >10.2679</td>\n",
       "                        <td id=\"T_5e8d6992_c025_11ea_b0ff_30d9d9eee573row99_col4\" class=\"data row99 col4\" >3071</td>\n",
       "                        <td id=\"T_5e8d6992_c025_11ea_b0ff_30d9d9eee573row99_col5\" class=\"data row99 col5\" >51</td>\n",
       "                        <td id=\"T_5e8d6992_c025_11ea_b0ff_30d9d9eee573row99_col6\" class=\"data row99 col6\" >842</td>\n",
       "                        <td id=\"T_5e8d6992_c025_11ea_b0ff_30d9d9eee573row99_col7\" class=\"data row99 col7\" >2178</td>\n",
       "                        <td id=\"T_5e8d6992_c025_11ea_b0ff_30d9d9eee573row99_col8\" class=\"data row99 col8\" >218.89</td>\n",
       "                        <td id=\"T_5e8d6992_c025_11ea_b0ff_30d9d9eee573row99_col9\" class=\"data row99 col9\" >nan</td>\n",
       "                        <td id=\"T_5e8d6992_c025_11ea_b0ff_30d9d9eee573row99_col10\" class=\"data row99 col10\" >nan</td>\n",
       "                        <td id=\"T_5e8d6992_c025_11ea_b0ff_30d9d9eee573row99_col11\" class=\"data row99 col11\" >1.6607</td>\n",
       "                        <td id=\"T_5e8d6992_c025_11ea_b0ff_30d9d9eee573row99_col12\" class=\"data row99 col12\" >226</td>\n",
       "                        <td id=\"T_5e8d6992_c025_11ea_b0ff_30d9d9eee573row99_col13\" class=\"data row99 col13\" >GNQ</td>\n",
       "            </tr>\n",
       "            <tr>\n",
       "                        <th id=\"T_5e8d6992_c025_11ea_b0ff_30d9d9eee573level0_row100\" class=\"row_heading level0 row100\" >161</th>\n",
       "                        <td id=\"T_5e8d6992_c025_11ea_b0ff_30d9d9eee573row100_col0\" class=\"data row100 col0\" >Somalia</td>\n",
       "                        <td id=\"T_5e8d6992_c025_11ea_b0ff_30d9d9eee573row100_col1\" class=\"data row100 col1\" >2020-07-07 07:33:57</td>\n",
       "                        <td id=\"T_5e8d6992_c025_11ea_b0ff_30d9d9eee573row100_col2\" class=\"data row100 col2\" >5.15215</td>\n",
       "                        <td id=\"T_5e8d6992_c025_11ea_b0ff_30d9d9eee573row100_col3\" class=\"data row100 col3\" >46.1996</td>\n",
       "                        <td id=\"T_5e8d6992_c025_11ea_b0ff_30d9d9eee573row100_col4\" class=\"data row100 col4\" >3006</td>\n",
       "                        <td id=\"T_5e8d6992_c025_11ea_b0ff_30d9d9eee573row100_col5\" class=\"data row100 col5\" >92</td>\n",
       "                        <td id=\"T_5e8d6992_c025_11ea_b0ff_30d9d9eee573row100_col6\" class=\"data row100 col6\" >1051</td>\n",
       "                        <td id=\"T_5e8d6992_c025_11ea_b0ff_30d9d9eee573row100_col7\" class=\"data row100 col7\" >1863</td>\n",
       "                        <td id=\"T_5e8d6992_c025_11ea_b0ff_30d9d9eee573row100_col8\" class=\"data row100 col8\" >18.9137</td>\n",
       "                        <td id=\"T_5e8d6992_c025_11ea_b0ff_30d9d9eee573row100_col9\" class=\"data row100 col9\" >nan</td>\n",
       "                        <td id=\"T_5e8d6992_c025_11ea_b0ff_30d9d9eee573row100_col10\" class=\"data row100 col10\" >nan</td>\n",
       "                        <td id=\"T_5e8d6992_c025_11ea_b0ff_30d9d9eee573row100_col11\" class=\"data row100 col11\" >3.06055</td>\n",
       "                        <td id=\"T_5e8d6992_c025_11ea_b0ff_30d9d9eee573row100_col12\" class=\"data row100 col12\" >706</td>\n",
       "                        <td id=\"T_5e8d6992_c025_11ea_b0ff_30d9d9eee573row100_col13\" class=\"data row100 col13\" >SOM</td>\n",
       "            </tr>\n",
       "            <tr>\n",
       "                        <th id=\"T_5e8d6992_c025_11ea_b0ff_30d9d9eee573level0_row101\" class=\"row_heading level0 row101\" >29</th>\n",
       "                        <td id=\"T_5e8d6992_c025_11ea_b0ff_30d9d9eee573row101_col0\" class=\"data row101 col0\" >Albania</td>\n",
       "                        <td id=\"T_5e8d6992_c025_11ea_b0ff_30d9d9eee573row101_col1\" class=\"data row101 col1\" >2020-07-07 07:33:57</td>\n",
       "                        <td id=\"T_5e8d6992_c025_11ea_b0ff_30d9d9eee573row101_col2\" class=\"data row101 col2\" >41.1533</td>\n",
       "                        <td id=\"T_5e8d6992_c025_11ea_b0ff_30d9d9eee573row101_col3\" class=\"data row101 col3\" >20.1683</td>\n",
       "                        <td id=\"T_5e8d6992_c025_11ea_b0ff_30d9d9eee573row101_col4\" class=\"data row101 col4\" >2964</td>\n",
       "                        <td id=\"T_5e8d6992_c025_11ea_b0ff_30d9d9eee573row101_col5\" class=\"data row101 col5\" >79</td>\n",
       "                        <td id=\"T_5e8d6992_c025_11ea_b0ff_30d9d9eee573row101_col6\" class=\"data row101 col6\" >1702</td>\n",
       "                        <td id=\"T_5e8d6992_c025_11ea_b0ff_30d9d9eee573row101_col7\" class=\"data row101 col7\" >1183</td>\n",
       "                        <td id=\"T_5e8d6992_c025_11ea_b0ff_30d9d9eee573row101_col8\" class=\"data row101 col8\" >102.995</td>\n",
       "                        <td id=\"T_5e8d6992_c025_11ea_b0ff_30d9d9eee573row101_col9\" class=\"data row101 col9\" >nan</td>\n",
       "                        <td id=\"T_5e8d6992_c025_11ea_b0ff_30d9d9eee573row101_col10\" class=\"data row101 col10\" >nan</td>\n",
       "                        <td id=\"T_5e8d6992_c025_11ea_b0ff_30d9d9eee573row101_col11\" class=\"data row101 col11\" >2.66532</td>\n",
       "                        <td id=\"T_5e8d6992_c025_11ea_b0ff_30d9d9eee573row101_col12\" class=\"data row101 col12\" >8</td>\n",
       "                        <td id=\"T_5e8d6992_c025_11ea_b0ff_30d9d9eee573row101_col13\" class=\"data row101 col13\" >ALB</td>\n",
       "            </tr>\n",
       "            <tr>\n",
       "                        <th id=\"T_5e8d6992_c025_11ea_b0ff_30d9d9eee573level0_row102\" class=\"row_heading level0 row102\" >134</th>\n",
       "                        <td id=\"T_5e8d6992_c025_11ea_b0ff_30d9d9eee573row102_col0\" class=\"data row102 col0\" >Nicaragua</td>\n",
       "                        <td id=\"T_5e8d6992_c025_11ea_b0ff_30d9d9eee573row102_col1\" class=\"data row102 col1\" >2020-07-07 07:33:57</td>\n",
       "                        <td id=\"T_5e8d6992_c025_11ea_b0ff_30d9d9eee573row102_col2\" class=\"data row102 col2\" >12.8654</td>\n",
       "                        <td id=\"T_5e8d6992_c025_11ea_b0ff_30d9d9eee573row102_col3\" class=\"data row102 col3\" >-85.2072</td>\n",
       "                        <td id=\"T_5e8d6992_c025_11ea_b0ff_30d9d9eee573row102_col4\" class=\"data row102 col4\" >2519</td>\n",
       "                        <td id=\"T_5e8d6992_c025_11ea_b0ff_30d9d9eee573row102_col5\" class=\"data row102 col5\" >83</td>\n",
       "                        <td id=\"T_5e8d6992_c025_11ea_b0ff_30d9d9eee573row102_col6\" class=\"data row102 col6\" >1238</td>\n",
       "                        <td id=\"T_5e8d6992_c025_11ea_b0ff_30d9d9eee573row102_col7\" class=\"data row102 col7\" >1198</td>\n",
       "                        <td id=\"T_5e8d6992_c025_11ea_b0ff_30d9d9eee573row102_col8\" class=\"data row102 col8\" >38.0252</td>\n",
       "                        <td id=\"T_5e8d6992_c025_11ea_b0ff_30d9d9eee573row102_col9\" class=\"data row102 col9\" >nan</td>\n",
       "                        <td id=\"T_5e8d6992_c025_11ea_b0ff_30d9d9eee573row102_col10\" class=\"data row102 col10\" >nan</td>\n",
       "                        <td id=\"T_5e8d6992_c025_11ea_b0ff_30d9d9eee573row102_col11\" class=\"data row102 col11\" >3.29496</td>\n",
       "                        <td id=\"T_5e8d6992_c025_11ea_b0ff_30d9d9eee573row102_col12\" class=\"data row102 col12\" >558</td>\n",
       "                        <td id=\"T_5e8d6992_c025_11ea_b0ff_30d9d9eee573row102_col13\" class=\"data row102 col13\" >NIC</td>\n",
       "            </tr>\n",
       "            <tr>\n",
       "                        <th id=\"T_5e8d6992_c025_11ea_b0ff_30d9d9eee573level0_row103\" class=\"row_heading level0 row103\" >120</th>\n",
       "                        <td id=\"T_5e8d6992_c025_11ea_b0ff_30d9d9eee573row103_col0\" class=\"data row103 col0\" >Maldives</td>\n",
       "                        <td id=\"T_5e8d6992_c025_11ea_b0ff_30d9d9eee573row103_col1\" class=\"data row103 col1\" >2020-07-07 07:33:57</td>\n",
       "                        <td id=\"T_5e8d6992_c025_11ea_b0ff_30d9d9eee573row103_col2\" class=\"data row103 col2\" >3.2028</td>\n",
       "                        <td id=\"T_5e8d6992_c025_11ea_b0ff_30d9d9eee573row103_col3\" class=\"data row103 col3\" >73.2207</td>\n",
       "                        <td id=\"T_5e8d6992_c025_11ea_b0ff_30d9d9eee573row103_col4\" class=\"data row103 col4\" >2491</td>\n",
       "                        <td id=\"T_5e8d6992_c025_11ea_b0ff_30d9d9eee573row103_col5\" class=\"data row103 col5\" >12</td>\n",
       "                        <td id=\"T_5e8d6992_c025_11ea_b0ff_30d9d9eee573row103_col6\" class=\"data row103 col6\" >2113</td>\n",
       "                        <td id=\"T_5e8d6992_c025_11ea_b0ff_30d9d9eee573row103_col7\" class=\"data row103 col7\" >366</td>\n",
       "                        <td id=\"T_5e8d6992_c025_11ea_b0ff_30d9d9eee573row103_col8\" class=\"data row103 col8\" >460.834</td>\n",
       "                        <td id=\"T_5e8d6992_c025_11ea_b0ff_30d9d9eee573row103_col9\" class=\"data row103 col9\" >nan</td>\n",
       "                        <td id=\"T_5e8d6992_c025_11ea_b0ff_30d9d9eee573row103_col10\" class=\"data row103 col10\" >nan</td>\n",
       "                        <td id=\"T_5e8d6992_c025_11ea_b0ff_30d9d9eee573row103_col11\" class=\"data row103 col11\" >0.481734</td>\n",
       "                        <td id=\"T_5e8d6992_c025_11ea_b0ff_30d9d9eee573row103_col12\" class=\"data row103 col12\" >462</td>\n",
       "                        <td id=\"T_5e8d6992_c025_11ea_b0ff_30d9d9eee573row103_col13\" class=\"data row103 col13\" >MDV</td>\n",
       "            </tr>\n",
       "            <tr>\n",
       "                        <th id=\"T_5e8d6992_c025_11ea_b0ff_30d9d9eee573level0_row104\" class=\"row_heading level0 row104\" >141</th>\n",
       "                        <td id=\"T_5e8d6992_c025_11ea_b0ff_30d9d9eee573row104_col0\" class=\"data row104 col0\" >Paraguay</td>\n",
       "                        <td id=\"T_5e8d6992_c025_11ea_b0ff_30d9d9eee573row104_col1\" class=\"data row104 col1\" >2020-07-07 07:33:57</td>\n",
       "                        <td id=\"T_5e8d6992_c025_11ea_b0ff_30d9d9eee573row104_col2\" class=\"data row104 col2\" >-23.4425</td>\n",
       "                        <td id=\"T_5e8d6992_c025_11ea_b0ff_30d9d9eee573row104_col3\" class=\"data row104 col3\" >-58.4438</td>\n",
       "                        <td id=\"T_5e8d6992_c025_11ea_b0ff_30d9d9eee573row104_col4\" class=\"data row104 col4\" >2456</td>\n",
       "                        <td id=\"T_5e8d6992_c025_11ea_b0ff_30d9d9eee573row104_col5\" class=\"data row104 col5\" >20</td>\n",
       "                        <td id=\"T_5e8d6992_c025_11ea_b0ff_30d9d9eee573row104_col6\" class=\"data row104 col6\" >1180</td>\n",
       "                        <td id=\"T_5e8d6992_c025_11ea_b0ff_30d9d9eee573row104_col7\" class=\"data row104 col7\" >1256</td>\n",
       "                        <td id=\"T_5e8d6992_c025_11ea_b0ff_30d9d9eee573row104_col8\" class=\"data row104 col8\" >34.4338</td>\n",
       "                        <td id=\"T_5e8d6992_c025_11ea_b0ff_30d9d9eee573row104_col9\" class=\"data row104 col9\" >nan</td>\n",
       "                        <td id=\"T_5e8d6992_c025_11ea_b0ff_30d9d9eee573row104_col10\" class=\"data row104 col10\" >nan</td>\n",
       "                        <td id=\"T_5e8d6992_c025_11ea_b0ff_30d9d9eee573row104_col11\" class=\"data row104 col11\" >0.814332</td>\n",
       "                        <td id=\"T_5e8d6992_c025_11ea_b0ff_30d9d9eee573row104_col12\" class=\"data row104 col12\" >600</td>\n",
       "                        <td id=\"T_5e8d6992_c025_11ea_b0ff_30d9d9eee573row104_col13\" class=\"data row104 col13\" >PRY</td>\n",
       "            </tr>\n",
       "            <tr>\n",
       "                        <th id=\"T_5e8d6992_c025_11ea_b0ff_30d9d9eee573level0_row105\" class=\"row_heading level0 row105\" >65</th>\n",
       "                        <td id=\"T_5e8d6992_c025_11ea_b0ff_30d9d9eee573row105_col0\" class=\"data row105 col0\" >Cuba</td>\n",
       "                        <td id=\"T_5e8d6992_c025_11ea_b0ff_30d9d9eee573row105_col1\" class=\"data row105 col1\" >2020-07-07 07:33:57</td>\n",
       "                        <td id=\"T_5e8d6992_c025_11ea_b0ff_30d9d9eee573row105_col2\" class=\"data row105 col2\" >21.5218</td>\n",
       "                        <td id=\"T_5e8d6992_c025_11ea_b0ff_30d9d9eee573row105_col3\" class=\"data row105 col3\" >-77.7812</td>\n",
       "                        <td id=\"T_5e8d6992_c025_11ea_b0ff_30d9d9eee573row105_col4\" class=\"data row105 col4\" >2380</td>\n",
       "                        <td id=\"T_5e8d6992_c025_11ea_b0ff_30d9d9eee573row105_col5\" class=\"data row105 col5\" >86</td>\n",
       "                        <td id=\"T_5e8d6992_c025_11ea_b0ff_30d9d9eee573row105_col6\" class=\"data row105 col6\" >2234</td>\n",
       "                        <td id=\"T_5e8d6992_c025_11ea_b0ff_30d9d9eee573row105_col7\" class=\"data row105 col7\" >60</td>\n",
       "                        <td id=\"T_5e8d6992_c025_11ea_b0ff_30d9d9eee573row105_col8\" class=\"data row105 col8\" >21.0125</td>\n",
       "                        <td id=\"T_5e8d6992_c025_11ea_b0ff_30d9d9eee573row105_col9\" class=\"data row105 col9\" >nan</td>\n",
       "                        <td id=\"T_5e8d6992_c025_11ea_b0ff_30d9d9eee573row105_col10\" class=\"data row105 col10\" >nan</td>\n",
       "                        <td id=\"T_5e8d6992_c025_11ea_b0ff_30d9d9eee573row105_col11\" class=\"data row105 col11\" >3.61345</td>\n",
       "                        <td id=\"T_5e8d6992_c025_11ea_b0ff_30d9d9eee573row105_col12\" class=\"data row105 col12\" >192</td>\n",
       "                        <td id=\"T_5e8d6992_c025_11ea_b0ff_30d9d9eee573row105_col13\" class=\"data row105 col13\" >CUB</td>\n",
       "            </tr>\n",
       "            <tr>\n",
       "                        <th id=\"T_5e8d6992_c025_11ea_b0ff_30d9d9eee573level0_row106\" class=\"row_heading level0 row106\" >121</th>\n",
       "                        <td id=\"T_5e8d6992_c025_11ea_b0ff_30d9d9eee573row106_col0\" class=\"data row106 col0\" >Mali</td>\n",
       "                        <td id=\"T_5e8d6992_c025_11ea_b0ff_30d9d9eee573row106_col1\" class=\"data row106 col1\" >2020-07-07 07:33:57</td>\n",
       "                        <td id=\"T_5e8d6992_c025_11ea_b0ff_30d9d9eee573row106_col2\" class=\"data row106 col2\" >17.5707</td>\n",
       "                        <td id=\"T_5e8d6992_c025_11ea_b0ff_30d9d9eee573row106_col3\" class=\"data row106 col3\" >-3.99617</td>\n",
       "                        <td id=\"T_5e8d6992_c025_11ea_b0ff_30d9d9eee573row106_col4\" class=\"data row106 col4\" >2331</td>\n",
       "                        <td id=\"T_5e8d6992_c025_11ea_b0ff_30d9d9eee573row106_col5\" class=\"data row106 col5\" >119</td>\n",
       "                        <td id=\"T_5e8d6992_c025_11ea_b0ff_30d9d9eee573row106_col6\" class=\"data row106 col6\" >1547</td>\n",
       "                        <td id=\"T_5e8d6992_c025_11ea_b0ff_30d9d9eee573row106_col7\" class=\"data row106 col7\" >665</td>\n",
       "                        <td id=\"T_5e8d6992_c025_11ea_b0ff_30d9d9eee573row106_col8\" class=\"data row106 col8\" >11.5106</td>\n",
       "                        <td id=\"T_5e8d6992_c025_11ea_b0ff_30d9d9eee573row106_col9\" class=\"data row106 col9\" >nan</td>\n",
       "                        <td id=\"T_5e8d6992_c025_11ea_b0ff_30d9d9eee573row106_col10\" class=\"data row106 col10\" >nan</td>\n",
       "                        <td id=\"T_5e8d6992_c025_11ea_b0ff_30d9d9eee573row106_col11\" class=\"data row106 col11\" >5.10511</td>\n",
       "                        <td id=\"T_5e8d6992_c025_11ea_b0ff_30d9d9eee573row106_col12\" class=\"data row106 col12\" >466</td>\n",
       "                        <td id=\"T_5e8d6992_c025_11ea_b0ff_30d9d9eee573row106_col13\" class=\"data row106 col13\" >MLI</td>\n",
       "            </tr>\n",
       "            <tr>\n",
       "                        <th id=\"T_5e8d6992_c025_11ea_b0ff_30d9d9eee573level0_row107\" class=\"row_heading level0 row107\" >164</th>\n",
       "                        <td id=\"T_5e8d6992_c025_11ea_b0ff_30d9d9eee573row107_col0\" class=\"data row107 col0\" >Sri Lanka</td>\n",
       "                        <td id=\"T_5e8d6992_c025_11ea_b0ff_30d9d9eee573row107_col1\" class=\"data row107 col1\" >2020-07-07 07:33:57</td>\n",
       "                        <td id=\"T_5e8d6992_c025_11ea_b0ff_30d9d9eee573row107_col2\" class=\"data row107 col2\" >7.87305</td>\n",
       "                        <td id=\"T_5e8d6992_c025_11ea_b0ff_30d9d9eee573row107_col3\" class=\"data row107 col3\" >80.7718</td>\n",
       "                        <td id=\"T_5e8d6992_c025_11ea_b0ff_30d9d9eee573row107_col4\" class=\"data row107 col4\" >2078</td>\n",
       "                        <td id=\"T_5e8d6992_c025_11ea_b0ff_30d9d9eee573row107_col5\" class=\"data row107 col5\" >11</td>\n",
       "                        <td id=\"T_5e8d6992_c025_11ea_b0ff_30d9d9eee573row107_col6\" class=\"data row107 col6\" >1917</td>\n",
       "                        <td id=\"T_5e8d6992_c025_11ea_b0ff_30d9d9eee573row107_col7\" class=\"data row107 col7\" >150</td>\n",
       "                        <td id=\"T_5e8d6992_c025_11ea_b0ff_30d9d9eee573row107_col8\" class=\"data row107 col8\" >9.70427</td>\n",
       "                        <td id=\"T_5e8d6992_c025_11ea_b0ff_30d9d9eee573row107_col9\" class=\"data row107 col9\" >nan</td>\n",
       "                        <td id=\"T_5e8d6992_c025_11ea_b0ff_30d9d9eee573row107_col10\" class=\"data row107 col10\" >nan</td>\n",
       "                        <td id=\"T_5e8d6992_c025_11ea_b0ff_30d9d9eee573row107_col11\" class=\"data row107 col11\" >0.529355</td>\n",
       "                        <td id=\"T_5e8d6992_c025_11ea_b0ff_30d9d9eee573row107_col12\" class=\"data row107 col12\" >144</td>\n",
       "                        <td id=\"T_5e8d6992_c025_11ea_b0ff_30d9d9eee573row107_col13\" class=\"data row107 col13\" >LKA</td>\n",
       "            </tr>\n",
       "            <tr>\n",
       "                        <th id=\"T_5e8d6992_c025_11ea_b0ff_30d9d9eee573level0_row108\" class=\"row_heading level0 row108\" >163</th>\n",
       "                        <td id=\"T_5e8d6992_c025_11ea_b0ff_30d9d9eee573row108_col0\" class=\"data row108 col0\" >South Sudan</td>\n",
       "                        <td id=\"T_5e8d6992_c025_11ea_b0ff_30d9d9eee573row108_col1\" class=\"data row108 col1\" >2020-07-07 07:33:57</td>\n",
       "                        <td id=\"T_5e8d6992_c025_11ea_b0ff_30d9d9eee573row108_col2\" class=\"data row108 col2\" >6.877</td>\n",
       "                        <td id=\"T_5e8d6992_c025_11ea_b0ff_30d9d9eee573row108_col3\" class=\"data row108 col3\" >31.307</td>\n",
       "                        <td id=\"T_5e8d6992_c025_11ea_b0ff_30d9d9eee573row108_col4\" class=\"data row108 col4\" >2021</td>\n",
       "                        <td id=\"T_5e8d6992_c025_11ea_b0ff_30d9d9eee573row108_col5\" class=\"data row108 col5\" >38</td>\n",
       "                        <td id=\"T_5e8d6992_c025_11ea_b0ff_30d9d9eee573row108_col6\" class=\"data row108 col6\" >333</td>\n",
       "                        <td id=\"T_5e8d6992_c025_11ea_b0ff_30d9d9eee573row108_col7\" class=\"data row108 col7\" >1650</td>\n",
       "                        <td id=\"T_5e8d6992_c025_11ea_b0ff_30d9d9eee573row108_col8\" class=\"data row108 col8\" >18.0548</td>\n",
       "                        <td id=\"T_5e8d6992_c025_11ea_b0ff_30d9d9eee573row108_col9\" class=\"data row108 col9\" >nan</td>\n",
       "                        <td id=\"T_5e8d6992_c025_11ea_b0ff_30d9d9eee573row108_col10\" class=\"data row108 col10\" >nan</td>\n",
       "                        <td id=\"T_5e8d6992_c025_11ea_b0ff_30d9d9eee573row108_col11\" class=\"data row108 col11\" >1.88026</td>\n",
       "                        <td id=\"T_5e8d6992_c025_11ea_b0ff_30d9d9eee573row108_col12\" class=\"data row108 col12\" >728</td>\n",
       "                        <td id=\"T_5e8d6992_c025_11ea_b0ff_30d9d9eee573row108_col13\" class=\"data row108 col13\" >SSD</td>\n",
       "            </tr>\n",
       "            <tr>\n",
       "                        <th id=\"T_5e8d6992_c025_11ea_b0ff_30d9d9eee573level0_row109\" class=\"row_heading level0 row109\" >77</th>\n",
       "                        <td id=\"T_5e8d6992_c025_11ea_b0ff_30d9d9eee573row109_col0\" class=\"data row109 col0\" >Estonia</td>\n",
       "                        <td id=\"T_5e8d6992_c025_11ea_b0ff_30d9d9eee573row109_col1\" class=\"data row109 col1\" >2020-07-07 07:33:57</td>\n",
       "                        <td id=\"T_5e8d6992_c025_11ea_b0ff_30d9d9eee573row109_col2\" class=\"data row109 col2\" >58.5953</td>\n",
       "                        <td id=\"T_5e8d6992_c025_11ea_b0ff_30d9d9eee573row109_col3\" class=\"data row109 col3\" >25.0136</td>\n",
       "                        <td id=\"T_5e8d6992_c025_11ea_b0ff_30d9d9eee573row109_col4\" class=\"data row109 col4\" >1994</td>\n",
       "                        <td id=\"T_5e8d6992_c025_11ea_b0ff_30d9d9eee573row109_col5\" class=\"data row109 col5\" >69</td>\n",
       "                        <td id=\"T_5e8d6992_c025_11ea_b0ff_30d9d9eee573row109_col6\" class=\"data row109 col6\" >1875</td>\n",
       "                        <td id=\"T_5e8d6992_c025_11ea_b0ff_30d9d9eee573row109_col7\" class=\"data row109 col7\" >50</td>\n",
       "                        <td id=\"T_5e8d6992_c025_11ea_b0ff_30d9d9eee573row109_col8\" class=\"data row109 col8\" >150.316</td>\n",
       "                        <td id=\"T_5e8d6992_c025_11ea_b0ff_30d9d9eee573row109_col9\" class=\"data row109 col9\" >nan</td>\n",
       "                        <td id=\"T_5e8d6992_c025_11ea_b0ff_30d9d9eee573row109_col10\" class=\"data row109 col10\" >nan</td>\n",
       "                        <td id=\"T_5e8d6992_c025_11ea_b0ff_30d9d9eee573row109_col11\" class=\"data row109 col11\" >3.46038</td>\n",
       "                        <td id=\"T_5e8d6992_c025_11ea_b0ff_30d9d9eee573row109_col12\" class=\"data row109 col12\" >233</td>\n",
       "                        <td id=\"T_5e8d6992_c025_11ea_b0ff_30d9d9eee573row109_col13\" class=\"data row109 col13\" >EST</td>\n",
       "            </tr>\n",
       "            <tr>\n",
       "                        <th id=\"T_5e8d6992_c025_11ea_b0ff_30d9d9eee573level0_row110\" class=\"row_heading level0 row110\" >109</th>\n",
       "                        <td id=\"T_5e8d6992_c025_11ea_b0ff_30d9d9eee573row110_col0\" class=\"data row110 col0\" >Lebanon</td>\n",
       "                        <td id=\"T_5e8d6992_c025_11ea_b0ff_30d9d9eee573row110_col1\" class=\"data row110 col1\" >2020-07-07 07:33:57</td>\n",
       "                        <td id=\"T_5e8d6992_c025_11ea_b0ff_30d9d9eee573row110_col2\" class=\"data row110 col2\" >33.8547</td>\n",
       "                        <td id=\"T_5e8d6992_c025_11ea_b0ff_30d9d9eee573row110_col3\" class=\"data row110 col3\" >35.8623</td>\n",
       "                        <td id=\"T_5e8d6992_c025_11ea_b0ff_30d9d9eee573row110_col4\" class=\"data row110 col4\" >1885</td>\n",
       "                        <td id=\"T_5e8d6992_c025_11ea_b0ff_30d9d9eee573row110_col5\" class=\"data row110 col5\" >36</td>\n",
       "                        <td id=\"T_5e8d6992_c025_11ea_b0ff_30d9d9eee573row110_col6\" class=\"data row110 col6\" >1311</td>\n",
       "                        <td id=\"T_5e8d6992_c025_11ea_b0ff_30d9d9eee573row110_col7\" class=\"data row110 col7\" >538</td>\n",
       "                        <td id=\"T_5e8d6992_c025_11ea_b0ff_30d9d9eee573row110_col8\" class=\"data row110 col8\" >27.6173</td>\n",
       "                        <td id=\"T_5e8d6992_c025_11ea_b0ff_30d9d9eee573row110_col9\" class=\"data row110 col9\" >nan</td>\n",
       "                        <td id=\"T_5e8d6992_c025_11ea_b0ff_30d9d9eee573row110_col10\" class=\"data row110 col10\" >nan</td>\n",
       "                        <td id=\"T_5e8d6992_c025_11ea_b0ff_30d9d9eee573row110_col11\" class=\"data row110 col11\" >1.90981</td>\n",
       "                        <td id=\"T_5e8d6992_c025_11ea_b0ff_30d9d9eee573row110_col12\" class=\"data row110 col12\" >422</td>\n",
       "                        <td id=\"T_5e8d6992_c025_11ea_b0ff_30d9d9eee573row110_col13\" class=\"data row110 col13\" >LBN</td>\n",
       "            </tr>\n",
       "            <tr>\n",
       "                        <th id=\"T_5e8d6992_c025_11ea_b0ff_30d9d9eee573level0_row111\" class=\"row_heading level0 row111\" >8</th>\n",
       "                        <td id=\"T_5e8d6992_c025_11ea_b0ff_30d9d9eee573row111_col0\" class=\"data row111 col0\" >Iceland</td>\n",
       "                        <td id=\"T_5e8d6992_c025_11ea_b0ff_30d9d9eee573row111_col1\" class=\"data row111 col1\" >2020-07-07 07:33:57</td>\n",
       "                        <td id=\"T_5e8d6992_c025_11ea_b0ff_30d9d9eee573row111_col2\" class=\"data row111 col2\" >64.9631</td>\n",
       "                        <td id=\"T_5e8d6992_c025_11ea_b0ff_30d9d9eee573row111_col3\" class=\"data row111 col3\" >-19.0208</td>\n",
       "                        <td id=\"T_5e8d6992_c025_11ea_b0ff_30d9d9eee573row111_col4\" class=\"data row111 col4\" >1866</td>\n",
       "                        <td id=\"T_5e8d6992_c025_11ea_b0ff_30d9d9eee573row111_col5\" class=\"data row111 col5\" >10</td>\n",
       "                        <td id=\"T_5e8d6992_c025_11ea_b0ff_30d9d9eee573row111_col6\" class=\"data row111 col6\" >1840</td>\n",
       "                        <td id=\"T_5e8d6992_c025_11ea_b0ff_30d9d9eee573row111_col7\" class=\"data row111 col7\" >16</td>\n",
       "                        <td id=\"T_5e8d6992_c025_11ea_b0ff_30d9d9eee573row111_col8\" class=\"data row111 col8\" >546.813</td>\n",
       "                        <td id=\"T_5e8d6992_c025_11ea_b0ff_30d9d9eee573row111_col9\" class=\"data row111 col9\" >nan</td>\n",
       "                        <td id=\"T_5e8d6992_c025_11ea_b0ff_30d9d9eee573row111_col10\" class=\"data row111 col10\" >nan</td>\n",
       "                        <td id=\"T_5e8d6992_c025_11ea_b0ff_30d9d9eee573row111_col11\" class=\"data row111 col11\" >0.535906</td>\n",
       "                        <td id=\"T_5e8d6992_c025_11ea_b0ff_30d9d9eee573row111_col12\" class=\"data row111 col12\" >352</td>\n",
       "                        <td id=\"T_5e8d6992_c025_11ea_b0ff_30d9d9eee573row111_col13\" class=\"data row111 col13\" >ISL</td>\n",
       "            </tr>\n",
       "            <tr>\n",
       "                        <th id=\"T_5e8d6992_c025_11ea_b0ff_30d9d9eee573level0_row112\" class=\"row_heading level0 row112\" >114</th>\n",
       "                        <td id=\"T_5e8d6992_c025_11ea_b0ff_30d9d9eee573row112_col0\" class=\"data row112 col0\" >Lithuania</td>\n",
       "                        <td id=\"T_5e8d6992_c025_11ea_b0ff_30d9d9eee573row112_col1\" class=\"data row112 col1\" >2020-07-07 07:33:57</td>\n",
       "                        <td id=\"T_5e8d6992_c025_11ea_b0ff_30d9d9eee573row112_col2\" class=\"data row112 col2\" >55.1694</td>\n",
       "                        <td id=\"T_5e8d6992_c025_11ea_b0ff_30d9d9eee573row112_col3\" class=\"data row112 col3\" >23.8813</td>\n",
       "                        <td id=\"T_5e8d6992_c025_11ea_b0ff_30d9d9eee573row112_col4\" class=\"data row112 col4\" >1841</td>\n",
       "                        <td id=\"T_5e8d6992_c025_11ea_b0ff_30d9d9eee573row112_col5\" class=\"data row112 col5\" >79</td>\n",
       "                        <td id=\"T_5e8d6992_c025_11ea_b0ff_30d9d9eee573row112_col6\" class=\"data row112 col6\" >1547</td>\n",
       "                        <td id=\"T_5e8d6992_c025_11ea_b0ff_30d9d9eee573row112_col7\" class=\"data row112 col7\" >215</td>\n",
       "                        <td id=\"T_5e8d6992_c025_11ea_b0ff_30d9d9eee573row112_col8\" class=\"data row112 col8\" >67.6269</td>\n",
       "                        <td id=\"T_5e8d6992_c025_11ea_b0ff_30d9d9eee573row112_col9\" class=\"data row112 col9\" >nan</td>\n",
       "                        <td id=\"T_5e8d6992_c025_11ea_b0ff_30d9d9eee573row112_col10\" class=\"data row112 col10\" >nan</td>\n",
       "                        <td id=\"T_5e8d6992_c025_11ea_b0ff_30d9d9eee573row112_col11\" class=\"data row112 col11\" >4.29115</td>\n",
       "                        <td id=\"T_5e8d6992_c025_11ea_b0ff_30d9d9eee573row112_col12\" class=\"data row112 col12\" >440</td>\n",
       "                        <td id=\"T_5e8d6992_c025_11ea_b0ff_30d9d9eee573row112_col13\" class=\"data row112 col13\" >LTU</td>\n",
       "            </tr>\n",
       "            <tr>\n",
       "                        <th id=\"T_5e8d6992_c025_11ea_b0ff_30d9d9eee573level0_row113\" class=\"row_heading level0 row113\" >89</th>\n",
       "                        <td id=\"T_5e8d6992_c025_11ea_b0ff_30d9d9eee573row113_col0\" class=\"data row113 col0\" >Guinea-Bissau</td>\n",
       "                        <td id=\"T_5e8d6992_c025_11ea_b0ff_30d9d9eee573row113_col1\" class=\"data row113 col1\" >2020-07-07 07:33:57</td>\n",
       "                        <td id=\"T_5e8d6992_c025_11ea_b0ff_30d9d9eee573row113_col2\" class=\"data row113 col2\" >11.8037</td>\n",
       "                        <td id=\"T_5e8d6992_c025_11ea_b0ff_30d9d9eee573row113_col3\" class=\"data row113 col3\" >-15.1804</td>\n",
       "                        <td id=\"T_5e8d6992_c025_11ea_b0ff_30d9d9eee573row113_col4\" class=\"data row113 col4\" >1790</td>\n",
       "                        <td id=\"T_5e8d6992_c025_11ea_b0ff_30d9d9eee573row113_col5\" class=\"data row113 col5\" >25</td>\n",
       "                        <td id=\"T_5e8d6992_c025_11ea_b0ff_30d9d9eee573row113_col6\" class=\"data row113 col6\" >760</td>\n",
       "                        <td id=\"T_5e8d6992_c025_11ea_b0ff_30d9d9eee573row113_col7\" class=\"data row113 col7\" >1005</td>\n",
       "                        <td id=\"T_5e8d6992_c025_11ea_b0ff_30d9d9eee573row113_col8\" class=\"data row113 col8\" >90.9554</td>\n",
       "                        <td id=\"T_5e8d6992_c025_11ea_b0ff_30d9d9eee573row113_col9\" class=\"data row113 col9\" >nan</td>\n",
       "                        <td id=\"T_5e8d6992_c025_11ea_b0ff_30d9d9eee573row113_col10\" class=\"data row113 col10\" >nan</td>\n",
       "                        <td id=\"T_5e8d6992_c025_11ea_b0ff_30d9d9eee573row113_col11\" class=\"data row113 col11\" >1.39665</td>\n",
       "                        <td id=\"T_5e8d6992_c025_11ea_b0ff_30d9d9eee573row113_col12\" class=\"data row113 col12\" >624</td>\n",
       "                        <td id=\"T_5e8d6992_c025_11ea_b0ff_30d9d9eee573row113_col13\" class=\"data row113 col13\" >GNB</td>\n",
       "            </tr>\n",
       "            <tr>\n",
       "                        <th id=\"T_5e8d6992_c025_11ea_b0ff_30d9d9eee573level0_row114\" class=\"row_heading level0 row114\" >159</th>\n",
       "                        <td id=\"T_5e8d6992_c025_11ea_b0ff_30d9d9eee573row114_col0\" class=\"data row114 col0\" >Slovakia</td>\n",
       "                        <td id=\"T_5e8d6992_c025_11ea_b0ff_30d9d9eee573row114_col1\" class=\"data row114 col1\" >2020-07-07 07:33:57</td>\n",
       "                        <td id=\"T_5e8d6992_c025_11ea_b0ff_30d9d9eee573row114_col2\" class=\"data row114 col2\" >48.669</td>\n",
       "                        <td id=\"T_5e8d6992_c025_11ea_b0ff_30d9d9eee573row114_col3\" class=\"data row114 col3\" >19.699</td>\n",
       "                        <td id=\"T_5e8d6992_c025_11ea_b0ff_30d9d9eee573row114_col4\" class=\"data row114 col4\" >1765</td>\n",
       "                        <td id=\"T_5e8d6992_c025_11ea_b0ff_30d9d9eee573row114_col5\" class=\"data row114 col5\" >28</td>\n",
       "                        <td id=\"T_5e8d6992_c025_11ea_b0ff_30d9d9eee573row114_col6\" class=\"data row114 col6\" >1466</td>\n",
       "                        <td id=\"T_5e8d6992_c025_11ea_b0ff_30d9d9eee573row114_col7\" class=\"data row114 col7\" >271</td>\n",
       "                        <td id=\"T_5e8d6992_c025_11ea_b0ff_30d9d9eee573row114_col8\" class=\"data row114 col8\" >32.3281</td>\n",
       "                        <td id=\"T_5e8d6992_c025_11ea_b0ff_30d9d9eee573row114_col9\" class=\"data row114 col9\" >nan</td>\n",
       "                        <td id=\"T_5e8d6992_c025_11ea_b0ff_30d9d9eee573row114_col10\" class=\"data row114 col10\" >nan</td>\n",
       "                        <td id=\"T_5e8d6992_c025_11ea_b0ff_30d9d9eee573row114_col11\" class=\"data row114 col11\" >1.5864</td>\n",
       "                        <td id=\"T_5e8d6992_c025_11ea_b0ff_30d9d9eee573row114_col12\" class=\"data row114 col12\" >703</td>\n",
       "                        <td id=\"T_5e8d6992_c025_11ea_b0ff_30d9d9eee573row114_col13\" class=\"data row114 col13\" >SVK</td>\n",
       "            </tr>\n",
       "            <tr>\n",
       "                        <th id=\"T_5e8d6992_c025_11ea_b0ff_30d9d9eee573level0_row115\" class=\"row_heading level0 row115\" >118</th>\n",
       "                        <td id=\"T_5e8d6992_c025_11ea_b0ff_30d9d9eee573row115_col0\" class=\"data row115 col0\" >Malawi</td>\n",
       "                        <td id=\"T_5e8d6992_c025_11ea_b0ff_30d9d9eee573row115_col1\" class=\"data row115 col1\" >2020-07-07 07:33:57</td>\n",
       "                        <td id=\"T_5e8d6992_c025_11ea_b0ff_30d9d9eee573row115_col2\" class=\"data row115 col2\" >-13.2543</td>\n",
       "                        <td id=\"T_5e8d6992_c025_11ea_b0ff_30d9d9eee573row115_col3\" class=\"data row115 col3\" >34.3015</td>\n",
       "                        <td id=\"T_5e8d6992_c025_11ea_b0ff_30d9d9eee573row115_col4\" class=\"data row115 col4\" >1742</td>\n",
       "                        <td id=\"T_5e8d6992_c025_11ea_b0ff_30d9d9eee573row115_col5\" class=\"data row115 col5\" >19</td>\n",
       "                        <td id=\"T_5e8d6992_c025_11ea_b0ff_30d9d9eee573row115_col6\" class=\"data row115 col6\" >317</td>\n",
       "                        <td id=\"T_5e8d6992_c025_11ea_b0ff_30d9d9eee573row115_col7\" class=\"data row115 col7\" >1406</td>\n",
       "                        <td id=\"T_5e8d6992_c025_11ea_b0ff_30d9d9eee573row115_col8\" class=\"data row115 col8\" >9.10614</td>\n",
       "                        <td id=\"T_5e8d6992_c025_11ea_b0ff_30d9d9eee573row115_col9\" class=\"data row115 col9\" >nan</td>\n",
       "                        <td id=\"T_5e8d6992_c025_11ea_b0ff_30d9d9eee573row115_col10\" class=\"data row115 col10\" >nan</td>\n",
       "                        <td id=\"T_5e8d6992_c025_11ea_b0ff_30d9d9eee573row115_col11\" class=\"data row115 col11\" >1.0907</td>\n",
       "                        <td id=\"T_5e8d6992_c025_11ea_b0ff_30d9d9eee573row115_col12\" class=\"data row115 col12\" >454</td>\n",
       "                        <td id=\"T_5e8d6992_c025_11ea_b0ff_30d9d9eee573row115_col13\" class=\"data row115 col13\" >MWI</td>\n",
       "            </tr>\n",
       "            <tr>\n",
       "                        <th id=\"T_5e8d6992_c025_11ea_b0ff_30d9d9eee573level0_row116\" class=\"row_heading level0 row116\" >160</th>\n",
       "                        <td id=\"T_5e8d6992_c025_11ea_b0ff_30d9d9eee573row116_col0\" class=\"data row116 col0\" >Slovenia</td>\n",
       "                        <td id=\"T_5e8d6992_c025_11ea_b0ff_30d9d9eee573row116_col1\" class=\"data row116 col1\" >2020-07-07 07:33:57</td>\n",
       "                        <td id=\"T_5e8d6992_c025_11ea_b0ff_30d9d9eee573row116_col2\" class=\"data row116 col2\" >46.1512</td>\n",
       "                        <td id=\"T_5e8d6992_c025_11ea_b0ff_30d9d9eee573row116_col3\" class=\"data row116 col3\" >14.9955</td>\n",
       "                        <td id=\"T_5e8d6992_c025_11ea_b0ff_30d9d9eee573row116_col4\" class=\"data row116 col4\" >1716</td>\n",
       "                        <td id=\"T_5e8d6992_c025_11ea_b0ff_30d9d9eee573row116_col5\" class=\"data row116 col5\" >111</td>\n",
       "                        <td id=\"T_5e8d6992_c025_11ea_b0ff_30d9d9eee573row116_col6\" class=\"data row116 col6\" >1384</td>\n",
       "                        <td id=\"T_5e8d6992_c025_11ea_b0ff_30d9d9eee573row116_col7\" class=\"data row116 col7\" >221</td>\n",
       "                        <td id=\"T_5e8d6992_c025_11ea_b0ff_30d9d9eee573row116_col8\" class=\"data row116 col8\" >82.5424</td>\n",
       "                        <td id=\"T_5e8d6992_c025_11ea_b0ff_30d9d9eee573row116_col9\" class=\"data row116 col9\" >nan</td>\n",
       "                        <td id=\"T_5e8d6992_c025_11ea_b0ff_30d9d9eee573row116_col10\" class=\"data row116 col10\" >nan</td>\n",
       "                        <td id=\"T_5e8d6992_c025_11ea_b0ff_30d9d9eee573row116_col11\" class=\"data row116 col11\" >6.46853</td>\n",
       "                        <td id=\"T_5e8d6992_c025_11ea_b0ff_30d9d9eee573row116_col12\" class=\"data row116 col12\" >705</td>\n",
       "                        <td id=\"T_5e8d6992_c025_11ea_b0ff_30d9d9eee573row116_col13\" class=\"data row116 col13\" >SVN</td>\n",
       "            </tr>\n",
       "            <tr>\n",
       "                        <th id=\"T_5e8d6992_c025_11ea_b0ff_30d9d9eee573level0_row117\" class=\"row_heading level0 row117\" >186</th>\n",
       "                        <td id=\"T_5e8d6992_c025_11ea_b0ff_30d9d9eee573row117_col0\" class=\"data row117 col0\" >Zambia</td>\n",
       "                        <td id=\"T_5e8d6992_c025_11ea_b0ff_30d9d9eee573row117_col1\" class=\"data row117 col1\" >2020-07-07 07:33:57</td>\n",
       "                        <td id=\"T_5e8d6992_c025_11ea_b0ff_30d9d9eee573row117_col2\" class=\"data row117 col2\" >-13.1339</td>\n",
       "                        <td id=\"T_5e8d6992_c025_11ea_b0ff_30d9d9eee573row117_col3\" class=\"data row117 col3\" >27.8493</td>\n",
       "                        <td id=\"T_5e8d6992_c025_11ea_b0ff_30d9d9eee573row117_col4\" class=\"data row117 col4\" >1632</td>\n",
       "                        <td id=\"T_5e8d6992_c025_11ea_b0ff_30d9d9eee573row117_col5\" class=\"data row117 col5\" >30</td>\n",
       "                        <td id=\"T_5e8d6992_c025_11ea_b0ff_30d9d9eee573row117_col6\" class=\"data row117 col6\" >1348</td>\n",
       "                        <td id=\"T_5e8d6992_c025_11ea_b0ff_30d9d9eee573row117_col7\" class=\"data row117 col7\" >254</td>\n",
       "                        <td id=\"T_5e8d6992_c025_11ea_b0ff_30d9d9eee573row117_col8\" class=\"data row117 col8\" >8.87731</td>\n",
       "                        <td id=\"T_5e8d6992_c025_11ea_b0ff_30d9d9eee573row117_col9\" class=\"data row117 col9\" >nan</td>\n",
       "                        <td id=\"T_5e8d6992_c025_11ea_b0ff_30d9d9eee573row117_col10\" class=\"data row117 col10\" >nan</td>\n",
       "                        <td id=\"T_5e8d6992_c025_11ea_b0ff_30d9d9eee573row117_col11\" class=\"data row117 col11\" >1.83824</td>\n",
       "                        <td id=\"T_5e8d6992_c025_11ea_b0ff_30d9d9eee573row117_col12\" class=\"data row117 col12\" >894</td>\n",
       "                        <td id=\"T_5e8d6992_c025_11ea_b0ff_30d9d9eee573row117_col13\" class=\"data row117 col13\" >ZMB</td>\n",
       "            </tr>\n",
       "            <tr>\n",
       "                        <th id=\"T_5e8d6992_c025_11ea_b0ff_30d9d9eee573level0_row118\" class=\"row_heading level0 row118\" >60</th>\n",
       "                        <td id=\"T_5e8d6992_c025_11ea_b0ff_30d9d9eee573row118_col0\" class=\"data row118 col0\" >Congo (Brazzaville)</td>\n",
       "                        <td id=\"T_5e8d6992_c025_11ea_b0ff_30d9d9eee573row118_col1\" class=\"data row118 col1\" >2020-07-07 07:33:57</td>\n",
       "                        <td id=\"T_5e8d6992_c025_11ea_b0ff_30d9d9eee573row118_col2\" class=\"data row118 col2\" >-0.228</td>\n",
       "                        <td id=\"T_5e8d6992_c025_11ea_b0ff_30d9d9eee573row118_col3\" class=\"data row118 col3\" >15.8277</td>\n",
       "                        <td id=\"T_5e8d6992_c025_11ea_b0ff_30d9d9eee573row118_col4\" class=\"data row118 col4\" >1557</td>\n",
       "                        <td id=\"T_5e8d6992_c025_11ea_b0ff_30d9d9eee573row118_col5\" class=\"data row118 col5\" >44</td>\n",
       "                        <td id=\"T_5e8d6992_c025_11ea_b0ff_30d9d9eee573row118_col6\" class=\"data row118 col6\" >501</td>\n",
       "                        <td id=\"T_5e8d6992_c025_11ea_b0ff_30d9d9eee573row118_col7\" class=\"data row118 col7\" >1012</td>\n",
       "                        <td id=\"T_5e8d6992_c025_11ea_b0ff_30d9d9eee573row118_col8\" class=\"data row118 col8\" >28.2163</td>\n",
       "                        <td id=\"T_5e8d6992_c025_11ea_b0ff_30d9d9eee573row118_col9\" class=\"data row118 col9\" >nan</td>\n",
       "                        <td id=\"T_5e8d6992_c025_11ea_b0ff_30d9d9eee573row118_col10\" class=\"data row118 col10\" >nan</td>\n",
       "                        <td id=\"T_5e8d6992_c025_11ea_b0ff_30d9d9eee573row118_col11\" class=\"data row118 col11\" >2.82595</td>\n",
       "                        <td id=\"T_5e8d6992_c025_11ea_b0ff_30d9d9eee573row118_col12\" class=\"data row118 col12\" >178</td>\n",
       "                        <td id=\"T_5e8d6992_c025_11ea_b0ff_30d9d9eee573row118_col13\" class=\"data row118 col13\" >COG</td>\n",
       "            </tr>\n",
       "            <tr>\n",
       "                        <th id=\"T_5e8d6992_c025_11ea_b0ff_30d9d9eee573level0_row119\" class=\"row_heading level0 row119\" >157</th>\n",
       "                        <td id=\"T_5e8d6992_c025_11ea_b0ff_30d9d9eee573row119_col0\" class=\"data row119 col0\" >Sierra Leone</td>\n",
       "                        <td id=\"T_5e8d6992_c025_11ea_b0ff_30d9d9eee573row119_col1\" class=\"data row119 col1\" >2020-07-07 07:33:57</td>\n",
       "                        <td id=\"T_5e8d6992_c025_11ea_b0ff_30d9d9eee573row119_col2\" class=\"data row119 col2\" >8.46056</td>\n",
       "                        <td id=\"T_5e8d6992_c025_11ea_b0ff_30d9d9eee573row119_col3\" class=\"data row119 col3\" >-11.7799</td>\n",
       "                        <td id=\"T_5e8d6992_c025_11ea_b0ff_30d9d9eee573row119_col4\" class=\"data row119 col4\" >1547</td>\n",
       "                        <td id=\"T_5e8d6992_c025_11ea_b0ff_30d9d9eee573row119_col5\" class=\"data row119 col5\" >62</td>\n",
       "                        <td id=\"T_5e8d6992_c025_11ea_b0ff_30d9d9eee573row119_col6\" class=\"data row119 col6\" >1086</td>\n",
       "                        <td id=\"T_5e8d6992_c025_11ea_b0ff_30d9d9eee573row119_col7\" class=\"data row119 col7\" >399</td>\n",
       "                        <td id=\"T_5e8d6992_c025_11ea_b0ff_30d9d9eee573row119_col8\" class=\"data row119 col8\" >19.3933</td>\n",
       "                        <td id=\"T_5e8d6992_c025_11ea_b0ff_30d9d9eee573row119_col9\" class=\"data row119 col9\" >nan</td>\n",
       "                        <td id=\"T_5e8d6992_c025_11ea_b0ff_30d9d9eee573row119_col10\" class=\"data row119 col10\" >nan</td>\n",
       "                        <td id=\"T_5e8d6992_c025_11ea_b0ff_30d9d9eee573row119_col11\" class=\"data row119 col11\" >4.00776</td>\n",
       "                        <td id=\"T_5e8d6992_c025_11ea_b0ff_30d9d9eee573row119_col12\" class=\"data row119 col12\" >694</td>\n",
       "                        <td id=\"T_5e8d6992_c025_11ea_b0ff_30d9d9eee573row119_col13\" class=\"data row119 col13\" >SLE</td>\n",
       "            </tr>\n",
       "            <tr>\n",
       "                        <th id=\"T_5e8d6992_c025_11ea_b0ff_30d9d9eee573level0_row120\" class=\"row_heading level0 row120\" >133</th>\n",
       "                        <td id=\"T_5e8d6992_c025_11ea_b0ff_30d9d9eee573row120_col0\" class=\"data row120 col0\" >New Zealand</td>\n",
       "                        <td id=\"T_5e8d6992_c025_11ea_b0ff_30d9d9eee573row120_col1\" class=\"data row120 col1\" >2020-07-07 07:33:57</td>\n",
       "                        <td id=\"T_5e8d6992_c025_11ea_b0ff_30d9d9eee573row120_col2\" class=\"data row120 col2\" >-40.9006</td>\n",
       "                        <td id=\"T_5e8d6992_c025_11ea_b0ff_30d9d9eee573row120_col3\" class=\"data row120 col3\" >174.886</td>\n",
       "                        <td id=\"T_5e8d6992_c025_11ea_b0ff_30d9d9eee573row120_col4\" class=\"data row120 col4\" >1536</td>\n",
       "                        <td id=\"T_5e8d6992_c025_11ea_b0ff_30d9d9eee573row120_col5\" class=\"data row120 col5\" >22</td>\n",
       "                        <td id=\"T_5e8d6992_c025_11ea_b0ff_30d9d9eee573row120_col6\" class=\"data row120 col6\" >1492</td>\n",
       "                        <td id=\"T_5e8d6992_c025_11ea_b0ff_30d9d9eee573row120_col7\" class=\"data row120 col7\" >22</td>\n",
       "                        <td id=\"T_5e8d6992_c025_11ea_b0ff_30d9d9eee573row120_col8\" class=\"data row120 col8\" >31.8525</td>\n",
       "                        <td id=\"T_5e8d6992_c025_11ea_b0ff_30d9d9eee573row120_col9\" class=\"data row120 col9\" >nan</td>\n",
       "                        <td id=\"T_5e8d6992_c025_11ea_b0ff_30d9d9eee573row120_col10\" class=\"data row120 col10\" >nan</td>\n",
       "                        <td id=\"T_5e8d6992_c025_11ea_b0ff_30d9d9eee573row120_col11\" class=\"data row120 col11\" >1.43229</td>\n",
       "                        <td id=\"T_5e8d6992_c025_11ea_b0ff_30d9d9eee573row120_col12\" class=\"data row120 col12\" >554</td>\n",
       "                        <td id=\"T_5e8d6992_c025_11ea_b0ff_30d9d9eee573row120_col13\" class=\"data row120 col13\" >NZL</td>\n",
       "            </tr>\n",
       "            <tr>\n",
       "                        <th id=\"T_5e8d6992_c025_11ea_b0ff_30d9d9eee573level0_row121\" class=\"row_heading level0 row121\" >54</th>\n",
       "                        <td id=\"T_5e8d6992_c025_11ea_b0ff_30d9d9eee573row121_col0\" class=\"data row121 col0\" >Cabo Verde</td>\n",
       "                        <td id=\"T_5e8d6992_c025_11ea_b0ff_30d9d9eee573row121_col1\" class=\"data row121 col1\" >2020-07-07 07:33:57</td>\n",
       "                        <td id=\"T_5e8d6992_c025_11ea_b0ff_30d9d9eee573row121_col2\" class=\"data row121 col2\" >16.5388</td>\n",
       "                        <td id=\"T_5e8d6992_c025_11ea_b0ff_30d9d9eee573row121_col3\" class=\"data row121 col3\" >-23.0418</td>\n",
       "                        <td id=\"T_5e8d6992_c025_11ea_b0ff_30d9d9eee573row121_col4\" class=\"data row121 col4\" >1463</td>\n",
       "                        <td id=\"T_5e8d6992_c025_11ea_b0ff_30d9d9eee573row121_col5\" class=\"data row121 col5\" >17</td>\n",
       "                        <td id=\"T_5e8d6992_c025_11ea_b0ff_30d9d9eee573row121_col6\" class=\"data row121 col6\" >722</td>\n",
       "                        <td id=\"T_5e8d6992_c025_11ea_b0ff_30d9d9eee573row121_col7\" class=\"data row121 col7\" >724</td>\n",
       "                        <td id=\"T_5e8d6992_c025_11ea_b0ff_30d9d9eee573row121_col8\" class=\"data row121 col8\" >263.135</td>\n",
       "                        <td id=\"T_5e8d6992_c025_11ea_b0ff_30d9d9eee573row121_col9\" class=\"data row121 col9\" >nan</td>\n",
       "                        <td id=\"T_5e8d6992_c025_11ea_b0ff_30d9d9eee573row121_col10\" class=\"data row121 col10\" >nan</td>\n",
       "                        <td id=\"T_5e8d6992_c025_11ea_b0ff_30d9d9eee573row121_col11\" class=\"data row121 col11\" >1.162</td>\n",
       "                        <td id=\"T_5e8d6992_c025_11ea_b0ff_30d9d9eee573row121_col12\" class=\"data row121 col12\" >132</td>\n",
       "                        <td id=\"T_5e8d6992_c025_11ea_b0ff_30d9d9eee573row121_col13\" class=\"data row121 col13\" >CPV</td>\n",
       "            </tr>\n",
       "            <tr>\n",
       "                        <th id=\"T_5e8d6992_c025_11ea_b0ff_30d9d9eee573level0_row122\" class=\"row_heading level0 row122\" >185</th>\n",
       "                        <td id=\"T_5e8d6992_c025_11ea_b0ff_30d9d9eee573row122_col0\" class=\"data row122 col0\" >Yemen</td>\n",
       "                        <td id=\"T_5e8d6992_c025_11ea_b0ff_30d9d9eee573row122_col1\" class=\"data row122 col1\" >2020-07-07 07:33:57</td>\n",
       "                        <td id=\"T_5e8d6992_c025_11ea_b0ff_30d9d9eee573row122_col2\" class=\"data row122 col2\" >15.5527</td>\n",
       "                        <td id=\"T_5e8d6992_c025_11ea_b0ff_30d9d9eee573row122_col3\" class=\"data row122 col3\" >48.5164</td>\n",
       "                        <td id=\"T_5e8d6992_c025_11ea_b0ff_30d9d9eee573row122_col4\" class=\"data row122 col4\" >1284</td>\n",
       "                        <td id=\"T_5e8d6992_c025_11ea_b0ff_30d9d9eee573row122_col5\" class=\"data row122 col5\" >345</td>\n",
       "                        <td id=\"T_5e8d6992_c025_11ea_b0ff_30d9d9eee573row122_col6\" class=\"data row122 col6\" >575</td>\n",
       "                        <td id=\"T_5e8d6992_c025_11ea_b0ff_30d9d9eee573row122_col7\" class=\"data row122 col7\" >364</td>\n",
       "                        <td id=\"T_5e8d6992_c025_11ea_b0ff_30d9d9eee573row122_col8\" class=\"data row122 col8\" >4.30497</td>\n",
       "                        <td id=\"T_5e8d6992_c025_11ea_b0ff_30d9d9eee573row122_col9\" class=\"data row122 col9\" >nan</td>\n",
       "                        <td id=\"T_5e8d6992_c025_11ea_b0ff_30d9d9eee573row122_col10\" class=\"data row122 col10\" >nan</td>\n",
       "                        <td id=\"T_5e8d6992_c025_11ea_b0ff_30d9d9eee573row122_col11\" class=\"data row122 col11\" >26.8692</td>\n",
       "                        <td id=\"T_5e8d6992_c025_11ea_b0ff_30d9d9eee573row122_col12\" class=\"data row122 col12\" >887</td>\n",
       "                        <td id=\"T_5e8d6992_c025_11ea_b0ff_30d9d9eee573row122_col13\" class=\"data row122 col13\" >YEM</td>\n",
       "            </tr>\n",
       "            <tr>\n",
       "                        <th id=\"T_5e8d6992_c025_11ea_b0ff_30d9d9eee573level0_row123\" class=\"row_heading level0 row123\" >175</th>\n",
       "                        <td id=\"T_5e8d6992_c025_11ea_b0ff_30d9d9eee573row123_col0\" class=\"data row123 col0\" >Tunisia</td>\n",
       "                        <td id=\"T_5e8d6992_c025_11ea_b0ff_30d9d9eee573row123_col1\" class=\"data row123 col1\" >2020-07-07 07:33:57</td>\n",
       "                        <td id=\"T_5e8d6992_c025_11ea_b0ff_30d9d9eee573row123_col2\" class=\"data row123 col2\" >33.8869</td>\n",
       "                        <td id=\"T_5e8d6992_c025_11ea_b0ff_30d9d9eee573row123_col3\" class=\"data row123 col3\" >9.5375</td>\n",
       "                        <td id=\"T_5e8d6992_c025_11ea_b0ff_30d9d9eee573row123_col4\" class=\"data row123 col4\" >1199</td>\n",
       "                        <td id=\"T_5e8d6992_c025_11ea_b0ff_30d9d9eee573row123_col5\" class=\"data row123 col5\" >50</td>\n",
       "                        <td id=\"T_5e8d6992_c025_11ea_b0ff_30d9d9eee573row123_col6\" class=\"data row123 col6\" >1049</td>\n",
       "                        <td id=\"T_5e8d6992_c025_11ea_b0ff_30d9d9eee573row123_col7\" class=\"data row123 col7\" >100</td>\n",
       "                        <td id=\"T_5e8d6992_c025_11ea_b0ff_30d9d9eee573row123_col8\" class=\"data row123 col8\" >10.145</td>\n",
       "                        <td id=\"T_5e8d6992_c025_11ea_b0ff_30d9d9eee573row123_col9\" class=\"data row123 col9\" >nan</td>\n",
       "                        <td id=\"T_5e8d6992_c025_11ea_b0ff_30d9d9eee573row123_col10\" class=\"data row123 col10\" >nan</td>\n",
       "                        <td id=\"T_5e8d6992_c025_11ea_b0ff_30d9d9eee573row123_col11\" class=\"data row123 col11\" >4.17014</td>\n",
       "                        <td id=\"T_5e8d6992_c025_11ea_b0ff_30d9d9eee573row123_col12\" class=\"data row123 col12\" >788</td>\n",
       "                        <td id=\"T_5e8d6992_c025_11ea_b0ff_30d9d9eee573row123_col13\" class=\"data row123 col13\" >TUN</td>\n",
       "            </tr>\n",
       "            <tr>\n",
       "                        <th id=\"T_5e8d6992_c025_11ea_b0ff_30d9d9eee573level0_row124\" class=\"row_heading level0 row124\" >44</th>\n",
       "                        <td id=\"T_5e8d6992_c025_11ea_b0ff_30d9d9eee573row124_col0\" class=\"data row124 col0\" >Benin</td>\n",
       "                        <td id=\"T_5e8d6992_c025_11ea_b0ff_30d9d9eee573row124_col1\" class=\"data row124 col1\" >2020-07-07 07:33:57</td>\n",
       "                        <td id=\"T_5e8d6992_c025_11ea_b0ff_30d9d9eee573row124_col2\" class=\"data row124 col2\" >9.3077</td>\n",
       "                        <td id=\"T_5e8d6992_c025_11ea_b0ff_30d9d9eee573row124_col3\" class=\"data row124 col3\" >2.3158</td>\n",
       "                        <td id=\"T_5e8d6992_c025_11ea_b0ff_30d9d9eee573row124_col4\" class=\"data row124 col4\" >1199</td>\n",
       "                        <td id=\"T_5e8d6992_c025_11ea_b0ff_30d9d9eee573row124_col5\" class=\"data row124 col5\" >21</td>\n",
       "                        <td id=\"T_5e8d6992_c025_11ea_b0ff_30d9d9eee573row124_col6\" class=\"data row124 col6\" >333</td>\n",
       "                        <td id=\"T_5e8d6992_c025_11ea_b0ff_30d9d9eee573row124_col7\" class=\"data row124 col7\" >845</td>\n",
       "                        <td id=\"T_5e8d6992_c025_11ea_b0ff_30d9d9eee573row124_col8\" class=\"data row124 col8\" >9.89013</td>\n",
       "                        <td id=\"T_5e8d6992_c025_11ea_b0ff_30d9d9eee573row124_col9\" class=\"data row124 col9\" >nan</td>\n",
       "                        <td id=\"T_5e8d6992_c025_11ea_b0ff_30d9d9eee573row124_col10\" class=\"data row124 col10\" >nan</td>\n",
       "                        <td id=\"T_5e8d6992_c025_11ea_b0ff_30d9d9eee573row124_col11\" class=\"data row124 col11\" >1.75146</td>\n",
       "                        <td id=\"T_5e8d6992_c025_11ea_b0ff_30d9d9eee573row124_col12\" class=\"data row124 col12\" >204</td>\n",
       "                        <td id=\"T_5e8d6992_c025_11ea_b0ff_30d9d9eee573row124_col13\" class=\"data row124 col13\" >BEN</td>\n",
       "            </tr>\n",
       "            <tr>\n",
       "                        <th id=\"T_5e8d6992_c025_11ea_b0ff_30d9d9eee573level0_row125\" class=\"row_heading level0 row125\" >100</th>\n",
       "                        <td id=\"T_5e8d6992_c025_11ea_b0ff_30d9d9eee573row125_col0\" class=\"data row125 col0\" >Jordan</td>\n",
       "                        <td id=\"T_5e8d6992_c025_11ea_b0ff_30d9d9eee573row125_col1\" class=\"data row125 col1\" >2020-07-07 07:33:57</td>\n",
       "                        <td id=\"T_5e8d6992_c025_11ea_b0ff_30d9d9eee573row125_col2\" class=\"data row125 col2\" >31.24</td>\n",
       "                        <td id=\"T_5e8d6992_c025_11ea_b0ff_30d9d9eee573row125_col3\" class=\"data row125 col3\" >36.51</td>\n",
       "                        <td id=\"T_5e8d6992_c025_11ea_b0ff_30d9d9eee573row125_col4\" class=\"data row125 col4\" >1167</td>\n",
       "                        <td id=\"T_5e8d6992_c025_11ea_b0ff_30d9d9eee573row125_col5\" class=\"data row125 col5\" >10</td>\n",
       "                        <td id=\"T_5e8d6992_c025_11ea_b0ff_30d9d9eee573row125_col6\" class=\"data row125 col6\" >957</td>\n",
       "                        <td id=\"T_5e8d6992_c025_11ea_b0ff_30d9d9eee573row125_col7\" class=\"data row125 col7\" >200</td>\n",
       "                        <td id=\"T_5e8d6992_c025_11ea_b0ff_30d9d9eee573row125_col8\" class=\"data row125 col8\" >11.4377</td>\n",
       "                        <td id=\"T_5e8d6992_c025_11ea_b0ff_30d9d9eee573row125_col9\" class=\"data row125 col9\" >nan</td>\n",
       "                        <td id=\"T_5e8d6992_c025_11ea_b0ff_30d9d9eee573row125_col10\" class=\"data row125 col10\" >nan</td>\n",
       "                        <td id=\"T_5e8d6992_c025_11ea_b0ff_30d9d9eee573row125_col11\" class=\"data row125 col11\" >0.856898</td>\n",
       "                        <td id=\"T_5e8d6992_c025_11ea_b0ff_30d9d9eee573row125_col12\" class=\"data row125 col12\" >400</td>\n",
       "                        <td id=\"T_5e8d6992_c025_11ea_b0ff_30d9d9eee573row125_col13\" class=\"data row125 col13\" >JOR</td>\n",
       "            </tr>\n",
       "            <tr>\n",
       "                        <th id=\"T_5e8d6992_c025_11ea_b0ff_30d9d9eee573level0_row126\" class=\"row_heading level0 row126\" >108</th>\n",
       "                        <td id=\"T_5e8d6992_c025_11ea_b0ff_30d9d9eee573row126_col0\" class=\"data row126 col0\" >Latvia</td>\n",
       "                        <td id=\"T_5e8d6992_c025_11ea_b0ff_30d9d9eee573row126_col1\" class=\"data row126 col1\" >2020-07-07 07:33:57</td>\n",
       "                        <td id=\"T_5e8d6992_c025_11ea_b0ff_30d9d9eee573row126_col2\" class=\"data row126 col2\" >56.8796</td>\n",
       "                        <td id=\"T_5e8d6992_c025_11ea_b0ff_30d9d9eee573row126_col3\" class=\"data row126 col3\" >24.6032</td>\n",
       "                        <td id=\"T_5e8d6992_c025_11ea_b0ff_30d9d9eee573row126_col4\" class=\"data row126 col4\" >1134</td>\n",
       "                        <td id=\"T_5e8d6992_c025_11ea_b0ff_30d9d9eee573row126_col5\" class=\"data row126 col5\" >30</td>\n",
       "                        <td id=\"T_5e8d6992_c025_11ea_b0ff_30d9d9eee573row126_col6\" class=\"data row126 col6\" >1008</td>\n",
       "                        <td id=\"T_5e8d6992_c025_11ea_b0ff_30d9d9eee573row126_col7\" class=\"data row126 col7\" >96</td>\n",
       "                        <td id=\"T_5e8d6992_c025_11ea_b0ff_30d9d9eee573row126_col8\" class=\"data row126 col8\" >60.1208</td>\n",
       "                        <td id=\"T_5e8d6992_c025_11ea_b0ff_30d9d9eee573row126_col9\" class=\"data row126 col9\" >nan</td>\n",
       "                        <td id=\"T_5e8d6992_c025_11ea_b0ff_30d9d9eee573row126_col10\" class=\"data row126 col10\" >nan</td>\n",
       "                        <td id=\"T_5e8d6992_c025_11ea_b0ff_30d9d9eee573row126_col11\" class=\"data row126 col11\" >2.6455</td>\n",
       "                        <td id=\"T_5e8d6992_c025_11ea_b0ff_30d9d9eee573row126_col12\" class=\"data row126 col12\" >428</td>\n",
       "                        <td id=\"T_5e8d6992_c025_11ea_b0ff_30d9d9eee573row126_col13\" class=\"data row126 col13\" >LVA</td>\n",
       "            </tr>\n",
       "            <tr>\n",
       "                        <th id=\"T_5e8d6992_c025_11ea_b0ff_30d9d9eee573level0_row127\" class=\"row_heading level0 row127\" >112</th>\n",
       "                        <td id=\"T_5e8d6992_c025_11ea_b0ff_30d9d9eee573row127_col0\" class=\"data row127 col0\" >Libya</td>\n",
       "                        <td id=\"T_5e8d6992_c025_11ea_b0ff_30d9d9eee573row127_col1\" class=\"data row127 col1\" >2020-07-07 07:33:57</td>\n",
       "                        <td id=\"T_5e8d6992_c025_11ea_b0ff_30d9d9eee573row127_col2\" class=\"data row127 col2\" >26.3351</td>\n",
       "                        <td id=\"T_5e8d6992_c025_11ea_b0ff_30d9d9eee573row127_col3\" class=\"data row127 col3\" >17.2283</td>\n",
       "                        <td id=\"T_5e8d6992_c025_11ea_b0ff_30d9d9eee573row127_col4\" class=\"data row127 col4\" >1117</td>\n",
       "                        <td id=\"T_5e8d6992_c025_11ea_b0ff_30d9d9eee573row127_col5\" class=\"data row127 col5\" >34</td>\n",
       "                        <td id=\"T_5e8d6992_c025_11ea_b0ff_30d9d9eee573row127_col6\" class=\"data row127 col6\" >269</td>\n",
       "                        <td id=\"T_5e8d6992_c025_11ea_b0ff_30d9d9eee573row127_col7\" class=\"data row127 col7\" >814</td>\n",
       "                        <td id=\"T_5e8d6992_c025_11ea_b0ff_30d9d9eee573row127_col8\" class=\"data row127 col8\" >16.2561</td>\n",
       "                        <td id=\"T_5e8d6992_c025_11ea_b0ff_30d9d9eee573row127_col9\" class=\"data row127 col9\" >nan</td>\n",
       "                        <td id=\"T_5e8d6992_c025_11ea_b0ff_30d9d9eee573row127_col10\" class=\"data row127 col10\" >nan</td>\n",
       "                        <td id=\"T_5e8d6992_c025_11ea_b0ff_30d9d9eee573row127_col11\" class=\"data row127 col11\" >3.04387</td>\n",
       "                        <td id=\"T_5e8d6992_c025_11ea_b0ff_30d9d9eee573row127_col12\" class=\"data row127 col12\" >434</td>\n",
       "                        <td id=\"T_5e8d6992_c025_11ea_b0ff_30d9d9eee573row127_col13\" class=\"data row127 col13\" >LBY</td>\n",
       "            </tr>\n",
       "            <tr>\n",
       "                        <th id=\"T_5e8d6992_c025_11ea_b0ff_30d9d9eee573level0_row128\" class=\"row_heading level0 row128\" >147</th>\n",
       "                        <td id=\"T_5e8d6992_c025_11ea_b0ff_30d9d9eee573row128_col0\" class=\"data row128 col0\" >Rwanda</td>\n",
       "                        <td id=\"T_5e8d6992_c025_11ea_b0ff_30d9d9eee573row128_col1\" class=\"data row128 col1\" >2020-07-07 07:33:57</td>\n",
       "                        <td id=\"T_5e8d6992_c025_11ea_b0ff_30d9d9eee573row128_col2\" class=\"data row128 col2\" >-1.9403</td>\n",
       "                        <td id=\"T_5e8d6992_c025_11ea_b0ff_30d9d9eee573row128_col3\" class=\"data row128 col3\" >29.8739</td>\n",
       "                        <td id=\"T_5e8d6992_c025_11ea_b0ff_30d9d9eee573row128_col4\" class=\"data row128 col4\" >1113</td>\n",
       "                        <td id=\"T_5e8d6992_c025_11ea_b0ff_30d9d9eee573row128_col5\" class=\"data row128 col5\" >3</td>\n",
       "                        <td id=\"T_5e8d6992_c025_11ea_b0ff_30d9d9eee573row128_col6\" class=\"data row128 col6\" >575</td>\n",
       "                        <td id=\"T_5e8d6992_c025_11ea_b0ff_30d9d9eee573row128_col7\" class=\"data row128 col7\" >535</td>\n",
       "                        <td id=\"T_5e8d6992_c025_11ea_b0ff_30d9d9eee573row128_col8\" class=\"data row128 col8\" >8.59313</td>\n",
       "                        <td id=\"T_5e8d6992_c025_11ea_b0ff_30d9d9eee573row128_col9\" class=\"data row128 col9\" >nan</td>\n",
       "                        <td id=\"T_5e8d6992_c025_11ea_b0ff_30d9d9eee573row128_col10\" class=\"data row128 col10\" >nan</td>\n",
       "                        <td id=\"T_5e8d6992_c025_11ea_b0ff_30d9d9eee573row128_col11\" class=\"data row128 col11\" >0.269542</td>\n",
       "                        <td id=\"T_5e8d6992_c025_11ea_b0ff_30d9d9eee573row128_col12\" class=\"data row128 col12\" >646</td>\n",
       "                        <td id=\"T_5e8d6992_c025_11ea_b0ff_30d9d9eee573row128_col13\" class=\"data row128 col13\" >RWA</td>\n",
       "            </tr>\n",
       "            <tr>\n",
       "                        <th id=\"T_5e8d6992_c025_11ea_b0ff_30d9d9eee573level0_row129\" class=\"row_heading level0 row129\" >135</th>\n",
       "                        <td id=\"T_5e8d6992_c025_11ea_b0ff_30d9d9eee573row129_col0\" class=\"data row129 col0\" >Niger</td>\n",
       "                        <td id=\"T_5e8d6992_c025_11ea_b0ff_30d9d9eee573row129_col1\" class=\"data row129 col1\" >2020-07-07 07:33:57</td>\n",
       "                        <td id=\"T_5e8d6992_c025_11ea_b0ff_30d9d9eee573row129_col2\" class=\"data row129 col2\" >17.6078</td>\n",
       "                        <td id=\"T_5e8d6992_c025_11ea_b0ff_30d9d9eee573row129_col3\" class=\"data row129 col3\" >8.08167</td>\n",
       "                        <td id=\"T_5e8d6992_c025_11ea_b0ff_30d9d9eee573row129_col4\" class=\"data row129 col4\" >1093</td>\n",
       "                        <td id=\"T_5e8d6992_c025_11ea_b0ff_30d9d9eee573row129_col5\" class=\"data row129 col5\" >68</td>\n",
       "                        <td id=\"T_5e8d6992_c025_11ea_b0ff_30d9d9eee573row129_col6\" class=\"data row129 col6\" >968</td>\n",
       "                        <td id=\"T_5e8d6992_c025_11ea_b0ff_30d9d9eee573row129_col7\" class=\"data row129 col7\" >57</td>\n",
       "                        <td id=\"T_5e8d6992_c025_11ea_b0ff_30d9d9eee573row129_col8\" class=\"data row129 col8\" >4.51529</td>\n",
       "                        <td id=\"T_5e8d6992_c025_11ea_b0ff_30d9d9eee573row129_col9\" class=\"data row129 col9\" >nan</td>\n",
       "                        <td id=\"T_5e8d6992_c025_11ea_b0ff_30d9d9eee573row129_col10\" class=\"data row129 col10\" >nan</td>\n",
       "                        <td id=\"T_5e8d6992_c025_11ea_b0ff_30d9d9eee573row129_col11\" class=\"data row129 col11\" >6.22141</td>\n",
       "                        <td id=\"T_5e8d6992_c025_11ea_b0ff_30d9d9eee573row129_col12\" class=\"data row129 col12\" >562</td>\n",
       "                        <td id=\"T_5e8d6992_c025_11ea_b0ff_30d9d9eee573row129_col13\" class=\"data row129 col13\" >NER</td>\n",
       "            </tr>\n",
       "            <tr>\n",
       "                        <th id=\"T_5e8d6992_c025_11ea_b0ff_30d9d9eee573level0_row130\" class=\"row_heading level0 row130\" >130</th>\n",
       "                        <td id=\"T_5e8d6992_c025_11ea_b0ff_30d9d9eee573row130_col0\" class=\"data row130 col0\" >Mozambique</td>\n",
       "                        <td id=\"T_5e8d6992_c025_11ea_b0ff_30d9d9eee573row130_col1\" class=\"data row130 col1\" >2020-07-07 07:33:57</td>\n",
       "                        <td id=\"T_5e8d6992_c025_11ea_b0ff_30d9d9eee573row130_col2\" class=\"data row130 col2\" >-18.6657</td>\n",
       "                        <td id=\"T_5e8d6992_c025_11ea_b0ff_30d9d9eee573row130_col3\" class=\"data row130 col3\" >35.5296</td>\n",
       "                        <td id=\"T_5e8d6992_c025_11ea_b0ff_30d9d9eee573row130_col4\" class=\"data row130 col4\" >1012</td>\n",
       "                        <td id=\"T_5e8d6992_c025_11ea_b0ff_30d9d9eee573row130_col5\" class=\"data row130 col5\" >8</td>\n",
       "                        <td id=\"T_5e8d6992_c025_11ea_b0ff_30d9d9eee573row130_col6\" class=\"data row130 col6\" >277</td>\n",
       "                        <td id=\"T_5e8d6992_c025_11ea_b0ff_30d9d9eee573row130_col7\" class=\"data row130 col7\" >727</td>\n",
       "                        <td id=\"T_5e8d6992_c025_11ea_b0ff_30d9d9eee573row130_col8\" class=\"data row130 col8\" >3.23784</td>\n",
       "                        <td id=\"T_5e8d6992_c025_11ea_b0ff_30d9d9eee573row130_col9\" class=\"data row130 col9\" >nan</td>\n",
       "                        <td id=\"T_5e8d6992_c025_11ea_b0ff_30d9d9eee573row130_col10\" class=\"data row130 col10\" >nan</td>\n",
       "                        <td id=\"T_5e8d6992_c025_11ea_b0ff_30d9d9eee573row130_col11\" class=\"data row130 col11\" >0.790514</td>\n",
       "                        <td id=\"T_5e8d6992_c025_11ea_b0ff_30d9d9eee573row130_col12\" class=\"data row130 col12\" >508</td>\n",
       "                        <td id=\"T_5e8d6992_c025_11ea_b0ff_30d9d9eee573row130_col13\" class=\"data row130 col13\" >MOZ</td>\n",
       "            </tr>\n",
       "            <tr>\n",
       "                        <th id=\"T_5e8d6992_c025_11ea_b0ff_30d9d9eee573level0_row131\" class=\"row_heading level0 row131\" >78</th>\n",
       "                        <td id=\"T_5e8d6992_c025_11ea_b0ff_30d9d9eee573row131_col0\" class=\"data row131 col0\" >Eswatini</td>\n",
       "                        <td id=\"T_5e8d6992_c025_11ea_b0ff_30d9d9eee573row131_col1\" class=\"data row131 col1\" >2020-07-07 07:33:57</td>\n",
       "                        <td id=\"T_5e8d6992_c025_11ea_b0ff_30d9d9eee573row131_col2\" class=\"data row131 col2\" >-26.5225</td>\n",
       "                        <td id=\"T_5e8d6992_c025_11ea_b0ff_30d9d9eee573row131_col3\" class=\"data row131 col3\" >31.4659</td>\n",
       "                        <td id=\"T_5e8d6992_c025_11ea_b0ff_30d9d9eee573row131_col4\" class=\"data row131 col4\" >1011</td>\n",
       "                        <td id=\"T_5e8d6992_c025_11ea_b0ff_30d9d9eee573row131_col5\" class=\"data row131 col5\" >13</td>\n",
       "                        <td id=\"T_5e8d6992_c025_11ea_b0ff_30d9d9eee573row131_col6\" class=\"data row131 col6\" >564</td>\n",
       "                        <td id=\"T_5e8d6992_c025_11ea_b0ff_30d9d9eee573row131_col7\" class=\"data row131 col7\" >434</td>\n",
       "                        <td id=\"T_5e8d6992_c025_11ea_b0ff_30d9d9eee573row131_col8\" class=\"data row131 col8\" >87.1429</td>\n",
       "                        <td id=\"T_5e8d6992_c025_11ea_b0ff_30d9d9eee573row131_col9\" class=\"data row131 col9\" >nan</td>\n",
       "                        <td id=\"T_5e8d6992_c025_11ea_b0ff_30d9d9eee573row131_col10\" class=\"data row131 col10\" >nan</td>\n",
       "                        <td id=\"T_5e8d6992_c025_11ea_b0ff_30d9d9eee573row131_col11\" class=\"data row131 col11\" >1.28586</td>\n",
       "                        <td id=\"T_5e8d6992_c025_11ea_b0ff_30d9d9eee573row131_col12\" class=\"data row131 col12\" >748</td>\n",
       "                        <td id=\"T_5e8d6992_c025_11ea_b0ff_30d9d9eee573row131_col13\" class=\"data row131 col13\" >SWZ</td>\n",
       "            </tr>\n",
       "            <tr>\n",
       "                        <th id=\"T_5e8d6992_c025_11ea_b0ff_30d9d9eee573level0_row132\" class=\"row_heading level0 row132\" >66</th>\n",
       "                        <td id=\"T_5e8d6992_c025_11ea_b0ff_30d9d9eee573row132_col0\" class=\"data row132 col0\" >Cyprus</td>\n",
       "                        <td id=\"T_5e8d6992_c025_11ea_b0ff_30d9d9eee573row132_col1\" class=\"data row132 col1\" >2020-07-07 07:33:57</td>\n",
       "                        <td id=\"T_5e8d6992_c025_11ea_b0ff_30d9d9eee573row132_col2\" class=\"data row132 col2\" >35.1264</td>\n",
       "                        <td id=\"T_5e8d6992_c025_11ea_b0ff_30d9d9eee573row132_col3\" class=\"data row132 col3\" >33.4299</td>\n",
       "                        <td id=\"T_5e8d6992_c025_11ea_b0ff_30d9d9eee573row132_col4\" class=\"data row132 col4\" >1004</td>\n",
       "                        <td id=\"T_5e8d6992_c025_11ea_b0ff_30d9d9eee573row132_col5\" class=\"data row132 col5\" >19</td>\n",
       "                        <td id=\"T_5e8d6992_c025_11ea_b0ff_30d9d9eee573row132_col6\" class=\"data row132 col6\" >839</td>\n",
       "                        <td id=\"T_5e8d6992_c025_11ea_b0ff_30d9d9eee573row132_col7\" class=\"data row132 col7\" >146</td>\n",
       "                        <td id=\"T_5e8d6992_c025_11ea_b0ff_30d9d9eee573row132_col8\" class=\"data row132 col8\" >83.1566</td>\n",
       "                        <td id=\"T_5e8d6992_c025_11ea_b0ff_30d9d9eee573row132_col9\" class=\"data row132 col9\" >nan</td>\n",
       "                        <td id=\"T_5e8d6992_c025_11ea_b0ff_30d9d9eee573row132_col10\" class=\"data row132 col10\" >nan</td>\n",
       "                        <td id=\"T_5e8d6992_c025_11ea_b0ff_30d9d9eee573row132_col11\" class=\"data row132 col11\" >1.89243</td>\n",
       "                        <td id=\"T_5e8d6992_c025_11ea_b0ff_30d9d9eee573row132_col12\" class=\"data row132 col12\" >196</td>\n",
       "                        <td id=\"T_5e8d6992_c025_11ea_b0ff_30d9d9eee573row132_col13\" class=\"data row132 col13\" >CYP</td>\n",
       "            </tr>\n",
       "            <tr>\n",
       "                        <th id=\"T_5e8d6992_c025_11ea_b0ff_30d9d9eee573level0_row133\" class=\"row_heading level0 row133\" >51</th>\n",
       "                        <td id=\"T_5e8d6992_c025_11ea_b0ff_30d9d9eee573row133_col0\" class=\"data row133 col0\" >Burkina Faso</td>\n",
       "                        <td id=\"T_5e8d6992_c025_11ea_b0ff_30d9d9eee573row133_col1\" class=\"data row133 col1\" >2020-07-07 07:33:57</td>\n",
       "                        <td id=\"T_5e8d6992_c025_11ea_b0ff_30d9d9eee573row133_col2\" class=\"data row133 col2\" >12.2383</td>\n",
       "                        <td id=\"T_5e8d6992_c025_11ea_b0ff_30d9d9eee573row133_col3\" class=\"data row133 col3\" >-1.5616</td>\n",
       "                        <td id=\"T_5e8d6992_c025_11ea_b0ff_30d9d9eee573row133_col4\" class=\"data row133 col4\" >1000</td>\n",
       "                        <td id=\"T_5e8d6992_c025_11ea_b0ff_30d9d9eee573row133_col5\" class=\"data row133 col5\" >53</td>\n",
       "                        <td id=\"T_5e8d6992_c025_11ea_b0ff_30d9d9eee573row133_col6\" class=\"data row133 col6\" >858</td>\n",
       "                        <td id=\"T_5e8d6992_c025_11ea_b0ff_30d9d9eee573row133_col7\" class=\"data row133 col7\" >89</td>\n",
       "                        <td id=\"T_5e8d6992_c025_11ea_b0ff_30d9d9eee573row133_col8\" class=\"data row133 col8\" >4.78394</td>\n",
       "                        <td id=\"T_5e8d6992_c025_11ea_b0ff_30d9d9eee573row133_col9\" class=\"data row133 col9\" >nan</td>\n",
       "                        <td id=\"T_5e8d6992_c025_11ea_b0ff_30d9d9eee573row133_col10\" class=\"data row133 col10\" >nan</td>\n",
       "                        <td id=\"T_5e8d6992_c025_11ea_b0ff_30d9d9eee573row133_col11\" class=\"data row133 col11\" >5.3</td>\n",
       "                        <td id=\"T_5e8d6992_c025_11ea_b0ff_30d9d9eee573row133_col12\" class=\"data row133 col12\" >854</td>\n",
       "                        <td id=\"T_5e8d6992_c025_11ea_b0ff_30d9d9eee573row133_col13\" class=\"data row133 col13\" >BFA</td>\n",
       "            </tr>\n",
       "            <tr>\n",
       "                        <th id=\"T_5e8d6992_c025_11ea_b0ff_30d9d9eee573level0_row134\" class=\"row_heading level0 row134\" >179</th>\n",
       "                        <td id=\"T_5e8d6992_c025_11ea_b0ff_30d9d9eee573row134_col0\" class=\"data row134 col0\" >Uruguay</td>\n",
       "                        <td id=\"T_5e8d6992_c025_11ea_b0ff_30d9d9eee573row134_col1\" class=\"data row134 col1\" >2020-07-07 07:33:57</td>\n",
       "                        <td id=\"T_5e8d6992_c025_11ea_b0ff_30d9d9eee573row134_col2\" class=\"data row134 col2\" >-32.5228</td>\n",
       "                        <td id=\"T_5e8d6992_c025_11ea_b0ff_30d9d9eee573row134_col3\" class=\"data row134 col3\" >-55.7658</td>\n",
       "                        <td id=\"T_5e8d6992_c025_11ea_b0ff_30d9d9eee573row134_col4\" class=\"data row134 col4\" >960</td>\n",
       "                        <td id=\"T_5e8d6992_c025_11ea_b0ff_30d9d9eee573row134_col5\" class=\"data row134 col5\" >29</td>\n",
       "                        <td id=\"T_5e8d6992_c025_11ea_b0ff_30d9d9eee573row134_col6\" class=\"data row134 col6\" >858</td>\n",
       "                        <td id=\"T_5e8d6992_c025_11ea_b0ff_30d9d9eee573row134_col7\" class=\"data row134 col7\" >73</td>\n",
       "                        <td id=\"T_5e8d6992_c025_11ea_b0ff_30d9d9eee573row134_col8\" class=\"data row134 col8\" >27.636</td>\n",
       "                        <td id=\"T_5e8d6992_c025_11ea_b0ff_30d9d9eee573row134_col9\" class=\"data row134 col9\" >nan</td>\n",
       "                        <td id=\"T_5e8d6992_c025_11ea_b0ff_30d9d9eee573row134_col10\" class=\"data row134 col10\" >nan</td>\n",
       "                        <td id=\"T_5e8d6992_c025_11ea_b0ff_30d9d9eee573row134_col11\" class=\"data row134 col11\" >3.02083</td>\n",
       "                        <td id=\"T_5e8d6992_c025_11ea_b0ff_30d9d9eee573row134_col12\" class=\"data row134 col12\" >858</td>\n",
       "                        <td id=\"T_5e8d6992_c025_11ea_b0ff_30d9d9eee573row134_col13\" class=\"data row134 col13\" >URY</td>\n",
       "            </tr>\n",
       "            <tr>\n",
       "                        <th id=\"T_5e8d6992_c025_11ea_b0ff_30d9d9eee573level0_row135\" class=\"row_heading level0 row135\" >83</th>\n",
       "                        <td id=\"T_5e8d6992_c025_11ea_b0ff_30d9d9eee573row135_col0\" class=\"data row135 col0\" >Georgia</td>\n",
       "                        <td id=\"T_5e8d6992_c025_11ea_b0ff_30d9d9eee573row135_col1\" class=\"data row135 col1\" >2020-07-07 07:33:57</td>\n",
       "                        <td id=\"T_5e8d6992_c025_11ea_b0ff_30d9d9eee573row135_col2\" class=\"data row135 col2\" >42.3154</td>\n",
       "                        <td id=\"T_5e8d6992_c025_11ea_b0ff_30d9d9eee573row135_col3\" class=\"data row135 col3\" >43.3569</td>\n",
       "                        <td id=\"T_5e8d6992_c025_11ea_b0ff_30d9d9eee573row135_col4\" class=\"data row135 col4\" >958</td>\n",
       "                        <td id=\"T_5e8d6992_c025_11ea_b0ff_30d9d9eee573row135_col5\" class=\"data row135 col5\" >15</td>\n",
       "                        <td id=\"T_5e8d6992_c025_11ea_b0ff_30d9d9eee573row135_col6\" class=\"data row135 col6\" >838</td>\n",
       "                        <td id=\"T_5e8d6992_c025_11ea_b0ff_30d9d9eee573row135_col7\" class=\"data row135 col7\" >105</td>\n",
       "                        <td id=\"T_5e8d6992_c025_11ea_b0ff_30d9d9eee573row135_col8\" class=\"data row135 col8\" >24.015</td>\n",
       "                        <td id=\"T_5e8d6992_c025_11ea_b0ff_30d9d9eee573row135_col9\" class=\"data row135 col9\" >nan</td>\n",
       "                        <td id=\"T_5e8d6992_c025_11ea_b0ff_30d9d9eee573row135_col10\" class=\"data row135 col10\" >nan</td>\n",
       "                        <td id=\"T_5e8d6992_c025_11ea_b0ff_30d9d9eee573row135_col11\" class=\"data row135 col11\" >1.56576</td>\n",
       "                        <td id=\"T_5e8d6992_c025_11ea_b0ff_30d9d9eee573row135_col12\" class=\"data row135 col12\" >268</td>\n",
       "                        <td id=\"T_5e8d6992_c025_11ea_b0ff_30d9d9eee573row135_col13\" class=\"data row135 col13\" >GEO</td>\n",
       "            </tr>\n",
       "            <tr>\n",
       "                        <th id=\"T_5e8d6992_c025_11ea_b0ff_30d9d9eee573level0_row136\" class=\"row_heading level0 row136\" >177</th>\n",
       "                        <td id=\"T_5e8d6992_c025_11ea_b0ff_30d9d9eee573row136_col0\" class=\"data row136 col0\" >Uganda</td>\n",
       "                        <td id=\"T_5e8d6992_c025_11ea_b0ff_30d9d9eee573row136_col1\" class=\"data row136 col1\" >2020-07-07 07:33:57</td>\n",
       "                        <td id=\"T_5e8d6992_c025_11ea_b0ff_30d9d9eee573row136_col2\" class=\"data row136 col2\" >1.37333</td>\n",
       "                        <td id=\"T_5e8d6992_c025_11ea_b0ff_30d9d9eee573row136_col3\" class=\"data row136 col3\" >32.2903</td>\n",
       "                        <td id=\"T_5e8d6992_c025_11ea_b0ff_30d9d9eee573row136_col4\" class=\"data row136 col4\" >953</td>\n",
       "                        <td id=\"T_5e8d6992_c025_11ea_b0ff_30d9d9eee573row136_col5\" class=\"data row136 col5\" >0</td>\n",
       "                        <td id=\"T_5e8d6992_c025_11ea_b0ff_30d9d9eee573row136_col6\" class=\"data row136 col6\" >892</td>\n",
       "                        <td id=\"T_5e8d6992_c025_11ea_b0ff_30d9d9eee573row136_col7\" class=\"data row136 col7\" >61</td>\n",
       "                        <td id=\"T_5e8d6992_c025_11ea_b0ff_30d9d9eee573row136_col8\" class=\"data row136 col8\" >2.08347</td>\n",
       "                        <td id=\"T_5e8d6992_c025_11ea_b0ff_30d9d9eee573row136_col9\" class=\"data row136 col9\" >nan</td>\n",
       "                        <td id=\"T_5e8d6992_c025_11ea_b0ff_30d9d9eee573row136_col10\" class=\"data row136 col10\" >nan</td>\n",
       "                        <td id=\"T_5e8d6992_c025_11ea_b0ff_30d9d9eee573row136_col11\" class=\"data row136 col11\" >0</td>\n",
       "                        <td id=\"T_5e8d6992_c025_11ea_b0ff_30d9d9eee573row136_col12\" class=\"data row136 col12\" >800</td>\n",
       "                        <td id=\"T_5e8d6992_c025_11ea_b0ff_30d9d9eee573row136_col13\" class=\"data row136 col13\" >UGA</td>\n",
       "            </tr>\n",
       "            <tr>\n",
       "                        <th id=\"T_5e8d6992_c025_11ea_b0ff_30d9d9eee573level0_row137\" class=\"row_heading level0 row137\" >111</th>\n",
       "                        <td id=\"T_5e8d6992_c025_11ea_b0ff_30d9d9eee573row137_col0\" class=\"data row137 col0\" >Liberia</td>\n",
       "                        <td id=\"T_5e8d6992_c025_11ea_b0ff_30d9d9eee573row137_col1\" class=\"data row137 col1\" >2020-07-07 07:33:57</td>\n",
       "                        <td id=\"T_5e8d6992_c025_11ea_b0ff_30d9d9eee573row137_col2\" class=\"data row137 col2\" >6.42806</td>\n",
       "                        <td id=\"T_5e8d6992_c025_11ea_b0ff_30d9d9eee573row137_col3\" class=\"data row137 col3\" >-9.4295</td>\n",
       "                        <td id=\"T_5e8d6992_c025_11ea_b0ff_30d9d9eee573row137_col4\" class=\"data row137 col4\" >891</td>\n",
       "                        <td id=\"T_5e8d6992_c025_11ea_b0ff_30d9d9eee573row137_col5\" class=\"data row137 col5\" >39</td>\n",
       "                        <td id=\"T_5e8d6992_c025_11ea_b0ff_30d9d9eee573row137_col6\" class=\"data row137 col6\" >377</td>\n",
       "                        <td id=\"T_5e8d6992_c025_11ea_b0ff_30d9d9eee573row137_col7\" class=\"data row137 col7\" >475</td>\n",
       "                        <td id=\"T_5e8d6992_c025_11ea_b0ff_30d9d9eee573row137_col8\" class=\"data row137 col8\" >17.6168</td>\n",
       "                        <td id=\"T_5e8d6992_c025_11ea_b0ff_30d9d9eee573row137_col9\" class=\"data row137 col9\" >nan</td>\n",
       "                        <td id=\"T_5e8d6992_c025_11ea_b0ff_30d9d9eee573row137_col10\" class=\"data row137 col10\" >nan</td>\n",
       "                        <td id=\"T_5e8d6992_c025_11ea_b0ff_30d9d9eee573row137_col11\" class=\"data row137 col11\" >4.3771</td>\n",
       "                        <td id=\"T_5e8d6992_c025_11ea_b0ff_30d9d9eee573row137_col12\" class=\"data row137 col12\" >430</td>\n",
       "                        <td id=\"T_5e8d6992_c025_11ea_b0ff_30d9d9eee573row137_col13\" class=\"data row137 col13\" >LBR</td>\n",
       "            </tr>\n",
       "            <tr>\n",
       "                        <th id=\"T_5e8d6992_c025_11ea_b0ff_30d9d9eee573level0_row138\" class=\"row_heading level0 row138\" >58</th>\n",
       "                        <td id=\"T_5e8d6992_c025_11ea_b0ff_30d9d9eee573row138_col0\" class=\"data row138 col0\" >Chad</td>\n",
       "                        <td id=\"T_5e8d6992_c025_11ea_b0ff_30d9d9eee573row138_col1\" class=\"data row138 col1\" >2020-07-07 07:33:57</td>\n",
       "                        <td id=\"T_5e8d6992_c025_11ea_b0ff_30d9d9eee573row138_col2\" class=\"data row138 col2\" >15.4542</td>\n",
       "                        <td id=\"T_5e8d6992_c025_11ea_b0ff_30d9d9eee573row138_col3\" class=\"data row138 col3\" >18.7322</td>\n",
       "                        <td id=\"T_5e8d6992_c025_11ea_b0ff_30d9d9eee573row138_col4\" class=\"data row138 col4\" >872</td>\n",
       "                        <td id=\"T_5e8d6992_c025_11ea_b0ff_30d9d9eee573row138_col5\" class=\"data row138 col5\" >74</td>\n",
       "                        <td id=\"T_5e8d6992_c025_11ea_b0ff_30d9d9eee573row138_col6\" class=\"data row138 col6\" >787</td>\n",
       "                        <td id=\"T_5e8d6992_c025_11ea_b0ff_30d9d9eee573row138_col7\" class=\"data row138 col7\" >11</td>\n",
       "                        <td id=\"T_5e8d6992_c025_11ea_b0ff_30d9d9eee573row138_col8\" class=\"data row138 col8\" >5.3087</td>\n",
       "                        <td id=\"T_5e8d6992_c025_11ea_b0ff_30d9d9eee573row138_col9\" class=\"data row138 col9\" >nan</td>\n",
       "                        <td id=\"T_5e8d6992_c025_11ea_b0ff_30d9d9eee573row138_col10\" class=\"data row138 col10\" >nan</td>\n",
       "                        <td id=\"T_5e8d6992_c025_11ea_b0ff_30d9d9eee573row138_col11\" class=\"data row138 col11\" >8.48624</td>\n",
       "                        <td id=\"T_5e8d6992_c025_11ea_b0ff_30d9d9eee573row138_col12\" class=\"data row138 col12\" >148</td>\n",
       "                        <td id=\"T_5e8d6992_c025_11ea_b0ff_30d9d9eee573row138_col13\" class=\"data row138 col13\" >TCD</td>\n",
       "            </tr>\n",
       "            <tr>\n",
       "                        <th id=\"T_5e8d6992_c025_11ea_b0ff_30d9d9eee573level0_row139\" class=\"row_heading level0 row139\" >31</th>\n",
       "                        <td id=\"T_5e8d6992_c025_11ea_b0ff_30d9d9eee573row139_col0\" class=\"data row139 col0\" >Andorra</td>\n",
       "                        <td id=\"T_5e8d6992_c025_11ea_b0ff_30d9d9eee573row139_col1\" class=\"data row139 col1\" >2020-07-07 07:33:57</td>\n",
       "                        <td id=\"T_5e8d6992_c025_11ea_b0ff_30d9d9eee573row139_col2\" class=\"data row139 col2\" >42.5063</td>\n",
       "                        <td id=\"T_5e8d6992_c025_11ea_b0ff_30d9d9eee573row139_col3\" class=\"data row139 col3\" >1.5218</td>\n",
       "                        <td id=\"T_5e8d6992_c025_11ea_b0ff_30d9d9eee573row139_col4\" class=\"data row139 col4\" >855</td>\n",
       "                        <td id=\"T_5e8d6992_c025_11ea_b0ff_30d9d9eee573row139_col5\" class=\"data row139 col5\" >52</td>\n",
       "                        <td id=\"T_5e8d6992_c025_11ea_b0ff_30d9d9eee573row139_col6\" class=\"data row139 col6\" >800</td>\n",
       "                        <td id=\"T_5e8d6992_c025_11ea_b0ff_30d9d9eee573row139_col7\" class=\"data row139 col7\" >3</td>\n",
       "                        <td id=\"T_5e8d6992_c025_11ea_b0ff_30d9d9eee573row139_col8\" class=\"data row139 col8\" >1106.58</td>\n",
       "                        <td id=\"T_5e8d6992_c025_11ea_b0ff_30d9d9eee573row139_col9\" class=\"data row139 col9\" >nan</td>\n",
       "                        <td id=\"T_5e8d6992_c025_11ea_b0ff_30d9d9eee573row139_col10\" class=\"data row139 col10\" >nan</td>\n",
       "                        <td id=\"T_5e8d6992_c025_11ea_b0ff_30d9d9eee573row139_col11\" class=\"data row139 col11\" >6.08187</td>\n",
       "                        <td id=\"T_5e8d6992_c025_11ea_b0ff_30d9d9eee573row139_col12\" class=\"data row139 col12\" >20</td>\n",
       "                        <td id=\"T_5e8d6992_c025_11ea_b0ff_30d9d9eee573row139_col13\" class=\"data row139 col13\" >AND</td>\n",
       "            </tr>\n",
       "            <tr>\n",
       "                        <th id=\"T_5e8d6992_c025_11ea_b0ff_30d9d9eee573level0_row140\" class=\"row_heading level0 row140\" >128</th>\n",
       "                        <td id=\"T_5e8d6992_c025_11ea_b0ff_30d9d9eee573row140_col0\" class=\"data row140 col0\" >Montenegro</td>\n",
       "                        <td id=\"T_5e8d6992_c025_11ea_b0ff_30d9d9eee573row140_col1\" class=\"data row140 col1\" >2020-07-07 07:33:57</td>\n",
       "                        <td id=\"T_5e8d6992_c025_11ea_b0ff_30d9d9eee573row140_col2\" class=\"data row140 col2\" >42.7087</td>\n",
       "                        <td id=\"T_5e8d6992_c025_11ea_b0ff_30d9d9eee573row140_col3\" class=\"data row140 col3\" >19.3744</td>\n",
       "                        <td id=\"T_5e8d6992_c025_11ea_b0ff_30d9d9eee573row140_col4\" class=\"data row140 col4\" >841</td>\n",
       "                        <td id=\"T_5e8d6992_c025_11ea_b0ff_30d9d9eee573row140_col5\" class=\"data row140 col5\" >14</td>\n",
       "                        <td id=\"T_5e8d6992_c025_11ea_b0ff_30d9d9eee573row140_col6\" class=\"data row140 col6\" >315</td>\n",
       "                        <td id=\"T_5e8d6992_c025_11ea_b0ff_30d9d9eee573row140_col7\" class=\"data row140 col7\" >512</td>\n",
       "                        <td id=\"T_5e8d6992_c025_11ea_b0ff_30d9d9eee573row140_col8\" class=\"data row140 col8\" >133.904</td>\n",
       "                        <td id=\"T_5e8d6992_c025_11ea_b0ff_30d9d9eee573row140_col9\" class=\"data row140 col9\" >nan</td>\n",
       "                        <td id=\"T_5e8d6992_c025_11ea_b0ff_30d9d9eee573row140_col10\" class=\"data row140 col10\" >nan</td>\n",
       "                        <td id=\"T_5e8d6992_c025_11ea_b0ff_30d9d9eee573row140_col11\" class=\"data row140 col11\" >1.66468</td>\n",
       "                        <td id=\"T_5e8d6992_c025_11ea_b0ff_30d9d9eee573row140_col12\" class=\"data row140 col12\" >499</td>\n",
       "                        <td id=\"T_5e8d6992_c025_11ea_b0ff_30d9d9eee573row140_col13\" class=\"data row140 col13\" >MNE</td>\n",
       "            </tr>\n",
       "            <tr>\n",
       "                        <th id=\"T_5e8d6992_c025_11ea_b0ff_30d9d9eee573level0_row141\" class=\"row_heading level0 row141\" >99</th>\n",
       "                        <td id=\"T_5e8d6992_c025_11ea_b0ff_30d9d9eee573row141_col0\" class=\"data row141 col0\" >Jamaica</td>\n",
       "                        <td id=\"T_5e8d6992_c025_11ea_b0ff_30d9d9eee573row141_col1\" class=\"data row141 col1\" >2020-07-07 07:33:57</td>\n",
       "                        <td id=\"T_5e8d6992_c025_11ea_b0ff_30d9d9eee573row141_col2\" class=\"data row141 col2\" >18.1096</td>\n",
       "                        <td id=\"T_5e8d6992_c025_11ea_b0ff_30d9d9eee573row141_col3\" class=\"data row141 col3\" >-77.2975</td>\n",
       "                        <td id=\"T_5e8d6992_c025_11ea_b0ff_30d9d9eee573row141_col4\" class=\"data row141 col4\" >737</td>\n",
       "                        <td id=\"T_5e8d6992_c025_11ea_b0ff_30d9d9eee573row141_col5\" class=\"data row141 col5\" >10</td>\n",
       "                        <td id=\"T_5e8d6992_c025_11ea_b0ff_30d9d9eee573row141_col6\" class=\"data row141 col6\" >591</td>\n",
       "                        <td id=\"T_5e8d6992_c025_11ea_b0ff_30d9d9eee573row141_col7\" class=\"data row141 col7\" >136</td>\n",
       "                        <td id=\"T_5e8d6992_c025_11ea_b0ff_30d9d9eee573row141_col8\" class=\"data row141 col8\" >24.8889</td>\n",
       "                        <td id=\"T_5e8d6992_c025_11ea_b0ff_30d9d9eee573row141_col9\" class=\"data row141 col9\" >nan</td>\n",
       "                        <td id=\"T_5e8d6992_c025_11ea_b0ff_30d9d9eee573row141_col10\" class=\"data row141 col10\" >nan</td>\n",
       "                        <td id=\"T_5e8d6992_c025_11ea_b0ff_30d9d9eee573row141_col11\" class=\"data row141 col11\" >1.35685</td>\n",
       "                        <td id=\"T_5e8d6992_c025_11ea_b0ff_30d9d9eee573row141_col12\" class=\"data row141 col12\" >388</td>\n",
       "                        <td id=\"T_5e8d6992_c025_11ea_b0ff_30d9d9eee573row141_col13\" class=\"data row141 col13\" >JAM</td>\n",
       "            </tr>\n",
       "            <tr>\n",
       "                        <th id=\"T_5e8d6992_c025_11ea_b0ff_30d9d9eee573level0_row142\" class=\"row_heading level0 row142\" >187</th>\n",
       "                        <td id=\"T_5e8d6992_c025_11ea_b0ff_30d9d9eee573row142_col0\" class=\"data row142 col0\" >Zimbabwe</td>\n",
       "                        <td id=\"T_5e8d6992_c025_11ea_b0ff_30d9d9eee573row142_col1\" class=\"data row142 col1\" >2020-07-07 07:33:57</td>\n",
       "                        <td id=\"T_5e8d6992_c025_11ea_b0ff_30d9d9eee573row142_col2\" class=\"data row142 col2\" >-19.0154</td>\n",
       "                        <td id=\"T_5e8d6992_c025_11ea_b0ff_30d9d9eee573row142_col3\" class=\"data row142 col3\" >29.1549</td>\n",
       "                        <td id=\"T_5e8d6992_c025_11ea_b0ff_30d9d9eee573row142_col4\" class=\"data row142 col4\" >734</td>\n",
       "                        <td id=\"T_5e8d6992_c025_11ea_b0ff_30d9d9eee573row142_col5\" class=\"data row142 col5\" >9</td>\n",
       "                        <td id=\"T_5e8d6992_c025_11ea_b0ff_30d9d9eee573row142_col6\" class=\"data row142 col6\" >197</td>\n",
       "                        <td id=\"T_5e8d6992_c025_11ea_b0ff_30d9d9eee573row142_col7\" class=\"data row142 col7\" >528</td>\n",
       "                        <td id=\"T_5e8d6992_c025_11ea_b0ff_30d9d9eee573row142_col8\" class=\"data row142 col8\" >4.93846</td>\n",
       "                        <td id=\"T_5e8d6992_c025_11ea_b0ff_30d9d9eee573row142_col9\" class=\"data row142 col9\" >nan</td>\n",
       "                        <td id=\"T_5e8d6992_c025_11ea_b0ff_30d9d9eee573row142_col10\" class=\"data row142 col10\" >nan</td>\n",
       "                        <td id=\"T_5e8d6992_c025_11ea_b0ff_30d9d9eee573row142_col11\" class=\"data row142 col11\" >1.22616</td>\n",
       "                        <td id=\"T_5e8d6992_c025_11ea_b0ff_30d9d9eee573row142_col12\" class=\"data row142 col12\" >716</td>\n",
       "                        <td id=\"T_5e8d6992_c025_11ea_b0ff_30d9d9eee573row142_col13\" class=\"data row142 col13\" >ZWE</td>\n",
       "            </tr>\n",
       "            <tr>\n",
       "                        <th id=\"T_5e8d6992_c025_11ea_b0ff_30d9d9eee573level0_row143\" class=\"row_heading level0 row143\" >152</th>\n",
       "                        <td id=\"T_5e8d6992_c025_11ea_b0ff_30d9d9eee573row143_col0\" class=\"data row143 col0\" >Sao Tome and Principe</td>\n",
       "                        <td id=\"T_5e8d6992_c025_11ea_b0ff_30d9d9eee573row143_col1\" class=\"data row143 col1\" >2020-07-07 07:33:57</td>\n",
       "                        <td id=\"T_5e8d6992_c025_11ea_b0ff_30d9d9eee573row143_col2\" class=\"data row143 col2\" >0.18636</td>\n",
       "                        <td id=\"T_5e8d6992_c025_11ea_b0ff_30d9d9eee573row143_col3\" class=\"data row143 col3\" >6.61308</td>\n",
       "                        <td id=\"T_5e8d6992_c025_11ea_b0ff_30d9d9eee573row143_col4\" class=\"data row143 col4\" >721</td>\n",
       "                        <td id=\"T_5e8d6992_c025_11ea_b0ff_30d9d9eee573row143_col5\" class=\"data row143 col5\" >13</td>\n",
       "                        <td id=\"T_5e8d6992_c025_11ea_b0ff_30d9d9eee573row143_col6\" class=\"data row143 col6\" >269</td>\n",
       "                        <td id=\"T_5e8d6992_c025_11ea_b0ff_30d9d9eee573row143_col7\" class=\"data row143 col7\" >439</td>\n",
       "                        <td id=\"T_5e8d6992_c025_11ea_b0ff_30d9d9eee573row143_col8\" class=\"data row143 col8\" >328.982</td>\n",
       "                        <td id=\"T_5e8d6992_c025_11ea_b0ff_30d9d9eee573row143_col9\" class=\"data row143 col9\" >nan</td>\n",
       "                        <td id=\"T_5e8d6992_c025_11ea_b0ff_30d9d9eee573row143_col10\" class=\"data row143 col10\" >nan</td>\n",
       "                        <td id=\"T_5e8d6992_c025_11ea_b0ff_30d9d9eee573row143_col11\" class=\"data row143 col11\" >1.80305</td>\n",
       "                        <td id=\"T_5e8d6992_c025_11ea_b0ff_30d9d9eee573row143_col12\" class=\"data row143 col12\" >678</td>\n",
       "                        <td id=\"T_5e8d6992_c025_11ea_b0ff_30d9d9eee573row143_col13\" class=\"data row143 col13\" >STP</td>\n",
       "            </tr>\n",
       "            <tr>\n",
       "                        <th id=\"T_5e8d6992_c025_11ea_b0ff_30d9d9eee573level0_row144\" class=\"row_heading level0 row144\" >68</th>\n",
       "                        <td id=\"T_5e8d6992_c025_11ea_b0ff_30d9d9eee573row144_col0\" class=\"data row144 col0\" >Diamond Princess</td>\n",
       "                        <td id=\"T_5e8d6992_c025_11ea_b0ff_30d9d9eee573row144_col1\" class=\"data row144 col1\" >2020-07-07 07:33:57</td>\n",
       "                        <td id=\"T_5e8d6992_c025_11ea_b0ff_30d9d9eee573row144_col2\" class=\"data row144 col2\" >nan</td>\n",
       "                        <td id=\"T_5e8d6992_c025_11ea_b0ff_30d9d9eee573row144_col3\" class=\"data row144 col3\" >nan</td>\n",
       "                        <td id=\"T_5e8d6992_c025_11ea_b0ff_30d9d9eee573row144_col4\" class=\"data row144 col4\" >712</td>\n",
       "                        <td id=\"T_5e8d6992_c025_11ea_b0ff_30d9d9eee573row144_col5\" class=\"data row144 col5\" >13</td>\n",
       "                        <td id=\"T_5e8d6992_c025_11ea_b0ff_30d9d9eee573row144_col6\" class=\"data row144 col6\" >651</td>\n",
       "                        <td id=\"T_5e8d6992_c025_11ea_b0ff_30d9d9eee573row144_col7\" class=\"data row144 col7\" >48</td>\n",
       "                        <td id=\"T_5e8d6992_c025_11ea_b0ff_30d9d9eee573row144_col8\" class=\"data row144 col8\" >nan</td>\n",
       "                        <td id=\"T_5e8d6992_c025_11ea_b0ff_30d9d9eee573row144_col9\" class=\"data row144 col9\" >nan</td>\n",
       "                        <td id=\"T_5e8d6992_c025_11ea_b0ff_30d9d9eee573row144_col10\" class=\"data row144 col10\" >nan</td>\n",
       "                        <td id=\"T_5e8d6992_c025_11ea_b0ff_30d9d9eee573row144_col11\" class=\"data row144 col11\" >1.82584</td>\n",
       "                        <td id=\"T_5e8d6992_c025_11ea_b0ff_30d9d9eee573row144_col12\" class=\"data row144 col12\" >9999</td>\n",
       "                        <td id=\"T_5e8d6992_c025_11ea_b0ff_30d9d9eee573row144_col13\" class=\"data row144 col13\" >nan</td>\n",
       "            </tr>\n",
       "            <tr>\n",
       "                        <th id=\"T_5e8d6992_c025_11ea_b0ff_30d9d9eee573level0_row145\" class=\"row_heading level0 row145\" >151</th>\n",
       "                        <td id=\"T_5e8d6992_c025_11ea_b0ff_30d9d9eee573row145_col0\" class=\"data row145 col0\" >San Marino</td>\n",
       "                        <td id=\"T_5e8d6992_c025_11ea_b0ff_30d9d9eee573row145_col1\" class=\"data row145 col1\" >2020-07-07 07:33:57</td>\n",
       "                        <td id=\"T_5e8d6992_c025_11ea_b0ff_30d9d9eee573row145_col2\" class=\"data row145 col2\" >43.9424</td>\n",
       "                        <td id=\"T_5e8d6992_c025_11ea_b0ff_30d9d9eee573row145_col3\" class=\"data row145 col3\" >12.4578</td>\n",
       "                        <td id=\"T_5e8d6992_c025_11ea_b0ff_30d9d9eee573row145_col4\" class=\"data row145 col4\" >698</td>\n",
       "                        <td id=\"T_5e8d6992_c025_11ea_b0ff_30d9d9eee573row145_col5\" class=\"data row145 col5\" >42</td>\n",
       "                        <td id=\"T_5e8d6992_c025_11ea_b0ff_30d9d9eee573row145_col6\" class=\"data row145 col6\" >656</td>\n",
       "                        <td id=\"T_5e8d6992_c025_11ea_b0ff_30d9d9eee573row145_col7\" class=\"data row145 col7\" >0</td>\n",
       "                        <td id=\"T_5e8d6992_c025_11ea_b0ff_30d9d9eee573row145_col8\" class=\"data row145 col8\" >2056.69</td>\n",
       "                        <td id=\"T_5e8d6992_c025_11ea_b0ff_30d9d9eee573row145_col9\" class=\"data row145 col9\" >nan</td>\n",
       "                        <td id=\"T_5e8d6992_c025_11ea_b0ff_30d9d9eee573row145_col10\" class=\"data row145 col10\" >nan</td>\n",
       "                        <td id=\"T_5e8d6992_c025_11ea_b0ff_30d9d9eee573row145_col11\" class=\"data row145 col11\" >6.01719</td>\n",
       "                        <td id=\"T_5e8d6992_c025_11ea_b0ff_30d9d9eee573row145_col12\" class=\"data row145 col12\" >674</td>\n",
       "                        <td id=\"T_5e8d6992_c025_11ea_b0ff_30d9d9eee573row145_col13\" class=\"data row145 col13\" >SMR</td>\n",
       "            </tr>\n",
       "            <tr>\n",
       "                        <th id=\"T_5e8d6992_c025_11ea_b0ff_30d9d9eee573level0_row146\" class=\"row_heading level0 row146\" >173</th>\n",
       "                        <td id=\"T_5e8d6992_c025_11ea_b0ff_30d9d9eee573row146_col0\" class=\"data row146 col0\" >Togo</td>\n",
       "                        <td id=\"T_5e8d6992_c025_11ea_b0ff_30d9d9eee573row146_col1\" class=\"data row146 col1\" >2020-07-07 07:33:57</td>\n",
       "                        <td id=\"T_5e8d6992_c025_11ea_b0ff_30d9d9eee573row146_col2\" class=\"data row146 col2\" >8.6195</td>\n",
       "                        <td id=\"T_5e8d6992_c025_11ea_b0ff_30d9d9eee573row146_col3\" class=\"data row146 col3\" >0.8248</td>\n",
       "                        <td id=\"T_5e8d6992_c025_11ea_b0ff_30d9d9eee573row146_col4\" class=\"data row146 col4\" >680</td>\n",
       "                        <td id=\"T_5e8d6992_c025_11ea_b0ff_30d9d9eee573row146_col5\" class=\"data row146 col5\" >15</td>\n",
       "                        <td id=\"T_5e8d6992_c025_11ea_b0ff_30d9d9eee573row146_col6\" class=\"data row146 col6\" >450</td>\n",
       "                        <td id=\"T_5e8d6992_c025_11ea_b0ff_30d9d9eee573row146_col7\" class=\"data row146 col7\" >215</td>\n",
       "                        <td id=\"T_5e8d6992_c025_11ea_b0ff_30d9d9eee573row146_col8\" class=\"data row146 col8\" >8.21381</td>\n",
       "                        <td id=\"T_5e8d6992_c025_11ea_b0ff_30d9d9eee573row146_col9\" class=\"data row146 col9\" >nan</td>\n",
       "                        <td id=\"T_5e8d6992_c025_11ea_b0ff_30d9d9eee573row146_col10\" class=\"data row146 col10\" >nan</td>\n",
       "                        <td id=\"T_5e8d6992_c025_11ea_b0ff_30d9d9eee573row146_col11\" class=\"data row146 col11\" >2.20588</td>\n",
       "                        <td id=\"T_5e8d6992_c025_11ea_b0ff_30d9d9eee573row146_col12\" class=\"data row146 col12\" >768</td>\n",
       "                        <td id=\"T_5e8d6992_c025_11ea_b0ff_30d9d9eee573row146_col13\" class=\"data row146 col13\" >TGO</td>\n",
       "            </tr>\n",
       "            <tr>\n",
       "                        <th id=\"T_5e8d6992_c025_11ea_b0ff_30d9d9eee573level0_row147\" class=\"row_heading level0 row147\" >122</th>\n",
       "                        <td id=\"T_5e8d6992_c025_11ea_b0ff_30d9d9eee573row147_col0\" class=\"data row147 col0\" >Malta</td>\n",
       "                        <td id=\"T_5e8d6992_c025_11ea_b0ff_30d9d9eee573row147_col1\" class=\"data row147 col1\" >2020-07-07 07:33:57</td>\n",
       "                        <td id=\"T_5e8d6992_c025_11ea_b0ff_30d9d9eee573row147_col2\" class=\"data row147 col2\" >35.9375</td>\n",
       "                        <td id=\"T_5e8d6992_c025_11ea_b0ff_30d9d9eee573row147_col3\" class=\"data row147 col3\" >14.3754</td>\n",
       "                        <td id=\"T_5e8d6992_c025_11ea_b0ff_30d9d9eee573row147_col4\" class=\"data row147 col4\" >672</td>\n",
       "                        <td id=\"T_5e8d6992_c025_11ea_b0ff_30d9d9eee573row147_col5\" class=\"data row147 col5\" >9</td>\n",
       "                        <td id=\"T_5e8d6992_c025_11ea_b0ff_30d9d9eee573row147_col6\" class=\"data row147 col6\" >652</td>\n",
       "                        <td id=\"T_5e8d6992_c025_11ea_b0ff_30d9d9eee573row147_col7\" class=\"data row147 col7\" >11</td>\n",
       "                        <td id=\"T_5e8d6992_c025_11ea_b0ff_30d9d9eee573row147_col8\" class=\"data row147 col8\" >152.195</td>\n",
       "                        <td id=\"T_5e8d6992_c025_11ea_b0ff_30d9d9eee573row147_col9\" class=\"data row147 col9\" >nan</td>\n",
       "                        <td id=\"T_5e8d6992_c025_11ea_b0ff_30d9d9eee573row147_col10\" class=\"data row147 col10\" >nan</td>\n",
       "                        <td id=\"T_5e8d6992_c025_11ea_b0ff_30d9d9eee573row147_col11\" class=\"data row147 col11\" >1.33929</td>\n",
       "                        <td id=\"T_5e8d6992_c025_11ea_b0ff_30d9d9eee573row147_col12\" class=\"data row147 col12\" >470</td>\n",
       "                        <td id=\"T_5e8d6992_c025_11ea_b0ff_30d9d9eee573row147_col13\" class=\"data row147 col13\" >MLT</td>\n",
       "            </tr>\n",
       "            <tr>\n",
       "                        <th id=\"T_5e8d6992_c025_11ea_b0ff_30d9d9eee573level0_row148\" class=\"row_heading level0 row148\" >166</th>\n",
       "                        <td id=\"T_5e8d6992_c025_11ea_b0ff_30d9d9eee573row148_col0\" class=\"data row148 col0\" >Suriname</td>\n",
       "                        <td id=\"T_5e8d6992_c025_11ea_b0ff_30d9d9eee573row148_col1\" class=\"data row148 col1\" >2020-07-07 07:33:57</td>\n",
       "                        <td id=\"T_5e8d6992_c025_11ea_b0ff_30d9d9eee573row148_col2\" class=\"data row148 col2\" >3.9193</td>\n",
       "                        <td id=\"T_5e8d6992_c025_11ea_b0ff_30d9d9eee573row148_col3\" class=\"data row148 col3\" >-56.0278</td>\n",
       "                        <td id=\"T_5e8d6992_c025_11ea_b0ff_30d9d9eee573row148_col4\" class=\"data row148 col4\" >614</td>\n",
       "                        <td id=\"T_5e8d6992_c025_11ea_b0ff_30d9d9eee573row148_col5\" class=\"data row148 col5\" >14</td>\n",
       "                        <td id=\"T_5e8d6992_c025_11ea_b0ff_30d9d9eee573row148_col6\" class=\"data row148 col6\" >315</td>\n",
       "                        <td id=\"T_5e8d6992_c025_11ea_b0ff_30d9d9eee573row148_col7\" class=\"data row148 col7\" >285</td>\n",
       "                        <td id=\"T_5e8d6992_c025_11ea_b0ff_30d9d9eee573row148_col8\" class=\"data row148 col8\" >104.665</td>\n",
       "                        <td id=\"T_5e8d6992_c025_11ea_b0ff_30d9d9eee573row148_col9\" class=\"data row148 col9\" >nan</td>\n",
       "                        <td id=\"T_5e8d6992_c025_11ea_b0ff_30d9d9eee573row148_col10\" class=\"data row148 col10\" >nan</td>\n",
       "                        <td id=\"T_5e8d6992_c025_11ea_b0ff_30d9d9eee573row148_col11\" class=\"data row148 col11\" >2.28013</td>\n",
       "                        <td id=\"T_5e8d6992_c025_11ea_b0ff_30d9d9eee573row148_col12\" class=\"data row148 col12\" >740</td>\n",
       "                        <td id=\"T_5e8d6992_c025_11ea_b0ff_30d9d9eee573row148_col13\" class=\"data row148 col13\" >SUR</td>\n",
       "            </tr>\n",
       "            <tr>\n",
       "                        <th id=\"T_5e8d6992_c025_11ea_b0ff_30d9d9eee573level0_row149\" class=\"row_heading level0 row149\" >170</th>\n",
       "                        <td id=\"T_5e8d6992_c025_11ea_b0ff_30d9d9eee573row149_col0\" class=\"data row149 col0\" >Tanzania</td>\n",
       "                        <td id=\"T_5e8d6992_c025_11ea_b0ff_30d9d9eee573row149_col1\" class=\"data row149 col1\" >2020-07-07 07:33:57</td>\n",
       "                        <td id=\"T_5e8d6992_c025_11ea_b0ff_30d9d9eee573row149_col2\" class=\"data row149 col2\" >-6.36903</td>\n",
       "                        <td id=\"T_5e8d6992_c025_11ea_b0ff_30d9d9eee573row149_col3\" class=\"data row149 col3\" >34.8888</td>\n",
       "                        <td id=\"T_5e8d6992_c025_11ea_b0ff_30d9d9eee573row149_col4\" class=\"data row149 col4\" >509</td>\n",
       "                        <td id=\"T_5e8d6992_c025_11ea_b0ff_30d9d9eee573row149_col5\" class=\"data row149 col5\" >21</td>\n",
       "                        <td id=\"T_5e8d6992_c025_11ea_b0ff_30d9d9eee573row149_col6\" class=\"data row149 col6\" >183</td>\n",
       "                        <td id=\"T_5e8d6992_c025_11ea_b0ff_30d9d9eee573row149_col7\" class=\"data row149 col7\" >305</td>\n",
       "                        <td id=\"T_5e8d6992_c025_11ea_b0ff_30d9d9eee573row149_col8\" class=\"data row149 col8\" >0.852108</td>\n",
       "                        <td id=\"T_5e8d6992_c025_11ea_b0ff_30d9d9eee573row149_col9\" class=\"data row149 col9\" >nan</td>\n",
       "                        <td id=\"T_5e8d6992_c025_11ea_b0ff_30d9d9eee573row149_col10\" class=\"data row149 col10\" >nan</td>\n",
       "                        <td id=\"T_5e8d6992_c025_11ea_b0ff_30d9d9eee573row149_col11\" class=\"data row149 col11\" >4.12574</td>\n",
       "                        <td id=\"T_5e8d6992_c025_11ea_b0ff_30d9d9eee573row149_col12\" class=\"data row149 col12\" >834</td>\n",
       "                        <td id=\"T_5e8d6992_c025_11ea_b0ff_30d9d9eee573row149_col13\" class=\"data row149 col13\" >TZA</td>\n",
       "            </tr>\n",
       "            <tr>\n",
       "                        <th id=\"T_5e8d6992_c025_11ea_b0ff_30d9d9eee573level0_row150\" class=\"row_heading level0 row150\" >131</th>\n",
       "                        <td id=\"T_5e8d6992_c025_11ea_b0ff_30d9d9eee573row150_col0\" class=\"data row150 col0\" >Namibia</td>\n",
       "                        <td id=\"T_5e8d6992_c025_11ea_b0ff_30d9d9eee573row150_col1\" class=\"data row150 col1\" >2020-07-07 07:33:57</td>\n",
       "                        <td id=\"T_5e8d6992_c025_11ea_b0ff_30d9d9eee573row150_col2\" class=\"data row150 col2\" >-22.9576</td>\n",
       "                        <td id=\"T_5e8d6992_c025_11ea_b0ff_30d9d9eee573row150_col3\" class=\"data row150 col3\" >18.4904</td>\n",
       "                        <td id=\"T_5e8d6992_c025_11ea_b0ff_30d9d9eee573row150_col4\" class=\"data row150 col4\" >485</td>\n",
       "                        <td id=\"T_5e8d6992_c025_11ea_b0ff_30d9d9eee573row150_col5\" class=\"data row150 col5\" >0</td>\n",
       "                        <td id=\"T_5e8d6992_c025_11ea_b0ff_30d9d9eee573row150_col6\" class=\"data row150 col6\" >25</td>\n",
       "                        <td id=\"T_5e8d6992_c025_11ea_b0ff_30d9d9eee573row150_col7\" class=\"data row150 col7\" >460</td>\n",
       "                        <td id=\"T_5e8d6992_c025_11ea_b0ff_30d9d9eee573row150_col8\" class=\"data row150 col8\" >19.0876</td>\n",
       "                        <td id=\"T_5e8d6992_c025_11ea_b0ff_30d9d9eee573row150_col9\" class=\"data row150 col9\" >nan</td>\n",
       "                        <td id=\"T_5e8d6992_c025_11ea_b0ff_30d9d9eee573row150_col10\" class=\"data row150 col10\" >nan</td>\n",
       "                        <td id=\"T_5e8d6992_c025_11ea_b0ff_30d9d9eee573row150_col11\" class=\"data row150 col11\" >0</td>\n",
       "                        <td id=\"T_5e8d6992_c025_11ea_b0ff_30d9d9eee573row150_col12\" class=\"data row150 col12\" >516</td>\n",
       "                        <td id=\"T_5e8d6992_c025_11ea_b0ff_30d9d9eee573row150_col13\" class=\"data row150 col13\" >NAM</td>\n",
       "            </tr>\n",
       "            <tr>\n",
       "                        <th id=\"T_5e8d6992_c025_11ea_b0ff_30d9d9eee573level0_row151\" class=\"row_heading level0 row151\" >168</th>\n",
       "                        <td id=\"T_5e8d6992_c025_11ea_b0ff_30d9d9eee573row151_col0\" class=\"data row151 col0\" >Taiwan*</td>\n",
       "                        <td id=\"T_5e8d6992_c025_11ea_b0ff_30d9d9eee573row151_col1\" class=\"data row151 col1\" >2020-07-07 07:33:57</td>\n",
       "                        <td id=\"T_5e8d6992_c025_11ea_b0ff_30d9d9eee573row151_col2\" class=\"data row151 col2\" >23.7</td>\n",
       "                        <td id=\"T_5e8d6992_c025_11ea_b0ff_30d9d9eee573row151_col3\" class=\"data row151 col3\" >121</td>\n",
       "                        <td id=\"T_5e8d6992_c025_11ea_b0ff_30d9d9eee573row151_col4\" class=\"data row151 col4\" >449</td>\n",
       "                        <td id=\"T_5e8d6992_c025_11ea_b0ff_30d9d9eee573row151_col5\" class=\"data row151 col5\" >7</td>\n",
       "                        <td id=\"T_5e8d6992_c025_11ea_b0ff_30d9d9eee573row151_col6\" class=\"data row151 col6\" >438</td>\n",
       "                        <td id=\"T_5e8d6992_c025_11ea_b0ff_30d9d9eee573row151_col7\" class=\"data row151 col7\" >4</td>\n",
       "                        <td id=\"T_5e8d6992_c025_11ea_b0ff_30d9d9eee573row151_col8\" class=\"data row151 col8\" >1.88523</td>\n",
       "                        <td id=\"T_5e8d6992_c025_11ea_b0ff_30d9d9eee573row151_col9\" class=\"data row151 col9\" >nan</td>\n",
       "                        <td id=\"T_5e8d6992_c025_11ea_b0ff_30d9d9eee573row151_col10\" class=\"data row151 col10\" >nan</td>\n",
       "                        <td id=\"T_5e8d6992_c025_11ea_b0ff_30d9d9eee573row151_col11\" class=\"data row151 col11\" >1.55902</td>\n",
       "                        <td id=\"T_5e8d6992_c025_11ea_b0ff_30d9d9eee573row151_col12\" class=\"data row151 col12\" >158</td>\n",
       "                        <td id=\"T_5e8d6992_c025_11ea_b0ff_30d9d9eee573row151_col13\" class=\"data row151 col13\" >TWN</td>\n",
       "            </tr>\n",
       "            <tr>\n",
       "                        <th id=\"T_5e8d6992_c025_11ea_b0ff_30d9d9eee573level0_row152\" class=\"row_heading level0 row152\" >167</th>\n",
       "                        <td id=\"T_5e8d6992_c025_11ea_b0ff_30d9d9eee573row152_col0\" class=\"data row152 col0\" >Syria</td>\n",
       "                        <td id=\"T_5e8d6992_c025_11ea_b0ff_30d9d9eee573row152_col1\" class=\"data row152 col1\" >2020-07-07 07:33:57</td>\n",
       "                        <td id=\"T_5e8d6992_c025_11ea_b0ff_30d9d9eee573row152_col2\" class=\"data row152 col2\" >34.8021</td>\n",
       "                        <td id=\"T_5e8d6992_c025_11ea_b0ff_30d9d9eee573row152_col3\" class=\"data row152 col3\" >38.9968</td>\n",
       "                        <td id=\"T_5e8d6992_c025_11ea_b0ff_30d9d9eee573row152_col4\" class=\"data row152 col4\" >372</td>\n",
       "                        <td id=\"T_5e8d6992_c025_11ea_b0ff_30d9d9eee573row152_col5\" class=\"data row152 col5\" >14</td>\n",
       "                        <td id=\"T_5e8d6992_c025_11ea_b0ff_30d9d9eee573row152_col6\" class=\"data row152 col6\" >126</td>\n",
       "                        <td id=\"T_5e8d6992_c025_11ea_b0ff_30d9d9eee573row152_col7\" class=\"data row152 col7\" >232</td>\n",
       "                        <td id=\"T_5e8d6992_c025_11ea_b0ff_30d9d9eee573row152_col8\" class=\"data row152 col8\" >2.12563</td>\n",
       "                        <td id=\"T_5e8d6992_c025_11ea_b0ff_30d9d9eee573row152_col9\" class=\"data row152 col9\" >nan</td>\n",
       "                        <td id=\"T_5e8d6992_c025_11ea_b0ff_30d9d9eee573row152_col10\" class=\"data row152 col10\" >nan</td>\n",
       "                        <td id=\"T_5e8d6992_c025_11ea_b0ff_30d9d9eee573row152_col11\" class=\"data row152 col11\" >3.76344</td>\n",
       "                        <td id=\"T_5e8d6992_c025_11ea_b0ff_30d9d9eee573row152_col12\" class=\"data row152 col12\" >760</td>\n",
       "                        <td id=\"T_5e8d6992_c025_11ea_b0ff_30d9d9eee573row152_col13\" class=\"data row152 col13\" >SYR</td>\n",
       "            </tr>\n",
       "            <tr>\n",
       "                        <th id=\"T_5e8d6992_c025_11ea_b0ff_30d9d9eee573level0_row153\" class=\"row_heading level0 row153\" >182</th>\n",
       "                        <td id=\"T_5e8d6992_c025_11ea_b0ff_30d9d9eee573row153_col0\" class=\"data row153 col0\" >Vietnam</td>\n",
       "                        <td id=\"T_5e8d6992_c025_11ea_b0ff_30d9d9eee573row153_col1\" class=\"data row153 col1\" >2020-07-07 07:33:57</td>\n",
       "                        <td id=\"T_5e8d6992_c025_11ea_b0ff_30d9d9eee573row153_col2\" class=\"data row153 col2\" >14.0583</td>\n",
       "                        <td id=\"T_5e8d6992_c025_11ea_b0ff_30d9d9eee573row153_col3\" class=\"data row153 col3\" >108.277</td>\n",
       "                        <td id=\"T_5e8d6992_c025_11ea_b0ff_30d9d9eee573row153_col4\" class=\"data row153 col4\" >369</td>\n",
       "                        <td id=\"T_5e8d6992_c025_11ea_b0ff_30d9d9eee573row153_col5\" class=\"data row153 col5\" >0</td>\n",
       "                        <td id=\"T_5e8d6992_c025_11ea_b0ff_30d9d9eee573row153_col6\" class=\"data row153 col6\" >341</td>\n",
       "                        <td id=\"T_5e8d6992_c025_11ea_b0ff_30d9d9eee573row153_col7\" class=\"data row153 col7\" >28</td>\n",
       "                        <td id=\"T_5e8d6992_c025_11ea_b0ff_30d9d9eee573row153_col8\" class=\"data row153 col8\" >0.379089</td>\n",
       "                        <td id=\"T_5e8d6992_c025_11ea_b0ff_30d9d9eee573row153_col9\" class=\"data row153 col9\" >nan</td>\n",
       "                        <td id=\"T_5e8d6992_c025_11ea_b0ff_30d9d9eee573row153_col10\" class=\"data row153 col10\" >nan</td>\n",
       "                        <td id=\"T_5e8d6992_c025_11ea_b0ff_30d9d9eee573row153_col11\" class=\"data row153 col11\" >0</td>\n",
       "                        <td id=\"T_5e8d6992_c025_11ea_b0ff_30d9d9eee573row153_col12\" class=\"data row153 col12\" >704</td>\n",
       "                        <td id=\"T_5e8d6992_c025_11ea_b0ff_30d9d9eee573row153_col13\" class=\"data row153 col13\" >VNM</td>\n",
       "            </tr>\n",
       "            <tr>\n",
       "                        <th id=\"T_5e8d6992_c025_11ea_b0ff_30d9d9eee573level0_row154\" class=\"row_heading level0 row154\" >32</th>\n",
       "                        <td id=\"T_5e8d6992_c025_11ea_b0ff_30d9d9eee573row154_col0\" class=\"data row154 col0\" >Angola</td>\n",
       "                        <td id=\"T_5e8d6992_c025_11ea_b0ff_30d9d9eee573row154_col1\" class=\"data row154 col1\" >2020-07-07 07:33:57</td>\n",
       "                        <td id=\"T_5e8d6992_c025_11ea_b0ff_30d9d9eee573row154_col2\" class=\"data row154 col2\" >-11.2027</td>\n",
       "                        <td id=\"T_5e8d6992_c025_11ea_b0ff_30d9d9eee573row154_col3\" class=\"data row154 col3\" >17.8739</td>\n",
       "                        <td id=\"T_5e8d6992_c025_11ea_b0ff_30d9d9eee573row154_col4\" class=\"data row154 col4\" >346</td>\n",
       "                        <td id=\"T_5e8d6992_c025_11ea_b0ff_30d9d9eee573row154_col5\" class=\"data row154 col5\" >19</td>\n",
       "                        <td id=\"T_5e8d6992_c025_11ea_b0ff_30d9d9eee573row154_col6\" class=\"data row154 col6\" >108</td>\n",
       "                        <td id=\"T_5e8d6992_c025_11ea_b0ff_30d9d9eee573row154_col7\" class=\"data row154 col7\" >219</td>\n",
       "                        <td id=\"T_5e8d6992_c025_11ea_b0ff_30d9d9eee573row154_col8\" class=\"data row154 col8\" >1.05275</td>\n",
       "                        <td id=\"T_5e8d6992_c025_11ea_b0ff_30d9d9eee573row154_col9\" class=\"data row154 col9\" >nan</td>\n",
       "                        <td id=\"T_5e8d6992_c025_11ea_b0ff_30d9d9eee573row154_col10\" class=\"data row154 col10\" >nan</td>\n",
       "                        <td id=\"T_5e8d6992_c025_11ea_b0ff_30d9d9eee573row154_col11\" class=\"data row154 col11\" >5.49133</td>\n",
       "                        <td id=\"T_5e8d6992_c025_11ea_b0ff_30d9d9eee573row154_col12\" class=\"data row154 col12\" >24</td>\n",
       "                        <td id=\"T_5e8d6992_c025_11ea_b0ff_30d9d9eee573row154_col13\" class=\"data row154 col13\" >AGO</td>\n",
       "            </tr>\n",
       "            <tr>\n",
       "                        <th id=\"T_5e8d6992_c025_11ea_b0ff_30d9d9eee573level0_row155\" class=\"row_heading level0 row155\" >124</th>\n",
       "                        <td id=\"T_5e8d6992_c025_11ea_b0ff_30d9d9eee573row155_col0\" class=\"data row155 col0\" >Mauritius</td>\n",
       "                        <td id=\"T_5e8d6992_c025_11ea_b0ff_30d9d9eee573row155_col1\" class=\"data row155 col1\" >2020-07-07 07:33:57</td>\n",
       "                        <td id=\"T_5e8d6992_c025_11ea_b0ff_30d9d9eee573row155_col2\" class=\"data row155 col2\" >-20.3484</td>\n",
       "                        <td id=\"T_5e8d6992_c025_11ea_b0ff_30d9d9eee573row155_col3\" class=\"data row155 col3\" >57.5522</td>\n",
       "                        <td id=\"T_5e8d6992_c025_11ea_b0ff_30d9d9eee573row155_col4\" class=\"data row155 col4\" >342</td>\n",
       "                        <td id=\"T_5e8d6992_c025_11ea_b0ff_30d9d9eee573row155_col5\" class=\"data row155 col5\" >10</td>\n",
       "                        <td id=\"T_5e8d6992_c025_11ea_b0ff_30d9d9eee573row155_col6\" class=\"data row155 col6\" >330</td>\n",
       "                        <td id=\"T_5e8d6992_c025_11ea_b0ff_30d9d9eee573row155_col7\" class=\"data row155 col7\" >2</td>\n",
       "                        <td id=\"T_5e8d6992_c025_11ea_b0ff_30d9d9eee573row155_col8\" class=\"data row155 col8\" >26.8917</td>\n",
       "                        <td id=\"T_5e8d6992_c025_11ea_b0ff_30d9d9eee573row155_col9\" class=\"data row155 col9\" >nan</td>\n",
       "                        <td id=\"T_5e8d6992_c025_11ea_b0ff_30d9d9eee573row155_col10\" class=\"data row155 col10\" >nan</td>\n",
       "                        <td id=\"T_5e8d6992_c025_11ea_b0ff_30d9d9eee573row155_col11\" class=\"data row155 col11\" >2.92398</td>\n",
       "                        <td id=\"T_5e8d6992_c025_11ea_b0ff_30d9d9eee573row155_col12\" class=\"data row155 col12\" >480</td>\n",
       "                        <td id=\"T_5e8d6992_c025_11ea_b0ff_30d9d9eee573row155_col13\" class=\"data row155 col13\" >MUS</td>\n",
       "            </tr>\n",
       "            <tr>\n",
       "                        <th id=\"T_5e8d6992_c025_11ea_b0ff_30d9d9eee573level0_row156\" class=\"row_heading level0 row156\" >52</th>\n",
       "                        <td id=\"T_5e8d6992_c025_11ea_b0ff_30d9d9eee573row156_col0\" class=\"data row156 col0\" >Burma</td>\n",
       "                        <td id=\"T_5e8d6992_c025_11ea_b0ff_30d9d9eee573row156_col1\" class=\"data row156 col1\" >2020-07-07 07:33:57</td>\n",
       "                        <td id=\"T_5e8d6992_c025_11ea_b0ff_30d9d9eee573row156_col2\" class=\"data row156 col2\" >21.9162</td>\n",
       "                        <td id=\"T_5e8d6992_c025_11ea_b0ff_30d9d9eee573row156_col3\" class=\"data row156 col3\" >95.956</td>\n",
       "                        <td id=\"T_5e8d6992_c025_11ea_b0ff_30d9d9eee573row156_col4\" class=\"data row156 col4\" >316</td>\n",
       "                        <td id=\"T_5e8d6992_c025_11ea_b0ff_30d9d9eee573row156_col5\" class=\"data row156 col5\" >6</td>\n",
       "                        <td id=\"T_5e8d6992_c025_11ea_b0ff_30d9d9eee573row156_col6\" class=\"data row156 col6\" >245</td>\n",
       "                        <td id=\"T_5e8d6992_c025_11ea_b0ff_30d9d9eee573row156_col7\" class=\"data row156 col7\" >65</td>\n",
       "                        <td id=\"T_5e8d6992_c025_11ea_b0ff_30d9d9eee573row156_col8\" class=\"data row156 col8\" >0.580778</td>\n",
       "                        <td id=\"T_5e8d6992_c025_11ea_b0ff_30d9d9eee573row156_col9\" class=\"data row156 col9\" >nan</td>\n",
       "                        <td id=\"T_5e8d6992_c025_11ea_b0ff_30d9d9eee573row156_col10\" class=\"data row156 col10\" >nan</td>\n",
       "                        <td id=\"T_5e8d6992_c025_11ea_b0ff_30d9d9eee573row156_col11\" class=\"data row156 col11\" >1.89873</td>\n",
       "                        <td id=\"T_5e8d6992_c025_11ea_b0ff_30d9d9eee573row156_col12\" class=\"data row156 col12\" >104</td>\n",
       "                        <td id=\"T_5e8d6992_c025_11ea_b0ff_30d9d9eee573row156_col13\" class=\"data row156 col13\" >MMR</td>\n",
       "            </tr>\n",
       "            <tr>\n",
       "                        <th id=\"T_5e8d6992_c025_11ea_b0ff_30d9d9eee573level0_row157\" class=\"row_heading level0 row157\" >48</th>\n",
       "                        <td id=\"T_5e8d6992_c025_11ea_b0ff_30d9d9eee573row157_col0\" class=\"data row157 col0\" >Botswana</td>\n",
       "                        <td id=\"T_5e8d6992_c025_11ea_b0ff_30d9d9eee573row157_col1\" class=\"data row157 col1\" >2020-07-07 07:33:57</td>\n",
       "                        <td id=\"T_5e8d6992_c025_11ea_b0ff_30d9d9eee573row157_col2\" class=\"data row157 col2\" >-22.3285</td>\n",
       "                        <td id=\"T_5e8d6992_c025_11ea_b0ff_30d9d9eee573row157_col3\" class=\"data row157 col3\" >24.6849</td>\n",
       "                        <td id=\"T_5e8d6992_c025_11ea_b0ff_30d9d9eee573row157_col4\" class=\"data row157 col4\" >314</td>\n",
       "                        <td id=\"T_5e8d6992_c025_11ea_b0ff_30d9d9eee573row157_col5\" class=\"data row157 col5\" >1</td>\n",
       "                        <td id=\"T_5e8d6992_c025_11ea_b0ff_30d9d9eee573row157_col6\" class=\"data row157 col6\" >31</td>\n",
       "                        <td id=\"T_5e8d6992_c025_11ea_b0ff_30d9d9eee573row157_col7\" class=\"data row157 col7\" >282</td>\n",
       "                        <td id=\"T_5e8d6992_c025_11ea_b0ff_30d9d9eee573row157_col8\" class=\"data row157 col8\" >13.3525</td>\n",
       "                        <td id=\"T_5e8d6992_c025_11ea_b0ff_30d9d9eee573row157_col9\" class=\"data row157 col9\" >nan</td>\n",
       "                        <td id=\"T_5e8d6992_c025_11ea_b0ff_30d9d9eee573row157_col10\" class=\"data row157 col10\" >nan</td>\n",
       "                        <td id=\"T_5e8d6992_c025_11ea_b0ff_30d9d9eee573row157_col11\" class=\"data row157 col11\" >0.318471</td>\n",
       "                        <td id=\"T_5e8d6992_c025_11ea_b0ff_30d9d9eee573row157_col12\" class=\"data row157 col12\" >72</td>\n",
       "                        <td id=\"T_5e8d6992_c025_11ea_b0ff_30d9d9eee573row157_col13\" class=\"data row157 col13\" >BWA</td>\n",
       "            </tr>\n",
       "            <tr>\n",
       "                        <th id=\"T_5e8d6992_c025_11ea_b0ff_30d9d9eee573level0_row158\" class=\"row_heading level0 row158\" >59</th>\n",
       "                        <td id=\"T_5e8d6992_c025_11ea_b0ff_30d9d9eee573row158_col0\" class=\"data row158 col0\" >Comoros</td>\n",
       "                        <td id=\"T_5e8d6992_c025_11ea_b0ff_30d9d9eee573row158_col1\" class=\"data row158 col1\" >2020-07-07 07:33:57</td>\n",
       "                        <td id=\"T_5e8d6992_c025_11ea_b0ff_30d9d9eee573row158_col2\" class=\"data row158 col2\" >-11.6455</td>\n",
       "                        <td id=\"T_5e8d6992_c025_11ea_b0ff_30d9d9eee573row158_col3\" class=\"data row158 col3\" >43.3333</td>\n",
       "                        <td id=\"T_5e8d6992_c025_11ea_b0ff_30d9d9eee573row158_col4\" class=\"data row158 col4\" >311</td>\n",
       "                        <td id=\"T_5e8d6992_c025_11ea_b0ff_30d9d9eee573row158_col5\" class=\"data row158 col5\" >7</td>\n",
       "                        <td id=\"T_5e8d6992_c025_11ea_b0ff_30d9d9eee573row158_col6\" class=\"data row158 col6\" >266</td>\n",
       "                        <td id=\"T_5e8d6992_c025_11ea_b0ff_30d9d9eee573row158_col7\" class=\"data row158 col7\" >38</td>\n",
       "                        <td id=\"T_5e8d6992_c025_11ea_b0ff_30d9d9eee573row158_col8\" class=\"data row158 col8\" >35.7638</td>\n",
       "                        <td id=\"T_5e8d6992_c025_11ea_b0ff_30d9d9eee573row158_col9\" class=\"data row158 col9\" >nan</td>\n",
       "                        <td id=\"T_5e8d6992_c025_11ea_b0ff_30d9d9eee573row158_col10\" class=\"data row158 col10\" >nan</td>\n",
       "                        <td id=\"T_5e8d6992_c025_11ea_b0ff_30d9d9eee573row158_col11\" class=\"data row158 col11\" >2.2508</td>\n",
       "                        <td id=\"T_5e8d6992_c025_11ea_b0ff_30d9d9eee573row158_col12\" class=\"data row158 col12\" >174</td>\n",
       "                        <td id=\"T_5e8d6992_c025_11ea_b0ff_30d9d9eee573row158_col13\" class=\"data row158 col13\" >COM</td>\n",
       "            </tr>\n",
       "            <tr>\n",
       "                        <th id=\"T_5e8d6992_c025_11ea_b0ff_30d9d9eee573level0_row159\" class=\"row_heading level0 row159\" >90</th>\n",
       "                        <td id=\"T_5e8d6992_c025_11ea_b0ff_30d9d9eee573row159_col0\" class=\"data row159 col0\" >Guyana</td>\n",
       "                        <td id=\"T_5e8d6992_c025_11ea_b0ff_30d9d9eee573row159_col1\" class=\"data row159 col1\" >2020-07-07 07:33:57</td>\n",
       "                        <td id=\"T_5e8d6992_c025_11ea_b0ff_30d9d9eee573row159_col2\" class=\"data row159 col2\" >4.86042</td>\n",
       "                        <td id=\"T_5e8d6992_c025_11ea_b0ff_30d9d9eee573row159_col3\" class=\"data row159 col3\" >-58.9302</td>\n",
       "                        <td id=\"T_5e8d6992_c025_11ea_b0ff_30d9d9eee573row159_col4\" class=\"data row159 col4\" >273</td>\n",
       "                        <td id=\"T_5e8d6992_c025_11ea_b0ff_30d9d9eee573row159_col5\" class=\"data row159 col5\" >15</td>\n",
       "                        <td id=\"T_5e8d6992_c025_11ea_b0ff_30d9d9eee573row159_col6\" class=\"data row159 col6\" >120</td>\n",
       "                        <td id=\"T_5e8d6992_c025_11ea_b0ff_30d9d9eee573row159_col7\" class=\"data row159 col7\" >138</td>\n",
       "                        <td id=\"T_5e8d6992_c025_11ea_b0ff_30d9d9eee573row159_col8\" class=\"data row159 col8\" >34.7081</td>\n",
       "                        <td id=\"T_5e8d6992_c025_11ea_b0ff_30d9d9eee573row159_col9\" class=\"data row159 col9\" >nan</td>\n",
       "                        <td id=\"T_5e8d6992_c025_11ea_b0ff_30d9d9eee573row159_col10\" class=\"data row159 col10\" >nan</td>\n",
       "                        <td id=\"T_5e8d6992_c025_11ea_b0ff_30d9d9eee573row159_col11\" class=\"data row159 col11\" >5.49451</td>\n",
       "                        <td id=\"T_5e8d6992_c025_11ea_b0ff_30d9d9eee573row159_col12\" class=\"data row159 col12\" >328</td>\n",
       "                        <td id=\"T_5e8d6992_c025_11ea_b0ff_30d9d9eee573row159_col13\" class=\"data row159 col13\" >GUY</td>\n",
       "            </tr>\n",
       "            <tr>\n",
       "                        <th id=\"T_5e8d6992_c025_11ea_b0ff_30d9d9eee573level0_row160\" class=\"row_heading level0 row160\" >127</th>\n",
       "                        <td id=\"T_5e8d6992_c025_11ea_b0ff_30d9d9eee573row160_col0\" class=\"data row160 col0\" >Mongolia</td>\n",
       "                        <td id=\"T_5e8d6992_c025_11ea_b0ff_30d9d9eee573row160_col1\" class=\"data row160 col1\" >2020-07-07 07:33:57</td>\n",
       "                        <td id=\"T_5e8d6992_c025_11ea_b0ff_30d9d9eee573row160_col2\" class=\"data row160 col2\" >46.8625</td>\n",
       "                        <td id=\"T_5e8d6992_c025_11ea_b0ff_30d9d9eee573row160_col3\" class=\"data row160 col3\" >103.847</td>\n",
       "                        <td id=\"T_5e8d6992_c025_11ea_b0ff_30d9d9eee573row160_col4\" class=\"data row160 col4\" >225</td>\n",
       "                        <td id=\"T_5e8d6992_c025_11ea_b0ff_30d9d9eee573row160_col5\" class=\"data row160 col5\" >0</td>\n",
       "                        <td id=\"T_5e8d6992_c025_11ea_b0ff_30d9d9eee573row160_col6\" class=\"data row160 col6\" >194</td>\n",
       "                        <td id=\"T_5e8d6992_c025_11ea_b0ff_30d9d9eee573row160_col7\" class=\"data row160 col7\" >31</td>\n",
       "                        <td id=\"T_5e8d6992_c025_11ea_b0ff_30d9d9eee573row160_col8\" class=\"data row160 col8\" >6.86333</td>\n",
       "                        <td id=\"T_5e8d6992_c025_11ea_b0ff_30d9d9eee573row160_col9\" class=\"data row160 col9\" >nan</td>\n",
       "                        <td id=\"T_5e8d6992_c025_11ea_b0ff_30d9d9eee573row160_col10\" class=\"data row160 col10\" >nan</td>\n",
       "                        <td id=\"T_5e8d6992_c025_11ea_b0ff_30d9d9eee573row160_col11\" class=\"data row160 col11\" >0</td>\n",
       "                        <td id=\"T_5e8d6992_c025_11ea_b0ff_30d9d9eee573row160_col12\" class=\"data row160 col12\" >496</td>\n",
       "                        <td id=\"T_5e8d6992_c025_11ea_b0ff_30d9d9eee573row160_col13\" class=\"data row160 col13\" >MNG</td>\n",
       "            </tr>\n",
       "            <tr>\n",
       "                        <th id=\"T_5e8d6992_c025_11ea_b0ff_30d9d9eee573level0_row161\" class=\"row_heading level0 row161\" >76</th>\n",
       "                        <td id=\"T_5e8d6992_c025_11ea_b0ff_30d9d9eee573row161_col0\" class=\"data row161 col0\" >Eritrea</td>\n",
       "                        <td id=\"T_5e8d6992_c025_11ea_b0ff_30d9d9eee573row161_col1\" class=\"data row161 col1\" >2020-07-07 07:33:57</td>\n",
       "                        <td id=\"T_5e8d6992_c025_11ea_b0ff_30d9d9eee573row161_col2\" class=\"data row161 col2\" >15.1794</td>\n",
       "                        <td id=\"T_5e8d6992_c025_11ea_b0ff_30d9d9eee573row161_col3\" class=\"data row161 col3\" >39.7823</td>\n",
       "                        <td id=\"T_5e8d6992_c025_11ea_b0ff_30d9d9eee573row161_col4\" class=\"data row161 col4\" >215</td>\n",
       "                        <td id=\"T_5e8d6992_c025_11ea_b0ff_30d9d9eee573row161_col5\" class=\"data row161 col5\" >0</td>\n",
       "                        <td id=\"T_5e8d6992_c025_11ea_b0ff_30d9d9eee573row161_col6\" class=\"data row161 col6\" >56</td>\n",
       "                        <td id=\"T_5e8d6992_c025_11ea_b0ff_30d9d9eee573row161_col7\" class=\"data row161 col7\" >159</td>\n",
       "                        <td id=\"T_5e8d6992_c025_11ea_b0ff_30d9d9eee573row161_col8\" class=\"data row161 col8\" >6.06244</td>\n",
       "                        <td id=\"T_5e8d6992_c025_11ea_b0ff_30d9d9eee573row161_col9\" class=\"data row161 col9\" >nan</td>\n",
       "                        <td id=\"T_5e8d6992_c025_11ea_b0ff_30d9d9eee573row161_col10\" class=\"data row161 col10\" >nan</td>\n",
       "                        <td id=\"T_5e8d6992_c025_11ea_b0ff_30d9d9eee573row161_col11\" class=\"data row161 col11\" >0</td>\n",
       "                        <td id=\"T_5e8d6992_c025_11ea_b0ff_30d9d9eee573row161_col12\" class=\"data row161 col12\" >232</td>\n",
       "                        <td id=\"T_5e8d6992_c025_11ea_b0ff_30d9d9eee573row161_col13\" class=\"data row161 col13\" >ERI</td>\n",
       "            </tr>\n",
       "            <tr>\n",
       "                        <th id=\"T_5e8d6992_c025_11ea_b0ff_30d9d9eee573level0_row162\" class=\"row_heading level0 row162\" >53</th>\n",
       "                        <td id=\"T_5e8d6992_c025_11ea_b0ff_30d9d9eee573row162_col0\" class=\"data row162 col0\" >Burundi</td>\n",
       "                        <td id=\"T_5e8d6992_c025_11ea_b0ff_30d9d9eee573row162_col1\" class=\"data row162 col1\" >2020-07-07 07:33:57</td>\n",
       "                        <td id=\"T_5e8d6992_c025_11ea_b0ff_30d9d9eee573row162_col2\" class=\"data row162 col2\" >-3.3731</td>\n",
       "                        <td id=\"T_5e8d6992_c025_11ea_b0ff_30d9d9eee573row162_col3\" class=\"data row162 col3\" >29.9189</td>\n",
       "                        <td id=\"T_5e8d6992_c025_11ea_b0ff_30d9d9eee573row162_col4\" class=\"data row162 col4\" >191</td>\n",
       "                        <td id=\"T_5e8d6992_c025_11ea_b0ff_30d9d9eee573row162_col5\" class=\"data row162 col5\" >1</td>\n",
       "                        <td id=\"T_5e8d6992_c025_11ea_b0ff_30d9d9eee573row162_col6\" class=\"data row162 col6\" >118</td>\n",
       "                        <td id=\"T_5e8d6992_c025_11ea_b0ff_30d9d9eee573row162_col7\" class=\"data row162 col7\" >72</td>\n",
       "                        <td id=\"T_5e8d6992_c025_11ea_b0ff_30d9d9eee573row162_col8\" class=\"data row162 col8\" >1.60629</td>\n",
       "                        <td id=\"T_5e8d6992_c025_11ea_b0ff_30d9d9eee573row162_col9\" class=\"data row162 col9\" >nan</td>\n",
       "                        <td id=\"T_5e8d6992_c025_11ea_b0ff_30d9d9eee573row162_col10\" class=\"data row162 col10\" >nan</td>\n",
       "                        <td id=\"T_5e8d6992_c025_11ea_b0ff_30d9d9eee573row162_col11\" class=\"data row162 col11\" >0.52356</td>\n",
       "                        <td id=\"T_5e8d6992_c025_11ea_b0ff_30d9d9eee573row162_col12\" class=\"data row162 col12\" >108</td>\n",
       "                        <td id=\"T_5e8d6992_c025_11ea_b0ff_30d9d9eee573row162_col13\" class=\"data row162 col13\" >BDI</td>\n",
       "            </tr>\n",
       "            <tr>\n",
       "                        <th id=\"T_5e8d6992_c025_11ea_b0ff_30d9d9eee573level0_row163\" class=\"row_heading level0 row163\" >55</th>\n",
       "                        <td id=\"T_5e8d6992_c025_11ea_b0ff_30d9d9eee573row163_col0\" class=\"data row163 col0\" >Cambodia</td>\n",
       "                        <td id=\"T_5e8d6992_c025_11ea_b0ff_30d9d9eee573row163_col1\" class=\"data row163 col1\" >2020-07-07 07:33:57</td>\n",
       "                        <td id=\"T_5e8d6992_c025_11ea_b0ff_30d9d9eee573row163_col2\" class=\"data row163 col2\" >11.55</td>\n",
       "                        <td id=\"T_5e8d6992_c025_11ea_b0ff_30d9d9eee573row163_col3\" class=\"data row163 col3\" >104.917</td>\n",
       "                        <td id=\"T_5e8d6992_c025_11ea_b0ff_30d9d9eee573row163_col4\" class=\"data row163 col4\" >141</td>\n",
       "                        <td id=\"T_5e8d6992_c025_11ea_b0ff_30d9d9eee573row163_col5\" class=\"data row163 col5\" >0</td>\n",
       "                        <td id=\"T_5e8d6992_c025_11ea_b0ff_30d9d9eee573row163_col6\" class=\"data row163 col6\" >131</td>\n",
       "                        <td id=\"T_5e8d6992_c025_11ea_b0ff_30d9d9eee573row163_col7\" class=\"data row163 col7\" >10</td>\n",
       "                        <td id=\"T_5e8d6992_c025_11ea_b0ff_30d9d9eee573row163_col8\" class=\"data row163 col8\" >0.843353</td>\n",
       "                        <td id=\"T_5e8d6992_c025_11ea_b0ff_30d9d9eee573row163_col9\" class=\"data row163 col9\" >nan</td>\n",
       "                        <td id=\"T_5e8d6992_c025_11ea_b0ff_30d9d9eee573row163_col10\" class=\"data row163 col10\" >nan</td>\n",
       "                        <td id=\"T_5e8d6992_c025_11ea_b0ff_30d9d9eee573row163_col11\" class=\"data row163 col11\" >0</td>\n",
       "                        <td id=\"T_5e8d6992_c025_11ea_b0ff_30d9d9eee573row163_col12\" class=\"data row163 col12\" >116</td>\n",
       "                        <td id=\"T_5e8d6992_c025_11ea_b0ff_30d9d9eee573row163_col13\" class=\"data row163 col13\" >KHM</td>\n",
       "            </tr>\n",
       "            <tr>\n",
       "                        <th id=\"T_5e8d6992_c025_11ea_b0ff_30d9d9eee573level0_row164\" class=\"row_heading level0 row164\" >49</th>\n",
       "                        <td id=\"T_5e8d6992_c025_11ea_b0ff_30d9d9eee573row164_col0\" class=\"data row164 col0\" >Brunei</td>\n",
       "                        <td id=\"T_5e8d6992_c025_11ea_b0ff_30d9d9eee573row164_col1\" class=\"data row164 col1\" >2020-07-07 07:33:57</td>\n",
       "                        <td id=\"T_5e8d6992_c025_11ea_b0ff_30d9d9eee573row164_col2\" class=\"data row164 col2\" >4.5353</td>\n",
       "                        <td id=\"T_5e8d6992_c025_11ea_b0ff_30d9d9eee573row164_col3\" class=\"data row164 col3\" >114.728</td>\n",
       "                        <td id=\"T_5e8d6992_c025_11ea_b0ff_30d9d9eee573row164_col4\" class=\"data row164 col4\" >141</td>\n",
       "                        <td id=\"T_5e8d6992_c025_11ea_b0ff_30d9d9eee573row164_col5\" class=\"data row164 col5\" >3</td>\n",
       "                        <td id=\"T_5e8d6992_c025_11ea_b0ff_30d9d9eee573row164_col6\" class=\"data row164 col6\" >138</td>\n",
       "                        <td id=\"T_5e8d6992_c025_11ea_b0ff_30d9d9eee573row164_col7\" class=\"data row164 col7\" >0</td>\n",
       "                        <td id=\"T_5e8d6992_c025_11ea_b0ff_30d9d9eee573row164_col8\" class=\"data row164 col8\" >32.2298</td>\n",
       "                        <td id=\"T_5e8d6992_c025_11ea_b0ff_30d9d9eee573row164_col9\" class=\"data row164 col9\" >nan</td>\n",
       "                        <td id=\"T_5e8d6992_c025_11ea_b0ff_30d9d9eee573row164_col10\" class=\"data row164 col10\" >nan</td>\n",
       "                        <td id=\"T_5e8d6992_c025_11ea_b0ff_30d9d9eee573row164_col11\" class=\"data row164 col11\" >2.12766</td>\n",
       "                        <td id=\"T_5e8d6992_c025_11ea_b0ff_30d9d9eee573row164_col12\" class=\"data row164 col12\" >96</td>\n",
       "                        <td id=\"T_5e8d6992_c025_11ea_b0ff_30d9d9eee573row164_col13\" class=\"data row164 col13\" >BRN</td>\n",
       "            </tr>\n",
       "            <tr>\n",
       "                        <th id=\"T_5e8d6992_c025_11ea_b0ff_30d9d9eee573level0_row165\" class=\"row_heading level0 row165\" >174</th>\n",
       "                        <td id=\"T_5e8d6992_c025_11ea_b0ff_30d9d9eee573row165_col0\" class=\"data row165 col0\" >Trinidad and Tobago</td>\n",
       "                        <td id=\"T_5e8d6992_c025_11ea_b0ff_30d9d9eee573row165_col1\" class=\"data row165 col1\" >2020-07-07 07:33:57</td>\n",
       "                        <td id=\"T_5e8d6992_c025_11ea_b0ff_30d9d9eee573row165_col2\" class=\"data row165 col2\" >10.6918</td>\n",
       "                        <td id=\"T_5e8d6992_c025_11ea_b0ff_30d9d9eee573row165_col3\" class=\"data row165 col3\" >-61.2225</td>\n",
       "                        <td id=\"T_5e8d6992_c025_11ea_b0ff_30d9d9eee573row165_col4\" class=\"data row165 col4\" >133</td>\n",
       "                        <td id=\"T_5e8d6992_c025_11ea_b0ff_30d9d9eee573row165_col5\" class=\"data row165 col5\" >8</td>\n",
       "                        <td id=\"T_5e8d6992_c025_11ea_b0ff_30d9d9eee573row165_col6\" class=\"data row165 col6\" >117</td>\n",
       "                        <td id=\"T_5e8d6992_c025_11ea_b0ff_30d9d9eee573row165_col7\" class=\"data row165 col7\" >8</td>\n",
       "                        <td id=\"T_5e8d6992_c025_11ea_b0ff_30d9d9eee573row165_col8\" class=\"data row165 col8\" >9.50346</td>\n",
       "                        <td id=\"T_5e8d6992_c025_11ea_b0ff_30d9d9eee573row165_col9\" class=\"data row165 col9\" >nan</td>\n",
       "                        <td id=\"T_5e8d6992_c025_11ea_b0ff_30d9d9eee573row165_col10\" class=\"data row165 col10\" >nan</td>\n",
       "                        <td id=\"T_5e8d6992_c025_11ea_b0ff_30d9d9eee573row165_col11\" class=\"data row165 col11\" >6.01504</td>\n",
       "                        <td id=\"T_5e8d6992_c025_11ea_b0ff_30d9d9eee573row165_col12\" class=\"data row165 col12\" >780</td>\n",
       "                        <td id=\"T_5e8d6992_c025_11ea_b0ff_30d9d9eee573row165_col13\" class=\"data row165 col13\" >TTO</td>\n",
       "            </tr>\n",
       "            <tr>\n",
       "                        <th id=\"T_5e8d6992_c025_11ea_b0ff_30d9d9eee573level0_row166\" class=\"row_heading level0 row166\" >126</th>\n",
       "                        <td id=\"T_5e8d6992_c025_11ea_b0ff_30d9d9eee573row166_col0\" class=\"data row166 col0\" >Monaco</td>\n",
       "                        <td id=\"T_5e8d6992_c025_11ea_b0ff_30d9d9eee573row166_col1\" class=\"data row166 col1\" >2020-07-07 07:33:57</td>\n",
       "                        <td id=\"T_5e8d6992_c025_11ea_b0ff_30d9d9eee573row166_col2\" class=\"data row166 col2\" >43.7333</td>\n",
       "                        <td id=\"T_5e8d6992_c025_11ea_b0ff_30d9d9eee573row166_col3\" class=\"data row166 col3\" >7.4167</td>\n",
       "                        <td id=\"T_5e8d6992_c025_11ea_b0ff_30d9d9eee573row166_col4\" class=\"data row166 col4\" >108</td>\n",
       "                        <td id=\"T_5e8d6992_c025_11ea_b0ff_30d9d9eee573row166_col5\" class=\"data row166 col5\" >4</td>\n",
       "                        <td id=\"T_5e8d6992_c025_11ea_b0ff_30d9d9eee573row166_col6\" class=\"data row166 col6\" >95</td>\n",
       "                        <td id=\"T_5e8d6992_c025_11ea_b0ff_30d9d9eee573row166_col7\" class=\"data row166 col7\" >9</td>\n",
       "                        <td id=\"T_5e8d6992_c025_11ea_b0ff_30d9d9eee573row166_col8\" class=\"data row166 col8\" >275.201</td>\n",
       "                        <td id=\"T_5e8d6992_c025_11ea_b0ff_30d9d9eee573row166_col9\" class=\"data row166 col9\" >nan</td>\n",
       "                        <td id=\"T_5e8d6992_c025_11ea_b0ff_30d9d9eee573row166_col10\" class=\"data row166 col10\" >nan</td>\n",
       "                        <td id=\"T_5e8d6992_c025_11ea_b0ff_30d9d9eee573row166_col11\" class=\"data row166 col11\" >3.7037</td>\n",
       "                        <td id=\"T_5e8d6992_c025_11ea_b0ff_30d9d9eee573row166_col12\" class=\"data row166 col12\" >492</td>\n",
       "                        <td id=\"T_5e8d6992_c025_11ea_b0ff_30d9d9eee573row166_col13\" class=\"data row166 col13\" >MCO</td>\n",
       "            </tr>\n",
       "            <tr>\n",
       "                        <th id=\"T_5e8d6992_c025_11ea_b0ff_30d9d9eee573level0_row167\" class=\"row_heading level0 row167\" >37</th>\n",
       "                        <td id=\"T_5e8d6992_c025_11ea_b0ff_30d9d9eee573row167_col0\" class=\"data row167 col0\" >Bahamas</td>\n",
       "                        <td id=\"T_5e8d6992_c025_11ea_b0ff_30d9d9eee573row167_col1\" class=\"data row167 col1\" >2020-07-07 07:33:57</td>\n",
       "                        <td id=\"T_5e8d6992_c025_11ea_b0ff_30d9d9eee573row167_col2\" class=\"data row167 col2\" >25.0259</td>\n",
       "                        <td id=\"T_5e8d6992_c025_11ea_b0ff_30d9d9eee573row167_col3\" class=\"data row167 col3\" >-78.0359</td>\n",
       "                        <td id=\"T_5e8d6992_c025_11ea_b0ff_30d9d9eee573row167_col4\" class=\"data row167 col4\" >104</td>\n",
       "                        <td id=\"T_5e8d6992_c025_11ea_b0ff_30d9d9eee573row167_col5\" class=\"data row167 col5\" >11</td>\n",
       "                        <td id=\"T_5e8d6992_c025_11ea_b0ff_30d9d9eee573row167_col6\" class=\"data row167 col6\" >89</td>\n",
       "                        <td id=\"T_5e8d6992_c025_11ea_b0ff_30d9d9eee573row167_col7\" class=\"data row167 col7\" >4</td>\n",
       "                        <td id=\"T_5e8d6992_c025_11ea_b0ff_30d9d9eee573row167_col8\" class=\"data row167 col8\" >26.4464</td>\n",
       "                        <td id=\"T_5e8d6992_c025_11ea_b0ff_30d9d9eee573row167_col9\" class=\"data row167 col9\" >nan</td>\n",
       "                        <td id=\"T_5e8d6992_c025_11ea_b0ff_30d9d9eee573row167_col10\" class=\"data row167 col10\" >nan</td>\n",
       "                        <td id=\"T_5e8d6992_c025_11ea_b0ff_30d9d9eee573row167_col11\" class=\"data row167 col11\" >10.5769</td>\n",
       "                        <td id=\"T_5e8d6992_c025_11ea_b0ff_30d9d9eee573row167_col12\" class=\"data row167 col12\" >44</td>\n",
       "                        <td id=\"T_5e8d6992_c025_11ea_b0ff_30d9d9eee573row167_col13\" class=\"data row167 col13\" >BHS</td>\n",
       "            </tr>\n",
       "            <tr>\n",
       "                        <th id=\"T_5e8d6992_c025_11ea_b0ff_30d9d9eee573level0_row168\" class=\"row_heading level0 row168\" >40</th>\n",
       "                        <td id=\"T_5e8d6992_c025_11ea_b0ff_30d9d9eee573row168_col0\" class=\"data row168 col0\" >Barbados</td>\n",
       "                        <td id=\"T_5e8d6992_c025_11ea_b0ff_30d9d9eee573row168_col1\" class=\"data row168 col1\" >2020-07-07 07:33:57</td>\n",
       "                        <td id=\"T_5e8d6992_c025_11ea_b0ff_30d9d9eee573row168_col2\" class=\"data row168 col2\" >13.1939</td>\n",
       "                        <td id=\"T_5e8d6992_c025_11ea_b0ff_30d9d9eee573row168_col3\" class=\"data row168 col3\" >-59.5432</td>\n",
       "                        <td id=\"T_5e8d6992_c025_11ea_b0ff_30d9d9eee573row168_col4\" class=\"data row168 col4\" >98</td>\n",
       "                        <td id=\"T_5e8d6992_c025_11ea_b0ff_30d9d9eee573row168_col5\" class=\"data row168 col5\" >7</td>\n",
       "                        <td id=\"T_5e8d6992_c025_11ea_b0ff_30d9d9eee573row168_col6\" class=\"data row168 col6\" >90</td>\n",
       "                        <td id=\"T_5e8d6992_c025_11ea_b0ff_30d9d9eee573row168_col7\" class=\"data row168 col7\" >1</td>\n",
       "                        <td id=\"T_5e8d6992_c025_11ea_b0ff_30d9d9eee573row168_col8\" class=\"data row168 col8\" >34.1023</td>\n",
       "                        <td id=\"T_5e8d6992_c025_11ea_b0ff_30d9d9eee573row168_col9\" class=\"data row168 col9\" >nan</td>\n",
       "                        <td id=\"T_5e8d6992_c025_11ea_b0ff_30d9d9eee573row168_col10\" class=\"data row168 col10\" >nan</td>\n",
       "                        <td id=\"T_5e8d6992_c025_11ea_b0ff_30d9d9eee573row168_col11\" class=\"data row168 col11\" >7.14286</td>\n",
       "                        <td id=\"T_5e8d6992_c025_11ea_b0ff_30d9d9eee573row168_col12\" class=\"data row168 col12\" >52</td>\n",
       "                        <td id=\"T_5e8d6992_c025_11ea_b0ff_30d9d9eee573row168_col13\" class=\"data row168 col13\" >BRB</td>\n",
       "            </tr>\n",
       "            <tr>\n",
       "                        <th id=\"T_5e8d6992_c025_11ea_b0ff_30d9d9eee573level0_row169\" class=\"row_heading level0 row169\" >110</th>\n",
       "                        <td id=\"T_5e8d6992_c025_11ea_b0ff_30d9d9eee573row169_col0\" class=\"data row169 col0\" >Lesotho</td>\n",
       "                        <td id=\"T_5e8d6992_c025_11ea_b0ff_30d9d9eee573row169_col1\" class=\"data row169 col1\" >2020-07-07 07:33:57</td>\n",
       "                        <td id=\"T_5e8d6992_c025_11ea_b0ff_30d9d9eee573row169_col2\" class=\"data row169 col2\" >-29.61</td>\n",
       "                        <td id=\"T_5e8d6992_c025_11ea_b0ff_30d9d9eee573row169_col3\" class=\"data row169 col3\" >28.2336</td>\n",
       "                        <td id=\"T_5e8d6992_c025_11ea_b0ff_30d9d9eee573row169_col4\" class=\"data row169 col4\" >91</td>\n",
       "                        <td id=\"T_5e8d6992_c025_11ea_b0ff_30d9d9eee573row169_col5\" class=\"data row169 col5\" >0</td>\n",
       "                        <td id=\"T_5e8d6992_c025_11ea_b0ff_30d9d9eee573row169_col6\" class=\"data row169 col6\" >11</td>\n",
       "                        <td id=\"T_5e8d6992_c025_11ea_b0ff_30d9d9eee573row169_col7\" class=\"data row169 col7\" >80</td>\n",
       "                        <td id=\"T_5e8d6992_c025_11ea_b0ff_30d9d9eee573row169_col8\" class=\"data row169 col8\" >4.24787</td>\n",
       "                        <td id=\"T_5e8d6992_c025_11ea_b0ff_30d9d9eee573row169_col9\" class=\"data row169 col9\" >nan</td>\n",
       "                        <td id=\"T_5e8d6992_c025_11ea_b0ff_30d9d9eee573row169_col10\" class=\"data row169 col10\" >nan</td>\n",
       "                        <td id=\"T_5e8d6992_c025_11ea_b0ff_30d9d9eee573row169_col11\" class=\"data row169 col11\" >0</td>\n",
       "                        <td id=\"T_5e8d6992_c025_11ea_b0ff_30d9d9eee573row169_col12\" class=\"data row169 col12\" >426</td>\n",
       "                        <td id=\"T_5e8d6992_c025_11ea_b0ff_30d9d9eee573row169_col13\" class=\"data row169 col13\" >LSO</td>\n",
       "            </tr>\n",
       "            <tr>\n",
       "                        <th id=\"T_5e8d6992_c025_11ea_b0ff_30d9d9eee573level0_row170\" class=\"row_heading level0 row170\" >113</th>\n",
       "                        <td id=\"T_5e8d6992_c025_11ea_b0ff_30d9d9eee573row170_col0\" class=\"data row170 col0\" >Liechtenstein</td>\n",
       "                        <td id=\"T_5e8d6992_c025_11ea_b0ff_30d9d9eee573row170_col1\" class=\"data row170 col1\" >2020-07-07 07:33:57</td>\n",
       "                        <td id=\"T_5e8d6992_c025_11ea_b0ff_30d9d9eee573row170_col2\" class=\"data row170 col2\" >47.14</td>\n",
       "                        <td id=\"T_5e8d6992_c025_11ea_b0ff_30d9d9eee573row170_col3\" class=\"data row170 col3\" >9.55</td>\n",
       "                        <td id=\"T_5e8d6992_c025_11ea_b0ff_30d9d9eee573row170_col4\" class=\"data row170 col4\" >84</td>\n",
       "                        <td id=\"T_5e8d6992_c025_11ea_b0ff_30d9d9eee573row170_col5\" class=\"data row170 col5\" >1</td>\n",
       "                        <td id=\"T_5e8d6992_c025_11ea_b0ff_30d9d9eee573row170_col6\" class=\"data row170 col6\" >81</td>\n",
       "                        <td id=\"T_5e8d6992_c025_11ea_b0ff_30d9d9eee573row170_col7\" class=\"data row170 col7\" >2</td>\n",
       "                        <td id=\"T_5e8d6992_c025_11ea_b0ff_30d9d9eee573row170_col8\" class=\"data row170 col8\" >220.259</td>\n",
       "                        <td id=\"T_5e8d6992_c025_11ea_b0ff_30d9d9eee573row170_col9\" class=\"data row170 col9\" >nan</td>\n",
       "                        <td id=\"T_5e8d6992_c025_11ea_b0ff_30d9d9eee573row170_col10\" class=\"data row170 col10\" >nan</td>\n",
       "                        <td id=\"T_5e8d6992_c025_11ea_b0ff_30d9d9eee573row170_col11\" class=\"data row170 col11\" >1.19048</td>\n",
       "                        <td id=\"T_5e8d6992_c025_11ea_b0ff_30d9d9eee573row170_col12\" class=\"data row170 col12\" >438</td>\n",
       "                        <td id=\"T_5e8d6992_c025_11ea_b0ff_30d9d9eee573row170_col13\" class=\"data row170 col13\" >LIE</td>\n",
       "            </tr>\n",
       "            <tr>\n",
       "                        <th id=\"T_5e8d6992_c025_11ea_b0ff_30d9d9eee573level0_row171\" class=\"row_heading level0 row171\" >156</th>\n",
       "                        <td id=\"T_5e8d6992_c025_11ea_b0ff_30d9d9eee573row171_col0\" class=\"data row171 col0\" >Seychelles</td>\n",
       "                        <td id=\"T_5e8d6992_c025_11ea_b0ff_30d9d9eee573row171_col1\" class=\"data row171 col1\" >2020-07-07 07:33:57</td>\n",
       "                        <td id=\"T_5e8d6992_c025_11ea_b0ff_30d9d9eee573row171_col2\" class=\"data row171 col2\" >-4.6796</td>\n",
       "                        <td id=\"T_5e8d6992_c025_11ea_b0ff_30d9d9eee573row171_col3\" class=\"data row171 col3\" >55.492</td>\n",
       "                        <td id=\"T_5e8d6992_c025_11ea_b0ff_30d9d9eee573row171_col4\" class=\"data row171 col4\" >81</td>\n",
       "                        <td id=\"T_5e8d6992_c025_11ea_b0ff_30d9d9eee573row171_col5\" class=\"data row171 col5\" >0</td>\n",
       "                        <td id=\"T_5e8d6992_c025_11ea_b0ff_30d9d9eee573row171_col6\" class=\"data row171 col6\" >11</td>\n",
       "                        <td id=\"T_5e8d6992_c025_11ea_b0ff_30d9d9eee573row171_col7\" class=\"data row171 col7\" >70</td>\n",
       "                        <td id=\"T_5e8d6992_c025_11ea_b0ff_30d9d9eee573row171_col8\" class=\"data row171 col8\" >82.3673</td>\n",
       "                        <td id=\"T_5e8d6992_c025_11ea_b0ff_30d9d9eee573row171_col9\" class=\"data row171 col9\" >nan</td>\n",
       "                        <td id=\"T_5e8d6992_c025_11ea_b0ff_30d9d9eee573row171_col10\" class=\"data row171 col10\" >nan</td>\n",
       "                        <td id=\"T_5e8d6992_c025_11ea_b0ff_30d9d9eee573row171_col11\" class=\"data row171 col11\" >0</td>\n",
       "                        <td id=\"T_5e8d6992_c025_11ea_b0ff_30d9d9eee573row171_col12\" class=\"data row171 col12\" >690</td>\n",
       "                        <td id=\"T_5e8d6992_c025_11ea_b0ff_30d9d9eee573row171_col13\" class=\"data row171 col13\" >SYC</td>\n",
       "            </tr>\n",
       "            <tr>\n",
       "                        <th id=\"T_5e8d6992_c025_11ea_b0ff_30d9d9eee573level0_row172\" class=\"row_heading level0 row172\" >45</th>\n",
       "                        <td id=\"T_5e8d6992_c025_11ea_b0ff_30d9d9eee573row172_col0\" class=\"data row172 col0\" >Bhutan</td>\n",
       "                        <td id=\"T_5e8d6992_c025_11ea_b0ff_30d9d9eee573row172_col1\" class=\"data row172 col1\" >2020-07-07 07:33:57</td>\n",
       "                        <td id=\"T_5e8d6992_c025_11ea_b0ff_30d9d9eee573row172_col2\" class=\"data row172 col2\" >27.5142</td>\n",
       "                        <td id=\"T_5e8d6992_c025_11ea_b0ff_30d9d9eee573row172_col3\" class=\"data row172 col3\" >90.4336</td>\n",
       "                        <td id=\"T_5e8d6992_c025_11ea_b0ff_30d9d9eee573row172_col4\" class=\"data row172 col4\" >80</td>\n",
       "                        <td id=\"T_5e8d6992_c025_11ea_b0ff_30d9d9eee573row172_col5\" class=\"data row172 col5\" >0</td>\n",
       "                        <td id=\"T_5e8d6992_c025_11ea_b0ff_30d9d9eee573row172_col6\" class=\"data row172 col6\" >54</td>\n",
       "                        <td id=\"T_5e8d6992_c025_11ea_b0ff_30d9d9eee573row172_col7\" class=\"data row172 col7\" >26</td>\n",
       "                        <td id=\"T_5e8d6992_c025_11ea_b0ff_30d9d9eee573row172_col8\" class=\"data row172 col8\" >10.3679</td>\n",
       "                        <td id=\"T_5e8d6992_c025_11ea_b0ff_30d9d9eee573row172_col9\" class=\"data row172 col9\" >nan</td>\n",
       "                        <td id=\"T_5e8d6992_c025_11ea_b0ff_30d9d9eee573row172_col10\" class=\"data row172 col10\" >nan</td>\n",
       "                        <td id=\"T_5e8d6992_c025_11ea_b0ff_30d9d9eee573row172_col11\" class=\"data row172 col11\" >0</td>\n",
       "                        <td id=\"T_5e8d6992_c025_11ea_b0ff_30d9d9eee573row172_col12\" class=\"data row172 col12\" >64</td>\n",
       "                        <td id=\"T_5e8d6992_c025_11ea_b0ff_30d9d9eee573row172_col13\" class=\"data row172 col13\" >BTN</td>\n",
       "            </tr>\n",
       "            <tr>\n",
       "                        <th id=\"T_5e8d6992_c025_11ea_b0ff_30d9d9eee573level0_row173\" class=\"row_heading level0 row173\" >33</th>\n",
       "                        <td id=\"T_5e8d6992_c025_11ea_b0ff_30d9d9eee573row173_col0\" class=\"data row173 col0\" >Antigua and Barbuda</td>\n",
       "                        <td id=\"T_5e8d6992_c025_11ea_b0ff_30d9d9eee573row173_col1\" class=\"data row173 col1\" >2020-07-07 07:33:57</td>\n",
       "                        <td id=\"T_5e8d6992_c025_11ea_b0ff_30d9d9eee573row173_col2\" class=\"data row173 col2\" >17.0608</td>\n",
       "                        <td id=\"T_5e8d6992_c025_11ea_b0ff_30d9d9eee573row173_col3\" class=\"data row173 col3\" >-61.7964</td>\n",
       "                        <td id=\"T_5e8d6992_c025_11ea_b0ff_30d9d9eee573row173_col4\" class=\"data row173 col4\" >70</td>\n",
       "                        <td id=\"T_5e8d6992_c025_11ea_b0ff_30d9d9eee573row173_col5\" class=\"data row173 col5\" >3</td>\n",
       "                        <td id=\"T_5e8d6992_c025_11ea_b0ff_30d9d9eee573row173_col6\" class=\"data row173 col6\" >23</td>\n",
       "                        <td id=\"T_5e8d6992_c025_11ea_b0ff_30d9d9eee573row173_col7\" class=\"data row173 col7\" >44</td>\n",
       "                        <td id=\"T_5e8d6992_c025_11ea_b0ff_30d9d9eee573row173_col8\" class=\"data row173 col8\" >71.4811</td>\n",
       "                        <td id=\"T_5e8d6992_c025_11ea_b0ff_30d9d9eee573row173_col9\" class=\"data row173 col9\" >nan</td>\n",
       "                        <td id=\"T_5e8d6992_c025_11ea_b0ff_30d9d9eee573row173_col10\" class=\"data row173 col10\" >nan</td>\n",
       "                        <td id=\"T_5e8d6992_c025_11ea_b0ff_30d9d9eee573row173_col11\" class=\"data row173 col11\" >4.28571</td>\n",
       "                        <td id=\"T_5e8d6992_c025_11ea_b0ff_30d9d9eee573row173_col12\" class=\"data row173 col12\" >28</td>\n",
       "                        <td id=\"T_5e8d6992_c025_11ea_b0ff_30d9d9eee573row173_col13\" class=\"data row173 col13\" >ATG</td>\n",
       "            </tr>\n",
       "            <tr>\n",
       "                        <th id=\"T_5e8d6992_c025_11ea_b0ff_30d9d9eee573level0_row174\" class=\"row_heading level0 row174\" >82</th>\n",
       "                        <td id=\"T_5e8d6992_c025_11ea_b0ff_30d9d9eee573row174_col0\" class=\"data row174 col0\" >Gambia</td>\n",
       "                        <td id=\"T_5e8d6992_c025_11ea_b0ff_30d9d9eee573row174_col1\" class=\"data row174 col1\" >2020-07-07 07:33:57</td>\n",
       "                        <td id=\"T_5e8d6992_c025_11ea_b0ff_30d9d9eee573row174_col2\" class=\"data row174 col2\" >13.4432</td>\n",
       "                        <td id=\"T_5e8d6992_c025_11ea_b0ff_30d9d9eee573row174_col3\" class=\"data row174 col3\" >-15.3101</td>\n",
       "                        <td id=\"T_5e8d6992_c025_11ea_b0ff_30d9d9eee573row174_col4\" class=\"data row174 col4\" >61</td>\n",
       "                        <td id=\"T_5e8d6992_c025_11ea_b0ff_30d9d9eee573row174_col5\" class=\"data row174 col5\" >3</td>\n",
       "                        <td id=\"T_5e8d6992_c025_11ea_b0ff_30d9d9eee573row174_col6\" class=\"data row174 col6\" >27</td>\n",
       "                        <td id=\"T_5e8d6992_c025_11ea_b0ff_30d9d9eee573row174_col7\" class=\"data row174 col7\" >31</td>\n",
       "                        <td id=\"T_5e8d6992_c025_11ea_b0ff_30d9d9eee573row174_col8\" class=\"data row174 col8\" >2.52414</td>\n",
       "                        <td id=\"T_5e8d6992_c025_11ea_b0ff_30d9d9eee573row174_col9\" class=\"data row174 col9\" >nan</td>\n",
       "                        <td id=\"T_5e8d6992_c025_11ea_b0ff_30d9d9eee573row174_col10\" class=\"data row174 col10\" >nan</td>\n",
       "                        <td id=\"T_5e8d6992_c025_11ea_b0ff_30d9d9eee573row174_col11\" class=\"data row174 col11\" >4.91803</td>\n",
       "                        <td id=\"T_5e8d6992_c025_11ea_b0ff_30d9d9eee573row174_col12\" class=\"data row174 col12\" >270</td>\n",
       "                        <td id=\"T_5e8d6992_c025_11ea_b0ff_30d9d9eee573row174_col13\" class=\"data row174 col13\" >GMB</td>\n",
       "            </tr>\n",
       "            <tr>\n",
       "                        <th id=\"T_5e8d6992_c025_11ea_b0ff_30d9d9eee573level0_row175\" class=\"row_heading level0 row175\" >43</th>\n",
       "                        <td id=\"T_5e8d6992_c025_11ea_b0ff_30d9d9eee573row175_col0\" class=\"data row175 col0\" >Belize</td>\n",
       "                        <td id=\"T_5e8d6992_c025_11ea_b0ff_30d9d9eee573row175_col1\" class=\"data row175 col1\" >2020-07-07 07:33:57</td>\n",
       "                        <td id=\"T_5e8d6992_c025_11ea_b0ff_30d9d9eee573row175_col2\" class=\"data row175 col2\" >17.1899</td>\n",
       "                        <td id=\"T_5e8d6992_c025_11ea_b0ff_30d9d9eee573row175_col3\" class=\"data row175 col3\" >-88.4976</td>\n",
       "                        <td id=\"T_5e8d6992_c025_11ea_b0ff_30d9d9eee573row175_col4\" class=\"data row175 col4\" >30</td>\n",
       "                        <td id=\"T_5e8d6992_c025_11ea_b0ff_30d9d9eee573row175_col5\" class=\"data row175 col5\" >2</td>\n",
       "                        <td id=\"T_5e8d6992_c025_11ea_b0ff_30d9d9eee573row175_col6\" class=\"data row175 col6\" >19</td>\n",
       "                        <td id=\"T_5e8d6992_c025_11ea_b0ff_30d9d9eee573row175_col7\" class=\"data row175 col7\" >9</td>\n",
       "                        <td id=\"T_5e8d6992_c025_11ea_b0ff_30d9d9eee573row175_col8\" class=\"data row175 col8\" >7.54487</td>\n",
       "                        <td id=\"T_5e8d6992_c025_11ea_b0ff_30d9d9eee573row175_col9\" class=\"data row175 col9\" >nan</td>\n",
       "                        <td id=\"T_5e8d6992_c025_11ea_b0ff_30d9d9eee573row175_col10\" class=\"data row175 col10\" >nan</td>\n",
       "                        <td id=\"T_5e8d6992_c025_11ea_b0ff_30d9d9eee573row175_col11\" class=\"data row175 col11\" >6.66667</td>\n",
       "                        <td id=\"T_5e8d6992_c025_11ea_b0ff_30d9d9eee573row175_col12\" class=\"data row175 col12\" >84</td>\n",
       "                        <td id=\"T_5e8d6992_c025_11ea_b0ff_30d9d9eee573row175_col13\" class=\"data row175 col13\" >BLZ</td>\n",
       "            </tr>\n",
       "            <tr>\n",
       "                        <th id=\"T_5e8d6992_c025_11ea_b0ff_30d9d9eee573level0_row176\" class=\"row_heading level0 row176\" >150</th>\n",
       "                        <td id=\"T_5e8d6992_c025_11ea_b0ff_30d9d9eee573row176_col0\" class=\"data row176 col0\" >Saint Vincent and the Grenadines</td>\n",
       "                        <td id=\"T_5e8d6992_c025_11ea_b0ff_30d9d9eee573row176_col1\" class=\"data row176 col1\" >2020-07-07 07:33:57</td>\n",
       "                        <td id=\"T_5e8d6992_c025_11ea_b0ff_30d9d9eee573row176_col2\" class=\"data row176 col2\" >12.9843</td>\n",
       "                        <td id=\"T_5e8d6992_c025_11ea_b0ff_30d9d9eee573row176_col3\" class=\"data row176 col3\" >-61.2872</td>\n",
       "                        <td id=\"T_5e8d6992_c025_11ea_b0ff_30d9d9eee573row176_col4\" class=\"data row176 col4\" >29</td>\n",
       "                        <td id=\"T_5e8d6992_c025_11ea_b0ff_30d9d9eee573row176_col5\" class=\"data row176 col5\" >0</td>\n",
       "                        <td id=\"T_5e8d6992_c025_11ea_b0ff_30d9d9eee573row176_col6\" class=\"data row176 col6\" >29</td>\n",
       "                        <td id=\"T_5e8d6992_c025_11ea_b0ff_30d9d9eee573row176_col7\" class=\"data row176 col7\" >0</td>\n",
       "                        <td id=\"T_5e8d6992_c025_11ea_b0ff_30d9d9eee573row176_col8\" class=\"data row176 col8\" >26.1386</td>\n",
       "                        <td id=\"T_5e8d6992_c025_11ea_b0ff_30d9d9eee573row176_col9\" class=\"data row176 col9\" >nan</td>\n",
       "                        <td id=\"T_5e8d6992_c025_11ea_b0ff_30d9d9eee573row176_col10\" class=\"data row176 col10\" >nan</td>\n",
       "                        <td id=\"T_5e8d6992_c025_11ea_b0ff_30d9d9eee573row176_col11\" class=\"data row176 col11\" >0</td>\n",
       "                        <td id=\"T_5e8d6992_c025_11ea_b0ff_30d9d9eee573row176_col12\" class=\"data row176 col12\" >670</td>\n",
       "                        <td id=\"T_5e8d6992_c025_11ea_b0ff_30d9d9eee573row176_col13\" class=\"data row176 col13\" >VCT</td>\n",
       "            </tr>\n",
       "            <tr>\n",
       "                        <th id=\"T_5e8d6992_c025_11ea_b0ff_30d9d9eee573level0_row177\" class=\"row_heading level0 row177\" >172</th>\n",
       "                        <td id=\"T_5e8d6992_c025_11ea_b0ff_30d9d9eee573row177_col0\" class=\"data row177 col0\" >Timor-Leste</td>\n",
       "                        <td id=\"T_5e8d6992_c025_11ea_b0ff_30d9d9eee573row177_col1\" class=\"data row177 col1\" >2020-07-07 07:33:57</td>\n",
       "                        <td id=\"T_5e8d6992_c025_11ea_b0ff_30d9d9eee573row177_col2\" class=\"data row177 col2\" >-8.87422</td>\n",
       "                        <td id=\"T_5e8d6992_c025_11ea_b0ff_30d9d9eee573row177_col3\" class=\"data row177 col3\" >125.728</td>\n",
       "                        <td id=\"T_5e8d6992_c025_11ea_b0ff_30d9d9eee573row177_col4\" class=\"data row177 col4\" >24</td>\n",
       "                        <td id=\"T_5e8d6992_c025_11ea_b0ff_30d9d9eee573row177_col5\" class=\"data row177 col5\" >0</td>\n",
       "                        <td id=\"T_5e8d6992_c025_11ea_b0ff_30d9d9eee573row177_col6\" class=\"data row177 col6\" >24</td>\n",
       "                        <td id=\"T_5e8d6992_c025_11ea_b0ff_30d9d9eee573row177_col7\" class=\"data row177 col7\" >0</td>\n",
       "                        <td id=\"T_5e8d6992_c025_11ea_b0ff_30d9d9eee573row177_col8\" class=\"data row177 col8\" >1.82033</td>\n",
       "                        <td id=\"T_5e8d6992_c025_11ea_b0ff_30d9d9eee573row177_col9\" class=\"data row177 col9\" >nan</td>\n",
       "                        <td id=\"T_5e8d6992_c025_11ea_b0ff_30d9d9eee573row177_col10\" class=\"data row177 col10\" >nan</td>\n",
       "                        <td id=\"T_5e8d6992_c025_11ea_b0ff_30d9d9eee573row177_col11\" class=\"data row177 col11\" >0</td>\n",
       "                        <td id=\"T_5e8d6992_c025_11ea_b0ff_30d9d9eee573row177_col12\" class=\"data row177 col12\" >626</td>\n",
       "                        <td id=\"T_5e8d6992_c025_11ea_b0ff_30d9d9eee573row177_col13\" class=\"data row177 col13\" >TLS</td>\n",
       "            </tr>\n",
       "            <tr>\n",
       "                        <th id=\"T_5e8d6992_c025_11ea_b0ff_30d9d9eee573level0_row178\" class=\"row_heading level0 row178\" >86</th>\n",
       "                        <td id=\"T_5e8d6992_c025_11ea_b0ff_30d9d9eee573row178_col0\" class=\"data row178 col0\" >Grenada</td>\n",
       "                        <td id=\"T_5e8d6992_c025_11ea_b0ff_30d9d9eee573row178_col1\" class=\"data row178 col1\" >2020-07-07 07:33:57</td>\n",
       "                        <td id=\"T_5e8d6992_c025_11ea_b0ff_30d9d9eee573row178_col2\" class=\"data row178 col2\" >12.1165</td>\n",
       "                        <td id=\"T_5e8d6992_c025_11ea_b0ff_30d9d9eee573row178_col3\" class=\"data row178 col3\" >-61.679</td>\n",
       "                        <td id=\"T_5e8d6992_c025_11ea_b0ff_30d9d9eee573row178_col4\" class=\"data row178 col4\" >23</td>\n",
       "                        <td id=\"T_5e8d6992_c025_11ea_b0ff_30d9d9eee573row178_col5\" class=\"data row178 col5\" >0</td>\n",
       "                        <td id=\"T_5e8d6992_c025_11ea_b0ff_30d9d9eee573row178_col6\" class=\"data row178 col6\" >23</td>\n",
       "                        <td id=\"T_5e8d6992_c025_11ea_b0ff_30d9d9eee573row178_col7\" class=\"data row178 col7\" >0</td>\n",
       "                        <td id=\"T_5e8d6992_c025_11ea_b0ff_30d9d9eee573row178_col8\" class=\"data row178 col8\" >20.441</td>\n",
       "                        <td id=\"T_5e8d6992_c025_11ea_b0ff_30d9d9eee573row178_col9\" class=\"data row178 col9\" >nan</td>\n",
       "                        <td id=\"T_5e8d6992_c025_11ea_b0ff_30d9d9eee573row178_col10\" class=\"data row178 col10\" >nan</td>\n",
       "                        <td id=\"T_5e8d6992_c025_11ea_b0ff_30d9d9eee573row178_col11\" class=\"data row178 col11\" >0</td>\n",
       "                        <td id=\"T_5e8d6992_c025_11ea_b0ff_30d9d9eee573row178_col12\" class=\"data row178 col12\" >308</td>\n",
       "                        <td id=\"T_5e8d6992_c025_11ea_b0ff_30d9d9eee573row178_col13\" class=\"data row178 col13\" >GRD</td>\n",
       "            </tr>\n",
       "            <tr>\n",
       "                        <th id=\"T_5e8d6992_c025_11ea_b0ff_30d9d9eee573level0_row179\" class=\"row_heading level0 row179\" >149</th>\n",
       "                        <td id=\"T_5e8d6992_c025_11ea_b0ff_30d9d9eee573row179_col0\" class=\"data row179 col0\" >Saint Lucia</td>\n",
       "                        <td id=\"T_5e8d6992_c025_11ea_b0ff_30d9d9eee573row179_col1\" class=\"data row179 col1\" >2020-07-07 07:33:57</td>\n",
       "                        <td id=\"T_5e8d6992_c025_11ea_b0ff_30d9d9eee573row179_col2\" class=\"data row179 col2\" >13.9094</td>\n",
       "                        <td id=\"T_5e8d6992_c025_11ea_b0ff_30d9d9eee573row179_col3\" class=\"data row179 col3\" >-60.9789</td>\n",
       "                        <td id=\"T_5e8d6992_c025_11ea_b0ff_30d9d9eee573row179_col4\" class=\"data row179 col4\" >22</td>\n",
       "                        <td id=\"T_5e8d6992_c025_11ea_b0ff_30d9d9eee573row179_col5\" class=\"data row179 col5\" >0</td>\n",
       "                        <td id=\"T_5e8d6992_c025_11ea_b0ff_30d9d9eee573row179_col6\" class=\"data row179 col6\" >19</td>\n",
       "                        <td id=\"T_5e8d6992_c025_11ea_b0ff_30d9d9eee573row179_col7\" class=\"data row179 col7\" >3</td>\n",
       "                        <td id=\"T_5e8d6992_c025_11ea_b0ff_30d9d9eee573row179_col8\" class=\"data row179 col8\" >11.9807</td>\n",
       "                        <td id=\"T_5e8d6992_c025_11ea_b0ff_30d9d9eee573row179_col9\" class=\"data row179 col9\" >nan</td>\n",
       "                        <td id=\"T_5e8d6992_c025_11ea_b0ff_30d9d9eee573row179_col10\" class=\"data row179 col10\" >nan</td>\n",
       "                        <td id=\"T_5e8d6992_c025_11ea_b0ff_30d9d9eee573row179_col11\" class=\"data row179 col11\" >0</td>\n",
       "                        <td id=\"T_5e8d6992_c025_11ea_b0ff_30d9d9eee573row179_col12\" class=\"data row179 col12\" >662</td>\n",
       "                        <td id=\"T_5e8d6992_c025_11ea_b0ff_30d9d9eee573row179_col13\" class=\"data row179 col13\" >LCA</td>\n",
       "            </tr>\n",
       "            <tr>\n",
       "                        <th id=\"T_5e8d6992_c025_11ea_b0ff_30d9d9eee573level0_row180\" class=\"row_heading level0 row180\" >80</th>\n",
       "                        <td id=\"T_5e8d6992_c025_11ea_b0ff_30d9d9eee573row180_col0\" class=\"data row180 col0\" >Fiji</td>\n",
       "                        <td id=\"T_5e8d6992_c025_11ea_b0ff_30d9d9eee573row180_col1\" class=\"data row180 col1\" >2020-07-07 07:33:57</td>\n",
       "                        <td id=\"T_5e8d6992_c025_11ea_b0ff_30d9d9eee573row180_col2\" class=\"data row180 col2\" >-17.7134</td>\n",
       "                        <td id=\"T_5e8d6992_c025_11ea_b0ff_30d9d9eee573row180_col3\" class=\"data row180 col3\" >178.065</td>\n",
       "                        <td id=\"T_5e8d6992_c025_11ea_b0ff_30d9d9eee573row180_col4\" class=\"data row180 col4\" >21</td>\n",
       "                        <td id=\"T_5e8d6992_c025_11ea_b0ff_30d9d9eee573row180_col5\" class=\"data row180 col5\" >0</td>\n",
       "                        <td id=\"T_5e8d6992_c025_11ea_b0ff_30d9d9eee573row180_col6\" class=\"data row180 col6\" >18</td>\n",
       "                        <td id=\"T_5e8d6992_c025_11ea_b0ff_30d9d9eee573row180_col7\" class=\"data row180 col7\" >3</td>\n",
       "                        <td id=\"T_5e8d6992_c025_11ea_b0ff_30d9d9eee573row180_col8\" class=\"data row180 col8\" >2.34259</td>\n",
       "                        <td id=\"T_5e8d6992_c025_11ea_b0ff_30d9d9eee573row180_col9\" class=\"data row180 col9\" >nan</td>\n",
       "                        <td id=\"T_5e8d6992_c025_11ea_b0ff_30d9d9eee573row180_col10\" class=\"data row180 col10\" >nan</td>\n",
       "                        <td id=\"T_5e8d6992_c025_11ea_b0ff_30d9d9eee573row180_col11\" class=\"data row180 col11\" >0</td>\n",
       "                        <td id=\"T_5e8d6992_c025_11ea_b0ff_30d9d9eee573row180_col12\" class=\"data row180 col12\" >242</td>\n",
       "                        <td id=\"T_5e8d6992_c025_11ea_b0ff_30d9d9eee573row180_col13\" class=\"data row180 col13\" >FJI</td>\n",
       "            </tr>\n",
       "            <tr>\n",
       "                        <th id=\"T_5e8d6992_c025_11ea_b0ff_30d9d9eee573level0_row181\" class=\"row_heading level0 row181\" >107</th>\n",
       "                        <td id=\"T_5e8d6992_c025_11ea_b0ff_30d9d9eee573row181_col0\" class=\"data row181 col0\" >Laos</td>\n",
       "                        <td id=\"T_5e8d6992_c025_11ea_b0ff_30d9d9eee573row181_col1\" class=\"data row181 col1\" >2020-07-07 07:33:57</td>\n",
       "                        <td id=\"T_5e8d6992_c025_11ea_b0ff_30d9d9eee573row181_col2\" class=\"data row181 col2\" >19.8563</td>\n",
       "                        <td id=\"T_5e8d6992_c025_11ea_b0ff_30d9d9eee573row181_col3\" class=\"data row181 col3\" >102.495</td>\n",
       "                        <td id=\"T_5e8d6992_c025_11ea_b0ff_30d9d9eee573row181_col4\" class=\"data row181 col4\" >19</td>\n",
       "                        <td id=\"T_5e8d6992_c025_11ea_b0ff_30d9d9eee573row181_col5\" class=\"data row181 col5\" >0</td>\n",
       "                        <td id=\"T_5e8d6992_c025_11ea_b0ff_30d9d9eee573row181_col6\" class=\"data row181 col6\" >19</td>\n",
       "                        <td id=\"T_5e8d6992_c025_11ea_b0ff_30d9d9eee573row181_col7\" class=\"data row181 col7\" >0</td>\n",
       "                        <td id=\"T_5e8d6992_c025_11ea_b0ff_30d9d9eee573row181_col8\" class=\"data row181 col8\" >0.261148</td>\n",
       "                        <td id=\"T_5e8d6992_c025_11ea_b0ff_30d9d9eee573row181_col9\" class=\"data row181 col9\" >nan</td>\n",
       "                        <td id=\"T_5e8d6992_c025_11ea_b0ff_30d9d9eee573row181_col10\" class=\"data row181 col10\" >nan</td>\n",
       "                        <td id=\"T_5e8d6992_c025_11ea_b0ff_30d9d9eee573row181_col11\" class=\"data row181 col11\" >0</td>\n",
       "                        <td id=\"T_5e8d6992_c025_11ea_b0ff_30d9d9eee573row181_col12\" class=\"data row181 col12\" >418</td>\n",
       "                        <td id=\"T_5e8d6992_c025_11ea_b0ff_30d9d9eee573row181_col13\" class=\"data row181 col13\" >LAO</td>\n",
       "            </tr>\n",
       "            <tr>\n",
       "                        <th id=\"T_5e8d6992_c025_11ea_b0ff_30d9d9eee573level0_row182\" class=\"row_heading level0 row182\" >70</th>\n",
       "                        <td id=\"T_5e8d6992_c025_11ea_b0ff_30d9d9eee573row182_col0\" class=\"data row182 col0\" >Dominica</td>\n",
       "                        <td id=\"T_5e8d6992_c025_11ea_b0ff_30d9d9eee573row182_col1\" class=\"data row182 col1\" >2020-07-07 07:33:57</td>\n",
       "                        <td id=\"T_5e8d6992_c025_11ea_b0ff_30d9d9eee573row182_col2\" class=\"data row182 col2\" >15.415</td>\n",
       "                        <td id=\"T_5e8d6992_c025_11ea_b0ff_30d9d9eee573row182_col3\" class=\"data row182 col3\" >-61.371</td>\n",
       "                        <td id=\"T_5e8d6992_c025_11ea_b0ff_30d9d9eee573row182_col4\" class=\"data row182 col4\" >18</td>\n",
       "                        <td id=\"T_5e8d6992_c025_11ea_b0ff_30d9d9eee573row182_col5\" class=\"data row182 col5\" >0</td>\n",
       "                        <td id=\"T_5e8d6992_c025_11ea_b0ff_30d9d9eee573row182_col6\" class=\"data row182 col6\" >18</td>\n",
       "                        <td id=\"T_5e8d6992_c025_11ea_b0ff_30d9d9eee573row182_col7\" class=\"data row182 col7\" >0</td>\n",
       "                        <td id=\"T_5e8d6992_c025_11ea_b0ff_30d9d9eee573row182_col8\" class=\"data row182 col8\" >25.0031</td>\n",
       "                        <td id=\"T_5e8d6992_c025_11ea_b0ff_30d9d9eee573row182_col9\" class=\"data row182 col9\" >nan</td>\n",
       "                        <td id=\"T_5e8d6992_c025_11ea_b0ff_30d9d9eee573row182_col10\" class=\"data row182 col10\" >nan</td>\n",
       "                        <td id=\"T_5e8d6992_c025_11ea_b0ff_30d9d9eee573row182_col11\" class=\"data row182 col11\" >0</td>\n",
       "                        <td id=\"T_5e8d6992_c025_11ea_b0ff_30d9d9eee573row182_col12\" class=\"data row182 col12\" >212</td>\n",
       "                        <td id=\"T_5e8d6992_c025_11ea_b0ff_30d9d9eee573row182_col13\" class=\"data row182 col13\" >DMA</td>\n",
       "            </tr>\n",
       "            <tr>\n",
       "                        <th id=\"T_5e8d6992_c025_11ea_b0ff_30d9d9eee573level0_row183\" class=\"row_heading level0 row183\" >148</th>\n",
       "                        <td id=\"T_5e8d6992_c025_11ea_b0ff_30d9d9eee573row183_col0\" class=\"data row183 col0\" >Saint Kitts and Nevis</td>\n",
       "                        <td id=\"T_5e8d6992_c025_11ea_b0ff_30d9d9eee573row183_col1\" class=\"data row183 col1\" >2020-07-07 07:33:57</td>\n",
       "                        <td id=\"T_5e8d6992_c025_11ea_b0ff_30d9d9eee573row183_col2\" class=\"data row183 col2\" >17.3578</td>\n",
       "                        <td id=\"T_5e8d6992_c025_11ea_b0ff_30d9d9eee573row183_col3\" class=\"data row183 col3\" >-62.783</td>\n",
       "                        <td id=\"T_5e8d6992_c025_11ea_b0ff_30d9d9eee573row183_col4\" class=\"data row183 col4\" >16</td>\n",
       "                        <td id=\"T_5e8d6992_c025_11ea_b0ff_30d9d9eee573row183_col5\" class=\"data row183 col5\" >0</td>\n",
       "                        <td id=\"T_5e8d6992_c025_11ea_b0ff_30d9d9eee573row183_col6\" class=\"data row183 col6\" >15</td>\n",
       "                        <td id=\"T_5e8d6992_c025_11ea_b0ff_30d9d9eee573row183_col7\" class=\"data row183 col7\" >1</td>\n",
       "                        <td id=\"T_5e8d6992_c025_11ea_b0ff_30d9d9eee573row183_col8\" class=\"data row183 col8\" >30.0797</td>\n",
       "                        <td id=\"T_5e8d6992_c025_11ea_b0ff_30d9d9eee573row183_col9\" class=\"data row183 col9\" >nan</td>\n",
       "                        <td id=\"T_5e8d6992_c025_11ea_b0ff_30d9d9eee573row183_col10\" class=\"data row183 col10\" >nan</td>\n",
       "                        <td id=\"T_5e8d6992_c025_11ea_b0ff_30d9d9eee573row183_col11\" class=\"data row183 col11\" >0</td>\n",
       "                        <td id=\"T_5e8d6992_c025_11ea_b0ff_30d9d9eee573row183_col12\" class=\"data row183 col12\" >659</td>\n",
       "                        <td id=\"T_5e8d6992_c025_11ea_b0ff_30d9d9eee573row183_col13\" class=\"data row183 col13\" >KNA</td>\n",
       "            </tr>\n",
       "            <tr>\n",
       "                        <th id=\"T_5e8d6992_c025_11ea_b0ff_30d9d9eee573level0_row184\" class=\"row_heading level0 row184\" >92</th>\n",
       "                        <td id=\"T_5e8d6992_c025_11ea_b0ff_30d9d9eee573row184_col0\" class=\"data row184 col0\" >Holy See</td>\n",
       "                        <td id=\"T_5e8d6992_c025_11ea_b0ff_30d9d9eee573row184_col1\" class=\"data row184 col1\" >2020-07-07 07:33:57</td>\n",
       "                        <td id=\"T_5e8d6992_c025_11ea_b0ff_30d9d9eee573row184_col2\" class=\"data row184 col2\" >41.9029</td>\n",
       "                        <td id=\"T_5e8d6992_c025_11ea_b0ff_30d9d9eee573row184_col3\" class=\"data row184 col3\" >12.4534</td>\n",
       "                        <td id=\"T_5e8d6992_c025_11ea_b0ff_30d9d9eee573row184_col4\" class=\"data row184 col4\" >12</td>\n",
       "                        <td id=\"T_5e8d6992_c025_11ea_b0ff_30d9d9eee573row184_col5\" class=\"data row184 col5\" >0</td>\n",
       "                        <td id=\"T_5e8d6992_c025_11ea_b0ff_30d9d9eee573row184_col6\" class=\"data row184 col6\" >12</td>\n",
       "                        <td id=\"T_5e8d6992_c025_11ea_b0ff_30d9d9eee573row184_col7\" class=\"data row184 col7\" >0</td>\n",
       "                        <td id=\"T_5e8d6992_c025_11ea_b0ff_30d9d9eee573row184_col8\" class=\"data row184 col8\" >1483.31</td>\n",
       "                        <td id=\"T_5e8d6992_c025_11ea_b0ff_30d9d9eee573row184_col9\" class=\"data row184 col9\" >nan</td>\n",
       "                        <td id=\"T_5e8d6992_c025_11ea_b0ff_30d9d9eee573row184_col10\" class=\"data row184 col10\" >nan</td>\n",
       "                        <td id=\"T_5e8d6992_c025_11ea_b0ff_30d9d9eee573row184_col11\" class=\"data row184 col11\" >0</td>\n",
       "                        <td id=\"T_5e8d6992_c025_11ea_b0ff_30d9d9eee573row184_col12\" class=\"data row184 col12\" >336</td>\n",
       "                        <td id=\"T_5e8d6992_c025_11ea_b0ff_30d9d9eee573row184_col13\" class=\"data row184 col13\" >VAT</td>\n",
       "            </tr>\n",
       "            <tr>\n",
       "                        <th id=\"T_5e8d6992_c025_11ea_b0ff_30d9d9eee573level0_row185\" class=\"row_heading level0 row185\" >140</th>\n",
       "                        <td id=\"T_5e8d6992_c025_11ea_b0ff_30d9d9eee573row185_col0\" class=\"data row185 col0\" >Papua New Guinea</td>\n",
       "                        <td id=\"T_5e8d6992_c025_11ea_b0ff_30d9d9eee573row185_col1\" class=\"data row185 col1\" >2020-07-07 07:33:57</td>\n",
       "                        <td id=\"T_5e8d6992_c025_11ea_b0ff_30d9d9eee573row185_col2\" class=\"data row185 col2\" >-6.31499</td>\n",
       "                        <td id=\"T_5e8d6992_c025_11ea_b0ff_30d9d9eee573row185_col3\" class=\"data row185 col3\" >143.956</td>\n",
       "                        <td id=\"T_5e8d6992_c025_11ea_b0ff_30d9d9eee573row185_col4\" class=\"data row185 col4\" >11</td>\n",
       "                        <td id=\"T_5e8d6992_c025_11ea_b0ff_30d9d9eee573row185_col5\" class=\"data row185 col5\" >0</td>\n",
       "                        <td id=\"T_5e8d6992_c025_11ea_b0ff_30d9d9eee573row185_col6\" class=\"data row185 col6\" >8</td>\n",
       "                        <td id=\"T_5e8d6992_c025_11ea_b0ff_30d9d9eee573row185_col7\" class=\"data row185 col7\" >3</td>\n",
       "                        <td id=\"T_5e8d6992_c025_11ea_b0ff_30d9d9eee573row185_col8\" class=\"data row185 col8\" >0.122946</td>\n",
       "                        <td id=\"T_5e8d6992_c025_11ea_b0ff_30d9d9eee573row185_col9\" class=\"data row185 col9\" >nan</td>\n",
       "                        <td id=\"T_5e8d6992_c025_11ea_b0ff_30d9d9eee573row185_col10\" class=\"data row185 col10\" >nan</td>\n",
       "                        <td id=\"T_5e8d6992_c025_11ea_b0ff_30d9d9eee573row185_col11\" class=\"data row185 col11\" >0</td>\n",
       "                        <td id=\"T_5e8d6992_c025_11ea_b0ff_30d9d9eee573row185_col12\" class=\"data row185 col12\" >598</td>\n",
       "                        <td id=\"T_5e8d6992_c025_11ea_b0ff_30d9d9eee573row185_col13\" class=\"data row185 col13\" >PNG</td>\n",
       "            </tr>\n",
       "            <tr>\n",
       "                        <th id=\"T_5e8d6992_c025_11ea_b0ff_30d9d9eee573level0_row186\" class=\"row_heading level0 row186\" >184</th>\n",
       "                        <td id=\"T_5e8d6992_c025_11ea_b0ff_30d9d9eee573row186_col0\" class=\"data row186 col0\" >Western Sahara</td>\n",
       "                        <td id=\"T_5e8d6992_c025_11ea_b0ff_30d9d9eee573row186_col1\" class=\"data row186 col1\" >2020-07-07 07:33:57</td>\n",
       "                        <td id=\"T_5e8d6992_c025_11ea_b0ff_30d9d9eee573row186_col2\" class=\"data row186 col2\" >24.2155</td>\n",
       "                        <td id=\"T_5e8d6992_c025_11ea_b0ff_30d9d9eee573row186_col3\" class=\"data row186 col3\" >-12.8858</td>\n",
       "                        <td id=\"T_5e8d6992_c025_11ea_b0ff_30d9d9eee573row186_col4\" class=\"data row186 col4\" >10</td>\n",
       "                        <td id=\"T_5e8d6992_c025_11ea_b0ff_30d9d9eee573row186_col5\" class=\"data row186 col5\" >1</td>\n",
       "                        <td id=\"T_5e8d6992_c025_11ea_b0ff_30d9d9eee573row186_col6\" class=\"data row186 col6\" >8</td>\n",
       "                        <td id=\"T_5e8d6992_c025_11ea_b0ff_30d9d9eee573row186_col7\" class=\"data row186 col7\" >1</td>\n",
       "                        <td id=\"T_5e8d6992_c025_11ea_b0ff_30d9d9eee573row186_col8\" class=\"data row186 col8\" >1.67412</td>\n",
       "                        <td id=\"T_5e8d6992_c025_11ea_b0ff_30d9d9eee573row186_col9\" class=\"data row186 col9\" >nan</td>\n",
       "                        <td id=\"T_5e8d6992_c025_11ea_b0ff_30d9d9eee573row186_col10\" class=\"data row186 col10\" >nan</td>\n",
       "                        <td id=\"T_5e8d6992_c025_11ea_b0ff_30d9d9eee573row186_col11\" class=\"data row186 col11\" >10</td>\n",
       "                        <td id=\"T_5e8d6992_c025_11ea_b0ff_30d9d9eee573row186_col12\" class=\"data row186 col12\" >732</td>\n",
       "                        <td id=\"T_5e8d6992_c025_11ea_b0ff_30d9d9eee573row186_col13\" class=\"data row186 col13\" >ESH</td>\n",
       "            </tr>\n",
       "            <tr>\n",
       "                        <th id=\"T_5e8d6992_c025_11ea_b0ff_30d9d9eee573level0_row187\" class=\"row_heading level0 row187\" >116</th>\n",
       "                        <td id=\"T_5e8d6992_c025_11ea_b0ff_30d9d9eee573row187_col0\" class=\"data row187 col0\" >MS Zaandam</td>\n",
       "                        <td id=\"T_5e8d6992_c025_11ea_b0ff_30d9d9eee573row187_col1\" class=\"data row187 col1\" >2020-07-07 07:33:57</td>\n",
       "                        <td id=\"T_5e8d6992_c025_11ea_b0ff_30d9d9eee573row187_col2\" class=\"data row187 col2\" >nan</td>\n",
       "                        <td id=\"T_5e8d6992_c025_11ea_b0ff_30d9d9eee573row187_col3\" class=\"data row187 col3\" >nan</td>\n",
       "                        <td id=\"T_5e8d6992_c025_11ea_b0ff_30d9d9eee573row187_col4\" class=\"data row187 col4\" >9</td>\n",
       "                        <td id=\"T_5e8d6992_c025_11ea_b0ff_30d9d9eee573row187_col5\" class=\"data row187 col5\" >2</td>\n",
       "                        <td id=\"T_5e8d6992_c025_11ea_b0ff_30d9d9eee573row187_col6\" class=\"data row187 col6\" >nan</td>\n",
       "                        <td id=\"T_5e8d6992_c025_11ea_b0ff_30d9d9eee573row187_col7\" class=\"data row187 col7\" >7</td>\n",
       "                        <td id=\"T_5e8d6992_c025_11ea_b0ff_30d9d9eee573row187_col8\" class=\"data row187 col8\" >nan</td>\n",
       "                        <td id=\"T_5e8d6992_c025_11ea_b0ff_30d9d9eee573row187_col9\" class=\"data row187 col9\" >nan</td>\n",
       "                        <td id=\"T_5e8d6992_c025_11ea_b0ff_30d9d9eee573row187_col10\" class=\"data row187 col10\" >nan</td>\n",
       "                        <td id=\"T_5e8d6992_c025_11ea_b0ff_30d9d9eee573row187_col11\" class=\"data row187 col11\" >22.2222</td>\n",
       "                        <td id=\"T_5e8d6992_c025_11ea_b0ff_30d9d9eee573row187_col12\" class=\"data row187 col12\" >8888</td>\n",
       "                        <td id=\"T_5e8d6992_c025_11ea_b0ff_30d9d9eee573row187_col13\" class=\"data row187 col13\" >nan</td>\n",
       "            </tr>\n",
       "    </tbody></table>"
      ],
      "text/plain": [
       "<pandas.io.formats.style.Styler at 0x1c20c01ad0>"
      ]
     },
     "execution_count": 19,
     "metadata": {},
     "output_type": "execute_result"
    }
   ],
   "source": [
    "def highlight_col(x):\n",
    "    o='background-color : orange'\n",
    "    y='background-color : yellow'\n",
    "    p='background-color : pink'\n",
    "    temp_df = pd.DataFrame('',index=x.index,columns=x.columns)\n",
    "    temp_df.iloc[:,4] = o\n",
    "    temp_df.iloc[:,5] = p\n",
    "    temp_df.iloc[:,6] = y\n",
    "    return temp_df\n",
    "sorted_country_confirmed.style.apply(highlight_col,axis=None)\n",
    "    "
   ]
  },
  {
   "cell_type": "code",
   "execution_count": 20,
   "metadata": {},
   "outputs": [],
   "source": [
    "import plotly.express as px"
   ]
  },
  {
   "cell_type": "code",
   "execution_count": 21,
   "metadata": {},
   "outputs": [
    {
     "data": {
      "text/plain": [
       "0"
      ]
     },
     "execution_count": 21,
     "metadata": {},
     "output_type": "execute_result"
    }
   ],
   "source": [
    "sorted_country_confirmed[\"confirmed\"].isna().sum()"
   ]
  },
  {
   "cell_type": "code",
   "execution_count": 22,
   "metadata": {},
   "outputs": [
    {
     "data": {
      "text/plain": [
       "2"
      ]
     },
     "execution_count": 22,
     "metadata": {},
     "output_type": "execute_result"
    }
   ],
   "source": [
    "sorted_country_confirmed[\"recovered\"].isna().sum()"
   ]
  },
  {
   "cell_type": "code",
   "execution_count": 23,
   "metadata": {},
   "outputs": [
    {
     "data": {
      "text/plain": [
       "[14, 116]"
      ]
     },
     "execution_count": 23,
     "metadata": {},
     "output_type": "execute_result"
    }
   ],
   "source": [
    "sorted_country_confirmed[sorted_country_confirmed['recovered'].isnull()].index.tolist()"
   ]
  },
  {
   "cell_type": "code",
   "execution_count": 24,
   "metadata": {},
   "outputs": [],
   "source": [
    "r14=sorted_country_confirmed.loc[14].confirmed-sorted_country_confirmed.loc[14].deaths-sorted_country_confirmed.loc[14].active"
   ]
  },
  {
   "cell_type": "code",
   "execution_count": 25,
   "metadata": {},
   "outputs": [],
   "source": [
    "r116=sorted_country_confirmed.loc[116].confirmed-sorted_country_confirmed.loc[116].deaths-sorted_country_confirmed.loc[116].active"
   ]
  },
  {
   "cell_type": "code",
   "execution_count": 26,
   "metadata": {},
   "outputs": [],
   "source": [
    "sorted_country_confirmed.loc[14].recovered = r14"
   ]
  },
  {
   "cell_type": "code",
   "execution_count": 27,
   "metadata": {},
   "outputs": [],
   "source": [
    "sorted_country_confirmed.at[14,'recovered']= r14"
   ]
  },
  {
   "cell_type": "code",
   "execution_count": 28,
   "metadata": {},
   "outputs": [
    {
     "data": {
      "text/plain": [
       "0.0"
      ]
     },
     "execution_count": 28,
     "metadata": {},
     "output_type": "execute_result"
    }
   ],
   "source": [
    "sorted_country_confirmed.at[14,'recovered']"
   ]
  },
  {
   "cell_type": "code",
   "execution_count": 29,
   "metadata": {},
   "outputs": [],
   "source": [
    "sorted_country_confirmed.at[116,'recovered']= r116"
   ]
  },
  {
   "cell_type": "code",
   "execution_count": 30,
   "metadata": {},
   "outputs": [
    {
     "data": {
      "text/plain": [
       "0.0"
      ]
     },
     "execution_count": 30,
     "metadata": {},
     "output_type": "execute_result"
    }
   ],
   "source": [
    "sorted_country_confirmed.at[116,'recovered']"
   ]
  },
  {
   "cell_type": "code",
   "execution_count": 31,
   "metadata": {},
   "outputs": [
    {
     "data": {
      "text/plain": [
       "0"
      ]
     },
     "execution_count": 31,
     "metadata": {},
     "output_type": "execute_result"
    }
   ],
   "source": [
    "sorted_country_confirmed[\"recovered\"].isna().sum()"
   ]
  },
  {
   "cell_type": "code",
   "execution_count": 32,
   "metadata": {},
   "outputs": [],
   "source": [
    "import plotly.graph_objs as go"
   ]
  },
  {
   "cell_type": "code",
   "execution_count": 33,
   "metadata": {},
   "outputs": [],
   "source": [
    "data = dict(type = 'choropleth',\n",
    "           locations = sorted_country_confirmed['iso3'],\n",
    "           colorscale = 'Portland', \n",
    "           z = sorted_country_confirmed['confirmed'],\n",
    "           text = sorted_country_confirmed['country'],\n",
    "           colorbar = dict(title = ' confirmed cases around the globe'))\n",
    "            "
   ]
  },
  {
   "cell_type": "code",
   "execution_count": 34,
   "metadata": {},
   "outputs": [],
   "source": [
    "layout = dict(title = 'Covid-19 Cumulative Cases accross the Globe -- 19-Jun-2020', \n",
    "             geo=dict(showframe = False, projection={'type':'natural earth'}))"
   ]
  },
  {
   "cell_type": "code",
   "execution_count": 35,
   "metadata": {},
   "outputs": [],
   "source": [
    "covid_world = go.Figure(data= [data],layout = layout)"
   ]
  },
  {
   "cell_type": "code",
   "execution_count": 36,
   "metadata": {},
   "outputs": [
    {
     "data": {
      "application/vnd.plotly.v1+json": {
       "config": {
        "linkText": "Export to plot.ly",
        "plotlyServerURL": "https://plot.ly",
        "showLink": false
       },
       "data": [
        {
         "colorbar": {
          "title": {
           "text": " confirmed cases around the globe"
          }
         },
         "colorscale": [
          [
           0,
           "rgb(12,51,131)"
          ],
          [
           0.25,
           "rgb(10,136,186)"
          ],
          [
           0.5,
           "rgb(242,211,56)"
          ],
          [
           0.75,
           "rgb(242,143,56)"
          ],
          [
           1,
           "rgb(217,30,30)"
          ]
         ],
         "locations": [
          "USA",
          "BRA",
          "IND",
          "RUS",
          "PER",
          "CHL",
          "GBR",
          "MEX",
          "ESP",
          "IRN",
          "ITA",
          "PAK",
          "SAU",
          "TUR",
          "ZAF",
          "FRA",
          "DEU",
          "BGD",
          "COL",
          "CAN",
          "QAT",
          "CHN",
          "ARG",
          "EGY",
          "SWE",
          "IDN",
          "BLR",
          "ECU",
          "IRQ",
          "BEL",
          "ARE",
          "NLD",
          "KWT",
          "UKR",
          "KAZ",
          "OMN",
          "PHL",
          "SGP",
          "PRT",
          "BOL",
          "PAN",
          "DOM",
          "POL",
          "AFG",
          "CHE",
          "ISR",
          "BHR",
          "NGA",
          "ARM",
          "ROU",
          "IRL",
          "HND",
          "GTM",
          "GHA",
          "AZE",
          "JPN",
          "AUT",
          "MDA",
          "SRB",
          "DZA",
          "NPL",
          "CMR",
          "MAR",
          "KOR",
          "DNK",
          "CZE",
          "CIV",
          "UZB",
          "SDN",
          "NOR",
          "AUS",
          "MYS",
          "KGZ",
          "KEN",
          "SLV",
          "SEN",
          "COD",
          "VEN",
          "FIN",
          "MKD",
          "HTI",
          "TJK",
          "BGR",
          "ETH",
          "GAB",
          "GIN",
          "BIH",
          "CRI",
          "MRT",
          "DJI",
          "LUX",
          "PSE",
          "HUN",
          "CAF",
          "GRC",
          "XKS",
          "MDG",
          "HRV",
          "THA",
          "GNQ",
          "SOM",
          "ALB",
          "NIC",
          "MDV",
          "PRY",
          "CUB",
          "MLI",
          "LKA",
          "SSD",
          "EST",
          "LBN",
          "ISL",
          "LTU",
          "GNB",
          "SVK",
          "MWI",
          "SVN",
          "ZMB",
          "COG",
          "SLE",
          "NZL",
          "CPV",
          "YEM",
          "TUN",
          "BEN",
          "JOR",
          "LVA",
          "LBY",
          "RWA",
          "NER",
          "MOZ",
          "SWZ",
          "CYP",
          "BFA",
          "URY",
          "GEO",
          "UGA",
          "LBR",
          "TCD",
          "AND",
          "MNE",
          "JAM",
          "ZWE",
          "STP",
          null,
          "SMR",
          "TGO",
          "MLT",
          "SUR",
          "TZA",
          "NAM",
          "TWN",
          "SYR",
          "VNM",
          "AGO",
          "MUS",
          "MMR",
          "BWA",
          "COM",
          "GUY",
          "MNG",
          "ERI",
          "BDI",
          "KHM",
          "BRN",
          "TTO",
          "MCO",
          "BHS",
          "BRB",
          "LSO",
          "LIE",
          "SYC",
          "BTN",
          "ATG",
          "GMB",
          "BLZ",
          "VCT",
          "TLS",
          "GRD",
          "LCA",
          "FJI",
          "LAO",
          "DMA",
          "KNA",
          "VAT",
          "PNG",
          "ESH",
          null
         ],
         "text": [
          "US",
          "Brazil",
          "India",
          "Russia",
          "Peru",
          "Chile",
          "United Kingdom",
          "Mexico",
          "Spain",
          "Iran",
          "Italy",
          "Pakistan",
          "Saudi Arabia",
          "Turkey",
          "South Africa",
          "France",
          "Germany",
          "Bangladesh",
          "Colombia",
          "Canada",
          "Qatar",
          "China",
          "Argentina",
          "Egypt",
          "Sweden",
          "Indonesia",
          "Belarus",
          "Ecuador",
          "Iraq",
          "Belgium",
          "United Arab Emirates",
          "Netherlands",
          "Kuwait",
          "Ukraine",
          "Kazakhstan",
          "Oman",
          "Philippines",
          "Singapore",
          "Portugal",
          "Bolivia",
          "Panama",
          "Dominican Republic",
          "Poland",
          "Afghanistan",
          "Switzerland",
          "Israel",
          "Bahrain",
          "Nigeria",
          "Armenia",
          "Romania",
          "Ireland",
          "Honduras",
          "Guatemala",
          "Ghana",
          "Azerbaijan",
          "Japan",
          "Austria",
          "Moldova",
          "Serbia",
          "Algeria",
          "Nepal",
          "Cameroon",
          "Morocco",
          "Korea, South",
          "Denmark",
          "Czechia",
          "Cote d'Ivoire",
          "Uzbekistan",
          "Sudan",
          "Norway",
          "Australia",
          "Malaysia",
          "Kyrgyzstan",
          "Kenya",
          "El Salvador",
          "Senegal",
          "Congo (Kinshasa)",
          "Venezuela",
          "Finland",
          "North Macedonia",
          "Haiti",
          "Tajikistan",
          "Bulgaria",
          "Ethiopia",
          "Gabon",
          "Guinea",
          "Bosnia and Herzegovina",
          "Costa Rica",
          "Mauritania",
          "Djibouti",
          "Luxembourg",
          "West Bank and Gaza",
          "Hungary",
          "Central African Republic",
          "Greece",
          "Kosovo",
          "Madagascar",
          "Croatia",
          "Thailand",
          "Equatorial Guinea",
          "Somalia",
          "Albania",
          "Nicaragua",
          "Maldives",
          "Paraguay",
          "Cuba",
          "Mali",
          "Sri Lanka",
          "South Sudan",
          "Estonia",
          "Lebanon",
          "Iceland",
          "Lithuania",
          "Guinea-Bissau",
          "Slovakia",
          "Malawi",
          "Slovenia",
          "Zambia",
          "Congo (Brazzaville)",
          "Sierra Leone",
          "New Zealand",
          "Cabo Verde",
          "Yemen",
          "Tunisia",
          "Benin",
          "Jordan",
          "Latvia",
          "Libya",
          "Rwanda",
          "Niger",
          "Mozambique",
          "Eswatini",
          "Cyprus",
          "Burkina Faso",
          "Uruguay",
          "Georgia",
          "Uganda",
          "Liberia",
          "Chad",
          "Andorra",
          "Montenegro",
          "Jamaica",
          "Zimbabwe",
          "Sao Tome and Principe",
          "Diamond Princess",
          "San Marino",
          "Togo",
          "Malta",
          "Suriname",
          "Tanzania",
          "Namibia",
          "Taiwan*",
          "Syria",
          "Vietnam",
          "Angola",
          "Mauritius",
          "Burma",
          "Botswana",
          "Comoros",
          "Guyana",
          "Mongolia",
          "Eritrea",
          "Burundi",
          "Cambodia",
          "Brunei",
          "Trinidad and Tobago",
          "Monaco",
          "Bahamas",
          "Barbados",
          "Lesotho",
          "Liechtenstein",
          "Seychelles",
          "Bhutan",
          "Antigua and Barbuda",
          "Gambia",
          "Belize",
          "Saint Vincent and the Grenadines",
          "Timor-Leste",
          "Grenada",
          "Saint Lucia",
          "Fiji",
          "Laos",
          "Dominica",
          "Saint Kitts and Nevis",
          "Holy See",
          "Papua New Guinea",
          "Western Sahara",
          "MS Zaandam"
         ],
         "type": "choropleth",
         "z": [
          2938624,
          1623284,
          719664,
          686852,
          305703,
          298557,
          287291,
          261750,
          251789,
          243051,
          241819,
          234509,
          213716,
          206844,
          205721,
          205597,
          198079,
          165618,
          117412,
          107815,
          100345,
          84889,
          80447,
          76222,
          73061,
          64958,
          63804,
          62380,
          62275,
          62058,
          52068,
          50870,
          50644,
          50617,
          49683,
          47735,
          46333,
          44983,
          44129,
          40509,
          39334,
          38128,
          36155,
          33384,
          32315,
          31186,
          29821,
          29286,
          29285,
          29223,
          25531,
          24665,
          23972,
          21077,
          20837,
          19954,
          18365,
          17906,
          16420,
          16404,
          15964,
          14916,
          14379,
          13181,
          13079,
          12566,
          10966,
          10459,
          9894,
          8936,
          8755,
          8668,
          8141,
          8067,
          8027,
          7478,
          7432,
          7411,
          7257,
          7124,
          6371,
          6262,
          5914,
          5846,
          5743,
          5610,
          5458,
          5241,
          4948,
          4822,
          4542,
          4341,
          4205,
          4033,
          3562,
          3508,
          3250,
          3220,
          3195,
          3071,
          3006,
          2964,
          2519,
          2491,
          2456,
          2380,
          2331,
          2078,
          2021,
          1994,
          1885,
          1866,
          1841,
          1790,
          1765,
          1742,
          1716,
          1632,
          1557,
          1547,
          1536,
          1463,
          1284,
          1199,
          1199,
          1167,
          1134,
          1117,
          1113,
          1093,
          1012,
          1011,
          1004,
          1000,
          960,
          958,
          953,
          891,
          872,
          855,
          841,
          737,
          734,
          721,
          712,
          698,
          680,
          672,
          614,
          509,
          485,
          449,
          372,
          369,
          346,
          342,
          316,
          314,
          311,
          273,
          225,
          215,
          191,
          141,
          141,
          133,
          108,
          104,
          98,
          91,
          84,
          81,
          80,
          70,
          61,
          30,
          29,
          24,
          23,
          22,
          21,
          19,
          18,
          16,
          12,
          11,
          10,
          9
         ]
        }
       ],
       "layout": {
        "geo": {
         "projection": {
          "type": "natural earth"
         },
         "showframe": false
        },
        "template": {
         "data": {
          "bar": [
           {
            "error_x": {
             "color": "#2a3f5f"
            },
            "error_y": {
             "color": "#2a3f5f"
            },
            "marker": {
             "line": {
              "color": "#E5ECF6",
              "width": 0.5
             }
            },
            "type": "bar"
           }
          ],
          "barpolar": [
           {
            "marker": {
             "line": {
              "color": "#E5ECF6",
              "width": 0.5
             }
            },
            "type": "barpolar"
           }
          ],
          "carpet": [
           {
            "aaxis": {
             "endlinecolor": "#2a3f5f",
             "gridcolor": "white",
             "linecolor": "white",
             "minorgridcolor": "white",
             "startlinecolor": "#2a3f5f"
            },
            "baxis": {
             "endlinecolor": "#2a3f5f",
             "gridcolor": "white",
             "linecolor": "white",
             "minorgridcolor": "white",
             "startlinecolor": "#2a3f5f"
            },
            "type": "carpet"
           }
          ],
          "choropleth": [
           {
            "colorbar": {
             "outlinewidth": 0,
             "ticks": ""
            },
            "type": "choropleth"
           }
          ],
          "contour": [
           {
            "colorbar": {
             "outlinewidth": 0,
             "ticks": ""
            },
            "colorscale": [
             [
              0,
              "#0d0887"
             ],
             [
              0.1111111111111111,
              "#46039f"
             ],
             [
              0.2222222222222222,
              "#7201a8"
             ],
             [
              0.3333333333333333,
              "#9c179e"
             ],
             [
              0.4444444444444444,
              "#bd3786"
             ],
             [
              0.5555555555555556,
              "#d8576b"
             ],
             [
              0.6666666666666666,
              "#ed7953"
             ],
             [
              0.7777777777777778,
              "#fb9f3a"
             ],
             [
              0.8888888888888888,
              "#fdca26"
             ],
             [
              1,
              "#f0f921"
             ]
            ],
            "type": "contour"
           }
          ],
          "contourcarpet": [
           {
            "colorbar": {
             "outlinewidth": 0,
             "ticks": ""
            },
            "type": "contourcarpet"
           }
          ],
          "heatmap": [
           {
            "colorbar": {
             "outlinewidth": 0,
             "ticks": ""
            },
            "colorscale": [
             [
              0,
              "#0d0887"
             ],
             [
              0.1111111111111111,
              "#46039f"
             ],
             [
              0.2222222222222222,
              "#7201a8"
             ],
             [
              0.3333333333333333,
              "#9c179e"
             ],
             [
              0.4444444444444444,
              "#bd3786"
             ],
             [
              0.5555555555555556,
              "#d8576b"
             ],
             [
              0.6666666666666666,
              "#ed7953"
             ],
             [
              0.7777777777777778,
              "#fb9f3a"
             ],
             [
              0.8888888888888888,
              "#fdca26"
             ],
             [
              1,
              "#f0f921"
             ]
            ],
            "type": "heatmap"
           }
          ],
          "heatmapgl": [
           {
            "colorbar": {
             "outlinewidth": 0,
             "ticks": ""
            },
            "colorscale": [
             [
              0,
              "#0d0887"
             ],
             [
              0.1111111111111111,
              "#46039f"
             ],
             [
              0.2222222222222222,
              "#7201a8"
             ],
             [
              0.3333333333333333,
              "#9c179e"
             ],
             [
              0.4444444444444444,
              "#bd3786"
             ],
             [
              0.5555555555555556,
              "#d8576b"
             ],
             [
              0.6666666666666666,
              "#ed7953"
             ],
             [
              0.7777777777777778,
              "#fb9f3a"
             ],
             [
              0.8888888888888888,
              "#fdca26"
             ],
             [
              1,
              "#f0f921"
             ]
            ],
            "type": "heatmapgl"
           }
          ],
          "histogram": [
           {
            "marker": {
             "colorbar": {
              "outlinewidth": 0,
              "ticks": ""
             }
            },
            "type": "histogram"
           }
          ],
          "histogram2d": [
           {
            "colorbar": {
             "outlinewidth": 0,
             "ticks": ""
            },
            "colorscale": [
             [
              0,
              "#0d0887"
             ],
             [
              0.1111111111111111,
              "#46039f"
             ],
             [
              0.2222222222222222,
              "#7201a8"
             ],
             [
              0.3333333333333333,
              "#9c179e"
             ],
             [
              0.4444444444444444,
              "#bd3786"
             ],
             [
              0.5555555555555556,
              "#d8576b"
             ],
             [
              0.6666666666666666,
              "#ed7953"
             ],
             [
              0.7777777777777778,
              "#fb9f3a"
             ],
             [
              0.8888888888888888,
              "#fdca26"
             ],
             [
              1,
              "#f0f921"
             ]
            ],
            "type": "histogram2d"
           }
          ],
          "histogram2dcontour": [
           {
            "colorbar": {
             "outlinewidth": 0,
             "ticks": ""
            },
            "colorscale": [
             [
              0,
              "#0d0887"
             ],
             [
              0.1111111111111111,
              "#46039f"
             ],
             [
              0.2222222222222222,
              "#7201a8"
             ],
             [
              0.3333333333333333,
              "#9c179e"
             ],
             [
              0.4444444444444444,
              "#bd3786"
             ],
             [
              0.5555555555555556,
              "#d8576b"
             ],
             [
              0.6666666666666666,
              "#ed7953"
             ],
             [
              0.7777777777777778,
              "#fb9f3a"
             ],
             [
              0.8888888888888888,
              "#fdca26"
             ],
             [
              1,
              "#f0f921"
             ]
            ],
            "type": "histogram2dcontour"
           }
          ],
          "mesh3d": [
           {
            "colorbar": {
             "outlinewidth": 0,
             "ticks": ""
            },
            "type": "mesh3d"
           }
          ],
          "parcoords": [
           {
            "line": {
             "colorbar": {
              "outlinewidth": 0,
              "ticks": ""
             }
            },
            "type": "parcoords"
           }
          ],
          "pie": [
           {
            "automargin": true,
            "type": "pie"
           }
          ],
          "scatter": [
           {
            "marker": {
             "colorbar": {
              "outlinewidth": 0,
              "ticks": ""
             }
            },
            "type": "scatter"
           }
          ],
          "scatter3d": [
           {
            "line": {
             "colorbar": {
              "outlinewidth": 0,
              "ticks": ""
             }
            },
            "marker": {
             "colorbar": {
              "outlinewidth": 0,
              "ticks": ""
             }
            },
            "type": "scatter3d"
           }
          ],
          "scattercarpet": [
           {
            "marker": {
             "colorbar": {
              "outlinewidth": 0,
              "ticks": ""
             }
            },
            "type": "scattercarpet"
           }
          ],
          "scattergeo": [
           {
            "marker": {
             "colorbar": {
              "outlinewidth": 0,
              "ticks": ""
             }
            },
            "type": "scattergeo"
           }
          ],
          "scattergl": [
           {
            "marker": {
             "colorbar": {
              "outlinewidth": 0,
              "ticks": ""
             }
            },
            "type": "scattergl"
           }
          ],
          "scattermapbox": [
           {
            "marker": {
             "colorbar": {
              "outlinewidth": 0,
              "ticks": ""
             }
            },
            "type": "scattermapbox"
           }
          ],
          "scatterpolar": [
           {
            "marker": {
             "colorbar": {
              "outlinewidth": 0,
              "ticks": ""
             }
            },
            "type": "scatterpolar"
           }
          ],
          "scatterpolargl": [
           {
            "marker": {
             "colorbar": {
              "outlinewidth": 0,
              "ticks": ""
             }
            },
            "type": "scatterpolargl"
           }
          ],
          "scatterternary": [
           {
            "marker": {
             "colorbar": {
              "outlinewidth": 0,
              "ticks": ""
             }
            },
            "type": "scatterternary"
           }
          ],
          "surface": [
           {
            "colorbar": {
             "outlinewidth": 0,
             "ticks": ""
            },
            "colorscale": [
             [
              0,
              "#0d0887"
             ],
             [
              0.1111111111111111,
              "#46039f"
             ],
             [
              0.2222222222222222,
              "#7201a8"
             ],
             [
              0.3333333333333333,
              "#9c179e"
             ],
             [
              0.4444444444444444,
              "#bd3786"
             ],
             [
              0.5555555555555556,
              "#d8576b"
             ],
             [
              0.6666666666666666,
              "#ed7953"
             ],
             [
              0.7777777777777778,
              "#fb9f3a"
             ],
             [
              0.8888888888888888,
              "#fdca26"
             ],
             [
              1,
              "#f0f921"
             ]
            ],
            "type": "surface"
           }
          ],
          "table": [
           {
            "cells": {
             "fill": {
              "color": "#EBF0F8"
             },
             "line": {
              "color": "white"
             }
            },
            "header": {
             "fill": {
              "color": "#C8D4E3"
             },
             "line": {
              "color": "white"
             }
            },
            "type": "table"
           }
          ]
         },
         "layout": {
          "annotationdefaults": {
           "arrowcolor": "#2a3f5f",
           "arrowhead": 0,
           "arrowwidth": 1
          },
          "coloraxis": {
           "colorbar": {
            "outlinewidth": 0,
            "ticks": ""
           }
          },
          "colorscale": {
           "diverging": [
            [
             0,
             "#8e0152"
            ],
            [
             0.1,
             "#c51b7d"
            ],
            [
             0.2,
             "#de77ae"
            ],
            [
             0.3,
             "#f1b6da"
            ],
            [
             0.4,
             "#fde0ef"
            ],
            [
             0.5,
             "#f7f7f7"
            ],
            [
             0.6,
             "#e6f5d0"
            ],
            [
             0.7,
             "#b8e186"
            ],
            [
             0.8,
             "#7fbc41"
            ],
            [
             0.9,
             "#4d9221"
            ],
            [
             1,
             "#276419"
            ]
           ],
           "sequential": [
            [
             0,
             "#0d0887"
            ],
            [
             0.1111111111111111,
             "#46039f"
            ],
            [
             0.2222222222222222,
             "#7201a8"
            ],
            [
             0.3333333333333333,
             "#9c179e"
            ],
            [
             0.4444444444444444,
             "#bd3786"
            ],
            [
             0.5555555555555556,
             "#d8576b"
            ],
            [
             0.6666666666666666,
             "#ed7953"
            ],
            [
             0.7777777777777778,
             "#fb9f3a"
            ],
            [
             0.8888888888888888,
             "#fdca26"
            ],
            [
             1,
             "#f0f921"
            ]
           ],
           "sequentialminus": [
            [
             0,
             "#0d0887"
            ],
            [
             0.1111111111111111,
             "#46039f"
            ],
            [
             0.2222222222222222,
             "#7201a8"
            ],
            [
             0.3333333333333333,
             "#9c179e"
            ],
            [
             0.4444444444444444,
             "#bd3786"
            ],
            [
             0.5555555555555556,
             "#d8576b"
            ],
            [
             0.6666666666666666,
             "#ed7953"
            ],
            [
             0.7777777777777778,
             "#fb9f3a"
            ],
            [
             0.8888888888888888,
             "#fdca26"
            ],
            [
             1,
             "#f0f921"
            ]
           ]
          },
          "colorway": [
           "#636efa",
           "#EF553B",
           "#00cc96",
           "#ab63fa",
           "#FFA15A",
           "#19d3f3",
           "#FF6692",
           "#B6E880",
           "#FF97FF",
           "#FECB52"
          ],
          "font": {
           "color": "#2a3f5f"
          },
          "geo": {
           "bgcolor": "white",
           "lakecolor": "white",
           "landcolor": "#E5ECF6",
           "showlakes": true,
           "showland": true,
           "subunitcolor": "white"
          },
          "hoverlabel": {
           "align": "left"
          },
          "hovermode": "closest",
          "mapbox": {
           "style": "light"
          },
          "paper_bgcolor": "white",
          "plot_bgcolor": "#E5ECF6",
          "polar": {
           "angularaxis": {
            "gridcolor": "white",
            "linecolor": "white",
            "ticks": ""
           },
           "bgcolor": "#E5ECF6",
           "radialaxis": {
            "gridcolor": "white",
            "linecolor": "white",
            "ticks": ""
           }
          },
          "scene": {
           "xaxis": {
            "backgroundcolor": "#E5ECF6",
            "gridcolor": "white",
            "gridwidth": 2,
            "linecolor": "white",
            "showbackground": true,
            "ticks": "",
            "zerolinecolor": "white"
           },
           "yaxis": {
            "backgroundcolor": "#E5ECF6",
            "gridcolor": "white",
            "gridwidth": 2,
            "linecolor": "white",
            "showbackground": true,
            "ticks": "",
            "zerolinecolor": "white"
           },
           "zaxis": {
            "backgroundcolor": "#E5ECF6",
            "gridcolor": "white",
            "gridwidth": 2,
            "linecolor": "white",
            "showbackground": true,
            "ticks": "",
            "zerolinecolor": "white"
           }
          },
          "shapedefaults": {
           "line": {
            "color": "#2a3f5f"
           }
          },
          "ternary": {
           "aaxis": {
            "gridcolor": "white",
            "linecolor": "white",
            "ticks": ""
           },
           "baxis": {
            "gridcolor": "white",
            "linecolor": "white",
            "ticks": ""
           },
           "bgcolor": "#E5ECF6",
           "caxis": {
            "gridcolor": "white",
            "linecolor": "white",
            "ticks": ""
           }
          },
          "title": {
           "x": 0.05
          },
          "xaxis": {
           "automargin": true,
           "gridcolor": "white",
           "linecolor": "white",
           "ticks": "",
           "title": {
            "standoff": 15
           },
           "zerolinecolor": "white",
           "zerolinewidth": 2
          },
          "yaxis": {
           "automargin": true,
           "gridcolor": "white",
           "linecolor": "white",
           "ticks": "",
           "title": {
            "standoff": 15
           },
           "zerolinecolor": "white",
           "zerolinewidth": 2
          }
         }
        },
        "title": {
         "text": "Covid-19 Cumulative Cases accross the Globe -- 19-Jun-2020"
        }
       }
      },
      "text/html": [
       "<div>\n",
       "        \n",
       "        \n",
       "            <div id=\"da084d9c-22e7-4aa7-90ff-af8e7442c18a\" class=\"plotly-graph-div\" style=\"height:525px; width:100%;\"></div>\n",
       "            <script type=\"text/javascript\">\n",
       "                require([\"plotly\"], function(Plotly) {\n",
       "                    window.PLOTLYENV=window.PLOTLYENV || {};\n",
       "                    \n",
       "                if (document.getElementById(\"da084d9c-22e7-4aa7-90ff-af8e7442c18a\")) {\n",
       "                    Plotly.newPlot(\n",
       "                        'da084d9c-22e7-4aa7-90ff-af8e7442c18a',\n",
       "                        [{\"colorbar\": {\"title\": {\"text\": \" confirmed cases around the globe\"}}, \"colorscale\": [[0.0, \"rgb(12,51,131)\"], [0.25, \"rgb(10,136,186)\"], [0.5, \"rgb(242,211,56)\"], [0.75, \"rgb(242,143,56)\"], [1.0, \"rgb(217,30,30)\"]], \"locations\": [\"USA\", \"BRA\", \"IND\", \"RUS\", \"PER\", \"CHL\", \"GBR\", \"MEX\", \"ESP\", \"IRN\", \"ITA\", \"PAK\", \"SAU\", \"TUR\", \"ZAF\", \"FRA\", \"DEU\", \"BGD\", \"COL\", \"CAN\", \"QAT\", \"CHN\", \"ARG\", \"EGY\", \"SWE\", \"IDN\", \"BLR\", \"ECU\", \"IRQ\", \"BEL\", \"ARE\", \"NLD\", \"KWT\", \"UKR\", \"KAZ\", \"OMN\", \"PHL\", \"SGP\", \"PRT\", \"BOL\", \"PAN\", \"DOM\", \"POL\", \"AFG\", \"CHE\", \"ISR\", \"BHR\", \"NGA\", \"ARM\", \"ROU\", \"IRL\", \"HND\", \"GTM\", \"GHA\", \"AZE\", \"JPN\", \"AUT\", \"MDA\", \"SRB\", \"DZA\", \"NPL\", \"CMR\", \"MAR\", \"KOR\", \"DNK\", \"CZE\", \"CIV\", \"UZB\", \"SDN\", \"NOR\", \"AUS\", \"MYS\", \"KGZ\", \"KEN\", \"SLV\", \"SEN\", \"COD\", \"VEN\", \"FIN\", \"MKD\", \"HTI\", \"TJK\", \"BGR\", \"ETH\", \"GAB\", \"GIN\", \"BIH\", \"CRI\", \"MRT\", \"DJI\", \"LUX\", \"PSE\", \"HUN\", \"CAF\", \"GRC\", \"XKS\", \"MDG\", \"HRV\", \"THA\", \"GNQ\", \"SOM\", \"ALB\", \"NIC\", \"MDV\", \"PRY\", \"CUB\", \"MLI\", \"LKA\", \"SSD\", \"EST\", \"LBN\", \"ISL\", \"LTU\", \"GNB\", \"SVK\", \"MWI\", \"SVN\", \"ZMB\", \"COG\", \"SLE\", \"NZL\", \"CPV\", \"YEM\", \"TUN\", \"BEN\", \"JOR\", \"LVA\", \"LBY\", \"RWA\", \"NER\", \"MOZ\", \"SWZ\", \"CYP\", \"BFA\", \"URY\", \"GEO\", \"UGA\", \"LBR\", \"TCD\", \"AND\", \"MNE\", \"JAM\", \"ZWE\", \"STP\", null, \"SMR\", \"TGO\", \"MLT\", \"SUR\", \"TZA\", \"NAM\", \"TWN\", \"SYR\", \"VNM\", \"AGO\", \"MUS\", \"MMR\", \"BWA\", \"COM\", \"GUY\", \"MNG\", \"ERI\", \"BDI\", \"KHM\", \"BRN\", \"TTO\", \"MCO\", \"BHS\", \"BRB\", \"LSO\", \"LIE\", \"SYC\", \"BTN\", \"ATG\", \"GMB\", \"BLZ\", \"VCT\", \"TLS\", \"GRD\", \"LCA\", \"FJI\", \"LAO\", \"DMA\", \"KNA\", \"VAT\", \"PNG\", \"ESH\", null], \"text\": [\"US\", \"Brazil\", \"India\", \"Russia\", \"Peru\", \"Chile\", \"United Kingdom\", \"Mexico\", \"Spain\", \"Iran\", \"Italy\", \"Pakistan\", \"Saudi Arabia\", \"Turkey\", \"South Africa\", \"France\", \"Germany\", \"Bangladesh\", \"Colombia\", \"Canada\", \"Qatar\", \"China\", \"Argentina\", \"Egypt\", \"Sweden\", \"Indonesia\", \"Belarus\", \"Ecuador\", \"Iraq\", \"Belgium\", \"United Arab Emirates\", \"Netherlands\", \"Kuwait\", \"Ukraine\", \"Kazakhstan\", \"Oman\", \"Philippines\", \"Singapore\", \"Portugal\", \"Bolivia\", \"Panama\", \"Dominican Republic\", \"Poland\", \"Afghanistan\", \"Switzerland\", \"Israel\", \"Bahrain\", \"Nigeria\", \"Armenia\", \"Romania\", \"Ireland\", \"Honduras\", \"Guatemala\", \"Ghana\", \"Azerbaijan\", \"Japan\", \"Austria\", \"Moldova\", \"Serbia\", \"Algeria\", \"Nepal\", \"Cameroon\", \"Morocco\", \"Korea, South\", \"Denmark\", \"Czechia\", \"Cote d'Ivoire\", \"Uzbekistan\", \"Sudan\", \"Norway\", \"Australia\", \"Malaysia\", \"Kyrgyzstan\", \"Kenya\", \"El Salvador\", \"Senegal\", \"Congo (Kinshasa)\", \"Venezuela\", \"Finland\", \"North Macedonia\", \"Haiti\", \"Tajikistan\", \"Bulgaria\", \"Ethiopia\", \"Gabon\", \"Guinea\", \"Bosnia and Herzegovina\", \"Costa Rica\", \"Mauritania\", \"Djibouti\", \"Luxembourg\", \"West Bank and Gaza\", \"Hungary\", \"Central African Republic\", \"Greece\", \"Kosovo\", \"Madagascar\", \"Croatia\", \"Thailand\", \"Equatorial Guinea\", \"Somalia\", \"Albania\", \"Nicaragua\", \"Maldives\", \"Paraguay\", \"Cuba\", \"Mali\", \"Sri Lanka\", \"South Sudan\", \"Estonia\", \"Lebanon\", \"Iceland\", \"Lithuania\", \"Guinea-Bissau\", \"Slovakia\", \"Malawi\", \"Slovenia\", \"Zambia\", \"Congo (Brazzaville)\", \"Sierra Leone\", \"New Zealand\", \"Cabo Verde\", \"Yemen\", \"Tunisia\", \"Benin\", \"Jordan\", \"Latvia\", \"Libya\", \"Rwanda\", \"Niger\", \"Mozambique\", \"Eswatini\", \"Cyprus\", \"Burkina Faso\", \"Uruguay\", \"Georgia\", \"Uganda\", \"Liberia\", \"Chad\", \"Andorra\", \"Montenegro\", \"Jamaica\", \"Zimbabwe\", \"Sao Tome and Principe\", \"Diamond Princess\", \"San Marino\", \"Togo\", \"Malta\", \"Suriname\", \"Tanzania\", \"Namibia\", \"Taiwan*\", \"Syria\", \"Vietnam\", \"Angola\", \"Mauritius\", \"Burma\", \"Botswana\", \"Comoros\", \"Guyana\", \"Mongolia\", \"Eritrea\", \"Burundi\", \"Cambodia\", \"Brunei\", \"Trinidad and Tobago\", \"Monaco\", \"Bahamas\", \"Barbados\", \"Lesotho\", \"Liechtenstein\", \"Seychelles\", \"Bhutan\", \"Antigua and Barbuda\", \"Gambia\", \"Belize\", \"Saint Vincent and the Grenadines\", \"Timor-Leste\", \"Grenada\", \"Saint Lucia\", \"Fiji\", \"Laos\", \"Dominica\", \"Saint Kitts and Nevis\", \"Holy See\", \"Papua New Guinea\", \"Western Sahara\", \"MS Zaandam\"], \"type\": \"choropleth\", \"z\": [2938624.0, 1623284.0, 719664.0, 686852.0, 305703.0, 298557.0, 287291.0, 261750.0, 251789.0, 243051.0, 241819.0, 234509.0, 213716.0, 206844.0, 205721.0, 205597.0, 198079.0, 165618.0, 117412.0, 107815.0, 100345.0, 84889.0, 80447.0, 76222.0, 73061.0, 64958.0, 63804.0, 62380.0, 62275.0, 62058.0, 52068.0, 50870.0, 50644.0, 50617.0, 49683.0, 47735.0, 46333.0, 44983.0, 44129.0, 40509.0, 39334.0, 38128.0, 36155.0, 33384.0, 32315.0, 31186.0, 29821.0, 29286.0, 29285.0, 29223.0, 25531.0, 24665.0, 23972.0, 21077.0, 20837.0, 19954.0, 18365.0, 17906.0, 16420.0, 16404.0, 15964.0, 14916.0, 14379.0, 13181.0, 13079.0, 12566.0, 10966.0, 10459.0, 9894.0, 8936.0, 8755.0, 8668.0, 8141.0, 8067.0, 8027.0, 7478.0, 7432.0, 7411.0, 7257.0, 7124.0, 6371.0, 6262.0, 5914.0, 5846.0, 5743.0, 5610.0, 5458.0, 5241.0, 4948.0, 4822.0, 4542.0, 4341.0, 4205.0, 4033.0, 3562.0, 3508.0, 3250.0, 3220.0, 3195.0, 3071.0, 3006.0, 2964.0, 2519.0, 2491.0, 2456.0, 2380.0, 2331.0, 2078.0, 2021.0, 1994.0, 1885.0, 1866.0, 1841.0, 1790.0, 1765.0, 1742.0, 1716.0, 1632.0, 1557.0, 1547.0, 1536.0, 1463.0, 1284.0, 1199.0, 1199.0, 1167.0, 1134.0, 1117.0, 1113.0, 1093.0, 1012.0, 1011.0, 1004.0, 1000.0, 960.0, 958.0, 953.0, 891.0, 872.0, 855.0, 841.0, 737.0, 734.0, 721.0, 712.0, 698.0, 680.0, 672.0, 614.0, 509.0, 485.0, 449.0, 372.0, 369.0, 346.0, 342.0, 316.0, 314.0, 311.0, 273.0, 225.0, 215.0, 191.0, 141.0, 141.0, 133.0, 108.0, 104.0, 98.0, 91.0, 84.0, 81.0, 80.0, 70.0, 61.0, 30.0, 29.0, 24.0, 23.0, 22.0, 21.0, 19.0, 18.0, 16.0, 12.0, 11.0, 10.0, 9.0]}],\n",
       "                        {\"geo\": {\"projection\": {\"type\": \"natural earth\"}, \"showframe\": false}, \"template\": {\"data\": {\"bar\": [{\"error_x\": {\"color\": \"#2a3f5f\"}, \"error_y\": {\"color\": \"#2a3f5f\"}, \"marker\": {\"line\": {\"color\": \"#E5ECF6\", \"width\": 0.5}}, \"type\": \"bar\"}], \"barpolar\": [{\"marker\": {\"line\": {\"color\": \"#E5ECF6\", \"width\": 0.5}}, \"type\": \"barpolar\"}], \"carpet\": [{\"aaxis\": {\"endlinecolor\": \"#2a3f5f\", \"gridcolor\": \"white\", \"linecolor\": \"white\", \"minorgridcolor\": \"white\", \"startlinecolor\": \"#2a3f5f\"}, \"baxis\": {\"endlinecolor\": \"#2a3f5f\", \"gridcolor\": \"white\", \"linecolor\": \"white\", \"minorgridcolor\": \"white\", \"startlinecolor\": \"#2a3f5f\"}, \"type\": \"carpet\"}], \"choropleth\": [{\"colorbar\": {\"outlinewidth\": 0, \"ticks\": \"\"}, \"type\": \"choropleth\"}], \"contour\": [{\"colorbar\": {\"outlinewidth\": 0, \"ticks\": \"\"}, \"colorscale\": [[0.0, \"#0d0887\"], [0.1111111111111111, \"#46039f\"], [0.2222222222222222, \"#7201a8\"], [0.3333333333333333, \"#9c179e\"], [0.4444444444444444, \"#bd3786\"], [0.5555555555555556, \"#d8576b\"], [0.6666666666666666, \"#ed7953\"], [0.7777777777777778, \"#fb9f3a\"], [0.8888888888888888, \"#fdca26\"], [1.0, \"#f0f921\"]], \"type\": \"contour\"}], \"contourcarpet\": [{\"colorbar\": {\"outlinewidth\": 0, \"ticks\": \"\"}, \"type\": \"contourcarpet\"}], \"heatmap\": [{\"colorbar\": {\"outlinewidth\": 0, \"ticks\": \"\"}, \"colorscale\": [[0.0, \"#0d0887\"], [0.1111111111111111, \"#46039f\"], [0.2222222222222222, \"#7201a8\"], [0.3333333333333333, \"#9c179e\"], [0.4444444444444444, \"#bd3786\"], [0.5555555555555556, \"#d8576b\"], [0.6666666666666666, \"#ed7953\"], [0.7777777777777778, \"#fb9f3a\"], [0.8888888888888888, \"#fdca26\"], [1.0, \"#f0f921\"]], \"type\": \"heatmap\"}], \"heatmapgl\": [{\"colorbar\": {\"outlinewidth\": 0, \"ticks\": \"\"}, \"colorscale\": [[0.0, \"#0d0887\"], [0.1111111111111111, \"#46039f\"], [0.2222222222222222, \"#7201a8\"], [0.3333333333333333, \"#9c179e\"], [0.4444444444444444, \"#bd3786\"], [0.5555555555555556, \"#d8576b\"], [0.6666666666666666, \"#ed7953\"], [0.7777777777777778, \"#fb9f3a\"], [0.8888888888888888, \"#fdca26\"], [1.0, \"#f0f921\"]], \"type\": \"heatmapgl\"}], \"histogram\": [{\"marker\": {\"colorbar\": {\"outlinewidth\": 0, \"ticks\": \"\"}}, \"type\": \"histogram\"}], \"histogram2d\": [{\"colorbar\": {\"outlinewidth\": 0, \"ticks\": \"\"}, \"colorscale\": [[0.0, \"#0d0887\"], [0.1111111111111111, \"#46039f\"], [0.2222222222222222, \"#7201a8\"], [0.3333333333333333, \"#9c179e\"], [0.4444444444444444, \"#bd3786\"], [0.5555555555555556, \"#d8576b\"], [0.6666666666666666, \"#ed7953\"], [0.7777777777777778, \"#fb9f3a\"], [0.8888888888888888, \"#fdca26\"], [1.0, \"#f0f921\"]], \"type\": \"histogram2d\"}], \"histogram2dcontour\": [{\"colorbar\": {\"outlinewidth\": 0, \"ticks\": \"\"}, \"colorscale\": [[0.0, \"#0d0887\"], [0.1111111111111111, \"#46039f\"], [0.2222222222222222, \"#7201a8\"], [0.3333333333333333, \"#9c179e\"], [0.4444444444444444, \"#bd3786\"], [0.5555555555555556, \"#d8576b\"], [0.6666666666666666, \"#ed7953\"], [0.7777777777777778, \"#fb9f3a\"], [0.8888888888888888, \"#fdca26\"], [1.0, \"#f0f921\"]], \"type\": \"histogram2dcontour\"}], \"mesh3d\": [{\"colorbar\": {\"outlinewidth\": 0, \"ticks\": \"\"}, \"type\": \"mesh3d\"}], \"parcoords\": [{\"line\": {\"colorbar\": {\"outlinewidth\": 0, \"ticks\": \"\"}}, \"type\": \"parcoords\"}], \"pie\": [{\"automargin\": true, \"type\": \"pie\"}], \"scatter\": [{\"marker\": {\"colorbar\": {\"outlinewidth\": 0, \"ticks\": \"\"}}, \"type\": \"scatter\"}], \"scatter3d\": [{\"line\": {\"colorbar\": {\"outlinewidth\": 0, \"ticks\": \"\"}}, \"marker\": {\"colorbar\": {\"outlinewidth\": 0, \"ticks\": \"\"}}, \"type\": \"scatter3d\"}], \"scattercarpet\": [{\"marker\": {\"colorbar\": {\"outlinewidth\": 0, \"ticks\": \"\"}}, \"type\": \"scattercarpet\"}], \"scattergeo\": [{\"marker\": {\"colorbar\": {\"outlinewidth\": 0, \"ticks\": \"\"}}, \"type\": \"scattergeo\"}], \"scattergl\": [{\"marker\": {\"colorbar\": {\"outlinewidth\": 0, \"ticks\": \"\"}}, \"type\": \"scattergl\"}], \"scattermapbox\": [{\"marker\": {\"colorbar\": {\"outlinewidth\": 0, \"ticks\": \"\"}}, \"type\": \"scattermapbox\"}], \"scatterpolar\": [{\"marker\": {\"colorbar\": {\"outlinewidth\": 0, \"ticks\": \"\"}}, \"type\": \"scatterpolar\"}], \"scatterpolargl\": [{\"marker\": {\"colorbar\": {\"outlinewidth\": 0, \"ticks\": \"\"}}, \"type\": \"scatterpolargl\"}], \"scatterternary\": [{\"marker\": {\"colorbar\": {\"outlinewidth\": 0, \"ticks\": \"\"}}, \"type\": \"scatterternary\"}], \"surface\": [{\"colorbar\": {\"outlinewidth\": 0, \"ticks\": \"\"}, \"colorscale\": [[0.0, \"#0d0887\"], [0.1111111111111111, \"#46039f\"], [0.2222222222222222, \"#7201a8\"], [0.3333333333333333, \"#9c179e\"], [0.4444444444444444, \"#bd3786\"], [0.5555555555555556, \"#d8576b\"], [0.6666666666666666, \"#ed7953\"], [0.7777777777777778, \"#fb9f3a\"], [0.8888888888888888, \"#fdca26\"], [1.0, \"#f0f921\"]], \"type\": \"surface\"}], \"table\": [{\"cells\": {\"fill\": {\"color\": \"#EBF0F8\"}, \"line\": {\"color\": \"white\"}}, \"header\": {\"fill\": {\"color\": \"#C8D4E3\"}, \"line\": {\"color\": \"white\"}}, \"type\": \"table\"}]}, \"layout\": {\"annotationdefaults\": {\"arrowcolor\": \"#2a3f5f\", \"arrowhead\": 0, \"arrowwidth\": 1}, \"coloraxis\": {\"colorbar\": {\"outlinewidth\": 0, \"ticks\": \"\"}}, \"colorscale\": {\"diverging\": [[0, \"#8e0152\"], [0.1, \"#c51b7d\"], [0.2, \"#de77ae\"], [0.3, \"#f1b6da\"], [0.4, \"#fde0ef\"], [0.5, \"#f7f7f7\"], [0.6, \"#e6f5d0\"], [0.7, \"#b8e186\"], [0.8, \"#7fbc41\"], [0.9, \"#4d9221\"], [1, \"#276419\"]], \"sequential\": [[0.0, \"#0d0887\"], [0.1111111111111111, \"#46039f\"], [0.2222222222222222, \"#7201a8\"], [0.3333333333333333, \"#9c179e\"], [0.4444444444444444, \"#bd3786\"], [0.5555555555555556, \"#d8576b\"], [0.6666666666666666, \"#ed7953\"], [0.7777777777777778, \"#fb9f3a\"], [0.8888888888888888, \"#fdca26\"], [1.0, \"#f0f921\"]], \"sequentialminus\": [[0.0, \"#0d0887\"], [0.1111111111111111, \"#46039f\"], [0.2222222222222222, \"#7201a8\"], [0.3333333333333333, \"#9c179e\"], [0.4444444444444444, \"#bd3786\"], [0.5555555555555556, \"#d8576b\"], [0.6666666666666666, \"#ed7953\"], [0.7777777777777778, \"#fb9f3a\"], [0.8888888888888888, \"#fdca26\"], [1.0, \"#f0f921\"]]}, \"colorway\": [\"#636efa\", \"#EF553B\", \"#00cc96\", \"#ab63fa\", \"#FFA15A\", \"#19d3f3\", \"#FF6692\", \"#B6E880\", \"#FF97FF\", \"#FECB52\"], \"font\": {\"color\": \"#2a3f5f\"}, \"geo\": {\"bgcolor\": \"white\", \"lakecolor\": \"white\", \"landcolor\": \"#E5ECF6\", \"showlakes\": true, \"showland\": true, \"subunitcolor\": \"white\"}, \"hoverlabel\": {\"align\": \"left\"}, \"hovermode\": \"closest\", \"mapbox\": {\"style\": \"light\"}, \"paper_bgcolor\": \"white\", \"plot_bgcolor\": \"#E5ECF6\", \"polar\": {\"angularaxis\": {\"gridcolor\": \"white\", \"linecolor\": \"white\", \"ticks\": \"\"}, \"bgcolor\": \"#E5ECF6\", \"radialaxis\": {\"gridcolor\": \"white\", \"linecolor\": \"white\", \"ticks\": \"\"}}, \"scene\": {\"xaxis\": {\"backgroundcolor\": \"#E5ECF6\", \"gridcolor\": \"white\", \"gridwidth\": 2, \"linecolor\": \"white\", \"showbackground\": true, \"ticks\": \"\", \"zerolinecolor\": \"white\"}, \"yaxis\": {\"backgroundcolor\": \"#E5ECF6\", \"gridcolor\": \"white\", \"gridwidth\": 2, \"linecolor\": \"white\", \"showbackground\": true, \"ticks\": \"\", \"zerolinecolor\": \"white\"}, \"zaxis\": {\"backgroundcolor\": \"#E5ECF6\", \"gridcolor\": \"white\", \"gridwidth\": 2, \"linecolor\": \"white\", \"showbackground\": true, \"ticks\": \"\", \"zerolinecolor\": \"white\"}}, \"shapedefaults\": {\"line\": {\"color\": \"#2a3f5f\"}}, \"ternary\": {\"aaxis\": {\"gridcolor\": \"white\", \"linecolor\": \"white\", \"ticks\": \"\"}, \"baxis\": {\"gridcolor\": \"white\", \"linecolor\": \"white\", \"ticks\": \"\"}, \"bgcolor\": \"#E5ECF6\", \"caxis\": {\"gridcolor\": \"white\", \"linecolor\": \"white\", \"ticks\": \"\"}}, \"title\": {\"x\": 0.05}, \"xaxis\": {\"automargin\": true, \"gridcolor\": \"white\", \"linecolor\": \"white\", \"ticks\": \"\", \"title\": {\"standoff\": 15}, \"zerolinecolor\": \"white\", \"zerolinewidth\": 2}, \"yaxis\": {\"automargin\": true, \"gridcolor\": \"white\", \"linecolor\": \"white\", \"ticks\": \"\", \"title\": {\"standoff\": 15}, \"zerolinecolor\": \"white\", \"zerolinewidth\": 2}}}, \"title\": {\"text\": \"Covid-19 Cumulative Cases accross the Globe -- 19-Jun-2020\"}},\n",
       "                        {\"responsive\": true}\n",
       "                    ).then(function(){\n",
       "                            \n",
       "var gd = document.getElementById('da084d9c-22e7-4aa7-90ff-af8e7442c18a');\n",
       "var x = new MutationObserver(function (mutations, observer) {{\n",
       "        var display = window.getComputedStyle(gd).display;\n",
       "        if (!display || display === 'none') {{\n",
       "            console.log([gd, 'removed!']);\n",
       "            Plotly.purge(gd);\n",
       "            observer.disconnect();\n",
       "        }}\n",
       "}});\n",
       "\n",
       "// Listen for the removal of the full notebook cells\n",
       "var notebookContainer = gd.closest('#notebook-container');\n",
       "if (notebookContainer) {{\n",
       "    x.observe(notebookContainer, {childList: true});\n",
       "}}\n",
       "\n",
       "// Listen for the clearing of the current output cell\n",
       "var outputEl = gd.closest('.output');\n",
       "if (outputEl) {{\n",
       "    x.observe(outputEl, {childList: true});\n",
       "}}\n",
       "\n",
       "                        })\n",
       "                };\n",
       "                });\n",
       "            </script>\n",
       "        </div>"
      ]
     },
     "metadata": {},
     "output_type": "display_data"
    }
   ],
   "source": [
    "iplot(covid_world)"
   ]
  },
  {
   "cell_type": "code",
   "execution_count": 37,
   "metadata": {},
   "outputs": [],
   "source": [
    "import cufflinks as cf"
   ]
  },
  {
   "cell_type": "code",
   "execution_count": 39,
   "metadata": {
    "scrolled": true
   },
   "outputs": [
    {
     "data": {
      "application/vnd.plotly.v1+json": {
       "config": {
        "linkText": "Export to plot.ly",
        "plotlyServerURL": "https://plot.ly",
        "showLink": true
       },
       "data": [
        {
         "marker": {
          "color": [
           "red",
           "red",
           "red",
           "red",
           "red",
           "red",
           "red",
           "red",
           "red",
           "red"
          ],
          "line": {
           "width": 1.3
          },
          "size": [
           33,
           30,
           21,
           12,
           26,
           16,
           112,
           86,
           82,
           35
          ],
          "symbol": "circle"
         },
         "mode": "markers",
         "text": "",
         "type": "scatter",
         "x": [
          "US",
          "Brazil",
          "India",
          "Russia",
          "Peru",
          "Chile",
          "United Kingdom",
          "Mexico",
          "Spain",
          "Iran"
         ],
         "y": [
          2938624,
          1623284,
          719664,
          686852,
          305703,
          298557,
          287291,
          261750,
          251789,
          243051
         ]
        }
       ],
       "layout": {
        "legend": {
         "bgcolor": "#F5F6F9",
         "font": {
          "color": "#4D5663"
         }
        },
        "paper_bgcolor": "#F5F6F9",
        "plot_bgcolor": "#F5F6F9",
        "template": {
         "data": {
          "bar": [
           {
            "error_x": {
             "color": "#2a3f5f"
            },
            "error_y": {
             "color": "#2a3f5f"
            },
            "marker": {
             "line": {
              "color": "#E5ECF6",
              "width": 0.5
             }
            },
            "type": "bar"
           }
          ],
          "barpolar": [
           {
            "marker": {
             "line": {
              "color": "#E5ECF6",
              "width": 0.5
             }
            },
            "type": "barpolar"
           }
          ],
          "carpet": [
           {
            "aaxis": {
             "endlinecolor": "#2a3f5f",
             "gridcolor": "white",
             "linecolor": "white",
             "minorgridcolor": "white",
             "startlinecolor": "#2a3f5f"
            },
            "baxis": {
             "endlinecolor": "#2a3f5f",
             "gridcolor": "white",
             "linecolor": "white",
             "minorgridcolor": "white",
             "startlinecolor": "#2a3f5f"
            },
            "type": "carpet"
           }
          ],
          "choropleth": [
           {
            "colorbar": {
             "outlinewidth": 0,
             "ticks": ""
            },
            "type": "choropleth"
           }
          ],
          "contour": [
           {
            "colorbar": {
             "outlinewidth": 0,
             "ticks": ""
            },
            "colorscale": [
             [
              0,
              "#0d0887"
             ],
             [
              0.1111111111111111,
              "#46039f"
             ],
             [
              0.2222222222222222,
              "#7201a8"
             ],
             [
              0.3333333333333333,
              "#9c179e"
             ],
             [
              0.4444444444444444,
              "#bd3786"
             ],
             [
              0.5555555555555556,
              "#d8576b"
             ],
             [
              0.6666666666666666,
              "#ed7953"
             ],
             [
              0.7777777777777778,
              "#fb9f3a"
             ],
             [
              0.8888888888888888,
              "#fdca26"
             ],
             [
              1,
              "#f0f921"
             ]
            ],
            "type": "contour"
           }
          ],
          "contourcarpet": [
           {
            "colorbar": {
             "outlinewidth": 0,
             "ticks": ""
            },
            "type": "contourcarpet"
           }
          ],
          "heatmap": [
           {
            "colorbar": {
             "outlinewidth": 0,
             "ticks": ""
            },
            "colorscale": [
             [
              0,
              "#0d0887"
             ],
             [
              0.1111111111111111,
              "#46039f"
             ],
             [
              0.2222222222222222,
              "#7201a8"
             ],
             [
              0.3333333333333333,
              "#9c179e"
             ],
             [
              0.4444444444444444,
              "#bd3786"
             ],
             [
              0.5555555555555556,
              "#d8576b"
             ],
             [
              0.6666666666666666,
              "#ed7953"
             ],
             [
              0.7777777777777778,
              "#fb9f3a"
             ],
             [
              0.8888888888888888,
              "#fdca26"
             ],
             [
              1,
              "#f0f921"
             ]
            ],
            "type": "heatmap"
           }
          ],
          "heatmapgl": [
           {
            "colorbar": {
             "outlinewidth": 0,
             "ticks": ""
            },
            "colorscale": [
             [
              0,
              "#0d0887"
             ],
             [
              0.1111111111111111,
              "#46039f"
             ],
             [
              0.2222222222222222,
              "#7201a8"
             ],
             [
              0.3333333333333333,
              "#9c179e"
             ],
             [
              0.4444444444444444,
              "#bd3786"
             ],
             [
              0.5555555555555556,
              "#d8576b"
             ],
             [
              0.6666666666666666,
              "#ed7953"
             ],
             [
              0.7777777777777778,
              "#fb9f3a"
             ],
             [
              0.8888888888888888,
              "#fdca26"
             ],
             [
              1,
              "#f0f921"
             ]
            ],
            "type": "heatmapgl"
           }
          ],
          "histogram": [
           {
            "marker": {
             "colorbar": {
              "outlinewidth": 0,
              "ticks": ""
             }
            },
            "type": "histogram"
           }
          ],
          "histogram2d": [
           {
            "colorbar": {
             "outlinewidth": 0,
             "ticks": ""
            },
            "colorscale": [
             [
              0,
              "#0d0887"
             ],
             [
              0.1111111111111111,
              "#46039f"
             ],
             [
              0.2222222222222222,
              "#7201a8"
             ],
             [
              0.3333333333333333,
              "#9c179e"
             ],
             [
              0.4444444444444444,
              "#bd3786"
             ],
             [
              0.5555555555555556,
              "#d8576b"
             ],
             [
              0.6666666666666666,
              "#ed7953"
             ],
             [
              0.7777777777777778,
              "#fb9f3a"
             ],
             [
              0.8888888888888888,
              "#fdca26"
             ],
             [
              1,
              "#f0f921"
             ]
            ],
            "type": "histogram2d"
           }
          ],
          "histogram2dcontour": [
           {
            "colorbar": {
             "outlinewidth": 0,
             "ticks": ""
            },
            "colorscale": [
             [
              0,
              "#0d0887"
             ],
             [
              0.1111111111111111,
              "#46039f"
             ],
             [
              0.2222222222222222,
              "#7201a8"
             ],
             [
              0.3333333333333333,
              "#9c179e"
             ],
             [
              0.4444444444444444,
              "#bd3786"
             ],
             [
              0.5555555555555556,
              "#d8576b"
             ],
             [
              0.6666666666666666,
              "#ed7953"
             ],
             [
              0.7777777777777778,
              "#fb9f3a"
             ],
             [
              0.8888888888888888,
              "#fdca26"
             ],
             [
              1,
              "#f0f921"
             ]
            ],
            "type": "histogram2dcontour"
           }
          ],
          "mesh3d": [
           {
            "colorbar": {
             "outlinewidth": 0,
             "ticks": ""
            },
            "type": "mesh3d"
           }
          ],
          "parcoords": [
           {
            "line": {
             "colorbar": {
              "outlinewidth": 0,
              "ticks": ""
             }
            },
            "type": "parcoords"
           }
          ],
          "pie": [
           {
            "automargin": true,
            "type": "pie"
           }
          ],
          "scatter": [
           {
            "marker": {
             "colorbar": {
              "outlinewidth": 0,
              "ticks": ""
             }
            },
            "type": "scatter"
           }
          ],
          "scatter3d": [
           {
            "line": {
             "colorbar": {
              "outlinewidth": 0,
              "ticks": ""
             }
            },
            "marker": {
             "colorbar": {
              "outlinewidth": 0,
              "ticks": ""
             }
            },
            "type": "scatter3d"
           }
          ],
          "scattercarpet": [
           {
            "marker": {
             "colorbar": {
              "outlinewidth": 0,
              "ticks": ""
             }
            },
            "type": "scattercarpet"
           }
          ],
          "scattergeo": [
           {
            "marker": {
             "colorbar": {
              "outlinewidth": 0,
              "ticks": ""
             }
            },
            "type": "scattergeo"
           }
          ],
          "scattergl": [
           {
            "marker": {
             "colorbar": {
              "outlinewidth": 0,
              "ticks": ""
             }
            },
            "type": "scattergl"
           }
          ],
          "scattermapbox": [
           {
            "marker": {
             "colorbar": {
              "outlinewidth": 0,
              "ticks": ""
             }
            },
            "type": "scattermapbox"
           }
          ],
          "scatterpolar": [
           {
            "marker": {
             "colorbar": {
              "outlinewidth": 0,
              "ticks": ""
             }
            },
            "type": "scatterpolar"
           }
          ],
          "scatterpolargl": [
           {
            "marker": {
             "colorbar": {
              "outlinewidth": 0,
              "ticks": ""
             }
            },
            "type": "scatterpolargl"
           }
          ],
          "scatterternary": [
           {
            "marker": {
             "colorbar": {
              "outlinewidth": 0,
              "ticks": ""
             }
            },
            "type": "scatterternary"
           }
          ],
          "surface": [
           {
            "colorbar": {
             "outlinewidth": 0,
             "ticks": ""
            },
            "colorscale": [
             [
              0,
              "#0d0887"
             ],
             [
              0.1111111111111111,
              "#46039f"
             ],
             [
              0.2222222222222222,
              "#7201a8"
             ],
             [
              0.3333333333333333,
              "#9c179e"
             ],
             [
              0.4444444444444444,
              "#bd3786"
             ],
             [
              0.5555555555555556,
              "#d8576b"
             ],
             [
              0.6666666666666666,
              "#ed7953"
             ],
             [
              0.7777777777777778,
              "#fb9f3a"
             ],
             [
              0.8888888888888888,
              "#fdca26"
             ],
             [
              1,
              "#f0f921"
             ]
            ],
            "type": "surface"
           }
          ],
          "table": [
           {
            "cells": {
             "fill": {
              "color": "#EBF0F8"
             },
             "line": {
              "color": "white"
             }
            },
            "header": {
             "fill": {
              "color": "#C8D4E3"
             },
             "line": {
              "color": "white"
             }
            },
            "type": "table"
           }
          ]
         },
         "layout": {
          "annotationdefaults": {
           "arrowcolor": "#2a3f5f",
           "arrowhead": 0,
           "arrowwidth": 1
          },
          "coloraxis": {
           "colorbar": {
            "outlinewidth": 0,
            "ticks": ""
           }
          },
          "colorscale": {
           "diverging": [
            [
             0,
             "#8e0152"
            ],
            [
             0.1,
             "#c51b7d"
            ],
            [
             0.2,
             "#de77ae"
            ],
            [
             0.3,
             "#f1b6da"
            ],
            [
             0.4,
             "#fde0ef"
            ],
            [
             0.5,
             "#f7f7f7"
            ],
            [
             0.6,
             "#e6f5d0"
            ],
            [
             0.7,
             "#b8e186"
            ],
            [
             0.8,
             "#7fbc41"
            ],
            [
             0.9,
             "#4d9221"
            ],
            [
             1,
             "#276419"
            ]
           ],
           "sequential": [
            [
             0,
             "#0d0887"
            ],
            [
             0.1111111111111111,
             "#46039f"
            ],
            [
             0.2222222222222222,
             "#7201a8"
            ],
            [
             0.3333333333333333,
             "#9c179e"
            ],
            [
             0.4444444444444444,
             "#bd3786"
            ],
            [
             0.5555555555555556,
             "#d8576b"
            ],
            [
             0.6666666666666666,
             "#ed7953"
            ],
            [
             0.7777777777777778,
             "#fb9f3a"
            ],
            [
             0.8888888888888888,
             "#fdca26"
            ],
            [
             1,
             "#f0f921"
            ]
           ],
           "sequentialminus": [
            [
             0,
             "#0d0887"
            ],
            [
             0.1111111111111111,
             "#46039f"
            ],
            [
             0.2222222222222222,
             "#7201a8"
            ],
            [
             0.3333333333333333,
             "#9c179e"
            ],
            [
             0.4444444444444444,
             "#bd3786"
            ],
            [
             0.5555555555555556,
             "#d8576b"
            ],
            [
             0.6666666666666666,
             "#ed7953"
            ],
            [
             0.7777777777777778,
             "#fb9f3a"
            ],
            [
             0.8888888888888888,
             "#fdca26"
            ],
            [
             1,
             "#f0f921"
            ]
           ]
          },
          "colorway": [
           "#636efa",
           "#EF553B",
           "#00cc96",
           "#ab63fa",
           "#FFA15A",
           "#19d3f3",
           "#FF6692",
           "#B6E880",
           "#FF97FF",
           "#FECB52"
          ],
          "font": {
           "color": "#2a3f5f"
          },
          "geo": {
           "bgcolor": "white",
           "lakecolor": "white",
           "landcolor": "#E5ECF6",
           "showlakes": true,
           "showland": true,
           "subunitcolor": "white"
          },
          "hoverlabel": {
           "align": "left"
          },
          "hovermode": "closest",
          "mapbox": {
           "style": "light"
          },
          "paper_bgcolor": "white",
          "plot_bgcolor": "#E5ECF6",
          "polar": {
           "angularaxis": {
            "gridcolor": "white",
            "linecolor": "white",
            "ticks": ""
           },
           "bgcolor": "#E5ECF6",
           "radialaxis": {
            "gridcolor": "white",
            "linecolor": "white",
            "ticks": ""
           }
          },
          "scene": {
           "xaxis": {
            "backgroundcolor": "#E5ECF6",
            "gridcolor": "white",
            "gridwidth": 2,
            "linecolor": "white",
            "showbackground": true,
            "ticks": "",
            "zerolinecolor": "white"
           },
           "yaxis": {
            "backgroundcolor": "#E5ECF6",
            "gridcolor": "white",
            "gridwidth": 2,
            "linecolor": "white",
            "showbackground": true,
            "ticks": "",
            "zerolinecolor": "white"
           },
           "zaxis": {
            "backgroundcolor": "#E5ECF6",
            "gridcolor": "white",
            "gridwidth": 2,
            "linecolor": "white",
            "showbackground": true,
            "ticks": "",
            "zerolinecolor": "white"
           }
          },
          "shapedefaults": {
           "line": {
            "color": "#2a3f5f"
           }
          },
          "ternary": {
           "aaxis": {
            "gridcolor": "white",
            "linecolor": "white",
            "ticks": ""
           },
           "baxis": {
            "gridcolor": "white",
            "linecolor": "white",
            "ticks": ""
           },
           "bgcolor": "#E5ECF6",
           "caxis": {
            "gridcolor": "white",
            "linecolor": "white",
            "ticks": ""
           }
          },
          "title": {
           "x": 0.05
          },
          "xaxis": {
           "automargin": true,
           "gridcolor": "white",
           "linecolor": "white",
           "ticks": "",
           "title": {
            "standoff": 15
           },
           "zerolinecolor": "white",
           "zerolinewidth": 2
          },
          "yaxis": {
           "automargin": true,
           "gridcolor": "white",
           "linecolor": "white",
           "ticks": "",
           "title": {
            "standoff": 15
           },
           "zerolinecolor": "white",
           "zerolinewidth": 2
          }
         }
        },
        "title": {
         "font": {
          "color": "#4D5663"
         },
         "text": "Confirmed Cases by country, Size of the bubble = relative mortality rate"
        },
        "xaxis": {
         "gridcolor": "#E1E5ED",
         "showgrid": true,
         "tickfont": {
          "color": "#4D5663"
         },
         "title": {
          "font": {
           "color": "#4D5663"
          },
          "text": ""
         },
         "zerolinecolor": "#E1E5ED"
        },
        "yaxis": {
         "gridcolor": "#E1E5ED",
         "showgrid": true,
         "tickfont": {
          "color": "#4D5663"
         },
         "title": {
          "font": {
           "color": "#4D5663"
          },
          "text": ""
         },
         "zerolinecolor": "#E1E5ED"
        }
       }
      },
      "text/html": [
       "<div>\n",
       "        \n",
       "        \n",
       "            <div id=\"3212a5d2-b1d1-484d-9c38-dcd4f6a40a85\" class=\"plotly-graph-div\" style=\"height:525px; width:100%;\"></div>\n",
       "            <script type=\"text/javascript\">\n",
       "                require([\"plotly\"], function(Plotly) {\n",
       "                    window.PLOTLYENV=window.PLOTLYENV || {};\n",
       "                    window.PLOTLYENV.BASE_URL='https://plot.ly';\n",
       "                    \n",
       "                if (document.getElementById(\"3212a5d2-b1d1-484d-9c38-dcd4f6a40a85\")) {\n",
       "                    Plotly.newPlot(\n",
       "                        '3212a5d2-b1d1-484d-9c38-dcd4f6a40a85',\n",
       "                        [{\"marker\": {\"color\": [\"red\", \"red\", \"red\", \"red\", \"red\", \"red\", \"red\", \"red\", \"red\", \"red\"], \"line\": {\"width\": 1.3}, \"size\": [33, 30, 21, 12, 26, 16, 112, 86, 82, 35], \"symbol\": \"circle\"}, \"mode\": \"markers\", \"text\": \"\", \"type\": \"scatter\", \"x\": [\"US\", \"Brazil\", \"India\", \"Russia\", \"Peru\", \"Chile\", \"United Kingdom\", \"Mexico\", \"Spain\", \"Iran\"], \"y\": [2938624.0, 1623284.0, 719664.0, 686852.0, 305703.0, 298557.0, 287291.0, 261750.0, 251789.0, 243051.0]}],\n",
       "                        {\"legend\": {\"bgcolor\": \"#F5F6F9\", \"font\": {\"color\": \"#4D5663\"}}, \"paper_bgcolor\": \"#F5F6F9\", \"plot_bgcolor\": \"#F5F6F9\", \"template\": {\"data\": {\"bar\": [{\"error_x\": {\"color\": \"#2a3f5f\"}, \"error_y\": {\"color\": \"#2a3f5f\"}, \"marker\": {\"line\": {\"color\": \"#E5ECF6\", \"width\": 0.5}}, \"type\": \"bar\"}], \"barpolar\": [{\"marker\": {\"line\": {\"color\": \"#E5ECF6\", \"width\": 0.5}}, \"type\": \"barpolar\"}], \"carpet\": [{\"aaxis\": {\"endlinecolor\": \"#2a3f5f\", \"gridcolor\": \"white\", \"linecolor\": \"white\", \"minorgridcolor\": \"white\", \"startlinecolor\": \"#2a3f5f\"}, \"baxis\": {\"endlinecolor\": \"#2a3f5f\", \"gridcolor\": \"white\", \"linecolor\": \"white\", \"minorgridcolor\": \"white\", \"startlinecolor\": \"#2a3f5f\"}, \"type\": \"carpet\"}], \"choropleth\": [{\"colorbar\": {\"outlinewidth\": 0, \"ticks\": \"\"}, \"type\": \"choropleth\"}], \"contour\": [{\"colorbar\": {\"outlinewidth\": 0, \"ticks\": \"\"}, \"colorscale\": [[0.0, \"#0d0887\"], [0.1111111111111111, \"#46039f\"], [0.2222222222222222, \"#7201a8\"], [0.3333333333333333, \"#9c179e\"], [0.4444444444444444, \"#bd3786\"], [0.5555555555555556, \"#d8576b\"], [0.6666666666666666, \"#ed7953\"], [0.7777777777777778, \"#fb9f3a\"], [0.8888888888888888, \"#fdca26\"], [1.0, \"#f0f921\"]], \"type\": \"contour\"}], \"contourcarpet\": [{\"colorbar\": {\"outlinewidth\": 0, \"ticks\": \"\"}, \"type\": \"contourcarpet\"}], \"heatmap\": [{\"colorbar\": {\"outlinewidth\": 0, \"ticks\": \"\"}, \"colorscale\": [[0.0, \"#0d0887\"], [0.1111111111111111, \"#46039f\"], [0.2222222222222222, \"#7201a8\"], [0.3333333333333333, \"#9c179e\"], [0.4444444444444444, \"#bd3786\"], [0.5555555555555556, \"#d8576b\"], [0.6666666666666666, \"#ed7953\"], [0.7777777777777778, \"#fb9f3a\"], [0.8888888888888888, \"#fdca26\"], [1.0, \"#f0f921\"]], \"type\": \"heatmap\"}], \"heatmapgl\": [{\"colorbar\": {\"outlinewidth\": 0, \"ticks\": \"\"}, \"colorscale\": [[0.0, \"#0d0887\"], [0.1111111111111111, \"#46039f\"], [0.2222222222222222, \"#7201a8\"], [0.3333333333333333, \"#9c179e\"], [0.4444444444444444, \"#bd3786\"], [0.5555555555555556, \"#d8576b\"], [0.6666666666666666, \"#ed7953\"], [0.7777777777777778, \"#fb9f3a\"], [0.8888888888888888, \"#fdca26\"], [1.0, \"#f0f921\"]], \"type\": \"heatmapgl\"}], \"histogram\": [{\"marker\": {\"colorbar\": {\"outlinewidth\": 0, \"ticks\": \"\"}}, \"type\": \"histogram\"}], \"histogram2d\": [{\"colorbar\": {\"outlinewidth\": 0, \"ticks\": \"\"}, \"colorscale\": [[0.0, \"#0d0887\"], [0.1111111111111111, \"#46039f\"], [0.2222222222222222, \"#7201a8\"], [0.3333333333333333, \"#9c179e\"], [0.4444444444444444, \"#bd3786\"], [0.5555555555555556, \"#d8576b\"], [0.6666666666666666, \"#ed7953\"], [0.7777777777777778, \"#fb9f3a\"], [0.8888888888888888, \"#fdca26\"], [1.0, \"#f0f921\"]], \"type\": \"histogram2d\"}], \"histogram2dcontour\": [{\"colorbar\": {\"outlinewidth\": 0, \"ticks\": \"\"}, \"colorscale\": [[0.0, \"#0d0887\"], [0.1111111111111111, \"#46039f\"], [0.2222222222222222, \"#7201a8\"], [0.3333333333333333, \"#9c179e\"], [0.4444444444444444, \"#bd3786\"], [0.5555555555555556, \"#d8576b\"], [0.6666666666666666, \"#ed7953\"], [0.7777777777777778, \"#fb9f3a\"], [0.8888888888888888, \"#fdca26\"], [1.0, \"#f0f921\"]], \"type\": \"histogram2dcontour\"}], \"mesh3d\": [{\"colorbar\": {\"outlinewidth\": 0, \"ticks\": \"\"}, \"type\": \"mesh3d\"}], \"parcoords\": [{\"line\": {\"colorbar\": {\"outlinewidth\": 0, \"ticks\": \"\"}}, \"type\": \"parcoords\"}], \"pie\": [{\"automargin\": true, \"type\": \"pie\"}], \"scatter\": [{\"marker\": {\"colorbar\": {\"outlinewidth\": 0, \"ticks\": \"\"}}, \"type\": \"scatter\"}], \"scatter3d\": [{\"line\": {\"colorbar\": {\"outlinewidth\": 0, \"ticks\": \"\"}}, \"marker\": {\"colorbar\": {\"outlinewidth\": 0, \"ticks\": \"\"}}, \"type\": \"scatter3d\"}], \"scattercarpet\": [{\"marker\": {\"colorbar\": {\"outlinewidth\": 0, \"ticks\": \"\"}}, \"type\": \"scattercarpet\"}], \"scattergeo\": [{\"marker\": {\"colorbar\": {\"outlinewidth\": 0, \"ticks\": \"\"}}, \"type\": \"scattergeo\"}], \"scattergl\": [{\"marker\": {\"colorbar\": {\"outlinewidth\": 0, \"ticks\": \"\"}}, \"type\": \"scattergl\"}], \"scattermapbox\": [{\"marker\": {\"colorbar\": {\"outlinewidth\": 0, \"ticks\": \"\"}}, \"type\": \"scattermapbox\"}], \"scatterpolar\": [{\"marker\": {\"colorbar\": {\"outlinewidth\": 0, \"ticks\": \"\"}}, \"type\": \"scatterpolar\"}], \"scatterpolargl\": [{\"marker\": {\"colorbar\": {\"outlinewidth\": 0, \"ticks\": \"\"}}, \"type\": \"scatterpolargl\"}], \"scatterternary\": [{\"marker\": {\"colorbar\": {\"outlinewidth\": 0, \"ticks\": \"\"}}, \"type\": \"scatterternary\"}], \"surface\": [{\"colorbar\": {\"outlinewidth\": 0, \"ticks\": \"\"}, \"colorscale\": [[0.0, \"#0d0887\"], [0.1111111111111111, \"#46039f\"], [0.2222222222222222, \"#7201a8\"], [0.3333333333333333, \"#9c179e\"], [0.4444444444444444, \"#bd3786\"], [0.5555555555555556, \"#d8576b\"], [0.6666666666666666, \"#ed7953\"], [0.7777777777777778, \"#fb9f3a\"], [0.8888888888888888, \"#fdca26\"], [1.0, \"#f0f921\"]], \"type\": \"surface\"}], \"table\": [{\"cells\": {\"fill\": {\"color\": \"#EBF0F8\"}, \"line\": {\"color\": \"white\"}}, \"header\": {\"fill\": {\"color\": \"#C8D4E3\"}, \"line\": {\"color\": \"white\"}}, \"type\": \"table\"}]}, \"layout\": {\"annotationdefaults\": {\"arrowcolor\": \"#2a3f5f\", \"arrowhead\": 0, \"arrowwidth\": 1}, \"coloraxis\": {\"colorbar\": {\"outlinewidth\": 0, \"ticks\": \"\"}}, \"colorscale\": {\"diverging\": [[0, \"#8e0152\"], [0.1, \"#c51b7d\"], [0.2, \"#de77ae\"], [0.3, \"#f1b6da\"], [0.4, \"#fde0ef\"], [0.5, \"#f7f7f7\"], [0.6, \"#e6f5d0\"], [0.7, \"#b8e186\"], [0.8, \"#7fbc41\"], [0.9, \"#4d9221\"], [1, \"#276419\"]], \"sequential\": [[0.0, \"#0d0887\"], [0.1111111111111111, \"#46039f\"], [0.2222222222222222, \"#7201a8\"], [0.3333333333333333, \"#9c179e\"], [0.4444444444444444, \"#bd3786\"], [0.5555555555555556, \"#d8576b\"], [0.6666666666666666, \"#ed7953\"], [0.7777777777777778, \"#fb9f3a\"], [0.8888888888888888, \"#fdca26\"], [1.0, \"#f0f921\"]], \"sequentialminus\": [[0.0, \"#0d0887\"], [0.1111111111111111, \"#46039f\"], [0.2222222222222222, \"#7201a8\"], [0.3333333333333333, \"#9c179e\"], [0.4444444444444444, \"#bd3786\"], [0.5555555555555556, \"#d8576b\"], [0.6666666666666666, \"#ed7953\"], [0.7777777777777778, \"#fb9f3a\"], [0.8888888888888888, \"#fdca26\"], [1.0, \"#f0f921\"]]}, \"colorway\": [\"#636efa\", \"#EF553B\", \"#00cc96\", \"#ab63fa\", \"#FFA15A\", \"#19d3f3\", \"#FF6692\", \"#B6E880\", \"#FF97FF\", \"#FECB52\"], \"font\": {\"color\": \"#2a3f5f\"}, \"geo\": {\"bgcolor\": \"white\", \"lakecolor\": \"white\", \"landcolor\": \"#E5ECF6\", \"showlakes\": true, \"showland\": true, \"subunitcolor\": \"white\"}, \"hoverlabel\": {\"align\": \"left\"}, \"hovermode\": \"closest\", \"mapbox\": {\"style\": \"light\"}, \"paper_bgcolor\": \"white\", \"plot_bgcolor\": \"#E5ECF6\", \"polar\": {\"angularaxis\": {\"gridcolor\": \"white\", \"linecolor\": \"white\", \"ticks\": \"\"}, \"bgcolor\": \"#E5ECF6\", \"radialaxis\": {\"gridcolor\": \"white\", \"linecolor\": \"white\", \"ticks\": \"\"}}, \"scene\": {\"xaxis\": {\"backgroundcolor\": \"#E5ECF6\", \"gridcolor\": \"white\", \"gridwidth\": 2, \"linecolor\": \"white\", \"showbackground\": true, \"ticks\": \"\", \"zerolinecolor\": \"white\"}, \"yaxis\": {\"backgroundcolor\": \"#E5ECF6\", \"gridcolor\": \"white\", \"gridwidth\": 2, \"linecolor\": \"white\", \"showbackground\": true, \"ticks\": \"\", \"zerolinecolor\": \"white\"}, \"zaxis\": {\"backgroundcolor\": \"#E5ECF6\", \"gridcolor\": \"white\", \"gridwidth\": 2, \"linecolor\": \"white\", \"showbackground\": true, \"ticks\": \"\", \"zerolinecolor\": \"white\"}}, \"shapedefaults\": {\"line\": {\"color\": \"#2a3f5f\"}}, \"ternary\": {\"aaxis\": {\"gridcolor\": \"white\", \"linecolor\": \"white\", \"ticks\": \"\"}, \"baxis\": {\"gridcolor\": \"white\", \"linecolor\": \"white\", \"ticks\": \"\"}, \"bgcolor\": \"#E5ECF6\", \"caxis\": {\"gridcolor\": \"white\", \"linecolor\": \"white\", \"ticks\": \"\"}}, \"title\": {\"x\": 0.05}, \"xaxis\": {\"automargin\": true, \"gridcolor\": \"white\", \"linecolor\": \"white\", \"ticks\": \"\", \"title\": {\"standoff\": 15}, \"zerolinecolor\": \"white\", \"zerolinewidth\": 2}, \"yaxis\": {\"automargin\": true, \"gridcolor\": \"white\", \"linecolor\": \"white\", \"ticks\": \"\", \"title\": {\"standoff\": 15}, \"zerolinecolor\": \"white\", \"zerolinewidth\": 2}}}, \"title\": {\"font\": {\"color\": \"#4D5663\"}, \"text\": \"Confirmed Cases by country, Size of the bubble = relative mortality rate\"}, \"xaxis\": {\"gridcolor\": \"#E1E5ED\", \"showgrid\": true, \"tickfont\": {\"color\": \"#4D5663\"}, \"title\": {\"font\": {\"color\": \"#4D5663\"}, \"text\": \"\"}, \"zerolinecolor\": \"#E1E5ED\"}, \"yaxis\": {\"gridcolor\": \"#E1E5ED\", \"showgrid\": true, \"tickfont\": {\"color\": \"#4D5663\"}, \"title\": {\"font\": {\"color\": \"#4D5663\"}, \"text\": \"\"}, \"zerolinecolor\": \"#E1E5ED\"}},\n",
       "                        {\"showLink\": true, \"linkText\": \"Export to plot.ly\", \"plotlyServerURL\": \"https://plot.ly\", \"responsive\": true}\n",
       "                    ).then(function(){\n",
       "                            \n",
       "var gd = document.getElementById('3212a5d2-b1d1-484d-9c38-dcd4f6a40a85');\n",
       "var x = new MutationObserver(function (mutations, observer) {{\n",
       "        var display = window.getComputedStyle(gd).display;\n",
       "        if (!display || display === 'none') {{\n",
       "            console.log([gd, 'removed!']);\n",
       "            Plotly.purge(gd);\n",
       "            observer.disconnect();\n",
       "        }}\n",
       "}});\n",
       "\n",
       "// Listen for the removal of the full notebook cells\n",
       "var notebookContainer = gd.closest('#notebook-container');\n",
       "if (notebookContainer) {{\n",
       "    x.observe(notebookContainer, {childList: true});\n",
       "}}\n",
       "\n",
       "// Listen for the clearing of the current output cell\n",
       "var outputEl = gd.closest('.output');\n",
       "if (outputEl) {{\n",
       "    x.observe(outputEl, {childList: true});\n",
       "}}\n",
       "\n",
       "                        })\n",
       "                };\n",
       "                });\n",
       "            </script>\n",
       "        </div>"
      ]
     },
     "metadata": {},
     "output_type": "display_data"
    }
   ],
   "source": [
    "sorted_country_confirmed.head(10).iplot(kind='bubble',x='country',y='confirmed',size='mortality_rate',color='red',title = 'Confirmed Cases by country, Size of the bubble = relative mortality rate')"
   ]
  },
  {
   "cell_type": "code",
   "execution_count": 40,
   "metadata": {},
   "outputs": [
    {
     "data": {
      "application/vnd.plotly.v1+json": {
       "config": {
        "linkText": "Export to plot.ly",
        "plotlyServerURL": "https://plot.ly",
        "showLink": true
       },
       "data": [
        {
         "line": {
          "color": "rgba(255, 153, 51, 1.0)",
          "dash": "solid",
          "shape": "linear",
          "width": 1.3
         },
         "marker": {
          "size": 20,
          "symbol": "circle"
         },
         "mode": "markers",
         "name": "confirmed",
         "text": "",
         "type": "scatter",
         "x": [
          "US",
          "Brazil",
          "India",
          "Russia",
          "Peru",
          "Chile",
          "United Kingdom",
          "Mexico",
          "Spain",
          "Iran",
          "Italy",
          "Pakistan",
          "Saudi Arabia",
          "Turkey",
          "South Africa",
          "France",
          "Germany",
          "Bangladesh",
          "Colombia",
          "Canada"
         ],
         "y": [
          2938624,
          1623284,
          719664,
          686852,
          305703,
          298557,
          287291,
          261750,
          251789,
          243051,
          241819,
          234509,
          213716,
          206844,
          205721,
          205597,
          198079,
          165618,
          117412,
          107815
         ]
        }
       ],
       "layout": {
        "legend": {
         "bgcolor": "#F5F6F9",
         "font": {
          "color": "#4D5663"
         }
        },
        "paper_bgcolor": "#F5F6F9",
        "plot_bgcolor": "#F5F6F9",
        "template": {
         "data": {
          "bar": [
           {
            "error_x": {
             "color": "#2a3f5f"
            },
            "error_y": {
             "color": "#2a3f5f"
            },
            "marker": {
             "line": {
              "color": "#E5ECF6",
              "width": 0.5
             }
            },
            "type": "bar"
           }
          ],
          "barpolar": [
           {
            "marker": {
             "line": {
              "color": "#E5ECF6",
              "width": 0.5
             }
            },
            "type": "barpolar"
           }
          ],
          "carpet": [
           {
            "aaxis": {
             "endlinecolor": "#2a3f5f",
             "gridcolor": "white",
             "linecolor": "white",
             "minorgridcolor": "white",
             "startlinecolor": "#2a3f5f"
            },
            "baxis": {
             "endlinecolor": "#2a3f5f",
             "gridcolor": "white",
             "linecolor": "white",
             "minorgridcolor": "white",
             "startlinecolor": "#2a3f5f"
            },
            "type": "carpet"
           }
          ],
          "choropleth": [
           {
            "colorbar": {
             "outlinewidth": 0,
             "ticks": ""
            },
            "type": "choropleth"
           }
          ],
          "contour": [
           {
            "colorbar": {
             "outlinewidth": 0,
             "ticks": ""
            },
            "colorscale": [
             [
              0,
              "#0d0887"
             ],
             [
              0.1111111111111111,
              "#46039f"
             ],
             [
              0.2222222222222222,
              "#7201a8"
             ],
             [
              0.3333333333333333,
              "#9c179e"
             ],
             [
              0.4444444444444444,
              "#bd3786"
             ],
             [
              0.5555555555555556,
              "#d8576b"
             ],
             [
              0.6666666666666666,
              "#ed7953"
             ],
             [
              0.7777777777777778,
              "#fb9f3a"
             ],
             [
              0.8888888888888888,
              "#fdca26"
             ],
             [
              1,
              "#f0f921"
             ]
            ],
            "type": "contour"
           }
          ],
          "contourcarpet": [
           {
            "colorbar": {
             "outlinewidth": 0,
             "ticks": ""
            },
            "type": "contourcarpet"
           }
          ],
          "heatmap": [
           {
            "colorbar": {
             "outlinewidth": 0,
             "ticks": ""
            },
            "colorscale": [
             [
              0,
              "#0d0887"
             ],
             [
              0.1111111111111111,
              "#46039f"
             ],
             [
              0.2222222222222222,
              "#7201a8"
             ],
             [
              0.3333333333333333,
              "#9c179e"
             ],
             [
              0.4444444444444444,
              "#bd3786"
             ],
             [
              0.5555555555555556,
              "#d8576b"
             ],
             [
              0.6666666666666666,
              "#ed7953"
             ],
             [
              0.7777777777777778,
              "#fb9f3a"
             ],
             [
              0.8888888888888888,
              "#fdca26"
             ],
             [
              1,
              "#f0f921"
             ]
            ],
            "type": "heatmap"
           }
          ],
          "heatmapgl": [
           {
            "colorbar": {
             "outlinewidth": 0,
             "ticks": ""
            },
            "colorscale": [
             [
              0,
              "#0d0887"
             ],
             [
              0.1111111111111111,
              "#46039f"
             ],
             [
              0.2222222222222222,
              "#7201a8"
             ],
             [
              0.3333333333333333,
              "#9c179e"
             ],
             [
              0.4444444444444444,
              "#bd3786"
             ],
             [
              0.5555555555555556,
              "#d8576b"
             ],
             [
              0.6666666666666666,
              "#ed7953"
             ],
             [
              0.7777777777777778,
              "#fb9f3a"
             ],
             [
              0.8888888888888888,
              "#fdca26"
             ],
             [
              1,
              "#f0f921"
             ]
            ],
            "type": "heatmapgl"
           }
          ],
          "histogram": [
           {
            "marker": {
             "colorbar": {
              "outlinewidth": 0,
              "ticks": ""
             }
            },
            "type": "histogram"
           }
          ],
          "histogram2d": [
           {
            "colorbar": {
             "outlinewidth": 0,
             "ticks": ""
            },
            "colorscale": [
             [
              0,
              "#0d0887"
             ],
             [
              0.1111111111111111,
              "#46039f"
             ],
             [
              0.2222222222222222,
              "#7201a8"
             ],
             [
              0.3333333333333333,
              "#9c179e"
             ],
             [
              0.4444444444444444,
              "#bd3786"
             ],
             [
              0.5555555555555556,
              "#d8576b"
             ],
             [
              0.6666666666666666,
              "#ed7953"
             ],
             [
              0.7777777777777778,
              "#fb9f3a"
             ],
             [
              0.8888888888888888,
              "#fdca26"
             ],
             [
              1,
              "#f0f921"
             ]
            ],
            "type": "histogram2d"
           }
          ],
          "histogram2dcontour": [
           {
            "colorbar": {
             "outlinewidth": 0,
             "ticks": ""
            },
            "colorscale": [
             [
              0,
              "#0d0887"
             ],
             [
              0.1111111111111111,
              "#46039f"
             ],
             [
              0.2222222222222222,
              "#7201a8"
             ],
             [
              0.3333333333333333,
              "#9c179e"
             ],
             [
              0.4444444444444444,
              "#bd3786"
             ],
             [
              0.5555555555555556,
              "#d8576b"
             ],
             [
              0.6666666666666666,
              "#ed7953"
             ],
             [
              0.7777777777777778,
              "#fb9f3a"
             ],
             [
              0.8888888888888888,
              "#fdca26"
             ],
             [
              1,
              "#f0f921"
             ]
            ],
            "type": "histogram2dcontour"
           }
          ],
          "mesh3d": [
           {
            "colorbar": {
             "outlinewidth": 0,
             "ticks": ""
            },
            "type": "mesh3d"
           }
          ],
          "parcoords": [
           {
            "line": {
             "colorbar": {
              "outlinewidth": 0,
              "ticks": ""
             }
            },
            "type": "parcoords"
           }
          ],
          "pie": [
           {
            "automargin": true,
            "type": "pie"
           }
          ],
          "scatter": [
           {
            "marker": {
             "colorbar": {
              "outlinewidth": 0,
              "ticks": ""
             }
            },
            "type": "scatter"
           }
          ],
          "scatter3d": [
           {
            "line": {
             "colorbar": {
              "outlinewidth": 0,
              "ticks": ""
             }
            },
            "marker": {
             "colorbar": {
              "outlinewidth": 0,
              "ticks": ""
             }
            },
            "type": "scatter3d"
           }
          ],
          "scattercarpet": [
           {
            "marker": {
             "colorbar": {
              "outlinewidth": 0,
              "ticks": ""
             }
            },
            "type": "scattercarpet"
           }
          ],
          "scattergeo": [
           {
            "marker": {
             "colorbar": {
              "outlinewidth": 0,
              "ticks": ""
             }
            },
            "type": "scattergeo"
           }
          ],
          "scattergl": [
           {
            "marker": {
             "colorbar": {
              "outlinewidth": 0,
              "ticks": ""
             }
            },
            "type": "scattergl"
           }
          ],
          "scattermapbox": [
           {
            "marker": {
             "colorbar": {
              "outlinewidth": 0,
              "ticks": ""
             }
            },
            "type": "scattermapbox"
           }
          ],
          "scatterpolar": [
           {
            "marker": {
             "colorbar": {
              "outlinewidth": 0,
              "ticks": ""
             }
            },
            "type": "scatterpolar"
           }
          ],
          "scatterpolargl": [
           {
            "marker": {
             "colorbar": {
              "outlinewidth": 0,
              "ticks": ""
             }
            },
            "type": "scatterpolargl"
           }
          ],
          "scatterternary": [
           {
            "marker": {
             "colorbar": {
              "outlinewidth": 0,
              "ticks": ""
             }
            },
            "type": "scatterternary"
           }
          ],
          "surface": [
           {
            "colorbar": {
             "outlinewidth": 0,
             "ticks": ""
            },
            "colorscale": [
             [
              0,
              "#0d0887"
             ],
             [
              0.1111111111111111,
              "#46039f"
             ],
             [
              0.2222222222222222,
              "#7201a8"
             ],
             [
              0.3333333333333333,
              "#9c179e"
             ],
             [
              0.4444444444444444,
              "#bd3786"
             ],
             [
              0.5555555555555556,
              "#d8576b"
             ],
             [
              0.6666666666666666,
              "#ed7953"
             ],
             [
              0.7777777777777778,
              "#fb9f3a"
             ],
             [
              0.8888888888888888,
              "#fdca26"
             ],
             [
              1,
              "#f0f921"
             ]
            ],
            "type": "surface"
           }
          ],
          "table": [
           {
            "cells": {
             "fill": {
              "color": "#EBF0F8"
             },
             "line": {
              "color": "white"
             }
            },
            "header": {
             "fill": {
              "color": "#C8D4E3"
             },
             "line": {
              "color": "white"
             }
            },
            "type": "table"
           }
          ]
         },
         "layout": {
          "annotationdefaults": {
           "arrowcolor": "#2a3f5f",
           "arrowhead": 0,
           "arrowwidth": 1
          },
          "coloraxis": {
           "colorbar": {
            "outlinewidth": 0,
            "ticks": ""
           }
          },
          "colorscale": {
           "diverging": [
            [
             0,
             "#8e0152"
            ],
            [
             0.1,
             "#c51b7d"
            ],
            [
             0.2,
             "#de77ae"
            ],
            [
             0.3,
             "#f1b6da"
            ],
            [
             0.4,
             "#fde0ef"
            ],
            [
             0.5,
             "#f7f7f7"
            ],
            [
             0.6,
             "#e6f5d0"
            ],
            [
             0.7,
             "#b8e186"
            ],
            [
             0.8,
             "#7fbc41"
            ],
            [
             0.9,
             "#4d9221"
            ],
            [
             1,
             "#276419"
            ]
           ],
           "sequential": [
            [
             0,
             "#0d0887"
            ],
            [
             0.1111111111111111,
             "#46039f"
            ],
            [
             0.2222222222222222,
             "#7201a8"
            ],
            [
             0.3333333333333333,
             "#9c179e"
            ],
            [
             0.4444444444444444,
             "#bd3786"
            ],
            [
             0.5555555555555556,
             "#d8576b"
            ],
            [
             0.6666666666666666,
             "#ed7953"
            ],
            [
             0.7777777777777778,
             "#fb9f3a"
            ],
            [
             0.8888888888888888,
             "#fdca26"
            ],
            [
             1,
             "#f0f921"
            ]
           ],
           "sequentialminus": [
            [
             0,
             "#0d0887"
            ],
            [
             0.1111111111111111,
             "#46039f"
            ],
            [
             0.2222222222222222,
             "#7201a8"
            ],
            [
             0.3333333333333333,
             "#9c179e"
            ],
            [
             0.4444444444444444,
             "#bd3786"
            ],
            [
             0.5555555555555556,
             "#d8576b"
            ],
            [
             0.6666666666666666,
             "#ed7953"
            ],
            [
             0.7777777777777778,
             "#fb9f3a"
            ],
            [
             0.8888888888888888,
             "#fdca26"
            ],
            [
             1,
             "#f0f921"
            ]
           ]
          },
          "colorway": [
           "#636efa",
           "#EF553B",
           "#00cc96",
           "#ab63fa",
           "#FFA15A",
           "#19d3f3",
           "#FF6692",
           "#B6E880",
           "#FF97FF",
           "#FECB52"
          ],
          "font": {
           "color": "#2a3f5f"
          },
          "geo": {
           "bgcolor": "white",
           "lakecolor": "white",
           "landcolor": "#E5ECF6",
           "showlakes": true,
           "showland": true,
           "subunitcolor": "white"
          },
          "hoverlabel": {
           "align": "left"
          },
          "hovermode": "closest",
          "mapbox": {
           "style": "light"
          },
          "paper_bgcolor": "white",
          "plot_bgcolor": "#E5ECF6",
          "polar": {
           "angularaxis": {
            "gridcolor": "white",
            "linecolor": "white",
            "ticks": ""
           },
           "bgcolor": "#E5ECF6",
           "radialaxis": {
            "gridcolor": "white",
            "linecolor": "white",
            "ticks": ""
           }
          },
          "scene": {
           "xaxis": {
            "backgroundcolor": "#E5ECF6",
            "gridcolor": "white",
            "gridwidth": 2,
            "linecolor": "white",
            "showbackground": true,
            "ticks": "",
            "zerolinecolor": "white"
           },
           "yaxis": {
            "backgroundcolor": "#E5ECF6",
            "gridcolor": "white",
            "gridwidth": 2,
            "linecolor": "white",
            "showbackground": true,
            "ticks": "",
            "zerolinecolor": "white"
           },
           "zaxis": {
            "backgroundcolor": "#E5ECF6",
            "gridcolor": "white",
            "gridwidth": 2,
            "linecolor": "white",
            "showbackground": true,
            "ticks": "",
            "zerolinecolor": "white"
           }
          },
          "shapedefaults": {
           "line": {
            "color": "#2a3f5f"
           }
          },
          "ternary": {
           "aaxis": {
            "gridcolor": "white",
            "linecolor": "white",
            "ticks": ""
           },
           "baxis": {
            "gridcolor": "white",
            "linecolor": "white",
            "ticks": ""
           },
           "bgcolor": "#E5ECF6",
           "caxis": {
            "gridcolor": "white",
            "linecolor": "white",
            "ticks": ""
           }
          },
          "title": {
           "x": 0.05
          },
          "xaxis": {
           "automargin": true,
           "gridcolor": "white",
           "linecolor": "white",
           "ticks": "",
           "title": {
            "standoff": 15
           },
           "zerolinecolor": "white",
           "zerolinewidth": 2
          },
          "yaxis": {
           "automargin": true,
           "gridcolor": "white",
           "linecolor": "white",
           "ticks": "",
           "title": {
            "standoff": 15
           },
           "zerolinecolor": "white",
           "zerolinewidth": 2
          }
         }
        },
        "title": {
         "font": {
          "color": "#4D5663"
         },
         "text": "covid19-confirmed cases"
        },
        "xaxis": {
         "gridcolor": "#E1E5ED",
         "showgrid": true,
         "tickfont": {
          "color": "#4D5663"
         },
         "title": {
          "font": {
           "color": "#4D5663"
          },
          "text": ""
         },
         "zerolinecolor": "#E1E5ED"
        },
        "yaxis": {
         "gridcolor": "#E1E5ED",
         "showgrid": true,
         "tickfont": {
          "color": "#4D5663"
         },
         "title": {
          "font": {
           "color": "#4D5663"
          },
          "text": ""
         },
         "zerolinecolor": "#E1E5ED"
        }
       }
      },
      "text/html": [
       "<div>\n",
       "        \n",
       "        \n",
       "            <div id=\"336559d1-26de-441c-9e0f-d843f47b2acd\" class=\"plotly-graph-div\" style=\"height:525px; width:100%;\"></div>\n",
       "            <script type=\"text/javascript\">\n",
       "                require([\"plotly\"], function(Plotly) {\n",
       "                    window.PLOTLYENV=window.PLOTLYENV || {};\n",
       "                    window.PLOTLYENV.BASE_URL='https://plot.ly';\n",
       "                    \n",
       "                if (document.getElementById(\"336559d1-26de-441c-9e0f-d843f47b2acd\")) {\n",
       "                    Plotly.newPlot(\n",
       "                        '336559d1-26de-441c-9e0f-d843f47b2acd',\n",
       "                        [{\"line\": {\"color\": \"rgba(255, 153, 51, 1.0)\", \"dash\": \"solid\", \"shape\": \"linear\", \"width\": 1.3}, \"marker\": {\"size\": 20, \"symbol\": \"circle\"}, \"mode\": \"markers\", \"name\": \"confirmed\", \"text\": \"\", \"type\": \"scatter\", \"x\": [\"US\", \"Brazil\", \"India\", \"Russia\", \"Peru\", \"Chile\", \"United Kingdom\", \"Mexico\", \"Spain\", \"Iran\", \"Italy\", \"Pakistan\", \"Saudi Arabia\", \"Turkey\", \"South Africa\", \"France\", \"Germany\", \"Bangladesh\", \"Colombia\", \"Canada\"], \"y\": [2938624.0, 1623284.0, 719664.0, 686852.0, 305703.0, 298557.0, 287291.0, 261750.0, 251789.0, 243051.0, 241819.0, 234509.0, 213716.0, 206844.0, 205721.0, 205597.0, 198079.0, 165618.0, 117412.0, 107815.0]}],\n",
       "                        {\"legend\": {\"bgcolor\": \"#F5F6F9\", \"font\": {\"color\": \"#4D5663\"}}, \"paper_bgcolor\": \"#F5F6F9\", \"plot_bgcolor\": \"#F5F6F9\", \"template\": {\"data\": {\"bar\": [{\"error_x\": {\"color\": \"#2a3f5f\"}, \"error_y\": {\"color\": \"#2a3f5f\"}, \"marker\": {\"line\": {\"color\": \"#E5ECF6\", \"width\": 0.5}}, \"type\": \"bar\"}], \"barpolar\": [{\"marker\": {\"line\": {\"color\": \"#E5ECF6\", \"width\": 0.5}}, \"type\": \"barpolar\"}], \"carpet\": [{\"aaxis\": {\"endlinecolor\": \"#2a3f5f\", \"gridcolor\": \"white\", \"linecolor\": \"white\", \"minorgridcolor\": \"white\", \"startlinecolor\": \"#2a3f5f\"}, \"baxis\": {\"endlinecolor\": \"#2a3f5f\", \"gridcolor\": \"white\", \"linecolor\": \"white\", \"minorgridcolor\": \"white\", \"startlinecolor\": \"#2a3f5f\"}, \"type\": \"carpet\"}], \"choropleth\": [{\"colorbar\": {\"outlinewidth\": 0, \"ticks\": \"\"}, \"type\": \"choropleth\"}], \"contour\": [{\"colorbar\": {\"outlinewidth\": 0, \"ticks\": \"\"}, \"colorscale\": [[0.0, \"#0d0887\"], [0.1111111111111111, \"#46039f\"], [0.2222222222222222, \"#7201a8\"], [0.3333333333333333, \"#9c179e\"], [0.4444444444444444, \"#bd3786\"], [0.5555555555555556, \"#d8576b\"], [0.6666666666666666, \"#ed7953\"], [0.7777777777777778, \"#fb9f3a\"], [0.8888888888888888, \"#fdca26\"], [1.0, \"#f0f921\"]], \"type\": \"contour\"}], \"contourcarpet\": [{\"colorbar\": {\"outlinewidth\": 0, \"ticks\": \"\"}, \"type\": \"contourcarpet\"}], \"heatmap\": [{\"colorbar\": {\"outlinewidth\": 0, \"ticks\": \"\"}, \"colorscale\": [[0.0, \"#0d0887\"], [0.1111111111111111, \"#46039f\"], [0.2222222222222222, \"#7201a8\"], [0.3333333333333333, \"#9c179e\"], [0.4444444444444444, \"#bd3786\"], [0.5555555555555556, \"#d8576b\"], [0.6666666666666666, \"#ed7953\"], [0.7777777777777778, \"#fb9f3a\"], [0.8888888888888888, \"#fdca26\"], [1.0, \"#f0f921\"]], \"type\": \"heatmap\"}], \"heatmapgl\": [{\"colorbar\": {\"outlinewidth\": 0, \"ticks\": \"\"}, \"colorscale\": [[0.0, \"#0d0887\"], [0.1111111111111111, \"#46039f\"], [0.2222222222222222, \"#7201a8\"], [0.3333333333333333, \"#9c179e\"], [0.4444444444444444, \"#bd3786\"], [0.5555555555555556, \"#d8576b\"], [0.6666666666666666, \"#ed7953\"], [0.7777777777777778, \"#fb9f3a\"], [0.8888888888888888, \"#fdca26\"], [1.0, \"#f0f921\"]], \"type\": \"heatmapgl\"}], \"histogram\": [{\"marker\": {\"colorbar\": {\"outlinewidth\": 0, \"ticks\": \"\"}}, \"type\": \"histogram\"}], \"histogram2d\": [{\"colorbar\": {\"outlinewidth\": 0, \"ticks\": \"\"}, \"colorscale\": [[0.0, \"#0d0887\"], [0.1111111111111111, \"#46039f\"], [0.2222222222222222, \"#7201a8\"], [0.3333333333333333, \"#9c179e\"], [0.4444444444444444, \"#bd3786\"], [0.5555555555555556, \"#d8576b\"], [0.6666666666666666, \"#ed7953\"], [0.7777777777777778, \"#fb9f3a\"], [0.8888888888888888, \"#fdca26\"], [1.0, \"#f0f921\"]], \"type\": \"histogram2d\"}], \"histogram2dcontour\": [{\"colorbar\": {\"outlinewidth\": 0, \"ticks\": \"\"}, \"colorscale\": [[0.0, \"#0d0887\"], [0.1111111111111111, \"#46039f\"], [0.2222222222222222, \"#7201a8\"], [0.3333333333333333, \"#9c179e\"], [0.4444444444444444, \"#bd3786\"], [0.5555555555555556, \"#d8576b\"], [0.6666666666666666, \"#ed7953\"], [0.7777777777777778, \"#fb9f3a\"], [0.8888888888888888, \"#fdca26\"], [1.0, \"#f0f921\"]], \"type\": \"histogram2dcontour\"}], \"mesh3d\": [{\"colorbar\": {\"outlinewidth\": 0, \"ticks\": \"\"}, \"type\": \"mesh3d\"}], \"parcoords\": [{\"line\": {\"colorbar\": {\"outlinewidth\": 0, \"ticks\": \"\"}}, \"type\": \"parcoords\"}], \"pie\": [{\"automargin\": true, \"type\": \"pie\"}], \"scatter\": [{\"marker\": {\"colorbar\": {\"outlinewidth\": 0, \"ticks\": \"\"}}, \"type\": \"scatter\"}], \"scatter3d\": [{\"line\": {\"colorbar\": {\"outlinewidth\": 0, \"ticks\": \"\"}}, \"marker\": {\"colorbar\": {\"outlinewidth\": 0, \"ticks\": \"\"}}, \"type\": \"scatter3d\"}], \"scattercarpet\": [{\"marker\": {\"colorbar\": {\"outlinewidth\": 0, \"ticks\": \"\"}}, \"type\": \"scattercarpet\"}], \"scattergeo\": [{\"marker\": {\"colorbar\": {\"outlinewidth\": 0, \"ticks\": \"\"}}, \"type\": \"scattergeo\"}], \"scattergl\": [{\"marker\": {\"colorbar\": {\"outlinewidth\": 0, \"ticks\": \"\"}}, \"type\": \"scattergl\"}], \"scattermapbox\": [{\"marker\": {\"colorbar\": {\"outlinewidth\": 0, \"ticks\": \"\"}}, \"type\": \"scattermapbox\"}], \"scatterpolar\": [{\"marker\": {\"colorbar\": {\"outlinewidth\": 0, \"ticks\": \"\"}}, \"type\": \"scatterpolar\"}], \"scatterpolargl\": [{\"marker\": {\"colorbar\": {\"outlinewidth\": 0, \"ticks\": \"\"}}, \"type\": \"scatterpolargl\"}], \"scatterternary\": [{\"marker\": {\"colorbar\": {\"outlinewidth\": 0, \"ticks\": \"\"}}, \"type\": \"scatterternary\"}], \"surface\": [{\"colorbar\": {\"outlinewidth\": 0, \"ticks\": \"\"}, \"colorscale\": [[0.0, \"#0d0887\"], [0.1111111111111111, \"#46039f\"], [0.2222222222222222, \"#7201a8\"], [0.3333333333333333, \"#9c179e\"], [0.4444444444444444, \"#bd3786\"], [0.5555555555555556, \"#d8576b\"], [0.6666666666666666, \"#ed7953\"], [0.7777777777777778, \"#fb9f3a\"], [0.8888888888888888, \"#fdca26\"], [1.0, \"#f0f921\"]], \"type\": \"surface\"}], \"table\": [{\"cells\": {\"fill\": {\"color\": \"#EBF0F8\"}, \"line\": {\"color\": \"white\"}}, \"header\": {\"fill\": {\"color\": \"#C8D4E3\"}, \"line\": {\"color\": \"white\"}}, \"type\": \"table\"}]}, \"layout\": {\"annotationdefaults\": {\"arrowcolor\": \"#2a3f5f\", \"arrowhead\": 0, \"arrowwidth\": 1}, \"coloraxis\": {\"colorbar\": {\"outlinewidth\": 0, \"ticks\": \"\"}}, \"colorscale\": {\"diverging\": [[0, \"#8e0152\"], [0.1, \"#c51b7d\"], [0.2, \"#de77ae\"], [0.3, \"#f1b6da\"], [0.4, \"#fde0ef\"], [0.5, \"#f7f7f7\"], [0.6, \"#e6f5d0\"], [0.7, \"#b8e186\"], [0.8, \"#7fbc41\"], [0.9, \"#4d9221\"], [1, \"#276419\"]], \"sequential\": [[0.0, \"#0d0887\"], [0.1111111111111111, \"#46039f\"], [0.2222222222222222, \"#7201a8\"], [0.3333333333333333, \"#9c179e\"], [0.4444444444444444, \"#bd3786\"], [0.5555555555555556, \"#d8576b\"], [0.6666666666666666, \"#ed7953\"], [0.7777777777777778, \"#fb9f3a\"], [0.8888888888888888, \"#fdca26\"], [1.0, \"#f0f921\"]], \"sequentialminus\": [[0.0, \"#0d0887\"], [0.1111111111111111, \"#46039f\"], [0.2222222222222222, \"#7201a8\"], [0.3333333333333333, \"#9c179e\"], [0.4444444444444444, \"#bd3786\"], [0.5555555555555556, \"#d8576b\"], [0.6666666666666666, \"#ed7953\"], [0.7777777777777778, \"#fb9f3a\"], [0.8888888888888888, \"#fdca26\"], [1.0, \"#f0f921\"]]}, \"colorway\": [\"#636efa\", \"#EF553B\", \"#00cc96\", \"#ab63fa\", \"#FFA15A\", \"#19d3f3\", \"#FF6692\", \"#B6E880\", \"#FF97FF\", \"#FECB52\"], \"font\": {\"color\": \"#2a3f5f\"}, \"geo\": {\"bgcolor\": \"white\", \"lakecolor\": \"white\", \"landcolor\": \"#E5ECF6\", \"showlakes\": true, \"showland\": true, \"subunitcolor\": \"white\"}, \"hoverlabel\": {\"align\": \"left\"}, \"hovermode\": \"closest\", \"mapbox\": {\"style\": \"light\"}, \"paper_bgcolor\": \"white\", \"plot_bgcolor\": \"#E5ECF6\", \"polar\": {\"angularaxis\": {\"gridcolor\": \"white\", \"linecolor\": \"white\", \"ticks\": \"\"}, \"bgcolor\": \"#E5ECF6\", \"radialaxis\": {\"gridcolor\": \"white\", \"linecolor\": \"white\", \"ticks\": \"\"}}, \"scene\": {\"xaxis\": {\"backgroundcolor\": \"#E5ECF6\", \"gridcolor\": \"white\", \"gridwidth\": 2, \"linecolor\": \"white\", \"showbackground\": true, \"ticks\": \"\", \"zerolinecolor\": \"white\"}, \"yaxis\": {\"backgroundcolor\": \"#E5ECF6\", \"gridcolor\": \"white\", \"gridwidth\": 2, \"linecolor\": \"white\", \"showbackground\": true, \"ticks\": \"\", \"zerolinecolor\": \"white\"}, \"zaxis\": {\"backgroundcolor\": \"#E5ECF6\", \"gridcolor\": \"white\", \"gridwidth\": 2, \"linecolor\": \"white\", \"showbackground\": true, \"ticks\": \"\", \"zerolinecolor\": \"white\"}}, \"shapedefaults\": {\"line\": {\"color\": \"#2a3f5f\"}}, \"ternary\": {\"aaxis\": {\"gridcolor\": \"white\", \"linecolor\": \"white\", \"ticks\": \"\"}, \"baxis\": {\"gridcolor\": \"white\", \"linecolor\": \"white\", \"ticks\": \"\"}, \"bgcolor\": \"#E5ECF6\", \"caxis\": {\"gridcolor\": \"white\", \"linecolor\": \"white\", \"ticks\": \"\"}}, \"title\": {\"x\": 0.05}, \"xaxis\": {\"automargin\": true, \"gridcolor\": \"white\", \"linecolor\": \"white\", \"ticks\": \"\", \"title\": {\"standoff\": 15}, \"zerolinecolor\": \"white\", \"zerolinewidth\": 2}, \"yaxis\": {\"automargin\": true, \"gridcolor\": \"white\", \"linecolor\": \"white\", \"ticks\": \"\", \"title\": {\"standoff\": 15}, \"zerolinecolor\": \"white\", \"zerolinewidth\": 2}}}, \"title\": {\"font\": {\"color\": \"#4D5663\"}, \"text\": \"covid19-confirmed cases\"}, \"xaxis\": {\"gridcolor\": \"#E1E5ED\", \"showgrid\": true, \"tickfont\": {\"color\": \"#4D5663\"}, \"title\": {\"font\": {\"color\": \"#4D5663\"}, \"text\": \"\"}, \"zerolinecolor\": \"#E1E5ED\"}, \"yaxis\": {\"gridcolor\": \"#E1E5ED\", \"showgrid\": true, \"tickfont\": {\"color\": \"#4D5663\"}, \"title\": {\"font\": {\"color\": \"#4D5663\"}, \"text\": \"\"}, \"zerolinecolor\": \"#E1E5ED\"}},\n",
       "                        {\"showLink\": true, \"linkText\": \"Export to plot.ly\", \"plotlyServerURL\": \"https://plot.ly\", \"responsive\": true}\n",
       "                    ).then(function(){\n",
       "                            \n",
       "var gd = document.getElementById('336559d1-26de-441c-9e0f-d843f47b2acd');\n",
       "var x = new MutationObserver(function (mutations, observer) {{\n",
       "        var display = window.getComputedStyle(gd).display;\n",
       "        if (!display || display === 'none') {{\n",
       "            console.log([gd, 'removed!']);\n",
       "            Plotly.purge(gd);\n",
       "            observer.disconnect();\n",
       "        }}\n",
       "}});\n",
       "\n",
       "// Listen for the removal of the full notebook cells\n",
       "var notebookContainer = gd.closest('#notebook-container');\n",
       "if (notebookContainer) {{\n",
       "    x.observe(notebookContainer, {childList: true});\n",
       "}}\n",
       "\n",
       "// Listen for the clearing of the current output cell\n",
       "var outputEl = gd.closest('.output');\n",
       "if (outputEl) {{\n",
       "    x.observe(outputEl, {childList: true});\n",
       "}}\n",
       "\n",
       "                        })\n",
       "                };\n",
       "                });\n",
       "            </script>\n",
       "        </div>"
      ]
     },
     "metadata": {},
     "output_type": "display_data"
    }
   ],
   "source": [
    " sorted_country_confirmed.head(20).iplot(kind='scatter',x='country',y='confirmed',mode='markers',size=20,title = 'covid19-confirmed cases')"
   ]
  },
  {
   "cell_type": "code",
   "execution_count": 41,
   "metadata": {},
   "outputs": [],
   "source": [
    "import plotly.io as pio\n"
   ]
  },
  {
   "cell_type": "code",
   "execution_count": 42,
   "metadata": {},
   "outputs": [],
   "source": [
    "%matplotlib inline\n"
   ]
  },
  {
   "cell_type": "code",
   "execution_count": 44,
   "metadata": {},
   "outputs": [],
   "source": [
    "import plotly.express as px\n",
    "\n"
   ]
  },
  {
   "cell_type": "code",
   "execution_count": 45,
   "metadata": {},
   "outputs": [],
   "source": [
    "fig = px.scatter(sorted_country_confirmed.head(20),x= \"country\", y= 'confirmed', size='confirmed',color='country',size_max=60, title='COVID19-number of confirmed cases per country')\n"
   ]
  },
  {
   "cell_type": "code",
   "execution_count": 46,
   "metadata": {},
   "outputs": [],
   "source": [
    "fig.write_html(\"/users/keerthinandan/covid19.html\")"
   ]
  },
  {
   "cell_type": "code",
   "execution_count": 47,
   "metadata": {},
   "outputs": [
    {
     "data": {
      "application/vnd.plotly.v1+json": {
       "config": {
        "plotlyServerURL": "https://plot.ly"
       },
       "data": [
        {
         "hovertemplate": "country=%{x}<br>confirmed=%{marker.size}<extra></extra>",
         "legendgroup": "US",
         "marker": {
          "color": "#636efa",
          "size": [
           2938624
          ],
          "sizemode": "area",
          "sizeref": 816.2844444444445,
          "symbol": "circle"
         },
         "mode": "markers",
         "name": "US",
         "orientation": "v",
         "showlegend": true,
         "type": "scatter",
         "x": [
          "US"
         ],
         "xaxis": "x",
         "y": [
          2938624
         ],
         "yaxis": "y"
        },
        {
         "hovertemplate": "country=%{x}<br>confirmed=%{marker.size}<extra></extra>",
         "legendgroup": "Brazil",
         "marker": {
          "color": "#EF553B",
          "size": [
           1623284
          ],
          "sizemode": "area",
          "sizeref": 816.2844444444445,
          "symbol": "circle"
         },
         "mode": "markers",
         "name": "Brazil",
         "orientation": "v",
         "showlegend": true,
         "type": "scatter",
         "x": [
          "Brazil"
         ],
         "xaxis": "x",
         "y": [
          1623284
         ],
         "yaxis": "y"
        },
        {
         "hovertemplate": "country=%{x}<br>confirmed=%{marker.size}<extra></extra>",
         "legendgroup": "India",
         "marker": {
          "color": "#00cc96",
          "size": [
           719664
          ],
          "sizemode": "area",
          "sizeref": 816.2844444444445,
          "symbol": "circle"
         },
         "mode": "markers",
         "name": "India",
         "orientation": "v",
         "showlegend": true,
         "type": "scatter",
         "x": [
          "India"
         ],
         "xaxis": "x",
         "y": [
          719664
         ],
         "yaxis": "y"
        },
        {
         "hovertemplate": "country=%{x}<br>confirmed=%{marker.size}<extra></extra>",
         "legendgroup": "Russia",
         "marker": {
          "color": "#ab63fa",
          "size": [
           686852
          ],
          "sizemode": "area",
          "sizeref": 816.2844444444445,
          "symbol": "circle"
         },
         "mode": "markers",
         "name": "Russia",
         "orientation": "v",
         "showlegend": true,
         "type": "scatter",
         "x": [
          "Russia"
         ],
         "xaxis": "x",
         "y": [
          686852
         ],
         "yaxis": "y"
        },
        {
         "hovertemplate": "country=%{x}<br>confirmed=%{marker.size}<extra></extra>",
         "legendgroup": "Peru",
         "marker": {
          "color": "#FFA15A",
          "size": [
           305703
          ],
          "sizemode": "area",
          "sizeref": 816.2844444444445,
          "symbol": "circle"
         },
         "mode": "markers",
         "name": "Peru",
         "orientation": "v",
         "showlegend": true,
         "type": "scatter",
         "x": [
          "Peru"
         ],
         "xaxis": "x",
         "y": [
          305703
         ],
         "yaxis": "y"
        },
        {
         "hovertemplate": "country=%{x}<br>confirmed=%{marker.size}<extra></extra>",
         "legendgroup": "Chile",
         "marker": {
          "color": "#19d3f3",
          "size": [
           298557
          ],
          "sizemode": "area",
          "sizeref": 816.2844444444445,
          "symbol": "circle"
         },
         "mode": "markers",
         "name": "Chile",
         "orientation": "v",
         "showlegend": true,
         "type": "scatter",
         "x": [
          "Chile"
         ],
         "xaxis": "x",
         "y": [
          298557
         ],
         "yaxis": "y"
        },
        {
         "hovertemplate": "country=%{x}<br>confirmed=%{marker.size}<extra></extra>",
         "legendgroup": "United Kingdom",
         "marker": {
          "color": "#FF6692",
          "size": [
           287291
          ],
          "sizemode": "area",
          "sizeref": 816.2844444444445,
          "symbol": "circle"
         },
         "mode": "markers",
         "name": "United Kingdom",
         "orientation": "v",
         "showlegend": true,
         "type": "scatter",
         "x": [
          "United Kingdom"
         ],
         "xaxis": "x",
         "y": [
          287291
         ],
         "yaxis": "y"
        },
        {
         "hovertemplate": "country=%{x}<br>confirmed=%{marker.size}<extra></extra>",
         "legendgroup": "Mexico",
         "marker": {
          "color": "#B6E880",
          "size": [
           261750
          ],
          "sizemode": "area",
          "sizeref": 816.2844444444445,
          "symbol": "circle"
         },
         "mode": "markers",
         "name": "Mexico",
         "orientation": "v",
         "showlegend": true,
         "type": "scatter",
         "x": [
          "Mexico"
         ],
         "xaxis": "x",
         "y": [
          261750
         ],
         "yaxis": "y"
        },
        {
         "hovertemplate": "country=%{x}<br>confirmed=%{marker.size}<extra></extra>",
         "legendgroup": "Spain",
         "marker": {
          "color": "#FF97FF",
          "size": [
           251789
          ],
          "sizemode": "area",
          "sizeref": 816.2844444444445,
          "symbol": "circle"
         },
         "mode": "markers",
         "name": "Spain",
         "orientation": "v",
         "showlegend": true,
         "type": "scatter",
         "x": [
          "Spain"
         ],
         "xaxis": "x",
         "y": [
          251789
         ],
         "yaxis": "y"
        },
        {
         "hovertemplate": "country=%{x}<br>confirmed=%{marker.size}<extra></extra>",
         "legendgroup": "Iran",
         "marker": {
          "color": "#FECB52",
          "size": [
           243051
          ],
          "sizemode": "area",
          "sizeref": 816.2844444444445,
          "symbol": "circle"
         },
         "mode": "markers",
         "name": "Iran",
         "orientation": "v",
         "showlegend": true,
         "type": "scatter",
         "x": [
          "Iran"
         ],
         "xaxis": "x",
         "y": [
          243051
         ],
         "yaxis": "y"
        },
        {
         "hovertemplate": "country=%{x}<br>confirmed=%{marker.size}<extra></extra>",
         "legendgroup": "Italy",
         "marker": {
          "color": "#636efa",
          "size": [
           241819
          ],
          "sizemode": "area",
          "sizeref": 816.2844444444445,
          "symbol": "circle"
         },
         "mode": "markers",
         "name": "Italy",
         "orientation": "v",
         "showlegend": true,
         "type": "scatter",
         "x": [
          "Italy"
         ],
         "xaxis": "x",
         "y": [
          241819
         ],
         "yaxis": "y"
        },
        {
         "hovertemplate": "country=%{x}<br>confirmed=%{marker.size}<extra></extra>",
         "legendgroup": "Pakistan",
         "marker": {
          "color": "#EF553B",
          "size": [
           234509
          ],
          "sizemode": "area",
          "sizeref": 816.2844444444445,
          "symbol": "circle"
         },
         "mode": "markers",
         "name": "Pakistan",
         "orientation": "v",
         "showlegend": true,
         "type": "scatter",
         "x": [
          "Pakistan"
         ],
         "xaxis": "x",
         "y": [
          234509
         ],
         "yaxis": "y"
        },
        {
         "hovertemplate": "country=%{x}<br>confirmed=%{marker.size}<extra></extra>",
         "legendgroup": "Saudi Arabia",
         "marker": {
          "color": "#00cc96",
          "size": [
           213716
          ],
          "sizemode": "area",
          "sizeref": 816.2844444444445,
          "symbol": "circle"
         },
         "mode": "markers",
         "name": "Saudi Arabia",
         "orientation": "v",
         "showlegend": true,
         "type": "scatter",
         "x": [
          "Saudi Arabia"
         ],
         "xaxis": "x",
         "y": [
          213716
         ],
         "yaxis": "y"
        },
        {
         "hovertemplate": "country=%{x}<br>confirmed=%{marker.size}<extra></extra>",
         "legendgroup": "Turkey",
         "marker": {
          "color": "#ab63fa",
          "size": [
           206844
          ],
          "sizemode": "area",
          "sizeref": 816.2844444444445,
          "symbol": "circle"
         },
         "mode": "markers",
         "name": "Turkey",
         "orientation": "v",
         "showlegend": true,
         "type": "scatter",
         "x": [
          "Turkey"
         ],
         "xaxis": "x",
         "y": [
          206844
         ],
         "yaxis": "y"
        },
        {
         "hovertemplate": "country=%{x}<br>confirmed=%{marker.size}<extra></extra>",
         "legendgroup": "South Africa",
         "marker": {
          "color": "#FFA15A",
          "size": [
           205721
          ],
          "sizemode": "area",
          "sizeref": 816.2844444444445,
          "symbol": "circle"
         },
         "mode": "markers",
         "name": "South Africa",
         "orientation": "v",
         "showlegend": true,
         "type": "scatter",
         "x": [
          "South Africa"
         ],
         "xaxis": "x",
         "y": [
          205721
         ],
         "yaxis": "y"
        },
        {
         "hovertemplate": "country=%{x}<br>confirmed=%{marker.size}<extra></extra>",
         "legendgroup": "France",
         "marker": {
          "color": "#19d3f3",
          "size": [
           205597
          ],
          "sizemode": "area",
          "sizeref": 816.2844444444445,
          "symbol": "circle"
         },
         "mode": "markers",
         "name": "France",
         "orientation": "v",
         "showlegend": true,
         "type": "scatter",
         "x": [
          "France"
         ],
         "xaxis": "x",
         "y": [
          205597
         ],
         "yaxis": "y"
        },
        {
         "hovertemplate": "country=%{x}<br>confirmed=%{marker.size}<extra></extra>",
         "legendgroup": "Germany",
         "marker": {
          "color": "#FF6692",
          "size": [
           198079
          ],
          "sizemode": "area",
          "sizeref": 816.2844444444445,
          "symbol": "circle"
         },
         "mode": "markers",
         "name": "Germany",
         "orientation": "v",
         "showlegend": true,
         "type": "scatter",
         "x": [
          "Germany"
         ],
         "xaxis": "x",
         "y": [
          198079
         ],
         "yaxis": "y"
        },
        {
         "hovertemplate": "country=%{x}<br>confirmed=%{marker.size}<extra></extra>",
         "legendgroup": "Bangladesh",
         "marker": {
          "color": "#B6E880",
          "size": [
           165618
          ],
          "sizemode": "area",
          "sizeref": 816.2844444444445,
          "symbol": "circle"
         },
         "mode": "markers",
         "name": "Bangladesh",
         "orientation": "v",
         "showlegend": true,
         "type": "scatter",
         "x": [
          "Bangladesh"
         ],
         "xaxis": "x",
         "y": [
          165618
         ],
         "yaxis": "y"
        },
        {
         "hovertemplate": "country=%{x}<br>confirmed=%{marker.size}<extra></extra>",
         "legendgroup": "Colombia",
         "marker": {
          "color": "#FF97FF",
          "size": [
           117412
          ],
          "sizemode": "area",
          "sizeref": 816.2844444444445,
          "symbol": "circle"
         },
         "mode": "markers",
         "name": "Colombia",
         "orientation": "v",
         "showlegend": true,
         "type": "scatter",
         "x": [
          "Colombia"
         ],
         "xaxis": "x",
         "y": [
          117412
         ],
         "yaxis": "y"
        },
        {
         "hovertemplate": "country=%{x}<br>confirmed=%{marker.size}<extra></extra>",
         "legendgroup": "Canada",
         "marker": {
          "color": "#FECB52",
          "size": [
           107815
          ],
          "sizemode": "area",
          "sizeref": 816.2844444444445,
          "symbol": "circle"
         },
         "mode": "markers",
         "name": "Canada",
         "orientation": "v",
         "showlegend": true,
         "type": "scatter",
         "x": [
          "Canada"
         ],
         "xaxis": "x",
         "y": [
          107815
         ],
         "yaxis": "y"
        }
       ],
       "layout": {
        "legend": {
         "itemsizing": "constant",
         "title": {
          "text": "country"
         },
         "tracegroupgap": 0
        },
        "template": {
         "data": {
          "bar": [
           {
            "error_x": {
             "color": "#2a3f5f"
            },
            "error_y": {
             "color": "#2a3f5f"
            },
            "marker": {
             "line": {
              "color": "#E5ECF6",
              "width": 0.5
             }
            },
            "type": "bar"
           }
          ],
          "barpolar": [
           {
            "marker": {
             "line": {
              "color": "#E5ECF6",
              "width": 0.5
             }
            },
            "type": "barpolar"
           }
          ],
          "carpet": [
           {
            "aaxis": {
             "endlinecolor": "#2a3f5f",
             "gridcolor": "white",
             "linecolor": "white",
             "minorgridcolor": "white",
             "startlinecolor": "#2a3f5f"
            },
            "baxis": {
             "endlinecolor": "#2a3f5f",
             "gridcolor": "white",
             "linecolor": "white",
             "minorgridcolor": "white",
             "startlinecolor": "#2a3f5f"
            },
            "type": "carpet"
           }
          ],
          "choropleth": [
           {
            "colorbar": {
             "outlinewidth": 0,
             "ticks": ""
            },
            "type": "choropleth"
           }
          ],
          "contour": [
           {
            "colorbar": {
             "outlinewidth": 0,
             "ticks": ""
            },
            "colorscale": [
             [
              0,
              "#0d0887"
             ],
             [
              0.1111111111111111,
              "#46039f"
             ],
             [
              0.2222222222222222,
              "#7201a8"
             ],
             [
              0.3333333333333333,
              "#9c179e"
             ],
             [
              0.4444444444444444,
              "#bd3786"
             ],
             [
              0.5555555555555556,
              "#d8576b"
             ],
             [
              0.6666666666666666,
              "#ed7953"
             ],
             [
              0.7777777777777778,
              "#fb9f3a"
             ],
             [
              0.8888888888888888,
              "#fdca26"
             ],
             [
              1,
              "#f0f921"
             ]
            ],
            "type": "contour"
           }
          ],
          "contourcarpet": [
           {
            "colorbar": {
             "outlinewidth": 0,
             "ticks": ""
            },
            "type": "contourcarpet"
           }
          ],
          "heatmap": [
           {
            "colorbar": {
             "outlinewidth": 0,
             "ticks": ""
            },
            "colorscale": [
             [
              0,
              "#0d0887"
             ],
             [
              0.1111111111111111,
              "#46039f"
             ],
             [
              0.2222222222222222,
              "#7201a8"
             ],
             [
              0.3333333333333333,
              "#9c179e"
             ],
             [
              0.4444444444444444,
              "#bd3786"
             ],
             [
              0.5555555555555556,
              "#d8576b"
             ],
             [
              0.6666666666666666,
              "#ed7953"
             ],
             [
              0.7777777777777778,
              "#fb9f3a"
             ],
             [
              0.8888888888888888,
              "#fdca26"
             ],
             [
              1,
              "#f0f921"
             ]
            ],
            "type": "heatmap"
           }
          ],
          "heatmapgl": [
           {
            "colorbar": {
             "outlinewidth": 0,
             "ticks": ""
            },
            "colorscale": [
             [
              0,
              "#0d0887"
             ],
             [
              0.1111111111111111,
              "#46039f"
             ],
             [
              0.2222222222222222,
              "#7201a8"
             ],
             [
              0.3333333333333333,
              "#9c179e"
             ],
             [
              0.4444444444444444,
              "#bd3786"
             ],
             [
              0.5555555555555556,
              "#d8576b"
             ],
             [
              0.6666666666666666,
              "#ed7953"
             ],
             [
              0.7777777777777778,
              "#fb9f3a"
             ],
             [
              0.8888888888888888,
              "#fdca26"
             ],
             [
              1,
              "#f0f921"
             ]
            ],
            "type": "heatmapgl"
           }
          ],
          "histogram": [
           {
            "marker": {
             "colorbar": {
              "outlinewidth": 0,
              "ticks": ""
             }
            },
            "type": "histogram"
           }
          ],
          "histogram2d": [
           {
            "colorbar": {
             "outlinewidth": 0,
             "ticks": ""
            },
            "colorscale": [
             [
              0,
              "#0d0887"
             ],
             [
              0.1111111111111111,
              "#46039f"
             ],
             [
              0.2222222222222222,
              "#7201a8"
             ],
             [
              0.3333333333333333,
              "#9c179e"
             ],
             [
              0.4444444444444444,
              "#bd3786"
             ],
             [
              0.5555555555555556,
              "#d8576b"
             ],
             [
              0.6666666666666666,
              "#ed7953"
             ],
             [
              0.7777777777777778,
              "#fb9f3a"
             ],
             [
              0.8888888888888888,
              "#fdca26"
             ],
             [
              1,
              "#f0f921"
             ]
            ],
            "type": "histogram2d"
           }
          ],
          "histogram2dcontour": [
           {
            "colorbar": {
             "outlinewidth": 0,
             "ticks": ""
            },
            "colorscale": [
             [
              0,
              "#0d0887"
             ],
             [
              0.1111111111111111,
              "#46039f"
             ],
             [
              0.2222222222222222,
              "#7201a8"
             ],
             [
              0.3333333333333333,
              "#9c179e"
             ],
             [
              0.4444444444444444,
              "#bd3786"
             ],
             [
              0.5555555555555556,
              "#d8576b"
             ],
             [
              0.6666666666666666,
              "#ed7953"
             ],
             [
              0.7777777777777778,
              "#fb9f3a"
             ],
             [
              0.8888888888888888,
              "#fdca26"
             ],
             [
              1,
              "#f0f921"
             ]
            ],
            "type": "histogram2dcontour"
           }
          ],
          "mesh3d": [
           {
            "colorbar": {
             "outlinewidth": 0,
             "ticks": ""
            },
            "type": "mesh3d"
           }
          ],
          "parcoords": [
           {
            "line": {
             "colorbar": {
              "outlinewidth": 0,
              "ticks": ""
             }
            },
            "type": "parcoords"
           }
          ],
          "pie": [
           {
            "automargin": true,
            "type": "pie"
           }
          ],
          "scatter": [
           {
            "marker": {
             "colorbar": {
              "outlinewidth": 0,
              "ticks": ""
             }
            },
            "type": "scatter"
           }
          ],
          "scatter3d": [
           {
            "line": {
             "colorbar": {
              "outlinewidth": 0,
              "ticks": ""
             }
            },
            "marker": {
             "colorbar": {
              "outlinewidth": 0,
              "ticks": ""
             }
            },
            "type": "scatter3d"
           }
          ],
          "scattercarpet": [
           {
            "marker": {
             "colorbar": {
              "outlinewidth": 0,
              "ticks": ""
             }
            },
            "type": "scattercarpet"
           }
          ],
          "scattergeo": [
           {
            "marker": {
             "colorbar": {
              "outlinewidth": 0,
              "ticks": ""
             }
            },
            "type": "scattergeo"
           }
          ],
          "scattergl": [
           {
            "marker": {
             "colorbar": {
              "outlinewidth": 0,
              "ticks": ""
             }
            },
            "type": "scattergl"
           }
          ],
          "scattermapbox": [
           {
            "marker": {
             "colorbar": {
              "outlinewidth": 0,
              "ticks": ""
             }
            },
            "type": "scattermapbox"
           }
          ],
          "scatterpolar": [
           {
            "marker": {
             "colorbar": {
              "outlinewidth": 0,
              "ticks": ""
             }
            },
            "type": "scatterpolar"
           }
          ],
          "scatterpolargl": [
           {
            "marker": {
             "colorbar": {
              "outlinewidth": 0,
              "ticks": ""
             }
            },
            "type": "scatterpolargl"
           }
          ],
          "scatterternary": [
           {
            "marker": {
             "colorbar": {
              "outlinewidth": 0,
              "ticks": ""
             }
            },
            "type": "scatterternary"
           }
          ],
          "surface": [
           {
            "colorbar": {
             "outlinewidth": 0,
             "ticks": ""
            },
            "colorscale": [
             [
              0,
              "#0d0887"
             ],
             [
              0.1111111111111111,
              "#46039f"
             ],
             [
              0.2222222222222222,
              "#7201a8"
             ],
             [
              0.3333333333333333,
              "#9c179e"
             ],
             [
              0.4444444444444444,
              "#bd3786"
             ],
             [
              0.5555555555555556,
              "#d8576b"
             ],
             [
              0.6666666666666666,
              "#ed7953"
             ],
             [
              0.7777777777777778,
              "#fb9f3a"
             ],
             [
              0.8888888888888888,
              "#fdca26"
             ],
             [
              1,
              "#f0f921"
             ]
            ],
            "type": "surface"
           }
          ],
          "table": [
           {
            "cells": {
             "fill": {
              "color": "#EBF0F8"
             },
             "line": {
              "color": "white"
             }
            },
            "header": {
             "fill": {
              "color": "#C8D4E3"
             },
             "line": {
              "color": "white"
             }
            },
            "type": "table"
           }
          ]
         },
         "layout": {
          "annotationdefaults": {
           "arrowcolor": "#2a3f5f",
           "arrowhead": 0,
           "arrowwidth": 1
          },
          "coloraxis": {
           "colorbar": {
            "outlinewidth": 0,
            "ticks": ""
           }
          },
          "colorscale": {
           "diverging": [
            [
             0,
             "#8e0152"
            ],
            [
             0.1,
             "#c51b7d"
            ],
            [
             0.2,
             "#de77ae"
            ],
            [
             0.3,
             "#f1b6da"
            ],
            [
             0.4,
             "#fde0ef"
            ],
            [
             0.5,
             "#f7f7f7"
            ],
            [
             0.6,
             "#e6f5d0"
            ],
            [
             0.7,
             "#b8e186"
            ],
            [
             0.8,
             "#7fbc41"
            ],
            [
             0.9,
             "#4d9221"
            ],
            [
             1,
             "#276419"
            ]
           ],
           "sequential": [
            [
             0,
             "#0d0887"
            ],
            [
             0.1111111111111111,
             "#46039f"
            ],
            [
             0.2222222222222222,
             "#7201a8"
            ],
            [
             0.3333333333333333,
             "#9c179e"
            ],
            [
             0.4444444444444444,
             "#bd3786"
            ],
            [
             0.5555555555555556,
             "#d8576b"
            ],
            [
             0.6666666666666666,
             "#ed7953"
            ],
            [
             0.7777777777777778,
             "#fb9f3a"
            ],
            [
             0.8888888888888888,
             "#fdca26"
            ],
            [
             1,
             "#f0f921"
            ]
           ],
           "sequentialminus": [
            [
             0,
             "#0d0887"
            ],
            [
             0.1111111111111111,
             "#46039f"
            ],
            [
             0.2222222222222222,
             "#7201a8"
            ],
            [
             0.3333333333333333,
             "#9c179e"
            ],
            [
             0.4444444444444444,
             "#bd3786"
            ],
            [
             0.5555555555555556,
             "#d8576b"
            ],
            [
             0.6666666666666666,
             "#ed7953"
            ],
            [
             0.7777777777777778,
             "#fb9f3a"
            ],
            [
             0.8888888888888888,
             "#fdca26"
            ],
            [
             1,
             "#f0f921"
            ]
           ]
          },
          "colorway": [
           "#636efa",
           "#EF553B",
           "#00cc96",
           "#ab63fa",
           "#FFA15A",
           "#19d3f3",
           "#FF6692",
           "#B6E880",
           "#FF97FF",
           "#FECB52"
          ],
          "font": {
           "color": "#2a3f5f"
          },
          "geo": {
           "bgcolor": "white",
           "lakecolor": "white",
           "landcolor": "#E5ECF6",
           "showlakes": true,
           "showland": true,
           "subunitcolor": "white"
          },
          "hoverlabel": {
           "align": "left"
          },
          "hovermode": "closest",
          "mapbox": {
           "style": "light"
          },
          "paper_bgcolor": "white",
          "plot_bgcolor": "#E5ECF6",
          "polar": {
           "angularaxis": {
            "gridcolor": "white",
            "linecolor": "white",
            "ticks": ""
           },
           "bgcolor": "#E5ECF6",
           "radialaxis": {
            "gridcolor": "white",
            "linecolor": "white",
            "ticks": ""
           }
          },
          "scene": {
           "xaxis": {
            "backgroundcolor": "#E5ECF6",
            "gridcolor": "white",
            "gridwidth": 2,
            "linecolor": "white",
            "showbackground": true,
            "ticks": "",
            "zerolinecolor": "white"
           },
           "yaxis": {
            "backgroundcolor": "#E5ECF6",
            "gridcolor": "white",
            "gridwidth": 2,
            "linecolor": "white",
            "showbackground": true,
            "ticks": "",
            "zerolinecolor": "white"
           },
           "zaxis": {
            "backgroundcolor": "#E5ECF6",
            "gridcolor": "white",
            "gridwidth": 2,
            "linecolor": "white",
            "showbackground": true,
            "ticks": "",
            "zerolinecolor": "white"
           }
          },
          "shapedefaults": {
           "line": {
            "color": "#2a3f5f"
           }
          },
          "ternary": {
           "aaxis": {
            "gridcolor": "white",
            "linecolor": "white",
            "ticks": ""
           },
           "baxis": {
            "gridcolor": "white",
            "linecolor": "white",
            "ticks": ""
           },
           "bgcolor": "#E5ECF6",
           "caxis": {
            "gridcolor": "white",
            "linecolor": "white",
            "ticks": ""
           }
          },
          "title": {
           "x": 0.05
          },
          "xaxis": {
           "automargin": true,
           "gridcolor": "white",
           "linecolor": "white",
           "ticks": "",
           "title": {
            "standoff": 15
           },
           "zerolinecolor": "white",
           "zerolinewidth": 2
          },
          "yaxis": {
           "automargin": true,
           "gridcolor": "white",
           "linecolor": "white",
           "ticks": "",
           "title": {
            "standoff": 15
           },
           "zerolinecolor": "white",
           "zerolinewidth": 2
          }
         }
        },
        "title": {
         "text": "COVID19-number of confirmed cases per country"
        },
        "xaxis": {
         "anchor": "y",
         "categoryarray": [
          "US",
          "Brazil",
          "India",
          "Russia",
          "Peru",
          "Chile",
          "United Kingdom",
          "Mexico",
          "Spain",
          "Iran",
          "Italy",
          "Pakistan",
          "Saudi Arabia",
          "Turkey",
          "South Africa",
          "France",
          "Germany",
          "Bangladesh",
          "Colombia",
          "Canada"
         ],
         "categoryorder": "array",
         "domain": [
          0,
          1
         ],
         "title": {
          "text": "country"
         }
        },
        "yaxis": {
         "anchor": "x",
         "domain": [
          0,
          1
         ],
         "title": {
          "text": "confirmed"
         }
        }
       }
      },
      "text/html": [
       "<div>\n",
       "        \n",
       "        \n",
       "            <div id=\"4234950a-3c16-4a08-8831-7f4356c55986\" class=\"plotly-graph-div\" style=\"height:525px; width:100%;\"></div>\n",
       "            <script type=\"text/javascript\">\n",
       "                require([\"plotly\"], function(Plotly) {\n",
       "                    window.PLOTLYENV=window.PLOTLYENV || {};\n",
       "                    \n",
       "                if (document.getElementById(\"4234950a-3c16-4a08-8831-7f4356c55986\")) {\n",
       "                    Plotly.newPlot(\n",
       "                        '4234950a-3c16-4a08-8831-7f4356c55986',\n",
       "                        [{\"hovertemplate\": \"country=%{x}<br>confirmed=%{marker.size}<extra></extra>\", \"legendgroup\": \"US\", \"marker\": {\"color\": \"#636efa\", \"size\": [2938624.0], \"sizemode\": \"area\", \"sizeref\": 816.2844444444445, \"symbol\": \"circle\"}, \"mode\": \"markers\", \"name\": \"US\", \"orientation\": \"v\", \"showlegend\": true, \"type\": \"scatter\", \"x\": [\"US\"], \"xaxis\": \"x\", \"y\": [2938624.0], \"yaxis\": \"y\"}, {\"hovertemplate\": \"country=%{x}<br>confirmed=%{marker.size}<extra></extra>\", \"legendgroup\": \"Brazil\", \"marker\": {\"color\": \"#EF553B\", \"size\": [1623284.0], \"sizemode\": \"area\", \"sizeref\": 816.2844444444445, \"symbol\": \"circle\"}, \"mode\": \"markers\", \"name\": \"Brazil\", \"orientation\": \"v\", \"showlegend\": true, \"type\": \"scatter\", \"x\": [\"Brazil\"], \"xaxis\": \"x\", \"y\": [1623284.0], \"yaxis\": \"y\"}, {\"hovertemplate\": \"country=%{x}<br>confirmed=%{marker.size}<extra></extra>\", \"legendgroup\": \"India\", \"marker\": {\"color\": \"#00cc96\", \"size\": [719664.0], \"sizemode\": \"area\", \"sizeref\": 816.2844444444445, \"symbol\": \"circle\"}, \"mode\": \"markers\", \"name\": \"India\", \"orientation\": \"v\", \"showlegend\": true, \"type\": \"scatter\", \"x\": [\"India\"], \"xaxis\": \"x\", \"y\": [719664.0], \"yaxis\": \"y\"}, {\"hovertemplate\": \"country=%{x}<br>confirmed=%{marker.size}<extra></extra>\", \"legendgroup\": \"Russia\", \"marker\": {\"color\": \"#ab63fa\", \"size\": [686852.0], \"sizemode\": \"area\", \"sizeref\": 816.2844444444445, \"symbol\": \"circle\"}, \"mode\": \"markers\", \"name\": \"Russia\", \"orientation\": \"v\", \"showlegend\": true, \"type\": \"scatter\", \"x\": [\"Russia\"], \"xaxis\": \"x\", \"y\": [686852.0], \"yaxis\": \"y\"}, {\"hovertemplate\": \"country=%{x}<br>confirmed=%{marker.size}<extra></extra>\", \"legendgroup\": \"Peru\", \"marker\": {\"color\": \"#FFA15A\", \"size\": [305703.0], \"sizemode\": \"area\", \"sizeref\": 816.2844444444445, \"symbol\": \"circle\"}, \"mode\": \"markers\", \"name\": \"Peru\", \"orientation\": \"v\", \"showlegend\": true, \"type\": \"scatter\", \"x\": [\"Peru\"], \"xaxis\": \"x\", \"y\": [305703.0], \"yaxis\": \"y\"}, {\"hovertemplate\": \"country=%{x}<br>confirmed=%{marker.size}<extra></extra>\", \"legendgroup\": \"Chile\", \"marker\": {\"color\": \"#19d3f3\", \"size\": [298557.0], \"sizemode\": \"area\", \"sizeref\": 816.2844444444445, \"symbol\": \"circle\"}, \"mode\": \"markers\", \"name\": \"Chile\", \"orientation\": \"v\", \"showlegend\": true, \"type\": \"scatter\", \"x\": [\"Chile\"], \"xaxis\": \"x\", \"y\": [298557.0], \"yaxis\": \"y\"}, {\"hovertemplate\": \"country=%{x}<br>confirmed=%{marker.size}<extra></extra>\", \"legendgroup\": \"United Kingdom\", \"marker\": {\"color\": \"#FF6692\", \"size\": [287291.0], \"sizemode\": \"area\", \"sizeref\": 816.2844444444445, \"symbol\": \"circle\"}, \"mode\": \"markers\", \"name\": \"United Kingdom\", \"orientation\": \"v\", \"showlegend\": true, \"type\": \"scatter\", \"x\": [\"United Kingdom\"], \"xaxis\": \"x\", \"y\": [287291.0], \"yaxis\": \"y\"}, {\"hovertemplate\": \"country=%{x}<br>confirmed=%{marker.size}<extra></extra>\", \"legendgroup\": \"Mexico\", \"marker\": {\"color\": \"#B6E880\", \"size\": [261750.0], \"sizemode\": \"area\", \"sizeref\": 816.2844444444445, \"symbol\": \"circle\"}, \"mode\": \"markers\", \"name\": \"Mexico\", \"orientation\": \"v\", \"showlegend\": true, \"type\": \"scatter\", \"x\": [\"Mexico\"], \"xaxis\": \"x\", \"y\": [261750.0], \"yaxis\": \"y\"}, {\"hovertemplate\": \"country=%{x}<br>confirmed=%{marker.size}<extra></extra>\", \"legendgroup\": \"Spain\", \"marker\": {\"color\": \"#FF97FF\", \"size\": [251789.0], \"sizemode\": \"area\", \"sizeref\": 816.2844444444445, \"symbol\": \"circle\"}, \"mode\": \"markers\", \"name\": \"Spain\", \"orientation\": \"v\", \"showlegend\": true, \"type\": \"scatter\", \"x\": [\"Spain\"], \"xaxis\": \"x\", \"y\": [251789.0], \"yaxis\": \"y\"}, {\"hovertemplate\": \"country=%{x}<br>confirmed=%{marker.size}<extra></extra>\", \"legendgroup\": \"Iran\", \"marker\": {\"color\": \"#FECB52\", \"size\": [243051.0], \"sizemode\": \"area\", \"sizeref\": 816.2844444444445, \"symbol\": \"circle\"}, \"mode\": \"markers\", \"name\": \"Iran\", \"orientation\": \"v\", \"showlegend\": true, \"type\": \"scatter\", \"x\": [\"Iran\"], \"xaxis\": \"x\", \"y\": [243051.0], \"yaxis\": \"y\"}, {\"hovertemplate\": \"country=%{x}<br>confirmed=%{marker.size}<extra></extra>\", \"legendgroup\": \"Italy\", \"marker\": {\"color\": \"#636efa\", \"size\": [241819.0], \"sizemode\": \"area\", \"sizeref\": 816.2844444444445, \"symbol\": \"circle\"}, \"mode\": \"markers\", \"name\": \"Italy\", \"orientation\": \"v\", \"showlegend\": true, \"type\": \"scatter\", \"x\": [\"Italy\"], \"xaxis\": \"x\", \"y\": [241819.0], \"yaxis\": \"y\"}, {\"hovertemplate\": \"country=%{x}<br>confirmed=%{marker.size}<extra></extra>\", \"legendgroup\": \"Pakistan\", \"marker\": {\"color\": \"#EF553B\", \"size\": [234509.0], \"sizemode\": \"area\", \"sizeref\": 816.2844444444445, \"symbol\": \"circle\"}, \"mode\": \"markers\", \"name\": \"Pakistan\", \"orientation\": \"v\", \"showlegend\": true, \"type\": \"scatter\", \"x\": [\"Pakistan\"], \"xaxis\": \"x\", \"y\": [234509.0], \"yaxis\": \"y\"}, {\"hovertemplate\": \"country=%{x}<br>confirmed=%{marker.size}<extra></extra>\", \"legendgroup\": \"Saudi Arabia\", \"marker\": {\"color\": \"#00cc96\", \"size\": [213716.0], \"sizemode\": \"area\", \"sizeref\": 816.2844444444445, \"symbol\": \"circle\"}, \"mode\": \"markers\", \"name\": \"Saudi Arabia\", \"orientation\": \"v\", \"showlegend\": true, \"type\": \"scatter\", \"x\": [\"Saudi Arabia\"], \"xaxis\": \"x\", \"y\": [213716.0], \"yaxis\": \"y\"}, {\"hovertemplate\": \"country=%{x}<br>confirmed=%{marker.size}<extra></extra>\", \"legendgroup\": \"Turkey\", \"marker\": {\"color\": \"#ab63fa\", \"size\": [206844.0], \"sizemode\": \"area\", \"sizeref\": 816.2844444444445, \"symbol\": \"circle\"}, \"mode\": \"markers\", \"name\": \"Turkey\", \"orientation\": \"v\", \"showlegend\": true, \"type\": \"scatter\", \"x\": [\"Turkey\"], \"xaxis\": \"x\", \"y\": [206844.0], \"yaxis\": \"y\"}, {\"hovertemplate\": \"country=%{x}<br>confirmed=%{marker.size}<extra></extra>\", \"legendgroup\": \"South Africa\", \"marker\": {\"color\": \"#FFA15A\", \"size\": [205721.0], \"sizemode\": \"area\", \"sizeref\": 816.2844444444445, \"symbol\": \"circle\"}, \"mode\": \"markers\", \"name\": \"South Africa\", \"orientation\": \"v\", \"showlegend\": true, \"type\": \"scatter\", \"x\": [\"South Africa\"], \"xaxis\": \"x\", \"y\": [205721.0], \"yaxis\": \"y\"}, {\"hovertemplate\": \"country=%{x}<br>confirmed=%{marker.size}<extra></extra>\", \"legendgroup\": \"France\", \"marker\": {\"color\": \"#19d3f3\", \"size\": [205597.0], \"sizemode\": \"area\", \"sizeref\": 816.2844444444445, \"symbol\": \"circle\"}, \"mode\": \"markers\", \"name\": \"France\", \"orientation\": \"v\", \"showlegend\": true, \"type\": \"scatter\", \"x\": [\"France\"], \"xaxis\": \"x\", \"y\": [205597.0], \"yaxis\": \"y\"}, {\"hovertemplate\": \"country=%{x}<br>confirmed=%{marker.size}<extra></extra>\", \"legendgroup\": \"Germany\", \"marker\": {\"color\": \"#FF6692\", \"size\": [198079.0], \"sizemode\": \"area\", \"sizeref\": 816.2844444444445, \"symbol\": \"circle\"}, \"mode\": \"markers\", \"name\": \"Germany\", \"orientation\": \"v\", \"showlegend\": true, \"type\": \"scatter\", \"x\": [\"Germany\"], \"xaxis\": \"x\", \"y\": [198079.0], \"yaxis\": \"y\"}, {\"hovertemplate\": \"country=%{x}<br>confirmed=%{marker.size}<extra></extra>\", \"legendgroup\": \"Bangladesh\", \"marker\": {\"color\": \"#B6E880\", \"size\": [165618.0], \"sizemode\": \"area\", \"sizeref\": 816.2844444444445, \"symbol\": \"circle\"}, \"mode\": \"markers\", \"name\": \"Bangladesh\", \"orientation\": \"v\", \"showlegend\": true, \"type\": \"scatter\", \"x\": [\"Bangladesh\"], \"xaxis\": \"x\", \"y\": [165618.0], \"yaxis\": \"y\"}, {\"hovertemplate\": \"country=%{x}<br>confirmed=%{marker.size}<extra></extra>\", \"legendgroup\": \"Colombia\", \"marker\": {\"color\": \"#FF97FF\", \"size\": [117412.0], \"sizemode\": \"area\", \"sizeref\": 816.2844444444445, \"symbol\": \"circle\"}, \"mode\": \"markers\", \"name\": \"Colombia\", \"orientation\": \"v\", \"showlegend\": true, \"type\": \"scatter\", \"x\": [\"Colombia\"], \"xaxis\": \"x\", \"y\": [117412.0], \"yaxis\": \"y\"}, {\"hovertemplate\": \"country=%{x}<br>confirmed=%{marker.size}<extra></extra>\", \"legendgroup\": \"Canada\", \"marker\": {\"color\": \"#FECB52\", \"size\": [107815.0], \"sizemode\": \"area\", \"sizeref\": 816.2844444444445, \"symbol\": \"circle\"}, \"mode\": \"markers\", \"name\": \"Canada\", \"orientation\": \"v\", \"showlegend\": true, \"type\": \"scatter\", \"x\": [\"Canada\"], \"xaxis\": \"x\", \"y\": [107815.0], \"yaxis\": \"y\"}],\n",
       "                        {\"legend\": {\"itemsizing\": \"constant\", \"title\": {\"text\": \"country\"}, \"tracegroupgap\": 0}, \"template\": {\"data\": {\"bar\": [{\"error_x\": {\"color\": \"#2a3f5f\"}, \"error_y\": {\"color\": \"#2a3f5f\"}, \"marker\": {\"line\": {\"color\": \"#E5ECF6\", \"width\": 0.5}}, \"type\": \"bar\"}], \"barpolar\": [{\"marker\": {\"line\": {\"color\": \"#E5ECF6\", \"width\": 0.5}}, \"type\": \"barpolar\"}], \"carpet\": [{\"aaxis\": {\"endlinecolor\": \"#2a3f5f\", \"gridcolor\": \"white\", \"linecolor\": \"white\", \"minorgridcolor\": \"white\", \"startlinecolor\": \"#2a3f5f\"}, \"baxis\": {\"endlinecolor\": \"#2a3f5f\", \"gridcolor\": \"white\", \"linecolor\": \"white\", \"minorgridcolor\": \"white\", \"startlinecolor\": \"#2a3f5f\"}, \"type\": \"carpet\"}], \"choropleth\": [{\"colorbar\": {\"outlinewidth\": 0, \"ticks\": \"\"}, \"type\": \"choropleth\"}], \"contour\": [{\"colorbar\": {\"outlinewidth\": 0, \"ticks\": \"\"}, \"colorscale\": [[0.0, \"#0d0887\"], [0.1111111111111111, \"#46039f\"], [0.2222222222222222, \"#7201a8\"], [0.3333333333333333, \"#9c179e\"], [0.4444444444444444, \"#bd3786\"], [0.5555555555555556, \"#d8576b\"], [0.6666666666666666, \"#ed7953\"], [0.7777777777777778, \"#fb9f3a\"], [0.8888888888888888, \"#fdca26\"], [1.0, \"#f0f921\"]], \"type\": \"contour\"}], \"contourcarpet\": [{\"colorbar\": {\"outlinewidth\": 0, \"ticks\": \"\"}, \"type\": \"contourcarpet\"}], \"heatmap\": [{\"colorbar\": {\"outlinewidth\": 0, \"ticks\": \"\"}, \"colorscale\": [[0.0, \"#0d0887\"], [0.1111111111111111, \"#46039f\"], [0.2222222222222222, \"#7201a8\"], [0.3333333333333333, \"#9c179e\"], [0.4444444444444444, \"#bd3786\"], [0.5555555555555556, \"#d8576b\"], [0.6666666666666666, \"#ed7953\"], [0.7777777777777778, \"#fb9f3a\"], [0.8888888888888888, \"#fdca26\"], [1.0, \"#f0f921\"]], \"type\": \"heatmap\"}], \"heatmapgl\": [{\"colorbar\": {\"outlinewidth\": 0, \"ticks\": \"\"}, \"colorscale\": [[0.0, \"#0d0887\"], [0.1111111111111111, \"#46039f\"], [0.2222222222222222, \"#7201a8\"], [0.3333333333333333, \"#9c179e\"], [0.4444444444444444, \"#bd3786\"], [0.5555555555555556, \"#d8576b\"], [0.6666666666666666, \"#ed7953\"], [0.7777777777777778, \"#fb9f3a\"], [0.8888888888888888, \"#fdca26\"], [1.0, \"#f0f921\"]], \"type\": \"heatmapgl\"}], \"histogram\": [{\"marker\": {\"colorbar\": {\"outlinewidth\": 0, \"ticks\": \"\"}}, \"type\": \"histogram\"}], \"histogram2d\": [{\"colorbar\": {\"outlinewidth\": 0, \"ticks\": \"\"}, \"colorscale\": [[0.0, \"#0d0887\"], [0.1111111111111111, \"#46039f\"], [0.2222222222222222, \"#7201a8\"], [0.3333333333333333, \"#9c179e\"], [0.4444444444444444, \"#bd3786\"], [0.5555555555555556, \"#d8576b\"], [0.6666666666666666, \"#ed7953\"], [0.7777777777777778, \"#fb9f3a\"], [0.8888888888888888, \"#fdca26\"], [1.0, \"#f0f921\"]], \"type\": \"histogram2d\"}], \"histogram2dcontour\": [{\"colorbar\": {\"outlinewidth\": 0, \"ticks\": \"\"}, \"colorscale\": [[0.0, \"#0d0887\"], [0.1111111111111111, \"#46039f\"], [0.2222222222222222, \"#7201a8\"], [0.3333333333333333, \"#9c179e\"], [0.4444444444444444, \"#bd3786\"], [0.5555555555555556, \"#d8576b\"], [0.6666666666666666, \"#ed7953\"], [0.7777777777777778, \"#fb9f3a\"], [0.8888888888888888, \"#fdca26\"], [1.0, \"#f0f921\"]], \"type\": \"histogram2dcontour\"}], \"mesh3d\": [{\"colorbar\": {\"outlinewidth\": 0, \"ticks\": \"\"}, \"type\": \"mesh3d\"}], \"parcoords\": [{\"line\": {\"colorbar\": {\"outlinewidth\": 0, \"ticks\": \"\"}}, \"type\": \"parcoords\"}], \"pie\": [{\"automargin\": true, \"type\": \"pie\"}], \"scatter\": [{\"marker\": {\"colorbar\": {\"outlinewidth\": 0, \"ticks\": \"\"}}, \"type\": \"scatter\"}], \"scatter3d\": [{\"line\": {\"colorbar\": {\"outlinewidth\": 0, \"ticks\": \"\"}}, \"marker\": {\"colorbar\": {\"outlinewidth\": 0, \"ticks\": \"\"}}, \"type\": \"scatter3d\"}], \"scattercarpet\": [{\"marker\": {\"colorbar\": {\"outlinewidth\": 0, \"ticks\": \"\"}}, \"type\": \"scattercarpet\"}], \"scattergeo\": [{\"marker\": {\"colorbar\": {\"outlinewidth\": 0, \"ticks\": \"\"}}, \"type\": \"scattergeo\"}], \"scattergl\": [{\"marker\": {\"colorbar\": {\"outlinewidth\": 0, \"ticks\": \"\"}}, \"type\": \"scattergl\"}], \"scattermapbox\": [{\"marker\": {\"colorbar\": {\"outlinewidth\": 0, \"ticks\": \"\"}}, \"type\": \"scattermapbox\"}], \"scatterpolar\": [{\"marker\": {\"colorbar\": {\"outlinewidth\": 0, \"ticks\": \"\"}}, \"type\": \"scatterpolar\"}], \"scatterpolargl\": [{\"marker\": {\"colorbar\": {\"outlinewidth\": 0, \"ticks\": \"\"}}, \"type\": \"scatterpolargl\"}], \"scatterternary\": [{\"marker\": {\"colorbar\": {\"outlinewidth\": 0, \"ticks\": \"\"}}, \"type\": \"scatterternary\"}], \"surface\": [{\"colorbar\": {\"outlinewidth\": 0, \"ticks\": \"\"}, \"colorscale\": [[0.0, \"#0d0887\"], [0.1111111111111111, \"#46039f\"], [0.2222222222222222, \"#7201a8\"], [0.3333333333333333, \"#9c179e\"], [0.4444444444444444, \"#bd3786\"], [0.5555555555555556, \"#d8576b\"], [0.6666666666666666, \"#ed7953\"], [0.7777777777777778, \"#fb9f3a\"], [0.8888888888888888, \"#fdca26\"], [1.0, \"#f0f921\"]], \"type\": \"surface\"}], \"table\": [{\"cells\": {\"fill\": {\"color\": \"#EBF0F8\"}, \"line\": {\"color\": \"white\"}}, \"header\": {\"fill\": {\"color\": \"#C8D4E3\"}, \"line\": {\"color\": \"white\"}}, \"type\": \"table\"}]}, \"layout\": {\"annotationdefaults\": {\"arrowcolor\": \"#2a3f5f\", \"arrowhead\": 0, \"arrowwidth\": 1}, \"coloraxis\": {\"colorbar\": {\"outlinewidth\": 0, \"ticks\": \"\"}}, \"colorscale\": {\"diverging\": [[0, \"#8e0152\"], [0.1, \"#c51b7d\"], [0.2, \"#de77ae\"], [0.3, \"#f1b6da\"], [0.4, \"#fde0ef\"], [0.5, \"#f7f7f7\"], [0.6, \"#e6f5d0\"], [0.7, \"#b8e186\"], [0.8, \"#7fbc41\"], [0.9, \"#4d9221\"], [1, \"#276419\"]], \"sequential\": [[0.0, \"#0d0887\"], [0.1111111111111111, \"#46039f\"], [0.2222222222222222, \"#7201a8\"], [0.3333333333333333, \"#9c179e\"], [0.4444444444444444, \"#bd3786\"], [0.5555555555555556, \"#d8576b\"], [0.6666666666666666, \"#ed7953\"], [0.7777777777777778, \"#fb9f3a\"], [0.8888888888888888, \"#fdca26\"], [1.0, \"#f0f921\"]], \"sequentialminus\": [[0.0, \"#0d0887\"], [0.1111111111111111, \"#46039f\"], [0.2222222222222222, \"#7201a8\"], [0.3333333333333333, \"#9c179e\"], [0.4444444444444444, \"#bd3786\"], [0.5555555555555556, \"#d8576b\"], [0.6666666666666666, \"#ed7953\"], [0.7777777777777778, \"#fb9f3a\"], [0.8888888888888888, \"#fdca26\"], [1.0, \"#f0f921\"]]}, \"colorway\": [\"#636efa\", \"#EF553B\", \"#00cc96\", \"#ab63fa\", \"#FFA15A\", \"#19d3f3\", \"#FF6692\", \"#B6E880\", \"#FF97FF\", \"#FECB52\"], \"font\": {\"color\": \"#2a3f5f\"}, \"geo\": {\"bgcolor\": \"white\", \"lakecolor\": \"white\", \"landcolor\": \"#E5ECF6\", \"showlakes\": true, \"showland\": true, \"subunitcolor\": \"white\"}, \"hoverlabel\": {\"align\": \"left\"}, \"hovermode\": \"closest\", \"mapbox\": {\"style\": \"light\"}, \"paper_bgcolor\": \"white\", \"plot_bgcolor\": \"#E5ECF6\", \"polar\": {\"angularaxis\": {\"gridcolor\": \"white\", \"linecolor\": \"white\", \"ticks\": \"\"}, \"bgcolor\": \"#E5ECF6\", \"radialaxis\": {\"gridcolor\": \"white\", \"linecolor\": \"white\", \"ticks\": \"\"}}, \"scene\": {\"xaxis\": {\"backgroundcolor\": \"#E5ECF6\", \"gridcolor\": \"white\", \"gridwidth\": 2, \"linecolor\": \"white\", \"showbackground\": true, \"ticks\": \"\", \"zerolinecolor\": \"white\"}, \"yaxis\": {\"backgroundcolor\": \"#E5ECF6\", \"gridcolor\": \"white\", \"gridwidth\": 2, \"linecolor\": \"white\", \"showbackground\": true, \"ticks\": \"\", \"zerolinecolor\": \"white\"}, \"zaxis\": {\"backgroundcolor\": \"#E5ECF6\", \"gridcolor\": \"white\", \"gridwidth\": 2, \"linecolor\": \"white\", \"showbackground\": true, \"ticks\": \"\", \"zerolinecolor\": \"white\"}}, \"shapedefaults\": {\"line\": {\"color\": \"#2a3f5f\"}}, \"ternary\": {\"aaxis\": {\"gridcolor\": \"white\", \"linecolor\": \"white\", \"ticks\": \"\"}, \"baxis\": {\"gridcolor\": \"white\", \"linecolor\": \"white\", \"ticks\": \"\"}, \"bgcolor\": \"#E5ECF6\", \"caxis\": {\"gridcolor\": \"white\", \"linecolor\": \"white\", \"ticks\": \"\"}}, \"title\": {\"x\": 0.05}, \"xaxis\": {\"automargin\": true, \"gridcolor\": \"white\", \"linecolor\": \"white\", \"ticks\": \"\", \"title\": {\"standoff\": 15}, \"zerolinecolor\": \"white\", \"zerolinewidth\": 2}, \"yaxis\": {\"automargin\": true, \"gridcolor\": \"white\", \"linecolor\": \"white\", \"ticks\": \"\", \"title\": {\"standoff\": 15}, \"zerolinecolor\": \"white\", \"zerolinewidth\": 2}}}, \"title\": {\"text\": \"COVID19-number of confirmed cases per country\"}, \"xaxis\": {\"anchor\": \"y\", \"categoryarray\": [\"US\", \"Brazil\", \"India\", \"Russia\", \"Peru\", \"Chile\", \"United Kingdom\", \"Mexico\", \"Spain\", \"Iran\", \"Italy\", \"Pakistan\", \"Saudi Arabia\", \"Turkey\", \"South Africa\", \"France\", \"Germany\", \"Bangladesh\", \"Colombia\", \"Canada\"], \"categoryorder\": \"array\", \"domain\": [0.0, 1.0], \"title\": {\"text\": \"country\"}}, \"yaxis\": {\"anchor\": \"x\", \"domain\": [0.0, 1.0], \"title\": {\"text\": \"confirmed\"}}},\n",
       "                        {\"responsive\": true}\n",
       "                    ).then(function(){\n",
       "                            \n",
       "var gd = document.getElementById('4234950a-3c16-4a08-8831-7f4356c55986');\n",
       "var x = new MutationObserver(function (mutations, observer) {{\n",
       "        var display = window.getComputedStyle(gd).display;\n",
       "        if (!display || display === 'none') {{\n",
       "            console.log([gd, 'removed!']);\n",
       "            Plotly.purge(gd);\n",
       "            observer.disconnect();\n",
       "        }}\n",
       "}});\n",
       "\n",
       "// Listen for the removal of the full notebook cells\n",
       "var notebookContainer = gd.closest('#notebook-container');\n",
       "if (notebookContainer) {{\n",
       "    x.observe(notebookContainer, {childList: true});\n",
       "}}\n",
       "\n",
       "// Listen for the clearing of the current output cell\n",
       "var outputEl = gd.closest('.output');\n",
       "if (outputEl) {{\n",
       "    x.observe(outputEl, {childList: true});\n",
       "}}\n",
       "\n",
       "                        })\n",
       "                };\n",
       "                });\n",
       "            </script>\n",
       "        </div>"
      ]
     },
     "metadata": {},
     "output_type": "display_data"
    }
   ],
   "source": [
    "fig.show()"
   ]
  },
  {
   "cell_type": "code",
   "execution_count": 48,
   "metadata": {},
   "outputs": [
    {
     "data": {
      "application/vnd.plotly.v1+json": {
       "config": {
        "linkText": "Export to plot.ly",
        "plotlyServerURL": "https://plot.ly",
        "showLink": false
       },
       "data": [
        {
         "colorbar": {
          "title": {
           "text": " confirmed cases around the globe"
          }
         },
         "colorscale": [
          [
           0,
           "rgb(12,51,131)"
          ],
          [
           0.25,
           "rgb(10,136,186)"
          ],
          [
           0.5,
           "rgb(242,211,56)"
          ],
          [
           0.75,
           "rgb(242,143,56)"
          ],
          [
           1,
           "rgb(217,30,30)"
          ]
         ],
         "locations": [
          "USA",
          "BRA",
          "IND",
          "RUS",
          "PER",
          "CHL",
          "GBR",
          "MEX",
          "ESP",
          "IRN",
          "ITA",
          "PAK",
          "SAU",
          "TUR",
          "ZAF",
          "FRA",
          "DEU",
          "BGD",
          "COL",
          "CAN",
          "QAT",
          "CHN",
          "ARG",
          "EGY",
          "SWE",
          "IDN",
          "BLR",
          "ECU",
          "IRQ",
          "BEL",
          "ARE",
          "NLD",
          "KWT",
          "UKR",
          "KAZ",
          "OMN",
          "PHL",
          "SGP",
          "PRT",
          "BOL",
          "PAN",
          "DOM",
          "POL",
          "AFG",
          "CHE",
          "ISR",
          "BHR",
          "NGA",
          "ARM",
          "ROU",
          "IRL",
          "HND",
          "GTM",
          "GHA",
          "AZE",
          "JPN",
          "AUT",
          "MDA",
          "SRB",
          "DZA",
          "NPL",
          "CMR",
          "MAR",
          "KOR",
          "DNK",
          "CZE",
          "CIV",
          "UZB",
          "SDN",
          "NOR",
          "AUS",
          "MYS",
          "KGZ",
          "KEN",
          "SLV",
          "SEN",
          "COD",
          "VEN",
          "FIN",
          "MKD",
          "HTI",
          "TJK",
          "BGR",
          "ETH",
          "GAB",
          "GIN",
          "BIH",
          "CRI",
          "MRT",
          "DJI",
          "LUX",
          "PSE",
          "HUN",
          "CAF",
          "GRC",
          "XKS",
          "MDG",
          "HRV",
          "THA",
          "GNQ",
          "SOM",
          "ALB",
          "NIC",
          "MDV",
          "PRY",
          "CUB",
          "MLI",
          "LKA",
          "SSD",
          "EST",
          "LBN",
          "ISL",
          "LTU",
          "GNB",
          "SVK",
          "MWI",
          "SVN",
          "ZMB",
          "COG",
          "SLE",
          "NZL",
          "CPV",
          "YEM",
          "TUN",
          "BEN",
          "JOR",
          "LVA",
          "LBY",
          "RWA",
          "NER",
          "MOZ",
          "SWZ",
          "CYP",
          "BFA",
          "URY",
          "GEO",
          "UGA",
          "LBR",
          "TCD",
          "AND",
          "MNE",
          "JAM",
          "ZWE",
          "STP",
          null,
          "SMR",
          "TGO",
          "MLT",
          "SUR",
          "TZA",
          "NAM",
          "TWN",
          "SYR",
          "VNM",
          "AGO",
          "MUS",
          "MMR",
          "BWA",
          "COM",
          "GUY",
          "MNG",
          "ERI",
          "BDI",
          "KHM",
          "BRN",
          "TTO",
          "MCO",
          "BHS",
          "BRB",
          "LSO",
          "LIE",
          "SYC",
          "BTN",
          "ATG",
          "GMB",
          "BLZ",
          "VCT",
          "TLS",
          "GRD",
          "LCA",
          "FJI",
          "LAO",
          "DMA",
          "KNA",
          "VAT",
          "PNG",
          "ESH",
          null
         ],
         "text": [
          "US",
          "Brazil",
          "India",
          "Russia",
          "Peru",
          "Chile",
          "United Kingdom",
          "Mexico",
          "Spain",
          "Iran",
          "Italy",
          "Pakistan",
          "Saudi Arabia",
          "Turkey",
          "South Africa",
          "France",
          "Germany",
          "Bangladesh",
          "Colombia",
          "Canada",
          "Qatar",
          "China",
          "Argentina",
          "Egypt",
          "Sweden",
          "Indonesia",
          "Belarus",
          "Ecuador",
          "Iraq",
          "Belgium",
          "United Arab Emirates",
          "Netherlands",
          "Kuwait",
          "Ukraine",
          "Kazakhstan",
          "Oman",
          "Philippines",
          "Singapore",
          "Portugal",
          "Bolivia",
          "Panama",
          "Dominican Republic",
          "Poland",
          "Afghanistan",
          "Switzerland",
          "Israel",
          "Bahrain",
          "Nigeria",
          "Armenia",
          "Romania",
          "Ireland",
          "Honduras",
          "Guatemala",
          "Ghana",
          "Azerbaijan",
          "Japan",
          "Austria",
          "Moldova",
          "Serbia",
          "Algeria",
          "Nepal",
          "Cameroon",
          "Morocco",
          "Korea, South",
          "Denmark",
          "Czechia",
          "Cote d'Ivoire",
          "Uzbekistan",
          "Sudan",
          "Norway",
          "Australia",
          "Malaysia",
          "Kyrgyzstan",
          "Kenya",
          "El Salvador",
          "Senegal",
          "Congo (Kinshasa)",
          "Venezuela",
          "Finland",
          "North Macedonia",
          "Haiti",
          "Tajikistan",
          "Bulgaria",
          "Ethiopia",
          "Gabon",
          "Guinea",
          "Bosnia and Herzegovina",
          "Costa Rica",
          "Mauritania",
          "Djibouti",
          "Luxembourg",
          "West Bank and Gaza",
          "Hungary",
          "Central African Republic",
          "Greece",
          "Kosovo",
          "Madagascar",
          "Croatia",
          "Thailand",
          "Equatorial Guinea",
          "Somalia",
          "Albania",
          "Nicaragua",
          "Maldives",
          "Paraguay",
          "Cuba",
          "Mali",
          "Sri Lanka",
          "South Sudan",
          "Estonia",
          "Lebanon",
          "Iceland",
          "Lithuania",
          "Guinea-Bissau",
          "Slovakia",
          "Malawi",
          "Slovenia",
          "Zambia",
          "Congo (Brazzaville)",
          "Sierra Leone",
          "New Zealand",
          "Cabo Verde",
          "Yemen",
          "Tunisia",
          "Benin",
          "Jordan",
          "Latvia",
          "Libya",
          "Rwanda",
          "Niger",
          "Mozambique",
          "Eswatini",
          "Cyprus",
          "Burkina Faso",
          "Uruguay",
          "Georgia",
          "Uganda",
          "Liberia",
          "Chad",
          "Andorra",
          "Montenegro",
          "Jamaica",
          "Zimbabwe",
          "Sao Tome and Principe",
          "Diamond Princess",
          "San Marino",
          "Togo",
          "Malta",
          "Suriname",
          "Tanzania",
          "Namibia",
          "Taiwan*",
          "Syria",
          "Vietnam",
          "Angola",
          "Mauritius",
          "Burma",
          "Botswana",
          "Comoros",
          "Guyana",
          "Mongolia",
          "Eritrea",
          "Burundi",
          "Cambodia",
          "Brunei",
          "Trinidad and Tobago",
          "Monaco",
          "Bahamas",
          "Barbados",
          "Lesotho",
          "Liechtenstein",
          "Seychelles",
          "Bhutan",
          "Antigua and Barbuda",
          "Gambia",
          "Belize",
          "Saint Vincent and the Grenadines",
          "Timor-Leste",
          "Grenada",
          "Saint Lucia",
          "Fiji",
          "Laos",
          "Dominica",
          "Saint Kitts and Nevis",
          "Holy See",
          "Papua New Guinea",
          "Western Sahara",
          "MS Zaandam"
         ],
         "type": "choropleth",
         "z": [
          2938624,
          1623284,
          719664,
          686852,
          305703,
          298557,
          287291,
          261750,
          251789,
          243051,
          241819,
          234509,
          213716,
          206844,
          205721,
          205597,
          198079,
          165618,
          117412,
          107815,
          100345,
          84889,
          80447,
          76222,
          73061,
          64958,
          63804,
          62380,
          62275,
          62058,
          52068,
          50870,
          50644,
          50617,
          49683,
          47735,
          46333,
          44983,
          44129,
          40509,
          39334,
          38128,
          36155,
          33384,
          32315,
          31186,
          29821,
          29286,
          29285,
          29223,
          25531,
          24665,
          23972,
          21077,
          20837,
          19954,
          18365,
          17906,
          16420,
          16404,
          15964,
          14916,
          14379,
          13181,
          13079,
          12566,
          10966,
          10459,
          9894,
          8936,
          8755,
          8668,
          8141,
          8067,
          8027,
          7478,
          7432,
          7411,
          7257,
          7124,
          6371,
          6262,
          5914,
          5846,
          5743,
          5610,
          5458,
          5241,
          4948,
          4822,
          4542,
          4341,
          4205,
          4033,
          3562,
          3508,
          3250,
          3220,
          3195,
          3071,
          3006,
          2964,
          2519,
          2491,
          2456,
          2380,
          2331,
          2078,
          2021,
          1994,
          1885,
          1866,
          1841,
          1790,
          1765,
          1742,
          1716,
          1632,
          1557,
          1547,
          1536,
          1463,
          1284,
          1199,
          1199,
          1167,
          1134,
          1117,
          1113,
          1093,
          1012,
          1011,
          1004,
          1000,
          960,
          958,
          953,
          891,
          872,
          855,
          841,
          737,
          734,
          721,
          712,
          698,
          680,
          672,
          614,
          509,
          485,
          449,
          372,
          369,
          346,
          342,
          316,
          314,
          311,
          273,
          225,
          215,
          191,
          141,
          141,
          133,
          108,
          104,
          98,
          91,
          84,
          81,
          80,
          70,
          61,
          30,
          29,
          24,
          23,
          22,
          21,
          19,
          18,
          16,
          12,
          11,
          10,
          9
         ]
        }
       ],
       "layout": {
        "geo": {
         "projection": {
          "type": "natural earth"
         },
         "showframe": false
        },
        "template": {
         "data": {
          "bar": [
           {
            "error_x": {
             "color": "#2a3f5f"
            },
            "error_y": {
             "color": "#2a3f5f"
            },
            "marker": {
             "line": {
              "color": "#E5ECF6",
              "width": 0.5
             }
            },
            "type": "bar"
           }
          ],
          "barpolar": [
           {
            "marker": {
             "line": {
              "color": "#E5ECF6",
              "width": 0.5
             }
            },
            "type": "barpolar"
           }
          ],
          "carpet": [
           {
            "aaxis": {
             "endlinecolor": "#2a3f5f",
             "gridcolor": "white",
             "linecolor": "white",
             "minorgridcolor": "white",
             "startlinecolor": "#2a3f5f"
            },
            "baxis": {
             "endlinecolor": "#2a3f5f",
             "gridcolor": "white",
             "linecolor": "white",
             "minorgridcolor": "white",
             "startlinecolor": "#2a3f5f"
            },
            "type": "carpet"
           }
          ],
          "choropleth": [
           {
            "colorbar": {
             "outlinewidth": 0,
             "ticks": ""
            },
            "type": "choropleth"
           }
          ],
          "contour": [
           {
            "colorbar": {
             "outlinewidth": 0,
             "ticks": ""
            },
            "colorscale": [
             [
              0,
              "#0d0887"
             ],
             [
              0.1111111111111111,
              "#46039f"
             ],
             [
              0.2222222222222222,
              "#7201a8"
             ],
             [
              0.3333333333333333,
              "#9c179e"
             ],
             [
              0.4444444444444444,
              "#bd3786"
             ],
             [
              0.5555555555555556,
              "#d8576b"
             ],
             [
              0.6666666666666666,
              "#ed7953"
             ],
             [
              0.7777777777777778,
              "#fb9f3a"
             ],
             [
              0.8888888888888888,
              "#fdca26"
             ],
             [
              1,
              "#f0f921"
             ]
            ],
            "type": "contour"
           }
          ],
          "contourcarpet": [
           {
            "colorbar": {
             "outlinewidth": 0,
             "ticks": ""
            },
            "type": "contourcarpet"
           }
          ],
          "heatmap": [
           {
            "colorbar": {
             "outlinewidth": 0,
             "ticks": ""
            },
            "colorscale": [
             [
              0,
              "#0d0887"
             ],
             [
              0.1111111111111111,
              "#46039f"
             ],
             [
              0.2222222222222222,
              "#7201a8"
             ],
             [
              0.3333333333333333,
              "#9c179e"
             ],
             [
              0.4444444444444444,
              "#bd3786"
             ],
             [
              0.5555555555555556,
              "#d8576b"
             ],
             [
              0.6666666666666666,
              "#ed7953"
             ],
             [
              0.7777777777777778,
              "#fb9f3a"
             ],
             [
              0.8888888888888888,
              "#fdca26"
             ],
             [
              1,
              "#f0f921"
             ]
            ],
            "type": "heatmap"
           }
          ],
          "heatmapgl": [
           {
            "colorbar": {
             "outlinewidth": 0,
             "ticks": ""
            },
            "colorscale": [
             [
              0,
              "#0d0887"
             ],
             [
              0.1111111111111111,
              "#46039f"
             ],
             [
              0.2222222222222222,
              "#7201a8"
             ],
             [
              0.3333333333333333,
              "#9c179e"
             ],
             [
              0.4444444444444444,
              "#bd3786"
             ],
             [
              0.5555555555555556,
              "#d8576b"
             ],
             [
              0.6666666666666666,
              "#ed7953"
             ],
             [
              0.7777777777777778,
              "#fb9f3a"
             ],
             [
              0.8888888888888888,
              "#fdca26"
             ],
             [
              1,
              "#f0f921"
             ]
            ],
            "type": "heatmapgl"
           }
          ],
          "histogram": [
           {
            "marker": {
             "colorbar": {
              "outlinewidth": 0,
              "ticks": ""
             }
            },
            "type": "histogram"
           }
          ],
          "histogram2d": [
           {
            "colorbar": {
             "outlinewidth": 0,
             "ticks": ""
            },
            "colorscale": [
             [
              0,
              "#0d0887"
             ],
             [
              0.1111111111111111,
              "#46039f"
             ],
             [
              0.2222222222222222,
              "#7201a8"
             ],
             [
              0.3333333333333333,
              "#9c179e"
             ],
             [
              0.4444444444444444,
              "#bd3786"
             ],
             [
              0.5555555555555556,
              "#d8576b"
             ],
             [
              0.6666666666666666,
              "#ed7953"
             ],
             [
              0.7777777777777778,
              "#fb9f3a"
             ],
             [
              0.8888888888888888,
              "#fdca26"
             ],
             [
              1,
              "#f0f921"
             ]
            ],
            "type": "histogram2d"
           }
          ],
          "histogram2dcontour": [
           {
            "colorbar": {
             "outlinewidth": 0,
             "ticks": ""
            },
            "colorscale": [
             [
              0,
              "#0d0887"
             ],
             [
              0.1111111111111111,
              "#46039f"
             ],
             [
              0.2222222222222222,
              "#7201a8"
             ],
             [
              0.3333333333333333,
              "#9c179e"
             ],
             [
              0.4444444444444444,
              "#bd3786"
             ],
             [
              0.5555555555555556,
              "#d8576b"
             ],
             [
              0.6666666666666666,
              "#ed7953"
             ],
             [
              0.7777777777777778,
              "#fb9f3a"
             ],
             [
              0.8888888888888888,
              "#fdca26"
             ],
             [
              1,
              "#f0f921"
             ]
            ],
            "type": "histogram2dcontour"
           }
          ],
          "mesh3d": [
           {
            "colorbar": {
             "outlinewidth": 0,
             "ticks": ""
            },
            "type": "mesh3d"
           }
          ],
          "parcoords": [
           {
            "line": {
             "colorbar": {
              "outlinewidth": 0,
              "ticks": ""
             }
            },
            "type": "parcoords"
           }
          ],
          "pie": [
           {
            "automargin": true,
            "type": "pie"
           }
          ],
          "scatter": [
           {
            "marker": {
             "colorbar": {
              "outlinewidth": 0,
              "ticks": ""
             }
            },
            "type": "scatter"
           }
          ],
          "scatter3d": [
           {
            "line": {
             "colorbar": {
              "outlinewidth": 0,
              "ticks": ""
             }
            },
            "marker": {
             "colorbar": {
              "outlinewidth": 0,
              "ticks": ""
             }
            },
            "type": "scatter3d"
           }
          ],
          "scattercarpet": [
           {
            "marker": {
             "colorbar": {
              "outlinewidth": 0,
              "ticks": ""
             }
            },
            "type": "scattercarpet"
           }
          ],
          "scattergeo": [
           {
            "marker": {
             "colorbar": {
              "outlinewidth": 0,
              "ticks": ""
             }
            },
            "type": "scattergeo"
           }
          ],
          "scattergl": [
           {
            "marker": {
             "colorbar": {
              "outlinewidth": 0,
              "ticks": ""
             }
            },
            "type": "scattergl"
           }
          ],
          "scattermapbox": [
           {
            "marker": {
             "colorbar": {
              "outlinewidth": 0,
              "ticks": ""
             }
            },
            "type": "scattermapbox"
           }
          ],
          "scatterpolar": [
           {
            "marker": {
             "colorbar": {
              "outlinewidth": 0,
              "ticks": ""
             }
            },
            "type": "scatterpolar"
           }
          ],
          "scatterpolargl": [
           {
            "marker": {
             "colorbar": {
              "outlinewidth": 0,
              "ticks": ""
             }
            },
            "type": "scatterpolargl"
           }
          ],
          "scatterternary": [
           {
            "marker": {
             "colorbar": {
              "outlinewidth": 0,
              "ticks": ""
             }
            },
            "type": "scatterternary"
           }
          ],
          "surface": [
           {
            "colorbar": {
             "outlinewidth": 0,
             "ticks": ""
            },
            "colorscale": [
             [
              0,
              "#0d0887"
             ],
             [
              0.1111111111111111,
              "#46039f"
             ],
             [
              0.2222222222222222,
              "#7201a8"
             ],
             [
              0.3333333333333333,
              "#9c179e"
             ],
             [
              0.4444444444444444,
              "#bd3786"
             ],
             [
              0.5555555555555556,
              "#d8576b"
             ],
             [
              0.6666666666666666,
              "#ed7953"
             ],
             [
              0.7777777777777778,
              "#fb9f3a"
             ],
             [
              0.8888888888888888,
              "#fdca26"
             ],
             [
              1,
              "#f0f921"
             ]
            ],
            "type": "surface"
           }
          ],
          "table": [
           {
            "cells": {
             "fill": {
              "color": "#EBF0F8"
             },
             "line": {
              "color": "white"
             }
            },
            "header": {
             "fill": {
              "color": "#C8D4E3"
             },
             "line": {
              "color": "white"
             }
            },
            "type": "table"
           }
          ]
         },
         "layout": {
          "annotationdefaults": {
           "arrowcolor": "#2a3f5f",
           "arrowhead": 0,
           "arrowwidth": 1
          },
          "coloraxis": {
           "colorbar": {
            "outlinewidth": 0,
            "ticks": ""
           }
          },
          "colorscale": {
           "diverging": [
            [
             0,
             "#8e0152"
            ],
            [
             0.1,
             "#c51b7d"
            ],
            [
             0.2,
             "#de77ae"
            ],
            [
             0.3,
             "#f1b6da"
            ],
            [
             0.4,
             "#fde0ef"
            ],
            [
             0.5,
             "#f7f7f7"
            ],
            [
             0.6,
             "#e6f5d0"
            ],
            [
             0.7,
             "#b8e186"
            ],
            [
             0.8,
             "#7fbc41"
            ],
            [
             0.9,
             "#4d9221"
            ],
            [
             1,
             "#276419"
            ]
           ],
           "sequential": [
            [
             0,
             "#0d0887"
            ],
            [
             0.1111111111111111,
             "#46039f"
            ],
            [
             0.2222222222222222,
             "#7201a8"
            ],
            [
             0.3333333333333333,
             "#9c179e"
            ],
            [
             0.4444444444444444,
             "#bd3786"
            ],
            [
             0.5555555555555556,
             "#d8576b"
            ],
            [
             0.6666666666666666,
             "#ed7953"
            ],
            [
             0.7777777777777778,
             "#fb9f3a"
            ],
            [
             0.8888888888888888,
             "#fdca26"
            ],
            [
             1,
             "#f0f921"
            ]
           ],
           "sequentialminus": [
            [
             0,
             "#0d0887"
            ],
            [
             0.1111111111111111,
             "#46039f"
            ],
            [
             0.2222222222222222,
             "#7201a8"
            ],
            [
             0.3333333333333333,
             "#9c179e"
            ],
            [
             0.4444444444444444,
             "#bd3786"
            ],
            [
             0.5555555555555556,
             "#d8576b"
            ],
            [
             0.6666666666666666,
             "#ed7953"
            ],
            [
             0.7777777777777778,
             "#fb9f3a"
            ],
            [
             0.8888888888888888,
             "#fdca26"
            ],
            [
             1,
             "#f0f921"
            ]
           ]
          },
          "colorway": [
           "#636efa",
           "#EF553B",
           "#00cc96",
           "#ab63fa",
           "#FFA15A",
           "#19d3f3",
           "#FF6692",
           "#B6E880",
           "#FF97FF",
           "#FECB52"
          ],
          "font": {
           "color": "#2a3f5f"
          },
          "geo": {
           "bgcolor": "white",
           "lakecolor": "white",
           "landcolor": "#E5ECF6",
           "showlakes": true,
           "showland": true,
           "subunitcolor": "white"
          },
          "hoverlabel": {
           "align": "left"
          },
          "hovermode": "closest",
          "mapbox": {
           "style": "light"
          },
          "paper_bgcolor": "white",
          "plot_bgcolor": "#E5ECF6",
          "polar": {
           "angularaxis": {
            "gridcolor": "white",
            "linecolor": "white",
            "ticks": ""
           },
           "bgcolor": "#E5ECF6",
           "radialaxis": {
            "gridcolor": "white",
            "linecolor": "white",
            "ticks": ""
           }
          },
          "scene": {
           "xaxis": {
            "backgroundcolor": "#E5ECF6",
            "gridcolor": "white",
            "gridwidth": 2,
            "linecolor": "white",
            "showbackground": true,
            "ticks": "",
            "zerolinecolor": "white"
           },
           "yaxis": {
            "backgroundcolor": "#E5ECF6",
            "gridcolor": "white",
            "gridwidth": 2,
            "linecolor": "white",
            "showbackground": true,
            "ticks": "",
            "zerolinecolor": "white"
           },
           "zaxis": {
            "backgroundcolor": "#E5ECF6",
            "gridcolor": "white",
            "gridwidth": 2,
            "linecolor": "white",
            "showbackground": true,
            "ticks": "",
            "zerolinecolor": "white"
           }
          },
          "shapedefaults": {
           "line": {
            "color": "#2a3f5f"
           }
          },
          "ternary": {
           "aaxis": {
            "gridcolor": "white",
            "linecolor": "white",
            "ticks": ""
           },
           "baxis": {
            "gridcolor": "white",
            "linecolor": "white",
            "ticks": ""
           },
           "bgcolor": "#E5ECF6",
           "caxis": {
            "gridcolor": "white",
            "linecolor": "white",
            "ticks": ""
           }
          },
          "title": {
           "x": 0.05
          },
          "xaxis": {
           "automargin": true,
           "gridcolor": "white",
           "linecolor": "white",
           "ticks": "",
           "title": {
            "standoff": 15
           },
           "zerolinecolor": "white",
           "zerolinewidth": 2
          },
          "yaxis": {
           "automargin": true,
           "gridcolor": "white",
           "linecolor": "white",
           "ticks": "",
           "title": {
            "standoff": 15
           },
           "zerolinecolor": "white",
           "zerolinewidth": 2
          }
         }
        },
        "title": {
         "text": "Covid-19 Cumulative Cases accross the Globe -- 19-Jun-2020"
        }
       }
      },
      "text/html": [
       "<div>\n",
       "        \n",
       "        \n",
       "            <div id=\"e2da415b-2122-4b84-a5ef-88f758f9929e\" class=\"plotly-graph-div\" style=\"height:525px; width:100%;\"></div>\n",
       "            <script type=\"text/javascript\">\n",
       "                require([\"plotly\"], function(Plotly) {\n",
       "                    window.PLOTLYENV=window.PLOTLYENV || {};\n",
       "                    \n",
       "                if (document.getElementById(\"e2da415b-2122-4b84-a5ef-88f758f9929e\")) {\n",
       "                    Plotly.newPlot(\n",
       "                        'e2da415b-2122-4b84-a5ef-88f758f9929e',\n",
       "                        [{\"colorbar\": {\"title\": {\"text\": \" confirmed cases around the globe\"}}, \"colorscale\": [[0.0, \"rgb(12,51,131)\"], [0.25, \"rgb(10,136,186)\"], [0.5, \"rgb(242,211,56)\"], [0.75, \"rgb(242,143,56)\"], [1.0, \"rgb(217,30,30)\"]], \"locations\": [\"USA\", \"BRA\", \"IND\", \"RUS\", \"PER\", \"CHL\", \"GBR\", \"MEX\", \"ESP\", \"IRN\", \"ITA\", \"PAK\", \"SAU\", \"TUR\", \"ZAF\", \"FRA\", \"DEU\", \"BGD\", \"COL\", \"CAN\", \"QAT\", \"CHN\", \"ARG\", \"EGY\", \"SWE\", \"IDN\", \"BLR\", \"ECU\", \"IRQ\", \"BEL\", \"ARE\", \"NLD\", \"KWT\", \"UKR\", \"KAZ\", \"OMN\", \"PHL\", \"SGP\", \"PRT\", \"BOL\", \"PAN\", \"DOM\", \"POL\", \"AFG\", \"CHE\", \"ISR\", \"BHR\", \"NGA\", \"ARM\", \"ROU\", \"IRL\", \"HND\", \"GTM\", \"GHA\", \"AZE\", \"JPN\", \"AUT\", \"MDA\", \"SRB\", \"DZA\", \"NPL\", \"CMR\", \"MAR\", \"KOR\", \"DNK\", \"CZE\", \"CIV\", \"UZB\", \"SDN\", \"NOR\", \"AUS\", \"MYS\", \"KGZ\", \"KEN\", \"SLV\", \"SEN\", \"COD\", \"VEN\", \"FIN\", \"MKD\", \"HTI\", \"TJK\", \"BGR\", \"ETH\", \"GAB\", \"GIN\", \"BIH\", \"CRI\", \"MRT\", \"DJI\", \"LUX\", \"PSE\", \"HUN\", \"CAF\", \"GRC\", \"XKS\", \"MDG\", \"HRV\", \"THA\", \"GNQ\", \"SOM\", \"ALB\", \"NIC\", \"MDV\", \"PRY\", \"CUB\", \"MLI\", \"LKA\", \"SSD\", \"EST\", \"LBN\", \"ISL\", \"LTU\", \"GNB\", \"SVK\", \"MWI\", \"SVN\", \"ZMB\", \"COG\", \"SLE\", \"NZL\", \"CPV\", \"YEM\", \"TUN\", \"BEN\", \"JOR\", \"LVA\", \"LBY\", \"RWA\", \"NER\", \"MOZ\", \"SWZ\", \"CYP\", \"BFA\", \"URY\", \"GEO\", \"UGA\", \"LBR\", \"TCD\", \"AND\", \"MNE\", \"JAM\", \"ZWE\", \"STP\", null, \"SMR\", \"TGO\", \"MLT\", \"SUR\", \"TZA\", \"NAM\", \"TWN\", \"SYR\", \"VNM\", \"AGO\", \"MUS\", \"MMR\", \"BWA\", \"COM\", \"GUY\", \"MNG\", \"ERI\", \"BDI\", \"KHM\", \"BRN\", \"TTO\", \"MCO\", \"BHS\", \"BRB\", \"LSO\", \"LIE\", \"SYC\", \"BTN\", \"ATG\", \"GMB\", \"BLZ\", \"VCT\", \"TLS\", \"GRD\", \"LCA\", \"FJI\", \"LAO\", \"DMA\", \"KNA\", \"VAT\", \"PNG\", \"ESH\", null], \"text\": [\"US\", \"Brazil\", \"India\", \"Russia\", \"Peru\", \"Chile\", \"United Kingdom\", \"Mexico\", \"Spain\", \"Iran\", \"Italy\", \"Pakistan\", \"Saudi Arabia\", \"Turkey\", \"South Africa\", \"France\", \"Germany\", \"Bangladesh\", \"Colombia\", \"Canada\", \"Qatar\", \"China\", \"Argentina\", \"Egypt\", \"Sweden\", \"Indonesia\", \"Belarus\", \"Ecuador\", \"Iraq\", \"Belgium\", \"United Arab Emirates\", \"Netherlands\", \"Kuwait\", \"Ukraine\", \"Kazakhstan\", \"Oman\", \"Philippines\", \"Singapore\", \"Portugal\", \"Bolivia\", \"Panama\", \"Dominican Republic\", \"Poland\", \"Afghanistan\", \"Switzerland\", \"Israel\", \"Bahrain\", \"Nigeria\", \"Armenia\", \"Romania\", \"Ireland\", \"Honduras\", \"Guatemala\", \"Ghana\", \"Azerbaijan\", \"Japan\", \"Austria\", \"Moldova\", \"Serbia\", \"Algeria\", \"Nepal\", \"Cameroon\", \"Morocco\", \"Korea, South\", \"Denmark\", \"Czechia\", \"Cote d'Ivoire\", \"Uzbekistan\", \"Sudan\", \"Norway\", \"Australia\", \"Malaysia\", \"Kyrgyzstan\", \"Kenya\", \"El Salvador\", \"Senegal\", \"Congo (Kinshasa)\", \"Venezuela\", \"Finland\", \"North Macedonia\", \"Haiti\", \"Tajikistan\", \"Bulgaria\", \"Ethiopia\", \"Gabon\", \"Guinea\", \"Bosnia and Herzegovina\", \"Costa Rica\", \"Mauritania\", \"Djibouti\", \"Luxembourg\", \"West Bank and Gaza\", \"Hungary\", \"Central African Republic\", \"Greece\", \"Kosovo\", \"Madagascar\", \"Croatia\", \"Thailand\", \"Equatorial Guinea\", \"Somalia\", \"Albania\", \"Nicaragua\", \"Maldives\", \"Paraguay\", \"Cuba\", \"Mali\", \"Sri Lanka\", \"South Sudan\", \"Estonia\", \"Lebanon\", \"Iceland\", \"Lithuania\", \"Guinea-Bissau\", \"Slovakia\", \"Malawi\", \"Slovenia\", \"Zambia\", \"Congo (Brazzaville)\", \"Sierra Leone\", \"New Zealand\", \"Cabo Verde\", \"Yemen\", \"Tunisia\", \"Benin\", \"Jordan\", \"Latvia\", \"Libya\", \"Rwanda\", \"Niger\", \"Mozambique\", \"Eswatini\", \"Cyprus\", \"Burkina Faso\", \"Uruguay\", \"Georgia\", \"Uganda\", \"Liberia\", \"Chad\", \"Andorra\", \"Montenegro\", \"Jamaica\", \"Zimbabwe\", \"Sao Tome and Principe\", \"Diamond Princess\", \"San Marino\", \"Togo\", \"Malta\", \"Suriname\", \"Tanzania\", \"Namibia\", \"Taiwan*\", \"Syria\", \"Vietnam\", \"Angola\", \"Mauritius\", \"Burma\", \"Botswana\", \"Comoros\", \"Guyana\", \"Mongolia\", \"Eritrea\", \"Burundi\", \"Cambodia\", \"Brunei\", \"Trinidad and Tobago\", \"Monaco\", \"Bahamas\", \"Barbados\", \"Lesotho\", \"Liechtenstein\", \"Seychelles\", \"Bhutan\", \"Antigua and Barbuda\", \"Gambia\", \"Belize\", \"Saint Vincent and the Grenadines\", \"Timor-Leste\", \"Grenada\", \"Saint Lucia\", \"Fiji\", \"Laos\", \"Dominica\", \"Saint Kitts and Nevis\", \"Holy See\", \"Papua New Guinea\", \"Western Sahara\", \"MS Zaandam\"], \"type\": \"choropleth\", \"z\": [2938624.0, 1623284.0, 719664.0, 686852.0, 305703.0, 298557.0, 287291.0, 261750.0, 251789.0, 243051.0, 241819.0, 234509.0, 213716.0, 206844.0, 205721.0, 205597.0, 198079.0, 165618.0, 117412.0, 107815.0, 100345.0, 84889.0, 80447.0, 76222.0, 73061.0, 64958.0, 63804.0, 62380.0, 62275.0, 62058.0, 52068.0, 50870.0, 50644.0, 50617.0, 49683.0, 47735.0, 46333.0, 44983.0, 44129.0, 40509.0, 39334.0, 38128.0, 36155.0, 33384.0, 32315.0, 31186.0, 29821.0, 29286.0, 29285.0, 29223.0, 25531.0, 24665.0, 23972.0, 21077.0, 20837.0, 19954.0, 18365.0, 17906.0, 16420.0, 16404.0, 15964.0, 14916.0, 14379.0, 13181.0, 13079.0, 12566.0, 10966.0, 10459.0, 9894.0, 8936.0, 8755.0, 8668.0, 8141.0, 8067.0, 8027.0, 7478.0, 7432.0, 7411.0, 7257.0, 7124.0, 6371.0, 6262.0, 5914.0, 5846.0, 5743.0, 5610.0, 5458.0, 5241.0, 4948.0, 4822.0, 4542.0, 4341.0, 4205.0, 4033.0, 3562.0, 3508.0, 3250.0, 3220.0, 3195.0, 3071.0, 3006.0, 2964.0, 2519.0, 2491.0, 2456.0, 2380.0, 2331.0, 2078.0, 2021.0, 1994.0, 1885.0, 1866.0, 1841.0, 1790.0, 1765.0, 1742.0, 1716.0, 1632.0, 1557.0, 1547.0, 1536.0, 1463.0, 1284.0, 1199.0, 1199.0, 1167.0, 1134.0, 1117.0, 1113.0, 1093.0, 1012.0, 1011.0, 1004.0, 1000.0, 960.0, 958.0, 953.0, 891.0, 872.0, 855.0, 841.0, 737.0, 734.0, 721.0, 712.0, 698.0, 680.0, 672.0, 614.0, 509.0, 485.0, 449.0, 372.0, 369.0, 346.0, 342.0, 316.0, 314.0, 311.0, 273.0, 225.0, 215.0, 191.0, 141.0, 141.0, 133.0, 108.0, 104.0, 98.0, 91.0, 84.0, 81.0, 80.0, 70.0, 61.0, 30.0, 29.0, 24.0, 23.0, 22.0, 21.0, 19.0, 18.0, 16.0, 12.0, 11.0, 10.0, 9.0]}],\n",
       "                        {\"geo\": {\"projection\": {\"type\": \"natural earth\"}, \"showframe\": false}, \"template\": {\"data\": {\"bar\": [{\"error_x\": {\"color\": \"#2a3f5f\"}, \"error_y\": {\"color\": \"#2a3f5f\"}, \"marker\": {\"line\": {\"color\": \"#E5ECF6\", \"width\": 0.5}}, \"type\": \"bar\"}], \"barpolar\": [{\"marker\": {\"line\": {\"color\": \"#E5ECF6\", \"width\": 0.5}}, \"type\": \"barpolar\"}], \"carpet\": [{\"aaxis\": {\"endlinecolor\": \"#2a3f5f\", \"gridcolor\": \"white\", \"linecolor\": \"white\", \"minorgridcolor\": \"white\", \"startlinecolor\": \"#2a3f5f\"}, \"baxis\": {\"endlinecolor\": \"#2a3f5f\", \"gridcolor\": \"white\", \"linecolor\": \"white\", \"minorgridcolor\": \"white\", \"startlinecolor\": \"#2a3f5f\"}, \"type\": \"carpet\"}], \"choropleth\": [{\"colorbar\": {\"outlinewidth\": 0, \"ticks\": \"\"}, \"type\": \"choropleth\"}], \"contour\": [{\"colorbar\": {\"outlinewidth\": 0, \"ticks\": \"\"}, \"colorscale\": [[0.0, \"#0d0887\"], [0.1111111111111111, \"#46039f\"], [0.2222222222222222, \"#7201a8\"], [0.3333333333333333, \"#9c179e\"], [0.4444444444444444, \"#bd3786\"], [0.5555555555555556, \"#d8576b\"], [0.6666666666666666, \"#ed7953\"], [0.7777777777777778, \"#fb9f3a\"], [0.8888888888888888, \"#fdca26\"], [1.0, \"#f0f921\"]], \"type\": \"contour\"}], \"contourcarpet\": [{\"colorbar\": {\"outlinewidth\": 0, \"ticks\": \"\"}, \"type\": \"contourcarpet\"}], \"heatmap\": [{\"colorbar\": {\"outlinewidth\": 0, \"ticks\": \"\"}, \"colorscale\": [[0.0, \"#0d0887\"], [0.1111111111111111, \"#46039f\"], [0.2222222222222222, \"#7201a8\"], [0.3333333333333333, \"#9c179e\"], [0.4444444444444444, \"#bd3786\"], [0.5555555555555556, \"#d8576b\"], [0.6666666666666666, \"#ed7953\"], [0.7777777777777778, \"#fb9f3a\"], [0.8888888888888888, \"#fdca26\"], [1.0, \"#f0f921\"]], \"type\": \"heatmap\"}], \"heatmapgl\": [{\"colorbar\": {\"outlinewidth\": 0, \"ticks\": \"\"}, \"colorscale\": [[0.0, \"#0d0887\"], [0.1111111111111111, \"#46039f\"], [0.2222222222222222, \"#7201a8\"], [0.3333333333333333, \"#9c179e\"], [0.4444444444444444, \"#bd3786\"], [0.5555555555555556, \"#d8576b\"], [0.6666666666666666, \"#ed7953\"], [0.7777777777777778, \"#fb9f3a\"], [0.8888888888888888, \"#fdca26\"], [1.0, \"#f0f921\"]], \"type\": \"heatmapgl\"}], \"histogram\": [{\"marker\": {\"colorbar\": {\"outlinewidth\": 0, \"ticks\": \"\"}}, \"type\": \"histogram\"}], \"histogram2d\": [{\"colorbar\": {\"outlinewidth\": 0, \"ticks\": \"\"}, \"colorscale\": [[0.0, \"#0d0887\"], [0.1111111111111111, \"#46039f\"], [0.2222222222222222, \"#7201a8\"], [0.3333333333333333, \"#9c179e\"], [0.4444444444444444, \"#bd3786\"], [0.5555555555555556, \"#d8576b\"], [0.6666666666666666, \"#ed7953\"], [0.7777777777777778, \"#fb9f3a\"], [0.8888888888888888, \"#fdca26\"], [1.0, \"#f0f921\"]], \"type\": \"histogram2d\"}], \"histogram2dcontour\": [{\"colorbar\": {\"outlinewidth\": 0, \"ticks\": \"\"}, \"colorscale\": [[0.0, \"#0d0887\"], [0.1111111111111111, \"#46039f\"], [0.2222222222222222, \"#7201a8\"], [0.3333333333333333, \"#9c179e\"], [0.4444444444444444, \"#bd3786\"], [0.5555555555555556, \"#d8576b\"], [0.6666666666666666, \"#ed7953\"], [0.7777777777777778, \"#fb9f3a\"], [0.8888888888888888, \"#fdca26\"], [1.0, \"#f0f921\"]], \"type\": \"histogram2dcontour\"}], \"mesh3d\": [{\"colorbar\": {\"outlinewidth\": 0, \"ticks\": \"\"}, \"type\": \"mesh3d\"}], \"parcoords\": [{\"line\": {\"colorbar\": {\"outlinewidth\": 0, \"ticks\": \"\"}}, \"type\": \"parcoords\"}], \"pie\": [{\"automargin\": true, \"type\": \"pie\"}], \"scatter\": [{\"marker\": {\"colorbar\": {\"outlinewidth\": 0, \"ticks\": \"\"}}, \"type\": \"scatter\"}], \"scatter3d\": [{\"line\": {\"colorbar\": {\"outlinewidth\": 0, \"ticks\": \"\"}}, \"marker\": {\"colorbar\": {\"outlinewidth\": 0, \"ticks\": \"\"}}, \"type\": \"scatter3d\"}], \"scattercarpet\": [{\"marker\": {\"colorbar\": {\"outlinewidth\": 0, \"ticks\": \"\"}}, \"type\": \"scattercarpet\"}], \"scattergeo\": [{\"marker\": {\"colorbar\": {\"outlinewidth\": 0, \"ticks\": \"\"}}, \"type\": \"scattergeo\"}], \"scattergl\": [{\"marker\": {\"colorbar\": {\"outlinewidth\": 0, \"ticks\": \"\"}}, \"type\": \"scattergl\"}], \"scattermapbox\": [{\"marker\": {\"colorbar\": {\"outlinewidth\": 0, \"ticks\": \"\"}}, \"type\": \"scattermapbox\"}], \"scatterpolar\": [{\"marker\": {\"colorbar\": {\"outlinewidth\": 0, \"ticks\": \"\"}}, \"type\": \"scatterpolar\"}], \"scatterpolargl\": [{\"marker\": {\"colorbar\": {\"outlinewidth\": 0, \"ticks\": \"\"}}, \"type\": \"scatterpolargl\"}], \"scatterternary\": [{\"marker\": {\"colorbar\": {\"outlinewidth\": 0, \"ticks\": \"\"}}, \"type\": \"scatterternary\"}], \"surface\": [{\"colorbar\": {\"outlinewidth\": 0, \"ticks\": \"\"}, \"colorscale\": [[0.0, \"#0d0887\"], [0.1111111111111111, \"#46039f\"], [0.2222222222222222, \"#7201a8\"], [0.3333333333333333, \"#9c179e\"], [0.4444444444444444, \"#bd3786\"], [0.5555555555555556, \"#d8576b\"], [0.6666666666666666, \"#ed7953\"], [0.7777777777777778, \"#fb9f3a\"], [0.8888888888888888, \"#fdca26\"], [1.0, \"#f0f921\"]], \"type\": \"surface\"}], \"table\": [{\"cells\": {\"fill\": {\"color\": \"#EBF0F8\"}, \"line\": {\"color\": \"white\"}}, \"header\": {\"fill\": {\"color\": \"#C8D4E3\"}, \"line\": {\"color\": \"white\"}}, \"type\": \"table\"}]}, \"layout\": {\"annotationdefaults\": {\"arrowcolor\": \"#2a3f5f\", \"arrowhead\": 0, \"arrowwidth\": 1}, \"coloraxis\": {\"colorbar\": {\"outlinewidth\": 0, \"ticks\": \"\"}}, \"colorscale\": {\"diverging\": [[0, \"#8e0152\"], [0.1, \"#c51b7d\"], [0.2, \"#de77ae\"], [0.3, \"#f1b6da\"], [0.4, \"#fde0ef\"], [0.5, \"#f7f7f7\"], [0.6, \"#e6f5d0\"], [0.7, \"#b8e186\"], [0.8, \"#7fbc41\"], [0.9, \"#4d9221\"], [1, \"#276419\"]], \"sequential\": [[0.0, \"#0d0887\"], [0.1111111111111111, \"#46039f\"], [0.2222222222222222, \"#7201a8\"], [0.3333333333333333, \"#9c179e\"], [0.4444444444444444, \"#bd3786\"], [0.5555555555555556, \"#d8576b\"], [0.6666666666666666, \"#ed7953\"], [0.7777777777777778, \"#fb9f3a\"], [0.8888888888888888, \"#fdca26\"], [1.0, \"#f0f921\"]], \"sequentialminus\": [[0.0, \"#0d0887\"], [0.1111111111111111, \"#46039f\"], [0.2222222222222222, \"#7201a8\"], [0.3333333333333333, \"#9c179e\"], [0.4444444444444444, \"#bd3786\"], [0.5555555555555556, \"#d8576b\"], [0.6666666666666666, \"#ed7953\"], [0.7777777777777778, \"#fb9f3a\"], [0.8888888888888888, \"#fdca26\"], [1.0, \"#f0f921\"]]}, \"colorway\": [\"#636efa\", \"#EF553B\", \"#00cc96\", \"#ab63fa\", \"#FFA15A\", \"#19d3f3\", \"#FF6692\", \"#B6E880\", \"#FF97FF\", \"#FECB52\"], \"font\": {\"color\": \"#2a3f5f\"}, \"geo\": {\"bgcolor\": \"white\", \"lakecolor\": \"white\", \"landcolor\": \"#E5ECF6\", \"showlakes\": true, \"showland\": true, \"subunitcolor\": \"white\"}, \"hoverlabel\": {\"align\": \"left\"}, \"hovermode\": \"closest\", \"mapbox\": {\"style\": \"light\"}, \"paper_bgcolor\": \"white\", \"plot_bgcolor\": \"#E5ECF6\", \"polar\": {\"angularaxis\": {\"gridcolor\": \"white\", \"linecolor\": \"white\", \"ticks\": \"\"}, \"bgcolor\": \"#E5ECF6\", \"radialaxis\": {\"gridcolor\": \"white\", \"linecolor\": \"white\", \"ticks\": \"\"}}, \"scene\": {\"xaxis\": {\"backgroundcolor\": \"#E5ECF6\", \"gridcolor\": \"white\", \"gridwidth\": 2, \"linecolor\": \"white\", \"showbackground\": true, \"ticks\": \"\", \"zerolinecolor\": \"white\"}, \"yaxis\": {\"backgroundcolor\": \"#E5ECF6\", \"gridcolor\": \"white\", \"gridwidth\": 2, \"linecolor\": \"white\", \"showbackground\": true, \"ticks\": \"\", \"zerolinecolor\": \"white\"}, \"zaxis\": {\"backgroundcolor\": \"#E5ECF6\", \"gridcolor\": \"white\", \"gridwidth\": 2, \"linecolor\": \"white\", \"showbackground\": true, \"ticks\": \"\", \"zerolinecolor\": \"white\"}}, \"shapedefaults\": {\"line\": {\"color\": \"#2a3f5f\"}}, \"ternary\": {\"aaxis\": {\"gridcolor\": \"white\", \"linecolor\": \"white\", \"ticks\": \"\"}, \"baxis\": {\"gridcolor\": \"white\", \"linecolor\": \"white\", \"ticks\": \"\"}, \"bgcolor\": \"#E5ECF6\", \"caxis\": {\"gridcolor\": \"white\", \"linecolor\": \"white\", \"ticks\": \"\"}}, \"title\": {\"x\": 0.05}, \"xaxis\": {\"automargin\": true, \"gridcolor\": \"white\", \"linecolor\": \"white\", \"ticks\": \"\", \"title\": {\"standoff\": 15}, \"zerolinecolor\": \"white\", \"zerolinewidth\": 2}, \"yaxis\": {\"automargin\": true, \"gridcolor\": \"white\", \"linecolor\": \"white\", \"ticks\": \"\", \"title\": {\"standoff\": 15}, \"zerolinecolor\": \"white\", \"zerolinewidth\": 2}}}, \"title\": {\"text\": \"Covid-19 Cumulative Cases accross the Globe -- 19-Jun-2020\"}},\n",
       "                        {\"responsive\": true}\n",
       "                    ).then(function(){\n",
       "                            \n",
       "var gd = document.getElementById('e2da415b-2122-4b84-a5ef-88f758f9929e');\n",
       "var x = new MutationObserver(function (mutations, observer) {{\n",
       "        var display = window.getComputedStyle(gd).display;\n",
       "        if (!display || display === 'none') {{\n",
       "            console.log([gd, 'removed!']);\n",
       "            Plotly.purge(gd);\n",
       "            observer.disconnect();\n",
       "        }}\n",
       "}});\n",
       "\n",
       "// Listen for the removal of the full notebook cells\n",
       "var notebookContainer = gd.closest('#notebook-container');\n",
       "if (notebookContainer) {{\n",
       "    x.observe(notebookContainer, {childList: true});\n",
       "}}\n",
       "\n",
       "// Listen for the clearing of the current output cell\n",
       "var outputEl = gd.closest('.output');\n",
       "if (outputEl) {{\n",
       "    x.observe(outputEl, {childList: true});\n",
       "}}\n",
       "\n",
       "                        })\n",
       "                };\n",
       "                });\n",
       "            </script>\n",
       "        </div>"
      ]
     },
     "metadata": {},
     "output_type": "display_data"
    }
   ],
   "source": [
    "fig = iplot(covid_world)"
   ]
  }
 ],
 "metadata": {
  "kernelspec": {
   "display_name": "Python 3",
   "language": "python",
   "name": "python3"
  },
  "language_info": {
   "codemirror_mode": {
    "name": "ipython",
    "version": 3
   },
   "file_extension": ".py",
   "mimetype": "text/x-python",
   "name": "python",
   "nbconvert_exporter": "python",
   "pygments_lexer": "ipython3",
   "version": "3.7.4"
  }
 },
 "nbformat": 4,
 "nbformat_minor": 4
}
